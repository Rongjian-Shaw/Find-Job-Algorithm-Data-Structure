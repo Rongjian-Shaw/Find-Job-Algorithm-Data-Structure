{
 "cells": [
  {
   "cell_type": "markdown",
   "metadata": {},
   "source": [
    "# Greedy"
   ]
  },
  {
   "cell_type": "markdown",
   "metadata": {},
   "source": [
    "** 我们已经见过的Greedy相关的问题：**\n",
    "\n",
    "- Dijkstra"
   ]
  },
  {
   "cell_type": "markdown",
   "metadata": {},
   "source": [
    "### Ex.1 Find Minimum Number of Coins\n",
    "\n",
    "Given a value V, if we want to make change for V, and we have infinite supply of each of the denominations, i.e., we have infinite supply of { 1, 2, 5, 10, 20, 50, 100, 500, 1000} valued coins/notes, what is the minimum number of coins and/or notes needed to make the change?"
   ]
  },
  {
   "cell_type": "markdown",
   "metadata": {},
   "source": [
    "** Solution **\n",
    "\n",
    "Start from largest possible denomination and keep adding denominations while remaining value is greater than 0. Below is complete algorithm.\n",
    "\n",
    "1) Initialize result as empty.\n",
    "\n",
    "2) find the largest denomination that is smaller than V.\n",
    "\n",
    "3) Add found denomination to result. Subtract value of found denomination from V.\n",
    "\n",
    "4) If V becomes 0, then print result. Else repeat steps 2 and 3 for new value of V"
   ]
  },
  {
   "cell_type": "code",
   "execution_count": 13,
   "metadata": {},
   "outputs": [
    {
     "name": "stdout",
     "output_type": "stream",
     "text": [
      "93\n",
      "93\n",
      "93\n",
      "93\n",
      "43\n",
      "3\n",
      "3\n",
      "3\n",
      "1\n"
     ]
    },
    {
     "data": {
      "text/plain": [
       "[50, 20, 20, 2, 1]"
      ]
     },
     "execution_count": 13,
     "metadata": {},
     "output_type": "execute_result"
    }
   ],
   "source": [
    "# O(n)\n",
    "def minCoins(V):\n",
    "    available = [1, 2, 5, 10, 20, 50, 100, 500, 1000]\n",
    "#     count = 0\n",
    "    result = []\n",
    "    left = V\n",
    "    for coin in available[::-1]:\n",
    "        print(left)\n",
    "        result += [coin] * int(left / coin) # must add int(), otherwise it will automatically become float number\n",
    "#         count += int(left / coin)\n",
    "#         if left == 0:\n",
    "#             return count\n",
    "        left = left % coin \n",
    "    return result\n",
    "\n",
    "minCoins(93)"
   ]
  },
  {
   "cell_type": "markdown",
   "metadata": {},
   "source": [
    "### Ex.2 Activity Problem\n",
    "\n",
    "Assume there exist n activities with each of them being represented by a start time si and finish time fi. Two activities i and j are said to be non-conflicting if si ≥ fj or sj ≥ fi. The activity selection problem consists in finding the maximal solution set (S) of non-conflicting activities, or more precisely there must exist no solution set S' such that |S'| > |S| in the case that multiple maximal solutions have equal sizes."
   ]
  },
  {
   "cell_type": "code",
   "execution_count": 14,
   "metadata": {},
   "outputs": [
    {
     "data": {
      "text/plain": [
       "'\\nSolution:\\nIf we wanna find the maximal solution, we try to find many short time and non-conflicting activities. Therefore, we can sort activities by\\nending time first. Then, we pick non-confiliction activities one by one.\\nSince ending early and not conflict with other activities means the activity is short time, so that we can find the maximal solution set(S)\\n'"
      ]
     },
     "execution_count": 14,
     "metadata": {},
     "output_type": "execute_result"
    }
   ],
   "source": [
    "'''\n",
    "Solution:\n",
    "If we wanna find the maximal solution, we try to find many short time and non-conflicting activities. Therefore, we can sort activities by\n",
    "ending time first. Then, we pick non-confiliction activities one by one.\n",
    "Since ending early and not conflict with other activities means the activity is short time, so that we can find the maximal solution set(S)\n",
    "'''"
   ]
  },
  {
   "cell_type": "code",
   "execution_count": 18,
   "metadata": {},
   "outputs": [
    {
     "name": "stdout",
     "output_type": "stream",
     "text": [
      "[(1, 2), (3, 4), (0, 6), (5, 7), (8, 9), (5, 9)]\n"
     ]
    },
    {
     "data": {
      "text/plain": [
       "[(1, 2), (3, 4), (5, 7), (8, 9)]"
      ]
     },
     "execution_count": 18,
     "metadata": {},
     "output_type": "execute_result"
    }
   ],
   "source": [
    "# O(nlogn)\n",
    "def printMaxActivities(acts):\n",
    "    acts.sort(key = lambda x : x[1])\n",
    "    print(acts)\n",
    "    si = -1\n",
    "    result = []\n",
    "    for act in acts:\n",
    "        if act[0] > si:\n",
    "            result.append(act)\n",
    "            si = act[1]\n",
    "    return result\n",
    "\n",
    "acts = [(0,6),(3,4),(1,2),(5,7),(8,9),(5,9)]\n",
    "printMaxActivities(acts)       \n",
    "        "
   ]
  },
  {
   "cell_type": "markdown",
   "metadata": {},
   "source": [
    "### Ex.3 Smallest Number with Given Number of Digits and Sum of Digits\n",
    "\n",
    "How to find the smallest number with given digit sum s and number of digits m?\n",
    "\n",
    "Input  : s = 9, m = 2\n",
    "\n",
    "Output : 18\n",
    "\n",
    "There are many other possible numbers like 45, 54, 90, etc with sum of digits as 9 and number of digits as 2. The smallest of them is 18.\n",
    "\n",
    "Input  : s = 20, m = 3\n",
    "\n",
    "Output : 299"
   ]
  },
  {
   "cell_type": "code",
   "execution_count": null,
   "metadata": {
    "collapsed": true
   },
   "outputs": [],
   "source": [
    "'''\n",
    "Solution:\n",
    "We can find that if we make low digit be big or high digit be small, then the whole digit will be small. But we need to be careful since we\n",
    "always need to leave a digit to highest digit.\n",
    "The reason why we calculate from lowest digit is that if we give highest digit 1, then the left s may bigger than (m-1) * 9\n",
    "'''"
   ]
  },
  {
   "cell_type": "code",
   "execution_count": 41,
   "metadata": {},
   "outputs": [
    {
     "name": "stdout",
     "output_type": "stream",
     "text": [
      "19\n",
      "10\n",
      "1\n"
     ]
    },
    {
     "data": {
      "text/plain": [
       "299"
      ]
     },
     "execution_count": 41,
     "metadata": {},
     "output_type": "execute_result"
    }
   ],
   "source": [
    "# O(m)\n",
    "def findSmallest(m, s):\n",
    "    if s < 1:\n",
    "        return 0\n",
    "    if s > m * 9:\n",
    "        return 0\n",
    "    if m <= 0:\n",
    "        return 0\n",
    "    \n",
    "    highest = 1 # leave 1 to highest digit\n",
    "    s -= 1\n",
    "    rst = 0\n",
    "    cur = 0\n",
    "    for i in range(m):\n",
    "        print(s)\n",
    "        if s > 9:\n",
    "            s -= 9\n",
    "            cur = 9\n",
    "        else:                \n",
    "            cur = s\n",
    "            if i == m - 1: # the last circle\n",
    "                cur += highest\n",
    "            s = 0\n",
    "            \n",
    "        # multiple error, we also could use len(str(rst)) to calculate the digit number of rst\n",
    "        rst = cur * 10 ** i + rst # how many 10 cur times depend on the dight number of rst\n",
    "        \n",
    "    return rst\n",
    "\n",
    "# s = 9\n",
    "# m = 2\n",
    "# findSmallest(m, s)\n",
    "        \n",
    "s = 20\n",
    "m = 3\n",
    "findSmallest(m, s)"
   ]
  },
  {
   "cell_type": "code",
   "execution_count": 27,
   "metadata": {},
   "outputs": [
    {
     "data": {
      "text/plain": [
       "3"
      ]
     },
     "execution_count": 27,
     "metadata": {},
     "output_type": "execute_result"
    }
   ],
   "source": [
    "len(str(123))"
   ]
  },
  {
   "cell_type": "markdown",
   "metadata": {},
   "source": [
    "### Ex.4 Minimum Sum of Two Numbers\n",
    "\n",
    "Given an array of digits (values are from 0 to 9), find the minimum possible sum of two numbers formed from digits of the array. All digits of given array must be used to form the two numbers.\n",
    "\n",
    "Input: [6, 8, 4, 5, 2, 3]\n",
    "\n",
    "Output: 604\n",
    "\n",
    "The minimum sum is formed by numbers \n",
    "\n",
    "358 and 246\n",
    "\n",
    "Input: [5, 3, 0, 7, 4]\n",
    "\n",
    "Output: 82\n",
    "\n",
    "The minimum sum is formed by numbers \n",
    "\n",
    "35 and 047 "
   ]
  },
  {
   "cell_type": "code",
   "execution_count": null,
   "metadata": {
    "collapsed": true
   },
   "outputs": [],
   "source": [
    "'''\n",
    "Solution:\n",
    "We need to keep the two numbers from array to be smallest two. Therefore, we need to sort the array first. Picking smallest number one by one\n",
    "and assign them to two numbers alternatively.\n",
    "'''"
   ]
  },
  {
   "cell_type": "code",
   "execution_count": 44,
   "metadata": {},
   "outputs": [
    {
     "data": {
      "text/plain": [
       "82"
      ]
     },
     "execution_count": 44,
     "metadata": {},
     "output_type": "execute_result"
    }
   ],
   "source": [
    "# O(n)\n",
    "# in order to decrease time complexity, we can use heap to sort\n",
    "import heapq\n",
    "def minSum(a):\n",
    "    heapq.heapify(a)\n",
    "    nums1 = 0\n",
    "    nums2 = 0\n",
    "    while a:\n",
    "        nums1 = nums1 * 10 + heapq.heappop(a)\n",
    "        if a:\n",
    "            nums2 = nums2 * 10 + heapq.heappop(a)\n",
    "    return nums1 + nums2\n",
    "\n",
    "a = [6, 8, 4, 5, 2, 3]\n",
    "minSum(a)\n",
    "\n",
    "a = [5, 3, 0, 7, 4]\n",
    "minSum(a)"
   ]
  },
  {
   "cell_type": "markdown",
   "metadata": {},
   "source": [
    "### Ex.5 Connect N Ropes with Minimum Cost\n",
    "\n",
    "There are given n ropes of different lengths, we need to connect these ropes into one rope. The cost to connect two ropes is equal to sum of their lengths. We need to connect the ropes with minimum cost.\n",
    "\n",
    "For example if we are given 4 ropes of lengths 4, 3, 2 and 6. We can connect the ropes in following ways.\n",
    "\n",
    "1) First connect ropes of lengths 2 and 3. Now we have three ropes of lengths 4, 6 and 5.\n",
    "\n",
    "2) Now connect ropes of lengths 4 and 5. Now we have two ropes of lengths 6 and 9.\n",
    "\n",
    "3) Finally connect the two ropes and all ropes have connected.\n",
    "\n",
    "Total cost for connecting all ropes is 5 + 9 + 15 = 29. "
   ]
  },
  {
   "cell_type": "code",
   "execution_count": null,
   "metadata": {
    "collapsed": true
   },
   "outputs": [],
   "source": [
    "'''\n",
    "We just need to pick two shortest ropes and connect them, so we can use heap to pick.\n",
    "'''"
   ]
  },
  {
   "cell_type": "code",
   "execution_count": 46,
   "metadata": {},
   "outputs": [
    {
     "data": {
      "text/plain": [
       "33"
      ]
     },
     "execution_count": 46,
     "metadata": {},
     "output_type": "execute_result"
    }
   ],
   "source": [
    "# O(n)\n",
    "import heapq\n",
    "def ropeCost(ropes):\n",
    "    heapq.heapify(ropes)\n",
    "    total_cost = 0\n",
    "    while ropes:\n",
    "        first = heapq.heappop(ropes)\n",
    "        second = heapq.heappop(ropes)\n",
    "        cur_cost = first + second\n",
    "        total_cost += cur_cost\n",
    "        if not ropes:\n",
    "            break\n",
    "        heapq.heappush(ropes, cur_cost)\n",
    "    return total_cost\n",
    "\n",
    "ropes = [4,3,2,6]\n",
    "ropeCost(ropes)\n",
    "\n",
    "ropes = [1,3,2,5,4]\n",
    "ropeCost(ropes)"
   ]
  },
  {
   "cell_type": "markdown",
   "metadata": {},
   "source": [
    "### Ex.6 Minimum Number of Platforms Required for a Railway/Bus Station\n",
    "\n",
    "Given arrival and departure times of all trains that reach a railway station, find the minimum number of platforms required for the railway station so that no train waits. We are given two arrays which represent arrival and departure times of trains that stop.\n",
    "\n",
    "Input:  \n",
    "\n",
    "arr[]  = {9:00,  9:40, 9:50,  11:00, 15:00, 18:00}\n",
    "\n",
    "dep[]  = {9:10, 12:00, 11:20, 11:30, 19:00, 20:00}\n",
    "\n",
    "Output: 3\n",
    "\n",
    "There are at-most three trains at a time (time between 11:00 to 11:20)\n"
   ]
  },
  {
   "cell_type": "code",
   "execution_count": null,
   "metadata": {
    "collapsed": true
   },
   "outputs": [],
   "source": [
    "'''\n",
    "The goal is that we need to add stations when we find that arrive time earlier than depature time. So, we can sort the arr[] and the dep[] \n",
    "first, and use two pointers to find that how many times they overlap.\n",
    "'''"
   ]
  },
  {
   "cell_type": "code",
   "execution_count": 48,
   "metadata": {},
   "outputs": [
    {
     "data": {
      "text/plain": [
       "3"
      ]
     },
     "execution_count": 48,
     "metadata": {},
     "output_type": "execute_result"
    }
   ],
   "source": [
    "def findPlatform(arr, dep):\n",
    "    if not arr or not dep:\n",
    "        return 0\n",
    "    n = len(arr)\n",
    "    arr.sort()\n",
    "    dep.sort()\n",
    "    i = 0 # pointer\n",
    "    j = 0\n",
    "    local = 0 # local stations\n",
    "    maximum = 0 # maximum stations\n",
    "    while i < n and j < n:\n",
    "        if arr[i] < dep[j]: # overlap\n",
    "            local += 1\n",
    "            maximum = max(maximum, local)\n",
    "            i += 1\n",
    "        else:\n",
    "            local -= 1\n",
    "            j += 1\n",
    "    return maximum\n",
    "\n",
    "arr = [900, 940, 950, 1100, 1500, 1800]\n",
    "dep = [910, 1200, 1120, 1130, 1900, 2000]\n",
    "n = len(arr)\n",
    "findPlatform(arr, dep)"
   ]
  },
  {
   "cell_type": "markdown",
   "metadata": {},
   "source": [
    "# Greedy II"
   ]
  },
  {
   "cell_type": "markdown",
   "metadata": {},
   "source": [
    "### Ex.1 Fractional Knapsack Problem\n",
    "\n",
    "Given weights and values of n items, we need put these items in a knapsack of capacity W to get the maximum total value in the knapsack.\n",
    "\n",
    "In the 0-1 Knapsack problem, we are not allowed to break items. We either take the whole item or don’t take it.\n",
    "\n",
    "In Fractional Knapsack, we can break items for maximizing the total value of knapsack. This problem in which we can break item also called fractional knapsack problem."
   ]
  },
  {
   "cell_type": "markdown",
   "metadata": {},
   "source": [
    "** Solution **\n",
    "\n",
    "A brute-force solution would be to try all possible subset with all different fraction but that will be too much time taking.\n",
    "\n",
    "An efficient solution is to use Greedy approach. The basic idea of greedy approach is to calculate the ratio value/weight for each item and sort the item on basis of this ratio. Then take the item with highest ratio and add them until we can’t add the next item as whole and at the end add the next item as much as we can. Which will always be optimal solution of this problem."
   ]
  },
  {
   "cell_type": "code",
   "execution_count": 57,
   "metadata": {},
   "outputs": [
    {
     "name": "stdout",
     "output_type": "stream",
     "text": [
      "[(4.0, 30, 120), (3.0, 24, 72), (2.0, 50, 100)]\n"
     ]
    },
    {
     "data": {
      "text/plain": [
       "180.0"
      ]
     },
     "execution_count": 57,
     "metadata": {},
     "output_type": "execute_result"
    }
   ],
   "source": [
    "# O(n)\n",
    "def fracKnapsack(capacity, weights, values):\n",
    "    num = len(weights)\n",
    "    valuePerWeight = sorted([(v/w, w, v) for v,w in zip(values, weights)], reverse = True)\n",
    "    print(valuePerWeight)\n",
    "    left = capacity\n",
    "    totalValue = 0\n",
    "    for vpw in valuePerWeight: # remember to turn to next item\n",
    "        if left >= valuePerWeight[0][1]:\n",
    "            left -= vpw[1]\n",
    "            totalValue += vpw[2]\n",
    "        else:\n",
    "            totalValue += left * vpw[0]\n",
    "            break\n",
    "    return totalValue\n",
    "\n",
    "n = 3\n",
    "capacity = 50\n",
    "values = [72, 100, 120]\n",
    "weights = [24, 50, 30]\n",
    "fracKnapsack(capacity, weights, values)"
   ]
  },
  {
   "cell_type": "markdown",
   "metadata": {},
   "source": [
    "### Ex.3 Minimum Cost to Cut Board into Squares\n",
    "\n",
    "A board of length m and width n is given, we need to break this board into m*n squares such that cost of breaking is minimum. cutting cost for each edge will be given for the board. In short we need to choose such a sequence of cutting such that cost is minimized.\n",
    "\n",
    "<img src=\"../images/ch27/board.png\" width=\"460\"/>"
   ]
  },
  {
   "cell_type": "code",
   "execution_count": null,
   "metadata": {
    "collapsed": true
   },
   "outputs": [],
   "source": [
    "'''\n",
    "For above board optimal way to cut into square is:\n",
    "Total minimum cost in above case is 42. It is \n",
    "evaluated using following steps.\n",
    "\n",
    "Initial Value : Total_cost = 0\n",
    "Total_cost = Total_cost + edge_cost * total_pieces\n",
    "\n",
    "Cost 4 Horizontal cut      Cost = 0 + 4*1 = 4\n",
    "Cost 4 Vertical cut        Cost = 4 + 4*2 = 12\n",
    "Cost 3 Vertical cut        Cost = 12 + 3*2 = 18\n",
    "Cost 2 Horizontal cut      Cost = 18 + 2*3 = 24\n",
    "Cost 2 Vertical cut        Cost = 24 + 2*3 = 30\n",
    "Cost 1 Horizontal cut      Cost = 30 + 1*4 = 34\n",
    "Cost 1 Vertical cut        Cost = 34 + 1*4 = 38\n",
    "Cost 1 Vertical cut        Cost = 38 + 1*4 = 42\n",
    "'''\n",
    "''"
   ]
  },
  {
   "cell_type": "markdown",
   "metadata": {},
   "source": [
    "Solution:\n",
    "\n",
    "This problem can be solved using greedy approach, If total cost is denoted by S, then S = a1w1 + a2w2 … + akwk, where wi is a cost of certain edge cutting and ai is corresponding coefficient, The coefficient ai is determined by the total number of cuts we have competed using edge wi at the end of the cutting process. Notice that sum of the coefficients are always constant, hence we want to find a distribution of ai obtainable such that S is minimum. To do so we perform cuts on highest cost edge as early as possible, which will reach to optimal S. If we encounter several edges having the same cost, we can cut any one of them first.\n",
    "\n",
    "Below is the solution using above approach, first we sorted the edge cutting costs in reverse order, then we loop in them from higher cost to lower cost building our solution. Each time we choose an edge, counter part count is incremented by 1, which is to be multiplied each time with corresponding edge cutting cost."
   ]
  },
  {
   "cell_type": "code",
   "execution_count": 62,
   "metadata": {},
   "outputs": [
    {
     "name": "stdout",
     "output_type": "stream",
     "text": [
      "42\n"
     ]
    }
   ],
   "source": [
    "# O(n)\n",
    "def minimumCostOfBreaking(X, Y):\n",
    "    res = 0\n",
    "    X.sort(reverse = True) # sort horizotal cost\n",
    "    Y.sort(reverse = True) # sort verticle cost\n",
    "    m = len(X)\n",
    "    n = len(Y)\n",
    "    i = 0 # pointer\n",
    "    j = 0\n",
    "    horzt = 1 # means how many areas horizontal has \n",
    "    vert = 1\n",
    "    while i < m and j < n: # error: while i and j:\n",
    "        if X[i] > Y[j]: # cut X[i]\n",
    "            res += X[i] * vert \n",
    "            i += 1\n",
    "            horzt += 1\n",
    "        else:\n",
    "            res += Y[j] * horzt\n",
    "            j += 1\n",
    "            vert += 1\n",
    "    \n",
    "    # finish the rest\n",
    "    total = 0\n",
    "    while i < m:\n",
    "        total += X[i] * vert\n",
    "        i += 1\n",
    "    \n",
    "    while j < n:\n",
    "        total += Y[j] * horzt\n",
    "        j += 1\n",
    "    \n",
    "    res += total\n",
    "    \n",
    "    return res\n",
    "\n",
    "m, n = 5, 3\n",
    "X = [2, 1, 3, 1, 4]\n",
    "Y = [4, 1, 2]\n",
    " \n",
    "print(minimumCostOfBreaking(X, Y))"
   ]
  },
  {
   "cell_type": "markdown",
   "metadata": {},
   "source": [
    "### Ex.4 Lexicographically Smallest Array After at-most K Consecutive Swaps\n",
    "\n",
    "Given an array arr[], find the lexicographically smallest array that can be obtained after performing at maximum of k consecutive swaps.\n",
    "\n",
    "Examples :\n",
    "\n",
    "** Input:  **\n",
    "\n",
    "arr = [7, 6, 9, 2, 1], k = 3\n",
    "\n",
    "Output: arr = [2, 7, 6, 9, 1]\n",
    "\n",
    "Explanation: \n",
    "\n",
    "Array is: 7, 6, 9, 2, 1\n",
    "\n",
    "Swap 1:   7, 6, 2, 9, 1\n",
    "\n",
    "Swap 2:   7, 2, 6, 9, 1\n",
    "\n",
    "Swap 3:   2, 7, 6, 9, 1\n",
    "\n",
    "So Our final array after k = 3 swaps : \n",
    "\n",
    "2, 7, 6, 9, 1\n",
    "\n",
    "** Input:  **\n",
    "\n",
    "arr = [7, 6, 9, 2, 1], k = 1\n",
    "\n",
    "Output: arr = [6, 7, 9, 2, 1]"
   ]
  },
  {
   "cell_type": "markdown",
   "metadata": {},
   "source": [
    "** Solution: **\n",
    "\n",
    "** Naive approach ** is to generate all the permutation of array and pick the smallest one which satisfy the condition of at-most k swaps. Time complexity of this approach is Ω(n!), which will definitely time out for large value of n.\n",
    "\n",
    "An** Efficient** approach is to think greedily. We first pick the smallest element from array a1, a2, a3…(ak or an) [We consider ak when k is smaller, else n]. We place the smallest element to the a0 position after shifting all these elements by 1 position right. We subtract number of swaps (number of swaps is number of shifts minus 1) from k. If still we are left with k > 0 then we apply the same procedure from the very next starting position i.e., a2, a3,…(ak or an) and then place it to the a1 position. So we keep applying the same process until k becomes 0."
   ]
  },
  {
   "cell_type": "code",
   "execution_count": 83,
   "metadata": {},
   "outputs": [
    {
     "name": "stdout",
     "output_type": "stream",
     "text": [
      "[2, 7, 6, 9, 1]\n",
      "[2, 7, 6, 9, 1]\n"
     ]
    }
   ],
   "source": [
    "# O(nk)\n",
    "def minimizeWithKSwaps(arr, k):\n",
    "    if not arr: # error: not\n",
    "        return arr\n",
    "    n = len(arr)\n",
    "    \n",
    "    for i in range(n):\n",
    "        pos = i\n",
    "        minimum = arr[i]\n",
    "        for j in range(i, k + 1):\n",
    "            if arr[j] < minimum:\n",
    "                minimum = arr[j]\n",
    "                pos = j\n",
    "#         print(pos)\n",
    "        \n",
    "        for j in range(pos, i, -1): # tip: it will only exact until i+1\n",
    "            arr[j], arr[j - 1] = arr[j - 1], arr[j]\n",
    "            k -= 1\n",
    "        print(arr)\n",
    "        if k == 0:\n",
    "            break\n",
    "    return arr\n",
    "\n",
    "k = 3\n",
    "arr = [7, 6, 9, 2, 1]\n",
    "print(minimizeWithKSwaps(arr, k))"
   ]
  },
  {
   "cell_type": "markdown",
   "metadata": {},
   "source": [
    "** Ex. 7 Minimum Jumps to Reach End **\n",
    "\n",
    "Given an array of non-negative integers, you are initially positioned at the first index of the array.\n",
    "\n",
    "Each element in the array represents your maximum jump length at that position.\n",
    "\n",
    "Determine if you are able to reach the last index.\n",
    "\n",
    "For example:\n",
    "    \n",
    "A = [2,3,1,1,4], return true.\n",
    "\n",
    "A = [3,2,1,0,4], return false.\n",
    "\n",
    "** Follow up:**\n",
    "\n",
    "Your goal is to reach the last index in the minimum number of jumps."
   ]
  },
  {
   "cell_type": "code",
   "execution_count": null,
   "metadata": {
    "collapsed": true
   },
   "outputs": [],
   "source": [
    "'''\n",
    "Solution1(Backtracking):\n",
    "exit: cur == end\n",
    "maxJump = (cur + 1, cur + A[cur])\n",
    "'''"
   ]
  },
  {
   "cell_type": "code",
   "execution_count": 91,
   "metadata": {},
   "outputs": [
    {
     "data": {
      "text/plain": [
       "False"
      ]
     },
     "execution_count": 91,
     "metadata": {},
     "output_type": "execute_result"
    }
   ],
   "source": [
    "O(2^n)\n",
    "def JumpToEnd(A, cur):\n",
    "    if cur == len(A) - 1:\n",
    "        return True\n",
    "    maxJump = cur + A[cur]\n",
    "    for i in range(cur + 1, maxJump + 1):\n",
    "        if JumpToEnd(A, i):\n",
    "            return True\n",
    "    return False\n",
    "\n",
    "A = [2, 3, 1, 1, 4]\n",
    "cur = 0\n",
    "JumpToEnd(A, cur)\n",
    "\n",
    "A = [3, 2, 1, 0, 4]\n",
    "cur = 0\n",
    "JumpToEnd(A, cur)"
   ]
  },
  {
   "cell_type": "code",
   "execution_count": null,
   "metadata": {
    "collapsed": true
   },
   "outputs": [],
   "source": [
    "'''\n",
    "Solution2(DP):\n",
    "We can calculate for end to head. We can label DP[-1] = True and then iterate from end to hean to judge if dp[cur + 1, maxJump] of every member\n",
    "are True\n",
    "'''"
   ]
  },
  {
   "cell_type": "code",
   "execution_count": 98,
   "metadata": {},
   "outputs": [
    {
     "name": "stdout",
     "output_type": "stream",
     "text": [
      "[True, True, True, True, True]\n",
      "[False, False, False, False, True]\n"
     ]
    },
    {
     "data": {
      "text/plain": [
       "False"
      ]
     },
     "execution_count": 98,
     "metadata": {},
     "output_type": "execute_result"
    }
   ],
   "source": [
    "O(n^2)\n",
    "def JumpToEnd2(A):\n",
    "    if not A:\n",
    "        return True\n",
    "    dp = [False for i in range(len(A))]\n",
    "    dp[-1] = True\n",
    "    for m in range(len(A) - 2, -1, -1): # -2 -> len(A) - 2\n",
    "        maxJump = min(m + A[m], len(A) - 1)\n",
    "        for i in range(m, maxJump + 1):\n",
    "            if dp[i] == True:\n",
    "                dp[m] = True\n",
    "                break\n",
    "    print(dp)\n",
    "    if dp[0] == True:\n",
    "        return True\n",
    "    else:\n",
    "        return False\n",
    "\n",
    "A = [2, 3, 1, 1, 4]\n",
    "JumpToEnd2(A)\n",
    "\n",
    "A = [3, 2, 1, 0, 4]\n",
    "JumpToEnd2(A)"
   ]
  },
  {
   "cell_type": "code",
   "execution_count": null,
   "metadata": {
    "collapsed": true
   },
   "outputs": [],
   "source": [
    "'''\n",
    "Solution3(Greedy):\n",
    "very similar to dp. we need to use a minYes to record the nearest element which could reach end in the process of iteration. When we find that \n",
    "cur + A[cur] > minYes, then we can know cur can reach the end. At the same time, we update cur as minYes.\n",
    "'''"
   ]
  },
  {
   "cell_type": "code",
   "execution_count": 101,
   "metadata": {},
   "outputs": [
    {
     "data": {
      "text/plain": [
       "False"
      ]
     },
     "execution_count": 101,
     "metadata": {},
     "output_type": "execute_result"
    }
   ],
   "source": [
    "def JumpToEnd3(A):\n",
    "    if not A:\n",
    "        return True\n",
    "    minYes = len(A) - 1\n",
    "    for i in range(len(A) - 2, -1, -1):\n",
    "        if i + A[i] >= minYes:\n",
    "            minYes = i\n",
    "        if minYes == 0:\n",
    "            return True\n",
    "    return False\n",
    "\n",
    "A = [2, 3, 1, 1, 4]\n",
    "JumpToEnd3(A)\n",
    "\n",
    "A = [3, 2, 1, 0, 4]\n",
    "JumpToEnd3(A)"
   ]
  },
  {
   "cell_type": "code",
   "execution_count": null,
   "metadata": {
    "collapsed": true
   },
   "outputs": [],
   "source": []
  }
 ],
 "metadata": {
  "kernelspec": {
   "display_name": "Python 3",
   "language": "python",
   "name": "python3"
  },
  "language_info": {
   "codemirror_mode": {
    "name": "ipython",
    "version": 3
   },
   "file_extension": ".py",
   "mimetype": "text/x-python",
   "name": "python",
   "nbconvert_exporter": "python",
   "pygments_lexer": "ipython3",
   "version": "3.6.1"
  }
 },
 "nbformat": 4,
 "nbformat_minor": 2
}
