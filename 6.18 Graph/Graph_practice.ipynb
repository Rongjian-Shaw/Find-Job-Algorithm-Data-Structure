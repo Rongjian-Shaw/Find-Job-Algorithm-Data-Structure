{
 "cells": [
  {
   "cell_type": "markdown",
   "metadata": {
    "collapsed": true
   },
   "source": [
    "# Graph II - AdjListGraph #\n",
    "\n",
    "<img src=\"../images/ch17/listrepr.png\" width=\"640\"/>"
   ]
  },
  {
   "cell_type": "code",
   "execution_count": 1,
   "metadata": {},
   "outputs": [
    {
     "name": "stdout",
     "output_type": "stream",
     "text": [
      "[('a', 'b', 1), ('a', 'c', 1), ('b', 'd', 1), ('b', 'e', 1), ('c', 'd', 1), ('c', 'e', 1), ('d', 'e', 1), ('e', 'a', 1)]\n",
      "('a', 'b', 1)\n",
      "('a', 'c', 1)\n",
      "('b', 'd', 1)\n",
      "('b', 'e', 1)\n",
      "('c', 'd', 1)\n",
      "('c', 'e', 1)\n",
      "('d', 'e', 1)\n",
      "('e', 'a', 1)\n"
     ]
    }
   ],
   "source": [
    "import sys\n",
    "class Vertex:\n",
    "    def __init__(self, node):\n",
    "        self.id = node\n",
    "        self.adjacent = {} # {Vertex:weigh}\n",
    "        # Set distance to infinity for all nodes\n",
    "        self.distance = sys.maxsize\n",
    "        # Mark all nodes unvisited        \n",
    "        self.visited = False  \n",
    "        # Predecessor\n",
    "        self.previous = None\n",
    "\n",
    "    def addNeighbor(self, neighbor, weigh = 0):\n",
    "        self.adjacent[neighbor] = weigh\n",
    "        \n",
    "    def getConnections(self):\n",
    "        return self.adjacent.keys()\n",
    "        \n",
    "    def getVertexID(self):\n",
    "        return self.id\n",
    "        \n",
    "    def getWeight(self, neighbor):\n",
    "        return self.adjacent[neighbor]\n",
    "        \n",
    "    def setPrevious(self, prev):\n",
    "        self.previous = prev\n",
    "\n",
    "    def setVisited(self):\n",
    "        self.visited = True\n",
    "        \n",
    "    def __str__(self):\n",
    "        return self.id + ' adjacent: ' + str([x for x in self.adjacent.keys()])\n",
    "        \n",
    "    \n",
    "    def __lt__(self, other):\n",
    "         return self.id < other.id\n",
    "        \n",
    "\n",
    "class Graph:\n",
    "    def __init__(self, directed=False):\n",
    "        # key is string, vertex id\n",
    "        # value is Vertex\n",
    "        self.vertDictionary = {} # {id:Vertex}\n",
    "        self.numVertices = 0\n",
    "        self.directed = directed\n",
    "        \n",
    "    def __iter__(self):\n",
    "        return iter(self.vertDictionary.values())\n",
    "\n",
    "    def isDirected(self):\n",
    "        return self.directed\n",
    "    \n",
    "    def vectexCount(self):\n",
    "        return self.numVertices\n",
    "\n",
    "    def addVertex(self, node):\n",
    "        newVertex = Vertex(node)\n",
    "        self.numVertices += 1\n",
    "        self.vertDictionary[node] = newVertex\n",
    "        return newVertex\n",
    "\n",
    "    def getVertex(self, n):\n",
    "        if n in self.vertDictionary:\n",
    "            return self.vertDictionay[n]\n",
    "        else:\n",
    "            return None\n",
    "\n",
    "    def addEdge(self, frm, to, cost=0):\n",
    "        if frm not in self.vertDictionary:\n",
    "            self.addVertex(frm)\n",
    "        if to not in self.vertDictionary:\n",
    "            self.addVertex(to)\n",
    "        self.vertDictionary[frm].addNeighbor(self.vertDictionary[to], cost)\n",
    "        if not self.directed:\n",
    "            self.vertDictionary[to].addNeighbor(self.vertDictionary[frm], cost)\n",
    "\n",
    "    def getVertices(self):\n",
    "        return self.vertDictionary.keys()\n",
    "\n",
    "    def setPrevious(self, current, prev):\n",
    "        if current in self.vertDictionary:\n",
    "            current.setPrevious(prev)\n",
    "\n",
    "    def getPrevious(self, current):\n",
    "        if current in self.vertDictionary:\n",
    "            return current.getPrevious()\n",
    "\n",
    "    def getEdges(self):\n",
    "        edges = []\n",
    "        for keys, vertex in self.vertDictionary.items():\n",
    "            for neighbor in vertex.getConnections():\n",
    "                edges.append((vertex.getVertexID(), neighbor.getVertexID(), vertex.getWeight(neighbor))) #tuple\n",
    "        return edges\n",
    "    \n",
    "    def getNeighbors(self, v):\n",
    "        if v in self.vertDictionary:\n",
    "            vertex = self.vertDictionary[v]\n",
    "            return vertex.getConnections()\n",
    "        \n",
    "G = Graph(True)\n",
    "G.addVertex('a')\n",
    "G.addVertex('b')\n",
    "G.addVertex('c')\n",
    "G.addVertex('d')\n",
    "G.addVertex('e')\n",
    "G.addVertex('f')\n",
    "G.addEdge('a', 'b', 1)  \n",
    "G.addEdge('a', 'c', 1)\n",
    "G.addEdge('b', 'd', 1)\n",
    "G.addEdge('b', 'e', 1)\n",
    "G.addEdge('c', 'd', 1)\n",
    "G.addEdge('c', 'e', 1)\n",
    "G.addEdge('d', 'e', 1)\n",
    "G.addEdge('e', 'a', 1)\n",
    "print (G.getEdges())\n",
    "for k in G.getEdges():\n",
    "    print(k)"
   ]
  },
  {
   "cell_type": "code",
   "execution_count": 2,
   "metadata": {
    "collapsed": true
   },
   "outputs": [],
   "source": [
    "# DFS:\n",
    "def DFS(S, G, visited, parents):\n",
    "    if S == G:\n",
    "        return\n",
    "    for n in S.getConnections():\n",
    "        if n not in visited:\n",
    "            visited.add(n.getVertexID())\n",
    "            parents[n] = S\n",
    "            DFS(n, G, visited, parents)"
   ]
  },
  {
   "cell_type": "code",
   "execution_count": 3,
   "metadata": {
    "collapsed": true
   },
   "outputs": [],
   "source": [
    "# DFS_traversal:\n",
    "def DFSTraversal(S, G):\n",
    "    visited = []\n",
    "    parents = {}\n",
    "    stack = [S]\n",
    "    while stack:\n",
    "        cur = stack.pop()\n",
    "        for neighbor in cur.getNeighbor():\n",
    "            if neighbor not in visited:\n",
    "                visited.add(n.getVertexID())\n",
    "                parents[neighbor] = cur.getVertexID()\n",
    "                stack.append(neighbor)"
   ]
  },
  {
   "cell_type": "markdown",
   "metadata": {},
   "source": [
    "# Dijkstra Algorithm #"
   ]
  },
  {
   "cell_type": "code",
   "execution_count": 4,
   "metadata": {},
   "outputs": [
    {
     "name": "stdout",
     "output_type": "stream",
     "text": [
      "( a , b,   4)\n",
      "( a , c,   1)\n",
      "( b , e,   4)\n",
      "( c , b,   2)\n",
      "( c , d,   4)\n",
      "( d , e,   4)\n",
      "Updated : current = a next = b newDist = 4\n",
      "Updated : current = a next = c newDist = 1\n",
      "Updated : current = c next = b newDist = 3\n",
      "Updated : current = c next = d newDist = 5\n",
      "Updated : current = b next = e newDist = 7\n",
      "Not updated : current = d next = e newDist = 7\n",
      "a  to  a --> 0\n",
      "a  to  b --> 3\n",
      "a  to  c --> 1\n",
      "a  to  d --> 5\n",
      "a  to  e --> 7\n",
      "The shortest path from a to e is: ['a', 'c', 'b', 'e']\n"
     ]
    }
   ],
   "source": [
    "from AdjListGraph import Graph\n",
    "from AdjListGraph import Vertex\n",
    "import heapq \n",
    "\n",
    "def dijkstra(G, source, destination):\n",
    "    \"\"\"\n",
    "    G: Graph\n",
    "    source: source vertex\n",
    "    destination: destination vertex\n",
    "    \"\"\"\n",
    "    source.setDistance(0) # the distance of source to source is 0\n",
    "    unvisitedQueue = [(v.getDistance(), v) for v in G] # use the distance as standard, popping the shortest distance vertex every times\n",
    "    heapq.heapify(unvisitedQueue)\n",
    "    \n",
    "    # 如果有一个点和任何一个点都没有联系会如何？\n",
    "    while len(unvisitedQueue):\n",
    "        # pop a vertex with smallest distance\n",
    "        uv = heapq.heappop(unvisitedQueue)\n",
    "        cur = uv[1] # get the vertex\n",
    "        cur.setVisited() # visited means that the distance of cur has been shortest\n",
    "        \n",
    "        for nx in cur.adjacent: # find all of neighbor\n",
    "            if nx.visited:\n",
    "                continue\n",
    "            newDistance = cur.getDistance() + cur.getWeight(nx)\n",
    "            \n",
    "            if newDistance < nx.getDistance():\n",
    "                nx.setDistance(newDistance)\n",
    "                nx.setPrevious(cur)\n",
    "                print('Updated : current = %s next = %s newDist = %s' \\\n",
    "                        % (cur.getVertexID(), nx.getVertexID(), nx.getDistance()))\n",
    "            else:\n",
    "                print('Not updated : current = %s next = %s newDist = %s' \\\n",
    "                        % (cur.getVertexID(), nx.getVertexID(), nx.getDistance()))\n",
    "        \n",
    "def shortest(v, path):\n",
    "    if v.previous:\n",
    "        path.append(v.previous.getVertexID())\n",
    "        shortest(v.previous, path)\n",
    "    return \n",
    "\n",
    "G = Graph(True)\n",
    "G.addVertex('a')\n",
    "G.addVertex('b')\n",
    "G.addVertex('c')\n",
    "G.addVertex('d')\n",
    "G.addVertex('e')\n",
    "G.addEdge('a', 'b', 4)  \n",
    "G.addEdge('a', 'c', 1)\n",
    "G.addEdge('c', 'b', 2)\n",
    "G.addEdge('b', 'e', 4)\n",
    "G.addEdge('c', 'd', 4)\n",
    "G.addEdge('d', 'e', 4)\n",
    "\n",
    "for v in G:\n",
    "    for w in v.getConnections():\n",
    "        vid = v.getVertexID()\n",
    "        wid = w.getVertexID()\n",
    "        print('( %s , %s, %3d)' % (vid, wid, v.getWeight(w)))\n",
    "\n",
    "source = G.getVertex('a')\n",
    "destination = G.getVertex('e')    \n",
    "dijkstra(G, source, destination) \n",
    "\n",
    "for v in G.vertDictionary.values():\n",
    "    print(source.getVertexID(), \" to \", v.getVertexID(), \"-->\", v.getDistance())\n",
    "\n",
    "path = [destination.getVertexID()]\n",
    "shortest(destination, path)\n",
    "print ('The shortest path from a to e is: %s' % (path[::-1]))"
   ]
  },
  {
   "cell_type": "markdown",
   "metadata": {},
   "source": [
    "# Graph Maze #"
   ]
  },
  {
   "cell_type": "markdown",
   "metadata": {},
   "source": [
    "### <a id='Ex1'>Ex.1 The Maze</a>\n",
    "\n",
    "There is a ball in a maze with empty spaces and walls. The ball can go through empty spaces by rolling up, down, left or right.\n",
    "\n",
    "Given the ball's start position, the destination and the maze, determine whether the ball could stop at the destination.\n",
    "\n",
    "The maze is represented by a binary 2D array. 1 means the wall and 0 means the empty space. You may assume that the borders of the maze are all walls. The start and destination coordinates are represented by row and column indexes.\n",
    "\n",
    "\n",
    "<img src=\"../images/ch17/maze1.png\" width=\"560\"/>"
   ]
  },
  {
   "cell_type": "code",
   "execution_count": 1,
   "metadata": {},
   "outputs": [
    {
     "name": "stdout",
     "output_type": "stream",
     "text": [
      "False\n",
      "True\n"
     ]
    }
   ],
   "source": [
    "def dfs(matrix, start, dest):\n",
    "    visited = [[False]*len(matrix[0]) for _ in range(len(matrix))]\n",
    "    return dfsHelper(matrix, start, dest, visited)\n",
    "    \n",
    "def dfsHelper(matrix, start, dest, visited):\n",
    "    if start[0] == dest[0] and start[1] == dest[1]:\n",
    "        return True\n",
    "    \n",
    "    direction = [[0,1], [0,-1], [1,0], [-1,0]]\n",
    "    \n",
    "    for d in direction:\n",
    "        x = start[0] + d[0]\n",
    "        y = start[1] + d[1]\n",
    "        if x < 0 or x > len(matrix) - 1 or y < 0 or y > len(matrix[0]) - 1:\n",
    "            continue\n",
    "        if matrix[x][y] == 1:\n",
    "            continue\n",
    "        if visited[x][y]:\n",
    "            continue\n",
    "        visited[x][y] = True\n",
    "        if(dfsHelper(matrix, [x, y], dest, visited)):\n",
    "            return True\n",
    "    \n",
    "    return False\n",
    "\n",
    "\n",
    "matrix = [\n",
    "    [0, 0, 1, 0, 0],\n",
    "    [0, 0, 0, 0, 0],\n",
    "    [0, 0, 0, 1, 0],\n",
    "    [1, 1, 1, 1, 1],\n",
    "    [0, 0, 0, 0, 0]\n",
    "]\n",
    "\n",
    "start = (0, 0)\n",
    "dest  = (4, 4)\n",
    "print(dfs(matrix, start, dest))\n",
    "\n",
    "matrix = [\n",
    "    [0, 0, 1, 0, 0],\n",
    "    [0, 0, 0, 0, 0],\n",
    "    [0, 0, 0, 1, 0],\n",
    "    [1, 1, 0, 1, 1],\n",
    "    [0, 0, 0, 0, 0]\n",
    "]\n",
    "\n",
    "start = (0, 0)\n",
    "dest  = (4, 4)\n",
    "dfs(matrix, start, dest)\n",
    "print(dfs(matrix, start, dest))"
   ]
  },
  {
   "cell_type": "code",
   "execution_count": 28,
   "metadata": {},
   "outputs": [
    {
     "name": "stdout",
     "output_type": "stream",
     "text": [
      "False\n",
      "True\n"
     ]
    }
   ],
   "source": [
    "def dfsIterative(matrix, start, dest):\n",
    "    visited = [[False]*len(matrix[0]) for _ in range(len(matrix))]\n",
    "    stack = []\n",
    "    stack.append(start)\n",
    "    visited[start[0]][start[1]] = True\n",
    "    dirction = [[0,1], [0,-1], [1,0], [-1,0]]\n",
    "    \n",
    "    while len(stack) > 0:\n",
    "        cur = stack.pop()\n",
    "        if cur[0] == dest[0] and cur[1] == dest[1]:\n",
    "            return True\n",
    "        for dirc in dirction:\n",
    "            x = cur[0] + dirc[0]\n",
    "            y = cur[1] + dirc[1]\n",
    "\n",
    "            if x < 0 or x >= len(matrix) or y < 0 or y >= len(matrix[0]):\n",
    "                continue\n",
    "            if visited[x][y] is True:\n",
    "                continue\n",
    "            if matrix[x][y] == 1:\n",
    "                continue\n",
    "            visited[x][y] = True\n",
    "\n",
    "            stack.append((x,y))\n",
    "    return False\n",
    "\n",
    "matrix = [\n",
    "    [0, 0, 1, 0, 0],\n",
    "    [0, 0, 0, 0, 0],\n",
    "    [0, 0, 0, 1, 0],\n",
    "    [1, 1, 1, 1, 1],\n",
    "    [0, 0, 0, 0, 0]\n",
    "]\n",
    "\n",
    "start = (0, 0)\n",
    "dest  = (4, 4)\n",
    "print(dfsIterative(matrix, start, dest))\n",
    "\n",
    "matrix = [\n",
    "    [0, 0, 1, 0, 0],\n",
    "    [0, 0, 0, 0, 0],\n",
    "    [0, 0, 0, 1, 0],\n",
    "    [1, 1, 0, 1, 1],\n",
    "    [0, 0, 0, 0, 0]\n",
    "]\n",
    "\n",
    "start = (0, 0)\n",
    "dest  = (4, 4)\n",
    "dfs(matrix, start, dest)\n",
    "print(dfsIterative(matrix, start, dest))\n",
    "        \n",
    "    "
   ]
  },
  {
   "cell_type": "markdown",
   "metadata": {},
   "source": [
    "### <a id='Ex2'>Ex.2 The Maze II</a>\n",
    "\n",
    "There is a ball in a maze with empty spaces and walls. The ball can go through empty spaces by rolling up, down, left or right. <font color='Red'>but it won't stop rolling until hitting a wall. When the ball stops, it could choose the next direction.</font>\n",
    "\n",
    "Given the ball's start position, the destination and the maze, determine whether the ball could stop at the destination.\n",
    "\n",
    "The maze is represented by a binary 2D array. 1 means the wall and 0 means the empty space. You may assume that the borders of the maze are all walls. The start and destination coordinates are represented by row and column indexes.\n",
    "\n",
    "<img src=\"../images/ch17/maze2.png\" width=\"640\"/>\n",
    "<img src=\"../images/ch17/maze3.png\" width=\"640\"/>"
   ]
  },
  {
   "cell_type": "code",
   "execution_count": 32,
   "metadata": {},
   "outputs": [
    {
     "name": "stdout",
     "output_type": "stream",
     "text": [
      "True\n"
     ]
    }
   ],
   "source": [
    "def dfs2(matrix, start, dest):\n",
    "    visited = [[False]*len(matrix[0]) for _ in range(len(matrix))]\n",
    "    return dfs2Helper(matrix, start, dest, visited)\n",
    "\n",
    "def dfs2Helper(matrix, start, dest, visited):\n",
    "    if matrix[start[0]][start[1]] == 1:\n",
    "        return False\n",
    "    if visited[start[0]][start[1]]:\n",
    "        return False\n",
    "    if start[0] == dest[0] and start[1] == dest[1]:\n",
    "        return True\n",
    "    \n",
    "    visited[start[0]][start[1]] = True\n",
    "    \n",
    "    r = start[1] + 1\n",
    "    l = start[1] - 1\n",
    "    u = start[0] - 1\n",
    "    d = start[0] + 1\n",
    "    \n",
    "    while r < len(matrix[0]) and matrix[start[0]][r] == 0:\n",
    "        r += 1\n",
    "    newNeighbor = (start[0], r - 1)\n",
    "    if(dfs2Helper(matrix, newNeighbor, dest, visited)):\n",
    "        return True\n",
    "    \n",
    "    while l > 0 and matrix[start[0]][l] == 0:\n",
    "        l -= 1\n",
    "    newNeighbor = (start[0], l + 1)\n",
    "    if(dfs2Helper(matrix, newNeighbor, dest, visited)):\n",
    "        return True\n",
    "    \n",
    "    while u > 0 and matrix[u][start[1]] == 0:\n",
    "        u -= 1\n",
    "    newNeighbor = (u + 1, start[1])\n",
    "    if(dfs2Helper(matrix, newNeighbor, dest, visited)):\n",
    "        return True\n",
    "    \n",
    "    while d < len(matrix) and matrix[d][start[1]] == 0:\n",
    "        d += 1\n",
    "    newNeighbor = (d - 1, start[1])\n",
    "    if(dfs2Helper(matrix, newNeighbor, dest, visited)):\n",
    "        return True\n",
    "    \n",
    "    return False\n",
    "\n",
    "matrix = [\n",
    "    [0, 0, 1, 0, 0],\n",
    "    [0, 0, 0, 0, 0],\n",
    "    [0, 0, 0, 1, 0],\n",
    "    [1, 1, 0, 1, 1],\n",
    "    [0, 0, 0, 0, 0]\n",
    "]\n",
    "\n",
    "start = (0, 4)\n",
    "dest  = (4, 4)\n",
    "print(dfs2(matrix, start, dest))\n",
    "\n"
   ]
  },
  {
   "cell_type": "code",
   "execution_count": 37,
   "metadata": {
    "scrolled": true
   },
   "outputs": [
    {
     "name": "stdout",
     "output_type": "stream",
     "text": [
      "0 4\n",
      "0 4\n",
      "0 3\n",
      "0 4\n",
      "0 3\n",
      "1 3\n",
      "1 4\n",
      "1 4\n",
      "1 0\n",
      "1 4\n",
      "1 0\n",
      "2 0\n",
      "2 2\n",
      "2 2\n",
      "2 0\n",
      "4 2\n",
      "4 4\n",
      "True\n"
     ]
    }
   ],
   "source": [
    "def dfs2(matrix, start, dest):\n",
    "    visited = [[False]*len(matrix[0]) for _ in range(len(matrix))]\n",
    "    return dfs2Helper(matrix, start, dest, visited)\n",
    "\n",
    "def dfs2Helper(matrix, start, dest, visited):\n",
    "    if start[0] == dest[0] and start[1] == dest[1]:\n",
    "        return True\n",
    "    \n",
    "    direction = [[0,1], [0,-1], [1,0], [-1,0]]\n",
    "    \n",
    "    for d in direction:\n",
    "        x = start[0]\n",
    "        y = start[1]\n",
    "        while 0 <= x + d[0] < len(matrix) and 0 <= y + d[1] < len(matrix[0]) and matrix[x+d[0]][y+d[1]] == 0:\n",
    "            x = x + d[0]\n",
    "            y = y + d[1]\n",
    "        print(x, y)\n",
    "        if x < 0 or x > len(matrix) - 1 or y < 0 or y > len(matrix[0]) - 1:\n",
    "            continue\n",
    "        if matrix[x][y] == 1:\n",
    "            continue\n",
    "        if visited[x][y]:\n",
    "            continue\n",
    "        visited[x][y] = True\n",
    "        if dfs2Helper(matrix, (x, y), dest, visited):\n",
    "            return True\n",
    "    return False\n",
    "\n",
    "matrix = [\n",
    "    [0, 0, 1, 0, 0],\n",
    "    [0, 0, 0, 0, 0],\n",
    "    [0, 0, 0, 1, 0],\n",
    "    [1, 1, 0, 1, 1],\n",
    "    [0, 0, 0, 0, 0]\n",
    "]\n",
    "\n",
    "start = (0, 4)\n",
    "dest  = (4, 4)\n",
    "print(dfs2(matrix, start, dest))"
   ]
  },
  {
   "cell_type": "markdown",
   "metadata": {},
   "source": [
    "### <a id='Ex3'>Ex.3 The Maze III</a>\n",
    "\n",
    "There is a ball in a maze with empty spaces and walls. The ball can go through empty spaces by rolling up, down, left or right, but it won't stop rolling until hitting a wall. When the ball stops, it could choose the next direction.\n",
    "\n",
    "Given the ball's start position, the destination and the maze, <font color='red'>find the shortest distance for the ball to stop at the destination</font>. The distance is defined by the number of empty spaces traveled by the ball from the start position (excluded) to the destination (included). If the ball cannot stop at the destination, return -1.\n",
    "\n",
    "The maze is represented by a binary 2D array. 1 means the wall and 0 means the empty space. You may assume that the borders of the maze are all walls. The start and destination coordinates are represented by row and column indexes.\n",
    "\n",
    "<img src=\"../images/ch17/maze4.png\" width=\"640\"/>\n",
    "<img src=\"../images/ch17/maze5.png\" width=\"640\"/>"
   ]
  },
  {
   "cell_type": "code",
   "execution_count": 42,
   "metadata": {},
   "outputs": [
    {
     "name": "stdout",
     "output_type": "stream",
     "text": [
      "0 4 0\n",
      "0 3 1\n",
      "2 4 2\n",
      "0 4 0\n",
      "0 4 2\n",
      "0 3 1\n",
      "1 3 2\n",
      "0 3 1\n",
      "1 4 3\n",
      "1 0 5\n",
      "1 3 2\n",
      "0 3 3\n",
      "2 4 2\n",
      "2 4 2\n",
      "2 4 2\n",
      "0 4 4\n",
      "1 4 3\n",
      "1 0 7\n",
      "2 4 4\n",
      "0 4 4\n",
      "1 4 9\n",
      "1 0 5\n",
      "2 0 6\n",
      "0 0 6\n",
      "0 1 7\n",
      "0 0 6\n",
      "2 0 8\n",
      "0 0 6\n",
      "2 2 8\n",
      "2 0 6\n",
      "2 0 6\n",
      "0 0 8\n",
      "0 1 7\n",
      "0 0 8\n",
      "2 1 9\n",
      "0 1 7\n",
      "2 2 8\n",
      "2 0 10\n",
      "4 2 10\n",
      "1 2 9\n",
      "1 4 11\n",
      "1 0 11\n",
      "4 2 12\n",
      "1 2 9\n",
      "2 2 10\n",
      "2 0 10\n",
      "2 1 9\n",
      "0 1 11\n",
      "4 4 12\n",
      "4 0 12\n",
      "4 2 10\n",
      "1 2 13\n",
      "4 4 16\n",
      "4 0 12\n",
      "4 0 12\n",
      "4 0 12\n"
     ]
    },
    {
     "data": {
      "text/plain": [
       "12"
      ]
     },
     "execution_count": 42,
     "metadata": {},
     "output_type": "execute_result"
    }
   ],
   "source": [
    "def shortestDistance(matrix, start, destination):\n",
    "    heap = [(0, start)]\n",
    "    visited = set()\n",
    "    \n",
    "    while heap:\n",
    "        dist, node = heapq.heappop(heap)\n",
    "        if node in visited: # if node in visited, that means node alread has a shortest distance to start node\n",
    "            continue\n",
    "        visited.add(node)\n",
    "        if node == destination:\n",
    "            return dist\n",
    "        for dirc in [(0, 1), (0, -1), (1, 0), (-1, 0)]:\n",
    "            x = node[0]\n",
    "            y = node[1]\n",
    "            neighborDist = dist\n",
    "            while 0 <= x + dirc[0] < len(matrix) and 0 <= y + dirc[1] < len(matrix[0]) and matrix[x+dirc[0]][y+dirc[1]] == 0:\n",
    "                x = x + dirc[0]\n",
    "                y = y + dirc[1]\n",
    "                neighborDist += 1\n",
    "            print(x, y, neighborDist)\n",
    "            if (x, y) not in visited:# 首次错误：把(x, y)写成node\n",
    "                heapq.heappush(heap, (neighborDist, (x, y)))\n",
    "\n",
    "    return -1\n",
    "\n",
    "matrix = [\n",
    "    [0, 0, 1, 0, 0],\n",
    "    [0, 0, 0, 0, 0],\n",
    "    [0, 0, 0, 1, 0],\n",
    "    [1, 1, 0, 1, 1],\n",
    "    [0, 0, 0, 0, 0]\n",
    "]\n",
    "\n",
    "start = (0, 4)\n",
    "dest  = (4, 4)\n",
    "shortestDistance(matrix, start, dest)"
   ]
  },
  {
   "cell_type": "markdown",
   "metadata": {},
   "source": [
    "### <a id='Ex4'>Ex.4 The Maze IV</a>\n",
    "\n",
    "There is a ball in a maze with empty spaces and walls. The ball can go through empty spaces by rolling up (u), down (d), left (l) or right (r), but it won't stop rolling until hitting a wall. When the ball stops, it could choose the next direction. There is also a hole in this maze. <font color=\"red\">The ball will drop into the hole if it rolls on to the hole</font>.\n",
    "\n",
    "Given the ball position, the hole position and the maze, find out how the ball could drop into the hole by moving the shortest distance. The distance is defined by the number of empty spaces traveled by the ball from the start position (excluded) to the hole (included). Output the moving directions by using 'u', 'd', 'l' and 'r'. Since there could be several different shortest ways, you should output the lexicographically smallest way. If the ball cannot reach the hole, output \"impossible\".\n",
    "\n",
    "The maze is represented by a binary 2D array. 1 means the wall and 0 means the empty space. You may assume that the borders of the maze are all walls. The ball and the hole coordinates are represented by row and column indexes."
   ]
  },
  {
   "cell_type": "code",
   "execution_count": 43,
   "metadata": {},
   "outputs": [
    {
     "data": {
      "text/plain": [
       "'drur'"
      ]
     },
     "execution_count": 43,
     "metadata": {},
     "output_type": "execute_result"
    }
   ],
   "source": [
    "def findShortestWay(maze, ball, hole):\n",
    "    dirs = {'u' : (-1, 0), 'r' : (0, 1), 'l' : (0, -1), 'd': (1, 0)}\n",
    "    heap = [(0, '', ball)]  #(distance, path, node)\n",
    "    visited = set()\n",
    "    \n",
    "    while heap:\n",
    "        dist, path, node = heapq.heappop(heap)\n",
    "        if node in visited:\n",
    "            continue\n",
    "        if node == hole:\n",
    "            return path\n",
    "        visited.add(node)\n",
    "        \n",
    "        for d, step in dirs.items():\n",
    "            x = node[0]\n",
    "            y = node[1]\n",
    "            neighborDist = dist\n",
    "            while 0 <= x+step[0] < len(maze) and 0 <= y+step[1] < len(maze[0]) and maze[x+step[0]][y+step[1]] == 0:\n",
    "                x = x + step[0]\n",
    "                y = y + step[1]\n",
    "                neighborDist += 1\n",
    "            if (x, y) not in visited:\n",
    "                heapq.heappush(heap, (neighborDist, path+d, (x, y)))\n",
    "    \n",
    "    return 'impossible'\n",
    "\n",
    "matrix = [\n",
    "    [0, 0, 1, 0, 0],\n",
    "    [0, 0, 0, 0, 0],\n",
    "    [0, 0, 0, 1, 0],\n",
    "    [1, 1, 0, 1, 1],\n",
    "    [0, 0, 0, 0, 0]\n",
    "]\n",
    "\n",
    "start = (0, 0)\n",
    "dest  = (1, 4)\n",
    "findShortestWay(matrix, start, dest)"
   ]
  },
  {
   "cell_type": "markdown",
   "metadata": {},
   "source": [
    "### <a id='Ex1'>Ex.1 Flood Fill</a>\n",
    "\n",
    "An image is represented by a 2-D array of integers, each integer representing the pixel value of the image (from 0 to 65535).\n",
    "\n",
    "Given a coordinate (sr, sc) representing the starting pixel (row and column) of the flood fill, and a pixel value newColor, \"flood fill\" the image.\n",
    "\n",
    "To perform a \"flood fill\", consider the starting pixel, plus any pixels connected 4-directionally to the starting pixel of the same color as the starting pixel, plus any pixels connected 4-directionally to those pixels (also with the same color as the starting pixel), and so on. Replace the color of all of the aforementioned pixels with the newColor.\n",
    "\n",
    "At the end, return the modified image."
   ]
  },
  {
   "cell_type": "code",
   "execution_count": 2,
   "metadata": {},
   "outputs": [
    {
     "data": {
      "text/plain": [
       "[[1, 1, 1], [1, 1, 0], [1, 0, 1]]"
      ]
     },
     "execution_count": 2,
     "metadata": {},
     "output_type": "execute_result"
    }
   ],
   "source": [
    "def floodFill(image, sr, sc, newColor):\n",
    "    rows, cols, originColor = len(image), len(image[0]), image[sr][sc]\n",
    "    floodFill_dfs(image, rows, cols, originColor, newColor)\n",
    "    return image\n",
    "\n",
    "def floodFill_dfs(image, row, col, originColor, newColor):\n",
    "    if 0 <= row < len(image) and 0 <= col < len(image) and image[row][col] == originColor:\n",
    "        image[row][col] = newColor\n",
    "        for (x, y) in [(0, 1), (0, -1), (1, 0), (-1, 0)]:\n",
    "            floodFill_dfs(image, row + x, col + y, originColor, newColor)        \n",
    "\n",
    "image = [\n",
    "    [1,1,1],\n",
    "    [1,1,0],\n",
    "    [1,0,1]\n",
    "]\n",
    "sr = 1\n",
    "sc = 1\n",
    "newColor = 2\n",
    "floodFill(image, sr, sc, newColor)"
   ]
  },
  {
   "cell_type": "markdown",
   "metadata": {},
   "source": [
    "### <a id='Ex2'>Ex.2 Friend Circles</a>\n",
    "\n",
    "There are N students in a class. Some of them are friends, while some are not. Their friendship is transitive in nature. For example, if A is a direct friend of B, and B is a direct friend of C, then A is an indirect friend of C. And we defined a friend circle is a group of students who are direct or indirect friends.\n",
    "\n",
    "Given a N*N matrix M representing the friend relationship between students in the class. If M[i][j] = 1, then the ith and jth students are direct friends with each other, otherwise not. And you have to output the total number of friend circles among all the students.\n",
    "\n",
    "Input: \n",
    "\n",
    "[[1,1,0],\n",
    "\n",
    "[1,1,0],\n",
    "\n",
    "[0,0,1]]\n",
    "\n",
    "Output: 2\n",
    "\n",
    "Explanation:The 0th and 1st students are direct friends, so they are in a friend circle. \n",
    "\n",
    "The 2nd student himself is in a friend circle. So return 2."
   ]
  },
  {
   "cell_type": "markdown",
   "metadata": {},
   "source": [
    "# Solutions:\n",
    "每一行都表示其中一个人，因此我们可以针对每个人来统计一下朋友圈的个数。先找到A，然后找到与A有关的B，然后去找与B有关的C，以此类推。调查过的朋友圈全部记成0。"
   ]
  },
  {
   "cell_type": "code",
   "execution_count": 46,
   "metadata": {},
   "outputs": [
    {
     "data": {
      "text/plain": [
       "2"
      ]
     },
     "execution_count": 46,
     "metadata": {},
     "output_type": "execute_result"
    }
   ],
   "source": [
    "def findCircleNum(M):\n",
    "    circles = 0\n",
    "    stack = []\n",
    "    for i in range(len(M)):\n",
    "        if M[i][i] == 0:\n",
    "            continue\n",
    "        stack = [i]\n",
    "        while stack:\n",
    "            cur = stack.pop()\n",
    "            if M[cur][cur] == 0:\n",
    "                continue\n",
    "            M[cur][cur] = 0\n",
    "            for j in range(len(M)):\n",
    "                if M[cur][j] != 0 and M[j][j] != 0:\n",
    "                    stack.append(j)\n",
    "        circles += 1\n",
    "    return circles\n",
    "\n",
    "M = [\n",
    "     [1,1,0],\n",
    "     [1,1,0],\n",
    "     [0,0,1]]\n",
    "findCircleNum(M)\n",
    "        "
   ]
  },
  {
   "cell_type": "code",
   "execution_count": 50,
   "metadata": {},
   "outputs": [
    {
     "data": {
      "text/plain": [
       "2"
      ]
     },
     "execution_count": 50,
     "metadata": {},
     "output_type": "execute_result"
    }
   ],
   "source": [
    "def findCircleNum(M):\n",
    "    circles = 0\n",
    "    for i in range(len(M)):\n",
    "        if M[i][i] == 0:\n",
    "            continue\n",
    "        if(findCircleNum_dfs(M, i)):\n",
    "            circles += 1\n",
    "    return circles\n",
    "\n",
    "def findCircleNum_dfs(M, cur):\n",
    "    if M[cur][cur] == 0:\n",
    "        return False\n",
    "    M[cur][cur] = 0\n",
    "    for j in range(len(M)):\n",
    "        if M[cur][j] != 0 and M[j][j]:\n",
    "            findCircleNum_dfs(M, j)\n",
    "    return True\n",
    "\n",
    "M = [\n",
    "     [1,1,0],\n",
    "     [1,1,0],\n",
    "     [0,0,1]]\n",
    "findCircleNum(M)\n"
   ]
  },
  {
   "cell_type": "markdown",
   "metadata": {},
   "source": [
    "### <a id='Ex3'>Ex.3 Number of Islands</a>\n",
    "\n",
    "Given a 2d grid map of '1's (land) and '0's (water), count the number of islands. An island is surrounded by water and is formed by connecting adjacent lands horizontally or vertically. You may assume all four edges of the grid are all surrounded by water."
   ]
  },
  {
   "cell_type": "code",
   "execution_count": 53,
   "metadata": {},
   "outputs": [
    {
     "data": {
      "text/plain": [
       "2"
      ]
     },
     "execution_count": 53,
     "metadata": {},
     "output_type": "execute_result"
    }
   ],
   "source": [
    "def numOfLands(grid):\n",
    "    if not grid:\n",
    "        return 0\n",
    "    count = 0\n",
    "    for i in range(len(grid)):\n",
    "        for j in range(len(grid[0])):\n",
    "            if grid[i][j] == 1:\n",
    "                dfs(grid, i, j)\n",
    "                count += 1\n",
    "    return count\n",
    "                \n",
    "def dfs(grid, i, j):\n",
    "    if grid[i][j] == 0:\n",
    "        return 0\n",
    "    grid[i][j] = 0\n",
    "    for (x, y) in [(0, 1), (0, -1), (1, 0), (-1, 0)]:\n",
    "        if 0 <= i + x < len(grid) and 0 <= j + y < len(grid[0]) and grid[i+x][j+y] == 1:\n",
    "            dfs(grid, i + x, j + y)\n",
    "\n",
    "M = [\n",
    "     [1,1,0],\n",
    "     [1,1,0],\n",
    "     [0,0,1]\n",
    "]\n",
    "numOfLands(M)"
   ]
  },
  {
   "cell_type": "markdown",
   "metadata": {},
   "source": [
    "### <a id='Ex4'>Ex.4 Max Area of Island</a>\n",
    "\n",
    "Given a non-empty 2D array grid of 0's and 1's, an island is a group of 1's (representing land) connected 4-directionally (horizontal or vertical.) You may assume all four edges of the grid are surrounded by water.\n",
    "\n",
    "Find the maximum area of an island in the given 2D array. (If there is no island, the maximum area is 0.)\n",
    "\n",
    "[0,0,1,0,0,0,0,1,0,0,0,0,0],\n",
    "\n",
    " [0,0,0,0,0,0,0,1,1,1,0,0,0], \n",
    " \n",
    " [0,1,1,0,1,0,0,0,0,0,0,0,0], \n",
    " \n",
    " [0,1,0,0,1,1,0,0,1,0,1,0,0],\n",
    " \n",
    " [0,1,0,0,1,1,0,0,1,1,1,0,0], \n",
    " \n",
    " [0,0,0,0,0,0,0,0,0,0,1,0,0],\n",
    " \n",
    " [0,0,0,0,0,0,0,1,1,1,0,0,0],\n",
    " \n",
    " [0,0,0,0,0,0,0,1,1,0,0,0,0]\n",
    " \n",
    "Given the above grid, return 6. Note the answer is not 11, because the island must be connected 4-directionally."
   ]
  },
  {
   "cell_type": "code",
   "execution_count": 55,
   "metadata": {},
   "outputs": [
    {
     "data": {
      "text/plain": [
       "3"
      ]
     },
     "execution_count": 55,
     "metadata": {},
     "output_type": "execute_result"
    }
   ],
   "source": [
    "def maxAreaOfIsland(grid):\n",
    "    rows, cols = len(grid), len(grid[0])\n",
    "    result = 0\n",
    "    for i in range(rows):\n",
    "        for j in range(cols):\n",
    "            result = max(result, dfs(grid, i, j))\n",
    "    return result\n",
    "\n",
    "def dfs(grid, i, j):\n",
    "    if 0 <= i < len(grid) and 0 <= j < len(grid[0]) and grid[i][j] == 1:\n",
    "        grid[i][j] = 0 # 记得标记已经visit过的\n",
    "        return 1 + dfs(grid, i + 1, j) + dfs(grid, i - 1, j) + dfs(grid, i, j + 1) + dfs(grid, i, j - 1)\n",
    "    return 0\n",
    "\n",
    "matrix = [\n",
    "    [0, 0, 1, 0, 0],\n",
    "    [0, 0, 0, 0, 0],\n",
    "    [0, 0, 0, 1, 0],\n",
    "    [1, 1, 0, 1, 1],\n",
    "    [0, 0, 0, 0, 0]\n",
    "]\n",
    "\n",
    "maxAreaOfIsland(matrix)\n"
   ]
  },
  {
   "cell_type": "markdown",
   "metadata": {},
   "source": [
    "### <a id='Ex5'>Ex.5 Employee Importance</a>\n",
    "\n",
    "You are given a data structure of employee information, which includes the employee's unique id, his importance value and his direct subordinates' id.\n",
    "\n",
    "For example, employee 1 is the leader of employee 2, and employee 2 is the leader of employee 3. They have importance value 15, 10 and 5, respectively. Then employee 1 has a data structure like [1, 15, [2]], and employee 2 has [2, 10, [3]], and employee 3 has [3, 5, []]. Note that although employee 3 is also a subordinate of employee 1, the relationship is not direct.\n",
    "\n",
    "Now given the employee information of a company, and an employee id, you need to return the total importance value of this employee and all his subordinates.\n",
    "\n",
    "Input: [[1, 5, [2, 3]], [2, 3, []], [3, 3, []]], 1\n",
    "\n",
    "Output: 11\n",
    "\n",
    "Explanation:\n",
    "\n",
    "Employee 1 has importance value 5, and he has two direct subordinates: employee 2 and employee 3. They both have importance value 3. So the total importance value of employee 1 is 5 + 3 + 3 = 11."
   ]
  },
  {
   "cell_type": "markdown",
   "metadata": {},
   "source": [
    "# Solutions:\n",
    "1. 创建一个abstract data type去存储数据\n",
    "2. 创建一个dict，用于根据id来寻找特定的node\n",
    "3. 根据给定的id，使用dfs，返回value的和"
   ]
  },
  {
   "cell_type": "code",
   "execution_count": 59,
   "metadata": {},
   "outputs": [
    {
     "data": {
      "text/plain": [
       "11"
      ]
     },
     "execution_count": 59,
     "metadata": {},
     "output_type": "execute_result"
    }
   ],
   "source": [
    "class Employee:\n",
    "    def __init__(self, id, importance, subordinates):\n",
    "        self.id = id\n",
    "        self.importance = importance\n",
    "        self.subordinates = subordinates\n",
    "\n",
    "def getImportance(employees, id):\n",
    "    table = {emp.id : emp for emp in employees}\n",
    "    return dfs(table, id)\n",
    "\n",
    "def dfs(table, id):\n",
    "    value = table[id].importance\n",
    "    for sub in table[id].subordinates:\n",
    "        value += dfs(table, sub)\n",
    "    return value\n",
    "\n",
    "e3 = Employee(3, 3, [])\n",
    "e2 = Employee(2, 3, [])\n",
    "e1 = Employee(1, 5, [2, 3])\n",
    "emps = [e1, e2, e3]\n",
    "getImportance(emps, 1)"
   ]
  },
  {
   "cell_type": "code",
   "execution_count": 62,
   "metadata": {},
   "outputs": [
    {
     "data": {
      "text/plain": [
       "11"
      ]
     },
     "execution_count": 62,
     "metadata": {},
     "output_type": "execute_result"
    }
   ],
   "source": [
    "def getImportance(employees, id):\n",
    "    stack = [id]\n",
    "    table = {emp.id : emp for emp in employees}\n",
    "    value = 0\n",
    "    while stack:\n",
    "        cur = stack.pop()\n",
    "        value += table[cur].importance\n",
    "        for sub in table[cur].subordinates: # first error: write table[cur] as table[id]\n",
    "            stack.append(sub)\n",
    "    return value\n",
    "\n",
    "e3 = Employee(3, 3, [])\n",
    "e2 = Employee(2, 3, [])\n",
    "e1 = Employee(1, 5, [2, 3])\n",
    "emps = [e1, e2, e3]\n",
    "getImportance(emps, 1)"
   ]
  },
  {
   "cell_type": "markdown",
   "metadata": {},
   "source": [
    "# Graph Practice III #"
   ]
  },
  {
   "cell_type": "markdown",
   "metadata": {},
   "source": [
    "### <a id='Ex1'>Ex.1 Is Graph Bipartite?</a>\n",
    "\n",
    "Given an undirected graph, return true if and only if it is bipartite.\n",
    "\n",
    "Recall that a graph is bipartite if we can split it's set of nodes into two independent subsets A and B such that every edge in the graph has one node in A and another node in B.\n",
    "\n",
    "The graph is given in the following form: graph[i] is a list of indexes j for which the edge between nodes i and j exists.  Each node is an integer between 0 and graph.length - 1.  There are no self edges or parallel edges: graph[i] does not contain i, and it doesn't contain any element twice.\n",
    "\n",
    "<img src=\"../images/ch17/bipartite1.png\" width=\"440\"/>\n",
    "<img src=\"../images/ch17/bipartite2.png\" width=\"540\"/>"
   ]
  },
  {
   "cell_type": "markdown",
   "metadata": {},
   "source": [
    "# Solutions\n",
    "1. 创建一个visited dict, key为当前点的id(0,1,2,3...), value为1(第一组)和-1(第二组)\n",
    "2. 遍历所有点，从第一个点开始，先把点标记为1，其neighbor标记为-1\n",
    "3. dfs: 如果自身未visited，组别与cur取反。如果自身已visited，判断与cur是否相反，若相同返回False"
   ]
  },
  {
   "cell_type": "code",
   "execution_count": 3,
   "metadata": {},
   "outputs": [
    {
     "name": "stdout",
     "output_type": "stream",
     "text": [
      "True\n",
      "False\n"
     ]
    }
   ],
   "source": [
    "def isBipartite(graph):\n",
    "    visited = {}\n",
    "    for i in range(len(graph)):\n",
    "        if i in visited:\n",
    "            continue\n",
    "        # 注意这里，由于dfs会先针对前面的点进行遍历，那么如果这层循环中有一个点不在visited也就表示这个点与dfs遍历的所有点没有联系\n",
    "        # 因此直接把其加入group1即可，那么就可能如下的图像\n",
    "        # x\n",
    "        # x\n",
    "        # 发现上下并没有联系\n",
    "        visited[i] = 1 \n",
    "        if not dfs(graph, visited, i):\n",
    "            return False\n",
    "    return True\n",
    "\n",
    "def dfs(graph, visited, node):\n",
    "    neighbors = graph[node]\n",
    "    for j in neighbors:\n",
    "        if j in visited:\n",
    "            if visited[j] == visited[node]:\n",
    "                return False\n",
    "        else:\n",
    "            visited[j] = visited[node] * -1\n",
    "            dfs(graph, visited, j)\n",
    "    return True\n",
    "\n",
    "graph = [[1,3], [0,2], [1,3], [0,2]]\n",
    "print(isBipartite(graph))\n",
    "\n",
    "graph = [[1,2,3], [0,2], [0,1,3], [0,2]]\n",
    "print(isBipartite(graph))"
   ]
  },
  {
   "cell_type": "markdown",
   "metadata": {},
   "source": [
    "### <a id='Ex2'>Ex.2 Pacific Atlantic Water Flow</a>\n",
    "\n",
    "Given an m x n matrix of non-negative integers representing the height of each unit cell in a continent, the \"Pacific ocean\" touches the left and top edges of the matrix and the \"Atlantic ocean\" touches the right and bottom edges.\n",
    "\n",
    "Water can only flow in four directions (up, down, left, or right) from a cell to another one with height equal or lower.\n",
    "\n",
    "Find the list of grid coordinates where water can flow to both the Pacific and Atlantic ocean.\n",
    "\n",
    "<img src=\"../images/ch17/ocean.png\" width=\"740\"/>"
   ]
  },
  {
   "cell_type": "markdown",
   "metadata": {},
   "source": [
    "# Solution:\n",
    "如果根据每一个点找一次他们是否能到达pacific和atlantic，那么会需要n*n*n^2，即O(n^4)的时间复杂读，因此可以从反向考虑\n",
    "1. 分别从Pacific和Atlantic边缘上的点，往高处走。\n",
    "2. 对于pacific边缘点往上能走到的点，录入进p_visited中\n",
    "3. 对于Atlantic边缘点上能走到的点，录入进a_visited中\n",
    "4. 将p_visited和a_visited做一次交集运算"
   ]
  },
  {
   "cell_type": "code",
   "execution_count": 4,
   "metadata": {},
   "outputs": [
    {
     "name": "stdout",
     "output_type": "stream",
     "text": [
      "{(0, 1), (1, 2), (0, 0), (1, 3), (3, 0), (2, 2), (1, 0), (3, 1), (1, 4), (2, 1), (2, 0), (1, 1), (0, 4), (0, 3), (0, 2), (4, 0)}\n",
      "{(4, 1), (1, 3), (3, 2), (3, 3), (3, 0), (2, 2), (4, 4), (3, 1), (1, 4), (2, 3), (4, 3), (0, 4), (4, 2), (3, 4), (2, 4), (4, 0)}\n",
      "{(1, 3), (3, 0), (3, 1), (1, 4), (0, 4), (2, 2), (4, 0)}\n"
     ]
    }
   ],
   "source": [
    "def pacificAtlantic(matrix):\n",
    "    if not matrix:\n",
    "        return []\n",
    "    \n",
    "    rows, cols = len(matrix), len(matrix[0])\n",
    "    P_visited = set()\n",
    "    A_visited = set()\n",
    "    for i in range(rows):\n",
    "        dfs(matrix, (i, 0), P_visited)\n",
    "        dfs(matrix, (i, cols - 1), A_visited)\n",
    "    for j in range(cols):\n",
    "        dfs(matrix, (0, j), P_visited)\n",
    "        dfs(matrix, (rows - 1, j), A_visited)\n",
    "    print(P_visited)\n",
    "    print(A_visited)\n",
    "    return P_visited & A_visited\n",
    "\n",
    "def dfs(matrix, pos, visited):\n",
    "    rows, cols = len(matrix), len(matrix[0])\n",
    "    if pos in visited:\n",
    "        return\n",
    "    visited.add(pos)\n",
    "    for dirc in [(0, 1), (0, -1), (1, 0), (-1, 0)]:\n",
    "        x = pos[0] + dirc[0]\n",
    "        y = pos[1] + dirc[1]\n",
    "        if 0 <= x < rows and 0 <= y < cols and (x, y) not in visited and matrix[x][y] >= matrix[pos[0]][pos[1]]:\n",
    "            dfs(matrix, (x, y), visited)\n",
    "            \n",
    "matrix = [\n",
    "    [1,2,2,3,4],\n",
    "    [3,2,3,4,4],\n",
    "    [2,4,5,3,1],\n",
    "    [6,7,1,4,5],\n",
    "    [5,1,1,2,4]\n",
    "]\n",
    "print(pacificAtlantic(matrix))                "
   ]
  },
  {
   "cell_type": "code",
   "execution_count": 74,
   "metadata": {},
   "outputs": [
    {
     "data": {
      "text/plain": [
       "{(0, 4), (1, 3), (1, 4), (2, 2), (3, 0), (3, 1), (4, 0)}"
      ]
     },
     "execution_count": 74,
     "metadata": {},
     "output_type": "execute_result"
    }
   ],
   "source": [
    "# BFS\n",
    "from collections import deque\n",
    "def pacificAtlantic(matrix):\n",
    "    rows, cols = len(matrix), len(matrix[0])\n",
    "    P_visited = set([(i, 0) for i in range(len(matrix))] + [(j, 0) for j in range(len(matrix[0]))])\n",
    "    A_visited = set([(i, cols - 1) for i in range(len(matrix))] + [(rows - 1, j) for j in range(len(matrix[0]))])\n",
    "    return bfs(P_visited) & bfs(A_visited)\n",
    "\n",
    "def bfs(ocean):\n",
    "    q = deque(ocean)\n",
    "    while q:\n",
    "        (x, y) = q.popleft()\n",
    "        for (i, j) in [(0, 1), (0, -1), (1, 0), (-1, 0)]:\n",
    "            m = x + i  \n",
    "            n = y + j\n",
    "            if 0 <= m < len(matrix) and 0 <= n < len(matrix) and (m, n) not in ocean and matrix[m][n] >= matrix[x][y]:\n",
    "                ocean.add((m, n))\n",
    "                q.append((m, n))\n",
    "                bfs(ocean)\n",
    "    return ocean\n",
    "\n",
    "pacificAtlantic(matrix)"
   ]
  },
  {
   "cell_type": "markdown",
   "metadata": {},
   "source": [
    "### <a id='Ex3'>Ex.3 Longest Increasing Path in a Matrix</a>\n",
    "\n",
    "Given an integer matrix, find the length of the longest increasing path.\n",
    "\n",
    "From each cell, you can either move to four directions: left, right, up or down. You may NOT move diagonally or move outside of the boundary (i.e. wrap-around is not allowed).\n",
    "\n",
    "<img src=\"../images/ch17/longest1.png\" width=\"100\"/>\n",
    "<img src=\"../images/ch17/longest2.png\" width=\"100\"/>"
   ]
  },
  {
   "cell_type": "markdown",
   "metadata": {},
   "source": [
    "# Solution:\n",
    "针对每一个点找最长升序路径，不过可以使用DP进行优化。"
   ]
  },
  {
   "cell_type": "code",
   "execution_count": 78,
   "metadata": {},
   "outputs": [
    {
     "data": {
      "text/plain": [
       "4"
      ]
     },
     "execution_count": 78,
     "metadata": {},
     "output_type": "execute_result"
    }
   ],
   "source": [
    "def longestIncreasingPath(matrix):\n",
    "    if not matrix:\n",
    "        return 0\n",
    "    rows, cols = len(matrix), len(matrix[0])\n",
    "    dp = [[-1 for i in range(cols)] for j in range(rows)] # 注意是先写cols然后写rows\n",
    "    res = 0\n",
    "    \n",
    "    for i in range(rows):\n",
    "        for j in range(cols):\n",
    "            res = max(dfs(i, j, matrix, dp, rows, cols), res)\n",
    "    return res\n",
    "\n",
    "def dfs(i, j, matrix, dp, rows, cols):\n",
    "    if dp[i][j] != -1: # also act as visited \n",
    "        return dp[i][j]\n",
    "    res = 1\n",
    "    for (x, y) in [(0, 1), (0, -1), (1, 0), (-1, 0)]:\n",
    "        m = i + x\n",
    "        n = j + y\n",
    "        if 0 <= m < rows and 0 <= n < cols and matrix[m][n] > matrix[i][j]: # 由于条件设定为不可能越界，因此最小返回1\n",
    "            length = 1 + dfs(m, n, matrix, dp, rows, cols)\n",
    "            res = max(res, length)\n",
    "    dp[i][j] = res # first error: 之前写在了for循环里面，dp[m][n]. \n",
    "    return res\n",
    "\n",
    "nums = [\n",
    "  [9,9,4],\n",
    "  [6,6,8],\n",
    "  [2,1,1]\n",
    "]\n",
    "longestIncreasingPath(nums)\n",
    "            "
   ]
  },
  {
   "cell_type": "markdown",
   "metadata": {},
   "source": [
    "### <a id='Ex4'>Ex.4 01 Matrix</a>\n",
    "\n",
    "Given a matrix consists of 0 and 1, find the distance of the nearest 0 for each cell.\n",
    "\n",
    "The distance between two adjacent cells is 1.\n",
    "\n",
    "Example 1: \n",
    "\n",
    "Input:\n",
    "\n",
    "0 0 0\n",
    "\n",
    "0 1 0\n",
    "\n",
    "0 0 0\n",
    "\n",
    "Output:\n",
    "\n",
    "0 0 0\n",
    "\n",
    "0 1 0\n",
    "\n",
    "0 0 0\n",
    "\n",
    "Example 2: \n",
    "\n",
    "Input:\n",
    "\n",
    "0 0 0\n",
    "\n",
    "0 1 0\n",
    "\n",
    "1 1 1\n",
    "\n",
    "Output:\n",
    "\n",
    "0 0 0\n",
    "\n",
    "0 1 0\n",
    "\n",
    "1 2 1"
   ]
  },
  {
   "cell_type": "markdown",
   "metadata": {},
   "source": [
    "# Solution:\n",
    "一个方法是遍历每一个点，找出每个点距离最近的0，返回距离，但是时间复杂度为O(n^4)\n",
    "\n",
    "另一个方法利用DP的思维：\n",
    "创建一个DP矩阵\n",
    "先将所有0存进一个数组中，遍历该数组，更新数组中的每一个元素的上下左右，并更新DP中的当前元素。\n",
    "\n",
    "由于是从所有0元素开始的，因此所有0被遍历完后，0旁边的元素一定是有一个最小值的了，然后对0旁边的旁边的元素遍历..."
   ]
  },
  {
   "cell_type": "code",
   "execution_count": 83,
   "metadata": {},
   "outputs": [
    {
     "data": {
      "text/plain": [
       "[[0, 0, 0], [0, 1, 0], [0, 0, 0]]"
      ]
     },
     "execution_count": 83,
     "metadata": {},
     "output_type": "execute_result"
    }
   ],
   "source": [
    "def updateMatrix(matrix):\n",
    "    if not matrix:\n",
    "        return []\n",
    "    rows, cols = len(matrix), len(matrix[0])\n",
    "    dp = [[0 for i in range(cols)] for j in range(rows)]\n",
    "    arr = []\n",
    "    for i in range(rows):\n",
    "        for j in range(cols):\n",
    "            if matrix[i][j] != 0:\n",
    "                dp[i][j] = 0x7fffffff\n",
    "            else:\n",
    "                arr.append((i, j))\n",
    "    \n",
    "    for (x, y) in arr:\n",
    "        for (i, j) in [(0, 1), (0, -1), (1, 0), (-1, 0)]:\n",
    "            m = x + i\n",
    "            n = y + j\n",
    "            if 0 <= m < rows and 0 <= n < cols:\n",
    "                if dp[m][n] > 1 + dp[x][y]:\n",
    "                    dp[m][n] = 1 + dp[x][y]\n",
    "                    arr.append((m, n))       # 逻辑错误：这里只有当dp[m][n] > 1 + dp[x][y]才进行append，否则会一直append，导致死循环\n",
    "    \n",
    "    return dp\n",
    "\n",
    "matrix = [\n",
    "    [0, 0, 0],\n",
    "    [0, 1, 0],\n",
    "    [0, 0, 0],\n",
    "]\n",
    "updateMatrix(matrix)"
   ]
  },
  {
   "cell_type": "markdown",
   "metadata": {},
   "source": [
    "# Solution2:\n",
    "初始化一个dp矩阵用来表示每个元素距离最近0的距离，如果Matrix是0，dp存0，否则存无穷大\n",
    "\n",
    "先从左上到右下计算出每个元素上下左右元素的距离0的最小值。当然此时由于前面的元素本身不一定是最优解，所以其上下左右的也不一定是最优解。这只能保证，如果一个元素是最优解的话，那么其右和其下是最优解\n",
    "\n",
    "然后以同样的方式从右下计算到左上，这一轮可以确保一个最优解元素的上和左是最优解。\n",
    "\n",
    "两轮循环后，一个元素的上下左右都会是最优解了。"
   ]
  },
  {
   "cell_type": "code",
   "execution_count": 99,
   "metadata": {},
   "outputs": [
    {
     "data": {
      "text/plain": [
       "[[0, 0, 0], [0, 1, 0], [0, 0, 0]]"
      ]
     },
     "execution_count": 99,
     "metadata": {},
     "output_type": "execute_result"
    }
   ],
   "source": [
    "def updateMatrix2(matrix):\n",
    "    rows, cols = len(matrix), len(matrix[0])\n",
    "    dp = [[0 if matrix[i][j] == 0 else 0x7fffffff for i in range(cols)] for j in range(rows)]\n",
    "    \n",
    "    for i in range(rows):\n",
    "        for j in range(cols):\n",
    "            DP(i, j, dp, matrix, rows, cols)\n",
    "    \n",
    "    for i in range(rows - 1, -1, -1):\n",
    "        for j in range(cols - 1, -1, -1):\n",
    "            DP(i, j, dp, matrix, rows, cols)\n",
    "    \n",
    "    return dp\n",
    "\n",
    "def DP(i, j, dp, matrix, rows, cols):\n",
    "    for (x, y) in [(0, 1), (0, -1), (1, 0), (-1, 0)]:\n",
    "        m = x + i\n",
    "        n = y + j # first error：write j as i\n",
    "        if 0 <= m < rows and 0 <= n < cols:\n",
    "            dp[m][n] = min(dp[m][n], 1 + dp[i][j])\n",
    "\n",
    "matrix = [\n",
    "    [0, 0, 0],\n",
    "    [0, 1, 0],\n",
    "    [0, 0, 0],\n",
    "]\n",
    "updateMatrix2(matrix)\n",
    "\n"
   ]
  },
  {
   "cell_type": "markdown",
   "metadata": {},
   "source": [
    "# Graph Practice IV #"
   ]
  },
  {
   "cell_type": "markdown",
   "metadata": {},
   "source": [
    "### <a id='Ex1'>Ex.1 Accounts Merge</a>\n",
    "\n",
    "Given a list accounts, each element accounts[i] is a list of strings, where the first element accounts[i][0] is a name, and the rest of the elements are emails representing emails of the account.\n",
    "\n",
    "Now, we would like to merge these accounts. Two accounts definitely belong to the same person if there is some email that is common to both accounts. Note that even if two accounts have the same name, they may belong to different people as people could have the same name. A person can have any number of accounts initially, but all of their accounts definitely have the same name.\n",
    "\n",
    "After merging the accounts, return the accounts in the following format: the first element of each account is the name, and the rest of the elements are emails in sorted order. The accounts themselves can be returned in any order.\n",
    "\n",
    "Example 1:\n",
    "\n",
    "Input: \n"
   ]
  },
  {
   "cell_type": "code",
   "execution_count": 100,
   "metadata": {
    "collapsed": true
   },
   "outputs": [],
   "source": [
    "accounts = [\n",
    "    [\"John\", \"johnsmith@mail.com\", \"john00@mail.com\"], \n",
    "    [\"John\", \"johnnybravo@mail.com\"], \n",
    "    [\"John\", \"johnsmith@mail.com\", \"john_newyork@mail.com\"], \n",
    "    [\"Mary\", \"mary@mail.com\"]\n",
    "]\n",
    "\n",
    "Output = [\n",
    "    [\"John\", 'john00@mail.com', 'john_newyork@mail.com', 'johnsmith@mail.com'],  \n",
    "    [\"John\", \"johnnybravo@mail.com\"], \n",
    "    [\"Mary\", \"mary@mail.com\"]\n",
    "]"
   ]
  },
  {
   "cell_type": "markdown",
   "metadata": {},
   "source": [
    "Explanation: \n",
    "\n",
    "The first and third John's are the same person as they have the common email \"johnsmith@mail.com\".\n",
    "\n",
    "The second John and Mary are different people as none of their email addresses are used by other accounts.\n",
    "\n",
    "We could return these lists in any order."
   ]
  },
  {
   "cell_type": "markdown",
   "metadata": {},
   "source": [
    "** Solution **\n",
    "\n",
    "We give each account an ID, based on the index of it within the list of accounts.\n"
   ]
  },
  {
   "cell_type": "code",
   "execution_count": 101,
   "metadata": {},
   "outputs": [
    {
     "name": "stdout",
     "output_type": "stream",
     "text": [
      "\n"
     ]
    }
   ],
   "source": [
    "[\n",
    "[\"John\", \"johnsmith@mail.com\", \"john00@mail.com\"], # Account 0\n",
    "[\"John\", \"johnnybravo@mail.com\"], # Account 1\n",
    "[\"John\", \"johnsmith@mail.com\", \"john_newyork@mail.com\"],  # Account 2\n",
    "[\"Mary\", \"mary@mail.com\"] # Account 3\n",
    "]\n",
    "print()"
   ]
  },
  {
   "cell_type": "markdown",
   "metadata": {},
   "source": [
    "Next, build an emails_accounts_map that maps an email to a list of accounts, which can be used to track which email is linked to which account. This is essentially our graph."
   ]
  },
  {
   "cell_type": "code",
   "execution_count": 102,
   "metadata": {},
   "outputs": [
    {
     "data": {
      "text/plain": [
       "{'johnsmith@mail.com': [0, 2],\n",
       " 'john00@mail.com': [0],\n",
       " 'johnnybravo@mail.com': [1],\n",
       " 'john_newyork@mail.com': [2],\n",
       " 'mary@mail.com': [3]}"
      ]
     },
     "execution_count": 102,
     "metadata": {},
     "output_type": "execute_result"
    }
   ],
   "source": [
    "# emails_accounts_map of email to account ID\n",
    "{\n",
    "  \"johnsmith@mail.com\": [0, 2],\n",
    "  \"john00@mail.com\": [0],\n",
    "  \"johnnybravo@mail.com\": [1],\n",
    "  \"john_newyork@mail.com\": [2],\n",
    "  \"mary@mail.com\": [3]\n",
    "}"
   ]
  },
  {
   "cell_type": "markdown",
   "metadata": {},
   "source": [
    "Next we do a DFS on each account in accounts list and look up emails_accounts_map to tell us which accounts are linked to that particular account via common emails. This will make sure we visit each account only once. This is a recursive process and we should collect all the emails that we encounter along the way.\n",
    "\n",
    "Lastly, sort the collected emails and add it to final results, res along with the name."
   ]
  },
  {
   "cell_type": "markdown",
   "metadata": {},
   "source": [
    "我们可以发现，这题的关键在于找到accounts之间的联系，然后合并。找到联系的方式是通过共用的email。因此我们需要建立一个email->accounts的dict。\n",
    "\n",
    "首先需要遍历所有的account，针对每一个account使用DFS去寻找共通的account。\n",
    "\n",
    "使用DFS的方式是：先建立一个email set，其中存储可能存在一个account中的所有email。根据当前account（标记当前account是visited），通过里面的email和email_account_map去寻找下一个account。以此类推"
   ]
  },
  {
   "cell_type": "code",
   "execution_count": 119,
   "metadata": {},
   "outputs": [
    {
     "name": "stdout",
     "output_type": "stream",
     "text": [
      "set()\n",
      "{0, 2}\n",
      "{0, 1, 2}\n",
      "{0, 1, 2}\n"
     ]
    },
    {
     "data": {
      "text/plain": [
       "[['John', 'johnsmith@mail.com', 'john00@mail.com', 'john_newyork@mail.com'],\n",
       " ['John', 'johnnybravo@mail.com'],\n",
       " ['Mary', 'mary@mail.com']]"
      ]
     },
     "execution_count": 119,
     "metadata": {},
     "output_type": "execute_result"
    }
   ],
   "source": [
    "def accountsMerge(accounts):\n",
    "    emails_accounts_map = {}\n",
    "    for i, account in enumerate(accounts):\n",
    "        for email in account[1:]:\n",
    "            if email not in emails_accounts_map:\n",
    "                emails_accounts_map[email] = [i] # first error: write i as account\n",
    "            else:\n",
    "                emails_accounts_map[email].append(i)\n",
    "    \n",
    "    mergedAccounts = []\n",
    "    visited = set()\n",
    "    for i, account in enumerate(accounts):\n",
    "        name = account[0]\n",
    "        emails = set()\n",
    "#         visited = set() Third error\n",
    "        print(visited)\n",
    "        if i in visited:\n",
    "            continue\n",
    "        dfs(i, emails, visited, emails_accounts_map, accounts)\n",
    "        mergedAccounts.append([name] + list(emails)) # second error: write () as []\n",
    "    return mergedAccounts\n",
    "\n",
    "def dfs(i, emails, visited, emails_accounts_map, accounts):\n",
    "    if i in visited:\n",
    "        return\n",
    "    visited.add(i)\n",
    "    for email in accounts[i][1:]:\n",
    "        emails.add(email)\n",
    "        for neighbor in emails_accounts_map[email]:\n",
    "            dfs(neighbor, emails, visited, emails_accounts_map, accounts)\n",
    "\n",
    "accounts = [\n",
    "    [\"John\", \"johnsmith@mail.com\", \"john00@mail.com\"], \n",
    "    [\"John\", \"johnnybravo@mail.com\"], \n",
    "    [\"John\", \"johnsmith@mail.com\", \"john_newyork@mail.com\"], \n",
    "    [\"Mary\", \"mary@mail.com\"]\n",
    "]\n",
    "\n",
    "accountsMerge(accounts)"
   ]
  },
  {
   "cell_type": "markdown",
   "metadata": {
    "collapsed": true
   },
   "source": [
    "### <a id='Ex2'>Ex.2 Word Ladder</a>\n",
    "\n",
    "Given two words (beginWord and endWord), and a dictionary's word list, find the length of shortest transformation sequence from beginWord to endWord, such that:\n",
    "\n",
    "Only one letter can be changed at a time.\n",
    "Each transformed word must exist in the word list. Note that beginWord is not a transformed word.\n",
    "For example,\n",
    "\n",
    "Given:\n",
    "\n",
    "beginWord = \"hit\"\n",
    "\n",
    "endWord = \"cog\"\n",
    "\n",
    "wordList = [\"hot\",\"dot\",\"dog\",\"lot\",\"log\",\"cog\"]\n",
    "\n",
    "As one shortest transformation is \"hit\" -> \"hot\" -> \"dot\" -> \"dog\" -> \"cog\",\n",
    "\n",
    "return its length 5."
   ]
  },
  {
   "cell_type": "code",
   "execution_count": 6,
   "metadata": {},
   "outputs": [
    {
     "data": {
      "text/plain": [
       "5"
      ]
     },
     "execution_count": 6,
     "metadata": {},
     "output_type": "execute_result"
    }
   ],
   "source": [
    "from collections import deque\n",
    "def ladderLength(beginWord, endWord, wordList):\n",
    "    wordSet = set(wordList)\n",
    "    queue = deque([[beginWord, 1]])\n",
    "    while queue:\n",
    "        word, steps = queue.popleft()\n",
    "        for pos in range(len(word)):\n",
    "            for ch in 'abcdefghijklmnopqrstuvwxyz':\n",
    "                newWord = word[:pos] + ch + word[pos+1:]\n",
    "                if newWord == endWord:\n",
    "                    return steps + 1\n",
    "                elif newWord in wordSet:\n",
    "                    queue.append([newWord, steps + 1])\n",
    "                    wordSet.remove(newWord) # removing it from wordSet means that it has been visited\n",
    "    return 0\n",
    "\n",
    "beginWord = \"hit\"\n",
    "endWord = \"cog\"\n",
    "wordList = [\"hot\",\"dot\",\"dog\",\"lot\",\"log\",\"cog\"]\n",
    "\n",
    "ladderLength(beginWord, endWord, wordList)"
   ]
  },
  {
   "cell_type": "markdown",
   "metadata": {},
   "source": [
    "### <a id='Ex3'>Ex.3 Word Ladder II</a>\n",
    "\n",
    "Given two words (beginWord and endWord), and a dictionary's word list, find all shortest transformation sequence(s) from beginWord to endWord, such that:\n",
    "\n",
    "Only one letter can be changed at a time\n",
    "Each transformed word must exist in the word list. Note that beginWord is not a transformed word.\n",
    "For example,\n",
    "\n",
    "Given:\n",
    "\n",
    "beginWord = \"hit\"\n",
    "\n",
    "endWord = \"cog\"\n",
    "\n",
    "wordList = [\"hot\",\"dot\",\"dog\",\"lot\",\"log\",\"cog\"]\n",
    "\n",
    "Returns:"
   ]
  },
  {
   "cell_type": "code",
   "execution_count": 7,
   "metadata": {},
   "outputs": [
    {
     "data": {
      "text/plain": [
       "[['hit', 'hot', 'dot', 'dog', 'cog'], ['hit', 'hot', 'lot', 'log', 'cog']]"
      ]
     },
     "execution_count": 7,
     "metadata": {},
     "output_type": "execute_result"
    }
   ],
   "source": [
    "  [\n",
    "    [\"hit\",\"hot\",\"dot\",\"dog\",\"cog\"],\n",
    "    [\"hit\",\"hot\",\"lot\",\"log\",\"cog\"]\n",
    "  ]"
   ]
  },
  {
   "cell_type": "markdown",
   "metadata": {},
   "source": [
    "# Solution:\n",
    "此题的感觉在于如何存储路径和如何找到一条最短路径的情况下确保同一层执行完后才结束\n",
    "\n",
    "难点一：用dict去存储，格式为{parent:[children]}\n",
    "\n",
    "难点二：用另类的queue，每次使用一个level同时开始形成next_level，即使找到最短路径也只有当前level执行完后才结束"
   ]
  },
  {
   "cell_type": "code",
   "execution_count": 14,
   "metadata": {},
   "outputs": [
    {
     "name": "stdout",
     "output_type": "stream",
     "text": [
      "{'hot': {'hit'}, 'dot': {'hot'}, 'lot': {'hot'}, 'dog': {'dot'}, 'log': {'lot'}, 'cog': {'dog', 'log'}}\n"
     ]
    },
    {
     "data": {
      "text/plain": [
       "[['hit', 'hot', 'dot', 'dog', 'cog'], ['hit', 'hot', 'lot', 'log', 'cog']]"
      ]
     },
     "execution_count": 14,
     "metadata": {},
     "output_type": "execute_result"
    }
   ],
   "source": [
    "from collections import defaultdict\n",
    "import string\n",
    "def findLadders(start, end, wordList):\n",
    "    wordSet = set(wordList)\n",
    "#     child2parents = defaultdict(set) # child : [parents]\n",
    "    child2parents = {}\n",
    "    level = {start}\n",
    "    \n",
    "    while level and end not in child2parents:\n",
    "        next_level = defaultdict(set)\n",
    "        for word in level:\n",
    "            for pos in range(len(word)):\n",
    "                for ch in string.ascii_lowercase:\n",
    "                    newWord = word[:pos] + ch + word[pos + 1:]\n",
    "                    if newWord in wordSet and newWord not in child2parents: # newWord not in child2parents这句的作用相当于visited\n",
    "                        next_level[newWord].add(word)\n",
    "#                         wordSet.remove(newWord)\n",
    "# 注意上面newWord not in child2parents和wordSet.remove(newWord)虽然都是充当了visited的角色，但是作用差别很大。\n",
    "# 对于wordSet.remove(newWord)，当我们只要找到一个cog的时候，下一个就找不到了，比如当dog->cog的时候，那么log->cog就找不到了，因为cog被remove了\n",
    "# 但是对于newWord not in child2parents，因为next_level[newWord].add(word)没有对child2parents修改，因此同一level之间不互相影响\n",
    "        level = next_level\n",
    "        child2parents.update(next_level)\n",
    "    \n",
    "    print(child2parents)\n",
    "    res = [[end]]\n",
    "#     while res[0][0] != start:\n",
    "#         for r in res:\n",
    "#             for p in child2parents[r[0]]:\n",
    "#                 r = [p] + r\n",
    "    while res[0][0] != start:\n",
    "        res = [[p] + r for r in res for p in child2parents[r[0]]]\n",
    "    return res\n",
    "\n",
    "beginWord = \"hit\"\n",
    "endWord = \"cog\"\n",
    "wordList = [\"hot\",\"dot\",\"dog\",\"lot\",\"log\",\"cog\"]\n",
    "findLadders(beginWord, endWord, wordList)"
   ]
  },
  {
   "cell_type": "code",
   "execution_count": 7,
   "metadata": {},
   "outputs": [
    {
     "name": "stdout",
     "output_type": "stream",
     "text": [
      "0.9709505944546686\n"
     ]
    }
   ],
   "source": [
    "import math\n",
    "math.log(2, 2)\n",
    "-1/3 * math.log(4/27, 2)\n",
    "print(-(2/5*math.log(2/5, 2) + 3/5*math.log(3/5, 2)))"
   ]
  },
  {
   "cell_type": "code",
   "execution_count": 8,
   "metadata": {},
   "outputs": [
    {
     "data": {
      "text/plain": [
       "0.9512499999999999"
      ]
     },
     "execution_count": 8,
     "metadata": {},
     "output_type": "execute_result"
    }
   ],
   "source": [
    "0.92*3/8 + 0.97*5/8"
   ]
  },
  {
   "cell_type": "code",
   "execution_count": 9,
   "metadata": {},
   "outputs": [
    {
     "name": "stdout",
     "output_type": "stream",
     "text": [
      "0.8112781244591328\n"
     ]
    }
   ],
   "source": [
    "print(-(3/4*math.log(3/4, 2) + 1/4*math.log(1/4, 2)))"
   ]
  },
  {
   "cell_type": "code",
   "execution_count": null,
   "metadata": {
    "collapsed": true
   },
   "outputs": [],
   "source": []
  }
 ],
 "metadata": {
  "kernelspec": {
   "display_name": "Python 3",
   "language": "python",
   "name": "python3"
  },
  "language_info": {
   "codemirror_mode": {
    "name": "ipython",
    "version": 3
   },
   "file_extension": ".py",
   "mimetype": "text/x-python",
   "name": "python",
   "nbconvert_exporter": "python",
   "pygments_lexer": "ipython3",
   "version": "3.6.1"
  }
 },
 "nbformat": 4,
 "nbformat_minor": 2
}
