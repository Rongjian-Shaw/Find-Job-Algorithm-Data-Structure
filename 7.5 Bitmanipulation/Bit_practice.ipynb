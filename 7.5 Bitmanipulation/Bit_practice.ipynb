{
 "cells": [
  {
   "cell_type": "markdown",
   "metadata": {},
   "source": [
    "# Bit Manipulation"
   ]
  },
  {
   "cell_type": "markdown",
   "metadata": {},
   "source": [
    "Bitwise operation operates on one or more bit patterns or binary numerals at the level of their individual bits. It is a fast, simple action directly supported by the processor, and is used to manipulate values for comparisons and calculations.\n",
    "\n",
    "Bitwise operations are substantially faster than division, several times faster than multiplication, and sometimes significantly faster than addition\n",
    "\n",
    "<img src=\"../images/ch24/bitmani.jpg\" width=\"660\"/>"
   ]
  },
  {
   "cell_type": "markdown",
   "metadata": {},
   "source": [
    "** Basic Skill **\n",
    "\n",
    "- XOR\n",
    "    - myBits ^ 0 : No change \n",
    "    - myBits ^ 1 : Flip\n",
    "- left shifting is the equivalent of ** multiplying by a power of two **\n",
    "    - x << n = x * (1 << n)\n",
    "    - 8 << 2 = 8 * (1 << 2) = 32\n",
    "- A bitwise right-shift will be the equivalent of ** integer division by 2 **\n",
    "    - 0001 1001 >> 2 = 0000 0110\n",
    "    - 0001 1001 >> 4 = 0000 0001"
   ]
  },
  {
   "cell_type": "markdown",
   "metadata": {},
   "source": [
    "** Ex.1 Set Bit, Clear Bit, Toggle Bit, Test Bit **\n",
    "\n",
    "where n is the bit number, and 0 is the least significant bit"
   ]
  },
  {
   "cell_type": "code",
   "execution_count": 1,
   "metadata": {},
   "outputs": [
    {
     "name": "stdout",
     "output_type": "stream",
     "text": [
      "0b10000000\n",
      "130\n",
      "0b10000010\n",
      "136\n",
      "0b10001000\n",
      "160\n",
      "0b10100000\n"
     ]
    }
   ],
   "source": [
    "def setBit(a, n):\n",
    "    return a | (1 << n)\n",
    "\n",
    "a = 128\n",
    "n = 1\n",
    "print(bin(a))\n",
    "r = setBit(a, n)\n",
    "print(r)\n",
    "print(bin(r))\n",
    "\n",
    "n = 3\n",
    "r = setBit(a, n)\n",
    "print(r)\n",
    "print(bin(r))\n",
    "\n",
    "n = 5\n",
    "r = setBit(a, n)\n",
    "print(r)\n",
    "print(bin(r))"
   ]
  },
  {
   "cell_type": "code",
   "execution_count": 2,
   "metadata": {},
   "outputs": [
    {
     "name": "stdout",
     "output_type": "stream",
     "text": [
      "0b1111111\n",
      "0b1111110\n",
      "0b1111101\n",
      "0b1110111\n",
      "0b1011111\n"
     ]
    }
   ],
   "source": [
    "def clearBit(a, n):\n",
    "    return a & (~(1 << n))\n",
    "\n",
    "a = 127\n",
    "print(bin(a))\n",
    "n = 0\n",
    "r = clearBit(a, n)\n",
    "print(bin(r))\n",
    "n = 1\n",
    "r = clearBit(a, n)\n",
    "print(bin(r))\n",
    "n = 3\n",
    "r = clearBit(a, n)\n",
    "print(bin(r))\n",
    "n = 5\n",
    "r = clearBit(a, n)\n",
    "print(bin(r))"
   ]
  },
  {
   "cell_type": "code",
   "execution_count": 3,
   "metadata": {},
   "outputs": [
    {
     "name": "stdout",
     "output_type": "stream",
     "text": [
      "0b10011011\n",
      "0b10011001\n",
      "0b10010011\n",
      "0b10111011\n"
     ]
    }
   ],
   "source": [
    "def toggleBit(a, n):\n",
    "    return a ^ (1 << n)\n",
    "\n",
    "a = 155\n",
    "print(bin(a))\n",
    "n = 1\n",
    "r = toggleBit(a, n)\n",
    "print(bin(r))\n",
    "n = 3\n",
    "r = toggleBit(a, n)\n",
    "print(bin(r))\n",
    "n = 5\n",
    "r = toggleBit(a, n)\n",
    "print(bin(r))"
   ]
  },
  {
   "cell_type": "code",
   "execution_count": null,
   "metadata": {
    "collapsed": true
   },
   "outputs": [],
   "source": [
    "# test if number n of digit is 1\n",
    "def testBit(a, n):\n",
    "    result = a & (1 << n)\n",
    "    return result ！== 0"
   ]
  },
  {
   "cell_type": "markdown",
   "metadata": {},
   "source": [
    "** Ex.2 Convert Integer to Bits **\n",
    "\n",
    "Write your own function to convert int to bits. Like bin(n)."
   ]
  },
  {
   "cell_type": "code",
   "execution_count": 6,
   "metadata": {},
   "outputs": [
    {
     "name": "stdout",
     "output_type": "stream",
     "text": [
      "01111101\n",
      "0b1111101\n",
      "00110111\n",
      "0b110111\n",
      "11111111\n",
      "0b11111111\n",
      "0011011110101111\n",
      "0b11011110101111\n"
     ]
    }
   ],
   "source": [
    "def toBinary(n):\n",
    "    binary = []\n",
    "    if n < 256:\n",
    "        upper = 128\n",
    "    else:\n",
    "        upper = 32768\n",
    "    while upper > 0:\n",
    "        if n & upper != 0:\n",
    "            binary.append('1')\n",
    "        else:\n",
    "            binary.append('0')\n",
    "        upper = upper >> 1\n",
    "    \n",
    "    return ''.join(binary)\n",
    "\n",
    "n = 125\n",
    "print(toBinary(n))\n",
    "print(bin(n))\n",
    "\n",
    "n = 55\n",
    "print(toBinary(n))\n",
    "print(bin(n))\n",
    "\n",
    "n = 255\n",
    "print(toBinary(n))\n",
    "print(bin(n))\n",
    "\n",
    "n = 14255\n",
    "print(toBinary(n))\n",
    "print(bin(n))"
   ]
  },
  {
   "cell_type": "markdown",
   "metadata": {},
   "source": [
    "** Ex.3 Convert Bits to Integer **\n",
    "\n",
    "Write your own function to convert bits to integer. "
   ]
  },
  {
   "cell_type": "code",
   "execution_count": 9,
   "metadata": {},
   "outputs": [
    {
     "name": "stdout",
     "output_type": "stream",
     "text": [
      "125\n",
      "255\n",
      "14255\n"
     ]
    }
   ],
   "source": [
    "def convertBits2Int(binary):\n",
    "    res = 0\n",
    "    n = len(binary)\n",
    "    if n > 16:\n",
    "        raise ValueError('Only support 16 Bits')\n",
    "    for i in range(n):\n",
    "        c = int(binary[i])\n",
    "        if c != 1 and c != 0:\n",
    "            raise ValueError('binary can only be 0 or 1')\n",
    "        res = (res << 1) + c\n",
    "    \n",
    "    return res\n",
    "\n",
    "binary = \"01111101\"\n",
    "result = convertBits2Int(binary)\n",
    "print(result)\n",
    "binary = \"11111111\"\n",
    "result = convertBits2Int(binary)\n",
    "print(result)\n",
    "binary = \"11011110101111\"\n",
    "result = convertBits2Int(binary)\n",
    "print(result)"
   ]
  },
  {
   "cell_type": "markdown",
   "metadata": {},
   "source": [
    "** Ex.4 Displaying Decimal with Bits **\n",
    "\n",
    "Given a (decimal - e.g.3.72) number that is passed in as a string, print the binary representation. If the number cannot be represented accurately in binary, print “ERROR”."
   ]
  },
  {
   "cell_type": "code",
   "execution_count": 17,
   "metadata": {},
   "outputs": [
    {
     "data": {
      "text/plain": [
       "'11.111'"
      ]
     },
     "execution_count": 17,
     "metadata": {},
     "output_type": "execute_result"
    }
   ],
   "source": [
    "def convertDecimal(f):\n",
    "    int_part, dec_part = divmod(f, 1)\n",
    "    int_part = int(int_part)\n",
    "    \n",
    "    int_s = ''\n",
    "    while int_part > 0:\n",
    "        r = int_part % 2\n",
    "        int_part = int_part >> 1\n",
    "        int_s = str(r) + int_s\n",
    "    \n",
    "    int_d = []\n",
    "    while dec_part > 0:\n",
    "        if len(int_d) > 32:\n",
    "            break\n",
    "            \n",
    "        dec_part = dec_part * 2\n",
    "        \n",
    "        if dec_part >= 1: # error dec_part > 1\n",
    "            int_d.append('1')\n",
    "            dec_part -= 1\n",
    "        else:\n",
    "            int_d.append('0')\n",
    "            \n",
    "    int_d = ''.join(int_d)\n",
    "    \n",
    "    return int_s + '.' + int_d\n",
    "\n",
    "f = 3.875\n",
    "convertDecimal(f)"
   ]
  },
  {
   "cell_type": "markdown",
   "metadata": {},
   "source": [
    "** Ex.5 Converting Hex to Integer **"
   ]
  },
  {
   "cell_type": "code",
   "execution_count": 18,
   "metadata": {},
   "outputs": [
    {
     "name": "stdout",
     "output_type": "stream",
     "text": [
      "31\n",
      "255\n",
      "3501\n"
     ]
    }
   ],
   "source": [
    "def hex2int(s):\n",
    "    digits = '0123456789ABCDEF'\n",
    "    integer = 0\n",
    "    for i in range(len(s)):\n",
    "        c = s[i].upper()\n",
    "        d = digits.index(c)\n",
    "        integer = (integer * 16) + d\n",
    "    \n",
    "    return integer\n",
    "\n",
    "s = \"1F\"\n",
    "print(hex2int(s))\n",
    "s = \"FF\"\n",
    "print(hex2int(s))\n",
    "s = \"DAD\"\n",
    "print(hex2int(s))"
   ]
  },
  {
   "cell_type": "markdown",
   "metadata": {},
   "source": [
    "** Ex.6 Converting Integer to Hex **"
   ]
  },
  {
   "cell_type": "code",
   "execution_count": 23,
   "metadata": {},
   "outputs": [
    {
     "name": "stdout",
     "output_type": "stream",
     "text": [
      "1F\n",
      "FF\n",
      "DAD\n"
     ]
    }
   ],
   "source": [
    "def int2hex(s):\n",
    "    digits = '0123456789ABCDEF'\n",
    "    integer = int(s)\n",
    "    res = ''\n",
    "    while integer > 0:\n",
    "        mod = integer % 16\n",
    "        res = str(digits[mod]) + res # tip: the part first get will put to later\n",
    "        integer = integer // 16\n",
    "    return res\n",
    "\n",
    "d = 31\n",
    "print(int2hex(d))\n",
    "d = 255\n",
    "print(int2hex(d))\n",
    "d = 3501\n",
    "print(int2hex(d))"
   ]
  },
  {
   "cell_type": "markdown",
   "metadata": {},
   "source": [
    "** Ex.7 The Number of Bits Set in an Integer **\n",
    "\n",
    "Gets the number of bits set to 1 in an integer. In other words, it counts the number of one."
   ]
  },
  {
   "cell_type": "code",
   "execution_count": 25,
   "metadata": {},
   "outputs": [
    {
     "name": "stdout",
     "output_type": "stream",
     "text": [
      "3\n"
     ]
    }
   ],
   "source": [
    "def bitCountA(n):\n",
    "    if n < 255:\n",
    "        upper = 128\n",
    "    else:\n",
    "        upper = 32768\n",
    "    count = 0\n",
    "    while upper > 0:\n",
    "        if n & upper != 0:\n",
    "            count += 1\n",
    "        upper = upper >> 1\n",
    "    return count \n",
    "\n",
    "n = 11\n",
    "print(bitCountA(n))\n"
   ]
  },
  {
   "cell_type": "code",
   "execution_count": 26,
   "metadata": {},
   "outputs": [
    {
     "name": "stdout",
     "output_type": "stream",
     "text": [
      "3\n"
     ]
    }
   ],
   "source": [
    "def bitCountB(n):\n",
    "    count = 0\n",
    "    while n > 0:\n",
    "        if n & 1 != 0:\n",
    "            count += 1\n",
    "        n = n >> 1\n",
    "    return count\n",
    "\n",
    "n = 11\n",
    "print(bitCountB(n))"
   ]
  },
  {
   "cell_type": "code",
   "execution_count": 27,
   "metadata": {},
   "outputs": [
    {
     "name": "stdout",
     "output_type": "stream",
     "text": [
      "3\n"
     ]
    }
   ],
   "source": [
    "# we can find that n & (n - 1) can remove the last 1 of binary n\n",
    "def bitCountC(n):\n",
    "    count = 0\n",
    "    while n > 0:\n",
    "        n = n & (n - 1)\n",
    "        count += 1\n",
    "        \n",
    "    return count\n",
    "\n",
    "n = 11\n",
    "print(bitCountB(n))"
   ]
  },
  {
   "cell_type": "markdown",
   "metadata": {},
   "source": [
    "** Ex.8 Next Power of 2 **\n",
    "\n",
    "Given an integer n, find the next power of 2 which is greater than n."
   ]
  },
  {
   "cell_type": "code",
   "execution_count": 28,
   "metadata": {},
   "outputs": [
    {
     "name": "stdout",
     "output_type": "stream",
     "text": [
      "16\n",
      "128\n",
      "1024\n"
     ]
    }
   ],
   "source": [
    "def next2Power(n):\n",
    "    while n & (n - 1) != 0:\n",
    "        n = n & (n - 1)\n",
    "    n = n << 1\n",
    "    return n\n",
    "\n",
    "n = 8\n",
    "print(next2Power(n))\n",
    "n = 127\n",
    "print(next2Power(n))\n",
    "n = 555\n",
    "print(next2Power(n))"
   ]
  },
  {
   "cell_type": "markdown",
   "metadata": {},
   "source": [
    "** Ex.9 Detect Opposite Signs for Two Integers **"
   ]
  },
  {
   "cell_type": "code",
   "execution_count": 29,
   "metadata": {},
   "outputs": [
    {
     "name": "stdout",
     "output_type": "stream",
     "text": [
      "False\n",
      "True\n",
      "True\n",
      "False\n",
      "False\n"
     ]
    }
   ],
   "source": [
    "def isOppositeSigns(a, b):\n",
    "    return (a ^ b) < 0\n",
    "\n",
    "a, b = 10, 20\n",
    "print(isOppositeSigns(a, b))\n",
    "a, b = 10, -20\n",
    "print(isOppositeSigns(a, b))\n",
    "a, b = -10, 20\n",
    "print(isOppositeSigns(a, b))\n",
    "a, b = -10, -20\n",
    "print(isOppositeSigns(a, b))\n",
    "a, b = 0, 20\n",
    "print(isOppositeSigns(a, b))"
   ]
  },
  {
   "cell_type": "markdown",
   "metadata": {},
   "source": [
    "** Ex.10 Compute  Sign of Integer **"
   ]
  },
  {
   "cell_type": "code",
   "execution_count": 30,
   "metadata": {},
   "outputs": [
    {
     "name": "stdout",
     "output_type": "stream",
     "text": [
      "True\n",
      "False\n",
      "True\n"
     ]
    }
   ],
   "source": [
    "def isPositiveInteger(n):\n",
    "    return (n >> 31) == 0\n",
    "\n",
    "n = 10\n",
    "print(isPositiveInteger(n))\n",
    "n = -1\n",
    "print(isPositiveInteger(n))\n",
    "n = 0\n",
    "print(isPositiveInteger(n))"
   ]
  },
  {
   "cell_type": "markdown",
   "metadata": {},
   "source": [
    "** Ex.11 Compute the integer absolute value (abs) without branching **\n",
    "\n",
    "where n is the bit number, and 0 is the least significant bit"
   ]
  },
  {
   "cell_type": "code",
   "execution_count": 31,
   "metadata": {},
   "outputs": [
    {
     "name": "stdout",
     "output_type": "stream",
     "text": [
      "-1 -9\n"
     ]
    }
   ],
   "source": [
    "'''\n",
    "We can find that (negative number >> 31) == -1\n",
    "so -1 ^ (negative number >> 31) == |positive number|\n",
    "'''\n",
    "a = -8\n",
    "mask = a >> 31\n",
    "print(mask, a + mask)\n"
   ]
  },
  {
   "cell_type": "code",
   "execution_count": 32,
   "metadata": {},
   "outputs": [
    {
     "name": "stdout",
     "output_type": "stream",
     "text": [
      "0\n",
      "5\n",
      "5\n"
     ]
    }
   ],
   "source": [
    "def absoluteA(a):\n",
    "    mask = a >> 31\n",
    "    return (a + mask) ^ mask\n",
    "\n",
    "print(absoluteA(0))\n",
    "print(absoluteA(5))\n",
    "print(absoluteA(-5))"
   ]
  },
  {
   "cell_type": "code",
   "execution_count": null,
   "metadata": {
    "collapsed": true
   },
   "outputs": [],
   "source": []
  }
 ],
 "metadata": {
  "kernelspec": {
   "display_name": "Python 3",
   "language": "python",
   "name": "python3"
  },
  "language_info": {
   "codemirror_mode": {
    "name": "ipython",
    "version": 3
   },
   "file_extension": ".py",
   "mimetype": "text/x-python",
   "name": "python",
   "nbconvert_exporter": "python",
   "pygments_lexer": "ipython3",
   "version": "3.6.1"
  }
 },
 "nbformat": 4,
 "nbformat_minor": 2
}
