{
 "cells": [
  {
   "cell_type": "markdown",
   "metadata": {},
   "source": [
    "# 数组中重复的数字\n",
    "在一个长度为n的数组里，所有数字都在0~n-1的范围内。数组中某些数字是重复的，但不知道有几个数字重复，不知道每个数字重复了多少次。请找出数组中任意一个重复的数字。<br>\n",
    "input: [2,3,1,0,2,5,3]<br>\n",
    "output:2 or 3"
   ]
  },
  {
   "cell_type": "markdown",
   "metadata": {},
   "source": [
    "# Solution\n",
    "方法一：排序后遍历数组，看哪些元素前后是一样的 O（nlogn）\n",
    "方法二：hashtable, key表示input中的数字，value表示每个数字出现的次数 O（n）\n",
    "方法三：遍历数组，每个遍历到的数字都使其归位（如让3回到位置3），在回归的过程中，如果发现回归的位置已经是其本身了（已经有一个3在位置3上了），返回该数字"
   ]
  },
  {
   "cell_type": "code",
   "execution_count": 20,
   "metadata": {},
   "outputs": [
    {
     "name": "stdout",
     "output_type": "stream",
     "text": [
      "[2, 3, 1, 0, 2, 5, 3]\n",
      "[2, 0, 1, 3, 2, 5, 3]\n",
      "[0, 2, 1, 3, 2, 5, 3]\n",
      "[0, 2, 1, 3, 2, 5, 3]\n",
      "[0, 1, 2, 3, 2, 5, 3]\n",
      "[0, 1, 2, 3, 2, 5, 3]\n",
      "[0, 1, 2, 3, 2, 5, 3]\n",
      "[0, 1, 2, 3, 2, 5, 3]\n",
      "4\n"
     ]
    }
   ],
   "source": [
    "def duplicate(nums):\n",
    "    # 确保数组不为空\n",
    "    if len(nums) < 0:\n",
    "        return -1\n",
    "    # 确保数字的范围在 0 ~ n-1  \n",
    "    for i in range(len(nums)):\n",
    "        if i < 0 or i > len(nums) - 1:\n",
    "            return -1\n",
    "    for i in range(len(nums)):\n",
    "        # 下标与数字不符合,直到该位置的数字和其下标相等\n",
    "        while(nums[i] != i): \n",
    "            print(nums)\n",
    "            if nums[i] == nums[nums[i]]:\n",
    "                return i\n",
    "            nums[nums[1]], nums[1] = nums[1], nums[nums[1]] # 此处一个坑点见下方解析\n",
    "            \n",
    "        print(nums)\n",
    "    return -1\n",
    "\n",
    "nums = [2,3,1,0,2,5,3]\n",
    "print(duplicate(nums))"
   ]
  },
  {
   "cell_type": "code",
   "execution_count": 22,
   "metadata": {},
   "outputs": [
    {
     "name": "stdout",
     "output_type": "stream",
     "text": [
      "[1, 3, 2, 4, 5, 6, 7]\n"
     ]
    }
   ],
   "source": [
    "# nums = [2,3,1,0,2,5,3]\n",
    "nums = [1,2,3,4,5,6,7]\n",
    "# nums[1], nums[2] = nums[2], nums[1]\n",
    "nums[nums[1]], nums[1] = nums[1], nums[nums[1]] # 理论上获得 [2,0,1,3,5,3]\n",
    "print(nums)"
   ]
  },
  {
   "cell_type": "code",
   "execution_count": 21,
   "metadata": {},
   "outputs": [
    {
     "name": "stdout",
     "output_type": "stream",
     "text": [
      "[1, 3, 3, 2, 5, 6, 7]\n"
     ]
    }
   ],
   "source": [
    "nums = [1,2,3,4,5,6,7]\n",
    "nums[1], nums[nums[1]] = nums[nums[1]], nums[1] # 下意识会觉得将获得 [2,0,1,3,5,3]\n",
    "print(nums)"
   ]
  },
  {
   "cell_type": "markdown",
   "metadata": {},
   "source": [
    "# Solution2：不可修改原数组\n",
    "类似二分法：\n",
    "把1~n的数字从中间的数字m分为两半，前面为1~m后面为m+1~n。如果1~m的数字的数目超过m，那么这一半里一定有重复的数字，否则另一半里一定有重复的数字。然后继续把有重复数字的区间一分为二。<br>\n",
    "比如，[2,3,5,4,3,2,6,7]。长度为8的数组，所有数字都是1~7范围内。二分后为1~4和5~7，统计1-4这四个数字在数组中出现的次数，发现一共出现了5次，因此这四个数字一定有重复数字。<br>\n",
    "再把1-4切分为1-2和3-4。1，2两个数字只出现了2次，3，4两个数字出现了3次，也就是说3，4里有其中一个是重复数字，在分别统计他们，发现数字3重复了2次。"
   ]
  },
  {
   "cell_type": "code",
   "execution_count": 29,
   "metadata": {},
   "outputs": [
    {
     "name": "stdout",
     "output_type": "stream",
     "text": [
      "4 5\n",
      "2 2\n"
     ]
    },
    {
     "data": {
      "text/plain": [
       "3"
      ]
     },
     "execution_count": 29,
     "metadata": {},
     "output_type": "execute_result"
    }
   ],
   "source": [
    "# nums存储的是数组，start和end表示当前1-n数字的范围\n",
    "def countRange(nums, start, end):\n",
    "    if len(nums) == 0:\n",
    "        return -1\n",
    "    count = 0\n",
    "    for i in range(len(nums)):\n",
    "        if start <= nums[i] <= end:\n",
    "            count += 1\n",
    "    return count\n",
    "\n",
    "def getDuplication(nums):\n",
    "    if len(nums) == 0:\n",
    "        return -1\n",
    "    left, right = 1, len(nums) - 1 #注意审题，题目是说1-n\n",
    "    \n",
    "    while(left + 1 < right):\n",
    "        mid = left + (right - left) // 2\n",
    "        print(mid, countRange(nums, left, mid))\n",
    "        if countRange(nums, left, mid) > mid - left + 1:\n",
    "            right = mid \n",
    "        else:\n",
    "            left = mid + 1\n",
    "        \n",
    "        \n",
    "    if countRange(nums, left, left) > 1:\n",
    "        return left\n",
    "    if countRange(nums, right, right) > 1:\n",
    "        return right\n",
    "\n",
    "nums = [2,3,5,4,3,2,6,7]\n",
    "getDuplication(nums)"
   ]
  },
  {
   "cell_type": "code",
   "execution_count": null,
   "metadata": {
    "collapsed": true
   },
   "outputs": [],
   "source": []
  }
 ],
 "metadata": {
  "kernelspec": {
   "display_name": "Python 3",
   "language": "python",
   "name": "python3"
  },
  "language_info": {
   "codemirror_mode": {
    "name": "ipython",
    "version": 3
   },
   "file_extension": ".py",
   "mimetype": "text/x-python",
   "name": "python",
   "nbconvert_exporter": "python",
   "pygments_lexer": "ipython3",
   "version": "3.6.1"
  }
 },
 "nbformat": 4,
 "nbformat_minor": 2
}
