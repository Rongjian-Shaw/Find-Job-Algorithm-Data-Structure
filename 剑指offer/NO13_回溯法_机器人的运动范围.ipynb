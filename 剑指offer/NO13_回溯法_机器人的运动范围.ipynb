{
 "cells": [
  {
   "cell_type": "markdown",
   "metadata": {},
   "source": [
    "# 题目描述\n",
    "地上有一个m行和n列的方格。一个机器人从坐标0,0的格子开始移动，每一次只能向左，右，上，下四个方向移动一格，但是不能进入行坐标和列坐标的数位之和大于k的格子。 例如，当k为18时，机器人能够进入方格（35,37），因为3+5+3+7=18。但是，它不能进入方格（35,38），因为3+5+3+8=19。请问该机器人能够达到多少个格子？"
   ]
  },
  {
   "cell_type": "code",
   "execution_count": 13,
   "metadata": {},
   "outputs": [
    {
     "data": {
      "text/plain": [
       "2200"
      ]
     },
     "execution_count": 13,
     "metadata": {},
     "output_type": "execute_result"
    }
   ],
   "source": [
    "def movingCount(threshold, rows, cols):\n",
    "    if threshold <= 0 or rows <= 0 or cols <= 0:\n",
    "        return 0\n",
    "    visited = [False] * (rows * cols)\n",
    "    count = movingCountCore(threshold, rows, cols, 0, 0, visited)\n",
    "    return count\n",
    "\n",
    "def movingCountCore(threshold, rows, cols, row, col, visited):\n",
    "    count = 0\n",
    "    if check(threshold, rows, cols, row, col, visited) == True:\n",
    "        visited[row * cols + col] = True\n",
    "        count = (1 + movingCountCore(threshold, rows, cols, row + 1, col, visited)\n",
    "                + movingCountCore(threshold, rows, cols, row - 1, col, visited)\n",
    "                + movingCountCore(threshold, rows, cols, row, col + 1, visited)\n",
    "                + movingCountCore(threshold, rows, cols, row, col - 1, visited))\n",
    "#     else:\n",
    "#         visited[row * cols + col] = False  # 易错点：回溯不需要取消visited，不然会越界 \n",
    "    return count\n",
    " \n",
    "def check(threshold, rows, cols, row, col, visited):\n",
    "    if (row >= 0 and row < rows and col >= 0 and col < cols # 易犯错误：row和col是可以=0的\n",
    "       and visited[row * cols + col] == False\n",
    "       and getDigitSum(row) + getDigitSum(col) <= threshold):\n",
    "        return True\n",
    "    else:\n",
    "        return False\n",
    "\n",
    "def getDigitSum(number):\n",
    "    sum = 0\n",
    "    while number > 0:\n",
    "        sum += number % 10\n",
    "        number = number // 10\n",
    "    return sum\n",
    "\n",
    "threshold = 18\n",
    "rows = cols = 50\n",
    "movingCount(threshold, rows, cols)"
   ]
  },
  {
   "cell_type": "markdown",
   "metadata": {},
   "source": []
  }
 ],
 "metadata": {
  "kernelspec": {
   "display_name": "Python 3",
   "language": "python",
   "name": "python3"
  },
  "language_info": {
   "codemirror_mode": {
    "name": "ipython",
    "version": 3
   },
   "file_extension": ".py",
   "mimetype": "text/x-python",
   "name": "python",
   "nbconvert_exporter": "python",
   "pygments_lexer": "ipython3",
   "version": "3.6.1"
  }
 },
 "nbformat": 4,
 "nbformat_minor": 2
}
