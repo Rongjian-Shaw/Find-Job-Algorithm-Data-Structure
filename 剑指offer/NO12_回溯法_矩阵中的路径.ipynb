{
 "cells": [
  {
   "cell_type": "markdown",
   "metadata": {},
   "source": [
    "# 矩阵中的路径\n",
    "请设计一个函数，用来判断在一个矩阵中是否存在一条包含某字符串所有字符的路径。路径可以从矩阵中的任意一个格子开始，每一步可以在矩阵中向左，向右，向上，向下移动一个格子。如果一条路径经过了矩阵中的某一个格子，则该路径不能再进入该格子。 例如在下面的3x4的矩阵中包含一条字符串\"bcced\"的路径（路径中的字母用斜体表示）。但是矩阵中不包含\"abcb\"路径，因为字符串的第一个字符b占据了矩阵中的第一行第二个格子之后，路径不能再次进入这个格子。"
   ]
  },
  {
   "cell_type": "code",
   "execution_count": 6,
   "metadata": {},
   "outputs": [
    {
     "data": {
      "text/plain": [
       "True"
      ]
     },
     "execution_count": 6,
     "metadata": {},
     "output_type": "execute_result"
    }
   ],
   "source": [
    "def hasPath(matrix, string):\n",
    "    if len(matrix) == 0 or string == None:\n",
    "        return False\n",
    "    rows = len(matrix)\n",
    "    cols = len(matrix[0])\n",
    "    visited = [False] * (rows * cols)\n",
    "    pathLength = 0\n",
    "    for row in range(rows):\n",
    "        for col in range(cols):\n",
    "            if hasPathCore(matrix, rows, cols, row, col, pathLength, string, visited):\n",
    "                return True\n",
    "    \n",
    "    return False\n",
    "\n",
    "def hasPathCore(matrix, rows, cols, row, col, pathLength, string, visited):\n",
    "    if pathLength == len(string):\n",
    "        return True\n",
    "    hasPath = False\n",
    "    if(row >= 0 and row < rows and col >= 0 and col < cols\n",
    "      and matrix[row][col] == string[pathLength] \n",
    "       and visited[row * cols + col] == False ):\n",
    "        visited[row * cols + col] = True\n",
    "        pathLength += 1\n",
    "        hasPath = (hasPathCore(matrix, rows, cols, row, col + 1, pathLength, string, visited)\n",
    "                    or hasPathCore(matrix, rows, cols, row, col - 1, pathLength, string, visited)\n",
    "                    or hasPathCore(matrix, rows, cols, row - 1, col, pathLength, string, visited)\n",
    "                    or hasPathCore(matrix, rows, cols, row + 1, col, pathLength, string, visited))\n",
    "    \n",
    "    if hasPath == False:\n",
    "        pathLength -= 1\n",
    "        visited[row * cols + col] == False\n",
    "    return hasPath\n",
    "\n",
    "matrix = [\n",
    "    ['a', 'b', 't', 'g'],\n",
    "    ['c', 'f', 'c', 's'],\n",
    "    ['j', 'd', 'e', 'h']\n",
    "]\n",
    "string = \"bfce\"       \n",
    "hasPath(matrix, string)    \n",
    "        "
   ]
  },
  {
   "cell_type": "code",
   "execution_count": null,
   "metadata": {
    "collapsed": true
   },
   "outputs": [],
   "source": []
  }
 ],
 "metadata": {
  "kernelspec": {
   "display_name": "Python 3",
   "language": "python",
   "name": "python3"
  },
  "language_info": {
   "codemirror_mode": {
    "name": "ipython",
    "version": 3
   },
   "file_extension": ".py",
   "mimetype": "text/x-python",
   "name": "python",
   "nbconvert_exporter": "python",
   "pygments_lexer": "ipython3",
   "version": "3.6.1"
  }
 },
 "nbformat": 4,
 "nbformat_minor": 2
}
