{
 "cells": [
  {
   "cell_type": "markdown",
   "metadata": {},
   "source": [
    "# 剪绳子\n",
    "给你一根长度为n绳子，请把绳子剪成m段（m、n都是整数，n>1并且m≥1）。每段的绳子的长度记为k[0]、k[1]、……、k[m]。k[0]*k[1]*…*k[m]可能的最大乘\n",
    "\n",
    "积是多少？例如当绳子的长度是8时，我们把它剪成长度分别为2、3、3的三段，此时得到最大的乘积18。"
   ]
  },
  {
   "cell_type": "markdown",
   "metadata": {},
   "source": [
    "# 动态规划\n",
    "动态规划用自上向下的方式去思考（类似递归），用自下向上的方式去实现"
   ]
  },
  {
   "cell_type": "code",
   "execution_count": 5,
   "metadata": {},
   "outputs": [
    {
     "name": "stdout",
     "output_type": "stream",
     "text": [
      "[0, 1, 2, 3, 4, 6, 9, 12]\n"
     ]
    },
    {
     "data": {
      "text/plain": [
       "12"
      ]
     },
     "execution_count": 5,
     "metadata": {},
     "output_type": "execute_result"
    }
   ],
   "source": [
    "def maxProductAfterCutting_DP(length):\n",
    "    # 对于l <= 3的情况，有最基本的解\n",
    "    if length < 2:\n",
    "        return 0\n",
    "    if length == 2:\n",
    "        return 1\n",
    "    if length == 3:\n",
    "        return 2\n",
    "    \n",
    "    # 对于 l > 3的情况，用product存储对于l为不同长度下的最优解\n",
    "    # 这里product与上面return不一样是因为，上面的长度<=3，而且规定一定要切一刀，下面的product属于可以不剪的情况\n",
    "    product = [0] * (length + 1)\n",
    "    product[0] = 0\n",
    "    product[1] = 1\n",
    "    product[2] = 2\n",
    "    product[3] = 3\n",
    "    # 注意range的最右侧是不被算进去的\n",
    "    for i in range(4, length + 1):\n",
    "        # product[j]*product[i-j]的每个可能都试一遍知道找到最大值存进去\n",
    "        product[i] = max([product[j]*product[i-j] for j in range(0, i // 2 + 1)])\n",
    "    print(product)\n",
    "    return product[length]\n",
    "\n",
    "maxProductAfterCutting_DP(7)"
   ]
  },
  {
   "cell_type": "markdown",
   "metadata": {},
   "source": [
    "# 贪婪算法\n",
    "针对每一步都有相同的最优解法，可以使用贪婪算法。比如这题，只要尽可能的减除长度为3的段，就可以保持乘积最大。除了当最后长度为4的时候，2*2最优"
   ]
  },
  {
   "cell_type": "code",
   "execution_count": 15,
   "metadata": {},
   "outputs": [
    {
     "name": "stdout",
     "output_type": "stream",
     "text": [
      "1\n",
      "2\n"
     ]
    },
    {
     "data": {
      "text/plain": [
       "12"
      ]
     },
     "execution_count": 15,
     "metadata": {},
     "output_type": "execute_result"
    }
   ],
   "source": [
    "def maxProductAfterCutting_Greed(length):\n",
    "    # 对于l <= 3的情况，有最基本的解\n",
    "    if length < 2:\n",
    "        return 0\n",
    "    if length == 2:\n",
    "        return 1\n",
    "    if length == 3:\n",
    "        return 2\n",
    "    \n",
    "    timesOf3 = length // 3\n",
    "    \n",
    "    if length - timesOf3 * 3 == 1:\n",
    "        timesOf3 = timesOf3 - 1\n",
    "    \n",
    "    timesOf2 = (length - timesOf3 * 3) // 2\n",
    "    \n",
    "    print(timesOf3)\n",
    "    print(timesOf2)\n",
    "    return 3 ** timesOf3 * 2 ** timesOf2 # 这里timesOf3和timesOf2是作为幂出现的\n",
    "\n",
    "maxProductAfterCutting_Greed(7)"
   ]
  },
  {
   "cell_type": "code",
   "execution_count": null,
   "metadata": {
    "collapsed": true
   },
   "outputs": [],
   "source": []
  }
 ],
 "metadata": {
  "kernelspec": {
   "display_name": "Python 3",
   "language": "python",
   "name": "python3"
  },
  "language_info": {
   "codemirror_mode": {
    "name": "ipython",
    "version": 3
   },
   "file_extension": ".py",
   "mimetype": "text/x-python",
   "name": "python",
   "nbconvert_exporter": "python",
   "pygments_lexer": "ipython3",
   "version": "3.6.1"
  }
 },
 "nbformat": 4,
 "nbformat_minor": 2
}
