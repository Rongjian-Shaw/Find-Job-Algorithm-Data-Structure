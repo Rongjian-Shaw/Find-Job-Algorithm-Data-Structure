{
 "cells": [
  {
   "cell_type": "markdown",
   "metadata": {},
   "source": [
    "# 二进制中1的个数\n",
    "题目描述：给定一个整数，输出这个整数的二进制中1的个数。例如：给定7，其二进制表示111.因此输出结果为3."
   ]
  },
  {
   "cell_type": "code",
   "execution_count": 2,
   "metadata": {},
   "outputs": [
    {
     "data": {
      "text/plain": [
       "3"
      ]
     },
     "execution_count": 2,
     "metadata": {},
     "output_type": "execute_result"
    }
   ],
   "source": [
    "# 常规解法\n",
    "def NumberOf1(n):\n",
    "    flag = 1\n",
    "    count = 0\n",
    "    for i in range(32):\n",
    "        if(flag & n == flag):\n",
    "            count += 1\n",
    "        flag = flag << 1\n",
    "    return count\n",
    "\n",
    "NumberOf1(7)"
   ]
  },
  {
   "cell_type": "code",
   "execution_count": 3,
   "metadata": {},
   "outputs": [
    {
     "data": {
      "text/plain": [
       "3"
      ]
     },
     "execution_count": 3,
     "metadata": {},
     "output_type": "execute_result"
    }
   ],
   "source": [
    "# 惊喜解法\n",
    "# 规律：把一个整数减去1之后再和原来的整数做与运算，得到的结果相当于把整数的二进制表示中最右边的1变成0\n",
    "def NumberOf1(n):\n",
    "    count = 0\n",
    "    while n != 0:\n",
    "        count += 1\n",
    "        n = n & (n - 1)\n",
    "    return count\n",
    "NumberOf1(7)"
   ]
  },
  {
   "cell_type": "code",
   "execution_count": null,
   "metadata": {
    "collapsed": true
   },
   "outputs": [],
   "source": []
  }
 ],
 "metadata": {
  "kernelspec": {
   "display_name": "Python 3",
   "language": "python",
   "name": "python3"
  },
  "language_info": {
   "codemirror_mode": {
    "name": "ipython",
    "version": 3
   },
   "file_extension": ".py",
   "mimetype": "text/x-python",
   "name": "python",
   "nbconvert_exporter": "python",
   "pygments_lexer": "ipython3",
   "version": "3.6.1"
  }
 },
 "nbformat": 4,
 "nbformat_minor": 2
}
