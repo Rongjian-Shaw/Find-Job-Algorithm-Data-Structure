{
 "cells": [
  {
   "cell_type": "markdown",
   "metadata": {},
   "source": [
    "# 面试题5 替换空格\n",
    "请实现一个函数，把字符串中的每个空格替换成20%"
   ]
  },
  {
   "cell_type": "markdown",
   "metadata": {},
   "source": [
    "# Solution:\n",
    "方法一：暴力解 <br>\n",
    "方法二：先遍历一遍字符串，这样就能统计出字符串中空格的总数，并可以由此计算出替换之后的字符串的总长度"
   ]
  },
  {
   "cell_type": "code",
   "execution_count": 9,
   "metadata": {},
   "outputs": [
    {
     "name": "stdout",
     "output_type": "stream",
     "text": [
      "indexOfNew: 12\n",
      "indexOfNew: 11\n",
      "indexOfNew: 10\n",
      "indexOfNew: 9\n",
      "indexOfNew: 8\n",
      "indexOfNew: 7\n",
      "indexOfNew: 4\n",
      "indexOfNew: 3\n",
      "indexOfNew: 2\n",
      "indexOfNew: 1\n",
      "indexOfNew: 0\n",
      "['h', 'e', 'l', 'l', 'o', '%', '2', '0', 'w', 'o', 'r', 'l', 'd']\n"
     ]
    },
    {
     "data": {
      "text/plain": [
       "'hello%20world'"
      ]
     },
     "execution_count": 9,
     "metadata": {},
     "output_type": "execute_result"
    }
   ],
   "source": [
    "def ReplaceBlank(string):\n",
    "    if string == \"\":\n",
    "        return -1\n",
    "    originalLength = len(string)\n",
    "    numberOfBlank = string.count(\" \")\n",
    "    newLength = originalLength + numberOfBlank * 2\n",
    "    \n",
    "    indexOfOrigin = originalLength - 1\n",
    "    indexOfNew = newLength - 1\n",
    "    \n",
    "    s = [None for i in range(newLength)]\n",
    "    while indexOfOrigin >= 0:\n",
    "        print('indexOfNew:', indexOfNew)\n",
    "        if string[indexOfOrigin] == ' ':\n",
    "            s[indexOfNew] = '0'\n",
    "            indexOfNew -= 1\n",
    "            s[indexOfNew] = '2'\n",
    "            indexOfNew -= 1\n",
    "            s[indexOfNew] = '%'\n",
    "            indexOfNew -= 1\n",
    "        else:\n",
    "            s[indexOfNew] = string[indexOfOrigin]\n",
    "            indexOfNew -= 1\n",
    "        \n",
    "        indexOfOrigin -= 1\n",
    "    \n",
    "    print(s)\n",
    "    return ''.join(s)\n",
    "\n",
    "ReplaceBlank('hello world')\n",
    "    "
   ]
  },
  {
   "cell_type": "code",
   "execution_count": null,
   "metadata": {
    "collapsed": true
   },
   "outputs": [],
   "source": []
  }
 ],
 "metadata": {
  "kernelspec": {
   "display_name": "Python 3",
   "language": "python",
   "name": "python3"
  },
  "language_info": {
   "codemirror_mode": {
    "name": "ipython",
    "version": 3
   },
   "file_extension": ".py",
   "mimetype": "text/x-python",
   "name": "python",
   "nbconvert_exporter": "python",
   "pygments_lexer": "ipython3",
   "version": "3.6.1"
  }
 },
 "nbformat": 4,
 "nbformat_minor": 2
}
