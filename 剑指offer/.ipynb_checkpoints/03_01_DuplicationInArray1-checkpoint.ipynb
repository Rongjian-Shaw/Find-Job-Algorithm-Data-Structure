{
 "cells": [
  {
   "cell_type": "markdown",
   "metadata": {},
   "source": [
    "# 数组中重复的数字\n",
    "在一个长度为n的数组里，所有数字都在0~n-1的范围内。数组中某些数字是重复的，但不知道有几个数字重复，不知道每个数字重复了多少次。请找出数组中任意一个重复的数字。<br>\n",
    "input: [2,3,1,0,2,5,3]<br>\n",
    "output:2 or 3"
   ]
  },
  {
   "cell_type": "markdown",
   "metadata": {},
   "source": [
    "# Solution\n",
    "方法一：排序后遍历数组，看哪些元素前后是一样的 O（nlogn）\n",
    "方法二：hashtable, key表示input中的数字，value表示每个数字出现的次数 O（n）\n",
    "方法三：遍历数组，每个遍历到的数字都使其归位（如让3回到位置3），在回归的过程中，如果发现回归的位置已经是其本身了（已经有一个3在位置3上了），返回该数字"
   ]
  },
  {
   "cell_type": "code",
   "execution_count": null,
   "metadata": {
    "collapsed": true
   },
   "outputs": [],
   "source": [
    "def duplicate(nums):\n",
    "    # 确保数组不为空\n",
    "    if len(nums) < 0:\n",
    "        return -1\n",
    "    # 确保数字的范围在 0 ~ n-1  \n",
    "    for i in range(len(nums)):\n",
    "        if i < 0 or i > len(nums) - 1:\n",
    "            return -1\n",
    "    for i in range(len(nums)):\n",
    "        # 下标与数字不符合,直到该位置的数字和其下标相等\n",
    "        while(nums[i] != i): \n",
    "            if nums[i] == nums[nums[i]]:\n",
    "                return i\n",
    "            nums[i], nums[nums[i]] = nums[nums[i]], nums[i]\n",
    "        print(nums)\n",
    "    return -1\n",
    "\n",
    "nums = [2,3,1,0,2,5,3]\n",
    "print(duplicate(nums))"
   ]
  },
  {
   "cell_type": "code",
   "execution_count": null,
   "metadata": {
    "collapsed": true
   },
   "outputs": [],
   "source": [
    "print(1)"
   ]
  },
  {
   "cell_type": "code",
   "execution_count": null,
   "metadata": {
    "collapsed": true
   },
   "outputs": [],
   "source": []
  }
 ],
 "metadata": {
  "kernelspec": {
   "display_name": "Python 3",
   "language": "python",
   "name": "python3"
  },
  "language_info": {
   "codemirror_mode": {
    "name": "ipython",
    "version": 3
   },
   "file_extension": ".py",
   "mimetype": "text/x-python",
   "name": "python",
   "nbconvert_exporter": "python",
   "pygments_lexer": "ipython3",
   "version": "3.6.1"
  }
 },
 "nbformat": 4,
 "nbformat_minor": 2
}
