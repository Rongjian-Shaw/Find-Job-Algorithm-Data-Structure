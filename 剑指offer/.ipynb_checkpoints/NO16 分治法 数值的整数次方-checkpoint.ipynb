{
 "cells": [
  {
   "cell_type": "markdown",
   "metadata": {},
   "source": [
    "给定一个double类型的浮点数base和int类型的整数exponent。求base的exponent次方。"
   ]
  },
  {
   "cell_type": "code",
   "execution_count": 4,
   "metadata": {},
   "outputs": [
    {
     "data": {
      "text/plain": [
       "8"
      ]
     },
     "execution_count": 4,
     "metadata": {},
     "output_type": "execute_result"
    }
   ],
   "source": [
    "def Power(base, exponent):\n",
    "    if base == 0 and exponent < 0: # 当base是0的时候，exponent不能为负数\n",
    "        return 0\n",
    "    if exponent < 0:\n",
    "        exponent = -exponent\n",
    "    result = PowerWithUnsignedExponent(base, exponent)\n",
    "    if exponent < 0:\n",
    "        result = 1 / result\n",
    "    return result\n",
    "\n",
    "def PowerWithUnsignedExponent(base, exponent):\n",
    "    if exponent == 0:\n",
    "        return 1\n",
    "    if exponent == 1:\n",
    "        return base\n",
    "    result = PowerWithUnsignedExponent(base*base, exponent >> 1)\n",
    "    if exponent % 2 == 1: #exponent is Odd\n",
    "        result = result * base\n",
    "    return result\n",
    "\n",
    "Power(2,3)"
   ]
  },
  {
   "cell_type": "code",
   "execution_count": null,
   "metadata": {
    "collapsed": true
   },
   "outputs": [],
   "source": []
  }
 ],
 "metadata": {
  "kernelspec": {
   "display_name": "Python 3",
   "language": "python",
   "name": "python3"
  },
  "language_info": {
   "codemirror_mode": {
    "name": "ipython",
    "version": 3
   },
   "file_extension": ".py",
   "mimetype": "text/x-python",
   "name": "python",
   "nbconvert_exporter": "python",
   "pygments_lexer": "ipython3",
   "version": "3.6.1"
  }
 },
 "nbformat": 4,
 "nbformat_minor": 2
}
