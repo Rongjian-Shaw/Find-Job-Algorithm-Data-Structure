{
 "cells": [
  {
   "cell_type": "code",
   "execution_count": 2,
   "metadata": {
    "collapsed": true
   },
   "outputs": [],
   "source": [
    "from LinkedList import LinkedList\n",
    "from LinkedList import Node"
   ]
  },
  {
   "cell_type": "markdown",
   "metadata": {
    "collapsed": true
   },
   "source": [
    "<a href='#Ex1'>Ex.1 Merge Two Sorted Lists</a>\n",
    "\n",
    "<a href='#Ex2'>Ex.2 Intersection of Two Linked Lists</a>\n",
    "\n",
    "<a href='#Ex3'>Ex.3 Insertion Sort List</a>\n",
    "\n",
    "<a href='#Ex4'>Ex.4 Sort List</a>\n",
    "\n",
    "<a href='#Ex5'>Ex.5 Partition List</a>\n",
    "\n",
    "<a href='#Ex6'>Ex.6 Reverse a Linked List</a>\n",
    "\n",
    "<a href='#Ex7'>Ex.7 Reverse a Linked List II</a>\n",
    "\n",
    "<a href='#Ex8'>Ex.8 Reverse a Linked List IV</a>\n",
    "\n",
    "<a href='#Ex9'>Ex.9 Palindrome Linked List</a>\n",
    "\n",
    "<a href='#Ex10'>Ex.10 Remove Duplicates from Sorted List</a>\n"
   ]
  },
  {
   "cell_type": "markdown",
   "metadata": {},
   "source": [
    "### <a id='Ex1'>Ex.1 Merge Two Sorted Lists</a>\n",
    "\n",
    "Merge two sorted linked lists and return it as a new list.\n",
    "\n",
    "Input: 1->2->4, 1->3->4\n",
    "\n",
    "Output: 1->1->2->3->4->4"
   ]
  },
  {
   "cell_type": "code",
   "execution_count": 5,
   "metadata": {},
   "outputs": [
    {
     "name": "stdout",
     "output_type": "stream",
     "text": [
      "1 1 2 3 4 4 \n"
     ]
    }
   ],
   "source": [
    "# iteratively\n",
    "# O(m + n)\n",
    "def mergeTwoLists1(l1, l2):\n",
    "    assert l1 is not None and l2 is not None\n",
    "    \n",
    "    p1 = l1\n",
    "    p2 = l2\n",
    "    dummy = cur = Node(0)\n",
    "    while p1 is not None and p2 is not None:\n",
    "        if p1.value < p2.value:\n",
    "            cur.next = p1\n",
    "            p1 = p1.next\n",
    "        else:\n",
    "            cur.next = p2\n",
    "            p2 = p2.next\n",
    "        cur = cur.next\n",
    "    \n",
    "    cur.next = p1 or p2\n",
    "    return dummy.next\n",
    "\n",
    "node11 = Node(1)\n",
    "node12 = Node(2)\n",
    "node14 = Node(4)\n",
    "node11.next = node12\n",
    "node12.next = node14\n",
    "\n",
    "node21 = Node(1)\n",
    "node23 = Node(3)\n",
    "node24 = Node(4)\n",
    "node21.next = node23\n",
    "node23.next = node24\n",
    "\n",
    "node = mergeTwoLists1(node11, node21)\n",
    "lst = LinkedList()\n",
    "lst.head.next = node\n",
    "lst.printlist()"
   ]
  },
  {
   "cell_type": "code",
   "execution_count": null,
   "metadata": {
    "collapsed": true
   },
   "outputs": [],
   "source": [
    "# recursively\n",
    "# 递归的思路是分治法，看如何能把一个问题分解成若干个小问题（1个，2个或多个），且每个问题的解决方式一样\n",
    "# 比如归并的时候，归并递归函数表示后面排好序的数组\n",
    "# 比如 快速排序的时候，快排递归函数是pivot两边排好序的数组\n",
    "# 比如 斐波那契数列 递归函数表示了一个数之前已经排好的斐波那契数列\n",
    "def mergeTwoLists2(l1, l2):\n",
    "    if l1 is None or l2 is None:\n",
    "        return l1 or l2\n",
    "    if l1.value < l2.value:\n",
    "        l1.next = mergeTwoLists2(l1.next, l2)\n",
    "        return l1\n",
    "    else:\n",
    "        l2.next = mergeTwoLists2(l1, l2.next)\n",
    "        return l2       "
   ]
  },
  {
   "cell_type": "markdown",
   "metadata": {},
   "source": [
    "### <a id='Ex2'>Ex.2 Intersection of Two Linked Lists</a>\n",
    "\n",
    "Write a program to find the node at which the intersection of two singly linked lists begins.\n",
    "\n",
    "\n",
    "For example, the following two linked lists:\n",
    "\n",
    "A:          a1 → a2\n",
    "\n",
    "                   ↘\n",
    "                   \n",
    "                     c1 → c2 → c3\n",
    "                     \n",
    "                   ↗    \n",
    "                   \n",
    "B:     b1 → b2 → b3\n",
    "\n",
    "begin to intersect at node c1."
   ]
  },
  {
   "cell_type": "markdown",
   "metadata": {},
   "source": [
    "# Solution:\n",
    "方法一：如果可以知道l1和l2的size的话，那么就可以让l1和l2从同一点出发，很容易就找到第一个相同节点。<br>\n",
    "方法二：想找到l1和l2第一个相同点通常需要让l1和l2走相同的路程，这样可以用双指针一个一个的去比较。那么如何让l1和l2走相同的路程？<br>\n",
    "假设A运动员和B运动员跑上面这种类型的赛道，那么只需要让A跑完自己的跑道后再去B的起点跑，B跑完自己的跑道后去A的起点跑，那么AB必定会在第一个相同节点相遇。因为他们后面的路程一定是相同的，且前面跑过的路程也必定是相同的。"
   ]
  },
  {
   "cell_type": "code",
   "execution_count": null,
   "metadata": {
    "collapsed": true
   },
   "outputs": [],
   "source": [
    "def getIntersectionNode(headA, headB):\n",
    "    assert headA is not None and headB is not None\n",
    "    p1 = headA\n",
    "    p2 = headB\n",
    "    while p1 != p2:\n",
    "        if p1 == None:\n",
    "            p1 = headB\n",
    "        p1 = p1.next\n",
    "        if p2 == None:\n",
    "            p2 = headA\n",
    "        p2 = p2.next  \n",
    "    return p1"
   ]
  },
  {
   "cell_type": "markdown",
   "metadata": {},
   "source": [
    "### <a id='Ex3'>Ex.3 Insertion Sort List</a>"
   ]
  },
  {
   "cell_type": "markdown",
   "metadata": {},
   "source": [
    "# Solution:\n",
    "对链表进行插入排序<br>\n",
    "插入排序的思路是逐个扫描每个元素，然后将元素插入到其对应的位置。时间复杂度为O(n^2)<br>\n",
    "对链表插入排序需要使用一个dummy node，相当于创建了一个新链表，不过在后面接入的时候不需要去创建新节点，直接链接原链表即可<br>"
   ]
  },
  {
   "cell_type": "code",
   "execution_count": 3,
   "metadata": {},
   "outputs": [
    {
     "name": "stdout",
     "output_type": "stream",
     "text": [
      "-9 1 -13 6 5 \n",
      "-13 -9 1 5 6 \n"
     ]
    }
   ],
   "source": [
    "def insertionSortList(head):\n",
    "    assert head is not None\n",
    "    \n",
    "    dummy = Node(0)\n",
    "    cur = head\n",
    "    \n",
    "    while cur != None:\n",
    "        pre = dummy\n",
    "        while pre.next is not None and pre.next.value < cur.value:\n",
    "            pre = pre.next\n",
    "        temp = cur.next\n",
    "        cur.next = pre.next\n",
    "        pre.next = cur\n",
    "        cur = temp\n",
    "    \n",
    "    return dummy.next\n",
    "\n",
    "node1 = Node(-9)\n",
    "node2 = Node(1)\n",
    "node3 = Node(-13)\n",
    "node4 = Node(6)\n",
    "node5 = Node(5)\n",
    "node1.next = node2\n",
    "node2.next = node3\n",
    "node3.next = node4\n",
    "node4.next = node5\n",
    "lst = LinkedList()\n",
    "lst.head.next = node1\n",
    "lst.printlist()\n",
    "\n",
    "node = insertionSortList(node1)\n",
    "\n",
    "lst.head.next = node\n",
    "lst.printlist()\n",
    "    "
   ]
  },
  {
   "cell_type": "markdown",
   "metadata": {},
   "source": [
    "### <a id='Ex4'>Ex.4 Sort List</a>\n",
    "\n",
    "Sort a linked list in O(n log n) time using constant space complexity."
   ]
  },
  {
   "cell_type": "markdown",
   "metadata": {},
   "source": [
    "# Solution:\n",
    "O(nlogn)的排序算法比较容易想到归并和快排，这里使用归并"
   ]
  },
  {
   "cell_type": "code",
   "execution_count": 8,
   "metadata": {},
   "outputs": [
    {
     "name": "stdout",
     "output_type": "stream",
     "text": [
      "-9 1 -13 6 5 \n",
      "-13 -9 1 5 6 \n"
     ]
    }
   ],
   "source": [
    "def sortList(head):\n",
    "    assert head is not None\n",
    "    mid = getMiddle(head)\n",
    "    rHead = mid.next\n",
    "    mid.next = None\n",
    "    left = sortList(head)\n",
    "    right = sortList(rHead)\n",
    "    return merge(left, right)\n",
    "\n",
    "def merge(lHead, rHead):\n",
    "    dummy = cur = Node(0)\n",
    "    l = lHead\n",
    "    r = rHead\n",
    "    while l is not None and r is not None:\n",
    "        if l.value < r.value:\n",
    "            cur.next = l\n",
    "            l = l.next\n",
    "        else:\n",
    "            cur.next = r\n",
    "            r = r.next\n",
    "        cur = cur.next\n",
    "    \n",
    "    return dummy.next\n",
    "    \n",
    "def getMiddle(head):\n",
    "    fast = head\n",
    "    slow = head\n",
    "    while fast != None and fast.next != None:\n",
    "        fast = fast.next.next\n",
    "        slow = slow.next\n",
    "    return slow\n",
    "\n",
    "node1 = Node(-9)\n",
    "node2 = Node(1)\n",
    "node3 = Node(-13)\n",
    "node4 = Node(6)\n",
    "node5 = Node(5)\n",
    "node1.next = node2\n",
    "node2.next = node3\n",
    "node3.next = node4\n",
    "node4.next = node5\n",
    "lst = LinkedList()\n",
    "lst.head.next = node1\n",
    "lst.printlist()\n",
    "\n",
    "node = insertionSortList(node1)\n",
    "\n",
    "lst.head.next = node\n",
    "lst.printlist()"
   ]
  },
  {
   "cell_type": "markdown",
   "metadata": {},
   "source": [
    "### <a id='Ex5'>Ex.5 Partition List</a>\n",
    "\n",
    "Given a linked list and a value x, partition it such that all nodes less than x come before nodes greater than or equal to x."
   ]
  },
  {
   "cell_type": "code",
   "execution_count": 4,
   "metadata": {},
   "outputs": [
    {
     "name": "stdout",
     "output_type": "stream",
     "text": [
      "1 2 2 3 4 5 \n"
     ]
    }
   ],
   "source": [
    "# 常规的partition是使用左右指针，但是链表的右指针无法往回走，所以只能选择往前走的方式\n",
    "# 使用两个链表，分别表示pivot的前后\n",
    "def partition(head, x):\n",
    "    assert head is not None\n",
    "    \n",
    "    sDummy = Node(0)\n",
    "    lDummy = Node(0)\n",
    "    mDummy = Node(0) # middle Dummy\n",
    "    s = sDummy\n",
    "    l = lDummy\n",
    "    m = mDummy\n",
    "    p = head\n",
    "    while p!= None:\n",
    "        if p.value < x: # 此处不能写<=因为如果是=的情况，x的情况会被放在s链表，后面加进来的value可能会比x小，这是我们不想看到的\n",
    "            s.next = p\n",
    "            s = s.next\n",
    "        elif p.value > x:\n",
    "            l.next = p\n",
    "            l = l.next\n",
    "        else:\n",
    "            m.next = p\n",
    "            m = m.next\n",
    "        p = p.next\n",
    "    l.next = None\n",
    "    s.next = mDummy.next\n",
    "    m.next = lDummy.next\n",
    "    \n",
    "    return sDummy.next\n",
    "\n",
    "#head = 1->4->3->2->5->2, x = 3\n",
    "node1 = Node(1)\n",
    "node2 = Node(4)\n",
    "node3 = Node(3)\n",
    "node4 = Node(2)\n",
    "node5 = Node(5)\n",
    "node6 = Node(2)\n",
    "node1.next = node2\n",
    "node2.next = node3\n",
    "node3.next = node4\n",
    "node4.next = node5\n",
    "node5.next = node6\n",
    "node = partition(node1, 3)\n",
    "lst = LinkedList()\n",
    "lst.head.next = node\n",
    "lst.printlist()"
   ]
  },
  {
   "cell_type": "markdown",
   "metadata": {},
   "source": [
    "### <a id='Ex6'>Ex.6 Reverse a Linked List</a>"
   ]
  },
  {
   "cell_type": "code",
   "execution_count": 15,
   "metadata": {},
   "outputs": [
    {
     "name": "stdout",
     "output_type": "stream",
     "text": [
      "1 3 5 7 9 \n",
      "9 7 5 3 1 \n"
     ]
    }
   ],
   "source": [
    "def reverse(lst):\n",
    "    if lst.head is None or lst.head.next is None:\n",
    "        return lst\n",
    "    pre = None\n",
    "    cur = lst.head.next\n",
    "    while cur is not None:\n",
    "        tail = cur.next\n",
    "        cur.next = pre\n",
    "        pre = cur\n",
    "        cur = tail\n",
    "    lst.head.next = pre\n",
    "\n",
    "lst = LinkedList()\n",
    "lst.add_last(1)\n",
    "lst.add_last(3)\n",
    "lst.add_last(5)\n",
    "lst.add_last(7)\n",
    "lst.add_last(9)\n",
    "lst.printlist()\n",
    "reverse(lst)\n",
    "lst.printlist()"
   ]
  },
  {
   "cell_type": "markdown",
   "metadata": {},
   "source": [
    "### <a id='Ex7'>Ex.7 Reverse a Linked List II</a>\n",
    "\n",
    "Reverse a linked list from position m to n. Do it in-place and in one-pass.\n",
    "\n",
    "For example:\n",
    "\n",
    "Given 1->2->3->4->5->NULL, m = 2 and n = 4,\n",
    "\n",
    "return 1->4->3->2->5->NULL."
   ]
  },
  {
   "cell_type": "code",
   "execution_count": 19,
   "metadata": {},
   "outputs": [
    {
     "name": "stdout",
     "output_type": "stream",
     "text": [
      "1 3 5 7 9 \n",
      "1 7 5 3 9 \n",
      "3 5 7 1 9 \n",
      "7 5 3 1 9 \n"
     ]
    }
   ],
   "source": [
    "def reverseBetween(head, m, n):\n",
    "    if head is None or m < 0 or n < m:\n",
    "        return head\n",
    "    dummy = pre = Node(0)\n",
    "    dummy.next = head\n",
    "    for i in range(m - 1):\n",
    "        pre = pre.next\n",
    "    \n",
    "    cur = pre.next\n",
    "    front = None\n",
    "    for i in range(n - m + 1): # 易错点：这里要写n-m+1，因为除了n~m中n-m个箭头的反转外，还有第n个节点向None的反转\n",
    "        nxt = cur.next\n",
    "        cur.next = front\n",
    "        front = cur\n",
    "        cur = nxt\n",
    "\n",
    "    \n",
    "    pre.next.next = nxt\n",
    "    pre.next = front\n",
    "    return dummy.next\n",
    "\n",
    "lst = LinkedList()\n",
    "lst.add_last(1)\n",
    "lst.add_last(3)\n",
    "lst.add_last(5)\n",
    "lst.add_last(7)\n",
    "lst.add_last(9)\n",
    "lst.printlist()\n",
    "lst.head.next = reverseBetween(lst.head.next, 2, 4)\n",
    "lst.printlist()\n",
    "lst.head.next = reverseBetween(lst.head.next, 1, 4)\n",
    "lst.printlist()\n",
    "lst.head.next = reverseBetween(lst.head.next, 1, 3)\n",
    "lst.printlist()\n",
    "    \n",
    "    "
   ]
  },
  {
   "cell_type": "markdown",
   "metadata": {},
   "source": [
    "### <a id='Ex8'>Ex.8 Reverse a Linked List IV</a>\n",
    "Reverse Nodes in k-Group\n",
    "\n",
    "Given a linked list, reverse the nodes of a linked list k at a time and return its modified list.\n",
    "\n",
    "k is a positive integer and is less than or equal to the length of the linked list. If the number of nodes is not a multiple of k then left-out nodes in the end should remain as it is.\n",
    "\n",
    "You may not alter the values in the nodes, only nodes itself may be changed.\n",
    "\n",
    "Only constant memory is allowed.\n",
    "\n",
    "For example,\n",
    "\n",
    "Given this linked list: 1->2->3->4->5\n",
    "\n",
    "For k = 2, you should return: 2->1->4->3->5\n",
    "\n",
    "For k = 3, you should return: 3->2->1->4->5"
   ]
  },
  {
   "cell_type": "markdown",
   "metadata": {},
   "source": [
    "# Solution\n",
    "通过前面的题目我们知道了如何让一个区间进行反转，反转的时候我们往往需要去知道反转区间的前一个点和后一个点，因此需要用一个tail去记录当前反转区间的第一个起点，该区间反转后tail会变成该区间的终点。我们需要用这个tail去连接下一个反转区间（反转后）的起点。\n",
    "\n",
    "由于当一个反转区间小于k的时候不需要反转，因此需要用next_head来记录下一个反转区间的终点。如果反转区间小于k，则让next_head进入None\n",
    "\n",
    "下一个反转区间（反转后）的起点分两种情况\n",
    "1. 下一个反转区间的宽度大于等于k，这个时候我们就让当前区间的tail去连接下一个区间（反转后）的next_head, 比如1 2 3 4 5 6 7，那么1是作为区间1的tail，而6是作为next_head\n",
    "\n",
    "2. 下一个反转区间的宽度小于k，那么我们直接让tail去连接反转最后的cur/nxt即可"
   ]
  },
  {
   "cell_type": "code",
   "execution_count": 3,
   "metadata": {},
   "outputs": [
    {
     "name": "stdout",
     "output_type": "stream",
     "text": [
      "1 3 5 7 9 \n",
      "3 1 7 5 9 \n",
      "7 1 3 5 9 \n",
      "5 3 1 7 9 \n",
      "9 7 1 3 5 \n",
      "9 7 1 3 5 \n"
     ]
    }
   ],
   "source": [
    "def reverseKGroup(head, k):\n",
    "    if head is None and k <= 1:\n",
    "        return head\n",
    "    dummy = Node(0)\n",
    "    dummy.next = head\n",
    "    \n",
    "    next_head = dummy\n",
    "    for i in range(k):\n",
    "        if next_head.next != None:\n",
    "            next_head = next_head.next\n",
    "        else:\n",
    "            return head\n",
    "    dummy.next = next_head    \n",
    "    cur = head\n",
    "    \n",
    "    while next_head is not None:\n",
    "        pre = None\n",
    "        tail = cur\n",
    "        for i in range(k):\n",
    "            if next_head is not None:\n",
    "                next_head = next_head.next\n",
    "            nxt = cur.next\n",
    "            cur.next = pre\n",
    "            pre = cur\n",
    "            cur = nxt\n",
    "        tail.next = next_head or cur\n",
    "        \n",
    "    return dummy.next\n",
    "\n",
    "lst = LinkedList()\n",
    "lst.add_last(1)\n",
    "lst.add_last(3)\n",
    "lst.add_last(5)\n",
    "lst.add_last(7)\n",
    "lst.add_last(9)\n",
    "lst.printlist()\n",
    "lst.head.next = reverseKGroup(lst.head.next, 2)\n",
    "lst.printlist()\n",
    "lst.head.next = reverseKGroup(lst.head.next, 3)\n",
    "lst.printlist()\n",
    "lst.head.next = reverseKGroup(lst.head.next, 4)\n",
    "lst.printlist()\n",
    "lst.head.next = reverseKGroup(lst.head.next, 5)\n",
    "lst.printlist()\n",
    "lst.head.next = reverseKGroup(lst.head.next, 7)\n",
    "lst.printlist()\n",
    "\n",
    "\n",
    "        "
   ]
  },
  {
   "cell_type": "markdown",
   "metadata": {},
   "source": [
    "### <a id='Ex9'>Ex.9 Palindrome Linked List</a>\n",
    "\n",
    "Given a singly linked list, determine if it is a palindrome.\n",
    "\n",
    "Could you do it in O(n) time and O(1) space?"
   ]
  },
  {
   "cell_type": "markdown",
   "metadata": {},
   "source": [
    "# Solution:\n",
    "判断回文的方法只需要从中间断开，把前面序列反转再利用双指针和后面的序列对比即可\n",
    "\n",
    "易错点：要分辨回文序列是奇数个还是偶数个，因为这会影响到找中点"
   ]
  },
  {
   "cell_type": "code",
   "execution_count": 22,
   "metadata": {},
   "outputs": [
    {
     "name": "stdout",
     "output_type": "stream",
     "text": [
      "1 3 5 3 1 \n",
      "True\n",
      "1 \n"
     ]
    }
   ],
   "source": [
    "def isPalindrome(head):\n",
    "    if head is None or head.next is None:\n",
    "        return head\n",
    "    fast = slow = head\n",
    "    pre = None\n",
    "    while fast is not None and fast.next is not None:\n",
    "        rev = slow\n",
    "        fast = fast.next.next\n",
    "        slow = slow.next\n",
    "        rev.next = pre\n",
    "        pre = rev\n",
    "    if fast is not None:\n",
    "        slow = slow.next\n",
    "    while rev is not None and slow is not None:\n",
    "        if rev.value == slow.value:\n",
    "            rev = rev.next\n",
    "            slow = slow.next\n",
    "        else:\n",
    "            return False\n",
    "    return True\n",
    "lst = LinkedList()\n",
    "lst.add_last(1)\n",
    "lst.add_last(3)\n",
    "lst.add_last(5)\n",
    "lst.add_last(3)\n",
    "lst.add_last(1)\n",
    "lst.printlist()\n",
    "print(isPalindrome(lst.head.next))# 注意这里输入的参数是dummy.next\n",
    "lst.printlist()"
   ]
  },
  {
   "cell_type": "code",
   "execution_count": 36,
   "metadata": {},
   "outputs": [
    {
     "name": "stdout",
     "output_type": "stream",
     "text": [
      "1 3 5 3 1 \n",
      "True\n",
      "1 \n"
     ]
    }
   ],
   "source": [
    "# 含dummy节点\n",
    "def isPalindrome2(head):\n",
    "    if head is None or head.next is None:\n",
    "        return head\n",
    "    dummy = fast = slow = Node(0)\n",
    "    dummy.next = head\n",
    "    pre = None\n",
    "    after = slow.next\n",
    "    # 为了确保当序列数为奇数时，中间点不需要反转，因此fast.next.next is not None\n",
    "    while fast is not None and fast.next is not None and fast.next.next is not None:\n",
    "        fast = fast.next.next \n",
    "        slow = after\n",
    "        after = after.next\n",
    "        slow.next = pre\n",
    "        pre = slow\n",
    "    \n",
    "    # 奇数的情况\n",
    "    if fast.next.next is None: \n",
    "        # after作为后回文序列的开头\n",
    "        after = after.next\n",
    "    # slow作为前回文的开头\n",
    "    while slow is not None and after is not None:\n",
    "        if slow.value == after.value:\n",
    "            after = after.next\n",
    "            slow = slow.next\n",
    "        else:\n",
    "            return False\n",
    "    return True\n",
    "lst = LinkedList()\n",
    "lst.add_last(1)\n",
    "lst.add_last(3)\n",
    "lst.add_last(5)\n",
    "lst.add_last(3)\n",
    "lst.add_last(1)\n",
    "lst.printlist()\n",
    "print(isPalindrome2(lst.head.next))\n",
    "lst.printlist()"
   ]
  },
  {
   "cell_type": "markdown",
   "metadata": {},
   "source": [
    "# Tips:关于是否需要使用dummy\n",
    "如果需要去寻找并记住反转序列前的那个点以方便拼接，比如Ex.7 反转特定区间，就需要使用dummy\n",
    "\n",
    "而Ex.8这种需要对整个序列反转的，在循环过程中其实已经记住了反转序列前的那个点，因此可用可不用dummy\n",
    "\n",
    "像Ex.9这种不需要完善反转后的序列，不需要使用dummy，因为其根本不需要拼接"
   ]
  },
  {
   "cell_type": "markdown",
   "metadata": {},
   "source": [
    "### <a id='Ex10'>Ex.10 Remove Duplicates from Sorted List</a>\n",
    "\n",
    "Given a sorted linked list, delete all duplicates such that each element appear only once.\n",
    "\n",
    "For example,\n",
    "\n",
    "Given 1->1->2, return 1->2.\n",
    "\n",
    "Given 1->1->2->3->3, return 1->2->3."
   ]
  },
  {
   "cell_type": "markdown",
   "metadata": {},
   "source": [
    "# Solution:\n",
    "用双指针，针对每一个元素，找到其后面第一个和它不一样的元素，链接过去即可"
   ]
  },
  {
   "cell_type": "code",
   "execution_count": 41,
   "metadata": {},
   "outputs": [
    {
     "name": "stdout",
     "output_type": "stream",
     "text": [
      "1 3 5 7 9 \n"
     ]
    }
   ],
   "source": [
    "def deleteDuplicates(head):\n",
    "    if head is None:\n",
    "        return head\n",
    "    p1 = head\n",
    "    while p1 is not None:\n",
    "        p2 = p1.next\n",
    "        while p2 is not None and p2.value == p1.value: # 防止p2为None导致p2.value出错\n",
    "            p2 = p2.next        \n",
    "        p1.next = p2\n",
    "        p1 = p2\n",
    "        \n",
    "    return head\n",
    "\n",
    "lst = LinkedList()\n",
    "lst.add_last(1)\n",
    "lst.add_last(3)\n",
    "lst.add_last(3)\n",
    "lst.add_last(3)\n",
    "lst.add_last(5)\n",
    "lst.add_last(7)\n",
    "lst.add_last(7)\n",
    "lst.add_last(9)\n",
    "lst.head.next = deleteDuplicates(lst.head.next)\n",
    "lst.printlist()"
   ]
  },
  {
   "cell_type": "markdown",
   "metadata": {},
   "source": [
    "### <a id='Ex10'>Ex.10 Remove Duplicates from Sorted List II</a>\n",
    "\n",
    "Given a sorted linked list, delete all nodes that have duplicate numbers, leaving only distinct numbers from the original list.\n",
    "\n",
    "For example,\n",
    "\n",
    "Given 1->2->3->3->4->4->5, return 1->2->5.\n",
    "\n",
    "Given 1->1->1->2->3, return 2->3."
   ]
  },
  {
   "cell_type": "markdown",
   "metadata": {},
   "source": [
    "# Solution:\n",
    "由于是对凡是有重复的元素，全部删除。因此删除的时候应该特别注意是否会出现前后两个类元素都是重复的，防止pre定位错误。\n",
    "\n",
    "也就是说，要在移动中发现连续两次相邻元素不同。\n",
    "\n",
    "如何判断连续两次不同：首先找到第一次不同，指针向后移动一位，下一次不同留给下一层循环来判断。"
   ]
  },
  {
   "cell_type": "code",
   "execution_count": 47,
   "metadata": {},
   "outputs": [
    {
     "name": "stdout",
     "output_type": "stream",
     "text": [
      "1 \n"
     ]
    }
   ],
   "source": [
    "def deleteDuplicates2(head):\n",
    "    if head is None:\n",
    "        return head\n",
    "    dummy = pre = Node(0)\n",
    "    dummy.next = head\n",
    "    cur = head\n",
    "    while cur is not None and cur.next is not None:\n",
    "        if cur.value == cur.next.value:\n",
    "            while cur.next is not None and cur.value == cur.next.value :\n",
    "                cur = cur.next\n",
    "                # 此时cur和next对应着第一对不同的相邻元素\n",
    "            # 让cur多走一步，方便判断是否出现连续的相邻元素不同\n",
    "            cur = cur.next \n",
    "            pre.next = cur \n",
    "        else:\n",
    "            pre = cur #只有当第一次就不同或者连续两次不同才能移动pre\n",
    "            cur = cur.next # 若没有重复元素，要保持前行，其实可以和上面if中的这句话合并，但此处方便理解\n",
    "#     # 由于最后一定会出现cur==None or cur.next == None，这会导致最后一步的pre.next = cur遗漏执行，因此最后补上\n",
    "#     pre.next = cur\n",
    "    return dummy.next\n",
    "\n",
    "lst = LinkedList()\n",
    "lst.add_last(1)\n",
    "lst.add_last(3) \n",
    "lst.add_last(3)\n",
    "lst.add_last(3)\n",
    "lst.add_last(5)\n",
    "lst.add_last(5)\n",
    "lst.add_last(7)\n",
    "lst.add_last(7)\n",
    "lst.add_last(9)\n",
    "lst.add_last(9)\n",
    "lst.head.next = deleteDuplicates2(lst.head.next)\n",
    "lst.printlist()\n",
    "        "
   ]
  },
  {
   "cell_type": "code",
   "execution_count": null,
   "metadata": {
    "collapsed": true
   },
   "outputs": [],
   "source": []
  }
 ],
 "metadata": {
  "kernelspec": {
   "display_name": "Python 3",
   "language": "python",
   "name": "python3"
  },
  "language_info": {
   "codemirror_mode": {
    "name": "ipython",
    "version": 3
   },
   "file_extension": ".py",
   "mimetype": "text/x-python",
   "name": "python",
   "nbconvert_exporter": "python",
   "pygments_lexer": "ipython3",
   "version": "3.6.1"
  }
 },
 "nbformat": 4,
 "nbformat_minor": 2
}
