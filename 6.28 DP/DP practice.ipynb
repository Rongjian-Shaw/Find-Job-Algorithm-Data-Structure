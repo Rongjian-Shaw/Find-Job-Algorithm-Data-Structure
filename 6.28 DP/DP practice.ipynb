{
 "cells": [
  {
   "cell_type": "markdown",
   "metadata": {},
   "source": [
    "# Dynamic Programming"
   ]
  },
  {
   "cell_type": "markdown",
   "metadata": {},
   "source": [
    "** 我们已经见过的Dynamic Programming相关的问题：**\n",
    "\n",
    "- Fibonacci\n",
    "\n",
    "- Hanoi Tower\n",
    "\n",
    "- Maximum Sum Subarray"
   ]
  },
  {
   "cell_type": "markdown",
   "metadata": {},
   "source": [
    "### What is Dynamic Programming\n",
    "\n",
    "** Divide: ** breaking a complex problem into a set of simpler sub-problems, solving each of those sub-problems just once, and storing their solutions - ideally, using a memory-based data structure\n",
    "\n",
    "** Lookup: ** The next time the same sub-problem occurs, instead of re-computing its solution, one simply looks up the previously computed solution, thereby saving computation time at the expense of a (hopefully) modest expenditure in storage space\n",
    "\n",
    "The technique of storing solutions to sub-problems instead of re-computing them is called ** “memoization” **\n",
    "\n",
    "- Divide-and-conquer.  Break up a problem into independent subproblems, solve each subproblem, and combine solution to subproblems to form solution to original problem\n",
    "    - Top-Down\n",
    "- Dynamic programming.  Break up a problem into a series of overlapping subproblems, and build up solutions to larger and larger subproblems\n",
    "    - Bottom-Up"
   ]
  },
  {
   "cell_type": "markdown",
   "metadata": {},
   "source": [
    "### 1-D Dynamic Programming"
   ]
  },
  {
   "cell_type": "markdown",
   "metadata": {},
   "source": [
    "### <a id='Ex1'> Ex.1 Number Problem\n",
    "\n",
    "Given n, find the number of different ways to write n as the sum of 1, 3, 4."
   ]
  },
  {
   "cell_type": "code",
   "execution_count": 2,
   "metadata": {},
   "outputs": [
    {
     "data": {
      "text/plain": [
       "6"
      ]
     },
     "execution_count": 2,
     "metadata": {},
     "output_type": "execute_result"
    }
   ],
   "source": [
    "# Solution: 刚开始的思路类似于recursion，n的分法就等于 n-1的分法 + n-3的分法 + n-4的分法，即 f(n) = f(n-1) + f(n-3) + f(n-4)\n",
    "# 但是，f(n-1)， f(n-3)， f(n-4)可能会有多次的重复计算，因此考虑使用DP。\n",
    "# 从0-n，计算每一个数字的分法\n",
    "def coin(n):\n",
    "    dp = [0] * (n + 1)\n",
    "    dp[0] = dp[1] = dp[2] = 1 # 0,1,2这三个数字都只有1种分法\n",
    "    dp[3] = 2 # 3有两种分法，分别是1，1，1和1，2\n",
    "    for i in range(4, n + 1):\n",
    "        dp[i] = dp[i - 1] + dp[i - 3] + dp[i - 4]\n",
    "    return dp[n]\n",
    "\n",
    "coin(5)"
   ]
  },
  {
   "cell_type": "markdown",
   "metadata": {},
   "source": [
    "### <a id='Ex2'> Ex.2 House Robber\n",
    "\n",
    "You are a professional robber planning to rob houses along a street. Each house has a certain amount of money stashed, the only constraint stopping you from robbing each of them is that adjacent houses have security system connected and it will automatically contact the police if two adjacent houses were broken into on the same night.\n",
    "\n",
    "Given a list of non-negative integers representing the amount of money of each house, determine the maximum amount of money you can rob tonight without alerting the police."
   ]
  },
  {
   "cell_type": "code",
   "execution_count": 3,
   "metadata": {},
   "outputs": [
    {
     "data": {
      "text/plain": [
       "12"
      ]
     },
     "execution_count": 3,
     "metadata": {},
     "output_type": "execute_result"
    }
   ],
   "source": [
    "# DP的一个关键就是找出子问题之间的关系，能从一个子问题推出另一个子问题\n",
    "# 此题，我们通过简单的几个例子就可以发现一个公式：\n",
    "# 每个房子都可以分为两种情况，rob or not rob\n",
    "# rob: 这意味着上一个房子是not rob，因此本房子的最大利益就是 no(i-1) + nums[i]\n",
    "# not rob: 如果本房子是not rob，那么上一个房子可以是rob，也可以是not rob。因此只需要取最大的一个，即max(yes[i-1], no[i-1]) \n",
    "def rob(nums): \n",
    "    n = len(nums)\n",
    "    yes = [0] * (n + 1)\n",
    "    no = [0] * (n + 1)\n",
    "    for i in range(1, n + 1):\n",
    "        yes[i] = no[i - 1] + nums[i - 1]\n",
    "        no[i] = max(yes[i - 1], no[i - 1])\n",
    "    return max(yes[n], no[n])\n",
    "\n",
    "nums = [2,7,9,3,1]\n",
    "rob(nums)"
   ]
  },
  {
   "cell_type": "code",
   "execution_count": 5,
   "metadata": {},
   "outputs": [
    {
     "data": {
      "text/plain": [
       "12"
      ]
     },
     "execution_count": 5,
     "metadata": {},
     "output_type": "execute_result"
    }
   ],
   "source": [
    "# 因为针对当前房子的最大收益，只需要知道其前一个房子的最大收益就可得出，因此空间复杂度可以从O(n)降低到O(1)\n",
    "def rob(nums):\n",
    "    yes, no =0, 0\n",
    "    for i in range(len(nums)):\n",
    "        no, yes = max(yes, no), no + nums[i]\n",
    "    return max(no, yes)\n",
    "\n",
    "nums = [2,7,9,3,1]\n",
    "rob(nums)"
   ]
  },
  {
   "cell_type": "markdown",
   "metadata": {},
   "source": [
    "### <a id='Ex3'> Ex.3 House Robber II \n",
    "\n",
    "** Follow up: **\n",
    "\n",
    "All houses at this place are arranged in a circle. That means the first house is the neighbor of the last one. Meanwhile, the security system for these houses remain the same as for those in the previous street."
   ]
  },
  {
   "cell_type": "code",
   "execution_count": 7,
   "metadata": {},
   "outputs": [
    {
     "data": {
      "text/plain": [
       "11"
      ]
     },
     "execution_count": 7,
     "metadata": {},
     "output_type": "execute_result"
    }
   ],
   "source": [
    "# circle街道的一个关键就是，当第一个房子rob了，那么最后一个就不能rob，那么总的就分为rob第一个，和不rob第一个房子\n",
    "def rob(nums):\n",
    "    n = len(nums)\n",
    "    if n == 0:\n",
    "        return 0\n",
    "    if n == 1:\n",
    "        return nums[0]\n",
    "    return max(robCircle(nums, 1, n), robCircle(nums, 0, n - 1))\n",
    " \n",
    "def robCircle(nums, start, end):\n",
    "    yes, no = 0, 0\n",
    "    for i in range(start, end):\n",
    "        no, yes = max(yes, no), no + nums[i]\n",
    "    return max(yes, no)\n",
    "\n",
    "nums = [2,7,9,3,1]\n",
    "rob(nums)"
   ]
  },
  {
   "cell_type": "markdown",
   "metadata": {},
   "source": [
    "### <a id='Ex4'> Ex.4 Planning Party \n",
    "\n",
    "A company is planning a party for its employees. The employees are organized into a strict hierarchy, i.e. a tree rooted the president. There is one restriction for the party, though, on the guest list to the party: an employee and his/her immediate supervisor (parent in the tree) cannot both attend the party. You wish to prepare a guest list for the party that maximizes the number of the guests.\n",
    "\n",
    "** Follow up: **\n",
    "\n",
    "It is a fund raising party, and the organizer knows how much each employee would donate, in advance. So the question is, how to maximize the money."
   ]
  },
  {
   "cell_type": "markdown",
   "metadata": {},
   "source": [
    "# Solution:\n",
    "上司与下属之间的关系会构成一种树结构。当我们从根节点开始进行统计的时候会发现，当决定一个父节点的时候无法知道其邻居的最大值信息，也就无法知道总的最大值信息。因此考虑从叶子向根进行统计。\n",
    "\n",
    "那么针对每一个node，其抢的最大值是 yes[i] = Σ子节点NO() + V(n),其不抢的最大值 NO[i] = Σmax(yes[child], no[child])"
   ]
  },
  {
   "cell_type": "markdown",
   "metadata": {},
   "source": [
    "### <a id='Ex5'> Tile Problem\n",
    "\n",
    "Given a 𝑛×2 board and tiles of size 1×2, count the number of ways to tile the given board using the 1×2 tiles. A tile can either be placed horizontally i.e., as a 1×2 tile or vertically i.e., as 2×1 tile.\n",
    "\n",
    "** Follow up (Challenge!!!) **\n",
    "\n",
    "In how many ways can you tile a 3×𝑛 rectangle with 2×1 dominoes? \n",
    "\n",
    "<img src=\"../images/ch22/tile.png\" width=\"600\"/>"
   ]
  },
  {
   "cell_type": "markdown",
   "metadata": {},
   "source": [
    "# Solution:\n",
    "我们发现每种情况都可以拆分成两种，一种是单个瓷砖竖起来摆，另一种是两个瓷砖横着摆。\n",
    "\n",
    "如果先是单个瓷砖竖起来摆，想象其摆在靠近长度为2的一边，那么这种摆法就有f(n-1)种，即占据了1的长度\n",
    "\n",
    "如果是两个瓷砖横着摆，也想象将其摆在靠近长度为2的一边，那么这种摆法就有f(n-2)种，即占据了2的宽度\n",
    "\n",
    "那么f(n) = f(n-1) + f(n-2)"
   ]
  },
  {
   "cell_type": "code",
   "execution_count": 8,
   "metadata": {},
   "outputs": [
    {
     "name": "stdout",
     "output_type": "stream",
     "text": [
      "5\n"
     ]
    },
    {
     "data": {
      "text/plain": [
       "5"
      ]
     },
     "execution_count": 8,
     "metadata": {},
     "output_type": "execute_result"
    }
   ],
   "source": [
    "def tile(n):\n",
    "    dp = [1,1]\n",
    "    for i in range(2, n + 1):\n",
    "        dp.append(dp[i - 1] + dp[i - 2])\n",
    "    print(dp[n])\n",
    "    return dp[n]\n",
    "\n",
    "tile(4)\n",
    "         "
   ]
  },
  {
   "cell_type": "markdown",
   "metadata": {},
   "source": [
    "### <a id='Ex6'> Ex. 6 Min Cost Climbing Stairs\n",
    "\n",
    "On a staircase, the i-th step has some non-negative cost cost[i] assigned (0 indexed).\n",
    "\n",
    "Once you pay the cost, you can either climb one or two steps. You need to find minimum cost to reach the top of the floor, and you can either start from the step with index 0, or the step with index 1."
   ]
  },
  {
   "cell_type": "code",
   "execution_count": 13,
   "metadata": {},
   "outputs": [
    {
     "name": "stdout",
     "output_type": "stream",
     "text": [
      "6\n"
     ]
    },
    {
     "data": {
      "text/plain": [
       "6"
      ]
     },
     "execution_count": 13,
     "metadata": {},
     "output_type": "execute_result"
    }
   ],
   "source": [
    "# Solution:\n",
    "# 我们可以发现，想到达任意台阶，其必定是从其前两个台阶或者前一个台阶过来的。因此公式就是：\n",
    "# dp[i] = min(dp[i-2]+cost[i-2], dp[i-1]+cost[i-1])\n",
    "\n",
    "def minCostClimbingStairs(cost):\n",
    "    dp = [0, 0] # 到达前两个台阶不需要任何cost\n",
    "    for i in range(2, len(cost) + 1): # 注意题目这里是说要到达top，也就是说最后一级台阶也要跨走\n",
    "        dp.append(min(dp[i - 2] + cost[i - 2], dp[i - 1] + cost[i - 1]))\n",
    "    print(dp[len(cost)])\n",
    "    return dp[len(cost)]\n",
    "\n",
    "cost = [1, 100, 1, 1, 1, 100, 1, 1, 100, 1]\n",
    "minCostClimbingStairs(cost)"
   ]
  },
  {
   "cell_type": "markdown",
   "metadata": {},
   "source": [
    "### <a id='Ex7'> Ex. 7 Decode Way\n",
    "\n",
    "A message containing letters from A-Z is being encoded to numbers using the following mapping:\n",
    "\n",
    "'A' -> 1 \n",
    "\n",
    "'B' -> 2 \n",
    "\n",
    "... \n",
    "\n",
    "'Z' -> 26 \n",
    "\n",
    "Given an encoded message containing digits, determine the total number of ways to decode it.\n",
    "\n",
    "Input: \"12\"\n",
    "\n",
    "Output: 2\n",
    "\n",
    "Explanation: It could be decoded as \"AB\" (1 2) or \"L\" (12).\n",
    "\n",
    "Input: \"226\"\n",
    "    \n",
    "Output: 3\n",
    "    \n",
    "Explanation: It could be decoded as \"BZ\" (2 26), \"VF\" (22 6), or \"BBF\" (2 2 6)."
   ]
  },
  {
   "cell_type": "code",
   "execution_count": 16,
   "metadata": {},
   "outputs": [
    {
     "name": "stdout",
     "output_type": "stream",
     "text": [
      "1\n",
      "0\n",
      "3\n"
     ]
    },
    {
     "data": {
      "text/plain": [
       "3"
      ]
     },
     "execution_count": 16,
     "metadata": {},
     "output_type": "execute_result"
    }
   ],
   "source": [
    "# Solution:\n",
    "# 这题的难点在于只有01-26这些数字能被转码，可以先试想如果是00-99都可以转码。\n",
    "# 如果是00-99的话，我们可以发现，我们要么转码一位数字f(n-1)，要么转码两位数字f(n-2)\n",
    "# 但是由于有26位字母的限制，因此如果只是转码一个数字就只要是非0即可，但是如果转码两位数字，则需要考虑是否处于01-26之间\n",
    "\n",
    "def numDecodings(s):\n",
    "    if s == '' or s[0] == '0':\n",
    "        return 0\n",
    "    dp = [1, 1]\n",
    "    for i in range(2, len(s) + 1):\n",
    "        res = 0\n",
    "        if 10 <= int(s[i - 2 : i]) <= 26:\n",
    "            res += dp[i - 2]\n",
    "        if int(s[i - 1]) != 0:\n",
    "            res += dp[i - 1]\n",
    "        dp.append(res)\n",
    "    print(dp[len(s)])\n",
    "    return dp[len(s)]\n",
    "\n",
    "numDecodings(\"110\")\n",
    "numDecodings(\"40\")\n",
    "numDecodings(\"226\")"
   ]
  },
  {
   "cell_type": "markdown",
   "metadata": {},
   "source": [
    "### <a id='Ex8'> Ex. 8 Unique Binary Search Trees\n",
    "\n",
    "Given n, how many structurally unique BST's (binary search trees) that store values 1...n?"
   ]
  },
  {
   "cell_type": "code",
   "execution_count": 20,
   "metadata": {},
   "outputs": [
    {
     "data": {
      "text/plain": [
       "[1, 2, 5, 14, 42]"
      ]
     },
     "execution_count": 20,
     "metadata": {},
     "output_type": "execute_result"
    }
   ],
   "source": [
    "# Solution:\n",
    "# 1个点：1\n",
    "# 2个点：2\n",
    "# 3个点：2 + 1 + 2 = 5\n",
    "# 4个点：5 + 2 + 2 + 5 = 14\n",
    "# 针对每一种情况我们都可以发现，我们只需要逐一将每一个点置于root，然后左右两边就会变成子情况了，因此得到公式为\n",
    "def numTress(n):\n",
    "    if n < 2:\n",
    "        return n\n",
    "    dp = [0] * (n + 1) # 分别对应于有0，1，2个数\n",
    "    dp[0] = dp[1] = 1\n",
    "    for i in range(2, n + 1):\n",
    "        for j in range(i):\n",
    "            dp[i] += dp[j] * dp[i - j - 1] # 错误点：这里一定要写*，比如1个点左边三个值右边四个值，那么肯定是左边的可能性*右边的可能性\n",
    "    return dp[n]\n",
    "\n",
    "[numTress(i) for i in range(1, 6)]"
   ]
  },
  {
   "cell_type": "markdown",
   "metadata": {},
   "source": [
    "### <a id='Ex9'> Ex. 9 Maximum Product Subarray\n",
    "\n",
    "Find the contiguous subarray within an array (containing at least one number) which has the largest product."
   ]
  },
  {
   "cell_type": "code",
   "execution_count": 93,
   "metadata": {},
   "outputs": [
    {
     "name": "stdout",
     "output_type": "stream",
     "text": [
      "6 6 3\n",
      "-12 -6 -2\n",
      "-8 -24 4\n"
     ]
    },
    {
     "data": {
      "text/plain": [
       "6"
      ]
     },
     "execution_count": 93,
     "metadata": {},
     "output_type": "execute_result"
    }
   ],
   "source": [
    "# 不能只记录最大值，因为可能遇到负数和0 \n",
    "def maxProduct(nums):\n",
    "    if len(nums) == 0:\n",
    "        return 0\n",
    "    maximum = minimum = res = nums[0]\n",
    "    for i in range(1, len(nums)): # 注意这里是从1开始，因为nums[0]被当作了初始值\n",
    "        print(maximum * nums[i], minimum * nums[i], nums[i])\n",
    "        maximum = max(maximum * nums[i], minimum * nums[i], nums[i]) # 由于可能出现负数，因此nums[i]本身也是考虑的范围\n",
    "        minimum = min(maximum * nums[i], minimum * nums[i], nums[i])\n",
    "        res = max(res, maximum)\n",
    "    return res\n",
    "\n",
    "nums = [2,3,-2,4]\n",
    "maxProduct(nums)"
   ]
  },
  {
   "cell_type": "markdown",
   "metadata": {},
   "source": [
    "# Dynamic Programming II"
   ]
  },
  {
   "cell_type": "markdown",
   "metadata": {},
   "source": [
    "### <a id='Ex1'> Ex.1 Stock Problem I\n",
    "\n",
    "Say you have an array for which the ith element is the price of a given stock on day i.\n",
    "\n",
    "If you were only permitted to complete at most one transaction (i.e., buy one and sell one share of the stock), design an algorithm to find the maximum profit.\n",
    "\n",
    "Note that you cannot sell a stock before you buy one."
   ]
  },
  {
   "cell_type": "code",
   "execution_count": 38,
   "metadata": {},
   "outputs": [
    {
     "data": {
      "text/plain": [
       "5"
      ]
     },
     "execution_count": 38,
     "metadata": {},
     "output_type": "execute_result"
    }
   ],
   "source": [
    "# Solution:\n",
    "# 保持记录每一个值前面的最小值，然后用每一个值去减去当前的最小值，记为max，最后返回max\n",
    "def maxProfit(prices):\n",
    "    if len(prices) < 2:\n",
    "        return 0\n",
    "    min_price = prices[0]\n",
    "    max_profit = 0\n",
    "    for i in range(1, len(prices)):\n",
    "        if prices[i] < min_price:\n",
    "            min_price = prices[i]\n",
    "        if prices[i] - min_price > max_profit:\n",
    "            max_profit = prices[i] - min_price\n",
    "    return max_profit\n",
    "\n",
    "prices = [7,1,5,3,6,4]\n",
    "maxProfit(prices)"
   ]
  },
  {
   "cell_type": "code",
   "execution_count": 39,
   "metadata": {},
   "outputs": [
    {
     "data": {
      "text/plain": [
       "5"
      ]
     },
     "execution_count": 39,
     "metadata": {},
     "output_type": "execute_result"
    }
   ],
   "source": [
    "# DP\n",
    "def maxProfit(prices):\n",
    "    if len(prices) < 2:\n",
    "        return 0\n",
    "    min_price = prices[0]\n",
    "    dp = [0] * len(prices)\n",
    "    for i in range(1, len(prices)):\n",
    "        if prices[i] < min_price:\n",
    "            min_price = prices[i]\n",
    "        dp[i] = max(dp[i - 1], prices[i] - min_price)\n",
    "    return dp[-1]\n",
    "\n",
    "prices = [7,1,5,3,6,4]\n",
    "maxProfit(prices)"
   ]
  },
  {
   "cell_type": "markdown",
   "metadata": {},
   "source": [
    "### <a id='Ex2'> Ex.2 Stock Problem II\n",
    "\n",
    "Say you have an array for which the ith element is the price of a given stock on day i.\n",
    "\n",
    "Design an algorithm to find the maximum profit. You may complete as many transactions as you like (i.e., buy one and sell one share of the stock multiple times).\n",
    "\n",
    "Note: You may not engage in multiple transactions at the same time (i.e., you must sell the stock before you buy again)."
   ]
  },
  {
   "cell_type": "code",
   "execution_count": 40,
   "metadata": {},
   "outputs": [
    {
     "data": {
      "text/plain": [
       "7"
      ]
     },
     "execution_count": 40,
     "metadata": {},
     "output_type": "execute_result"
    }
   ],
   "source": [
    "# 只要当前的价格比前面的好就出\n",
    "def maxProfit2(prices):\n",
    "    max_profit = 0\n",
    "    for i in range(1, len(prices)):\n",
    "        if prices[i] - prices[i - 1] > 0:\n",
    "            max_profit += prices[i] - prices[i - 1]\n",
    "    return max_profit\n",
    "\n",
    "prices = [7,1,5,3,6,4]\n",
    "maxProfit2(prices)"
   ]
  },
  {
   "cell_type": "code",
   "execution_count": 41,
   "metadata": {},
   "outputs": [
    {
     "data": {
      "text/plain": [
       "7"
      ]
     },
     "execution_count": 41,
     "metadata": {},
     "output_type": "execute_result"
    }
   ],
   "source": [
    "# DP\n",
    "def maxProfit2(prices):\n",
    "    dp = [0] * len(prices)\n",
    "    for i in range(1, len(prices)):\n",
    "        dp[i] = dp[i - 1] + prices[i] - prices[i - 1] if prices[i] - prices[i - 1] > 0 else dp[i - 1]\n",
    "    return dp[-1]\n",
    "\n",
    "prices = [7,1,5,3,6,4]\n",
    "maxProfit2(prices)"
   ]
  },
  {
   "cell_type": "markdown",
   "metadata": {
    "collapsed": true
   },
   "source": [
    "### <a id='Ex3'> Ex.3 Stock Problem III (with Transaction Fees)\n",
    "\n",
    "Your are given an array of integers prices, for which the i-th element is the price of a given stock on day i; and a non-negative integer fee representing a transaction fee.\n",
    "\n",
    "You may complete as many transactions as you like, but you need to pay the transaction fee for each transaction. You may not buy more than 1 share of a stock at a time (ie. you must sell the stock share before you buy again.)\n",
    "\n",
    "Return the maximum profit you can make."
   ]
  },
  {
   "cell_type": "markdown",
   "metadata": {},
   "source": [
    "# Solution:\n",
    "Since we need to pay transaction fee for each transaction, so we cannot buy and sell stock only when the next stock is more expensive than \n",
    "last one, just like the stockII. \n",
    "\n",
    "Therefore, we need to maintain two states.One is cash, which means I have cash and I dont hold stock. The other is hold, which means that I hold a stock and of course, I \n",
    "probably also have some money. \n",
    "\n",
    "In any state, cash[i] = cash[i-1] or hold[i-1] + price[i] - fee, which means I do not buy any stock in this state, or means I sell my stock in this state. \n",
    "\n",
    "Hold state also has two probabilities, hold[i] = hold[i-1] or cash[i-1] - price[i], which means I have had a stock in previous state and I do not sell it in this state, or means I buy a new stock in this state."
   ]
  },
  {
   "cell_type": "code",
   "execution_count": 94,
   "metadata": {},
   "outputs": [
    {
     "data": {
      "text/plain": [
       "8"
      ]
     },
     "execution_count": 94,
     "metadata": {},
     "output_type": "execute_result"
    }
   ],
   "source": [
    "def maxProfit3(prices, fee):\n",
    "    if len(prices) <= 1:\n",
    "        return 0\n",
    "    cash, hold = 0, -prices[0]\n",
    "    for i in range(1, len(prices)):\n",
    "        cash, hold = max(cash, hold + prices[i] - fee), max(hold, cash - prices[i])\n",
    "        \n",
    "    return cash\n",
    "\n",
    "prices = [1, 3, 2, 8, 4, 9] # 1~8, 4~9\n",
    "fee = 2\n",
    "maxProfit3(prices, fee)\n",
    "# (0, -1), (0, -1), (0, -1), (5, -1), (5, 1), (8, 1)"
   ]
  },
  {
   "cell_type": "markdown",
   "metadata": {},
   "source": [
    "### <a id='Ex4'> Ex.4 Stock Problem IV\n",
    "\n",
    "Say you have an array for which the ith element is the price of a given stock on day i.\n",
    "\n",
    "Design an algorithm to find the maximum profit. You may complete at most two transactions.\n",
    "\n",
    "Note: You may not engage in multiple transactions at the same time (i.e., you must sell the stock before you buy again)."
   ]
  },
  {
   "cell_type": "markdown",
   "metadata": {},
   "source": [
    "# Solution:\n",
    "We can find maximun price difference from left to right. For example, in prices = [2,4,6,1,3,8,3], we can find maximun price difference \n",
    "LR_max_profit = [0,2,4,4,4,4,7,7]. At the same time, we can also find max_profit from right to left, RL_max_profit = [7,7,7,7,5,0,0], RL[i] means that I buy stock in state i and it also means I find max profit from i to end. Therefore, we only need to split the prices from maxIdx(LR, RL)"
   ]
  },
  {
   "cell_type": "code",
   "execution_count": 10,
   "metadata": {},
   "outputs": [
    {
     "data": {
      "text/plain": [
       "6"
      ]
     },
     "execution_count": 10,
     "metadata": {},
     "output_type": "execute_result"
    }
   ],
   "source": [
    "def maxProfit4(prices):\n",
    "    max_profit = 0\n",
    "    n = len(prices)\n",
    "    left_profit = [0] * n\n",
    "    min_price = float('inf')\n",
    "    \n",
    "    for i in range(n):\n",
    "        min_price = min(min_price, prices[i])\n",
    "        max_profit = max(max_profit, prices[i] - min_price)\n",
    "        left_profit[i] = max_profit\n",
    "    \n",
    "    max_price = 0\n",
    "    max_profit = float('-inf')\n",
    "    right_profit = [0] * n\n",
    "    \n",
    "    for i in range(n-1, 0, -1):\n",
    "        max_price = max(max_price, prices[i])\n",
    "        max_profit = max(max_profit, max_price - prices[i])\n",
    "        right_profit[i] = max_profit\n",
    "    \n",
    "    total_max_price = [0] * n\n",
    "    for i in range(n):\n",
    "        total_max_price[i] = left_profit[i] + right_profit[i]\n",
    "    \n",
    "    return max(total_max_price)\n",
    "\n",
    "prices = [3,3,5,0,0,3,1,4]\n",
    "maxProfit4(prices)"
   ]
  },
  {
   "cell_type": "code",
   "execution_count": 1,
   "metadata": {},
   "outputs": [
    {
     "data": {
      "text/plain": [
       "[1, 2, 3, 4, 5, 6]"
      ]
     },
     "execution_count": 1,
     "metadata": {},
     "output_type": "execute_result"
    }
   ],
   "source": [
    "a = [1,2,3]\n",
    "b = [4,5,6]\n",
    "a+b\n",
    "# max(a)"
   ]
  },
  {
   "cell_type": "markdown",
   "metadata": {},
   "source": [
    "### <a id='Ex5'> Ex.5 Stock Problem V\n",
    "\n",
    "Say you have an array for which the ith element is the price of a given stock on day i.\n",
    "\n",
    "Design an algorithm to find the maximum profit. You may complete at most k transactions."
   ]
  },
  {
   "cell_type": "raw",
   "metadata": {},
   "source": [
    "# Solution:\n",
    "This problem requires us to find the maximum profit and complete at most k transaction. It also means that we can find the maximum profit at k-1, k-2,...,1 transaction.\n",
    "\n",
    "Let us start from an example. prices = [5,11,3,50,60,90] with k = 2\n",
    "We build a table. Row is day and col is transaction. Numbers in table is the maximun profit. \n",
    "\n",
    "Since we would not get any profit if there are not any transaction, the first row is zeros. Since buying and selling will not happen in one day, the first col is zeros.\n",
    "\n",
    "    5, 11,  3, 50, 60, 90\n",
    "  \n",
    "0   0,  0,  0,  0,  0,  0\n",
    "\n",
    "1   0,  6,  6, 47, 57, 87\n",
    "\n",
    "2   0,  6,  6, 53, 63\n",
    "\n",
    "Let us call this table profit[t][d], t means row and transaction, and d means col and day.\n",
    "\n",
    "We find that the profit[t][d] has two conditions. \n",
    "1) We do not sell stock on day d, so profit[t][d] = profit[t][d - 1]\n",
    "2) We sell stock on day d, that also means we've bought stock before. profit[t][d] = price[d] + max(profit[t - 1][x] - price[x]). 0<=x<d\n",
    "\n",
    "profit[t][d] = profit[t][d - 1]\n",
    "\n",
    "          or\n",
    "            \n",
    "          price[d] + max(profit[t - 1][x] - price[x]) 0<=x<d\n",
    "\n",
    "Since we always need to iterate 0<=x<d when we calculate the second condition profit[t][d] = price[d] + max(profit[t - 1][x] - price[x]), we should optimize this process. We can store it. We can use maxThusFar = max(maxThusFar, profit[t - 1][d - 1] - price[d - 1]) to store it, because we calculate every profit from left to right.\n",
    "\n",
    "Therefore, the time complexity will become O(kn) from O(kn^2)"
   ]
  },
  {
   "cell_type": "code",
   "execution_count": 16,
   "metadata": {},
   "outputs": [
    {
     "data": {
      "text/plain": [
       "7"
      ]
     },
     "execution_count": 16,
     "metadata": {},
     "output_type": "execute_result"
    }
   ],
   "source": [
    "def maxProfit5(prices, k):\n",
    "    n = len(prices)\n",
    "    if n < k/2: # since transaction indcludes buying and selling\n",
    "        maxProfit2(prices)\n",
    "    profits = [[0 for d in range(n)] for t in range(k + 1)]\n",
    "    \n",
    "    for t in range(1, k + 1):\n",
    "        maxThusFar = float(\"-inf\")\n",
    "        for d in range(1, n):\n",
    "            maxThusFar = max(maxThusFar, profits[t - 1][d - 1] - prices[d - 1])\n",
    "            profits[t][d] = max(profits[t][d - 1], prices[d] + maxThusFar)\n",
    "            \n",
    "    return profits[-1][-1]\n",
    "\n",
    "prices = [3,2,6,5,0,3]\n",
    "k = 2\n",
    "maxProfit5(prices, k)"
   ]
  },
  {
   "cell_type": "code",
   "execution_count": 97,
   "metadata": {},
   "outputs": [
    {
     "name": "stdout",
     "output_type": "stream",
     "text": [
      "[0, 0, 0, 0, 0, 0] [0, 0, 0, 0, 0, 0]\n",
      "[0, 0, 4, 4, 4, 4] [0, 0, 0, 0, 0, 0]\n",
      "[0, 0, 4, 4, 4, 4] [0, 0, 4, 4, 4, 7]\n"
     ]
    },
    {
     "data": {
      "text/plain": [
       "7"
      ]
     },
     "execution_count": 97,
     "metadata": {},
     "output_type": "execute_result"
    }
   ],
   "source": [
    "# optimizing space complexity\n",
    "# we can use two row to replace profits\n",
    "def maxProfit5(prices, k):\n",
    "    n = len(prices)\n",
    "    if n < k/2: # since transaction indcludes buying and selling\n",
    "        maxProfit2(prices)\n",
    "    evenProfits = [0 for d in range(n)]\n",
    "    oddProfits = [0 for d in range(n)]\n",
    "    print(oddProfits, evenProfits)\n",
    "    \n",
    "    for t in range(1, k + 1):\n",
    "        maxThusFar = float(\"-inf\")\n",
    "        if t % 2 == 1:\n",
    "            currentProfits = oddProfits\n",
    "            previousProfits = evenProfits\n",
    "        else:\n",
    "            currentProfits = evenProfits\n",
    "            previousProfits = oddProfits\n",
    "        for d in range(1, n):\n",
    "            maxThusFar = max(maxThusFar, previousProfits[d - 1] - prices[d - 1])\n",
    "            currentProfits[d] = max(currentProfits[d - 1], prices[d] + maxThusFar)\n",
    "        print(oddProfits, evenProfits)\n",
    "    return currentProfits[-1]\n",
    "prices = [3,2,6,5,0,3]\n",
    "k = 2\n",
    "maxProfit5(prices, k)   "
   ]
  },
  {
   "cell_type": "markdown",
   "metadata": {},
   "source": [
    "### <a id='Ex6'> Ex.6 Stock Problem VI\n",
    "\n",
    "Say you have an array for which the ith element is the price of a given stock on day i.\n",
    "\n",
    "Design an algorithm to find the maximum profit. You may complete as many transactions as you like (ie, buy one and sell one share of the stock multiple times) with the following restrictions:\n",
    "\n",
    "You may not engage in multiple transactions at the same time (ie, you must sell the stock before you buy again).\n",
    "After you sell your stock, you cannot buy stock on next day. (ie, cooldown 1 day)"
   ]
  },
  {
   "cell_type": "markdown",
   "metadata": {},
   "source": [
    "# Solution:\n",
    "We can build 2 states, one is cash and the other is hold.\n",
    "\n",
    "cash means we do not hold any stock, so cash[i] = max(cash[i - 1], hold[i - 1] + prices[i])\n",
    "\n",
    "hold means we hold a stock, so hold[i] = max(hold[i - 1], cash[i - 2] - prices[i]), since we cannot buy stock on the next day of selling stock."
   ]
  },
  {
   "cell_type": "code",
   "execution_count": 25,
   "metadata": {},
   "outputs": [
    {
     "data": {
      "text/plain": [
       "3"
      ]
     },
     "execution_count": 25,
     "metadata": {},
     "output_type": "execute_result"
    }
   ],
   "source": [
    "def maxProfit6(prices):\n",
    "    n = len(prices)\n",
    "    if n < 2:\n",
    "        return 0\n",
    "    cash = [0 for i in range(n)]\n",
    "    hold = [0 for i in range(n)] \n",
    "    hold[0] = -prices[0] # first error: ignore\n",
    "    \n",
    "    for i in range(1, n):\n",
    "        cash[i] = max(cash[i - 1], hold[i - 1] + prices[i])\n",
    "        hold[i] = max(hold[i - 1], (cash[i - 2] if i > 1 else 0) - prices[i])\n",
    "    \n",
    "    return cash[-1]\n",
    "\n",
    "prices = [1,2,3,0,2]\n",
    "maxProfit6(prices) "
   ]
  },
  {
   "cell_type": "markdown",
   "metadata": {},
   "source": [
    "# Dynamic Programming III"
   ]
  },
  {
   "cell_type": "markdown",
   "metadata": {},
   "source": [
    "### 2-D Dynamic Programming"
   ]
  },
  {
   "cell_type": "markdown",
   "metadata": {},
   "source": [
    "** Ex.1 Unique Path **\n",
    "\n",
    "A robot is located at the top-left corner of a m x n grid (marked 'Start' in the diagram below).\n",
    "\n",
    "The robot can only move either down or right at any point in time. The robot is trying to reach the bottom-right corner of the grid (marked 'Finish' in the diagram below).\n",
    "\n",
    "How many possible unique paths are there?\n",
    "\n",
    "<img src=\"../images/ch22/robot_maze.png\" width=\"360\"/>"
   ]
  },
  {
   "cell_type": "markdown",
   "metadata": {},
   "source": [
    "# Solution:\n",
    "we can find that number of path on every position is that the up number plus the left number of the position"
   ]
  },
  {
   "cell_type": "code",
   "execution_count": 26,
   "metadata": {},
   "outputs": [
    {
     "data": {
      "text/plain": [
       "10"
      ]
     },
     "execution_count": 26,
     "metadata": {},
     "output_type": "execute_result"
    }
   ],
   "source": [
    "def uniquePaths(m, n):\n",
    "    matrix = [[1 for i in range(n)] for j in range(m)]\n",
    "    for i in range(1, m):\n",
    "        for j in range(1, n):\n",
    "            matrix[i][j] = matrix[i - 1][j] + matrix[i][j - 1]\n",
    "            \n",
    "    return matrix[-1][-1]\n",
    "uniquePaths(3, 4)\n"
   ]
  },
  {
   "cell_type": "code",
   "execution_count": 27,
   "metadata": {},
   "outputs": [
    {
     "data": {
      "text/plain": [
       "10"
      ]
     },
     "execution_count": 27,
     "metadata": {},
     "output_type": "execute_result"
    }
   ],
   "source": [
    "def uniquePaths(m, n):\n",
    "    matrix = [1 for i in range(n)]\n",
    "    for i in range(1, m):\n",
    "        for j in range(1, n):\n",
    "            matrix[j] += matrix[j - 1]\n",
    "    return matrix[-1]\n",
    "\n",
    "uniquePaths(3, 4)"
   ]
  },
  {
   "cell_type": "markdown",
   "metadata": {},
   "source": [
    "** Ex.2 Unique Path II **\n",
    "\n",
    "Follow up:\n",
    "\n",
    "Now consider if some obstacles are added to the grids. How many unique paths would there be?\n",
    "\n",
    "An obstacle and empty space is marked as 1 and 0 respectively in the grid.\n",
    "\n",
    "For example,\n",
    "\n",
    "There is one obstacle in the middle of a 3x3 grid as illustrated below.\n",
    "\n",
    "[\n",
    "\n",
    "  [0,0,0],\n",
    "  \n",
    "  [0,1,0],\n",
    "  \n",
    "  [0,0,0]\n",
    "  \n",
    "]\n",
    "\n",
    "The total number of unique paths is 2.\n",
    "\n",
    "<img src=\"../images/ch23/WechatIMG2537.jpeg\" width=\"360\"/>"
   ]
  },
  {
   "cell_type": "code",
   "execution_count": 29,
   "metadata": {},
   "outputs": [
    {
     "data": {
      "text/plain": [
       "7"
      ]
     },
     "execution_count": 29,
     "metadata": {},
     "output_type": "execute_result"
    }
   ],
   "source": [
    "def uniquePathsWithObstacles(obstacleGrid):\n",
    "    m, n = len(obstacleGrid), len(obstacleGrid[0])\n",
    "    dp = [1] + [0] * (n - 1) # since we need to calculte every number from 1st row\n",
    "    for i in range(m):\n",
    "        for j in range(n):\n",
    "            if obstacleGrid[i][j] == 1:\n",
    "                dp[j] = 0\n",
    "            elif j > 0:\n",
    "                dp[j] += dp[j - 1]\n",
    "    return dp[-1]\n",
    "\n",
    "grid = [\n",
    "    [0,0,0],\n",
    "    [0,1,0],\n",
    "    [0,0,0]\n",
    "]\n",
    "uniquePathsWithObstacles(grid)\n",
    "\n",
    "grid = [\n",
    "    [0,0,0,0,0,0,0],\n",
    "    [0,0,1,0,0,0,0],\n",
    "    [0,0,0,0,1,0,0]\n",
    "]\n",
    "uniquePathsWithObstacles(grid)"
   ]
  },
  {
   "cell_type": "markdown",
   "metadata": {},
   "source": [
    "** Ex.3 Moving on Checkerboard **\n",
    "\n",
    "We are given a grid of squares or a checkerboard with (n) rows and (n) columns. There is a profit we can get by moving to some square in the checkerboard. Our goal is to find the most profitable way from some square in the first row to some square in the last row. We can always move to the next square on the next row using one of three ways:\n",
    "\n",
    "Go to the square on the next row on the previous column (UP then LEFT)\n",
    "\n",
    "Go to the square on the next row on the same column (UP)\n",
    "\n",
    "Go to the square on the next row on the next column (UP then RIGHT)\n",
    "\n",
    "<img src=\"../images/ch22/checker_board.jpg\" width=\"300\"/>"
   ]
  },
  {
   "cell_type": "markdown",
   "metadata": {},
   "source": [
    "# Solution:\n",
    "we can find that max profit of every point is depend on its up-left, up, up-right, so profit[i][j] = [i-1][j-1] + [i-1][j] + [i-1][j+1]"
   ]
  },
  {
   "cell_type": "code",
   "execution_count": 30,
   "metadata": {},
   "outputs": [
    {
     "data": {
      "text/plain": [
       "12"
      ]
     },
     "execution_count": 30,
     "metadata": {},
     "output_type": "execute_result"
    }
   ],
   "source": [
    "def movingBoard(board):\n",
    "    rst = board\n",
    "    m, n = len(board), len(board[0])\n",
    "    for i in range(1, m):\n",
    "        for j in range(n):\n",
    "            rst[i][j] = max(0 if j == 0 else board[i - 1][j - 1], \\\n",
    "                           board[i - 1][j],\\\n",
    "                           0 if j == n - 1 else board[i - 1][j + 1]) + board[i][j]\n",
    "    return max(rst[-1])\n",
    "\n",
    "board = [\n",
    "    [3,-2, 6,-3, 4, 1, 2],\n",
    "    [0, 4, 1, 3,-1, 4, 3],\n",
    "    [2, 2,-1, 3, 2, 0, 2]\n",
    "]\n",
    "movingBoard(board)"
   ]
  },
  {
   "cell_type": "markdown",
   "metadata": {},
   "source": [
    "** Ex.4 Maximum Square **"
   ]
  },
  {
   "cell_type": "markdown",
   "metadata": {},
   "source": [
    "Given a 2D binary matrix filled with 0's and 1's, find the largest square containing only 1's and return its area.\n",
    "\n",
    "For example, given the following matrix:\n",
    "    \n",
    "<img src=\"../images/ch23/WechatIMG2529.jpeg\" width=\"140\"/>\n",
    "\n",
    "Return 4."
   ]
  },
  {
   "cell_type": "markdown",
   "metadata": {},
   "source": [
    "# Solution:\n",
    "we can create a result matrix. Every position in rst represents a maximum square on its left-up, which means this position is the right-down one of a maximum position. Then we can find that every position depend on its up, left-up, left position. \n",
    "\n",
    "Therefore, rst[i][j] = min(rst[i - 1][j], rst[i - 1][j - 1], rst[i][j - 1]) + 1 if rst[i][j] is 1."
   ]
  },
  {
   "cell_type": "code",
   "execution_count": 35,
   "metadata": {},
   "outputs": [
    {
     "data": {
      "text/plain": [
       "4"
      ]
     },
     "execution_count": 35,
     "metadata": {},
     "output_type": "execute_result"
    }
   ],
   "source": [
    "def maximalSquare(matrix):\n",
    "    if matrix == []:\n",
    "        return 0\n",
    "    row, col = len(matrix), len(matrix[0])\n",
    "    dp = matrix\n",
    "    maximun = 0\n",
    "    for i in range(row):\n",
    "        for j in range(col):\n",
    "            if i and j and dp[i][j]:\n",
    "                dp[i][j] = min(dp[i - 1][j], dp[i - 1][j - 1], dp[i][j - 1]) + 1\n",
    "                maximun = max(dp[i][j], maximun)\n",
    "    return maximun * maximun\n",
    "\n",
    "matrix = [\n",
    "    [1,0,1,0,0],\n",
    "    [1,0,1,1,1],\n",
    "    [1,1,1,1,1],\n",
    "    [1,0,0,1,0]\n",
    "]\n",
    "maximalSquare(matrix)"
   ]
  },
  {
   "cell_type": "markdown",
   "metadata": {},
   "source": [
    "** Ex.5 0/1 Knapsack **\n",
    "\n",
    "Given weights and values of n items, put these items in a knapsack of capacity W to get the maximum total value in the knapsack. "
   ]
  },
  {
   "cell_type": "markdown",
   "metadata": {},
   "source": [
    "# Solution:\n",
    "we can build a table dp[n][w], w is avalable weight of bag, n is the number of item.\n",
    "\n",
    "The first row is the first bag, if avalable weight is smaller than wt[0], then dp is 0 else dp is val[0]. The first col means not weight avalable, so first col is 0. \n",
    "\n",
    "For any dp[n][w]. If we take n th item, then dp = dp[n-1][w-wt[n]]. If we not take nth item, then dp = dp[n-1][w]. If avalable weight is smaller than wt[n], then we can only ignore current item"
   ]
  },
  {
   "cell_type": "code",
   "execution_count": 46,
   "metadata": {},
   "outputs": [
    {
     "name": "stdout",
     "output_type": "stream",
     "text": [
      "[[0, 0, 0, 5, 5, 5], [0, 0, 3, 5, 5, 8], [0, 4, 4, 7, 9, 9]]\n",
      "9\n"
     ]
    }
   ],
   "source": [
    "def knapSack(W, wt, val, n):\n",
    "    dp = [[0 for w in range(W + 1)] for n in range(len(wt))] # w is avalable weight of bag, n is the number of item\n",
    "#     dp[0][wt[0] : ] = val[0] for i in range(W - wt[0] + 1)\n",
    "    for i in range(W - wt[0] + 1):\n",
    "        dp[0][wt[0] + i] = val[0]\n",
    "    for n in range(1, n):\n",
    "        for w in range(1, W + 1):\n",
    "            if wt[n] <= w: # the weight of item is smaller than avalable weight of bag\n",
    "                dp[n][w] = max(dp[n - 1][w - wt[n]] + val[n], dp[n - 1][w]) # take or not take\n",
    "            else: # cannot take\n",
    "                dp[n][w] = dp[n - 1][w]\n",
    "    print(dp)\n",
    "    return dp[-1][-1]\n",
    "\n",
    "val = [5, 3, 4]\n",
    "wt = [3, 2, 1]\n",
    "W = 5\n",
    "n = len(val)\n",
    "print(knapSack(W, wt, val, n))"
   ]
  },
  {
   "cell_type": "markdown",
   "metadata": {},
   "source": [
    "** Ex.6 Longest Common Substring **\n",
    "\n",
    "Given two strings ‘X’ and ‘Y’, find the length of the longest common substring.\n",
    "\n",
    "Input : X = \"abcdxyz\", y = \"xyzabcd\"\n",
    "\n",
    "Output : 4\n",
    "\n",
    "The longest common substring is \"abcd\" and is of length 4.\n",
    "\n",
    "\n",
    "Input : X = \"zxabcdezy\", y = \"yzabcdezx\"\n",
    "\n",
    "Output : 6\n",
    "\n",
    "The longest common substring is \"abcdez\" and is of length 6."
   ]
  },
  {
   "cell_type": "code",
   "execution_count": 2,
   "metadata": {},
   "outputs": [
    {
     "data": {
      "text/plain": [
       "7"
      ]
     },
     "execution_count": 2,
     "metadata": {},
     "output_type": "execute_result"
    }
   ],
   "source": [
    "'''\n",
    "Solution:\n",
    "We can build a table dp[x][y], x are elements of string X and y are elements of string Y. dp[i][j] means the LCS of X[:i] and Y[:j].\n",
    "If X[i] == Y[j], then dp[i][j] = dp[i-1][j-1] + 1. If X[i] != Y[j], then dp[i][j] = max(dp[i-1][j], dp[i][j-1]). \n",
    "dp[i-1][j] means that we use X[:i-1] to compare with Y[:j].\n",
    "'''\n",
    "\n",
    "def LCS(X, Y):\n",
    "    m, n = len(X), len(Y)\n",
    "    if m == 0 or n == 0:\n",
    "        return 0\n",
    "    dp = [[0 for i in range(n + 1)] for j in range(m + 1)]\n",
    "    for i in range(1, m + 1):\n",
    "        for j in range(1, n + 1):\n",
    "            # When i or j == 0, LCS == 0\n",
    "            if X[i - 1] == Y[j - 1]: # since 0 represents no string\n",
    "                dp[i][j] = dp[i - 1][j - 1] + 1\n",
    "            else:\n",
    "                dp[i][j] = max(dp[i - 1][j], dp[i][j - 1])\n",
    "                \n",
    "    return dp[-1][-1]\n",
    "\n",
    "\n",
    "X = 'AGGTAB'\n",
    "Y = 'GXTXAYB'\n",
    "\n",
    "LCS(X, Y)\n",
    "\n",
    "x = \"zxabcdezy\"\n",
    "y = \"yzabcdezx\"\n",
    "LCS(x, y)"
   ]
  },
  {
   "cell_type": "markdown",
   "metadata": {},
   "source": [
    "** Ex.7 Longest Increasing Subsequence **\n",
    "\n",
    "Given an unsorted array of integers, find the length of longest increasing subsequence.\n",
    "\n",
    "For example,\n",
    "\n",
    "Given [10, 9, 2, 5, 3, 7, 101, 18],\n",
    "\n",
    "The longest increasing subsequence is [2, 3, 7, 101], therefore the length is 4. Note that there may be more than one LIS combination, it is only necessary for you to return the length.\n",
    "\n",
    "Your algorithm should run in O(n2) complexity.\n",
    "\n",
    "Follow up: Could you improve it to O(n log n) time complexity?"
   ]
  },
  {
   "cell_type": "code",
   "execution_count": 49,
   "metadata": {},
   "outputs": [
    {
     "data": {
      "text/plain": [
       "'\\nSolution1:\\nWe can use the way of LCS. Sorting the array first, let we call it array2. Then we run LCS(array, array2).\\nThe time complexity is O(n^2)\\n'"
      ]
     },
     "execution_count": 49,
     "metadata": {},
     "output_type": "execute_result"
    }
   ],
   "source": [
    "'''\n",
    "Solution1:\n",
    "We can use the way of LCS. Sorting the array first, let we call it array2. Then we run LCS(array, array2).\n",
    "The time complexity is O(n^2)\n",
    "'''"
   ]
  },
  {
   "cell_type": "code",
   "execution_count": 50,
   "metadata": {},
   "outputs": [
    {
     "data": {
      "text/plain": [
       "4"
      ]
     },
     "execution_count": 50,
     "metadata": {},
     "output_type": "execute_result"
    }
   ],
   "source": [
    "'''\n",
    "Solution2:\n",
    "We build a new LIS array dp[i]. i is elements. dp[i] means LIS for ith element.\n",
    "For example, array = [10, 9, 2, 5, 3, 7, 101, 18, 1], dp = [1, 1, 1, 2, 2, 3, 4, 4, 1].\n",
    "Therefore, we need to iterate every element and to find if there are other element in front of current element is smaller than it.\n",
    "If yes, then dp[i] == dp[j] + 1. else dp[i] == 1.\n",
    "'''\n",
    "\n",
    "def lengthOfLIS2(nums):\n",
    "    if not nums:\n",
    "        return 0\n",
    "    n = len(nums)\n",
    "    dp = [1 for i in range(n)]\n",
    "    for i in range(1, n):\n",
    "        for j in range(i):\n",
    "            if nums[i] > nums[j]:\n",
    "                dp[i] = max(dp[i], dp[j] + 1) # since when we iterate i, the dp[i] always changing, we need to find the maximun.\n",
    "    return max(dp)     \n",
    "\n",
    "nums = [10, 9, 2, 5, 3, 7, 101, 18]\n",
    "lengthOfLIS2(nums)"
   ]
  },
  {
   "cell_type": "code",
   "execution_count": 81,
   "metadata": {},
   "outputs": [
    {
     "data": {
      "text/plain": [
       "4"
      ]
     },
     "execution_count": 81,
     "metadata": {},
     "output_type": "execute_result"
    }
   ],
   "source": [
    "'''\n",
    "Solution3:\n",
    "First, we build a dp array. Iterating the nums array and store member to dp. If we find a element bigger than any member in dp, \n",
    "then we append it to dp. Else, we use the element to replace the member which just bigger than it.\n",
    "'''\n",
    "\n",
    "#using binary search\n",
    "def lengthOfLIS(nums):\n",
    "    def search(temp, item):\n",
    "        if len(temp) == 0:\n",
    "            return 0\n",
    "        left, right = 0, len(temp) - 1 # dont write len(temp) - 1, since len(temp) - 1 will always be 0\n",
    "        while left + 1 < right:\n",
    "            mid = left + (right - left) // 2\n",
    "            if item > temp[mid]:\n",
    "                left = mid\n",
    "            else:\n",
    "                right = mid\n",
    "        if temp[left] >= item:\n",
    "            return left\n",
    "        if temp[right] >= item:\n",
    "            return right\n",
    "        else: # if item > temp[:]\n",
    "            return right + 1\n",
    "\n",
    "    dp = []\n",
    "    for num in nums:\n",
    "        pos = search(dp, num)\n",
    "        if pos >= len(dp):\n",
    "            dp.append(num)\n",
    "        else:\n",
    "            dp[pos] = num\n",
    "    return len(dp)\n",
    "\n",
    "nums = [10, 9, 2, 5, 3, 7, 101, 18]\n",
    "lengthOfLIS(nums)"
   ]
  },
  {
   "cell_type": "code",
   "execution_count": 91,
   "metadata": {},
   "outputs": [
    {
     "name": "stdout",
     "output_type": "stream",
     "text": [
      "0 2\n",
      "0 0\n"
     ]
    },
    {
     "data": {
      "text/plain": [
       "0"
      ]
     },
     "execution_count": 91,
     "metadata": {},
     "output_type": "execute_result"
    }
   ],
   "source": [
    "def search(temp, item):\n",
    "    if len(temp) == 0:\n",
    "         return 0\n",
    "    left, right = 0, len(temp) - 1 # dont write len(temp) - 1, since len(temp) - 1 will always be 0\n",
    "    while left < right:\n",
    "        mid = left + (right - left) // 2\n",
    "        if item > temp[mid]:\n",
    "             left = mid + 1\n",
    "        else:\n",
    "             right = mid - 1\n",
    "        print(left, right)\n",
    "    return left\n",
    "\n",
    "temp = [1,2,2,2,3,4,4,5]\n",
    "temp = [1,2,2,2,3,4,4,5]\n",
    "search(temp, 2)"
   ]
  },
  {
   "cell_type": "code",
   "execution_count": null,
   "metadata": {
    "collapsed": true
   },
   "outputs": [],
   "source": []
  }
 ],
 "metadata": {
  "kernelspec": {
   "display_name": "Python 3",
   "language": "python",
   "name": "python3"
  },
  "language_info": {
   "codemirror_mode": {
    "name": "ipython",
    "version": 3
   },
   "file_extension": ".py",
   "mimetype": "text/x-python",
   "name": "python",
   "nbconvert_exporter": "python",
   "pygments_lexer": "ipython3",
   "version": "3.8.3"
  }
 },
 "nbformat": 4,
 "nbformat_minor": 2
}
