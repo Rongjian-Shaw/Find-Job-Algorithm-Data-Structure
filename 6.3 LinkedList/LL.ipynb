{
 "cells": [
  {
   "cell_type": "code",
   "execution_count": 2,
   "metadata": {},
   "outputs": [
    {
     "name": "stdout",
     "output_type": "stream",
     "text": [
      "Linked List: \n",
      "3 2 1 \n",
      "Linked List: \n",
      "1 \n",
      "Linked List: \n",
      "\n",
      "Linked List: \n",
      "3 4 5 6 7 \n"
     ]
    }
   ],
   "source": [
    "from Empty import Empty\n",
    "from Outbound import Outbound\n",
    "\n",
    "class Node:\n",
    "    def __init__ (self, value = None, next = None):\n",
    "        self.value = value\n",
    "        self.next = next\n",
    "        \n",
    "\n",
    "class LinkedList:\n",
    "    \n",
    "    def __init__(self):\n",
    "        self.head = Node()\n",
    "        self.length = 0\n",
    "\n",
    "    def peek(self):\n",
    "        pass\n",
    "\n",
    "    def get_first(self):\n",
    "        if not self.head.next:\n",
    "            raise Empty( 'LinkedList is empty' )\n",
    "        return self.head.next\n",
    "        \n",
    "    def get_last(self):\n",
    "        if not self.head.next:\n",
    "            raise Empty( 'LinkedList is empty' )\n",
    "        p = self.head\n",
    "        while p.next != None:\n",
    "            p = p.next\n",
    "        return p\n",
    "    \n",
    "    def get(self, index):\n",
    "        if index >= self.length and index < 0:\n",
    "            raise Outbound( 'index is out of bound' )\n",
    "        if not self.head.next:\n",
    "            raise Empty( 'LinkedList is empty' )\n",
    "        p = self.head.next\n",
    "        for i in range(index):\n",
    "            p = p.next\n",
    "        return p\n",
    "                \n",
    "    def add_first(self, value):\n",
    "        newNode = Node(value=value)\n",
    "        newNode.next = self.head.next\n",
    "        self.head.next = newNode\n",
    "        self.length += 1\n",
    "        \n",
    "    def add_last(self, value):\n",
    "        newNode = Node(value=value)\n",
    "        p = self.head\n",
    "        while p.next != None:\n",
    "            p = p.next\n",
    "        p.next = newNode\n",
    "        self.length += 1\n",
    "\n",
    "    def add(self, index, value):\n",
    "        if index >= self.length and index < 0:\n",
    "            raise Outbound( 'index is out of bound')\n",
    "        if not self.head.next:\n",
    "            raise Empty( 'LinkedList is empty' )\n",
    "        p = self.head\n",
    "        newNode = Node(value = value)\n",
    "        for i in range(index):\n",
    "            p = p.next\n",
    "        newNode.next = p.next\n",
    "        p.next = newNode\n",
    "        self.length += 1\n",
    "        \n",
    "    def remove_first(self):\n",
    "        if not self.head.next:\n",
    "            raise Empty( 'LinkedList is empty' )\n",
    "        node = self.head.next\n",
    "        self.head.next = self.head.next.next\n",
    "        self.length -= 1\n",
    "        return node\n",
    "        \n",
    "    def remove_last(self):\n",
    "        if not self.head.next:\n",
    "            raise Empty( 'LinkedList is empty' )\n",
    "        p = self.head\n",
    "        prev = p\n",
    "        while p.next != None:\n",
    "            prev = p\n",
    "            p = p.next\n",
    "        prev.next = None\n",
    "        self.length -= 1\n",
    "        return p.value\n",
    "    \n",
    "    def remove(self, index):\n",
    "        if index >= self.length and index < 0:\n",
    "            raise Outbound( 'index is out of bound')\n",
    "        if not self.head.next:\n",
    "            raise Empty( 'LinkedList is empty' )\n",
    "        p = self.head\n",
    "        for i in range(index):\n",
    "            p = p.next\n",
    "        node = p.next\n",
    "        p.next = p.next.next\n",
    "        self.length -= 1\n",
    "        return node\n",
    "        \n",
    "    def printlist(self):\n",
    "        p = self.head.next\n",
    "        while p != None:\n",
    "            print(p.value, end = \" \")\n",
    "            p = p.next\n",
    "        print('')\n",
    "\n",
    "if __name__ == \"__main__\":\n",
    "#     ll = LinkedList()\n",
    "#     for i in range(1, 10):\n",
    "#         ll.add_last(i)\n",
    "#         #ll.add_end(i+1)\n",
    "        \n",
    "#     mm = LinkedList()\n",
    "#     for i in range(100, 110):\n",
    "#         mm.add_last(i)\n",
    "#         #ll.add_end(i+1)        \n",
    "    \n",
    "#     ll.printlist()\n",
    "#     mm.printlist()\n",
    "    \n",
    "    \n",
    "#     ll.add_first(0)    \n",
    "#     ll.add_first(-1)\n",
    "#     print('Linked List: ')\n",
    "#     ll.printlist()\n",
    "    \n",
    "# #     node = ll.peek()\n",
    "# #     print('peek: ' , str(node.value))\n",
    "#     node = ll.get_first()\n",
    "#     print('get first: ' , str(node.value))\n",
    "#     node = ll.get_last()\n",
    "#     print('get last: ' , str(node.value))\n",
    "#     node = ll.get(0)\n",
    "#     print('get position 0: ' , str(node.value))\n",
    "#     node = ll.get(2)\n",
    "#     print('get position 2: ' , str(node.value))\n",
    "#     ll.add(0, -2)\n",
    "#     ll.add(4, 1.5)\n",
    "#     print('Linked List: ')\n",
    "#     ll.printlist()\n",
    "#     node = ll.remove(0)\n",
    "#     print('remove position 0: ' , str(node.value))\n",
    "#     ll.printlist()\n",
    "#     node = ll.remove(3)\n",
    "#     print('remove position 3: ' , str(node.value))\n",
    "#     ll.printlist()\n",
    "    \n",
    "    \n",
    "    ll = LinkedList()\n",
    "    for i in range(1, 4):\n",
    "        ll.add_first(i)\n",
    "        #ll.add_end(i+1)\n",
    "    print('Linked List: ')\n",
    "    ll.printlist()\n",
    "    ll.remove_first()\n",
    "    ll.remove_first()\n",
    "    print('Linked List: ')\n",
    "    ll.printlist()\n",
    "    ll.remove_first()\n",
    "    print('Linked List: ')\n",
    "    ll.printlist()\n",
    "    \n",
    "    ll = LinkedList()\n",
    "    for i in range(1, 10):\n",
    "        ll.add_last(i)\n",
    "        \n",
    "    ll.remove_first()\n",
    "    ll.remove_last()\n",
    "    ll.remove_first()\n",
    "    ll.remove_last()\n",
    "    print('Linked List: ')\n",
    "    ll.printlist()"
   ]
  },
  {
   "cell_type": "markdown",
   "metadata": {
    "collapsed": true
   },
   "source": [
    "### <a id='Ex1'>Ex.1 Delete Node </a>\n",
    "\n",
    "Delete Node in Linked List: except the tail, given only access to that node."
   ]
  },
  {
   "cell_type": "code",
   "execution_count": 3,
   "metadata": {},
   "outputs": [
    {
     "name": "stdout",
     "output_type": "stream",
     "text": [
      "1 2 3 4 \n",
      "2\n",
      "1 3 4 \n"
     ]
    }
   ],
   "source": [
    "def delete_node(node):\n",
    "    print(node.value)\n",
    "    node.value = node.next.value\n",
    "    node.next = node.next.next\n",
    "    \n",
    "lst = LinkedList()\n",
    "lst.add_last(1)\n",
    "lst.add_last(2)\n",
    "lst.add_last(3)\n",
    "lst.add_last(4)\n",
    "lst.printlist()\n",
    "delete_node(lst.head.next.next)\n",
    "lst.printlist()"
   ]
  },
  {
   "cell_type": "markdown",
   "metadata": {},
   "source": [
    "### <a id='Ex2'>Ex.2 Find the Middle Node</a>"
   ]
  },
  {
   "cell_type": "code",
   "execution_count": 4,
   "metadata": {},
   "outputs": [
    {
     "name": "stdout",
     "output_type": "stream",
     "text": [
      "***\n",
      "None\n",
      "***\n",
      "1\n",
      "2\n"
     ]
    }
   ],
   "source": [
    "# 注意利用fast和slow找中点的时候一定要有dummy node\n",
    "def find_middle(lst):\n",
    "    if not lst.head.next:\n",
    "        raise Empty( 'LinkedList is empty' )\n",
    "    fast = lst.head\n",
    "    slow = lst.head\n",
    "    while fast != None and fast.next != None:\n",
    "        print(\"***\")\n",
    "        print(slow.value)\n",
    "        fast = fast.next.next\n",
    "        slow = slow.next\n",
    "    \n",
    "    return slow.value\n",
    "\n",
    "lst = LinkedList()\n",
    "#find_middle(lst)\n",
    "lst.add_last(1)\n",
    "# print(find_middle(lst))\n",
    "lst.add_last(2)\n",
    "lst.add_last(3)\n",
    "lst.add_last(4)\n",
    "print(find_middle(lst))\n",
    "\n",
    "# lst.add_last(5)\n",
    "# print(find_middle(lst))"
   ]
  },
  {
   "cell_type": "markdown",
   "metadata": {},
   "source": [
    "### <a id='Ex3'>Ex.3 Has Cycle </a>\n",
    "\n",
    "Determine whether a linked list has cycle"
   ]
  },
  {
   "cell_type": "code",
   "execution_count": 5,
   "metadata": {},
   "outputs": [
    {
     "name": "stdout",
     "output_type": "stream",
     "text": [
      "False\n",
      "True\n"
     ]
    }
   ],
   "source": [
    "def has_cycle(lst):\n",
    "    if not lst.head.next:\n",
    "        raise Empty( 'LinkedList is empty' )\n",
    "    fast = lst.head\n",
    "    slow = lst.head\n",
    "    while fast != None and fast.next != None:\n",
    "        fast = fast.next.next\n",
    "        slow = slow.next\n",
    "        \n",
    "        if fast == slow:\n",
    "            return True\n",
    "    \n",
    "    return False\n",
    "\n",
    "lst = LinkedList()\n",
    "lst.add_last(1)\n",
    "lst.add_last(2)\n",
    "lst.add_last(3)\n",
    "lst.add_last(4)\n",
    "print(has_cycle(lst))\n",
    "p = lst.get_last()\n",
    "p.next = lst.head.next\n",
    "print(has_cycle(lst))"
   ]
  },
  {
   "cell_type": "markdown",
   "metadata": {},
   "source": [
    "### <a id='Ex4'>Ex.4 Beginning of Loop </a>\n",
    "\n",
    "Given a circular linked list, find the node at the beginning of the loop."
   ]
  },
  {
   "cell_type": "code",
   "execution_count": 6,
   "metadata": {},
   "outputs": [
    {
     "name": "stdout",
     "output_type": "stream",
     "text": [
      "2\n"
     ]
    }
   ],
   "source": [
    "def find_beginning(lst):\n",
    "    if not lst.head.next:\n",
    "        raise Empty( 'LinkedList is empty' )\n",
    "    \n",
    "    fast = lst.head\n",
    "    slow = lst.head\n",
    "    \n",
    "    while fast != None and fast.next != None:\n",
    "        fast = fast.next.next\n",
    "        slow = slow.next\n",
    "        if fast == slow:\n",
    "            break\n",
    "    \n",
    "    fast = lst.head\n",
    "    \n",
    "    while fast!= slow:\n",
    "        fast = fast.next\n",
    "        slow = slow.next\n",
    "    \n",
    "    return slow\n",
    "\n",
    "lst = LinkedList()\n",
    "lst.add_last(1)\n",
    "lst.add_last(2)\n",
    "lst.add_last(3)\n",
    "lst.add_last(4)\n",
    "lst.add_last(5)\n",
    "lst.add_last(6)\n",
    "p = lst.get_last()\n",
    "p.next = lst.head.next.next\n",
    "print(find_beginning(lst).value)"
   ]
  },
  {
   "cell_type": "markdown",
   "metadata": {},
   "source": [
    "### <a id='Ex5'>Ex.5 Remove Nth to Last</a>\n",
    "\n",
    "Remove the nth to last element of a singly linked list"
   ]
  },
  {
   "cell_type": "code",
   "execution_count": 7,
   "metadata": {},
   "outputs": [
    {
     "name": "stdout",
     "output_type": "stream",
     "text": [
      "5\n",
      "1 3 5 7 9 \n"
     ]
    }
   ],
   "source": [
    "def remove_nth(lst, n):\n",
    "    assert n <= lst.length and n > 0\n",
    "    fast = lst.head\n",
    "    \n",
    "    for i in range(n):\n",
    "        fast = fast.next\n",
    "    \n",
    "    slow = lst.head\n",
    "    while fast != None:\n",
    "        fast = fast.next\n",
    "        slow = slow.next\n",
    "    \n",
    "    result = slow\n",
    "    lst.length = lst.length - 1\n",
    "    \n",
    "    return result\n",
    "\n",
    "lst = LinkedList()\n",
    "lst.add_last(1)\n",
    "lst.add_last(3)\n",
    "lst.add_last(5)\n",
    "lst.add_last(7)\n",
    "lst.add_last(9)\n",
    "print(remove_nth(lst, 3).value)\n",
    "lst.printlist()"
   ]
  },
  {
   "cell_type": "markdown",
   "metadata": {},
   "source": [
    "### <a id='Ex6'>Ex.6 Split in Half</a>\n",
    "\n",
    "Give a list, split in into two lists, one for the front half, and one for the back half."
   ]
  },
  {
   "cell_type": "code",
   "execution_count": 19,
   "metadata": {},
   "outputs": [
    {
     "name": "stdout",
     "output_type": "stream",
     "text": [
      "1 3 5 \n",
      "7 9 \n"
     ]
    }
   ],
   "source": [
    "def split(lst):\n",
    "    if lst.head == None or lst.head.next == None:\n",
    "        return None\n",
    "    fast = lst.head\n",
    "    slow = lst.head\n",
    "    while fast != None and fast.next != None:\n",
    "        fast = fast.next.next\n",
    "        slow = slow.next\n",
    "        \n",
    "    front = lst.head.next\n",
    "    back = slow.next\n",
    "    slow.next = None\n",
    "    \n",
    "    return front, back\n",
    "\n",
    "lst = LinkedList()\n",
    "lst.add_last(1)\n",
    "lst.add_last(3)\n",
    "lst.add_last(5)\n",
    "lst.add_last(7)\n",
    "lst.add_last(9)\n",
    "\n",
    "front_node, back_node = split(lst)\n",
    "front = LinkedList()\n",
    "back = LinkedList()\n",
    "front.head.next = front_node\n",
    "back.head.next = back_node\n",
    "\n",
    "front.printlist()\n",
    "back.printlist()"
   ]
  },
  {
   "cell_type": "code",
   "execution_count": null,
   "metadata": {
    "collapsed": true
   },
   "outputs": [],
   "source": []
  }
 ],
 "metadata": {
  "kernelspec": {
   "display_name": "Python 3",
   "language": "python",
   "name": "python3"
  },
  "language_info": {
   "codemirror_mode": {
    "name": "ipython",
    "version": 3
   },
   "file_extension": ".py",
   "mimetype": "text/x-python",
   "name": "python",
   "nbconvert_exporter": "python",
   "pygments_lexer": "ipython3",
   "version": "3.6.1"
  }
 },
 "nbformat": 4,
 "nbformat_minor": 2
}
