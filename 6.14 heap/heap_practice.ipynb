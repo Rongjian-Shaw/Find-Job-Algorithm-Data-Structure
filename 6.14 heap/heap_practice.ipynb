{
 "cells": [
  {
   "cell_type": "markdown",
   "metadata": {},
   "source": [
    "## 完全二叉树 Complete Binary Tree\n",
    "必定是从上到下，从左到右排列完整的二叉树。也就是说对于任何一个node，要想有right child必定先有left child。\n",
    "#### Tips:只有当N是2的指数时，层数才会增加"
   ]
  },
  {
   "cell_type": "markdown",
   "metadata": {},
   "source": [
    "## Heap的特性\n",
    "1. root一定是最小值（最小堆）或最大值（最大堆）\n",
    "2. 父节点的键值不小于子节点的键值\n",
    "3. Heap用动态数组实现\n",
    "4. 存入heap的元素必定是可排序的。若想存入class，需要重写__ls__和__eq__方法。\n",
    "5. 已知子节点为i，父节点则为(i-1)//2\n",
    "6. 已知父节点为i，左子为2i+1\n",
    "\n",
    "## 以下用最小堆举例\n",
    "### Insert: 插入到heap的尾端，即在数组上append一个元素。然后对这个元素进行upheap操作。\n",
    "            - 由于树的高度为Logn，所以insert的时间复杂度为logn\n",
    "            - upheap: 当发现父节点比子节点大的时候，做swap。重复这个过程，知道堆的顺序恢复正常\n",
    "### Delete：只能删除root。先将root和tail进行交换，然后对pop tail，最后对root进行downheap操作：\n",
    "            - 同理，delete的时间复杂度为logn\n",
    "            - downheap：判断node和left,right(如果有的话)，的大小，然后把最小的放在node的位置。重复这个过程直到Heap的顺序恢复。\n",
    "\n",
    "### 建堆的时间复杂度：O(n)，\n",
    "https://blog.csdn.net/qq_34228570/article/details/80024306"
   ]
  },
  {
   "cell_type": "markdown",
   "metadata": {},
   "source": [
    "# Solution:\n",
    "找前k个最大元素需要建立一个k大的最小堆，往堆里添加元素，当堆里的元素超过k个的时候进行pop使得堆的大小保持为k。遍历结束的时候，堆里将会剩下k个最大的元素，因为其他小的都已经被pop出去了。"
   ]
  },
  {
   "cell_type": "code",
   "execution_count": 2,
   "metadata": {},
   "outputs": [
    {
     "data": {
      "text/plain": [
       "10"
      ]
     },
     "execution_count": 2,
     "metadata": {},
     "output_type": "execute_result"
    }
   ],
   "source": [
    "import heapq\n",
    "\n",
    "def findKthLargest(nums, k):\n",
    "    heap = []\n",
    "    for num in nums:\n",
    "        heapq.heappush(heap, num)\n",
    "        if len(heap) > k:\n",
    "            heapq.heappop(heap)\n",
    "    \n",
    "    return heapq.heappop(heap)\n",
    "\n",
    "nums = [5,11,3,6,12,9,8,10,14,1,4,2,7,15]\n",
    "k = 5\n",
    "findKthLargest(nums, k)"
   ]
  },
  {
   "cell_type": "markdown",
   "metadata": {},
   "source": [
    "### Ex.2 Top K Frequent Words\n",
    "\n",
    "Given a non-empty list of words, return the k most frequent elements.\n",
    "\n",
    "Your answer should be sorted by frequency from highest to lowest. If two words have the same frequency, then the word with the lower alphabetical order comes first."
   ]
  },
  {
   "cell_type": "markdown",
   "metadata": {},
   "source": [
    "# Solution:\n",
    "解法同上，但是需要注意的点是，dict无法排序，因此需要提取出count放进堆里进行排序"
   ]
  },
  {
   "cell_type": "code",
   "execution_count": 36,
   "metadata": {},
   "outputs": [
    {
     "data": {
      "text/plain": [
       "['love', 'i']"
      ]
     },
     "execution_count": 36,
     "metadata": {},
     "output_type": "execute_result"
    }
   ],
   "source": [
    "import collections\n",
    "\n",
    "def topKFrequent(words, k):\n",
    "    heap = []\n",
    "    counts = collections.Counter(words)\n",
    "#     print(counts)\n",
    "    for word, count in counts.items():\n",
    "        heapq.heappush(heap, [count, word])\n",
    "        if len(heap) > k:\n",
    "            heapq.heappop(heap)\n",
    "        \n",
    "    res = []\n",
    "    for _ in range(k):\n",
    "        pair = heapq.heappop(heap)\n",
    "        res.append(pair[1])\n",
    "    return res\n",
    "\n",
    "words = [\"i\", \"love\", \"you\", \"i\", \"love\", \"coding\",\"i\",\"like\",\"sports\"]\n",
    "k = 2\n",
    "topKFrequent(words, k)"
   ]
  },
  {
   "cell_type": "markdown",
   "metadata": {},
   "source": [
    "### Ex.4 Ugly Number II\n",
    "\n",
    "Write a program to find the n-th ugly number.\n",
    "\n",
    "Ugly numbers are positive numbers whose prime factors only include 2, 3, 5. For example, 1, 2, 3, 4, 5, 6, 8, 9, 10, 12 is the sequence of the first 10 ugly numbers.\n",
    "\n",
    "Note that 1 is typically treated as an ugly number."
   ]
  },
  {
   "cell_type": "markdown",
   "metadata": {},
   "source": [
    "# Solution\n",
    "由于Ugly number必定是以2，3，5为因子，因此可以使用2，3，5去互相乘，对积也是不断的*2，3，5。这里采用的方法是，每pop出一个ugly(从小到大)就让它*一次2，3，5，可以看出乘出来的积必定比其原来大，因此不用担心heap会把积放到当前ugly的前面。但是乘出来的数可能有重复，比如2*3和3*2.因此需要排除重复的数。"
   ]
  },
  {
   "cell_type": "code",
   "execution_count": 8,
   "metadata": {},
   "outputs": [
    {
     "data": {
      "text/plain": [
       "12"
      ]
     },
     "execution_count": 8,
     "metadata": {},
     "output_type": "execute_result"
    }
   ],
   "source": [
    "def nthUglyNumber(n):\n",
    "    q2, q3, q5 = [2], [3], [5]\n",
    "    ugly = 1\n",
    "    for u in heapq.merge(q2, q3, q5):\n",
    "        if n == 1:\n",
    "            return ugly\n",
    "        if u > ugly: # 用于防止把重复的数计入ugly\n",
    "            ugly = u\n",
    "            n -= 1\n",
    "            q2 += [2 * u]\n",
    "            q3 += [3 * u]\n",
    "            q5 += [5 * u]\n",
    "\n",
    "nthUglyNumber(10)"
   ]
  },
  {
   "cell_type": "markdown",
   "metadata": {},
   "source": [
    "### Ex.5 Find K Pairs with Smallest Sums\n",
    "\n",
    "You are given two integer arrays nums1 and nums2 sorted in ascending order and an integer k.\n",
    "\n",
    "Define a pair (u,v) which consists of one element from the first array and one element from the second array.\n",
    "\n",
    "Find the k pairs (u1,v1),(u2,v2) ...(uk,vk) with the smallest sums.\n",
    "\n",
    "<img src=\"../images/ch15/heap4.png\" width=\"460\"/>"
   ]
  },
  {
   "cell_type": "markdown",
   "metadata": {},
   "source": [
    "# Solution:\n",
    "最简单的就是用brute force，把所有可能的pair算出来，然后算出sum最小的几个。\n",
    "\n",
    "快速的方法：\n",
    "\n",
    "使用堆和BFS，以nums1和nums2分别为二维矩阵的特征。可以发现当(nums1[i], nums[j])作为最小对被提取出来的时候，candidates只能从矩阵中往右和下走中提取，当然candidates也包括前面的。比如（1，0）是当前最小的pair，那么(2,0)和(1,1)就会成为candidates，因为其他的点都不可能比这两个小。\n",
    "<img src=\"../images/heap+bfs.png\" width=\"460\"/>"
   ]
  },
  {
   "cell_type": "code",
   "execution_count": 16,
   "metadata": {},
   "outputs": [
    {
     "data": {
      "text/plain": [
       "[[1, 2], [1, 4], [1, 6], [7, 2], [7, 4]]"
      ]
     },
     "execution_count": 16,
     "metadata": {},
     "output_type": "execute_result"
    }
   ],
   "source": [
    "def kSmallestPairs(nums1, nums2, k):\n",
    "    candidates = []\n",
    "    if nums1 and nums2:\n",
    "        heapq.heappush(candidates, [nums1[0] + nums2[0], 0, 0])\n",
    "    visited = [(0, 0)]\n",
    "    res = []\n",
    "    while candidates and len(res) < k:\n",
    "        _, i, j = heapq.heappop(candidates)\n",
    "        res.append([nums1[i], nums2[j]])\n",
    "        if (i+1, j) not in visited and len(nums1) > i+1:\n",
    "            heapq.heappush(candidates, [nums1[i+1]+nums2[j], i+1, j])\n",
    "            visited.append((i+1, j))\n",
    "        if (i, j+1) not in visited and len(nums2) > j+1:\n",
    "            heapq.heappush(candidates, [nums1[i]+nums2[j+1], i, j+1])\n",
    "            visited.append((i, j+1))\n",
    "    return res\n",
    "\n",
    "\n",
    "nums1 = [1,7,11]\n",
    "nums2 = [2,4,6]\n",
    "k = 5\n",
    "kSmallestPairs(nums1, nums2, k)"
   ]
  },
  {
   "cell_type": "markdown",
   "metadata": {},
   "source": [
    "# Heap Practice II #"
   ]
  },
  {
   "cell_type": "markdown",
   "metadata": {},
   "source": [
    "### Ex.1 Merge K Sorted List   \n",
    "\n",
    "Merge k sorted linked lists and return it as one sorted list. Analyze and describe its complexity."
   ]
  },
  {
   "cell_type": "markdown",
   "metadata": {},
   "source": [
    "# Solution:\n",
    "初始参数一开始会存k个sorted list的head, \n",
    "1. 可以先将k个list的（head.value， head）存进最小堆里。每个Node为（value, LLNode）\n",
    "2. 维持一个指针cur, 然后pop出最小的node.value，cur.next = node\n",
    "3. cur = cur.next走到刚刚那个node上\n",
    "4. 用cur.next判断一下当前所在的这个LL是否走完，没走完就把cur.next放到heap中\n",
    "5. 重复2-4, 直到heap为空\n",
    "\n",
    "### Tips:\n",
    "这里Heap中存（value, LLNode）是因为cur会改变链表的结构，需要先将当前node的下一个node存起来"
   ]
  },
  {
   "cell_type": "code",
   "execution_count": 40,
   "metadata": {},
   "outputs": [
    {
     "name": "stdout",
     "output_type": "stream",
     "text": [
      "4\n",
      "3\n"
     ]
    },
    {
     "ename": "TypeError",
     "evalue": "'<' not supported between instances of 'Node' and 'Node'",
     "output_type": "error",
     "traceback": [
      "\u001b[1;31m---------------------------------------------------------------------------\u001b[0m",
      "\u001b[1;31mTypeError\u001b[0m                                 Traceback (most recent call last)",
      "\u001b[1;32m<ipython-input-40-5ca1bf70a621>\u001b[0m in \u001b[0;36m<module>\u001b[1;34m\u001b[0m\n\u001b[0;32m     39\u001b[0m \u001b[1;33m\u001b[0m\u001b[0m\n\u001b[0;32m     40\u001b[0m \u001b[0mlists\u001b[0m \u001b[1;33m=\u001b[0m \u001b[1;33m[\u001b[0m\u001b[0mlst1\u001b[0m\u001b[1;33m.\u001b[0m\u001b[0mhead\u001b[0m\u001b[1;33m.\u001b[0m\u001b[0mnext\u001b[0m\u001b[1;33m,\u001b[0m \u001b[0mlst2\u001b[0m\u001b[1;33m.\u001b[0m\u001b[0mhead\u001b[0m\u001b[1;33m.\u001b[0m\u001b[0mnext\u001b[0m\u001b[1;33m,\u001b[0m \u001b[0mlst3\u001b[0m\u001b[1;33m.\u001b[0m\u001b[0mhead\u001b[0m\u001b[1;33m.\u001b[0m\u001b[0mnext\u001b[0m\u001b[1;33m]\u001b[0m\u001b[1;33m\u001b[0m\u001b[0m\n\u001b[1;32m---> 41\u001b[1;33m \u001b[0mnode\u001b[0m \u001b[1;33m=\u001b[0m \u001b[0mmergeKLists\u001b[0m\u001b[1;33m(\u001b[0m\u001b[0mlists\u001b[0m\u001b[1;33m)\u001b[0m\u001b[1;33m\u001b[0m\u001b[0m\n\u001b[0m\u001b[0;32m     42\u001b[0m \u001b[0mresult\u001b[0m \u001b[1;33m=\u001b[0m \u001b[0mLinkedList\u001b[0m\u001b[1;33m(\u001b[0m\u001b[1;33m)\u001b[0m\u001b[1;33m\u001b[0m\u001b[0m\n\u001b[0;32m     43\u001b[0m \u001b[1;33m\u001b[0m\u001b[0m\n",
      "\u001b[1;32m<ipython-input-40-5ca1bf70a621>\u001b[0m in \u001b[0;36mmergeKLists\u001b[1;34m(lists)\u001b[0m\n\u001b[0;32m     20\u001b[0m             \u001b[0mtmp\u001b[0m \u001b[1;33m=\u001b[0m \u001b[1;33m[\u001b[0m\u001b[0mcur\u001b[0m\u001b[1;33m.\u001b[0m\u001b[0mnext\u001b[0m\u001b[1;33m.\u001b[0m\u001b[0mvalue\u001b[0m\u001b[1;33m,\u001b[0m \u001b[0mcur\u001b[0m\u001b[1;33m.\u001b[0m\u001b[0mnext\u001b[0m\u001b[1;33m]\u001b[0m\u001b[1;33m\u001b[0m\u001b[0m\n\u001b[0;32m     21\u001b[0m             \u001b[0mprint\u001b[0m\u001b[1;33m(\u001b[0m\u001b[0mtmp\u001b[0m\u001b[1;33m[\u001b[0m\u001b[1;36m0\u001b[0m\u001b[1;33m]\u001b[0m\u001b[1;33m)\u001b[0m\u001b[1;33m\u001b[0m\u001b[0m\n\u001b[1;32m---> 22\u001b[1;33m             \u001b[0mheapq\u001b[0m\u001b[1;33m.\u001b[0m\u001b[0mheappush\u001b[0m\u001b[1;33m(\u001b[0m\u001b[0mheap\u001b[0m\u001b[1;33m,\u001b[0m \u001b[0mtmp\u001b[0m\u001b[1;33m)\u001b[0m\u001b[1;33m\u001b[0m\u001b[0m\n\u001b[0m\u001b[0;32m     23\u001b[0m \u001b[1;33m\u001b[0m\u001b[0m\n\u001b[0;32m     24\u001b[0m     \u001b[1;32mreturn\u001b[0m \u001b[0mdummy\u001b[0m\u001b[1;33m\u001b[0m\u001b[0m\n",
      "\u001b[1;31mTypeError\u001b[0m: '<' not supported between instances of 'Node' and 'Node'"
     ]
    }
   ],
   "source": [
    "from LinkedList import LinkedList\n",
    "from LinkedList import Node\n",
    "\n",
    "def mergeKLists(lists):\n",
    "    heap = []\n",
    "    for node in lists:\n",
    "        if node is not None:\n",
    "#             print([node.value, node])\n",
    "            tmp = [node.value, node]\n",
    "            heapq.heappush(heap, tmp)\n",
    "    dummy = Node()\n",
    "    cur = dummy\n",
    "    while heap:\n",
    "        node = heapq.heappop(heap)[1]\n",
    "        cur.next = node\n",
    "        cur = cur.next\n",
    "        \n",
    "        if cur.next:\n",
    "#             print(cur.next.value)\n",
    "            tmp = [cur.next.value, cur.next]\n",
    "            print(tmp[0])\n",
    "            heapq.heappush(heap, tmp)\n",
    "    \n",
    "    return dummy\n",
    "\n",
    "lst1 = LinkedList()\n",
    "lst1.add_last(1)\n",
    "lst1.add_last(4)\n",
    "lst1.add_last(5)\n",
    "\n",
    "lst2 = LinkedList()\n",
    "lst2.add_last(2)\n",
    "lst2.add_last(3)\n",
    "lst2.add_last(6)\n",
    "\n",
    "lst3 = LinkedList()\n",
    "lst3.add_last(3)\n",
    "lst3.add_last(7)\n",
    "\n",
    "lists = [lst1.head.next, lst2.head.next, lst3.head.next]\n",
    "node = mergeKLists(lists)\n",
    "result = LinkedList()\n",
    "\n",
    "result.head.next = node\n",
    "result.printlist()"
   ]
  },
  {
   "cell_type": "markdown",
   "metadata": {},
   "source": [
    "### Ex.2 Find Median from Data Stream \n",
    "\n",
    "Median is the middle value in an ordered integer list. If the size of the list is even, there is no middle value. So the median is the mean of the two middle value.\n",
    "\n",
    "Examples: \n",
    "\n",
    "[2,3,4] , the median is 3\n",
    "\n",
    "[2,3], the median is (2 + 3) / 2 = 2.5\n",
    "\n",
    "Design a data structure that supports the following two operations:\n",
    "\n",
    "void addNum(int num) - Add a integer number from the data stream to the data structure.\n",
    "\n",
    "double findMedian() - Return the median of all elements so far."
   ]
  },
  {
   "cell_type": "markdown",
   "metadata": {},
   "source": [
    "# Solution:\n",
    "可以使用两个heap,一个是min，另一个是max。让max的大小始终与min相等或相差1（要么max始终等于或比Min大一，要么反过来）。且min中的所有值都比Max的大。这样就可以把stream分成两部分，小的一半在max，大的一部分在min。那么，当stream的大小是偶数的时候，只需要(pop(max)+pop(min))/2就是中间数了。当steam是奇数的时候，中间数为pop(max)（如果选择maxmax始终等于或比Min大一）或者中间数为pop(min)（反之）"
   ]
  },
  {
   "cell_type": "code",
   "execution_count": 44,
   "metadata": {},
   "outputs": [
    {
     "data": {
      "text/plain": [
       "2.5"
      ]
     },
     "execution_count": 44,
     "metadata": {},
     "output_type": "execute_result"
    }
   ],
   "source": [
    "def findMedian(nums):\n",
    "    maxHeap = []\n",
    "    minHeap = []\n",
    "    for num in nums: # 只要保证每一次push数的时候，两个Heap都流动一次，就可以确保一半大一半小\n",
    "        tmp = -heapq.heappushpop(minHeap, num)\n",
    "        heapq.heappush(maxHeap, tmp)\n",
    "        if len(maxHeap) > len(minHeap): # 确保min的大小始终等于或比max大一\n",
    "            heapq.heappush(minHeap, -heapq.heappop(maxHeap))\n",
    "    if len(maxHeap) < len(minHeap):\n",
    "        return heapq.heappop(minHeap)\n",
    "    else:\n",
    "        return (-heapq.heappop(maxHeap) + heapq.heappop(minHeap)) / 2.0\n",
    "\n",
    "\n",
    "nums = [2,2,3,3]\n",
    "findMedian(nums)\n",
    "# 纠错一次，有一个heapq.heappop写成 heappop  "
   ]
  },
  {
   "cell_type": "markdown",
   "metadata": {},
   "source": [
    "### Ex.3 Manage Your Project (IPO)\n",
    "\n",
    "You are given several projects. For each project i, it has a pure profit Pi and a minimum capital of Ci is needed to start the corresponding project. Initially, you have W capital. When you finish a project, you will obtain its pure profit and the profit will be added to your total capital.\n",
    "\n",
    "To sum up, pick a list of at most k distinct projects from given projects to maximize your final capital, and output your final maximized capital.\n",
    "\n",
    "Input: k=2, W=0, Profits=[1,2,3], Capital=[0,1,1]. \n",
    "\n",
    "Output: 4 \n",
    "\n",
    "Explanation: Since your initial capital is 0, you can only start the project indexed 0. After finishing it you will obtain profit 1 and your capital becomes 1. With capital 1, you can either start the project indexed 1 or the project indexed 2. Since you can choose at most 2 projects, you need to finish the project indexed 2 to get the maximum capital. Therefore, output the final maximized capital, which is 0 + 1 + 3 = 4. "
   ]
  },
  {
   "cell_type": "markdown",
   "metadata": {},
   "source": [
    "# Solution:\n",
    "1. 全部以zip(capital, profits)的形式存入list future\n",
    "2. 设定k次循环\n",
    "3. 从future里面找出哪些project是符合W，并将对应的profits存入maxheap current中，因为如果现在可以存进heap中的，之后投资也肯定可以存进去（W只会越来越高）\n",
    "4. 更新W\n",
    "5. 返回W"
   ]
  },
  {
   "cell_type": "code",
   "execution_count": 48,
   "metadata": {},
   "outputs": [
    {
     "data": {
      "text/plain": [
       "4"
      ]
     },
     "execution_count": 48,
     "metadata": {},
     "output_type": "execute_result"
    }
   ],
   "source": [
    "def findMaximizedCapital(k, W, Profits, Capital):\n",
    "    future = sorted(zip(Capital, Profits))[::-1] # 倒序，方便pop\n",
    "    current = []\n",
    "    for i in range(k):\n",
    "        while future and future[-1][0] <= W:\n",
    "            heapq.heappush(current, -future.pop()[1]) #只取出profits即可，无需担心之后w会降低导致本profits无用，因为没老板会投亏欠项目\n",
    "                                            # 且因为需要用的是max heap，所以需要补上负号\n",
    "        W -= heapq.heappop(current)\n",
    "    return W\n",
    "\n",
    "k=2\n",
    "W=0\n",
    "Profits=[1,2,3]\n",
    "Capital=[0,1,1]\n",
    "\n",
    "findMaximizedCapital(k, W, Profits, Capital)\n",
    "# 首次出错：W -= heapq.heappop(current)写在了while里面"
   ]
  },
  {
   "cell_type": "code",
   "execution_count": null,
   "metadata": {
    "collapsed": true
   },
   "outputs": [],
   "source": []
  }
 ],
 "metadata": {
  "kernelspec": {
   "display_name": "Python 3",
   "language": "python",
   "name": "python3"
  },
  "language_info": {
   "codemirror_mode": {
    "name": "ipython",
    "version": 3
   },
   "file_extension": ".py",
   "mimetype": "text/x-python",
   "name": "python",
   "nbconvert_exporter": "python",
   "pygments_lexer": "ipython3",
   "version": "3.6.1"
  }
 },
 "nbformat": 4,
 "nbformat_minor": 2
}
