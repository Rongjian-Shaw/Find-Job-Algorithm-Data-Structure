{
 "cells": [
  {
   "cell_type": "markdown",
   "metadata": {},
   "source": [
    "# Merge_csv"
   ]
  },
  {
   "cell_type": "code",
   "execution_count": null,
   "metadata": {
    "collapsed": true
   },
   "outputs": [],
   "source": [
    "# generating path\n",
    "data_name = ['Forklift', 'Forklift_full']\n",
    "train_input_path = []\n",
    "test_input_path = '/mnt/hdd-storage/inventory_flow/datasets/bookalo/training_data/non_blurred_combined/test_'\n",
    "train_output_path = '/mnt/hdd-storage/inventory_flow/datasets/bookalo/training_data/non_blurred_combined/train/'\n",
    "test_output_path = '/mnt/hdd-storage/inventory_flow/datasets/bookalo/training_data/non_blurred_combined/test/'\n",
    "\n",
    "for i in range(len(data_name)):\n",
    "    train_input_path.append(data_name + )"
   ]
  },
  {
   "cell_type": "code",
   "execution_count": 1,
   "metadata": {},
   "outputs": [
    {
     "data": {
      "text/plain": [
       "'ab'"
      ]
     },
     "execution_count": 1,
     "metadata": {},
     "output_type": "execute_result"
    }
   ],
   "source": [
    "'a' + 'b'"
   ]
  },
  {
   "cell_type": "code",
   "execution_count": null,
   "metadata": {
    "collapsed": true
   },
   "outputs": [],
   "source": []
  }
 ],
 "metadata": {
  "kernelspec": {
   "display_name": "Python 3",
   "language": "python",
   "name": "python3"
  },
  "language_info": {
   "codemirror_mode": {
    "name": "ipython",
    "version": 3
   },
   "file_extension": ".py",
   "mimetype": "text/x-python",
   "name": "python",
   "nbconvert_exporter": "python",
   "pygments_lexer": "ipython3",
   "version": "3.6.1"
  }
 },
 "nbformat": 4,
 "nbformat_minor": 2
}
