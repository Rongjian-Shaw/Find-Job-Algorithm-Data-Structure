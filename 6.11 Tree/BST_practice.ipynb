{
 "cells": [
  {
   "cell_type": "markdown",
   "metadata": {},
   "source": [
    "# Binary Search Tree #"
   ]
  },
  {
   "cell_type": "code",
   "execution_count": 83,
   "metadata": {},
   "outputs": [
    {
     "name": "stdout",
     "output_type": "stream",
     "text": [
      "\n",
      "[ 1 ] [ 2 ] [ 3 ] [ 4 ] [ 5 ] [ 6 ] [ 7 ] [ 8 ] [ 9 ] [ 10 ] [ 11 ] [ 12 ] [ 13 ] \n",
      "[ 1 ] [ 3 ] [ 2 ] [ 5 ] [ 4 ] [ 7 ] [ 10 ] [ 12 ] [ 11 ] [ 13 ] [ 9 ] [ 8 ] [ 6 ] \n",
      "[ 6 ] [ 4 ] [ 2 ] [ 1 ] [ 3 ] [ 5 ] [ 8 ] [ 7 ] [ 9 ] [ 13 ] [ 11 ] [ 10 ] [ 12 ] \n",
      "7\n",
      "\n",
      "[ 1 ] [ 2 ] [ 3 ] [ 4 ] [ 5 ] [ 6 ] [ 7 ] [ 8 ] [ 9 ] [ 10 ] [ 12 ] [ 13 ] "
     ]
    }
   ],
   "source": [
    "class Node:\n",
    "    __slots__ = '_item', '_left', '_right'\n",
    "    def __init__(self, item, left = None, right = None):\n",
    "        self._item = item\n",
    "        self._left = left\n",
    "        self._right = right\n",
    "    \n",
    "class BinarySearchTree:\n",
    "    def __init__(self, root = None):\n",
    "        self._root = root\n",
    "    \n",
    "    def get(self, value):\n",
    "        return self.__get(self._root, value)\n",
    "    \n",
    "    def __get(self, node, value):\n",
    "        if node is None:\n",
    "            return None\n",
    "        if node._item == value:\n",
    "            return node\n",
    "        elif node._item > value: # find in left\n",
    "            return self.__get(node._left, value)\n",
    "        else: # find in right\n",
    "            return self.__get(node._right, value)\n",
    "    \n",
    "    def add(self, value):\n",
    "        self._root = self.__add(self._root, value)\n",
    "    \n",
    "    def __add(self, node, value):\n",
    "        if node is None:\n",
    "            return Node(value)\n",
    "        if node._item == value:\n",
    "            pass\n",
    "        elif node._item > value: # add in left \n",
    "            node._left = self.__add(node._left, value)\n",
    "        else:\n",
    "            node._right = self.__add(node._right, value)\n",
    "        return node\n",
    "    \n",
    "    def remove(self, value):\n",
    "        return self.__remove(self._root, value)\n",
    "    \n",
    "    def __remove(self, node, value):\n",
    "        if node is None:\n",
    "            return None\n",
    "        if node._item > value:\n",
    "            node._left = self.__remove(node._left, value)\n",
    "        elif node._item < value:\n",
    "            node._right = self.__remove(node._right, value)\n",
    "        else: # node._item == value\n",
    "            if node._left is None: # current node's left side is None or both sides are None\n",
    "                node = node._right\n",
    "            elif node._right is None: # current node's right side is None or both sides are None\n",
    "                node = node._left\n",
    "            else: # current node has two sons\n",
    "                node._item = self.get_max(node._left) \n",
    "                node._left = self.__remove(node._left, node._item)\n",
    "        return node\n",
    "    \n",
    "    def get_max(self, node):\n",
    "        return self.__get_max(node)\n",
    "    \n",
    "    def __get_max(self, node):\n",
    "        if node is None:\n",
    "            return None\n",
    "        while node._right is not None:\n",
    "            node = node._right\n",
    "        return node._item\n",
    "    \n",
    "    # Traversal methods\n",
    "    def print_preorder(self):\n",
    "        print()\n",
    "        return self.__print_preorder(self._root)\n",
    "    \n",
    "    def __print_preorder(self, node):\n",
    "        if node is None:\n",
    "            return\n",
    "        print('[', node._item, ']', end = ' ')\n",
    "        self.__print_preorder(node._left)\n",
    "        self.__print_preorder(node._right)\n",
    "    \n",
    "    def print_inorder(self):\n",
    "        print()\n",
    "        return self.__print_inorder(self._root)\n",
    "    \n",
    "    def __print_inorder(self, node):\n",
    "        if node is None:\n",
    "            return\n",
    "        self.__print_inorder(node._left)\n",
    "        print('[', node._item, ']', end = ' ')\n",
    "        self.__print_inorder(node._right)\n",
    "        \n",
    "    def print_postorder(self):\n",
    "        print()\n",
    "        return self.__print_postorder(self._root)\n",
    "    \n",
    "    def __print_postorder(self, node):\n",
    "        if node is None:\n",
    "            return\n",
    "        self.__print_postorder(node._left)\n",
    "        self.__print_postorder(node._right)\n",
    "        print('[', node._item, ']', end = ' ')\n",
    "        \n",
    "    def size(self):\n",
    "        return self.__size(self._root)\n",
    "    \n",
    "    def __size(self, node):\n",
    "        if node is None:\n",
    "            return 0\n",
    "        return 1 + self.__size(node._left) + self.__size(node._right)\n",
    "    \n",
    "    def maxDepth(self):\n",
    "        return self.__maxDepth(self._root)\n",
    "    \n",
    "    def __maxDepth(self, node):\n",
    "        if node is None:\n",
    "            return 0\n",
    "        return max(self.__maxDepth(node._left), self.__maxDepth(node._right)) + 1\n",
    "    \n",
    "    def minDepth(self):\n",
    "        return self.__minDepth(self._root)\n",
    "    \n",
    "    def __minDepth(self, node):\n",
    "        if node is None:\n",
    "            return 0\n",
    "        return min(self.__minDepth(node._left), self.__minDepth(node._right)) + 1\n",
    "    \n",
    "    def isBalanced(self):\n",
    "        return self.maxDepth - self.minDepth <= 1\n",
    "        \n",
    "bst = BinarySearchTree()\n",
    "numbers = [6, 4, 8, 7, 9, 2, 1, 3, 5, 13, 11, 10, 12]\n",
    "for i in numbers:\n",
    "    bst.add(i)\n",
    "\n",
    "bst.print_inorder()\n",
    "bst.print_postorder()\n",
    "bst.print_preorder()\n",
    "print()\n",
    "node1 = bst.get(7)\n",
    "print(node1._item)\n",
    "node2 = bst.remove(11)\n",
    "bst.print_inorder()"
   ]
  },
  {
   "cell_type": "markdown",
   "metadata": {},
   "source": [
    "### Tips:\n",
    "1. 想在函数里调用该类的其他函数需要使用self.function()\n",
    "2. get()中不需要对左右子树进行改的操作，因此不需要对左右子树赋值\n",
    "3. add()和remove()中需要对左右子树进行操作，所以前面需要对node._left/right进行操作\n",
    "4. 递归中先要想一下退出条件\n",
    "5. 对树的操作中一定要写return，才能把操作中的结果提取出来\n",
    "6. 递归类似于栈，从root一直操作到叶子，再从叶子返回到root"
   ]
  },
  {
   "cell_type": "markdown",
   "metadata": {},
   "source": [
    "### <a id='Ex1'>Ex.1 Tree Size </a>\n",
    "\n",
    "Calculate the size of the tree."
   ]
  },
  {
   "cell_type": "code",
   "execution_count": 21,
   "metadata": {},
   "outputs": [
    {
     "data": {
      "text/plain": [
       "12"
      ]
     },
     "execution_count": 21,
     "metadata": {},
     "output_type": "execute_result"
    }
   ],
   "source": [
    "bst.size()"
   ]
  },
  {
   "cell_type": "markdown",
   "metadata": {},
   "source": [
    "### <a id='Ex1'>Ex.2 Max Depth </a>\n",
    "\n",
    "Calculate the max depth of a tree"
   ]
  },
  {
   "cell_type": "code",
   "execution_count": 25,
   "metadata": {},
   "outputs": [
    {
     "data": {
      "text/plain": [
       "6"
      ]
     },
     "execution_count": 25,
     "metadata": {},
     "output_type": "execute_result"
    }
   ],
   "source": [
    "bst.maxDepth()"
   ]
  },
  {
   "cell_type": "markdown",
   "metadata": {},
   "source": [
    "### <a id='Ex1'>Ex.3. Is Balance Tree</a>\n",
    "\n",
    "Given a tree, check whether the tree is a balance tree."
   ]
  },
  {
   "cell_type": "code",
   "execution_count": 32,
   "metadata": {},
   "outputs": [
    {
     "name": "stdout",
     "output_type": "stream",
     "text": [
      "False\n",
      "\n",
      "[ 1 ] [ 3 ] [ 5 ] True\n"
     ]
    }
   ],
   "source": [
    "def isBalanced(bst):\n",
    "    return bst.maxDepth() - bst.minDepth() <= 1\n",
    "\n",
    "print(isBalanced(bst))\n",
    "bst1 = BinarySearchTree()\n",
    "numbers = [3,1,5]\n",
    "for i in numbers:\n",
    "    bst1.add(i)\n",
    "bst1.print_inorder()\n",
    "print(isBalanced(bst1))"
   ]
  },
  {
   "cell_type": "markdown",
   "metadata": {},
   "source": [
    "### <a id='Ex4'>Ex.4 Floor and Ceiling</a>"
   ]
  },
  {
   "cell_type": "code",
   "execution_count": 35,
   "metadata": {},
   "outputs": [
    {
     "data": {
      "text/plain": [
       "10"
      ]
     },
     "execution_count": 35,
     "metadata": {},
     "output_type": "execute_result"
    }
   ],
   "source": [
    "# floor是指在树中比value小且最接近value的节点\n",
    "def floor(bst, value):\n",
    "    flr = __floor(bst._root, value)\n",
    "    return flr._item\n",
    "\n",
    "def __floor(node, value):\n",
    "    if node is None:\n",
    "        return None\n",
    "    if node._item == value:\n",
    "        return node\n",
    "    elif node._item > value:\n",
    "        return __floor(node._left, value)\n",
    "    else:\n",
    "        # node._item比value小，所以可能是floor，当发现当前node右子树下还有比value小的就找到那个值返回，没有就返回当前值\n",
    "        goon = __floor(node._right, value)\n",
    "        if goon is not None:\n",
    "            return goon\n",
    "        return node\n",
    "\n",
    "floor(bst, 11)"
   ]
  },
  {
   "cell_type": "markdown",
   "metadata": {},
   "source": [
    "### <a id='Ex5'>Ex.5 Is Binary Search Tree</a>\n",
    "\n",
    "Check whether a given tree a binary search tree."
   ]
  },
  {
   "cell_type": "code",
   "execution_count": 43,
   "metadata": {},
   "outputs": [
    {
     "name": "stdout",
     "output_type": "stream",
     "text": [
      "\n",
      "[ 2 ] [ 1 ] [ 3 ] [ 5 ] [ 4 ] "
     ]
    },
    {
     "data": {
      "text/plain": [
       "False"
      ]
     },
     "execution_count": 43,
     "metadata": {},
     "output_type": "execute_result"
    }
   ],
   "source": [
    "import sys\n",
    "def isBST(bst):\n",
    "    return __isBST(bst._root, -sys.maxsize, sys.maxsize)\n",
    "\n",
    "def __isBST(node, minValue, maxValue):\n",
    "    if node is None:\n",
    "        return True\n",
    "    if node._item < minValue or node._item > maxValue:\n",
    "        return False\n",
    "    return __isBST(node._left, minValue, node._item) and __isBST(node._right, node._item, maxValue)\n",
    "\n",
    "isBST(bst1)\n",
    "\n",
    "node1 = Node(1)\n",
    "node2 = Node(2)\n",
    "node3 = Node(3)\n",
    "node4 = Node(4)\n",
    "node5 = Node(5)\n",
    "\n",
    "node3._left = node1\n",
    "node3._right = node5\n",
    "node1._left = node2\n",
    "node5._right = node4\n",
    "bst2 = BinarySearchTree(node3)\n",
    "bst2.print_inorder()\n",
    "isBST(bst2)"
   ]
  },
  {
   "cell_type": "markdown",
   "metadata": {},
   "source": [
    "### <a id='Ex6'>Ex.6 Is Mirror Tree</a>"
   ]
  },
  {
   "cell_type": "code",
   "execution_count": 84,
   "metadata": {},
   "outputs": [
    {
     "name": "stdout",
     "output_type": "stream",
     "text": [
      "\n",
      "[ 1 ] [ 2 ] [ 3 ] [ 4 ] [ 5 ] [ 6 ] [ 7 ] [ 8 ] [ 9 ] [ 10 ] [ 12 ] [ 13 ] \n",
      "[ 13 ] [ 12 ] [ 10 ] [ 9 ] [ 8 ] [ 7 ] [ 6 ] [ 5 ] [ 4 ] [ 3 ] [ 2 ] [ 1 ] "
     ]
    }
   ],
   "source": [
    "def mirror(bst):\n",
    "    return __mirror(bst._root)\n",
    "\n",
    "def __mirror(node):\n",
    "    if node is None:\n",
    "        return None\n",
    "    else:\n",
    "        __mirror(node._left)\n",
    "        __mirror(node._right)\n",
    "        node._left, node._right = node._right, node._left\n",
    "\n",
    "numbers = [6, 4, 8, 7, 9, 5, 1, 3, 2]\n",
    "for i in numbers:\n",
    "    bst.add(i)\n",
    "bst.print_inorder()\n",
    "mirror(bst)\n",
    "bst.print_inorder()"
   ]
  },
  {
   "cell_type": "markdown",
   "metadata": {},
   "source": [
    "### <a id='Ex7'>Ex.7 Same Tree</a>"
   ]
  },
  {
   "cell_type": "code",
   "execution_count": 49,
   "metadata": {},
   "outputs": [
    {
     "data": {
      "text/plain": [
       "True"
      ]
     },
     "execution_count": 49,
     "metadata": {},
     "output_type": "execute_result"
    }
   ],
   "source": [
    "def sameTree(bst1, bst2):\n",
    "    return __sameTree(bst1._root, bst2._root)\n",
    "\n",
    "def __sameTree(node1, node2):\n",
    "    if node1 is None and node2 is None:\n",
    "        return True\n",
    "    elif node1 is not None and node2 is not None:\n",
    "        return node1._item == node2._item and __sameTree(node1._left, node2._left) and __sameTree(node1._right, node2._right)\n",
    "    else:\n",
    "        return False\n",
    "\n",
    "bst3 = BinarySearchTree()\n",
    "numbers = [6, 4, 8, 7, 9, 5, 1, 3, 2]\n",
    "for i in numbers:\n",
    "    bst3.add(i)\n",
    "another = BinarySearchTree()\n",
    "numbers = [6, 4, 8, 7, 9, 5, 1, 3, 2]   \n",
    "for i in numbers:\n",
    "    another.add(i)\n",
    "sameTree(bst3, another)"
   ]
  },
  {
   "cell_type": "markdown",
   "metadata": {},
   "source": [
    "### <a id='Ex8'>Ex.8 Is Tree Foldable</a>"
   ]
  },
  {
   "cell_type": "code",
   "execution_count": null,
   "metadata": {
    "collapsed": true
   },
   "outputs": [],
   "source": [
    "def isFoldable(bst):\n",
    "    if bst._root is None:\n",
    "        return True\n",
    "    return _isFoldable(bst._root._left, bst._root._right)\n",
    "\n",
    "def __isFoldable(nodeA, nodeB):\n",
    "    if nodeA is None and nodeB is None:\n",
    "        return True\n",
    "    elif nodeA is None or nodeB is None:\n",
    "        return False\n",
    "    return __isFoldable(nodeA._left, nodeB._right) and __isFoldable(nodeA._right, nodeB._left)"
   ]
  },
  {
   "cell_type": "markdown",
   "metadata": {},
   "source": [
    "# Binary Search Tree II #"
   ]
  },
  {
   "cell_type": "markdown",
   "metadata": {},
   "source": [
    "### <a id='Ex1'>Ex.1 Iterative Get </a>\n",
    "\n",
    "Implment BST Get method, iteratively."
   ]
  },
  {
   "cell_type": "code",
   "execution_count": 11,
   "metadata": {},
   "outputs": [
    {
     "name": "stdout",
     "output_type": "stream",
     "text": [
      "5\n",
      "None\n"
     ]
    }
   ],
   "source": [
    "def getIterative(bst, value):\n",
    "    if bst is None:\n",
    "        return None\n",
    "    cur = bst._root\n",
    "    while cur is not None:\n",
    "        if cur._item == value:\n",
    "            return cur._item\n",
    "        elif cur._item > value:\n",
    "            cur = cur._left\n",
    "        else:\n",
    "            cur = cur._right\n",
    "    return None\n",
    "\n",
    "print(getIterative(bst, 5))\n",
    "print(getIterative(bst, 99))"
   ]
  },
  {
   "cell_type": "markdown",
   "metadata": {
    "collapsed": true
   },
   "source": [
    "### <a id='Ex2'>Ex.2 Iterative Add </a>\n",
    "\n",
    "Implment BST Add method, iteratively."
   ]
  },
  {
   "cell_type": "code",
   "execution_count": 13,
   "metadata": {},
   "outputs": [
    {
     "name": "stdout",
     "output_type": "stream",
     "text": [
      "\n",
      "[ 1 ] [ 2 ] [ 3 ] [ 4 ] [ 5 ] [ 6 ] [ 7 ] [ 8 ] [ 9 ] [ 10 ] [ 12 ] [ 13 ] \n",
      "[ 1 ] [ 2 ] [ 3 ] [ 4 ] [ 5 ] [ 6 ] [ 7 ] [ 8 ] [ 9 ] [ 10 ] [ 12 ] [ 13 ] [ 14 ] "
     ]
    }
   ],
   "source": [
    "def addIterative(bst, value):\n",
    "    newNode = Node(value)\n",
    "    parent = None\n",
    "    cur = bst._root\n",
    "    if cur is None:\n",
    "        cur = Node\n",
    "    else:\n",
    "        while cur is not None:\n",
    "            parent = cur\n",
    "            if cur._item == value:\n",
    "                break\n",
    "            elif cur._item > value:\n",
    "                cur = cur._left\n",
    "                if cur is None:\n",
    "                    parent._left = newNode\n",
    "                    break\n",
    "            else:\n",
    "                cur = cur._right\n",
    "                if cur is None:\n",
    "                    parent._right = newNode\n",
    "                    break\n",
    "    return bst\n",
    "\n",
    "bst.print_inorder()\n",
    "addIterative(bst, 14)\n",
    "bst.print_inorder()"
   ]
  },
  {
   "cell_type": "markdown",
   "metadata": {},
   "source": [
    "### <a id='Ex3'>Ex.3 Iterative Inorder Traversal </a>\n",
    "\n",
    "Implment BST Inorder traversal method, iteratively."
   ]
  },
  {
   "cell_type": "code",
   "execution_count": 22,
   "metadata": {},
   "outputs": [
    {
     "name": "stdout",
     "output_type": "stream",
     "text": [
      "\n",
      "[ 1 ] [ 2 ] [ 3 ] [ 4 ] [ 5 ] [ 6 ] [ 7 ] [ 8 ] [ 9 ] [ 10 ] [ 12 ] [ 13 ] [ 14 ] \n",
      "[ 1 ] [ 2 ] [ 3 ] [ 4 ] [ 5 ] [ 6 ] [ 7 ] [ 8 ] [ 9 ] [ 10 ] [ 12 ] [ 13 ] [ 14 ] "
     ]
    }
   ],
   "source": [
    "def printInorderIterative(bst):\n",
    "    if bst is None:\n",
    "        return\n",
    "    node = bst._root\n",
    "    stack = []\n",
    "    while True:\n",
    "        while node is not None:\n",
    "            stack.append(node)\n",
    "            node = node._left\n",
    "        if len(stack) == 0: # 易错点：不要写成stack is None\n",
    "            return\n",
    "        else:\n",
    "            node = stack.pop()\n",
    "            print('[', node._item, ']', end = ' ') # None不会被Push进去，因为append的条件就是非None\n",
    "            node = node._right\n",
    "\n",
    "bst.print_inorder()\n",
    "print()\n",
    "printInorderIterative(bst)"
   ]
  },
  {
   "cell_type": "markdown",
   "metadata": {},
   "source": [
    "### <a id='Ex4'>Ex.4 Iterative Preorder Traversal </a>\n",
    "\n",
    "Implment BST Preorder traversal method, iteratively."
   ]
  },
  {
   "cell_type": "code",
   "execution_count": 24,
   "metadata": {},
   "outputs": [
    {
     "name": "stdout",
     "output_type": "stream",
     "text": [
      "\n",
      "[ 6 ] [ 4 ] [ 2 ] [ 1 ] [ 3 ] [ 5 ] [ 8 ] [ 7 ] [ 9 ] [ 13 ] [ 10 ] [ 12 ] [ 14 ] \n",
      "[ 6 ] [ 4 ] [ 2 ] [ 1 ] [ 3 ] [ 5 ] [ 8 ] [ 7 ] [ 9 ] [ 13 ] [ 10 ] [ 12 ] [ 14 ] "
     ]
    }
   ],
   "source": [
    "def printPreirderIterative(bst):\n",
    "    if bst is None:\n",
    "        return \n",
    "    stack = [bst._root]\n",
    "    \n",
    "    while len(stack) > 0:\n",
    "        node = stack.pop()\n",
    "        if node is not None:\n",
    "            print('[', node._item, ']', end = ' ')\n",
    "            stack.append(node._right)\n",
    "            stack.append(node._left)\n",
    "            \n",
    "bst.print_preorder()\n",
    "print()\n",
    "printPreirderIterative(bst)"
   ]
  },
  {
   "cell_type": "markdown",
   "metadata": {},
   "source": [
    "### <a id='Ex5'>Ex.5 Iterative Postorder Traversal </a>\n",
    "\n",
    "Implment BST Postorder traversal method, iteratively."
   ]
  },
  {
   "cell_type": "code",
   "execution_count": 36,
   "metadata": {},
   "outputs": [
    {
     "name": "stdout",
     "output_type": "stream",
     "text": [
      "\n",
      "[ 4 ] [ 7 ] [ 8 ] [ 6 ] \n",
      "[ 4 ] [ 7 ] [ 8 ] [ 6 ] "
     ]
    }
   ],
   "source": [
    "def printPostorderIterative(bst):\n",
    "    if bst is None:\n",
    "        return\n",
    "    stack = [[bst._root, False]]\n",
    "    while len(stack) > 0:\n",
    "        node, flag = stack.pop()\n",
    "        if node is not None:\n",
    "            if flag is True:\n",
    "                print('[', node._item, ']', end = ' ')\n",
    "            else: # 易错点，这里一定要补上else，因为当flag是True的时候证明，该点的子树已经进过stack了，不用再进一次\n",
    "                stack.append([node, True])\n",
    "                stack.append([node._right, False])\n",
    "                stack.append([node._left, False])\n",
    "\n",
    "bst4 = BinarySearchTree()\n",
    "numbers = [6, 4, 8, 7]\n",
    "for i in numbers:\n",
    "    bst4.add(i)\n",
    "bst4.print_postorder()\n",
    "print()\n",
    "printPostorderIterative(bst4)"
   ]
  },
  {
   "cell_type": "code",
   "execution_count": 28,
   "metadata": {},
   "outputs": [
    {
     "name": "stdout",
     "output_type": "stream",
     "text": [
      "a b\n"
     ]
    }
   ],
   "source": [
    "a = []\n",
    "a.append(['a', 'b'])\n",
    "b, c = a.pop()\n",
    "print(b, c)"
   ]
  },
  {
   "cell_type": "markdown",
   "metadata": {},
   "source": [
    "# Binary Search Tree III #"
   ]
  },
  {
   "cell_type": "markdown",
   "metadata": {},
   "source": [
    "### <a id='Ex1'>Ex.1 Level Order Traversal </a>\n",
    "\n",
    "Given a binary tree, return the level order traversal of its nodes' values. (ie, from left to right, level by level).\n",
    "\n",
    "<img src=\"../images/ch14/t1.png\" width=\"75\"/>\n",
    "<img src=\"../images/ch14/t2.png\" width=\"75\"/>"
   ]
  },
  {
   "cell_type": "code",
   "execution_count": 43,
   "metadata": {},
   "outputs": [
    {
     "data": {
      "text/plain": [
       "[[6], [4, 8], [2, 5, 7, 9], [1, 3, 13], [10], [12]]"
      ]
     },
     "execution_count": 43,
     "metadata": {},
     "output_type": "execute_result"
    }
   ],
   "source": [
    "def levelOrder(bst):\n",
    "    if bst is None:\n",
    "        return\n",
    "    level = [bst._root]\n",
    "    ret = []\n",
    "    while len(level) > 0:\n",
    "        nextLevel = []\n",
    "        currentNodes = []\n",
    "        for node in level:\n",
    "            currentNodes.append(node._item)\n",
    "            if node._left is not None:\n",
    "                nextLevel.append(node._left)\n",
    "            if node._right is not None:\n",
    "                nextLevel.append(node._right)\n",
    "                \n",
    "        ret.append(currentNodes)\n",
    "        level = nextLevel\n",
    "        \n",
    "    return ret\n",
    "        \n",
    "levelOrder(bst)"
   ]
  },
  {
   "cell_type": "markdown",
   "metadata": {
    "collapsed": true
   },
   "source": [
    "### <a id='Ex1'>Ex.2 Level Order Traversal II</a>\n",
    "\n",
    "Given a binary tree, return the bottom-up level order traversal of its nodes' values. (ie, from left to right, level by level from leaf to root).\n",
    "\n",
    "<img src=\"../images/ch14/t1.png\" width=\"75\"/>\n",
    "<img src=\"../images/ch14/t4.png\" width=\"75\"/>"
   ]
  },
  {
   "cell_type": "code",
   "execution_count": 6,
   "metadata": {},
   "outputs": [
    {
     "data": {
      "text/plain": [
       "[[12], [10], [1, 3, 13], [2, 5, 7, 9], [4, 8], [6]]"
      ]
     },
     "execution_count": 6,
     "metadata": {},
     "output_type": "execute_result"
    }
   ],
   "source": [
    "def levelOrder2(bst):\n",
    "    if bst is None:\n",
    "        return []\n",
    "    level = [bst._root]\n",
    "    ans = []\n",
    "    while len(level) > 0:\n",
    "        nextLevel = []\n",
    "        currentNode = []\n",
    "        for node in level:\n",
    "            currentNode.append(node._item)\n",
    "            if node._left is not None:\n",
    "                nextLevel.append(node._left)\n",
    "            if node._right is not None:\n",
    "                nextLevel.append(node._right)\n",
    "        \n",
    "        ans.append(currentNode)\n",
    "        level = nextLevel\n",
    "    ans = [node for node in ans[::-1]]\n",
    "    return ans\n",
    "\n",
    "levelOrder2(bst)"
   ]
  },
  {
   "cell_type": "markdown",
   "metadata": {},
   "source": [
    "### <a id='Ex1'>Ex.3 Binary Tree Zigzag Level Order Traversal</a>\n",
    "\n",
    "Given a binary tree, return the zigzag level order traversal of its nodes' values. (ie, from left to right, then right to left for the next level and alternate between).\n",
    "\n",
    "<img src=\"../images/ch14/t1.png\" width=\"75\"/>\n",
    "<img src=\"../images/ch14/t3.png\" width=\"75\"/>"
   ]
  },
  {
   "cell_type": "code",
   "execution_count": 7,
   "metadata": {},
   "outputs": [
    {
     "data": {
      "text/plain": [
       "[[6], [8, 4], [2, 5, 7, 9], [13, 3, 1], [10], [12]]"
      ]
     },
     "execution_count": 7,
     "metadata": {},
     "output_type": "execute_result"
    }
   ],
   "source": [
    "def zigzagLevelOrder(bst):\n",
    "    if bst is None:\n",
    "        return []\n",
    "    level = [bst._root]\n",
    "    ans = []\n",
    "    flag = 1\n",
    "    while len(level) > 0:\n",
    "        nextLevel = []\n",
    "        currentNode = []\n",
    "        for node in level:\n",
    "            currentNode.append(node._item)\n",
    "            if node._left is not None:\n",
    "                nextLevel.append(node._left)\n",
    "            if node._right is not None:\n",
    "                nextLevel.append(node._right)\n",
    "                \n",
    "        ans.append(currentNode[::flag])\n",
    "        flag *= -1\n",
    "        level = nextLevel\n",
    "    \n",
    "    return ans\n",
    "\n",
    "zigzagLevelOrder(bst)"
   ]
  },
  {
   "cell_type": "markdown",
   "metadata": {},
   "source": [
    "### <a id='Ex4'>Ex.4 Construct Binary Tree from Preorder and Inorder Traversal</a>\n",
    "\n",
    "Given preorder and inorder traversal of a tree, construct the binary tree.\n",
    "\n",
    "Note:\n",
    "\n",
    "You may assume that duplicates do not exist in the tree.\n",
    "\n",
    "For example, given\n",
    "\n",
    "preorder = [3,9,20,15,7]\n",
    "\n",
    "inorder = [9,3,15,20,7]\n",
    "\n",
    "Return the following binary tree:\n",
    "\n",
    "<img src=\"../images/ch14/t1.png\" width=\"75\"/>"
   ]
  },
  {
   "cell_type": "markdown",
   "metadata": {},
   "source": [
    "# Solution:\n",
    "当我们人工去写的时候，我们会先看preorder的第一个，因为这一定是root，然后根据root在inorder中的idx来确定左右子树。针对左子树，我们可以通过inorder知道左子树有多少个节点，右子树同理。因此又可以回到preorder找到左子树的root和右子树的root。以此循环。"
   ]
  },
  {
   "cell_type": "code",
   "execution_count": 20,
   "metadata": {},
   "outputs": [
    {
     "name": "stdout",
     "output_type": "stream",
     "text": [
      "\n",
      "[ 3 ] [ 9 ] [ 20 ] [ 15 ] [ 7 ] \n",
      "[ 9 ] [ 3 ] [ 15 ] [ 20 ] [ 7 ] \n",
      "[ 9 ] [ 15 ] [ 7 ] [ 20 ] [ 3 ] "
     ]
    }
   ],
   "source": [
    "def buildTree(preorder, inorder):\n",
    "    if len(preorder) != len(inorder):\n",
    "        return None\n",
    "    if len(preorder) == 0 or len(inorder) == 0: # 找到叶子\n",
    "        return None\n",
    "    else:\n",
    "        node = Node(preorder[0]) # 从preorder中提取root\n",
    "        idx = inorder.index(preorder[0])\n",
    "        node._left = buildTree(preorder[1:idx+1], inorder[:idx]) # 构建左子树，左子树节点数目等于idx-0\n",
    "        node._right = buildTree(preorder[idx+1:], inorder[idx+1:]) # preorder中，去除root的左子树的节点，剩下的就是右子树节点了\n",
    "        return node\n",
    "    \n",
    "preorder = [3,9,20,15,7]\n",
    "inorder = [9,3,15,20,7]\n",
    "root = buildTree(preorder, inorder)\n",
    "buildBST = BinarySearchTree(root)\n",
    "buildBST.print_preorder()\n",
    "buildBST.print_inorder()\n",
    "buildBST.print_postorder()"
   ]
  },
  {
   "cell_type": "markdown",
   "metadata": {},
   "source": [
    "### <a id='Ex5'>Ex.5 Construct Binary Tree from Inorder and Postorder Traversal</a>\n",
    "\n",
    "Given inorder and postorder traversal of a tree, construct the binary tree.\n",
    "\n",
    "Note:\n",
    "\n",
    "You may assume that duplicates do not exist in the tree.\n",
    "\n",
    "For example, given\n",
    "\n",
    "inorder = [9,3,15,20,7]\n",
    "\n",
    "postorder = [9,15,7,20,3]\n",
    "\n",
    "Return the following binary tree:\n",
    "\n",
    "<img src=\"../images/ch14/t1.png\" width=\"75\"/>"
   ]
  },
  {
   "cell_type": "markdown",
   "metadata": {},
   "source": [
    "# Solution:\n",
    "人工的解决方案，先看postorder的最后一个，必定是root。根据root在inorder中的idx区分左右子树。确定左子树的节点数目后回到postorder，必定是从左开始数左子树节点数个，剩下的就是右子树。"
   ]
  },
  {
   "cell_type": "code",
   "execution_count": 22,
   "metadata": {},
   "outputs": [
    {
     "name": "stdout",
     "output_type": "stream",
     "text": [
      "\n",
      "[ 3 ] [ 9 ] [ 20 ] [ 15 ] [ 7 ] \n",
      "[ 9 ] [ 3 ] [ 15 ] [ 20 ] [ 7 ] \n",
      "[ 9 ] [ 15 ] [ 7 ] [ 20 ] [ 3 ] "
     ]
    }
   ],
   "source": [
    "def buildTree2(inorder, postorder):\n",
    "    if len(inorder) != len(postorder):\n",
    "        return None\n",
    "    if len(inorder) == 0 or len(postorder) == 0:\n",
    "        return None\n",
    "    else:\n",
    "        idx = inorder.index(postorder[-1])\n",
    "        node = Node(postorder[-1])\n",
    "        node._left = buildTree2(inorder[:idx], postorder[:idx]) #构造左子树，左子树的节点个数为idx-0\n",
    "        node._right = buildTree2(inorder[idx+1:], postorder[idx:-1]) #构造右子树，postorder的最后一个是root，记得去除\n",
    "        return node\n",
    "\n",
    "inorder = [9,3,15,20,7]\n",
    "postorder = [9,15,7,20,3]\n",
    "root = buildTree2(inorder, postorder)\n",
    "buildBST = BinarySearchTree(root)\n",
    "buildBST.print_preorder()\n",
    "buildBST.print_inorder()\n",
    "buildBST.print_postorder()"
   ]
  },
  {
   "cell_type": "markdown",
   "metadata": {},
   "source": [
    "### <a id='Ex6'>Ex.6 Convert Sorted Array to Binary Search Tree</a>\n",
    "\n",
    "Given an array where elements are sorted in ascending order, convert it to a height balanced BST.\n",
    "\n",
    "For this problem, a height-balanced binary tree is defined as a binary tree in which the depth of the two subtrees of every node never differ by more than 1.\n",
    "\n",
    "Given the sorted array: [-10,-3,0,5,9],\n",
    "\n",
    "One possible answer is: \n",
    "\n",
    "<img src=\"../images/ch14/t5.png\" width=\"100\"/>"
   ]
  },
  {
   "cell_type": "code",
   "execution_count": 26,
   "metadata": {},
   "outputs": [
    {
     "name": "stdout",
     "output_type": "stream",
     "text": [
      "\n",
      "[ -10 ] [ -3 ] [ 0 ] [ 5 ] [ 9 ] "
     ]
    }
   ],
   "source": [
    "def sortedArrayToBST(num):\n",
    "    if num is None:\n",
    "        return Node()\n",
    "    \n",
    "    if len(num) > 0:\n",
    "        mid = len(num)//2\n",
    "        root = Node(num[mid])\n",
    "        root._left = sortedArrayToBST(num[:mid])\n",
    "        root._right = sortedArrayToBST(num[mid+1:])\n",
    "        return root\n",
    "\n",
    "num = [-10,-3,0,5,9]\n",
    "node = sortedArrayToBST(num)\n",
    "bst6 = BinarySearchTree(node)\n",
    "bst6.print_inorder()\n",
    "    "
   ]
  },
  {
   "cell_type": "markdown",
   "metadata": {},
   "source": [
    "### <a id='Ex7'>Ex.7 Convert Sorted List to Binary Search Tree</a>"
   ]
  },
  {
   "cell_type": "code",
   "execution_count": 27,
   "metadata": {
    "collapsed": true
   },
   "outputs": [],
   "source": [
    "from LinkedList import LinkedList as LL\n",
    "from LinkedList import Node as LN"
   ]
  },
  {
   "cell_type": "code",
   "execution_count": 49,
   "metadata": {},
   "outputs": [
    {
     "name": "stdout",
     "output_type": "stream",
     "text": [
      "1\n",
      "1\n",
      "1\n",
      "3\n",
      "5\n",
      "5\n",
      "7\n",
      "\n",
      "[ 1 ] [ 2 ] [ 3 ] [ 4 ] [ 5 ] [ 6 ] [ 7 ] \n",
      "[ 4 ] [ 2 ] [ 1 ] [ 3 ] [ 6 ] [ 5 ] [ 7 ] "
     ]
    }
   ],
   "source": [
    "def sortedListToBST(head):\n",
    "    if head is None:\n",
    "        return None\n",
    "    dummy = LN(0)\n",
    "    dummy.next = head\n",
    "    head1 = head\n",
    "    head = dummy\n",
    "    slow = fast = dummy\n",
    "    pre = None\n",
    "    while fast is not None and fast.next is not None:\n",
    "        pre = slow\n",
    "        fast = fast.next.next\n",
    "        slow = slow.next\n",
    "\n",
    "    pre.next = None\n",
    "    root = Node(slow.value)\n",
    "    print(head1.value)\n",
    "#     print(head.next.value)\n",
    "    root._left = sortedListToBST(head.next) #易错点：这里注意一下如果写的是head1，会导致死循环。因为head1最后必定会一直指着第一个node\n",
    "                                            #       而写head.next是没问题的，因为pre会指在head上，然后pre.next=None\n",
    "                                            #       因此传到sortedListToBST是一个None；选择head1的话，传到sortedListToBST一直是node\n",
    "    root._right = sortedListToBST(slow.next)\n",
    "    return root\n",
    "    \n",
    "node1 = LN(1)\n",
    "node2 = LN(2)\n",
    "node3 = LN(3)\n",
    "node4 = LN(4)\n",
    "node5 = LN(5)\n",
    "node6 = LN(6)\n",
    "node7 = LN(7)\n",
    "node8 = LN(8)\n",
    "node1.next = node2\n",
    "node2.next = node3\n",
    "node3.next = node4\n",
    "node4.next = node5\n",
    "node5.next = node6\n",
    "node6.next = node7\n",
    "#node7.next = node8\n",
    "\n",
    "root = sortedListToBST(node1)\n",
    "bst7 = BinarySearchTree(root)\n",
    "bst7.print_inorder()\n",
    "bst7.print_preorder()"
   ]
  },
  {
   "cell_type": "markdown",
   "metadata": {},
   "source": [
    "# Binary Search Tree IV #"
   ]
  },
  {
   "cell_type": "markdown",
   "metadata": {},
   "source": [
    "### <a id='Ex1'>Ex.1 Path Sum </a>\n",
    "\n",
    "Given a binary tree and a sum, determine if the tree has a root-to-leaf path such that adding up all the values along the path equals the given sum.\n",
    "\n",
    "Given the below binary tree and sum = 22,\n",
    "\n",
    "return true, as there exist a root-to-leaf path 5->4->11->2 which sum is 22.\n",
    "\n",
    "<img src=\"../images/ch14/t6.png\" width=\"130\"/>"
   ]
  },
  {
   "cell_type": "code",
   "execution_count": 52,
   "metadata": {},
   "outputs": [
    {
     "name": "stdout",
     "output_type": "stream",
     "text": [
      "True\n",
      "False\n"
     ]
    }
   ],
   "source": [
    "def hasPathSum(bst, s):\n",
    "    return hasPathSumHelper(bst._root, s)\n",
    "\n",
    "def hasPathSumHelper(node, s):\n",
    "    if node is None: # 易错点：这个对Node是否为None的判断应该写在下面if的前面，因为如果node是None的话下面的语句无法执行\n",
    "        return False\n",
    "    if node._left is None and node._right is None and node._item == s:\n",
    "        return True\n",
    "    else:\n",
    "        return hasPathSumHelper(node._left, s - node._item) or hasPathSumHelper(node._right, s - node._item)\n",
    "\n",
    "bst41 = BinarySearchTree()\n",
    "numbers = [6, 4, 8, 7, 9, 2, 1, 3, 5, 13, 11, 10, 12]\n",
    "for i in numbers:\n",
    "    bst41.add(i)\n",
    "\n",
    "print(hasPathSum(bst41, 15))\n",
    "print(hasPathSum(bst41, 16))"
   ]
  },
  {
   "cell_type": "markdown",
   "metadata": {},
   "source": [
    "### <a id='Ex1'>Ex.2 Path Sum II</a>\n",
    "\n",
    "Given a binary tree and a sum, find all root-to-leaf paths where each path's sum equals the given sum.\n",
    "\n",
    "Given the below binary tree and sum = 22,\n",
    "\n",
    "<img src=\"../images/ch14/t7.png\" width=\"130\"/>"
   ]
  },
  {
   "cell_type": "code",
   "execution_count": 63,
   "metadata": {},
   "outputs": [
    {
     "name": "stdout",
     "output_type": "stream",
     "text": [
      "[[6, 4, 2, 3], [6, 4, 5]]\n",
      "[]\n"
     ]
    }
   ],
   "source": [
    "def hasPathSum2(bst, s):\n",
    "    return hasPathSum2Helper(bst._root, s)\n",
    "\n",
    "def hasPathSum2Helper(node, s):\n",
    "    if node is None:\n",
    "        return []\n",
    "    if node._left is None and node._right is None and node._item == s:\n",
    "        return [[node._item]]\n",
    "    else:\n",
    "        tmp = hasPathSum2Helper(node._left, s - node._item) + hasPathSum2Helper(node._right, s - node._item)\n",
    "        return [[node._item] + i for i in tmp] # 因为这里的i可能是空[], 所以此步可以用来剔除左右子树返回来的空[]\n",
    "        \n",
    "bst42 = BinarySearchTree()\n",
    "numbers = [6, 4, 8, 7, 9, 2, 1, 3, 5, 13, 11, 10, 12]\n",
    "for i in numbers:\n",
    "    bst42.add(i)\n",
    "\n",
    "print(hasPathSum2(bst42, 15))\n",
    "print(hasPathSum2(bst42, 16))"
   ]
  },
  {
   "cell_type": "code",
   "execution_count": 2,
   "metadata": {},
   "outputs": [
    {
     "data": {
      "text/plain": [
       "[1, 2, 3]"
      ]
     },
     "execution_count": 2,
     "metadata": {},
     "output_type": "execute_result"
    }
   ],
   "source": [
    "[1] + [2,3]"
   ]
  },
  {
   "cell_type": "code",
   "execution_count": 79,
   "metadata": {},
   "outputs": [
    {
     "name": "stdout",
     "output_type": "stream",
     "text": [
      "[[6, 4, 2, 3], [6, 4, 5]]\n",
      "[]\n"
     ]
    }
   ],
   "source": [
    "def hasPathSum2(bst, s):\n",
    "    return hasPathSum2Helper(bst._root, s)\n",
    "\n",
    "def hasPathSum2Helper(node, s):\n",
    "    if node is None:\n",
    "        return []\n",
    "    res = []\n",
    "    dfs(node, s, [], res)\n",
    "    return res\n",
    "\n",
    "def dfs(node, s, ls, res):\n",
    "    if node._left is None and node._right is None and node._item == s:\n",
    "        ls.append(node._item)\n",
    "        res.append(ls)\n",
    "    if node._left:\n",
    "        # 易错点：这里的ls参数就不要写成ls.append了，因为ls.append是没有返回值的，只是ls改变而已\n",
    "        #        也不要在上面写ls.append,然后在参数这里填ls，因为ls相当与是存了地址，会存下所有item\n",
    "        dfs(node._left, s - node._item, ls+[node._item], res) \n",
    "    if node._right:\n",
    "        dfs(node._right, s - node._item, ls+[node._item], res)\n",
    "        \n",
    "bst42 = BinarySearchTree()\n",
    "numbers = [6, 4, 8, 7, 9, 2, 1, 3, 5, 13, 11, 10, 12]\n",
    "for i in numbers:\n",
    "    bst42.add(i)\n",
    "\n",
    "print(hasPathSum2(bst42, 15))\n",
    "print(hasPathSum2(bst42, 16))"
   ]
  },
  {
   "cell_type": "code",
   "execution_count": 77,
   "metadata": {},
   "outputs": [
    {
     "name": "stdout",
     "output_type": "stream",
     "text": [
      "None\n"
     ]
    }
   ],
   "source": [
    "ls = [].append(6)\n",
    "\n",
    "print(ls)"
   ]
  },
  {
   "cell_type": "code",
   "execution_count": 81,
   "metadata": {},
   "outputs": [
    {
     "name": "stdout",
     "output_type": "stream",
     "text": [
      "2\n"
     ]
    }
   ],
   "source": [
    "def findPaths(bst, s):\n",
    "    return findPathsHelper(bst._root, s)\n",
    "\n",
    "def pathSum(node, s): # 让每一个node都可以是开头\n",
    "    if node is None:\n",
    "        return 0\n",
    "    else:\n",
    "        return findPathsHelper(node, s) + pathSum(node._left, s) + pathSum(node._right, s) #分别以本点和左右子节点为root\n",
    "    \n",
    "def findPathsHelper(node, s): # 开头的点定下来后，开开后面是否可能形成sum\n",
    "    if node is None:\n",
    "        return 0\n",
    "    else:\n",
    "        return int(node._item == s) + findPathsHelper(node._left, s-node._item) + findPathsHelper(node._right, s-node._item)\n",
    "    \n",
    "bst43 = BinarySearchTree()\n",
    "numbers = [6, 4, 8, 7, 9, 2, 1, 3, 5, 13, 11, 10, 12]\n",
    "for i in numbers:\n",
    "    bst43.add(i)\n",
    "\n",
    "print(findPaths(bst43, 15))"
   ]
  },
  {
   "cell_type": "markdown",
   "metadata": {},
   "source": [
    "### Tips:\n",
    "1. 经常打错函数名\n",
    "2. 对于出口条件，一般是Node is None，对于不同的需求返回不一样的值。比如问有几条路径就返回0，问有哪些路径就返回[]，对于Traversal返回[]\n",
    "3. [].append()的返回值为None"
   ]
  },
  {
   "cell_type": "code",
   "execution_count": null,
   "metadata": {
    "collapsed": true
   },
   "outputs": [],
   "source": []
  }
 ],
 "metadata": {
  "kernelspec": {
   "display_name": "Python 3",
   "language": "python",
   "name": "python3"
  },
  "language_info": {
   "codemirror_mode": {
    "name": "ipython",
    "version": 3
   },
   "file_extension": ".py",
   "mimetype": "text/x-python",
   "name": "python",
   "nbconvert_exporter": "python",
   "pygments_lexer": "ipython3",
   "version": "3.8.3"
  }
 },
 "nbformat": 4,
 "nbformat_minor": 2
}
