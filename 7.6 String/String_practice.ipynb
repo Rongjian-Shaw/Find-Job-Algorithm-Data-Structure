{
 "cells": [
  {
   "cell_type": "markdown",
   "metadata": {},
   "source": [
    "# String \n",
    "\n",
    "## Character Counting Based Problems"
   ]
  },
  {
   "cell_type": "markdown",
   "metadata": {},
   "source": [
    "### Ex.1 Number of Even Substrings\n",
    "\n",
    "Given a string of digits 0 – 9. The task is to count number of substrings which when convert into integer form an even number.\n",
    "\n",
    "Input : str = \"1234\".\n",
    "\n",
    "Output : 6\n",
    "\n",
    "\"2\", \"4\", \"12\", \"34\", \"234\", \"1234\" are 6 substring which are even.\n",
    "\n",
    "Input : str = \"154\".\n",
    "\n",
    "Output : 3\n",
    "\n",
    "Input : str = \"15\".\n",
    "\n",
    "Output : 0"
   ]
  },
  {
   "cell_type": "code",
   "execution_count": 3,
   "metadata": {},
   "outputs": [
    {
     "data": {
      "text/plain": [
       "3"
      ]
     },
     "execution_count": 3,
     "metadata": {},
     "output_type": "execute_result"
    }
   ],
   "source": [
    "def evenNum(s):\n",
    "    count = 0\n",
    "    for i in range(len(s) - 1, -1, -1):\n",
    "        if int(s[i]) % 2 == 0:\n",
    "            count += i + 1\n",
    "    return count\n",
    "\n",
    "evenNum(\"1234\")\n",
    "evenNum(\"154\")"
   ]
  },
  {
   "cell_type": "markdown",
   "metadata": {},
   "source": [
    "### Ex.2 Student Attendance Record I\n",
    "\n",
    "You are given a string representing an attendance record for a student. The record only contains the following three characters:\n",
    "\n",
    "'A' : Absent.\n",
    "\n",
    "'L' : Late.\n",
    "\n",
    "'P' : Present.\n",
    "\n",
    "A student could be rewarded if his attendance record doesn't contain more than one 'A' (absent) or more than two continuous 'L' (late).\n",
    "\n",
    "You need to return whether the student could be rewarded according to his attendance record.\n",
    "\n",
    "Example 1:\n",
    "\n",
    "Input: \"PPALLP\"\n",
    "\n",
    "Output: True\n",
    "\n",
    "Example 2:\n",
    "\n",
    "Input: \"PPALLL\"\n",
    "\n",
    "Output: False"
   ]
  },
  {
   "cell_type": "code",
   "execution_count": 4,
   "metadata": {
    "collapsed": true
   },
   "outputs": [],
   "source": [
    "def checkRecord(self, s):\n",
    "    return not (s.count('A') > 1 or 'LLL' is s)"
   ]
  },
  {
   "cell_type": "markdown",
   "metadata": {},
   "source": [
    "### Ex.3 Count Substrings with Same First and Last Characters\n",
    "\n",
    "We are given a string S, we need to find count of all contiguous substrings starting and ending with same character.\n",
    "\n",
    "Input  : S = \"abcab\"\n",
    "\n",
    "Output : 7\n",
    "\n",
    "There are 15 substrings of \"abcab\"\n",
    "\n",
    "Out of the above substrings, there are 7 substrings : a, abca, b, bcab, c, a and b."
   ]
  },
  {
   "cell_type": "code",
   "execution_count": null,
   "metadata": {
    "collapsed": true
   },
   "outputs": [],
   "source": [
    "'''\n",
    "a:1\n",
    "a...a: 3\n",
    "a..a..a: 6\n",
    "a..a..a..a: 10\n",
    "Thus, we can find that count = n(n+1)/2\n",
    "'''"
   ]
  },
  {
   "cell_type": "code",
   "execution_count": 6,
   "metadata": {},
   "outputs": [
    {
     "data": {
      "text/plain": [
       "7"
      ]
     },
     "execution_count": 6,
     "metadata": {},
     "output_type": "execute_result"
    }
   ],
   "source": [
    "from collections import Counter\n",
    "\n",
    "def countSub(s):\n",
    "    counter = Counter(s)\n",
    "    res = 0\n",
    "    for c in counter:\n",
    "        res += counter[c] * (counter[c] + 1) // 2\n",
    "    \n",
    "    return res\n",
    "\n",
    "s = \"abcab\"\n",
    "countSub(s)"
   ]
  },
  {
   "cell_type": "markdown",
   "metadata": {},
   "source": [
    "### Ex.4 Maximum Consecutive Repeating Character in String\n",
    "\n",
    "Given a string, the task is to find maximum consecutive repeating character in string."
   ]
  },
  {
   "cell_type": "code",
   "execution_count": 9,
   "metadata": {},
   "outputs": [
    {
     "data": {
      "text/plain": [
       "'a'"
      ]
     },
     "execution_count": 9,
     "metadata": {},
     "output_type": "execute_result"
    }
   ],
   "source": [
    "def maxRepeating(s):\n",
    "    n = len(s)\n",
    "    string = ''\n",
    "    maxCount = 0\n",
    "    for i in range(n):\n",
    "        count = 0\n",
    "        for j in range(i + 1, n):\n",
    "            if s[i] != s[j]:\n",
    "                i = j\n",
    "                break\n",
    "            else:\n",
    "                count += 1\n",
    "                if count > maxCount:\n",
    "                    maxCount = count\n",
    "                    string = s[i]\n",
    "    return string\n",
    "\n",
    "s = \"aaaaaaaabbaacccccde\"\n",
    "maxRepeating(s)\n",
    "        "
   ]
  },
  {
   "cell_type": "code",
   "execution_count": 12,
   "metadata": {},
   "outputs": [
    {
     "data": {
      "text/plain": [
       "[1, 2, 3, 4, 5, 'X', 'X', 'X']"
      ]
     },
     "execution_count": 12,
     "metadata": {},
     "output_type": "execute_result"
    }
   ],
   "source": [
    "def removeDuplicates(A):\n",
    "    if not A:\n",
    "        return A\n",
    "    i = 0\n",
    "    n = len(A)\n",
    "    for j in range(1, n):\n",
    "        if A[i] != A[j]:\n",
    "            i += 1\n",
    "            A[i] = A[j]\n",
    "    \n",
    "    for k in range(i+1, n):\n",
    "        A[k] = 'X'\n",
    "    \n",
    "    return A\n",
    "\n",
    "\n",
    "A = [1,1,2,2,3,4,4,5]\n",
    "removeDuplicates(A)\n",
    "            \n",
    "            "
   ]
  },
  {
   "cell_type": "markdown",
   "metadata": {},
   "source": [
    "# String II\n",
    "\n",
    "## Anagrams\n",
    "### Ex.1 Anagrams\n",
    "\n",
    "Write a function to check whether two given strings are anagram of each other or not. An anagram of a string is another string that contains same characters, only the order of characters can be different. For example, “abcd” and “dabc” are anagram of each other."
   ]
  },
  {
   "cell_type": "code",
   "execution_count": null,
   "metadata": {
    "collapsed": true
   },
   "outputs": [],
   "source": [
    "'''\n",
    "Solution:\n",
    "We just need to use counter to count the two strings, and compare the two string.\n",
    "'''"
   ]
  },
  {
   "cell_type": "code",
   "execution_count": 14,
   "metadata": {},
   "outputs": [
    {
     "data": {
      "text/plain": [
       "False"
      ]
     },
     "execution_count": 14,
     "metadata": {},
     "output_type": "execute_result"
    }
   ],
   "source": [
    "from collections import Counter\n",
    "\n",
    "def areAnagram(str1, str2):\n",
    "    count1 = Counter(str1)\n",
    "    count2 = Counter(str2)\n",
    "    if count1 == count2:\n",
    "        return True\n",
    "    else:\n",
    "        return False\n",
    "\n",
    "s1 = \"listen\"\n",
    "s2 = \"silent\"\n",
    "areAnagram(s1, s2)\n",
    "\n",
    "s1 = \"abc\"\n",
    "s2 = \"def\"\n",
    "areAnagram(s1, s2)"
   ]
  },
  {
   "cell_type": "markdown",
   "metadata": {},
   "source": [
    "### Ex.2 Find All Anagrams in a String\n",
    "\n",
    "Given a string s and a non-empty string p, find all the start indices of p's anagrams in s.\n",
    "\n",
    "Strings consists of lowercase English letters only and the length of both strings s and p will not be larger than 20,100.\n",
    "\n",
    "The order of output does not matter.\n",
    "\n",
    "Input:\n",
    "\n",
    "s: \"cbaebabacd\" p: \"abc\"\n",
    "\n",
    "Output:\n",
    "\n",
    "[0, 6]\n",
    "\n",
    "Explanation:\n",
    "\n",
    "The substring with start index = 0 is \"cba\", which is an anagram of \"abc\".\n",
    "\n",
    "The substring with start index = 6 is \"bac\", which is an anagram of \"abc\"."
   ]
  },
  {
   "cell_type": "code",
   "execution_count": null,
   "metadata": {
    "collapsed": true
   },
   "outputs": [],
   "source": [
    "'''\n",
    "Solution:\n",
    "Sliding window; We can create two counters and a sliding window first. When we slide the window, we need to change the counter. \n",
    "'''"
   ]
  },
  {
   "cell_type": "code",
   "execution_count": 20,
   "metadata": {},
   "outputs": [
    {
     "data": {
      "text/plain": [
       "[0, 1, 2]"
      ]
     },
     "execution_count": 20,
     "metadata": {},
     "output_type": "execute_result"
    }
   ],
   "source": [
    "from collections import Counter\n",
    "\n",
    "def findAnagrams(s, p):\n",
    "    n = len(p)\n",
    "    count1 = Counter(p)\n",
    "    count2 = Counter(s[:n - 1]) # tip: we will not count the right end\n",
    "    res = []\n",
    "    \n",
    "    for i in range(n - 1, len(s)):\n",
    "        count2[s[i]] += 1\n",
    "        if count1 == count2:\n",
    "            res.append(i - n + 1)\n",
    "        count2[s[i - n + 1]] -= 1\n",
    "        \n",
    "        if count2[s[i - n + 1]] == 0:\n",
    "            del count2[s[i - n + 1]]\n",
    "    \n",
    "    return res\n",
    "\n",
    "s = \"cbaebabacd\" \n",
    "p = \"abc\"\n",
    "findAnagrams(s, p)\n",
    "\n",
    "s = \"abab\" \n",
    "p = \"ab\"\n",
    "findAnagrams(s, p)"
   ]
  },
  {
   "cell_type": "markdown",
   "metadata": {},
   "source": [
    "### Ex.3 Find Anagram Mappings\n",
    "\n",
    "Given two lists Aand B, and B is an anagram of A. B is an anagram of A means B is made by randomizing the order of the elements in A.\n",
    "\n",
    "We want to find an index mapping P, from A to B. A mapping P[i] = j means the ith element in A appears in B at index j.\n",
    "\n",
    "These lists A and B may contain duplicates. If there are multiple answers, output any of them.\n",
    "\n",
    "For example, given\n",
    "\n",
    "A = [12, 28, 46, 32, 50] \n",
    "\n",
    "B = [50, 12, 32, 46, 28] \n",
    "\n",
    "We should return \n",
    "\n",
    "[1, 4, 3, 2, 0] \n",
    "\n",
    "as P[0] = 1 because the 0th element of A appears at B1, and P1 = 4 because the 1st element of A appears at B[4], and so on. "
   ]
  },
  {
   "cell_type": "code",
   "execution_count": 22,
   "metadata": {},
   "outputs": [
    {
     "data": {
      "text/plain": [
       "[1, 4, 3, 2, 0]"
      ]
     },
     "execution_count": 22,
     "metadata": {},
     "output_type": "execute_result"
    }
   ],
   "source": [
    "def anagramMappings1(A, B):\n",
    "    dic = dict()\n",
    "    res = []\n",
    "    for i, v in enumerate(B):\n",
    "        dic[v] = i\n",
    "    for a in A:\n",
    "        if a in dic:\n",
    "            res.append(dic[a])\n",
    "    \n",
    "    return res\n",
    "\n",
    "A = [12, 28, 46, 32, 50]\n",
    "B = [50, 12, 32, 46, 28]\n",
    "anagramMappings1(A, B)"
   ]
  },
  {
   "cell_type": "markdown",
   "metadata": {},
   "source": [
    "### Ex.1 Rotation\n",
    "\n",
    "Given a string s1 and a string s2, write a snippet to say whether s2 is a rotation of s1."
   ]
  },
  {
   "cell_type": "code",
   "execution_count": null,
   "metadata": {
    "collapsed": true
   },
   "outputs": [],
   "source": [
    "'''\n",
    "Solution:\n",
    "we can create a new string = s1 + s1, we will find that s2 must is a part of the new string\n",
    "'''"
   ]
  },
  {
   "cell_type": "code",
   "execution_count": 23,
   "metadata": {},
   "outputs": [
    {
     "data": {
      "text/plain": [
       "True"
      ]
     },
     "execution_count": 23,
     "metadata": {},
     "output_type": "execute_result"
    }
   ],
   "source": [
    "def areRotations(string1, string2):\n",
    "    if len(string1) != len(string2):\n",
    "        return False\n",
    "    \n",
    "    newString = string1 + string1\n",
    "    if string2 in newString:\n",
    "        return True\n",
    "    else:\n",
    "        return False\n",
    "\n",
    "string1 = \"AACD\"\n",
    "string2 = \"ACDA\"\n",
    "areRotations(string1, string2)   "
   ]
  },
  {
   "cell_type": "markdown",
   "metadata": {},
   "source": [
    "### Ex.2 Rotation II\n",
    "\n",
    "Write a function rotate(arr[], d, n) that rotates arr[] of size n by d elements."
   ]
  },
  {
   "cell_type": "code",
   "execution_count": null,
   "metadata": {
    "collapsed": true
   },
   "outputs": [],
   "source": [
    "'''\n",
    "Solution:\n",
    "Three reverse；If we wanna rotate an array counterclockwise by n positions, we can choose d th position. Then, we can reverse the left side and\n",
    "right side of d. After that, we reverse the whole array. Then we get what we want.\n",
    "'''"
   ]
  },
  {
   "cell_type": "code",
   "execution_count": 24,
   "metadata": {},
   "outputs": [
    {
     "data": {
      "text/plain": [
       "[3, 4, 5, 6, 7, 1, 2]"
      ]
     },
     "execution_count": 24,
     "metadata": {},
     "output_type": "execute_result"
    }
   ],
   "source": [
    "def reverse(arr, start, end):\n",
    "    while start < end:\n",
    "        arr[start], arr[end] = arr[end], arr[start]\n",
    "        start += 1\n",
    "        end -= 1\n",
    "\n",
    "def rotate(arr, d):\n",
    "    reverse(arr, 0, d - 1)\n",
    "    reverse(arr, d, len(arr) - 1)\n",
    "    reverse(arr, 0, len(arr) - 1)\n",
    "\n",
    "arr = [1, 2, 3, 4, 5, 6, 7]\n",
    "rotate(arr, 2)\n",
    "arr"
   ]
  },
  {
   "cell_type": "markdown",
   "metadata": {},
   "source": [
    "### Ex.3 Palindrome\n",
    "\n",
    "Check if a Given String is Palindrome."
   ]
  },
  {
   "cell_type": "code",
   "execution_count": 44,
   "metadata": {},
   "outputs": [
    {
     "name": "stdout",
     "output_type": "stream",
     "text": [
      "True\n",
      "False\n"
     ]
    }
   ],
   "source": [
    "def isPalindromeS(s):\n",
    "    if not s:\n",
    "        return True\n",
    "    start = 0\n",
    "    tail = len(s) - 1\n",
    "    \n",
    "    while start < tail:\n",
    "#         print(s[start], s[tail])\n",
    "        if s[start] != s[tail]:\n",
    "            return False\n",
    "        start += 1\n",
    "        tail -= 1\n",
    "        \n",
    "    return True\n",
    "\n",
    "s = \"malayalam\"\n",
    "print(isPalindromeS(s))\n",
    "\n",
    "s = \"helloworld\"\n",
    "print(isPalindromeS(s))"
   ]
  },
  {
   "cell_type": "markdown",
   "metadata": {},
   "source": [
    "### Ex.4 Palindrome Number\n",
    "\n",
    "Determine whether an integer is a palindrome. An integer is a palindrome when it reads the same backward as forward."
   ]
  },
  {
   "cell_type": "code",
   "execution_count": null,
   "metadata": {
    "collapsed": true
   },
   "outputs": [],
   "source": [
    "'''\n",
    "Solution:\n",
    "The key is to gradually find if the start and end are equal to each other until start < end.\n",
    "In this question, we need to use n / 10^i to find the start and use n % 10 to find the end.\n",
    "'''"
   ]
  },
  {
   "cell_type": "code",
   "execution_count": 31,
   "metadata": {},
   "outputs": [
    {
     "name": "stdout",
     "output_type": "stream",
     "text": [
      "True\n"
     ]
    }
   ],
   "source": [
    "# O(n)\n",
    "def isPalindrome(x):\n",
    "    if not x:\n",
    "        return True\n",
    "    tens = 10\n",
    "    \n",
    "    n = 0\n",
    "    while x / tens < 10:\n",
    "        n += 1\n",
    "        tens *= 10\n",
    "    \n",
    "    \n",
    "    \n",
    "    for i in range((n + 1) // 2): # or we can use while x\n",
    "        start = x / tens\n",
    "        end = x % 10 \n",
    "        if start != end:\n",
    "            return False\n",
    "        tens = tens // 100 # because start move 1 step and x also remove 1 number\n",
    "        x = x // 10\n",
    "    return True\n",
    "\n",
    "print(isPalindrome(1221))"
   ]
  },
  {
   "cell_type": "code",
   "execution_count": 29,
   "metadata": {},
   "outputs": [
    {
     "data": {
      "text/plain": [
       "13"
      ]
     },
     "execution_count": 29,
     "metadata": {},
     "output_type": "execute_result"
    }
   ],
   "source": [
    "139 // 10"
   ]
  },
  {
   "cell_type": "markdown",
   "metadata": {},
   "source": [
    "### Ex.5 Rotation Palindrome\n",
    "\n",
    "Check if a given string is a rotation of a palindrome"
   ]
  },
  {
   "cell_type": "code",
   "execution_count": 45,
   "metadata": {},
   "outputs": [
    {
     "name": "stdout",
     "output_type": "stream",
     "text": [
      "True\n",
      "False\n",
      "True\n"
     ]
    }
   ],
   "source": [
    "def isRotationOfPalindrome(s):\n",
    "    n = len(s)\n",
    "    newString = s + s\n",
    "    for i in range(n):\n",
    "        if isPalindromeS(newString[i: i + n]):\n",
    "            return True\n",
    "    return False\n",
    "\n",
    "print(isRotationOfPalindrome(\"aab\"))\n",
    "print(isRotationOfPalindrome(\"abcde\"))\n",
    "print(isRotationOfPalindrome(\"aaaad\"))"
   ]
  },
  {
   "cell_type": "markdown",
   "metadata": {},
   "source": [
    "### Ex.6 Rearrange Palindrome\n",
    "\n",
    "Given a string, Check if characters of the given string can be rearranged to form a palindrome. "
   ]
  },
  {
   "cell_type": "code",
   "execution_count": 47,
   "metadata": {},
   "outputs": [
    {
     "name": "stdout",
     "output_type": "stream",
     "text": [
      "True\n",
      "True\n",
      "True\n",
      "False\n"
     ]
    }
   ],
   "source": [
    "from collections import Counter\n",
    "def canRearrage(s):\n",
    "    count = Counter(s)\n",
    "    flag = False\n",
    "    for key in count.keys():\n",
    "        if count[key] % 2 == 1:\n",
    "            if flag == False:\n",
    "                flag = True\n",
    "            else: # appear odd number two times\n",
    "                return False\n",
    "    return True\n",
    "\n",
    "print(canRearrage(\"baaaa\"))\n",
    "print(canRearrage(\"ababaa\"))\n",
    "print(canRearrage(\"ababcbaab\"))\n",
    "print(canRearrage(\"ababcbaa\"))"
   ]
  },
  {
   "cell_type": "markdown",
   "metadata": {},
   "source": [
    "### Ex.7 Longest Palindrome\n",
    "\n",
    "Given a string which consists of lowercase or uppercase letters, find the length of the longest palindromes that can be built with those letters.\n",
    "\n",
    "This is case sensitive, for example \"Aa\" is not considered a palindrome here."
   ]
  },
  {
   "cell_type": "code",
   "execution_count": 50,
   "metadata": {},
   "outputs": [
    {
     "data": {
      "text/plain": [
       "7"
      ]
     },
     "execution_count": 50,
     "metadata": {},
     "output_type": "execute_result"
    }
   ],
   "source": [
    "from collections import Counter\n",
    "\n",
    "def longestPalindrome(s):\n",
    "    oddFlag = False\n",
    "    counter = Counter(s)\n",
    "    length = 0\n",
    "    for v in counter.values():\n",
    "        if v % 2 == 1:\n",
    "            oddFlag = True\n",
    "            length += v - 1\n",
    "        else:\n",
    "            length += v\n",
    "    if oddFlag == True:\n",
    "        length += 1\n",
    "    \n",
    "    return length\n",
    "\n",
    "longestPalindrome(\"abccccdd\")\n"
   ]
  },
  {
   "cell_type": "markdown",
   "metadata": {
    "collapsed": true
   },
   "source": [
    " # String IV\n",
    "\n",
    "## Subsequence"
   ]
  },
  {
   "cell_type": "markdown",
   "metadata": {},
   "source": [
    "### Ex.1 Longest Subsequence\n",
    "\n",
    "Given a string ‘s’ and an integer k, find other string ‘t’ such that ‘t’ is the largest subsequence of given string ‘s’ and each character of ‘t’ must occur at least k times in string s.\n",
    "\n",
    "Input : \n",
    "s = \"baaabaacba\"\n",
    "\n",
    "k = 3\n",
    "\n",
    "Output : baaabaaba"
   ]
  },
  {
   "cell_type": "code",
   "execution_count": 1,
   "metadata": {},
   "outputs": [
    {
     "data": {
      "text/plain": [
       "'baaabaaba'"
      ]
     },
     "execution_count": 1,
     "metadata": {},
     "output_type": "execute_result"
    }
   ],
   "source": [
    "from collections import Counter\n",
    "\n",
    "def longestSub(s, k):\n",
    "    counter = Counter(s)\n",
    "    res = []\n",
    "    for i in s:\n",
    "        if counter[i] >= k:\n",
    "            res.append(i)\n",
    "    return ''.join(res)\n",
    "\n",
    "s = \"baaabaacba\"\n",
    "k = 3\n",
    "longestSub(s, k)"
   ]
  },
  {
   "cell_type": "markdown",
   "metadata": {},
   "source": [
    "### Ex.2 Check Subsequence\n",
    "\n",
    "Given two string str1, and str2. Determine whether str1 is a subsequence of str2. A subsequence is a sequence that can be derived from another sequence by deleting some elements without changing the order of the remaining elements.\n",
    "\n",
    "Input: str1 = \"AXY\", str2 = \"ADXCPY\"\n",
    "\n",
    "Output: True (str1 is a subsequence of str2)\n",
    "\n",
    "Input: str1 = \"AXY\", str2 = \"YADXCP\"\n",
    "\n",
    "Output: False (str1 is not a subsequence of str2)"
   ]
  },
  {
   "cell_type": "code",
   "execution_count": 3,
   "metadata": {},
   "outputs": [
    {
     "data": {
      "text/plain": [
       "False"
      ]
     },
     "execution_count": 3,
     "metadata": {},
     "output_type": "execute_result"
    }
   ],
   "source": [
    "def isSubSequence(str1, str2):\n",
    "    m = len(str1)\n",
    "    n = len(str2)\n",
    "    i, j = 0, 0 # two pointers\n",
    "    while i < m and j < n:\n",
    "        if str1[i] == str2[j]:\n",
    "            i += 1\n",
    "        j += 1\n",
    "    \n",
    "    return i == m\n",
    "\n",
    "str1 = \"AXY\"\n",
    "str2 = \"ADXCPY\"\n",
    "isSubSequence(str1, str2)\n",
    "\n",
    "str1 = \"AXY\"\n",
    "str2 = \"YADXCP\"\n",
    "isSubSequence(str1, str2)"
   ]
  },
  {
   "cell_type": "markdown",
   "metadata": {},
   "source": [
    "### Ex.3 Longest Word in Dictionary by Deleteing Characters of Given String\n",
    "\n",
    "Giving a dictionary and a string ‘str’, find the longest string in dictionary which can be formed by deleting some characters of the given ‘str’.\n",
    "\n",
    "Examples:\n",
    "\n",
    "Input :\n",
    "\n",
    "dict = {\"ale\", \"apple\", \"monkey\", \"plea\"}   \n",
    "        \n",
    "str = \"abpcplea\"  \n",
    "\n",
    "Output : apple \n"
   ]
  },
  {
   "cell_type": "code",
   "execution_count": 4,
   "metadata": {},
   "outputs": [
    {
     "data": {
      "text/plain": [
       "'apple'"
      ]
     },
     "execution_count": 4,
     "metadata": {},
     "output_type": "execute_result"
    }
   ],
   "source": [
    "def findLongestString(words, s):\n",
    "    res = ''\n",
    "    maxLength = 0\n",
    "    longestWord = ''\n",
    "    \n",
    "    for word in words:\n",
    "        if len(word) > maxLength and isSubSequence(word, s):\n",
    "            maxLength = len(word)\n",
    "            longestWord = word\n",
    "    return longestWord\n",
    "\n",
    "words = [\"ale\", \"apple\", \"monkey\", \"plea\"]\n",
    "s = \"abpcplea\"\n",
    "findLongestString(words, s)"
   ]
  },
  {
   "cell_type": "markdown",
   "metadata": {},
   "source": [
    "### Ex.4 Find Sum of Sum of All Subsequences\n",
    "\n",
    "Given an array of n integers. The task is to find the sum of sum of each of sub-sequence of the array.\n"
   ]
  },
  {
   "cell_type": "code",
   "execution_count": null,
   "metadata": {
    "collapsed": true
   },
   "outputs": [],
   "source": [
    "'''\n",
    "Input : arr[] = { 6, 8, 5 }\n",
    "Output : 76\n",
    "All subsequence sum are:\n",
    "{ 6 }, sum = 6\n",
    "{ 8 }, sum = 7\n",
    "{ 5 }, sum = 6\n",
    "{ 6, 8 }, sum = 14\n",
    "{ 6, 5 }, sum = 11\n",
    "{ 8, 5 }, sum = 13\n",
    "{ 6, 8, 5 }, sum = 19\n",
    "Total sum = 76.\n",
    "\n",
    "'''\n",
    "print()"
   ]
  },
  {
   "cell_type": "markdown",
   "metadata": {
    "collapsed": true
   },
   "source": [
    "# String V\n",
    "\n",
    "## Pattern Searching"
   ]
  },
  {
   "cell_type": "markdown",
   "metadata": {},
   "source": [
    "### Ex.1 find\n",
    "\n",
    "Return the index of the first occurrence of needle in haystack, or -1 if needle is not part of haystack."
   ]
  },
  {
   "cell_type": "code",
   "execution_count": 19,
   "metadata": {},
   "outputs": [
    {
     "data": {
      "text/plain": [
       "10"
      ]
     },
     "execution_count": 19,
     "metadata": {},
     "output_type": "execute_result"
    }
   ],
   "source": [
    "# rolling hash\n",
    "\n",
    "def strStr(text, pattern):\n",
    "    base = 29\n",
    "    patternHash = 0\n",
    "    textHash = 0\n",
    "    tempBase = 1\n",
    "    \n",
    "    for i in range(len(pattern)):\n",
    "#         print(\"patternHash: \", patternHash, pattern[i], \": \", ord(pattern[i]))\n",
    "        patternHash += ord(pattern[i]) * tempBase\n",
    "        tempBase = tempBase * base\n",
    "    \n",
    "    tempBase = 1\n",
    "    for i in range(len(pattern)):\n",
    "#         print(\"textHash: \", textHash, text[i], \": \", ord(text[i]))\n",
    "        textHash += ord(text[i]) * tempBase\n",
    "        tempBase = tempBase * base\n",
    "        \n",
    "#     print(textHash, patternHash)\n",
    "    \n",
    "    if patternHash == textHash and pattern == text[0: len(pattern)]:\n",
    "        return 0\n",
    "    \n",
    "    for i in range(len(pattern), len(text)):\n",
    "        textHash = ((textHash - ord(text[i - len(pattern)])) // base) + ord(text[i]) * (base ** (len(pattern) - 1))  # error (base ** 2)\n",
    "#         print(\"ord(text[i - len(pattern)]): \", ord(text[i - len(pattern)]), \" ord(text[i]): \", ord(text[i]))\n",
    "#         print(textHash)\n",
    "        if textHash == patternHash and pattern == text[i - len(pattern) + 1 : i + 1]:\n",
    "            return i - len(pattern) + 1\n",
    "        \n",
    "    return -1\n",
    "\n",
    "text = \"THIS IS A TEST TEXT\"\n",
    "pattern = \"TEST\"\n",
    "strStr(text, pattern)\n"
   ]
  },
  {
   "cell_type": "markdown",
   "metadata": {},
   "source": [
    "### Ex.3 Replace All Occurrences of String AB with C\n",
    "\n",
    "Given a string str that may contain one more occurrences of “AB”. Replace all occurrences of “AB” with “C” in str."
   ]
  },
  {
   "cell_type": "code",
   "execution_count": 22,
   "metadata": {},
   "outputs": [
    {
     "data": {
      "text/plain": [
       "'helloCworldCGfGAAC'"
      ]
     },
     "execution_count": 22,
     "metadata": {},
     "output_type": "execute_result"
    }
   ],
   "source": [
    "def translate(st) :\n",
    "    l = len(st)\n",
    "    if l < 2:\n",
    "        return \n",
    "    \n",
    "    i = 0 # pointer of modified string\n",
    "    j = 0 # pointer of original string\n",
    "    \n",
    "    while j < l - 1: # because we need j + 1\n",
    "        if st[j] == 'A' and st[j + 1] == 'B':\n",
    "            st[i] = 'C'\n",
    "            j += 2\n",
    "            i += 1\n",
    "            continue\n",
    "        st[i] = st[j]\n",
    "        i += 1\n",
    "        j += 1\n",
    "    \n",
    "    if j == l - 1:\n",
    "        st[i] = st[j]\n",
    "        i += 1\n",
    "    \n",
    "    return ''.join(st[:i])\n",
    "\n",
    "st = list(\"helloABworldABGfGAAAB\")\n",
    "translate(st)"
   ]
  },
  {
   "cell_type": "markdown",
   "metadata": {},
   "source": [
    "### Ex.3 Count of Occurrences of “1(0+)1” Pattern\n",
    "\n",
    "Given an alphanumeric string, find the number of times a pattern 1(0+)1 occurs in the given string. Here, (0+) signifies the presence of non empty sequence of consecutive 0’s."
   ]
  },
  {
   "cell_type": "code",
   "execution_count": null,
   "metadata": {
    "collapsed": true
   },
   "outputs": [],
   "source": [
    "'''\n",
    "Input : 1001010001\n",
    "Output : 3\n",
    "First sequence is in between 0th and 3rd index.\n",
    "Second sequence is in between 3rd and 5th index.\n",
    "Third sequence is in between 5th and 9th index.\n",
    "So total number of sequences comes out to be 3.\n",
    "\n",
    "Input : 1001ab010abc01001\n",
    "Output : 2\n",
    "First sequence is in between 0th and 3rd index.\n",
    "Second valid sequence is in between 13th and 16th index. \n",
    "So total number of sequences comes out to be 2.\n",
    "'''\n",
    "print()"
   ]
  },
  {
   "cell_type": "code",
   "execution_count": 26,
   "metadata": {},
   "outputs": [
    {
     "name": "stdout",
     "output_type": "stream",
     "text": [
      "3\n"
     ]
    }
   ],
   "source": [
    "def patternCount(s):\n",
    "    last = s[0]\n",
    "    i = 1\n",
    "    counter = 0\n",
    "    while i < len(s):\n",
    "        if last == '1' and s[i] == '0':\n",
    "            while s[i] == '0' and i < len(s):\n",
    "                i += 1\n",
    "                if s[i] == '1':\n",
    "                    counter += 1\n",
    "                if i == len(s) - 1:\n",
    "                    return counter\n",
    "        last = s[i]\n",
    "        i += 1\n",
    "    \n",
    "    return counter\n",
    "\n",
    "s = \"100001abc1010100\"\n",
    "print(patternCount(s))\n"
   ]
  },
  {
   "cell_type": "code",
   "execution_count": 5,
   "metadata": {},
   "outputs": [
    {
     "name": "stdout",
     "output_type": "stream",
     "text": [
      "3\n"
     ]
    }
   ],
   "source": [
    "def patternCount(s):\n",
    "    l = 0\n",
    "    count = 0\n",
    "    \n",
    "    for r in range(1, len(s)):\n",
    "        if s[l] == '1':\n",
    "            if s[r] == '1':\n",
    "                count += 1\n",
    "            elif s[r] == '0':\n",
    "                continue\n",
    "        l = r\n",
    "    \n",
    "    return count\n",
    "\n",
    "s = \"100001abc1010100\"\n",
    "print(patternCount(s))"
   ]
  },
  {
   "cell_type": "markdown",
   "metadata": {},
   "source": [
    "### Ex.4 String Matching with Wildcard Characters\n",
    "\n",
    "Given two strings where first string may contain wild card characters and second string is a normal string. Write a function that returns true if the two strings match. The following are allowed wild card characters in first string.\n",
    "\n",
    "\\* --> Matches with 0 or more instances of any character or set of characters.\n",
    "\n",
    "? --> Matches with any one character."
   ]
  },
  {
   "cell_type": "code",
   "execution_count": null,
   "metadata": {
    "collapsed": true
   },
   "outputs": [],
   "source": [
    "'''\n",
    "Solution:\n",
    "We can use dp to solve this question. Assumed we build a dp[len(first)][len(second)].\n",
    "If first[i] == second[j], then dp[i][j] = dp[i - 1][j - 1]\n",
    "If second[j] == '?', then dp[i][j] == dp[i - 1][j - 1]\n",
    "If second[j] == '*', then dp[i][j] == dp[i - 1][j] or dp[i][j - 1]\n",
    "    because when second[j] == '*' and * match nothing, that means first[:i] match second[:j - 1]\n",
    "    when second[j] == '*' and * match many characters, that means first[:i - 1] match second[:j]\n",
    "        - because if first[:i - 1] match second[:j], then whatever adding i, second[:j] will still match first[:i - 1]\n",
    "\n",
    "paying attention to i - 1 and j - 1. So, the first row and col should be False, except dp[0][0] = True\n",
    "    \n",
    "'''"
   ]
  },
  {
   "cell_type": "code",
   "execution_count": 37,
   "metadata": {},
   "outputs": [
    {
     "name": "stdout",
     "output_type": "stream",
     "text": [
      "True\n",
      "True\n"
     ]
    }
   ],
   "source": [
    "def match(first, second):\n",
    "    m, n = len(first), len(second)\n",
    "    dp = [[False for i in range(n + 1)] for j in range(m + 1)]\n",
    "    dp[0][0] = True\n",
    "    for i in range(1, m + 1):\n",
    "        for j in range(1, n + 1):\n",
    "            if first[i - 1] == second[j - 1]:\n",
    "                dp[i][j] = dp[i - 1][j - 1]\n",
    "            elif second[j - 1] == '?':\n",
    "                dp[i][j] = dp[i - 1][j - 1]\n",
    "            elif second[j - 1] == '*': # if * appear in first position, it can match any string\n",
    "                if j - 1 == 0:\n",
    "                    dp[i][j] = True\n",
    "                else:\n",
    "                    dp[i][j] = dp[i - 1][j] or dp[i][j - 1]\n",
    "#     print(dp)\n",
    "    \n",
    "    return dp[m][n]\n",
    "\n",
    "# print(match(\"gee\", \"g*k\"))\n",
    "# print(match(\"pqrst\", \"*pqrs\")) # No because 't' is not in first\n",
    "# print(match(\"abcdhghgbcd\", \"abc*bcd\")) # Yes\n",
    "# print(match(\"abcd\", \"abc*c?d\")) # No because second must have 2 instances of 'c'\n",
    "print(match(\"abcd\", \"*c*d\")) # Yes\n",
    "print(match(\"abcd\", \"*?c*d\")) # Yes"
   ]
  },
  {
   "cell_type": "code",
   "execution_count": null,
   "metadata": {
    "collapsed": true
   },
   "outputs": [],
   "source": []
  }
 ],
 "metadata": {
  "kernelspec": {
   "display_name": "Python 3",
   "language": "python",
   "name": "python3"
  },
  "language_info": {
   "codemirror_mode": {
    "name": "ipython",
    "version": 3
   },
   "file_extension": ".py",
   "mimetype": "text/x-python",
   "name": "python",
   "nbconvert_exporter": "python",
   "pygments_lexer": "ipython3",
   "version": "3.8.3"
  }
 },
 "nbformat": 4,
 "nbformat_minor": 2
}
