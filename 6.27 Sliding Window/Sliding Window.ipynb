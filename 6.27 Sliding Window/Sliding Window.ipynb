{
 "cells": [
  {
   "cell_type": "markdown",
   "metadata": {},
   "source": [
    "# Sliding Window"
   ]
  },
  {
   "cell_type": "markdown",
   "metadata": {},
   "source": [
    "Sliding Window technique shows how a nested for loop in few problems can be converted to single for loop and hence reducing the time complexity."
   ]
  },
  {
   "cell_type": "markdown",
   "metadata": {},
   "source": [
    "### <a id='Ex1'> Ex.1 Remove Duplicates from Sorted Array \n",
    "\n",
    "Given a sorted array, remove the duplicates such that each element appear only once and return the new length."
   ]
  },
  {
   "cell_type": "code",
   "execution_count": 2,
   "metadata": {},
   "outputs": [
    {
     "data": {
      "text/plain": [
       "2"
      ]
     },
     "execution_count": 2,
     "metadata": {},
     "output_type": "execute_result"
    }
   ],
   "source": [
    "# Solution:可以定义两个前后指针，前指针代表已经符合规则元素的最后一个，后指针表示当前正在处理的元素\n",
    "# 如果发现后指针元素和前指针不同，则先把前指针+1，然后将后指针的指赋值给前指针\n",
    "def removeDuplicates(alist):\n",
    "    tail = 0 # 前指针\n",
    "    for j in range(1, len(alist)): # j表示后指针\n",
    "        if alist[tail] != alist[j]:\n",
    "            tail += 1\n",
    "            alist[tail] = alist[j]\n",
    "    \n",
    "    return tail + 1 # 由于tail表示的是下标，实际宽度要+1\n",
    "\n",
    "alist = [1,1,2]\n",
    "removeDuplicates(alist)"
   ]
  },
  {
   "cell_type": "code",
   "execution_count": 5,
   "metadata": {},
   "outputs": [
    {
     "data": {
      "text/plain": [
       "2"
      ]
     },
     "execution_count": 5,
     "metadata": {},
     "output_type": "execute_result"
    }
   ],
   "source": [
    "# Solution2：同样是滑动窗口法，区别是前后指针开始的位置相同\n",
    "def removeDuplicates(alist):\n",
    "    i = 0\n",
    "    for j in range(len(alist)):\n",
    "        # 如果遇到重复值，j继续往右移，直到找到不同的把重复值替换掉\n",
    "        # 前指针i代表已经符合规则的最后一个元素的下一个，j表示正在处理的元素\n",
    "        # 因此，当j元素与i-1元素不同的时候则将j赋值给i；\n",
    "        # 原理：当j赋给i后，i+1, j继续往后走，如果这时候j与之前是重复的，那么j必定与i-1相同，而知道找到与当前不同的元素才会继续更新i\n",
    "        if j == 0 or alist[j] > alist[i - 1]: # 当j,i==0的时候是特例，因为这个当前位置必定不与之前重复， alsit[j] > alist[i - 1]表示两个元素不同\n",
    "            alist[i] = alist[j]\n",
    "            i += 1\n",
    "    return i # 由于i本就表示符合规则的最后一个元素的下一个，因此其大小与处理后的宽度相同\n",
    "\n",
    "alist = [1,1,2]\n",
    "removeDuplicates(alist)"
   ]
  },
  {
   "cell_type": "markdown",
   "metadata": {},
   "source": [
    "### <a id='Ex2'> Ex.2 Remove Duplicates from Sorted Array II \n",
    "\n",
    "What if duplicates are allowed at most twice?"
   ]
  },
  {
   "cell_type": "code",
   "execution_count": null,
   "metadata": {
    "collapsed": true
   },
   "outputs": [],
   "source": [
    "def removeDuplicates(nums):\n",
    "    if len(nums) < 2:return len(nums)\n",
    "    pre= 1\n",
    "    for cur in range(1, len(nums)):\n",
    "        if nums[cur] == nums[pre] and nums[cur] == nums[pre - 1]:\n",
    "            continue\n",
    "        else:\n",
    "            pre += 1\n",
    "            nums[pre] = nums[cur]\n",
    "    return pre + 1"
   ]
  },
  {
   "cell_type": "code",
   "execution_count": 10,
   "metadata": {},
   "outputs": [
    {
     "data": {
      "text/plain": [
       "7"
      ]
     },
     "execution_count": 10,
     "metadata": {},
     "output_type": "execute_result"
    }
   ],
   "source": [
    "# 可以模仿上面的写法\n",
    "def removeDuplicates2(nums):\n",
    "    i = 0\n",
    "    for j in range(len(nums)):\n",
    "        if i < 2 or nums[i - 2] != nums[j]:\n",
    "            nums[i] = nums[j]\n",
    "            i += 1\n",
    "    \n",
    "    return i\n",
    "\n",
    "nums = [1,1,1,1,2,3,3,3,4,4]\n",
    "# nums = [1]\n",
    "removeDuplicates2(nums)"
   ]
  },
  {
   "cell_type": "markdown",
   "metadata": {},
   "source": [
    "### <a id='Ex3'> Ex.3 Remove Element\n",
    "\n",
    "Given an array nums and a value val, remove all instances of that value in-place and return the new length."
   ]
  },
  {
   "cell_type": "code",
   "execution_count": 1,
   "metadata": {},
   "outputs": [
    {
     "data": {
      "text/plain": [
       "2"
      ]
     },
     "execution_count": 1,
     "metadata": {},
     "output_type": "execute_result"
    }
   ],
   "source": [
    "def removeElement(nums, val):\n",
    "    i = 0\n",
    "    for j in range(len(nums)):\n",
    "        if nums[j] != val:\n",
    "            nums[i] = nums[j]\n",
    "            i += 1\n",
    "    \n",
    "    return i\n",
    "\n",
    "nums = [ 3, 2, 2, 3 ]\n",
    "removeElement(nums, 3)"
   ]
  },
  {
   "cell_type": "markdown",
   "metadata": {},
   "source": [
    "### <a id='Ex4'> Ex.4 Maximum Average Subarray \n",
    "\n",
    "Given an array consisting of n integers, find the contiguous subarray of given length k that has the maximum average value. And you need to output the maximum average value \n",
    "\n",
    "Assume 1 <= k <= n \n"
   ]
  },
  {
   "cell_type": "code",
   "execution_count": 15,
   "metadata": {},
   "outputs": [
    {
     "data": {
      "text/plain": [
       "12.75"
      ]
     },
     "execution_count": 15,
     "metadata": {},
     "output_type": "execute_result"
    }
   ],
   "source": [
    "def findMaxnumsverage(nums, k):\n",
    "    l, r = 0, k - 1\n",
    "    globalMax = sum(nums[l:r + 1])\n",
    "    localMax = globalMax\n",
    "    while r < len(nums) - 1: # first error: 记得-1，否则r会导致数组越界\n",
    "        localMax -= nums[l]\n",
    "        l += 1\n",
    "        r += 1\n",
    "        localMax += nums[r]\n",
    "        globalMax = max(globalMax, localMax)\n",
    "     \n",
    "    return globalMax/k\n",
    "\n",
    "nums = [ 1, 12, -5, -6, 50, 3 ]\n",
    "findMaxnumsverage(nums, 4)"
   ]
  },
  {
   "cell_type": "markdown",
   "metadata": {},
   "source": [
    "### <a id='Ex5'> Ex.5 Longest Continuous Increasing Subsequence\n",
    "\n",
    "Given an unsorted array of integers, find the length of longest continuous increasing subsequence (subarray)."
   ]
  },
  {
   "cell_type": "code",
   "execution_count": 16,
   "metadata": {},
   "outputs": [
    {
     "data": {
      "text/plain": [
       "3"
      ]
     },
     "execution_count": 16,
     "metadata": {},
     "output_type": "execute_result"
    }
   ],
   "source": [
    "def findLengthOfLCIS(nums):\n",
    "    length = 1\n",
    "    res = 0\n",
    "    for i in range(1, len(nums)):\n",
    "        if nums[i] > nums[i - 1]:\n",
    "            length += 1\n",
    "            res = max(res, length)\n",
    "        else:\n",
    "            length = 1\n",
    "        \n",
    "    return res\n",
    "\n",
    "nums = [1,3,5,4,7]\n",
    "findLengthOfLCIS(nums)"
   ]
  },
  {
   "cell_type": "markdown",
   "metadata": {},
   "source": [
    "### <a id='Ex6'> Ex.6 Minimum Size Subarray Sum \n",
    "\n",
    "Given an array of n positive integers and a positive integer s, find the minimal length of a contiguous subarray of which the sum ≥ s. If there isn't one, return 0 instead\n",
    "\n",
    "Given the array [2,3,1,2,4,3] and s = 7\n",
    "\n",
    "the subarray [4,3] has the minimal length under the problem constraint "
   ]
  },
  {
   "cell_type": "code",
   "execution_count": 2,
   "metadata": {},
   "outputs": [
    {
     "data": {
      "text/plain": [
       "2"
      ]
     },
     "execution_count": 2,
     "metadata": {},
     "output_type": "execute_result"
    }
   ],
   "source": [
    "import sys\n",
    "def minsubarray(alist, target):\n",
    "    res = sys.maxsize\n",
    "    sums = 0\n",
    "    start = 0\n",
    "    for i in range(len(alist)):\n",
    "        sums += alist[i]\n",
    "        while sums >= target:\n",
    "            res = min(res, i - start + 1)\n",
    "            sums -= alist[start]\n",
    "            start += 1\n",
    "    return res\n",
    "\n",
    "alist = [2,3,1,2,4,3]\n",
    "target = 7\n",
    "minsubarray(alist, target)"
   ]
  },
  {
   "cell_type": "markdown",
   "metadata": {},
   "source": [
    "### <a id='Ex7'> Ex.7 Implement strStr()\n",
    "\n",
    "Return the index of the first occurrence of needle in haystack, or -1 if needle is not part of haystack."
   ]
  },
  {
   "cell_type": "code",
   "execution_count": 22,
   "metadata": {},
   "outputs": [
    {
     "data": {
      "text/plain": [
       "9"
      ]
     },
     "execution_count": 22,
     "metadata": {},
     "output_type": "execute_result"
    }
   ],
   "source": [
    "def strStr(haystack, needle):\n",
    "    idx = -1\n",
    "    for i in range(len(haystack) - len(needle) + 1):\n",
    "        for j in range(len(needle)):\n",
    "            if haystack[i+j] != needle[j]:\n",
    "                break\n",
    "            if j == len(needle) - 1:\n",
    "                return i\n",
    "    return -1\n",
    "\n",
    "haystack = 'aaabcbababcd'\n",
    "needle = 'bcd'\n",
    "strStr(haystack, needle)"
   ]
  },
  {
   "cell_type": "markdown",
   "metadata": {},
   "source": [
    "### <a id='Ex8'> Ex.8 Subarray Product Less Than K\n",
    "\n",
    "Your are given an array of positive integers nums\n",
    "\n",
    "Count and print the number of (contiguous) subarrays where the product of all the elements in the subarray is less than k"
   ]
  },
  {
   "cell_type": "code",
   "execution_count": 23,
   "metadata": {},
   "outputs": [
    {
     "name": "stdout",
     "output_type": "stream",
     "text": [
      "8\n",
      "19\n"
     ]
    }
   ],
   "source": [
    "# Solution: \n",
    "'''\n",
    "10, 5, 2, 6\n",
    "10            Y\n",
    "10, 5         Y\n",
    "10, 5, 2      X\n",
    "    5, 2      Y\n",
    "    5, 2, 6   Y\n",
    "'''\n",
    "# 注意如果单纯只是移动i,j然后每移动一个就res+1会遗漏一些情况。比如10-》10，5-》10，5，2其中就会漏掉5.\n",
    "# 可以发现一个规律：每多一个合法窗口，合法字串个数就会增加j-i+1\n",
    "def numSubarrayProductLessThanK(nums, k):\n",
    "    count = 0\n",
    "    i = 0\n",
    "    product = 1\n",
    "    for j in range(len(nums)):\n",
    "        product *= nums[j]\n",
    "        while product >= k:\n",
    "            product = product / nums[i]\n",
    "            i += 1\n",
    "        count += j - i + 1\n",
    "    return count\n",
    "\n",
    "nums = [10, 5, 2, 6]\n",
    "k = numSubarrayProductLessThanK(nums, 100)\n",
    "print(k)\n",
    "\n",
    "nums = [1,5,4,3,6,2,7]\n",
    "k = numSubarrayProductLessThanK(nums, 100)\n",
    "print(k)"
   ]
  },
  {
   "cell_type": "markdown",
   "metadata": {},
   "source": [
    "# Sliding Window II"
   ]
  },
  {
   "cell_type": "markdown",
   "metadata": {},
   "source": [
    "### <a id='Ex1'> Ex.1 Longest Substring Without Repeating Characters\n",
    "\n",
    "Given a string, find the length of the longest substring without repeating characters.\n",
    "\n",
    "Given \"abcabcbb\", the answer is \"abc\", which the length is 3. \n",
    "\n",
    "Given \"bbbbb\", the answer is \"b\", with the length of 1. \n",
    "\n",
    "Given \"pwwkew\", the answer is \"wke\", with the length of 3. Note that the answer must be a substring, \"pwke\" is a subsequence and not a substring. "
   ]
  },
  {
   "cell_type": "markdown",
   "metadata": {},
   "source": [
    "# Solution:\n",
    "找重复最方便的数据结构是dict和set。此题同样使用sliding window，当没有重复的时候向右扩大窗口并更新length，当出现重复的时候从左缩小窗口\n",
    "\n",
    "改进：如果从左缩进每次只有一步会很慢，因此可以用dict记录每一个字符最新出现的下标，如果在窗口内出现重复直接从下标的下一个作为新窗口边界"
   ]
  },
  {
   "cell_type": "code",
   "execution_count": 26,
   "metadata": {},
   "outputs": [
    {
     "data": {
      "text/plain": [
       "9"
      ]
     },
     "execution_count": 26,
     "metadata": {},
     "output_type": "execute_result"
    }
   ],
   "source": [
    "def lengthOfLongestSubstring(s):\n",
    "    start = 0\n",
    "    length = 0\n",
    "    dic = {} # s : index\n",
    "    for j in range(len(s)):\n",
    "        if s[j] in dic and start <= dic[s[j]]:\n",
    "            start = dic[s[j]] + 1\n",
    "        else:\n",
    "#             dic[s[j]] = j\n",
    "            length = max(length, j - start + 1)\n",
    "        dic[s[j]] = j # dic不管s[j]是否重复了都要更新\n",
    "        \n",
    "    return length\n",
    "\n",
    "s = 'dxyzabcaxyzlmnbcbb'\n",
    "lengthOfLongestSubstring(s)"
   ]
  },
  {
   "cell_type": "markdown",
   "metadata": {},
   "source": [
    "### <a id='Ex2'> Ex.2 Find All Anagrams in a String\n",
    "\n",
    "Given a string s and a non-empty string p, find all the start indices of p’s anagrams in s.\n",
    "\n",
    "Strings consists of lowercase English letters only and the length of both strings s and p will not be larger than 20,100.\n",
    "The order of output does not matter.\n",
    "\n",
    "Input:\n",
    "\n",
    "s: “cbaebabacd” p: “abc”\n",
    "\n",
    "Output:\n",
    "\n",
    "[0, 6]\n",
    "\n",
    "Explanation:\n",
    "\n",
    "The substring with start index = 0 is “cba”, which is an anagram of “abc”.\n",
    "\n",
    "The substring with start index = 6 is “bac”, which is an anagram of “abc”."
   ]
  },
  {
   "cell_type": "code",
   "execution_count": 35,
   "metadata": {},
   "outputs": [
    {
     "data": {
      "text/plain": [
       "[0]"
      ]
     },
     "execution_count": 35,
     "metadata": {},
     "output_type": "execute_result"
    }
   ],
   "source": [
    "# 题目解析：在s中找到p的anagrams，anagrams是指一个字符串的所有乱序形势\n",
    "# 未完待做.................................................................\n",
    "import collections\n",
    "def findAnagrams(s, p):\n",
    "    begin, end = 0, 0\n",
    "    count = len(p)\n",
    "    d = collections.Counter(p)\n",
    "    res = []\n",
    "    \n",
    "    while end < len(s):\n",
    "#         print(count)\n",
    "#         print(s[end], d[s[end]])\n",
    "        if s[end] in d and d[s[end]] > 0:\n",
    "#             print('*'*9)\n",
    "            count -= 1\n",
    "            d[s[end]] -= 1\n",
    "        end += 1\n",
    "        \n",
    "        if count == 0:\n",
    "            res.append(begin)\n",
    "        \n",
    "        if end - begin == len(p): # 当找到与len(p)同样大小的字串，但不是p的anagram，则缩小窗口\n",
    "            if s[begin] in d:\n",
    "                d[s[begin]] += 1\n",
    "                count += 1\n",
    "            begin += 1\n",
    "    \n",
    "    return res\n",
    "\n",
    "s = \"cbaebabacd\"\n",
    "p = \"abc\"\n",
    "\n",
    "findAnagrams(s, p)\n",
    "            "
   ]
  },
  {
   "cell_type": "markdown",
   "metadata": {},
   "source": [
    "### <a id='Ex3'> Ex.3 Minimum Window Substring\n",
    "\n",
    "Given a string S and a string T, find the minimum window in S which will contain all the characters in T in complexity O(n).\n",
    "\n",
    "For example,\n",
    "\n",
    "S = “ADOBECODEBANC”\n",
    "\n",
    "T = “ABC”\n",
    "\n",
    "Minimum window is “BANC”.\n",
    "\n",
    "** Note: **\n",
    "\n",
    "If there is no such window in S that covers all characters in T, return the empty string “”.\n",
    "\n",
    "If there are multiple such windows, you are guaranteed that there will always be only one unique minimum window in S."
   ]
  },
  {
   "cell_type": "code",
   "execution_count": 3,
   "metadata": {},
   "outputs": [
    {
     "ename": "NameError",
     "evalue": "name 'collections' is not defined",
     "output_type": "error",
     "traceback": [
      "\u001b[1;31m---------------------------------------------------------------------------\u001b[0m",
      "\u001b[1;31mNameError\u001b[0m                                 Traceback (most recent call last)",
      "\u001b[1;32m<ipython-input-3-445805db0246>\u001b[0m in \u001b[0;36m<module>\u001b[1;34m\u001b[0m\n\u001b[0;32m     42\u001b[0m \u001b[0ms\u001b[0m \u001b[1;33m=\u001b[0m \u001b[1;34m\"ADOBECODEBANCC\"\u001b[0m\u001b[1;33m\u001b[0m\u001b[0m\n\u001b[0;32m     43\u001b[0m \u001b[0mt\u001b[0m \u001b[1;33m=\u001b[0m \u001b[1;34m\"ABCC\"\u001b[0m\u001b[1;33m\u001b[0m\u001b[0m\n\u001b[1;32m---> 44\u001b[1;33m \u001b[0mminWindow\u001b[0m\u001b[1;33m(\u001b[0m\u001b[0ms\u001b[0m\u001b[1;33m,\u001b[0m \u001b[0mt\u001b[0m\u001b[1;33m)\u001b[0m\u001b[1;33m\u001b[0m\u001b[0m\n\u001b[0m",
      "\u001b[1;32m<ipython-input-3-445805db0246>\u001b[0m in \u001b[0;36mminWindow\u001b[1;34m(s, t)\u001b[0m\n\u001b[0;32m      9\u001b[0m     \u001b[1;32mif\u001b[0m \u001b[0mlen\u001b[0m\u001b[1;33m(\u001b[0m\u001b[0mt\u001b[0m\u001b[1;33m)\u001b[0m \u001b[1;33m>\u001b[0m \u001b[0mlen\u001b[0m\u001b[1;33m(\u001b[0m\u001b[0ms\u001b[0m\u001b[1;33m)\u001b[0m\u001b[1;33m:\u001b[0m\u001b[1;33m\u001b[0m\u001b[0m\n\u001b[0;32m     10\u001b[0m         \u001b[1;32mreturn\u001b[0m \u001b[1;34m''\u001b[0m\u001b[1;33m\u001b[0m\u001b[0m\n\u001b[1;32m---> 11\u001b[1;33m     \u001b[0mct\u001b[0m \u001b[1;33m=\u001b[0m \u001b[0mcollections\u001b[0m\u001b[1;33m.\u001b[0m\u001b[0mCounter\u001b[0m\u001b[1;33m(\u001b[0m\u001b[0mt\u001b[0m\u001b[1;33m)\u001b[0m\u001b[1;33m\u001b[0m\u001b[0m\n\u001b[0m\u001b[0;32m     12\u001b[0m     \u001b[0mcount\u001b[0m \u001b[1;33m=\u001b[0m \u001b[0mlen\u001b[0m\u001b[1;33m(\u001b[0m\u001b[0mt\u001b[0m\u001b[1;33m)\u001b[0m\u001b[1;33m\u001b[0m\u001b[0m\n\u001b[0;32m     13\u001b[0m     \u001b[0mansLeft\u001b[0m \u001b[1;33m=\u001b[0m \u001b[1;36m0\u001b[0m\u001b[1;33m\u001b[0m\u001b[0m\n",
      "\u001b[1;31mNameError\u001b[0m: name 'collections' is not defined"
     ]
    }
   ],
   "source": [
    "# Solution: 可以用counter记录t在s中出现的次数，用count记录是否符合了window。\n",
    "# 当count[s[i]] > 0的时候代表这个数是存在于t中的，且窗口中出现s[i]的次数还没达到t中出现的次数，因此遇到了就将count-1\n",
    "# 当count==0的时候意味着这个窗口符合了规则，因此可以记录下当前的宽度并与全局宽度比较。\n",
    "# 同时当窗口符合规则后就要打破这个窗口，从左边进行缩小。同时将ct+1。\n",
    "# 只有当ct[s[left]]==0的时候，才对count+1因为这意味着退出left之后，就不满足window了\n",
    "\n",
    "import sys\n",
    "def minWindow(s, t):\n",
    "    if len(t) > len(s):\n",
    "        return ''\n",
    "    ct = collections.Counter(t)\n",
    "    count = len(t)\n",
    "    ansLeft = 0\n",
    "    ansRight = 0\n",
    "    minLength = sys.maxsize\n",
    "    notFound = True\n",
    "    left = 0\n",
    "    right = 0\n",
    "    \n",
    "    for i in range(len(s)):\n",
    "        if ct[s[i]] > 0:\n",
    "            count -= 1\n",
    "        ct[s[i]] -= 1\n",
    "        \n",
    "        while count == 0:\n",
    "            right = i\n",
    "            notFound = False\n",
    "            if right - left < minLength:\n",
    "                minLength = right - left\n",
    "                ansLeft = left\n",
    "                ansRight = right\n",
    "            \n",
    "            if ct[s[left]] == 0:\n",
    "                count += 1\n",
    "            ct[s[left]] += 1\n",
    "            left += 1\n",
    "        \n",
    "    if notFound == True:\n",
    "        return ''\n",
    "    return s[ansLeft : ansRight + 1]\n",
    "\n",
    "s = \"ADOBECODEBANCC\"\n",
    "t = \"ABCC\"\n",
    "minWindow(s, t)"
   ]
  },
  {
   "cell_type": "code",
   "execution_count": 8,
   "metadata": {},
   "outputs": [
    {
     "data": {
      "text/plain": [
       "'BANCC'"
      ]
     },
     "execution_count": 8,
     "metadata": {},
     "output_type": "execute_result"
    }
   ],
   "source": [
    "from collections import Counter\n",
    "\n",
    "def minWindow(s, t):\n",
    "    count = len(t)\n",
    "    counter = Counter(t)\n",
    "    l = 0\n",
    "    ansLeft = 0\n",
    "    ansRight = 0\n",
    "    minLength = 0x7fffffff\n",
    "    notFound = True\n",
    "    \n",
    "    for r in range(len(s)):\n",
    "        if counter[s[r]] > 0:\n",
    "            count -= 1\n",
    "        counter[s[r]] -= 1  # 注意这里counter[s[r]] -= 1不能写在if里面，因为下面判断counter[s[l]] == 0的时候，其他字符都是符合条件的\n",
    "        \n",
    "        while count == 0:\n",
    "            notFound = False\n",
    "            if minLength > r - l:\n",
    "                minLength = r - l\n",
    "                ansLeft = l\n",
    "                ansRight = r\n",
    "            if counter[s[l]] == 0:\n",
    "                count += 1\n",
    "            counter[s[l]] += 1\n",
    "            l += 1\n",
    "    \n",
    "    return s[ansLeft:ansRight+1]\n",
    "\n",
    "s = \"ADOBECODEBANCC\"\n",
    "t = \"ABCC\"\n",
    "minWindow(s, t)"
   ]
  },
  {
   "cell_type": "markdown",
   "metadata": {},
   "source": [
    "### <a id='Ex6'> Ex.6 Sliding Window Maximum\n",
    "\n",
    "Given an array nums, there is a sliding window of size k which is moving from the very left of the array to the very right. You can only see the k numbers in the window. Each time the sliding window moves right by one position.\n",
    "\n",
    "For example,\n",
    "\n",
    "Given nums = [1,3,-1,-3,5,3,6,7], and k = 3.\n",
    "\n",
    "<img src=\"../images/ch20/slidingwindowmax.jpg\" width=\"260\"/>"
   ]
  },
  {
   "cell_type": "code",
   "execution_count": null,
   "metadata": {
    "collapsed": true
   },
   "outputs": [],
   "source": [
    "# 暴力破法是每次都计算窗口的最大值，但是这会很慢\n",
    "# 这里采用的方法是用一个deque，其中存放可能的最大值，左端是最大值，每进来一个值就判断其前面的值是否比它小，比他小就pop出去。\n",
    "def maxSlidingWindow(nums, k):\n",
    "    d = collections.deque()\n",
    "    out = []\n",
    "    for i, n in enumerate(nums):\n",
    "        while d and nums[d[-1]] < n:\n",
    "            d.pop()\n",
    "        d += i\n",
    "        if i - d[0] >= k: # 判断当前最大值是否在窗口内，因为d[0]不一定是最早进来的所以不能是每超出都pop\n",
    "            d.popleft()\n",
    "        if i >= k - 1: # 满足窗口条件后\n",
    "            out.append(nums[d[0]])\n",
    "    return out"
   ]
  }
 ],
 "metadata": {
  "kernelspec": {
   "display_name": "Python 3",
   "language": "python",
   "name": "python3"
  },
  "language_info": {
   "codemirror_mode": {
    "name": "ipython",
    "version": 3
   },
   "file_extension": ".py",
   "mimetype": "text/x-python",
   "name": "python",
   "nbconvert_exporter": "python",
   "pygments_lexer": "ipython3",
   "version": "3.6.1"
  }
 },
 "nbformat": 4,
 "nbformat_minor": 2
}
