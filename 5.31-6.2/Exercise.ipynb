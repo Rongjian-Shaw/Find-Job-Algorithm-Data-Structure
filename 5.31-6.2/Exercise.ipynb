{
 "cells": [
  {
   "cell_type": "markdown",
   "metadata": {},
   "source": [
    "### Ex.9: Heaters\n",
    "\n",
    "Winter is coming! Your first job during the contest is to design a standard heater with fixed warm radius to warm all the houses.\n",
    "\n",
    "Now, you are given positions of houses and heaters on a horizontal line, find out minimum radius of heaters so that all houses could be covered by those heaters.\n",
    "\n",
    "So, your input will be the positions of houses and heaters seperately, and your expected output will be the minimum radius standard of heaters.\n",
    "\n",
    "** Note: **\n",
    "\n",
    "Numbers of houses and heaters you are given are non-negative and will not exceed 25000.\n",
    "\n",
    "Positions of houses and heaters you are given are non-negative and will not exceed 10^9.\n",
    "\n",
    "As long as a house is in the heaters' warm radius range, it can be warmed.\n",
    "\n",
    "All the heaters follow your radius standard and the warm radius will the same.\n",
    "\n",
    "** Example 1: **\n",
    "\n",
    "Input: [1,2,3],[2]\n",
    "\n",
    "Output: 1\n",
    "\n",
    "Explanation: The only heater was placed in the position 2, and if we use the radius 1 standard, then all the houses can be warmed.\n",
    "\n",
    "** Example 2: **\n",
    "\n",
    "Input: [1,2,3,4],[1,4]\n",
    "\n",
    "Output: 1\n",
    "\n",
    "Explanation: The two heater was placed in the position 1 and 4. We need to use radius 1 standard, then all the houses can be warmed."
   ]
  },
  {
   "cell_type": "markdown",
   "metadata": {},
   "source": [
    "\n",
    "** Solution **\n",
    "The idea is to leverage decent bisect function provided by Python.\n",
    "\n",
    "For each house, find its position between those heaters (thus we need the heaters array to be sorted).\n",
    "\n",
    "Calculate the distances between this house and left heater and right heater, get a MIN value of those two values. Corner cases are there is no left or right heater.\n",
    "\n",
    "Get MAX value among distances in step 2. It’s the answer."
   ]
  },
  {
   "cell_type": "code",
   "execution_count": 6,
   "metadata": {},
   "outputs": [
    {
     "data": {
      "text/plain": [
       "1"
      ]
     },
     "execution_count": 6,
     "metadata": {},
     "output_type": "execute_result"
    }
   ],
   "source": [
    "'''\n",
    "Solution：对每一个house找到离他最近的heater，然后找出所有house与heater距离最大的那个，即heater的半径\n",
    "'''\n",
    "from bisect import bisect\n",
    "\n",
    "def findRadius(houses, heaters):\n",
    "    #因为相当于在heater中插入数值，因此需要先对heater进行排序\n",
    "    heaters.sort()\n",
    "    r = 0\n",
    "    \n",
    "    for house in houses:\n",
    "        #bisect(a, x): Return the index where to insert item x in list a, assuming a is sorted.\n",
    "        insert_index = bisect(heaters, house)\n",
    "        #计算house两边heater的坐标\n",
    "        #如果house坐标为0的话，其左边没有heater,所以house坐标为零的话，left要为正无穷\n",
    "        #如果在[0,3]中插入2，那插入的index一定是1，即原来3所在的位置，所以插入数左边的数就一定是index - 1\n",
    "        left = heaters[insert_index - 1] if insert_index > 0 else float('inf')\n",
    "        #找到house右边的heater\n",
    "        #如果house右边没有heater了，即 index==len(heaters), 那么right = 负无穷\n",
    "        right = heaters[insert_index] if insert_index < len(heaters) else float('-inf')\n",
    "        #找出最大的那个distance\n",
    "        #如果house在所有heater的两侧，那么min会返回一个负无穷，所以max还是选原来的r\n",
    "        r = max(r, min(house - left, right - house))\n",
    "    \n",
    "    return r\n",
    "        \n",
    "houses = [1,2,3,4]\n",
    "heaters = [1,4]\n",
    "findRadius(houses, heaters)"
   ]
  },
  {
   "cell_type": "markdown",
   "metadata": {},
   "source": [
    "### Ex.10: sqrt(x)\n",
    "\n",
    "Implement int sqrt(int x).\n",
    "\n",
    "Compute and return the square root of x.\n",
    "\n",
    "x is guaranteed to be a non-negative integer."
   ]
  },
  {
   "cell_type": "code",
   "execution_count": 44,
   "metadata": {
    "scrolled": true
   },
   "outputs": [
    {
     "name": "stdout",
     "output_type": "stream",
     "text": [
      "1 121 61\n",
      "1 61 31\n",
      "1 31 16\n",
      "1 16 8\n",
      "8 16 12\n",
      "8 12 10\n",
      "10 12 11\n"
     ]
    },
    {
     "data": {
      "text/plain": [
       "11"
      ]
     },
     "execution_count": 44,
     "metadata": {},
     "output_type": "execute_result"
    }
   ],
   "source": [
    "'''\n",
    "Solution: 二分法，判断要求：mid²和x的关系\n",
    "'''\n",
    "\n",
    "def sqrt(x):\n",
    "    if x <= 0:\n",
    "        return -1\n",
    "    \n",
    "    left, right = 1, x\n",
    "    while left + 1 < right:\n",
    "        mid = left + (right - left) // 2\n",
    "        \n",
    "        print(left, right, mid)\n",
    "        \n",
    "        if mid**2 == x:\n",
    "            return mid\n",
    "        elif mid**2 < x:\n",
    "            left = mid  #此处二分法使用的环境不同于重复数组中找特定数字，因此使用+1，-1可以缩短时间\n",
    "        else:\n",
    "            right = mid\n",
    "    \n",
    "    #此处循环条件left + 1 < right表明了循环结束时left + 1 == right\n",
    "    #对某个数开根取整只是向下取整，因此选小的那个数即可，也就是right\n",
    "    #取小的那个，即left\n",
    "    return left\n",
    "\n",
    "sqrt(121)\n",
    "    "
   ]
  },
  {
   "cell_type": "markdown",
   "metadata": {},
   "source": [
    "### Ex.11: 矩阵搜索\n",
    "\n",
    "在一个N*M的矩阵里，每一行都是排好序的，每一列也都是排好序的，请设计一个算法在矩阵中查找一个数。"
   ]
  },
  {
   "cell_type": "code",
   "execution_count": 64,
   "metadata": {},
   "outputs": [
    {
     "name": "stdout",
     "output_type": "stream",
     "text": [
      "3 0\n",
      "2 0\n",
      "1 0\n",
      "1 1\n"
     ]
    },
    {
     "data": {
      "text/plain": [
       "(1, 1)"
      ]
     },
     "execution_count": 64,
     "metadata": {},
     "output_type": "execute_result"
    }
   ],
   "source": [
    "'''\n",
    "Solution: 题目的条件是每行每列都是升序的，那么可以利用这一点。\n",
    "那么有没有办法可以让程序自己去寻找一个路径？也就是说对于路径走到任何一个数，如果给定条件的话，只有一个方向走\n",
    "矩阵中，位置有2，3，4三种可能的方向个数，比如四个角的地方有2个方向可以走，除去外圈的所有数有4个方向可以走\n",
    "那如果每到一个数就根据该数和target的大小去判断下一步的方向，怎么才能确认下一步的方向只有一个呢？\n",
    "比如矩阵\n",
    "[1, 4, 8, 10,15],\n",
    "[3, 5, 6, 7, 20],\n",
    "[9, 20,22,24,29],\n",
    "[11,22,23,29,39]\n",
    "如果从1出发，那就算知道了target比1大，也不知道向左走还是向右走\n",
    "同理，3，9，4，8，10等这些数也无法具体下一步走向\n",
    "如果从39出发，那所有数都比target大\n",
    "最后发现，只有11和15这两个位置可以保证在知道target的情况下，下一步该往哪里走\n",
    "'''\n",
    "\n",
    "def search_in_matrix(matrix, target):\n",
    "    #这里使用从左下角出发的方法开始搜寻\n",
    "    if len(matrix) == 0:\n",
    "        return -1\n",
    "    \n",
    "    row, col = len(matrix) - 1, 0\n",
    "    \n",
    "    #只能往上和右走\n",
    "    while row >= 0 and col <= len(matrix[0]):\n",
    "        print(row, col)\n",
    "        cur = matrix[row][col]\n",
    "        if cur == target:\n",
    "            return (row, col)\n",
    "        #当target大于当前节点的时候，只能往上走\n",
    "        elif target < cur:\n",
    "            row = row - 1\n",
    "        #当target小于当前节点的时候，只能往右走\n",
    "        elif target > cur:\n",
    "            col = col + 1\n",
    "    \n",
    "    return -1\n",
    "\n",
    "matrix = [\n",
    "    [1, 4, 8, 10,15],\n",
    "    [3, 5, 6, 7, 20],\n",
    "    [9, 20,22,24,29],\n",
    "    [11,22,23,29,39]\n",
    "]\n",
    "target = 5\n",
    "search_in_matrix(matrix, target)"
   ]
  },
  {
   "cell_type": "markdown",
   "metadata": {},
   "source": [
    "### Ex.12: 矩阵搜索II\n",
    "\n",
    "在一个N*M的矩阵里，每一行都是排好序的，每一列也都是排好序的，请设计一个算法在矩阵中查找第K大的数。"
   ]
  },
  {
   "cell_type": "code",
   "execution_count": null,
   "metadata": {
    "collapsed": true
   },
   "outputs": [],
   "source": []
  },
  {
   "cell_type": "markdown",
   "metadata": {},
   "source": [
    "### Ex.13: Merge Intervals\n",
    "\n",
    "Given a collection of intervals, merge all overlapping intervals.\n",
    "\n",
    "<img src=\"../images/ch05/mergeinterval.png\" width=\"580\"/>"
   ]
  },
  {
   "cell_type": "markdown",
   "metadata": {},
   "source": [
    "## Solution:\n",
    "分三种情况讨论\n",
    "1. 两不相交，这个情况选择跳过。比如[1,2],[3,4]\n",
    "2. 相交，通过前一个的end和后一个的start比较，符合条件则合并。如，[1,3],[2,4] -> [1,4]\n",
    "3. 包含，先判断2的情况，如果符合2，则判断前一个的end和下一个end的比较。若属于包含关系，则只添加大的那个区间."
   ]
  },
  {
   "cell_type": "code",
   "execution_count": 52,
   "metadata": {},
   "outputs": [
    {
     "data": {
      "text/plain": [
       "[[1, 4], [5, 6]]"
      ]
     },
     "execution_count": 52,
     "metadata": {},
     "output_type": "execute_result"
    }
   ],
   "source": [
    "def merge(intervals):\n",
    "    # 传入的intervals为二维列表，第二维的大小为2，如[[1,2],[3,4]]\n",
    "    # 确保区间之间的有序，根据每个区间的start排序\n",
    "    intervals.sort(key = lambda x:x[0])\n",
    "    # 定义合并后的区间\n",
    "    merged = []\n",
    "    \n",
    "    for interval in intervals:\n",
    "        # merge为空或没有重合的情况，直接添加\n",
    "        if not merged or merged[-1][1] < interval[0]:\n",
    "            merged.append(interval)\n",
    "        # 否则合并，即判断当前merge最后一个的右区间和interval的右区间大小\n",
    "        else:\n",
    "            merged[-1][1] = max(merged[-1][1], interval[1])\n",
    "    \n",
    "    return merged\n",
    "\n",
    "intervals = [[2,4],[1,3],[5,6]]\n",
    "merge(intervals)"
   ]
  },
  {
   "cell_type": "markdown",
   "metadata": {},
   "source": [
    "## 优化：in_place\n",
    "只使用内部空间"
   ]
  },
  {
   "cell_type": "code",
   "execution_count": 56,
   "metadata": {},
   "outputs": [
    {
     "data": {
      "text/plain": [
       "[[1, 4], [5, 8]]"
      ]
     },
     "execution_count": 56,
     "metadata": {},
     "output_type": "execute_result"
    }
   ],
   "source": [
    "def merge_in_place(intervals):\n",
    "    # 传入的intervals为二维列表，第二维的大小为2，如[[1,2],[3,4]]\n",
    "    # 确保区间之间的有序，根据每个区间的start排序\n",
    "    intervals.sort(key = lambda x:x[0])\n",
    "    flag = 0 # 0表示前后不重合，1表示重合\n",
    "    for i in range(0, len(intervals) - 1):\n",
    "        # 由于在intervals内部操作，intervals会一直变小，因此需要判断是否已经遍历完intervals\n",
    "        if len(intervals) - 1 - i <= 0:\n",
    "            break\n",
    "        # 两不相交\n",
    "        if intervals[i][1] < intervals[i+1][0]:\n",
    "            continue\n",
    "        # 需要合并的情况\n",
    "        else:\n",
    "            # 相交不包含\n",
    "            if intervals[i][1] < intervals[i+1][1]:\n",
    "                intervals[i][1] = intervals[i+1][1]   \n",
    "            # 不管包含与否都要删除后面那个区间\n",
    "            intervals.remove(intervals[i+1])\n",
    "            # i一定要回退一位，因为remove掉后面的区间后i再+1的话会跳到原来的下下个区间，\n",
    "            # 比如[[1,3],[2,4],[5,7],[6,8]], i在[1,3]的时候发现要remove[2,4]，remove后变成[[1,4],[5,7],[6,8]]，而此时i指在[1,4]上面\n",
    "            # 到下一轮循环的时候，i会指到[5,7]，而我们是希望i指在[1,4]然后去判断[1,4]和[5,7]的关系，因此i一定要回退\n",
    "            i = i - 1\n",
    "    return intervals\n",
    "\n",
    "intervals = [[2,4],[1,3],[5,7],[6,8]]\n",
    "merge_in_place(intervals)               "
   ]
  },
  {
   "cell_type": "markdown",
   "metadata": {},
   "source": [
    "### Ex.14: Insert Intervals\n",
    "    \n",
    "Given a set of non-overlapping intervals, insert a new interval into the intervals (merge if necessary).\n",
    "\n",
    "You may assume that the intervals were initially sorted according to their start times.\n",
    "\n",
    "<img src=\"../images/ch05/insertinterval.png\" width=\"580\"/>"
   ]
  },
  {
   "cell_type": "markdown",
   "metadata": {},
   "source": [
    "## Solution：\n",
    "方法一，新区间直接放进去，然后直接调用合并区间算法\n",
    "<br>\n",
    "方法二：\n",
    "\n",
    "    1. 根据左区间判断新区间的插入位置\n",
    "    \n",
    "    2. 判断插入位置的左边与插入区间的关系：1.相离 2.相交 3.包含，根据不同情况进行插入或合并\n",
    "    \n",
    "    3. 判断新区间的右区间与插入位置右侧区间的左区间的关系 1.不交叉则return 2.交叉则完成合并"
   ]
  },
  {
   "cell_type": "code",
   "execution_count": 2,
   "metadata": {},
   "outputs": [
    {
     "data": {
      "text/plain": [
       "[[1, 2], [3, 7], [7, 8]]"
      ]
     },
     "execution_count": 2,
     "metadata": {},
     "output_type": "execute_result"
    }
   ],
   "source": [
    "def insert(intervals, newInterval):\n",
    "    for i in range(len(intervals)):\n",
    "        # 根据左区间找到对应插入位置\n",
    "        if intervals[i][0] > newInterval[0]:\n",
    "            # 判断新区间与左侧区间的关系\n",
    "            # 相离\n",
    "            if intervals[i-1][1] < newInterval[0]:\n",
    "                intervals.insert(i, newInterval)\n",
    "                i = i + 1\n",
    "            # 相交\n",
    "            else:\n",
    "                # 相交不包含\n",
    "                if intervals[i-1][1] < newInterval[1]:\n",
    "                    intervals[i-1][1] = newInterval[1]\n",
    "                # 包含不需要任何操作\n",
    "            \n",
    "            # 判断新区间与插入位置右侧区间的情况\n",
    "            # 相交则完成合并\n",
    "            if intervals[i][0] <= newInterval[1]:\n",
    "                intervals[i-1][1] = intervals[i][1]\n",
    "                intervals.remove(intervals[i])\n",
    "            # 插入操作完成后，推出循环\n",
    "            break\n",
    "            \n",
    "            # 如果插入的位置在最右侧\n",
    "        if i == len(intervals) - 1:\n",
    "            # 判断最后一个区间与新区间的关系\n",
    "            # 相离\n",
    "            if intervals[i][1] < newInterval[0]:\n",
    "                intervals.append(newInterval)\n",
    "            else:\n",
    "                intervals[i][1] = newInterval[1]\n",
    "                    \n",
    "    return intervals\n",
    "        \n",
    "                \n",
    "intervals = [[1,2],[3,4],[6,7],[7,8]]\n",
    "newInterval = [3,9]\n",
    "insert(intervals, newInterval)"
   ]
  },
  {
   "cell_type": "code",
   "execution_count": null,
   "metadata": {
    "collapsed": true
   },
   "outputs": [],
   "source": []
  }
 ],
 "metadata": {
  "kernelspec": {
   "display_name": "Python 3",
   "language": "python",
   "name": "python3"
  },
  "language_info": {
   "codemirror_mode": {
    "name": "ipython",
    "version": 3
   },
   "file_extension": ".py",
   "mimetype": "text/x-python",
   "name": "python",
   "nbconvert_exporter": "python",
   "pygments_lexer": "ipython3",
   "version": "3.6.1"
  }
 },
 "nbformat": 4,
 "nbformat_minor": 2
}
