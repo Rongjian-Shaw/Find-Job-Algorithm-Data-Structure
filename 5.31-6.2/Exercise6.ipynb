{
 "cells": [
  {
   "cell_type": "markdown",
   "metadata": {},
   "source": [
    "### <a id='Ex1'>Ex.1: Fast Power</a>"
   ]
  },
  {
   "cell_type": "markdown",
   "metadata": {},
   "source": [
    "# Solution: a^n\n",
    "常规写法：循环，每层*a <br>\n",
    "分治法：a^n = a^(n/2)^2 = a^(n/2)*a^(n/2) if n is ever |  a^n = a^(n//2)^2*a = a^(n//2)*a^(n//2)*a if n is odd<br>\n",
    "时间复杂度：O（logn）"
   ]
  },
  {
   "cell_type": "code",
   "execution_count": 1,
   "metadata": {},
   "outputs": [
    {
     "data": {
      "text/plain": [
       "32"
      ]
     },
     "execution_count": 1,
     "metadata": {},
     "output_type": "execute_result"
    }
   ],
   "source": [
    "def fast_power(x, n):\n",
    "    if n == 0:\n",
    "        return 1\n",
    "    if n == 1:\n",
    "        return x\n",
    "    elif n < 0:\n",
    "        return 1/fast_power(x,-n)\n",
    "    # 当n是奇数时\n",
    "    elif n % 2 == 1:\n",
    "        return fast_power(x*x, n//2) * x\n",
    "    # 当n是偶数时\n",
    "    elif n % 2 == 0:\n",
    "        return fast_power(x*x, n/2)\n",
    "\n",
    "fast_power(2, 5)"
   ]
  },
  {
   "cell_type": "markdown",
   "metadata": {},
   "source": [
    "### <a id='Ex2'>Ex.2: Fibonacci sequence by Matrix</a>"
   ]
  },
  {
   "cell_type": "code",
   "execution_count": null,
   "metadata": {
    "collapsed": true
   },
   "outputs": [],
   "source": []
  },
  {
   "cell_type": "markdown",
   "metadata": {},
   "source": [
    "### <a id='Ex3'>Ex.3: Search Peak Element</a>\n",
    "\n",
    "The array has no duplicates, may contain multiple peaks, return the index to any one of the peaks.\n",
    "\n",
    "You may imagine that num[-1] = num[n] = -∞. "
   ]
  },
  {
   "cell_type": "markdown",
   "metadata": {},
   "source": [
    " # Solution:\n",
    "二分法：由于两侧是负无穷，也就是说两侧最终一定是往下降的。重点就在于这，在中间任取一个点然后往两侧各走一步，有四种情况。\n",
    "<br>\n",
    "^ : 峰型，那这个点就是我们要找的点\n",
    "<br>\n",
    "v: 谷型，两侧呈上升趋势，也就是说该点两侧（一定距离）必都有峰值，因为两极端都是往下降的。\n",
    "<br>\n",
    "\\：下降型，也就是说左侧必由峰值\n",
    "<br>\n",
    "/： 上升型，右侧必由峰值\n",
    "<br>\n",
    "时间复杂度 O(lgn)"
   ]
  },
  {
   "cell_type": "code",
   "execution_count": 14,
   "metadata": {},
   "outputs": [
    {
     "data": {
      "text/plain": [
       "4"
      ]
     },
     "execution_count": 14,
     "metadata": {},
     "output_type": "execute_result"
    }
   ],
   "source": [
    "def peak_helper(alist):\n",
    "    if len(alist) == 0:\n",
    "        return -1\n",
    "    left, right = 0, len(alist) - 1\n",
    "    while left < right: #因为数组中没有重复值可以这么写\n",
    "        mid = left + (right - left) // 2\n",
    "        # 峰型\n",
    "        if alist[mid-1] < alist[mid] and alist[mid+1] < alist[mid]:\n",
    "            return mid\n",
    "        # 下降型\n",
    "        elif alist[mid-1] > alist[mid] > alist[mid+1]:\n",
    "            right = mid - 1\n",
    "        # 上升型和谷型\n",
    "        else:\n",
    "            left = mid + 1\n",
    "    \n",
    "    \n",
    "# 一些感想：二分法中，如果数组规定没有重复值的话，可以使用left<right这种写法，但是下面也要写成left=mid+1, right=mid-1,因为如果写成\n",
    "# left=mid或者right=mid，那么往下一步操作的话可能陷入死循环，因为当left和right相邻的时候，且一直做left=mid操作的话，mid可能一直等于left。\n",
    "\n",
    "alist = [-1, 1, 3, 2, 8, 7, 4, 2, -1]\n",
    "# alist = [-1,1,2,3,4,5,6,7,8,7,-1]\n",
    "\n",
    "peak_helper(alist)"
   ]
  },
  {
   "cell_type": "markdown",
   "metadata": {},
   "source": [
    "### <a id='Ex4'>Ex.4: Find Medium / Find kth Element</a>"
   ]
  },
  {
   "cell_type": "markdown",
   "metadata": {},
   "source": [
    "# Solution：\n",
    "使用快速排序的思路：每一轮循环都把一个元素归为到其排好序的位置上<br>\n",
    "那么先找出一个元素m正确的位置，判断第k小个元素比这个快排后的元素m大还是小来确定下一步该往前走还是后走"
   ]
  },
  {
   "cell_type": "code",
   "execution_count": 1,
   "metadata": {},
   "outputs": [
    {
     "data": {
      "text/plain": [
       "5"
      ]
     },
     "execution_count": 1,
     "metadata": {},
     "output_type": "execute_result"
    }
   ],
   "source": [
    "def findKthSmallest(nums, k):\n",
    "    if len(nums) == 0:\n",
    "        return -1\n",
    "    pos = partition(nums)\n",
    "    if k == pos:\n",
    "        return nums[pos]\n",
    "    if k < pos:\n",
    "        return findKthSmallest(nums[:pos], k) #这里不要写成pos-1，因为[]右括号这边的元素是不算进区间的\n",
    "    if k > pos:\n",
    "        return findKthSmallest(nums[pos+1:], k-pos-1) # k最小为0\n",
    "# 选最左侧为pivot\n",
    "# 使用左右指针的方法\n",
    "def partition(nums):\n",
    "    l, r = 0, len(nums) - 1\n",
    "    pivot = nums[l]\n",
    "    while l < r:\n",
    "        \n",
    "        while nums[r] > pivot and l < r:\n",
    "            r -= 1\n",
    "        nums[l] = nums[r]\n",
    "        # 左指针向左移动直到找到比pivot大的数\n",
    "        while nums[l] < pivot and l < r:\n",
    "            l += 1\n",
    "        nums[r] = nums[l]\n",
    "    # 循环结束后，l == r\n",
    "    nums[l] = pivot\n",
    "    return l\n",
    "# 对partition2的理解：\n",
    "# 1. 如果左端的数作pivot，那一定是从右指针开始移动，因为第一个数需要和pivot进行替换，而左侧代表着最小\n",
    "# 2. 最后l与r必定重合，而且重合的位置一定刚刚被复制到另一个地方，也就是说重合位置上的数一定是冗余的\n",
    "# 3. 冗余位的两侧必定已经符合条件（都被遍历过）\n",
    "nums = [3,1,2,5,4,6]\n",
    "# partition(nums)\n",
    "findKthSmallest(nums, 4)"
   ]
  },
  {
   "cell_type": "markdown",
   "metadata": {
    "collapsed": true
   },
   "source": [
    "### <a id='Ex5'>Ex.5: Count Inversions</a>\n",
    "\n",
    "** Define the number of inversion **\n",
    "    i, j form an inversion if a[i] > a[j] for any i < j, that is, if the two elements a[i] and a[j] are \"out of order\"."
   ]
  },
  {
   "cell_type": "markdown",
   "metadata": {},
   "source": [
    "# Solution:\n",
    "归并排序的思路: 每次将数组分开，合并的时候计算逆序对的个数。"
   ]
  },
  {
   "cell_type": "code",
   "execution_count": 1,
   "metadata": {},
   "outputs": [
    {
     "data": {
      "text/plain": [
       "([2, 5, 6, 7], 2)"
      ]
     },
     "execution_count": 1,
     "metadata": {},
     "output_type": "execute_result"
    }
   ],
   "source": [
    "def merge(left,right):\n",
    "    i, j = 0, 0\n",
    "    mergedArray = []\n",
    "    count = 0\n",
    "    while i < len(left) and j < len(right):\n",
    "        if left[i] < right[j]:\n",
    "            mergedArray.append(left[i])\n",
    "            i += 1\n",
    "        elif left[i] > right[j]: # 出现逆序对 坑点：这了不要写成if，不然出大问题\n",
    "            mergedArray.append(right[j])\n",
    "            j += 1\n",
    "            count += len(left) - i # 如果发现了right[j] < left[i]的情况，那么i本身包括i后面的所有元素对right[j]来说都是逆序对\n",
    "    mergedArray += left[i:]\n",
    "    mergedArray += right[j:]\n",
    "    return mergedArray, count\n",
    "            \n",
    "def countInvFast(array):\n",
    "    if len(array) < 2:\n",
    "        return array, 0\n",
    "    mid = len(array) // 2\n",
    "    left, countInvLeft = countInvFast(array[:mid])\n",
    "    right, countInvRight = countInvFast(array[mid:])\n",
    "    mergedArray, count = merge(left, right)\n",
    "    return mergedArray, count\n",
    "\n",
    "array = [5, 6, 2, 7]\n",
    "countInvFast(array)"
   ]
  },
  {
   "cell_type": "markdown",
   "metadata": {},
   "source": [
    "### <a id='Ex6'>Ex.6: Find index of an extra element present in one sorted array</a>\n",
    "\n",
    "Given two sorted arrays. \n",
    "\n",
    "There is only 1 difference between the arrays. First array has one element extra added in between. \n",
    "\n",
    "Find the *index* of the extra element.\n",
    "\n",
    "Examples:\n",
    "\n",
    "Input : {2, 4, 6, 8, 9, 10, 12};\n",
    "        {2, 4, 6, 8, 10, 12};\n",
    "        \n",
    "Output : 4\n",
    "\n",
    "The first array has an extra element 9.\n",
    "\n",
    "The extra element is present at index 4.\n",
    "\n",
    "Input :  {3, 5, 7, 9, 11, 13}\n",
    "         {3, 5, 7, 11, 13}\n",
    "         \n",
    "Output :  3"
   ]
  },
  {
   "cell_type": "markdown",
   "metadata": {},
   "source": [
    "# Solution:\n",
    "二分法的思路：用小数组确定一个mid，每次循环判断arr1[mid]和arr2[mid]是否相等，如果相等，那么缺失的下标一定在mid后面。如果不等，缺失数的下标一定在mid或mid前面。"
   ]
  },
  {
   "cell_type": "code",
   "execution_count": 4,
   "metadata": {},
   "outputs": [
    {
     "data": {
      "text/plain": [
       "9"
      ]
     },
     "execution_count": 4,
     "metadata": {},
     "output_type": "execute_result"
    }
   ],
   "source": [
    "def find_extra_fast(arr1, arr2):\n",
    "    if len(arr1) == 0 or len(arr2) == 0 or len(arr1) != len(arr2) + 1:\n",
    "        return -1\n",
    "    lostIndex = len(arr2)\n",
    "    left, right = 0, len(arr2) - 1\n",
    "    while left + 1 < right:\n",
    "        mid = left + (right - left) // 2\n",
    "        if(arr1[mid] == arr2[mid]):\n",
    "            left = mid\n",
    "        else:\n",
    "            right = mid\n",
    "    \n",
    "    if right == len(arr2): # 缺失数在最后一位\n",
    "        return len(arr2)\n",
    "    else:\n",
    "        if arr1[left] == arr2[left]: #如果left这个位置两数组仍然相等，那么缺失数一定在right\n",
    "            return right # 这么写还可以确保缺失数如果是重复的话，一定返回最右边那个\n",
    "        else:\n",
    "            return left\n",
    "    return -1\n",
    "arr1 = [3,5,7,9,9,9,9,9,9,9,11,13]\n",
    "arr2 = [3,5,7,9,9,9,9,9,9,11,13]\n",
    "find_extra_fast(arr1,arr2)"
   ]
  },
  {
   "cell_type": "markdown",
   "metadata": {},
   "source": [
    " ### <a id='Ex7'>Ex.7: Maximum Sum Subarray</a>\n",
    "\n",
    "Find the sum of contiguous subarray within a one-dimensional array of numbers which has the largest sum.\n",
    "\n",
    "<img src=\"../images/ch06/maxsubarraysum.png\" width=\"320\"/>"
   ]
  },
  {
   "cell_type": "markdown",
   "metadata": {},
   "source": [
    "# Solution:\n",
    "分治法（类似于归并）：从中间分开数组，计算左右两侧的最大字串，然后计算经过中间的最大字串，三者比较大小"
   ]
  },
  {
   "cell_type": "code",
   "execution_count": 17,
   "metadata": {},
   "outputs": [
    {
     "data": {
      "text/plain": [
       "7"
      ]
     },
     "execution_count": 17,
     "metadata": {},
     "output_type": "execute_result"
    }
   ],
   "source": [
    "# O(n lgn)\n",
    "def subarray2(alist):\n",
    "    return subarray2_helper(alist, 0, len(alist)-1)\n",
    "\n",
    "def subarray2_helper(alist, left, right):\n",
    "    if left == right:\n",
    "        return alist[left]\n",
    "    mid = left + (right - left) // 2\n",
    "    leftMax = subarray2_helper(alist, left, mid)\n",
    "    rightMax = subarray2_helper(alist, mid+1, right)\n",
    "    midMax = maxcrossing(alist, left, mid, right)\n",
    "    return max(leftMax, rightMax, midMax)\n",
    "\n",
    "def maxcrossing(alist, left, mid, right):\n",
    "    leftSum = alist[mid]\n",
    "    rightSum = alist[mid+1]\n",
    "    tmpMax = 0\n",
    "    for i in range(mid, left-1, -1):\n",
    "        tmpMax += alist[i]\n",
    "        if tmpMax > leftSum:\n",
    "            leftSum = tmpMax\n",
    "    tmpMax = 0\n",
    "    for i in range(mid+1, right+1):\n",
    "        tmpMax += alist[i]\n",
    "        if tmpMax > rightSum:\n",
    "            rightSum = tmpMax\n",
    "    return leftSum + rightSum\n",
    "\n",
    "alist = [-2,-3,4,-1,-2,1,5,-3]\n",
    "subarray2(alist)"
   ]
  },
  {
   "cell_type": "code",
   "execution_count": 24,
   "metadata": {},
   "outputs": [
    {
     "data": {
      "text/plain": [
       "7"
      ]
     },
     "execution_count": 24,
     "metadata": {},
     "output_type": "execute_result"
    }
   ],
   "source": [
    "# O(n lgn)\n",
    "def subarray2_helper(alist):\n",
    "    left, right = 0, len(alist) - 1\n",
    "#     print('='*30)\n",
    "#     print(alist)\n",
    "#     print(left, right)\n",
    "#     print('='*30)\n",
    "    if left == right:\n",
    "        return alist[left]\n",
    "    mid = left + (right - left) // 2\n",
    "    leftMax = subarray2_helper(alist[:mid+1]) # 坑点：这里不能写成mid，如果写成mid会出现alist[:0]，是一个空数组，l==r这句无法执行\n",
    "    rightMax = subarray2_helper(alist[mid+1:])\n",
    "    midMax = maxcrossing(alist, left, mid, right)\n",
    "    \n",
    "    return max(leftMax, rightMax, midMax)\n",
    "\n",
    "def maxcrossing(alist, left, mid, right):\n",
    "    leftSum = alist[mid]\n",
    "    rightSum = alist[mid+1]\n",
    "    tmpMax = 0\n",
    "    for i in range(mid, left-1, -1):\n",
    "        tmpMax += alist[i]\n",
    "        if tmpMax > leftSum:\n",
    "            leftSum = tmpMax\n",
    "    tmpMax = 0\n",
    "    for i in range(mid+1, right+1):\n",
    "        tmpMax += alist[i]\n",
    "        if tmpMax > rightSum:\n",
    "            rightSum = tmpMax\n",
    "    return leftSum + rightSum\n",
    "\n",
    "alist = [-2,-3,4,-1,-2,1,5,-3]\n",
    "subarray2_helper(alist)"
   ]
  },
  {
   "cell_type": "markdown",
   "metadata": {
    "collapsed": true
   },
   "source": [
    "### <a id='Ex8'>Ex8：Tank Problem</a>\n",
    "\n",
    "Given a tank with capacity C liters which is completely filled in starting. Everyday tank is filled with l liters of water and in the case of overflow extra water is thrown out. Now on i-th day i liters of water is taken out for drinking. We need to find out the day at which tank will become empty the first time.\n",
    "\n",
    "Examples:\n",
    "\n",
    "Input : Capacity = 5, l = 2 \n",
    "\n",
    "Output : 4 \n",
    "\n",
    "At the start of 1st day, water in tank = 5 and at the end of the 1st day = (5 - 1) = 4 \n",
    "\n",
    "At the start of 2nd day, water in tank = 4 + 2 = 6 but tank capacity is 5 so water = 5 and at the end of the 2nd day = (5 - 2) = 3 \n",
    "\n",
    "At the start of 3rd day, water in tank = 3 + 2 = 5 and at the end of the 3rd day = (5 - 3) = 2 \n",
    "\n",
    "At the start of 4th day, water in tank = 2 + 2 = 4 and at the end of the 4th day = (4 - 4) = 0\n",
    "\n",
    "So final answer will be 4 "
   ]
  },
  {
   "cell_type": "markdown",
   "metadata": {},
   "source": [
    "# Solution:\n",
    "分两种情况讨论：\n",
    "1. 第l+1天前，在填了l升水进去后，池子一定full\n",
    "2. l+1天后包括l+1天，每多一天，当天注水后就比前一天注水后少1升。那么注水后还剩的水可以表示为remain = C-j*(j+1)/2，接着remain是需要被喝掉i升的，所以如果remain这时已经<=i了，那么该天就是我们要找的。其中j = i - (l + 1)表示从第l+1天起去除加入的l升水后会被喝掉的水。\n",
    "<br>\n",
    "那么只需要解方程即可：C - j * (j + 1) / 2 <= i"
   ]
  },
  {
   "cell_type": "markdown",
   "metadata": {},
   "source": [
    "### <a id='Ex9'>Ex9：Shuffle Array</a>\n",
    "\n",
    "Given an array of 2n elements in the following format { a1, a2, a3, a4, ….., an, b1, b2, b3, b4, …., bn }. The task is shuffle the array to {a1, b1, a2, b2, a3, b3, ……, an, bn } without using extra space.\n",
    "\n",
    "** Examples: **\n",
    "\n",
    "Input : arr[] = { 1, 2, 9, 15 }\n",
    "\n",
    "Output : 1 9 2 15\n",
    "\n",
    "Input :  arr[] = { 1, 2, 3, 4, 5, 6 }\n",
    "\n",
    "Output : 1 4 2 5 3 6"
   ]
  },
  {
   "cell_type": "markdown",
   "metadata": {},
   "source": [
    "# Solution\n",
    "方法一(brute force): <br>\n",
    "从b1开始，b1和a4交换，然后b1和a3交换，直到b1和a2交换<br>\n",
    "然后到b2...<br>\n",
    "时间复杂度为O（n²）<br>\n",
    "方法二（divide and conquer）：<br>\n",
    "我们可以先从最小的例子a1,a2,b1,b2开始考虑，发现如果把a2,b1交换位置就会得到我们想要的答案。那么如果是a1,a2,a3,a4,b1,b2,b3,b4呢？我们发现从中间分开后，交换前后各一半的元素，即交换后a1,a2,b1,b2,a3,a4,b3,b4,那么这就会变成两个小问题了，接下来用同样的方法解决这两个小问题即可，参考递归的思路\n"
   ]
  },
  {
   "cell_type": "code",
   "execution_count": 4,
   "metadata": {},
   "outputs": [
    {
     "ename": "RecursionError",
     "evalue": "maximum recursion depth exceeded in comparison",
     "output_type": "error",
     "traceback": [
      "\u001b[1;31m---------------------------------------------------------------------------\u001b[0m",
      "\u001b[1;31mRecursionError\u001b[0m                            Traceback (most recent call last)",
      "\u001b[1;32m<ipython-input-4-0e35998f87b3>\u001b[0m in \u001b[0;36m<module>\u001b[1;34m\u001b[0m\n\u001b[0;32m     17\u001b[0m \u001b[0ma\u001b[0m \u001b[1;33m=\u001b[0m \u001b[1;33m[\u001b[0m\u001b[1;36m1\u001b[0m\u001b[1;33m,\u001b[0m\u001b[1;36m2\u001b[0m\u001b[1;33m,\u001b[0m\u001b[1;36m3\u001b[0m\u001b[1;33m,\u001b[0m\u001b[1;36m4\u001b[0m\u001b[1;33m,\u001b[0m\u001b[1;36m5\u001b[0m\u001b[1;33m,\u001b[0m\u001b[1;36m1\u001b[0m\u001b[1;33m,\u001b[0m\u001b[1;36m2\u001b[0m\u001b[1;33m,\u001b[0m\u001b[1;36m3\u001b[0m\u001b[1;33m,\u001b[0m\u001b[1;36m4\u001b[0m\u001b[1;33m,\u001b[0m\u001b[1;36m5\u001b[0m\u001b[1;33m]\u001b[0m\u001b[1;33m\u001b[0m\u001b[1;33m\u001b[0m\u001b[0m\n\u001b[0;32m     18\u001b[0m \u001b[0mn\u001b[0m \u001b[1;33m=\u001b[0m \u001b[0mlen\u001b[0m\u001b[1;33m(\u001b[0m\u001b[0ma\u001b[0m\u001b[1;33m)\u001b[0m\u001b[1;33m\u001b[0m\u001b[1;33m\u001b[0m\u001b[0m\n\u001b[1;32m---> 19\u001b[1;33m \u001b[0mshuffleArray\u001b[0m\u001b[1;33m(\u001b[0m\u001b[0ma\u001b[0m\u001b[1;33m,\u001b[0m \u001b[1;36m0\u001b[0m\u001b[1;33m,\u001b[0m \u001b[0mn\u001b[0m \u001b[1;33m-\u001b[0m \u001b[1;36m1\u001b[0m\u001b[1;33m)\u001b[0m\u001b[1;33m\u001b[0m\u001b[1;33m\u001b[0m\u001b[0m\n\u001b[0m\u001b[0;32m     20\u001b[0m \u001b[0mprint\u001b[0m\u001b[1;33m(\u001b[0m\u001b[0ma\u001b[0m\u001b[1;33m)\u001b[0m\u001b[1;33m\u001b[0m\u001b[1;33m\u001b[0m\u001b[0m\n\u001b[0;32m     21\u001b[0m \u001b[1;33m\u001b[0m\u001b[0m\n",
      "\u001b[1;32m<ipython-input-4-0e35998f87b3>\u001b[0m in \u001b[0;36mshuffleArray\u001b[1;34m(a, left, right)\u001b[0m\n\u001b[0;32m     11\u001b[0m     \u001b[1;32mfor\u001b[0m \u001b[0mi\u001b[0m \u001b[1;32min\u001b[0m \u001b[0mrange\u001b[0m\u001b[1;33m(\u001b[0m\u001b[1;33m(\u001b[0m\u001b[0mright\u001b[0m\u001b[1;33m-\u001b[0m\u001b[0mleft\u001b[0m\u001b[1;33m+\u001b[0m\u001b[1;36m1\u001b[0m\u001b[1;33m)\u001b[0m \u001b[1;33m//\u001b[0m \u001b[1;36m4\u001b[0m\u001b[1;33m)\u001b[0m\u001b[1;33m:\u001b[0m\u001b[1;33m\u001b[0m\u001b[1;33m\u001b[0m\u001b[0m\n\u001b[0;32m     12\u001b[0m         \u001b[0ma\u001b[0m\u001b[1;33m[\u001b[0m\u001b[0mpLeft\u001b[0m\u001b[1;33m+\u001b[0m\u001b[0mi\u001b[0m\u001b[1;33m]\u001b[0m\u001b[1;33m,\u001b[0m \u001b[0ma\u001b[0m\u001b[1;33m[\u001b[0m\u001b[0mpRight\u001b[0m\u001b[1;33m+\u001b[0m\u001b[0mi\u001b[0m\u001b[1;33m]\u001b[0m \u001b[1;33m=\u001b[0m \u001b[0ma\u001b[0m\u001b[1;33m[\u001b[0m\u001b[0mpRight\u001b[0m\u001b[1;33m+\u001b[0m\u001b[0mi\u001b[0m\u001b[1;33m]\u001b[0m\u001b[1;33m,\u001b[0m \u001b[0ma\u001b[0m\u001b[1;33m[\u001b[0m\u001b[0mpLeft\u001b[0m\u001b[1;33m+\u001b[0m\u001b[0mi\u001b[0m\u001b[1;33m]\u001b[0m\u001b[1;33m\u001b[0m\u001b[1;33m\u001b[0m\u001b[0m\n\u001b[1;32m---> 13\u001b[1;33m     \u001b[0mshuffleArray\u001b[0m\u001b[1;33m(\u001b[0m\u001b[0ma\u001b[0m\u001b[1;33m,\u001b[0m \u001b[0mleft\u001b[0m\u001b[1;33m,\u001b[0m \u001b[0mmid\u001b[0m\u001b[1;33m)\u001b[0m \u001b[1;31m#坑点2：右边界应该是Mid即（pRight-1），不要写成pLeft\u001b[0m\u001b[1;33m\u001b[0m\u001b[1;33m\u001b[0m\u001b[0m\n\u001b[0m\u001b[0;32m     14\u001b[0m     \u001b[0mshuffleArray\u001b[0m\u001b[1;33m(\u001b[0m\u001b[0ma\u001b[0m\u001b[1;33m,\u001b[0m \u001b[0mpRight\u001b[0m\u001b[1;33m,\u001b[0m \u001b[0mright\u001b[0m\u001b[1;33m)\u001b[0m\u001b[1;33m\u001b[0m\u001b[1;33m\u001b[0m\u001b[0m\n\u001b[0;32m     15\u001b[0m \u001b[1;33m\u001b[0m\u001b[0m\n",
      "\u001b[1;32m<ipython-input-4-0e35998f87b3>\u001b[0m in \u001b[0;36mshuffleArray\u001b[1;34m(a, left, right)\u001b[0m\n\u001b[0;32m     11\u001b[0m     \u001b[1;32mfor\u001b[0m \u001b[0mi\u001b[0m \u001b[1;32min\u001b[0m \u001b[0mrange\u001b[0m\u001b[1;33m(\u001b[0m\u001b[1;33m(\u001b[0m\u001b[0mright\u001b[0m\u001b[1;33m-\u001b[0m\u001b[0mleft\u001b[0m\u001b[1;33m+\u001b[0m\u001b[1;36m1\u001b[0m\u001b[1;33m)\u001b[0m \u001b[1;33m//\u001b[0m \u001b[1;36m4\u001b[0m\u001b[1;33m)\u001b[0m\u001b[1;33m:\u001b[0m\u001b[1;33m\u001b[0m\u001b[1;33m\u001b[0m\u001b[0m\n\u001b[0;32m     12\u001b[0m         \u001b[0ma\u001b[0m\u001b[1;33m[\u001b[0m\u001b[0mpLeft\u001b[0m\u001b[1;33m+\u001b[0m\u001b[0mi\u001b[0m\u001b[1;33m]\u001b[0m\u001b[1;33m,\u001b[0m \u001b[0ma\u001b[0m\u001b[1;33m[\u001b[0m\u001b[0mpRight\u001b[0m\u001b[1;33m+\u001b[0m\u001b[0mi\u001b[0m\u001b[1;33m]\u001b[0m \u001b[1;33m=\u001b[0m \u001b[0ma\u001b[0m\u001b[1;33m[\u001b[0m\u001b[0mpRight\u001b[0m\u001b[1;33m+\u001b[0m\u001b[0mi\u001b[0m\u001b[1;33m]\u001b[0m\u001b[1;33m,\u001b[0m \u001b[0ma\u001b[0m\u001b[1;33m[\u001b[0m\u001b[0mpLeft\u001b[0m\u001b[1;33m+\u001b[0m\u001b[0mi\u001b[0m\u001b[1;33m]\u001b[0m\u001b[1;33m\u001b[0m\u001b[1;33m\u001b[0m\u001b[0m\n\u001b[1;32m---> 13\u001b[1;33m     \u001b[0mshuffleArray\u001b[0m\u001b[1;33m(\u001b[0m\u001b[0ma\u001b[0m\u001b[1;33m,\u001b[0m \u001b[0mleft\u001b[0m\u001b[1;33m,\u001b[0m \u001b[0mmid\u001b[0m\u001b[1;33m)\u001b[0m \u001b[1;31m#坑点2：右边界应该是Mid即（pRight-1），不要写成pLeft\u001b[0m\u001b[1;33m\u001b[0m\u001b[1;33m\u001b[0m\u001b[0m\n\u001b[0m\u001b[0;32m     14\u001b[0m     \u001b[0mshuffleArray\u001b[0m\u001b[1;33m(\u001b[0m\u001b[0ma\u001b[0m\u001b[1;33m,\u001b[0m \u001b[0mpRight\u001b[0m\u001b[1;33m,\u001b[0m \u001b[0mright\u001b[0m\u001b[1;33m)\u001b[0m\u001b[1;33m\u001b[0m\u001b[1;33m\u001b[0m\u001b[0m\n\u001b[0;32m     15\u001b[0m \u001b[1;33m\u001b[0m\u001b[0m\n",
      "\u001b[1;32m<ipython-input-4-0e35998f87b3>\u001b[0m in \u001b[0;36mshuffleArray\u001b[1;34m(a, left, right)\u001b[0m\n\u001b[0;32m     12\u001b[0m         \u001b[0ma\u001b[0m\u001b[1;33m[\u001b[0m\u001b[0mpLeft\u001b[0m\u001b[1;33m+\u001b[0m\u001b[0mi\u001b[0m\u001b[1;33m]\u001b[0m\u001b[1;33m,\u001b[0m \u001b[0ma\u001b[0m\u001b[1;33m[\u001b[0m\u001b[0mpRight\u001b[0m\u001b[1;33m+\u001b[0m\u001b[0mi\u001b[0m\u001b[1;33m]\u001b[0m \u001b[1;33m=\u001b[0m \u001b[0ma\u001b[0m\u001b[1;33m[\u001b[0m\u001b[0mpRight\u001b[0m\u001b[1;33m+\u001b[0m\u001b[0mi\u001b[0m\u001b[1;33m]\u001b[0m\u001b[1;33m,\u001b[0m \u001b[0ma\u001b[0m\u001b[1;33m[\u001b[0m\u001b[0mpLeft\u001b[0m\u001b[1;33m+\u001b[0m\u001b[0mi\u001b[0m\u001b[1;33m]\u001b[0m\u001b[1;33m\u001b[0m\u001b[1;33m\u001b[0m\u001b[0m\n\u001b[0;32m     13\u001b[0m     \u001b[0mshuffleArray\u001b[0m\u001b[1;33m(\u001b[0m\u001b[0ma\u001b[0m\u001b[1;33m,\u001b[0m \u001b[0mleft\u001b[0m\u001b[1;33m,\u001b[0m \u001b[0mmid\u001b[0m\u001b[1;33m)\u001b[0m \u001b[1;31m#坑点2：右边界应该是Mid即（pRight-1），不要写成pLeft\u001b[0m\u001b[1;33m\u001b[0m\u001b[1;33m\u001b[0m\u001b[0m\n\u001b[1;32m---> 14\u001b[1;33m     \u001b[0mshuffleArray\u001b[0m\u001b[1;33m(\u001b[0m\u001b[0ma\u001b[0m\u001b[1;33m,\u001b[0m \u001b[0mpRight\u001b[0m\u001b[1;33m,\u001b[0m \u001b[0mright\u001b[0m\u001b[1;33m)\u001b[0m\u001b[1;33m\u001b[0m\u001b[1;33m\u001b[0m\u001b[0m\n\u001b[0m\u001b[0;32m     15\u001b[0m \u001b[1;33m\u001b[0m\u001b[0m\n\u001b[0;32m     16\u001b[0m \u001b[0ma\u001b[0m \u001b[1;33m=\u001b[0m \u001b[1;33m[\u001b[0m\u001b[1;36m1\u001b[0m\u001b[1;33m,\u001b[0m \u001b[1;36m3\u001b[0m\u001b[1;33m,\u001b[0m \u001b[1;36m5\u001b[0m\u001b[1;33m,\u001b[0m \u001b[1;36m7\u001b[0m\u001b[1;33m,\u001b[0m \u001b[1;36m2\u001b[0m\u001b[1;33m,\u001b[0m \u001b[1;36m4\u001b[0m\u001b[1;33m,\u001b[0m \u001b[1;36m6\u001b[0m\u001b[1;33m,\u001b[0m \u001b[1;36m8\u001b[0m\u001b[1;33m]\u001b[0m\u001b[1;33m\u001b[0m\u001b[1;33m\u001b[0m\u001b[0m\n",
      "\u001b[1;32m<ipython-input-4-0e35998f87b3>\u001b[0m in \u001b[0;36mshuffleArray\u001b[1;34m(a, left, right)\u001b[0m\n\u001b[0;32m     11\u001b[0m     \u001b[1;32mfor\u001b[0m \u001b[0mi\u001b[0m \u001b[1;32min\u001b[0m \u001b[0mrange\u001b[0m\u001b[1;33m(\u001b[0m\u001b[1;33m(\u001b[0m\u001b[0mright\u001b[0m\u001b[1;33m-\u001b[0m\u001b[0mleft\u001b[0m\u001b[1;33m+\u001b[0m\u001b[1;36m1\u001b[0m\u001b[1;33m)\u001b[0m \u001b[1;33m//\u001b[0m \u001b[1;36m4\u001b[0m\u001b[1;33m)\u001b[0m\u001b[1;33m:\u001b[0m\u001b[1;33m\u001b[0m\u001b[1;33m\u001b[0m\u001b[0m\n\u001b[0;32m     12\u001b[0m         \u001b[0ma\u001b[0m\u001b[1;33m[\u001b[0m\u001b[0mpLeft\u001b[0m\u001b[1;33m+\u001b[0m\u001b[0mi\u001b[0m\u001b[1;33m]\u001b[0m\u001b[1;33m,\u001b[0m \u001b[0ma\u001b[0m\u001b[1;33m[\u001b[0m\u001b[0mpRight\u001b[0m\u001b[1;33m+\u001b[0m\u001b[0mi\u001b[0m\u001b[1;33m]\u001b[0m \u001b[1;33m=\u001b[0m \u001b[0ma\u001b[0m\u001b[1;33m[\u001b[0m\u001b[0mpRight\u001b[0m\u001b[1;33m+\u001b[0m\u001b[0mi\u001b[0m\u001b[1;33m]\u001b[0m\u001b[1;33m,\u001b[0m \u001b[0ma\u001b[0m\u001b[1;33m[\u001b[0m\u001b[0mpLeft\u001b[0m\u001b[1;33m+\u001b[0m\u001b[0mi\u001b[0m\u001b[1;33m]\u001b[0m\u001b[1;33m\u001b[0m\u001b[1;33m\u001b[0m\u001b[0m\n\u001b[1;32m---> 13\u001b[1;33m     \u001b[0mshuffleArray\u001b[0m\u001b[1;33m(\u001b[0m\u001b[0ma\u001b[0m\u001b[1;33m,\u001b[0m \u001b[0mleft\u001b[0m\u001b[1;33m,\u001b[0m \u001b[0mmid\u001b[0m\u001b[1;33m)\u001b[0m \u001b[1;31m#坑点2：右边界应该是Mid即（pRight-1），不要写成pLeft\u001b[0m\u001b[1;33m\u001b[0m\u001b[1;33m\u001b[0m\u001b[0m\n\u001b[0m\u001b[0;32m     14\u001b[0m     \u001b[0mshuffleArray\u001b[0m\u001b[1;33m(\u001b[0m\u001b[0ma\u001b[0m\u001b[1;33m,\u001b[0m \u001b[0mpRight\u001b[0m\u001b[1;33m,\u001b[0m \u001b[0mright\u001b[0m\u001b[1;33m)\u001b[0m\u001b[1;33m\u001b[0m\u001b[1;33m\u001b[0m\u001b[0m\n\u001b[0;32m     15\u001b[0m \u001b[1;33m\u001b[0m\u001b[0m\n",
      "... last 1 frames repeated, from the frame below ...\n",
      "\u001b[1;32m<ipython-input-4-0e35998f87b3>\u001b[0m in \u001b[0;36mshuffleArray\u001b[1;34m(a, left, right)\u001b[0m\n\u001b[0;32m     11\u001b[0m     \u001b[1;32mfor\u001b[0m \u001b[0mi\u001b[0m \u001b[1;32min\u001b[0m \u001b[0mrange\u001b[0m\u001b[1;33m(\u001b[0m\u001b[1;33m(\u001b[0m\u001b[0mright\u001b[0m\u001b[1;33m-\u001b[0m\u001b[0mleft\u001b[0m\u001b[1;33m+\u001b[0m\u001b[1;36m1\u001b[0m\u001b[1;33m)\u001b[0m \u001b[1;33m//\u001b[0m \u001b[1;36m4\u001b[0m\u001b[1;33m)\u001b[0m\u001b[1;33m:\u001b[0m\u001b[1;33m\u001b[0m\u001b[1;33m\u001b[0m\u001b[0m\n\u001b[0;32m     12\u001b[0m         \u001b[0ma\u001b[0m\u001b[1;33m[\u001b[0m\u001b[0mpLeft\u001b[0m\u001b[1;33m+\u001b[0m\u001b[0mi\u001b[0m\u001b[1;33m]\u001b[0m\u001b[1;33m,\u001b[0m \u001b[0ma\u001b[0m\u001b[1;33m[\u001b[0m\u001b[0mpRight\u001b[0m\u001b[1;33m+\u001b[0m\u001b[0mi\u001b[0m\u001b[1;33m]\u001b[0m \u001b[1;33m=\u001b[0m \u001b[0ma\u001b[0m\u001b[1;33m[\u001b[0m\u001b[0mpRight\u001b[0m\u001b[1;33m+\u001b[0m\u001b[0mi\u001b[0m\u001b[1;33m]\u001b[0m\u001b[1;33m,\u001b[0m \u001b[0ma\u001b[0m\u001b[1;33m[\u001b[0m\u001b[0mpLeft\u001b[0m\u001b[1;33m+\u001b[0m\u001b[0mi\u001b[0m\u001b[1;33m]\u001b[0m\u001b[1;33m\u001b[0m\u001b[1;33m\u001b[0m\u001b[0m\n\u001b[1;32m---> 13\u001b[1;33m     \u001b[0mshuffleArray\u001b[0m\u001b[1;33m(\u001b[0m\u001b[0ma\u001b[0m\u001b[1;33m,\u001b[0m \u001b[0mleft\u001b[0m\u001b[1;33m,\u001b[0m \u001b[0mmid\u001b[0m\u001b[1;33m)\u001b[0m \u001b[1;31m#坑点2：右边界应该是Mid即（pRight-1），不要写成pLeft\u001b[0m\u001b[1;33m\u001b[0m\u001b[1;33m\u001b[0m\u001b[0m\n\u001b[0m\u001b[0;32m     14\u001b[0m     \u001b[0mshuffleArray\u001b[0m\u001b[1;33m(\u001b[0m\u001b[0ma\u001b[0m\u001b[1;33m,\u001b[0m \u001b[0mpRight\u001b[0m\u001b[1;33m,\u001b[0m \u001b[0mright\u001b[0m\u001b[1;33m)\u001b[0m\u001b[1;33m\u001b[0m\u001b[1;33m\u001b[0m\u001b[0m\n\u001b[0;32m     15\u001b[0m \u001b[1;33m\u001b[0m\u001b[0m\n",
      "\u001b[1;31mRecursionError\u001b[0m: maximum recursion depth exceeded in comparison"
     ]
    }
   ],
   "source": [
    "def shuffleArray(a, left, right):\n",
    "#     print(a)\n",
    "    if len(a) == 0:\n",
    "        return a\n",
    "    if right - left == 1:\n",
    "        return\n",
    "#     坑点1：是按顺序交换（b1换a3），而不是相邻交换（b1换a4）\n",
    "    mid = (right + left) // 2\n",
    "    pLeft = (left + mid) // 2 + 1\n",
    "    pRight = mid + 1\n",
    "    for i in range((right-left+1) // 4): \n",
    "        a[pLeft+i], a[pRight+i] = a[pRight+i], a[pLeft+i]\n",
    "    shuffleArray(a, left, mid) #坑点2：右边界应该是Mid即（pRight-1），不要写成pLeft\n",
    "    shuffleArray(a, pRight, right)\n",
    "\n",
    "a = [1, 3, 5, 7, 2, 4, 6, 8] \n",
    "a = [1,2,3,4,5,1,2,3,4,5]\n",
    "n = len(a) \n",
    "shuffleArray(a, 0, n - 1)\n",
    "print(a)\n",
    "        "
   ]
  },
  {
   "cell_type": "markdown",
   "metadata": {},
   "source": [
    "### <a id='Ex9'>Ex9：Collect Coins in Minimum Steps</a>\n",
    "\n",
    "Given many stacks of coins which are arranged adjacently. We need to collect all these coins in the minimum number of steps where in one step we can collect one horizontal line of coins or vertical line of coins and collected coins should be continuous.\n",
    "\n",
    "Examples:\n",
    "\n",
    "Input : height[] = [2 1 2 5 1] \n",
    "\n",
    "Each value of this array corresponds to the height of stack that is we are given five stack of coins, where in first stack 2 coins are there then in second stack 1 coin is there and so on. \n",
    "\n",
    "Output : 4 \n",
    "\n",
    "<img src=\"../images/ch06/coins.png\" width=\"220\"/>"
   ]
  },
  {
   "cell_type": "markdown",
   "metadata": {},
   "source": [
    "# Solution\n",
    "我们总共有两收割方式，横着和竖着。此处使用分治法来解决。每一步都可以是横着或者竖着。每个情况都可以分为两种，一个是全部竖着收，一个是横竖收。如果是竖着收，那么就是当前的宽度（有多少摞硬币）。继续横竖收就意味着我下一步不会竖着收，所以我一定会将横着收直到最矮那一摞硬币被收完。接着我们会发现硬币被分为了左右两部分（最矮那一摞之前和最矮那一摞后边）。然后针对两边在做一次比较（在 全竖着收 和 横竖收 之间）。\n",
    "\n",
    "旧观点（有错误，仅供参考）\n",
    "我们发现如果底层是满的话，那么直接收集底层总是有不错收益的。但是如果底层不是满的话，那就要看横着收还是竖着收收益高了。<br>\n",
    "关于为什么要先横着收：因为如果底层是满的，横着收有可能不打断下次的收益，即这次横着收能收满，那下次也可能收满，而竖着收很可能每次的收益不同。当然这不代表这横着收的收益必定高于竖着收，因此还需比较<br>\n",
    "因此可以使用分治法来做，如果底层是满的，那么将底层收走后硬币可以被分为左右两部分（当然可能出现三部分或四部分，这里我们把以第一部分和剩下部分来区分）；这个时候考察横着收还是竖着收效益高，哪个高选哪个收。<br>\n",
    "具体的做法是：先计算最小列，根据最小列使用横向收集（最小列有多少个就横向收集多少次），收集完后会变成2 part，分别是left~m, m+1~right，接下来对2 parts，可能就是选择竖着收集（需要right-left次），或着继续横竖收集"
   ]
  },
  {
   "cell_type": "code",
   "execution_count": null,
   "metadata": {
    "collapsed": true
   },
   "outputs": [],
   "source": [
    "def minSteps(height):\n",
    "    \n",
    "    def minStepHelper(height, left, right, h): # h表示之前在底层是满的情况下，横收的次数; 这里的right本身是不计入的\n",
    "        if left >= right:\n",
    "            return 0\n",
    "        m = left\n",
    "        \n",
    "        for i in range(left, right): # 找到最小的高度\n",
    "            if height[i] < m:\n",
    "                m = height[i]\n",
    "        \n",
    "        return min(right - left, # right - left 表示竖着收集需要的次数\n",
    "                  minStepHelper(height, left, m, height[m])\n",
    "                  + minStepHelper(height, m + 1, right, height[m])\n",
    "                  + height[m] - h) # height[m] - h 表示这一层需要额外横着收集的次数（底层满的情况下）\n",
    "    return minStepHelper(height, 0, len(height), 0)"
   ]
  }
 ],
 "metadata": {
  "kernelspec": {
   "display_name": "Python 3",
   "language": "python",
   "name": "python3"
  },
  "language_info": {
   "codemirror_mode": {
    "name": "ipython",
    "version": 3
   },
   "file_extension": ".py",
   "mimetype": "text/x-python",
   "name": "python",
   "nbconvert_exporter": "python",
   "pygments_lexer": "ipython3",
   "version": "3.6.1"
  }
 },
 "nbformat": 4,
 "nbformat_minor": 2
}
