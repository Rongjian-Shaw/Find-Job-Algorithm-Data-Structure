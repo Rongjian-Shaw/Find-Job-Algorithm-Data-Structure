{
 "cells": [
  {
   "cell_type": "markdown",
   "metadata": {
    "run_control": {
     "frozen": false,
     "read_only": false
    }
   },
   "source": [
    "# Binary Search"
   ]
  },
  {
   "cell_type": "code",
   "execution_count": null,
   "metadata": {
    "collapsed": true
   },
   "outputs": [],
   "source": []
  },
  {
   "cell_type": "markdown",
   "metadata": {},
   "source": [
    "In this lecture, you will learn:\n",
    "\n",
    "<a href='#Ex1'>Ex.1 Binary Search Review</a>\n",
    "\n",
    "<a href='#Ex2'>Ex.2 Binary Search Template</a>\n",
    "\n",
    "<a href='#Ex3'>Ex.3 Find Min in Rotated Sorted Array</a>\n",
    "\n",
    "<a href='#Ex4'>Ex.4 Find in Rotated Array</a>\n",
    "\n",
    "<a href='#Ex5'>Ex.5 Search Insert Position  </a>\n",
    "\n",
    "<a href='#Ex6'>Ex.6 Find Range</a>\n",
    "\n",
    "<a href='#Ex7'>Ex.7 Search in Sorted Array with Empty Strings</a>\n",
    "\n",
    "<a href='#Ex8'>Ex.8 Search 1st Position of element in Infinite Array</a>"
   ]
  },
  {
   "cell_type": "code",
   "execution_count": null,
   "metadata": {
    "collapsed": true
   },
   "outputs": [],
   "source": []
  },
  {
   "cell_type": "markdown",
   "metadata": {
    "run_control": {
     "frozen": false,
     "read_only": false
    }
   },
   "source": [
    "### Ex.1: Binary Search Review\n",
    "\n",
    "Find 1st position of target, return -1 if not found\n",
    "\n",
    "How about last position, any position?"
   ]
  },
  {
   "cell_type": "markdown",
   "metadata": {
    "run_control": {
     "frozen": false,
     "read_only": false
    }
   },
   "source": [
    "Binary Search (iterative)"
   ]
  },
  {
   "cell_type": "code",
   "execution_count": 8,
   "metadata": {},
   "outputs": [
    {
     "name": "stdout",
     "output_type": "stream",
     "text": [
      "index: 8\n"
     ]
    },
    {
     "data": {
      "text/plain": [
       "'index:8'"
      ]
     },
     "execution_count": 8,
     "metadata": {},
     "output_type": "execute_result"
    }
   ],
   "source": [
    "def bi_search_iter(alist, item):\n",
    "    l = 0\n",
    "    r = len(alist)-1 #易错点：容易漏写-1，会导致当item大于数组中所有数时，数组越界\n",
    "    while l<=r:\n",
    "        print('index:', (l+r)//2)\n",
    "        if item < alist[(l+r)//2]:\n",
    "            r = (l+r)//2 - 1\n",
    "        elif item > alist[(l+r)//2]:\n",
    "            l = (l+r)//2 + 1\n",
    "        else:\n",
    "            return \"index:\" + str((l+r)//2)\n",
    "    if(l>r):\n",
    "        return 'not exist'\n",
    "\n",
    "alist = [1,2,2,4,4,4,4,4,4,4,4,4,5,6,7,8,9]\n",
    "bi_search_iter(alist, 4)"
   ]
  },
  {
   "cell_type": "code",
   "execution_count": 1,
   "metadata": {
    "collapsed": true,
    "run_control": {
     "frozen": false,
     "read_only": false
    }
   },
   "outputs": [],
   "source": [
    "def bi_search_iter(alist, item):\n",
    "    left, right = 0, len(alist) - 1 #易错点：容易漏写-1，会导致当item大于数组中所有数时，数组越界\n",
    "    while left <= right: \n",
    "        mid = (left + right) // 2\n",
    "        if alist[mid] < item:\n",
    "            left = mid + 1\n",
    "        elif alist[mid] > item:\n",
    "            right = mid - 1\n",
    "        else: # alist[mid] = item\n",
    "            return mid \n",
    "    return -1"
   ]
  },
  {
   "cell_type": "code",
   "execution_count": 3,
   "metadata": {
    "run_control": {
     "frozen": false,
     "read_only": false
    }
   },
   "outputs": [
    {
     "name": "stdout",
     "output_type": "stream",
     "text": [
      "4\n",
      "-1\n"
     ]
    }
   ],
   "source": [
    "num_list = [1,2,3,3,3,5,7,8,9]\n",
    "print(bi_search_iter(num_list, 3))\n",
    "print(bi_search_iter(num_list, 10))"
   ]
  },
  {
   "cell_type": "code",
   "execution_count": 10,
   "metadata": {},
   "outputs": [
    {
     "name": "stdout",
     "output_type": "stream",
     "text": [
      "13 17\n"
     ]
    },
    {
     "data": {
      "text/plain": [
       "6"
      ]
     },
     "execution_count": 10,
     "metadata": {},
     "output_type": "execute_result"
    }
   ],
   "source": [
    "def bi_search_1st(alist, item):\n",
    "#     第一步：判断数组是否为空，因为如果为空的话，下方的循环是可以执行的\n",
    "    if(len(alist)==0): \n",
    "        return -1\n",
    "    left, right = 0, len(alist)-1\n",
    "#     第二步：循环的判断条件这么写方便做后面的判断\n",
    "    while left + 1 < right:\n",
    "        mid = left + (right - left) // 2 # 防止left + right 过大\n",
    "#     第三步：根据题目的不同可以修改判断条件\n",
    "        if alist[mid] == item:\n",
    "            right = mid\n",
    "        elif alist[mid] < item:\n",
    "            left = mid\n",
    "        elif alist[mid] > item:\n",
    "            right = mid\n",
    "#      第四步：兜底，也是根据题目的不同方便修改\n",
    "    print(alist[left], alist[right])\n",
    "    if alist[left] == item:\n",
    "        return left\n",
    "    if alist[right] == item:\n",
    "        return right\n",
    "\n",
    "alist = [1,1,2,2,2,2,3,3,4]\n",
    "alist = [1,4,6,8,10,13,17,19,32]\n",
    "item = 17\n",
    "bi_search_1st(alist, item)      "
   ]
  },
  {
   "cell_type": "code",
   "execution_count": 3,
   "metadata": {},
   "outputs": [
    {
     "data": {
      "text/plain": [
       "7"
      ]
     },
     "execution_count": 3,
     "metadata": {},
     "output_type": "execute_result"
    }
   ],
   "source": [
    "def bi_search_last(alist, item):\n",
    "    if(len(alist)==0):\n",
    "        return -1\n",
    "    \n",
    "    left, right = 0, len(alist)-1\n",
    "    while left + 1 < right:\n",
    "        mid = left + (right - left) // 2\n",
    "        if alist[mid] == item:\n",
    "            left = mid\n",
    "        elif alist[mid] < item:\n",
    "            left = mid\n",
    "        elif alist[mid] > item:\n",
    "            right = mid\n",
    "            \n",
    "    if alist[right] == item:\n",
    "        return right\n",
    "    if alist[left] == item:\n",
    "        return left\n",
    "    \n",
    "    return -1\n",
    "\n",
    "alist = [1,1,2,2,2,2,3,3,4]\n",
    "item = 3\n",
    "bi_search_last(alist, item)  "
   ]
  },
  {
   "cell_type": "markdown",
   "metadata": {},
   "source": [
    "### Ex.2: Binary Search Template\n",
    "\n",
    "Remember? ** Template! **"
   ]
  },
  {
   "cell_type": "code",
   "execution_count": 9,
   "metadata": {
    "collapsed": true
   },
   "outputs": [],
   "source": [
    "def binarysearch(alist, item):\n",
    "#     第一步：判断数组是否为空，因为如果为空的话，下方的循环是可以执行的\n",
    "    if(len(alist)==0): \n",
    "        return -1\n",
    "    left, right = 0, len(alist)-1\n",
    "#     第二步：循环的判断条件这么写方便做后面的判断\n",
    "    while left + 1 < right:\n",
    "        mid = left + (right - left) // 2\n",
    "#     第三步：根据题目的不同可以修改判断条件\n",
    "        if alist[mid] == item:\n",
    "            right = mid\n",
    "        elif alist[mid] < item:\n",
    "            left = mid\n",
    "        elif alist[mid] > item:\n",
    "            right = mid\n",
    "#     第四步：兜底，也是根据题目的不同方便修改\n",
    "    if alist[left] == item:\n",
    "        return left\n",
    "    if alist[right] == item:\n",
    "        return right\n",
    "    \n",
    "    return -1"
   ]
  },
  {
   "cell_type": "code",
   "execution_count": null,
   "metadata": {
    "collapsed": true
   },
   "outputs": [],
   "source": []
  },
  {
   "cell_type": "markdown",
   "metadata": {},
   "source": [
    "### Ex.3 Find Min in Rotated Sorted Array\n",
    "\n",
    "Suppose an array sorted in ascending order is rotated at some pivot unknown to you beforehand. Find the minimum element."
   ]
  },
  {
   "cell_type": "code",
   "execution_count": 6,
   "metadata": {},
   "outputs": [
    {
     "data": {
      "text/plain": [
       "1"
      ]
     },
     "execution_count": 6,
     "metadata": {},
     "output_type": "execute_result"
    }
   ],
   "source": [
    "def search_min(alist):\n",
    "    if(len(alist) == 0):\n",
    "        return -1\n",
    "    \n",
    "    left, right = 0, len(alist) - 1\n",
    "    while left + 1 < right:\n",
    "        mid = left + (right - left) // 2\n",
    "#         如果alist[lefg] < alist[right] 表示这个数组已经排好序\n",
    "        if alist[left] < alist[right]:\n",
    "            return left\n",
    "#         如果alist[left] < alist[mid] 表示mid左边已经排好序，那么最小值会出现在右边，因为最小值和最大值一定在折点\n",
    "        if alist[left] < alist[mid]:\n",
    "            left = mid\n",
    "        else: #否则，最小值会出现在左边\n",
    "            right = mid\n",
    "        \n",
    "    if alist[left] < alist[right]:\n",
    "        return alist[left]\n",
    "    else:\n",
    "        return alist[right]\n",
    "        \n",
    "alist = [7,8,9,1,2,3,4,5,6]\n",
    "search_min(alist)\n",
    "\n",
    "5 6 7 8 1 2 3 4"
   ]
  },
  {
   "cell_type": "code",
   "execution_count": 10,
   "metadata": {
    "collapsed": true
   },
   "outputs": [],
   "source": [
    "def searchlazy(alist):\n",
    "    alist.sort()\n",
    "    return alist[0]\n",
    "\n",
    "def searchslow(alist):\n",
    "    mmin = alist[0]\n",
    "    for i in alist:\n",
    "        mmin = min(mmin, i)\n",
    "    return mmin \n",
    "        \n",
    "\n",
    "def search(alist):\n",
    "    if len(alist) == 0:\n",
    "        return -1    \n",
    "    left, right = 0, len(alist) - 1\n",
    "    while left + 1 < right: \n",
    "        if (alist[left] < alist[right]):\n",
    "            return alist[left];\n",
    "        mid = left + (right - left) // 2\n",
    "        if (alist[mid] >= alist[left]):\n",
    "            left = mid + 1\n",
    "        else:\n",
    "            right = mid\n",
    "    return alist[left] if alist[left] < alist[right] else alist[right]"
   ]
  },
  {
   "cell_type": "markdown",
   "metadata": {},
   "source": [
    "### Ex.4 Find in Rotated Array"
   ]
  },
  {
   "cell_type": "code",
   "execution_count": 18,
   "metadata": {},
   "outputs": [
    {
     "name": "stdout",
     "output_type": "stream",
     "text": [
      "mid: 4\n",
      "mid: 2\n"
     ]
    },
    {
     "data": {
      "text/plain": [
       "1"
      ]
     },
     "execution_count": 18,
     "metadata": {},
     "output_type": "execute_result"
    }
   ],
   "source": [
    "def search(alist, target):\n",
    "    if len(alist)  == 0:\n",
    "        return -1\n",
    "    left, right = 0, len(alist) - 1\n",
    "    while left + 1 < right:\n",
    "        mid = left + (right - left) // 2\n",
    "        if alist[mid] == target:\n",
    "            return mid\n",
    "        #如果mid前已经排好序\n",
    "        if alist[left] < alist[mid]:\n",
    "            #看看target是否在排好序的范围内\n",
    "            if target >= alist[left] and target <= alist[mid]:\n",
    "                right = mid\n",
    "            else:\n",
    "                left = mid\n",
    "        #mid后面排好序的情况\n",
    "        else:\n",
    "            if target >= alist[mid] and target <= alist[right]:\n",
    "                left = mid\n",
    "            else:\n",
    "                right = mid\n",
    "        print('mid:', mid)\n",
    "    \n",
    "    #先检查左侧，如果alist[left]为目标值，则返回left，否则返回right\n",
    "    if alist[left] == target:\n",
    "        return left\n",
    "    if alist[right] == target:\n",
    "        return right\n",
    "    \n",
    "    return -1\n",
    "\n",
    "alist = [7,8,9,1,2,3,4,5,6]\n",
    "target = 8\n",
    "search(alist, target)\n"
   ]
  },
  {
   "cell_type": "code",
   "execution_count": 1,
   "metadata": {},
   "outputs": [
    {
     "data": {
      "text/plain": [
       "5"
      ]
     },
     "execution_count": 1,
     "metadata": {},
     "output_type": "execute_result"
    }
   ],
   "source": [
    "def search(alist, target):\n",
    "    if len(alist) == 0:\n",
    "        return -1    \n",
    "    left, right = 0, len(alist) - 1\n",
    "    while left + 1 < right: \n",
    "        mid = left + (right - left) // 2\n",
    "        if alist[mid] == target:\n",
    "            return mid\n",
    "        \n",
    "        if (alist[left] < alist[mid]):\n",
    "            if alist[left] <= target and target <= alist[mid]:\n",
    "                right = mid\n",
    "            else:\n",
    "                left = mid\n",
    "        else:\n",
    "            if alist[mid] <= target and target <= alist[right]:\n",
    "                left = mid\n",
    "            else: \n",
    "                right = mid\n",
    "                            \n",
    "    if alist[left] == target:\n",
    "        return left\n",
    "    if alist[right] == target:\n",
    "        return right\n",
    "        \n",
    "    return -1\n",
    "alist = [7,8,9,1,2,3,4,5,6]\n",
    "target = 3\n",
    "search(alist, target)"
   ]
  },
  {
   "cell_type": "markdown",
   "metadata": {},
   "source": [
    "### Ex.5 Search Insert Position  \n",
    "\n",
    "Given a sorted array and a target value, return the index if the target is found. If not, return the index where it would be if it were inserted in order. You may assume no duplicates in the array"
   ]
  },
  {
   "cell_type": "code",
   "execution_count": 8,
   "metadata": {},
   "outputs": [
    {
     "data": {
      "text/plain": [
       "4"
      ]
     },
     "execution_count": 8,
     "metadata": {},
     "output_type": "execute_result"
    }
   ],
   "source": [
    "def search_insert_position(alist, target):\n",
    "    if len(alist) < 0:\n",
    "        return -1\n",
    "    left, right = 0, len(alist) - 1\n",
    "    while left + 1 < right:\n",
    "        mid = left + (right - left) // 2\n",
    "        if alist[mid] == target:\n",
    "            return mid\n",
    "        elif alist[mid] < target:\n",
    "            left = mid\n",
    "        else:\n",
    "            right = mid\n",
    "    \n",
    "    # 如果target在left的左边的话\n",
    "    if alist[left] >= target:\n",
    "        return left\n",
    "    # target在left和right中间的情况\n",
    "    if alist[right] >= target:\n",
    "        return right\n",
    "    # target比alist中所有的数都大\n",
    "    return right + 1\n",
    "\n",
    "alist = [1,2,3,4,6,7,8,9]\n",
    "target = 5\n",
    "search_insert_position(alist, 5)"
   ]
  },
  {
   "cell_type": "code",
   "execution_count": 12,
   "metadata": {
    "collapsed": true
   },
   "outputs": [],
   "source": [
    "def search_insert_position(alist, target):\n",
    "    if len(alist) == 0:\n",
    "        return 0  \n",
    "    left, right = 0, len(alist) - 1\n",
    "    while left + 1 < right: \n",
    "        mid = left + (right - left) // 2\n",
    "        if alist[mid] == target:\n",
    "            return mid\n",
    "        \n",
    "        if (alist[mid] < target):\n",
    "            left = mid\n",
    "        else:\n",
    "            right = mid\n",
    "            \n",
    "    if alist[left] >= target:\n",
    "        return left\n",
    "    if alist[right] >= target:\n",
    "        return right\n",
    "        \n",
    "    return right + 1"
   ]
  },
  {
   "cell_type": "markdown",
   "metadata": {},
   "source": [
    "### Ex.6  Find the starting and ending position of a given target value."
   ]
  },
  {
   "cell_type": "code",
   "execution_count": 1,
   "metadata": {
    "collapsed": true
   },
   "outputs": [],
   "source": [
    "# 这个target可能有重复，要找到左右边界\n",
    "def search_range(alist, target):\n",
    "    if len(alist) == 0:\n",
    "        return (-1, -1)  \n",
    "    \n",
    "    lbound, rbound = -1, -1\n",
    "\n",
    "    # search for left bound \n",
    "    left, right = 0, len(alist) - 1\n",
    "    while left + 1 < right: \n",
    "        mid = left + (right - left) // 2\n",
    "        if alist[mid] == target:\n",
    "            right = mid\n",
    "        elif (alist[mid] < target):\n",
    "            left = mid\n",
    "        else:\n",
    "            right = mid\n",
    "            \n",
    "    if alist[left] == target:\n",
    "        lbound = left\n",
    "    elif alist[right] == target:\n",
    "        lbound = right\n",
    "    else:\n",
    "        return (-1, -1)\n",
    "\n",
    "    # search for right bound \n",
    "    left, right = 0, len(alist) - 1        \n",
    "    while left + 1 < right: \n",
    "        mid = left + (right - left) // 2\n",
    "        if alist[mid] == target:\n",
    "            left = mid\n",
    "        elif (alist[mid] < target):\n",
    "            left = mid\n",
    "        else:\n",
    "            right = mid\n",
    "            \n",
    "    if alist[right] == target:\n",
    "        rbound = right\n",
    "    elif alist[left] == target:\n",
    "        rbound = left\n",
    "    else:\n",
    "        return (-1, -1)        \n",
    "        \n",
    "    return (lbound, rbound)"
   ]
  },
  {
   "cell_type": "markdown",
   "metadata": {},
   "source": [
    "### Ex.7 Search in Sorted Array with Empty Strings\n",
    "\n",
    "Given a sorted array of strings which is interspersed with empty strings, write a meth­od to find the location of a given string."
   ]
  },
  {
   "cell_type": "code",
   "execution_count": 14,
   "metadata": {
    "collapsed": true
   },
   "outputs": [],
   "source": [
    "def search_empty(alist, target):\n",
    "    if len(alist) == 0:\n",
    "        return -1\n",
    "      \n",
    "    left, right = 0, len(alist) - 1\n",
    "    \n",
    "    while left + 1 < right:\n",
    "        while left + 1 < right and alist[right] == \"\":\n",
    "            right -= 1\n",
    "        if alist[right] == \"\":\n",
    "            right -= 1\n",
    "        if right < left:\n",
    "            return -1\n",
    "        \n",
    "        mid = left + (right - left) // 2\n",
    "        while alist[mid] == \"\":\n",
    "            mid += 1\n",
    "            \n",
    "        if alist[mid] == target:\n",
    "            return mid\n",
    "        if alist[mid] < target:\n",
    "            left = mid + 1\n",
    "        else:\n",
    "            right = mid - 1\n",
    "            \n",
    "    if alist[left] == target:\n",
    "        return left\n",
    "    if alist[right] == target:\n",
    "        return right    \n",
    "        \n",
    "    return -1   "
   ]
  },
  {
   "cell_type": "markdown",
   "metadata": {},
   "source": [
    "### Ex.8 Search 1st Position of element in Infinite Array"
   ]
  },
  {
   "cell_type": "code",
   "execution_count": 21,
   "metadata": {},
   "outputs": [
    {
     "ename": "IndexError",
     "evalue": "list index out of range",
     "output_type": "error",
     "traceback": [
      "\u001b[1;31m---------------------------------------------------------------------------\u001b[0m",
      "\u001b[1;31mIndexError\u001b[0m                                Traceback (most recent call last)",
      "\u001b[1;32m<ipython-input-21-6074fbdf9ea9>\u001b[0m in \u001b[0;36m<module>\u001b[1;34m\u001b[0m\n\u001b[0;32m     12\u001b[0m \u001b[0malist\u001b[0m \u001b[1;33m=\u001b[0m \u001b[1;33m[\u001b[0m\u001b[1;36m0\u001b[0m\u001b[1;33m,\u001b[0m \u001b[1;36m0\u001b[0m\u001b[1;33m,\u001b[0m \u001b[1;36m0\u001b[0m\u001b[1;33m,\u001b[0m \u001b[1;36m0\u001b[0m\u001b[1;33m,\u001b[0m \u001b[1;36m0\u001b[0m\u001b[1;33m,\u001b[0m \u001b[1;36m1\u001b[0m\u001b[1;33m]\u001b[0m\u001b[1;33m\u001b[0m\u001b[0m\n\u001b[0;32m     13\u001b[0m \u001b[0mtarget\u001b[0m \u001b[1;33m=\u001b[0m \u001b[1;36m1\u001b[0m\u001b[1;33m\u001b[0m\u001b[0m\n\u001b[1;32m---> 14\u001b[1;33m \u001b[0mr\u001b[0m \u001b[1;33m=\u001b[0m \u001b[0msearch_first\u001b[0m\u001b[1;33m(\u001b[0m\u001b[0malist\u001b[0m\u001b[1;33m,\u001b[0m \u001b[0mtarget\u001b[0m\u001b[1;33m)\u001b[0m\u001b[1;33m\u001b[0m\u001b[0m\n\u001b[0m",
      "\u001b[1;32m<ipython-input-21-6074fbdf9ea9>\u001b[0m in \u001b[0;36msearch_first\u001b[1;34m(alist, target)\u001b[0m\n\u001b[0;32m      3\u001b[0m     \u001b[0mleft\u001b[0m\u001b[1;33m,\u001b[0m \u001b[0mright\u001b[0m \u001b[1;33m=\u001b[0m \u001b[1;36m0\u001b[0m\u001b[1;33m,\u001b[0m \u001b[1;36m1\u001b[0m\u001b[1;33m\u001b[0m\u001b[0m\n\u001b[0;32m      4\u001b[0m \u001b[1;33m\u001b[0m\u001b[0m\n\u001b[1;32m----> 5\u001b[1;33m     \u001b[1;32mwhile\u001b[0m \u001b[0malist\u001b[0m\u001b[1;33m[\u001b[0m\u001b[0mright\u001b[0m\u001b[1;33m]\u001b[0m \u001b[1;33m<=\u001b[0m \u001b[0mtarget\u001b[0m\u001b[1;33m:\u001b[0m\u001b[1;33m\u001b[0m\u001b[0m\n\u001b[0m\u001b[0;32m      6\u001b[0m         \u001b[1;31m#如果alist[right]<target的话，target还在right的右侧\u001b[0m\u001b[1;33m\u001b[0m\u001b[1;33m\u001b[0m\u001b[0m\n\u001b[0;32m      7\u001b[0m         \u001b[0mleft\u001b[0m \u001b[1;33m=\u001b[0m \u001b[0mright\u001b[0m \u001b[1;31m# 可以缩小后面二分搜索的范围\u001b[0m\u001b[1;33m\u001b[0m\u001b[0m\n",
      "\u001b[1;31mIndexError\u001b[0m: list index out of range"
     ]
    }
   ],
   "source": [
    "def search_first(alist, target):\n",
    "    #针对一个无限数组，无法确定其大小\n",
    "    left, right = 0, 1\n",
    "    \n",
    "    while alist[right] <= target:\n",
    "        #如果alist[right]<target的话，target还在right的右侧\n",
    "        left = right # 可以缩小后面二分搜索的范围\n",
    "        right *= 2\n",
    "    \n",
    "    #下面的right + 1是因为如果只传right的话，right这个位置可能被忽略，后面的[0]表示去搜索范围的left\n",
    "    return left + search_range(alist[left:right + 1], target)[0] \n",
    "alist = [0, 0, 0, 0, 0, 1]\n",
    "target = 1\n",
    "r = search_first(alist, target)"
   ]
  },
  {
   "cell_type": "code",
   "execution_count": 17,
   "metadata": {
    "collapsed": true
   },
   "outputs": [],
   "source": [
    "def search_first(alist):\n",
    "    left, right = 0, 1\n",
    "    \n",
    "    while alist[right] == 0:\n",
    "        left = right\n",
    "        right *= 2\n",
    "        \n",
    "        if (right > len(alist)):\n",
    "            right = len(alist) - 1\n",
    "            break\n",
    "    \n",
    "    return left + search_range(alist[left:right+1], 1)[0]\n"
   ]
  },
  {
   "cell_type": "code",
   "execution_count": 18,
   "metadata": {
    "collapsed": true
   },
   "outputs": [],
   "source": [
    "alist = [0, 0, 0, 0, 0, 1]\n",
    "r = search_first(alist)"
   ]
  },
  {
   "cell_type": "code",
   "execution_count": null,
   "metadata": {
    "collapsed": true
   },
   "outputs": [],
   "source": []
  }
 ],
 "metadata": {
  "kernelspec": {
   "display_name": "Python 3",
   "language": "python",
   "name": "python3"
  },
  "language_info": {
   "codemirror_mode": {
    "name": "ipython",
    "version": 3
   },
   "file_extension": ".py",
   "mimetype": "text/x-python",
   "name": "python",
   "nbconvert_exporter": "python",
   "pygments_lexer": "ipython3",
   "version": "3.8.3"
  }
 },
 "nbformat": 4,
 "nbformat_minor": 2
}
