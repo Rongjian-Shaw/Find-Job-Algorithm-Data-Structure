{
 "cells": [
  {
   "cell_type": "markdown",
   "metadata": {},
   "source": [
    "# Greedy"
   ]
  },
  {
   "cell_type": "markdown",
   "metadata": {},
   "source": [
    "** 我们已经见过的Greedy相关的问题：**\n",
    "\n",
    "- Dijkstra"
   ]
  },
  {
   "cell_type": "markdown",
   "metadata": {},
   "source": [
    "### Ex.1 Find Minimum Number of Coins\n",
    "\n",
    "Given a value V, if we want to make change for V, and we have infinite supply of each of the denominations, i.e., we have infinite supply of { 1, 2, 5, 10, 20, 50, 100, 500, 1000} valued coins/notes, what is the minimum number of coins and/or notes needed to make the change?"
   ]
  },
  {
   "cell_type": "code",
   "execution_count": 4,
   "metadata": {},
   "outputs": [
    {
     "data": {
      "text/plain": [
       "[50, 20, 20, 2, 1]"
      ]
     },
     "execution_count": 4,
     "metadata": {},
     "output_type": "execute_result"
    }
   ],
   "source": [
    "def minCoins(V):\n",
    "    coins = [1, 2, 5, 10, 20, 50, 100, 500, 1000]\n",
    "    if V == 0:\n",
    "        return 0\n",
    "    \n",
    "    remain = V\n",
    "    count = 0\n",
    "    rst = []\n",
    "    for coin in coins[::-1]:\n",
    "        if remain // coin > 0:\n",
    "            count += remain // coin\n",
    "            rst += [coin] * (remain // coin)\n",
    "            remain -= (remain // coin) * coin\n",
    "           \n",
    "            \n",
    "    return rst\n",
    "\n",
    "\n",
    "minCoins(93)        "
   ]
  },
  {
   "cell_type": "markdown",
   "metadata": {},
   "source": [
    "### Ex.2 Activity Problem\n",
    "\n",
    "Assume there exist n activities with each of them being represented by a start time si and finish time fi. Two activities i and j are said to be non-conflicting if si ≥ fj or sj ≥ fi. The activity selection problem consists in finding the maximal solution set (S) of non-conflicting activities, or more precisely there must exist no solution set S' such that |S'| > |S| in the case that multiple maximal solutions have equal sizes."
   ]
  },
  {
   "cell_type": "code",
   "execution_count": null,
   "metadata": {
    "collapsed": true
   },
   "outputs": [],
   "source": [
    "'''\n",
    "Solution:\n",
    "If we wanna find the maximal solution, we try to find many short time and non-conflicting activities. Therefore, we can sort activities by\n",
    "ending time first. Then, we pick non-confiliction activities one by one.\n",
    "Since ending early and not conflict with other activities means the activity is short time, so that we can find the maximal solution set(S)\n",
    "'''"
   ]
  },
  {
   "cell_type": "code",
   "execution_count": 5,
   "metadata": {},
   "outputs": [
    {
     "data": {
      "text/plain": [
       "[(1, 2), (3, 4), (5, 7), (8, 9)]"
      ]
     },
     "execution_count": 5,
     "metadata": {},
     "output_type": "execute_result"
    }
   ],
   "source": [
    "# O(nlogn)\n",
    "\n",
    "def maxActivities(acts):\n",
    "    acts.sort(key=lambda x:x[1])\n",
    "    rst = []\n",
    "    fpre = 0\n",
    "    \n",
    "    for act in acts:\n",
    "        if act[0] >= fpre:\n",
    "            rst.append(act)\n",
    "            fpre = act[1]\n",
    "    \n",
    "    return rst\n",
    "\n",
    "acts = [(0,6),(3,4),(1,2),(5,7),(8,9),(5,9)]\n",
    "maxActivities(acts)"
   ]
  },
  {
   "cell_type": "markdown",
   "metadata": {},
   "source": [
    "### Ex.3 Smallest Number with Given Number of Digits and Sum of Digits\n",
    "\n",
    "How to find the smallest number with given digit sum s and number of digits m?\n",
    "\n",
    "Input  : s = 9, m = 2\n",
    "\n",
    "Output : 18\n",
    "\n",
    "There are many other possible numbers like 45, 54, 90, etc with sum of digits as 9 and number of digits as 2. The smallest of them is 18.\n",
    "\n",
    "Input  : s = 20, m = 3\n",
    "\n",
    "Output : 299"
   ]
  },
  {
   "cell_type": "code",
   "execution_count": 13,
   "metadata": {},
   "outputs": [
    {
     "data": {
      "text/plain": [
       "189"
      ]
     },
     "execution_count": 13,
     "metadata": {},
     "output_type": "execute_result"
    }
   ],
   "source": [
    "def smallestNum(s, m):\n",
    "    if s > 9*m:\n",
    "        return -1\n",
    "    if s < 1:\n",
    "        return -1\n",
    "    if m < 1:\n",
    "        return -1\n",
    "    \n",
    "    rst = 0\n",
    "    s = s - 1\n",
    "    remain = s\n",
    "    \n",
    "    for i in range(m):\n",
    "        if remain > 9:\n",
    "            rst += 10**i * 9 if i > 0 else 9\n",
    "            remain -= 9\n",
    "        else:\n",
    "            rst += 10**i * remain if i > 0 else remain\n",
    "            remain = 0\n",
    "            break\n",
    "            \n",
    "    if i == m:\n",
    "        rst += 10**(i-1)\n",
    "    else:\n",
    "        rst += 10**(m-1)\n",
    "    \n",
    "    return rst\n",
    "\n",
    "smallestNum(18, 3)\n",
    "    \n",
    "    "
   ]
  },
  {
   "cell_type": "markdown",
   "metadata": {},
   "source": [
    "### Ex.4 Minimum Sum of Two Numbers\n",
    "\n",
    "Given an array of digits (values are from 0 to 9), find the minimum possible sum of two numbers formed from digits of the array. All digits of given array must be used to form the two numbers.\n",
    "\n",
    "Input: [6, 8, 4, 5, 2, 3]\n",
    "\n",
    "Output: 604\n",
    "\n",
    "The minimum sum is formed by numbers \n",
    "\n",
    "358 and 246\n",
    "\n",
    "Input: [5, 3, 0, 7, 4]\n",
    "\n",
    "Output: 82\n",
    "\n",
    "The minimum sum is formed by numbers \n",
    "\n",
    "35 and 047 "
   ]
  },
  {
   "cell_type": "code",
   "execution_count": 17,
   "metadata": {},
   "outputs": [
    {
     "name": "stdout",
     "output_type": "stream",
     "text": [
      "47 35\n"
     ]
    },
    {
     "data": {
      "text/plain": [
       "82"
      ]
     },
     "execution_count": 17,
     "metadata": {},
     "output_type": "execute_result"
    }
   ],
   "source": [
    "def minSum(nums):\n",
    "    if not nums:\n",
    "        return 0\n",
    "    \n",
    "    nums.sort()\n",
    "    num1 = 0\n",
    "    num2 = 0\n",
    "    digit1 = digit2 = 0\n",
    "    n = len(nums)-1 # 注意这里别写成n = len(nums)\n",
    "    \n",
    "    while n >= 0:\n",
    "        num1 += 10**(digit1) * nums[n] if digit1 > 0 else nums[n]\n",
    "        digit1 += 1\n",
    "        n -= 1\n",
    "        if n >= 0:\n",
    "            num2 += 10**(digit2) * nums[n] if digit2 > 0 else nums[n]\n",
    "            digit2 += 1\n",
    "            n -= 1\n",
    "    \n",
    "    print(num1, num2)\n",
    "    return num1+num2\n",
    "\n",
    "nums = [5, 3, 0, 7, 4]\n",
    "minSum(nums)"
   ]
  },
  {
   "cell_type": "markdown",
   "metadata": {},
   "source": [
    "### Ex.5 Connect N Ropes with Minimum Cost\n",
    "\n",
    "There are given n ropes of different lengths, we need to connect these ropes into one rope. The cost to connect two ropes is equal to sum of their lengths. We need to connect the ropes with minimum cost.\n",
    "\n",
    "For example if we are given 4 ropes of lengths 4, 3, 2 and 6. We can connect the ropes in following ways.\n",
    "\n",
    "1) First connect ropes of lengths 2 and 3. Now we have three ropes of lengths 4, 6 and 5.\n",
    "\n",
    "2) Now connect ropes of lengths 4 and 5. Now we have two ropes of lengths 6 and 9.\n",
    "\n",
    "3) Finally connect the two ropes and all ropes have connected.\n",
    "\n",
    "Total cost for connecting all ropes is 5 + 9 + 15 = 29. "
   ]
  },
  {
   "cell_type": "code",
   "execution_count": 21,
   "metadata": {},
   "outputs": [
    {
     "data": {
      "text/plain": [
       "29"
      ]
     },
     "execution_count": 21,
     "metadata": {},
     "output_type": "execute_result"
    }
   ],
   "source": [
    "import heapq\n",
    "\n",
    "def connectRopes(ropes):\n",
    "    heap = ropes[:]\n",
    "    heapq.heapify(heap)\n",
    "    cost = 0\n",
    "    \n",
    "    while len(heap) > 1:\n",
    "        r1 = heapq.heappop(heap)\n",
    "        r2 = heapq.heappop(heap)\n",
    "        cost += r1 + r2\n",
    "        heapq.heappush(heap, r1+r2)\n",
    "    \n",
    "    return cost\n",
    "\n",
    "ropes = [4,3,2,6]\n",
    "connectRopes(ropes)\n",
    "        \n",
    "        "
   ]
  },
  {
   "cell_type": "markdown",
   "metadata": {},
   "source": [
    "### Ex.6 Minimum Number of Platforms Required for a Railway/Bus Station\n",
    "\n",
    "Given arrival and departure times of all trains that reach a railway station, find the minimum number of platforms required for the railway station so that no train waits. We are given two arrays which represent arrival and departure times of trains that stop.\n",
    "\n",
    "Input:  \n",
    "\n",
    "arr[]  = {9:00,  9:40, 9:50,  11:00, 15:00, 18:00}\n",
    "\n",
    "dep[]  = {9:10, 12:00, 11:20, 11:30, 19:00, 20:00}\n",
    "\n",
    "Output: 3\n",
    "\n",
    "There are at-most three trains at a time (time between 11:00 to 11:20)\n"
   ]
  },
  {
   "cell_type": "code",
   "execution_count": null,
   "metadata": {
    "collapsed": true
   },
   "outputs": [],
   "source": [
    "'''\n",
    "The goal is that we need to add stations when we find that arrive time earlier than depature time. So, we can sort the arr[] and the dep[] \n",
    "first, and use two pointers to find that how many times they overlap.\n",
    "'''"
   ]
  },
  {
   "cell_type": "code",
   "execution_count": 26,
   "metadata": {},
   "outputs": [
    {
     "data": {
      "text/plain": [
       "3"
      ]
     },
     "execution_count": 26,
     "metadata": {},
     "output_type": "execute_result"
    }
   ],
   "source": [
    "def stations(arr, dep):\n",
    "    if len(arr) != len(dep):\n",
    "        return 0\n",
    "    \n",
    "    for i in range(len(arr)):\n",
    "        arr[i] = int(arr[i][:-3] + arr[i][-2:])    \n",
    "    for j in range(len(dep)):\n",
    "        dep[j] = int(dep[j][:-3] + dep[j][-2:])\n",
    "    \n",
    "    arr.sort()\n",
    "    dep.sort()\n",
    "    i = j = 0\n",
    "    local = maximum = 0\n",
    "    \n",
    "    while i < len(arr) and j < len(dep):\n",
    "        if arr[i] < dep[j]: #overlap\n",
    "            local += 1\n",
    "            maximum = max(maximum, local)\n",
    "            i += 1\n",
    "        else:\n",
    "            local -= 1\n",
    "            j += 1\n",
    "    \n",
    "        \n",
    "    return maximum\n",
    "\n",
    "arr = ['9:00', '9:40', '9:50', '11:00', '15:00', '18:00']\n",
    "dep = ['9:10', '12:00', '11:20', '11:30', '19:00', '20:00']\n",
    "stations(arr, dep)\n",
    "        "
   ]
  },
  {
   "cell_type": "markdown",
   "metadata": {},
   "source": [
    "# Greedy II"
   ]
  },
  {
   "cell_type": "markdown",
   "metadata": {},
   "source": [
    "### Ex.1 Fractional Knapsack Problem\n",
    "\n",
    "Given weights and values of n items, we need put these items in a knapsack of capacity W to get the maximum total value in the knapsack.\n",
    "\n",
    "In the 0-1 Knapsack problem, we are not allowed to break items. We either take the whole item or don’t take it.\n",
    "\n",
    "In Fractional Knapsack, we can break items for maximizing the total value of knapsack. This problem in which we can break item also called fractional knapsack problem."
   ]
  },
  {
   "cell_type": "code",
   "execution_count": 31,
   "metadata": {},
   "outputs": [
    {
     "data": {
      "text/plain": [
       "180.0"
      ]
     },
     "execution_count": 31,
     "metadata": {},
     "output_type": "execute_result"
    }
   ],
   "source": [
    "def fracKnapsack(capacity, weights, values):\n",
    "    n = len(weights)\n",
    "    valuePerWeight = sorted([(v/w, w, v) for w,v in zip(weights, values)], reverse=True) # 记得是倒序\n",
    "    \n",
    "    value_sum = 0\n",
    "    for i in range(n):\n",
    "        w = valuePerWeight[i][1]\n",
    "        v = valuePerWeight[i][2]\n",
    "        if capacity > w:\n",
    "            value_sum += v\n",
    "            capacity -= w\n",
    "        else:\n",
    "            value_sum += capacity/w * v\n",
    "            capacity = 0\n",
    "            break\n",
    "    \n",
    "    return value_sum\n",
    "\n",
    "capacity = 50\n",
    "values = [72, 100, 120]\n",
    "weights = [24, 50, 30]\n",
    "fracKnapsack(capacity, weights, values)"
   ]
  },
  {
   "cell_type": "markdown",
   "metadata": {},
   "source": [
    "### Ex.3 Minimum Cost to Cut Board into Squares\n",
    "\n",
    "A board of length m and width n is given, we need to break this board into m*n squares such that cost of breaking is minimum. cutting cost for each edge will be given for the board. In short we need to choose such a sequence of cutting such that cost is minimized.\n",
    "\n",
    "<img src=\"../images/ch27/board.png\" width=\"460\"/>"
   ]
  },
  {
   "cell_type": "code",
   "execution_count": null,
   "metadata": {
    "collapsed": true
   },
   "outputs": [],
   "source": [
    "'''\n",
    "For above board optimal way to cut into square is:\n",
    "Total minimum cost in above case is 42. It is \n",
    "evaluated using following steps.\n",
    "\n",
    "Initial Value : Total_cost = 0\n",
    "Total_cost = Total_cost + edge_cost * total_pieces\n",
    "\n",
    "Cost 4 Horizontal cut      Cost = 0 + 4*1 = 4\n",
    "Cost 4 Vertical cut        Cost = 4 + 4*2 = 12\n",
    "Cost 3 Vertical cut        Cost = 12 + 3*2 = 18\n",
    "Cost 2 Horizontal cut      Cost = 18 + 2*3 = 24\n",
    "Cost 2 Vertical cut        Cost = 24 + 2*3 = 30\n",
    "Cost 1 Horizontal cut      Cost = 30 + 1*4 = 34\n",
    "Cost 1 Vertical cut        Cost = 34 + 1*4 = 38\n",
    "Cost 1 Vertical cut        Cost = 38 + 1*4 = 42\n",
    "'''\n",
    "''"
   ]
  },
  {
   "cell_type": "markdown",
   "metadata": {},
   "source": [
    "Solution:\n",
    "\n",
    "This problem can be solved using greedy approach, If total cost is denoted by S, then S = a1w1 + a2w2 … + akwk, where wi is a cost of certain edge cutting and ai is corresponding coefficient, The coefficient ai is determined by the total number of cuts we have competed using edge wi at the end of the cutting process. Notice that sum of the coefficients are always constant, hence we want to find a distribution of ai obtainable such that S is minimum. To do so we perform cuts on highest cost edge as early as possible, which will reach to optimal S. If we encounter several edges having the same cost, we can cut any one of them first.\n",
    "\n",
    "Below is the solution using above approach, first we sorted the edge cutting costs in reverse order, then we loop in them from higher cost to lower cost building our solution. Each time we choose an edge, counter part count is incremented by 1, which is to be multiplied each time with corresponding edge cutting cost."
   ]
  },
  {
   "cell_type": "code",
   "execution_count": 33,
   "metadata": {},
   "outputs": [
    {
     "data": {
      "text/plain": [
       "42"
      ]
     },
     "execution_count": 33,
     "metadata": {},
     "output_type": "execute_result"
    }
   ],
   "source": [
    "def cutBoard(horizontal, vertical):\n",
    "    horizontal.sort(reverse=True)\n",
    "    vertical.sort(reverse=True)\n",
    "    \n",
    "    h = v = 0\n",
    "    h_pieces = v_pieces = 1\n",
    "    rst = 0\n",
    "    while h < len(horizontal) and v < len(vertical):\n",
    "        if horizontal[h] > vertical[v]:\n",
    "            rst += horizontal[h] * v_pieces\n",
    "            h += 1\n",
    "            h_pieces += 1\n",
    "        else:\n",
    "            rst += vertical[v] * h_pieces\n",
    "            v += 1\n",
    "            v_pieces += 1\n",
    "    \n",
    "    while h < len(horizontal):\n",
    "        rst += horizontal[h] * v_pieces\n",
    "        h += 1\n",
    "        h_pieces += 1\n",
    "        \n",
    "    while v < len(vertical):\n",
    "        rst += vertical[v] * h_pieces\n",
    "        v += 1\n",
    "        v_pieces += 1\n",
    "        \n",
    "    return rst\n",
    "\n",
    "horizontal = [4,1,2]\n",
    "vertical = [2,1,3,1,4]\n",
    "cutBoard(horizontal, vertical)"
   ]
  },
  {
   "cell_type": "markdown",
   "metadata": {},
   "source": [
    "### Ex.4 Lexicographically Smallest Array After at-most K Consecutive Swaps\n",
    "\n",
    "Given an array arr[], find the lexicographically smallest array that can be obtained after performing at maximum of k consecutive swaps.\n",
    "\n",
    "Examples :\n",
    "\n",
    "** Input:  **\n",
    "\n",
    "arr = [7, 6, 9, 2, 1], k = 3\n",
    "\n",
    "Output: arr = [2, 7, 6, 9, 1]\n",
    "\n",
    "Explanation: \n",
    "\n",
    "Array is: 7, 6, 9, 2, 1\n",
    "\n",
    "Swap 1:   7, 6, 2, 9, 1\n",
    "\n",
    "Swap 2:   7, 2, 6, 9, 1\n",
    "\n",
    "Swap 3:   2, 7, 6, 9, 1\n",
    "\n",
    "So Our final array after k = 3 swaps : \n",
    "\n",
    "2, 7, 6, 9, 1\n",
    "\n",
    "** Input:  **\n",
    "\n",
    "arr = [7, 6, 9, 2, 1], k = 1\n",
    "\n",
    "Output: arr = [6, 7, 9, 2, 1]"
   ]
  },
  {
   "cell_type": "markdown",
   "metadata": {},
   "source": [
    "** Solution: **\n",
    "\n",
    "** Naive approach ** is to generate all the permutation of array and pick the smallest one which satisfy the condition of at-most k swaps. Time complexity of this approach is Ω(n!), which will definitely time out for large value of n.\n",
    "\n",
    "An** Efficient** approach is to think greedily. We first pick the smallest element from array a1, a2, a3…(ak or an) [We consider ak when k is smaller, else n]. We place the smallest element to the a0 position after shifting all these elements by 1 position right. We subtract number of swaps (number of swaps is number of shifts minus 1) from k. If still we are left with k > 0 then we apply the same procedure from the very next starting position i.e., a2, a3,…(ak or an) and then place it to the a1 position. So we keep applying the same process until k becomes 0."
   ]
  },
  {
   "cell_type": "code",
   "execution_count": 42,
   "metadata": {},
   "outputs": [
    {
     "data": {
      "text/plain": [
       "[6, 7, 9, 2, 1]"
      ]
     },
     "execution_count": 42,
     "metadata": {},
     "output_type": "execute_result"
    }
   ],
   "source": [
    "def LexicographicallySmallestArray(nums, k):\n",
    "    if not nums:\n",
    "        return nums\n",
    "    \n",
    "    cur_pos = 0\n",
    "    while k > 0 and cur_pos < len(nums): # 不要写成 k>=0\n",
    "        if k > len(nums) - cur_pos - 1:\n",
    "            nums[cur_pos], nums[-1] = nums[-1], nums[cur_pos]\n",
    "            k -= (len(nums) - cur_pos - 1)\n",
    "        else:\n",
    "            min_idx = cur_pos\n",
    "            for i in range(cur_pos, min(cur_pos+k+1, len(nums))):\n",
    "                if nums[i] < nums[min_idx]:\n",
    "                    min_idx = i\n",
    "            nums[cur_pos], nums[min_idx] = nums[min_idx], nums[cur_pos]\n",
    "            k -= (min_idx - cur_pos)\n",
    "        cur_pos += 1\n",
    "            \n",
    "    return nums\n",
    "\n",
    "nums =  [7, 6, 9, 2, 1]\n",
    "k = 3\n",
    "nums =  [7, 6, 9, 2, 1]\n",
    "k = 1\n",
    "LexicographicallySmallestArray(nums, k)"
   ]
  },
  {
   "cell_type": "markdown",
   "metadata": {},
   "source": [
    "** Ex. 7 Minimum Jumps to Reach End **\n",
    "\n",
    "Given an array of non-negative integers, you are initially positioned at the first index of the array.\n",
    "\n",
    "Each element in the array represents your maximum jump length at that position.\n",
    "\n",
    "Determine if you are able to reach the last index.\n",
    "\n",
    "For example:\n",
    "    \n",
    "A = [2,3,1,1,4], return true.\n",
    "\n",
    "A = [3,2,1,0,4], return false.\n",
    "\n",
    "** Follow up:**\n",
    "\n",
    "Your goal is to reach the last index in the minimum number of jumps."
   ]
  },
  {
   "cell_type": "code",
   "execution_count": null,
   "metadata": {
    "collapsed": true
   },
   "outputs": [],
   "source": []
  }
 ],
 "metadata": {
  "kernelspec": {
   "display_name": "Python 3",
   "language": "python",
   "name": "python3"
  },
  "language_info": {
   "codemirror_mode": {
    "name": "ipython",
    "version": 3
   },
   "file_extension": ".py",
   "mimetype": "text/x-python",
   "name": "python",
   "nbconvert_exporter": "python",
   "pygments_lexer": "ipython3",
   "version": "3.6.1"
  }
 },
 "nbformat": 4,
 "nbformat_minor": 2
}
