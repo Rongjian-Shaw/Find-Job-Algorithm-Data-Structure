{
 "cells": [
  {
   "cell_type": "markdown",
   "metadata": {},
   "source": [
    "# String \n",
    "\n",
    "## Character Counting Based Problems"
   ]
  },
  {
   "cell_type": "markdown",
   "metadata": {},
   "source": [
    "### Ex.1 Number of Even Substrings\n",
    "\n",
    "Given a string of digits 0 – 9. The task is to count number of substrings which when convert into integer form an even number.\n",
    "\n",
    "Input : str = \"1234\".\n",
    "\n",
    "Output : 6\n",
    "\n",
    "\"2\", \"4\", \"12\", \"34\", \"234\", \"1234\" are 6 substring which are even.\n",
    "\n",
    "Input : str = \"154\".\n",
    "\n",
    "Output : 3\n",
    "\n",
    "Input : str = \"15\".\n",
    "\n",
    "Output : 0"
   ]
  },
  {
   "cell_type": "code",
   "execution_count": 3,
   "metadata": {},
   "outputs": [
    {
     "data": {
      "text/plain": [
       "0"
      ]
     },
     "execution_count": 3,
     "metadata": {},
     "output_type": "execute_result"
    }
   ],
   "source": [
    "def evenSubstr(string):\n",
    "    count = 0\n",
    "    \n",
    "    for i in range(len(string)):\n",
    "        if int(string[i]) % 2 == 0:\n",
    "            count += i + 1\n",
    "    \n",
    "    return count\n",
    "\n",
    "evenSubstr('15')"
   ]
  },
  {
   "cell_type": "markdown",
   "metadata": {},
   "source": [
    "### Ex.2 Student Attendance Record I\n",
    "\n",
    "You are given a string representing an attendance record for a student. The record only contains the following three characters:\n",
    "\n",
    "'A' : Absent.\n",
    "\n",
    "'L' : Late.\n",
    "\n",
    "'P' : Present.\n",
    "\n",
    "A student could be rewarded if his attendance record doesn't contain more than one 'A' (absent) or more than two continuous 'L' (late).\n",
    "\n",
    "You need to return whether the student could be rewarded according to his attendance record.\n",
    "\n",
    "Example 1:\n",
    "\n",
    "Input: \"PPALLP\"\n",
    "\n",
    "Output: True\n",
    "\n",
    "Example 2:\n",
    "\n",
    "Input: \"PPALLL\"\n",
    "\n",
    "Output: False"
   ]
  },
  {
   "cell_type": "code",
   "execution_count": 8,
   "metadata": {},
   "outputs": [
    {
     "data": {
      "text/plain": [
       "False"
      ]
     },
     "execution_count": 8,
     "metadata": {},
     "output_type": "execute_result"
    }
   ],
   "source": [
    "def checkRecord(string):\n",
    "    return True if (string.count('A') <= 1 and string.count('L') <= 2) else False\n",
    "\n",
    "checkRecord('PPALLP')\n",
    "checkRecord('PPALLL')"
   ]
  },
  {
   "cell_type": "markdown",
   "metadata": {},
   "source": [
    "### Ex.3 Count Substrings with Same First and Last Characters\n",
    "\n",
    "We are given a string S, we need to find count of all contiguous substrings starting and ending with same character.\n",
    "\n",
    "Input  : S = \"abcab\"\n",
    "\n",
    "Output : 7\n",
    "\n",
    "There are 15 substrings of \"abcab\"\n",
    "\n",
    "Out of the above substrings, there are 7 substrings : a, abca, b, bcab, c, a and b."
   ]
  },
  {
   "cell_type": "code",
   "execution_count": 13,
   "metadata": {},
   "outputs": [
    {
     "data": {
      "text/plain": [
       "7"
      ]
     },
     "execution_count": 13,
     "metadata": {},
     "output_type": "execute_result"
    }
   ],
   "source": [
    "from collections import Counter\n",
    "\n",
    "def countSubstr(string):\n",
    "    counter = Counter(string)\n",
    "    count = 0\n",
    "    \n",
    "    for k, v in counter.items():\n",
    "        count += v + v*(v-1)//2\n",
    "    \n",
    "    return count\n",
    "\n",
    "countSubstr('abcab')"
   ]
  },
  {
   "cell_type": "markdown",
   "metadata": {},
   "source": [
    "### Ex.4 Maximum Consecutive Repeating Character in String\n",
    "\n",
    "Given a string, the task is to find maximum consecutive repeating character in string."
   ]
  },
  {
   "cell_type": "code",
   "execution_count": 16,
   "metadata": {},
   "outputs": [
    {
     "data": {
      "text/plain": [
       "('a', 8)"
      ]
     },
     "execution_count": 16,
     "metadata": {},
     "output_type": "execute_result"
    }
   ],
   "source": [
    "def maxRepeating(string):\n",
    "    if not string:\n",
    "        return ''\n",
    "    \n",
    "    rst = string[0]\n",
    "    max_count = 1\n",
    "    count = 1\n",
    "    \n",
    "    for i in range(len(string)-1):\n",
    "        if string[i] == string[i+1]:\n",
    "            count += 1\n",
    "            if count > max_count:\n",
    "                rst = string[i]\n",
    "                max_count = count\n",
    "        else:\n",
    "            count = 1\n",
    "            \n",
    "    return (rst, max_count)\n",
    "\n",
    "maxRepeating(\"aaaaaaaabbaacccccde\")\n",
    "    "
   ]
  },
  {
   "cell_type": "code",
   "execution_count": 18,
   "metadata": {},
   "outputs": [
    {
     "data": {
      "text/plain": [
       "[1, 2, 3, 4, 5, 'X', 'X', 'X']"
      ]
     },
     "execution_count": 18,
     "metadata": {},
     "output_type": "execute_result"
    }
   ],
   "source": [
    "def removeDuplicates(nums):\n",
    "    if not nums:\n",
    "        return nums\n",
    "\n",
    "    l = 0\n",
    "    for r in range(len(nums)):\n",
    "        if nums[r] != nums[l]:\n",
    "            l += 1\n",
    "            nums[l] = nums[r]\n",
    "    \n",
    "    for i in range(l+1, len(nums)):\n",
    "        nums[i] = 'X'\n",
    "        \n",
    "    return nums\n",
    "\n",
    "\n",
    "\n",
    "\n",
    "A = [1,1,2,2,3,4,4,5]\n",
    "removeDuplicates(A)\n",
    "            \n",
    "            "
   ]
  },
  {
   "cell_type": "markdown",
   "metadata": {},
   "source": [
    "# String II\n",
    "\n",
    "## Anagrams\n",
    "### Ex.1 Anagrams\n",
    "\n",
    "Write a function to check whether two given strings are anagram of each other or not. An anagram of a string is another string that contains same characters, only the order of characters can be different. For example, “abcd” and “dabc” are anagram of each other."
   ]
  },
  {
   "cell_type": "code",
   "execution_count": 19,
   "metadata": {},
   "outputs": [
    {
     "data": {
      "text/plain": [
       "True"
      ]
     },
     "execution_count": 19,
     "metadata": {},
     "output_type": "execute_result"
    }
   ],
   "source": [
    "def anagrams(s1, s2):\n",
    "    return Counter(s1) == Counter(s2)\n",
    "\n",
    "anagrams('abcd', 'dabc')"
   ]
  },
  {
   "cell_type": "markdown",
   "metadata": {},
   "source": [
    "### Ex.2 Find All Anagrams in a String\n",
    "\n",
    "Given a string s and a non-empty string p, find all the start indices of p's anagrams in s.\n",
    "\n",
    "Strings consists of lowercase English letters only and the length of both strings s and p will not be larger than 20,100.\n",
    "\n",
    "The order of output does not matter.\n",
    "\n",
    "Input:\n",
    "\n",
    "s: \"cbaebabacd\" p: \"abc\"\n",
    "\n",
    "Output:\n",
    "\n",
    "[0, 6]\n",
    "\n",
    "Explanation:\n",
    "\n",
    "The substring with start index = 0 is \"cba\", which is an anagram of \"abc\".\n",
    "\n",
    "The substring with start index = 6 is \"bac\", which is an anagram of \"abc\"."
   ]
  },
  {
   "cell_type": "code",
   "execution_count": 24,
   "metadata": {},
   "outputs": [
    {
     "data": {
      "text/plain": [
       "[0, 1, 2]"
      ]
     },
     "execution_count": 24,
     "metadata": {},
     "output_type": "execute_result"
    }
   ],
   "source": [
    "def anagrams2(s, p):\n",
    "    n = len(p)\n",
    "    counters = Counter()\n",
    "    counterp = Counter(p)\n",
    "    rst = []\n",
    "    \n",
    "    for i in range(n):\n",
    "        if s[i] in counterp:\n",
    "            counters[s[i]] += 1\n",
    "            \n",
    "    l = 0\n",
    "    r = i\n",
    "    flag = (counters == counterp) # 用flag加快速度，当只遇到p中的元素才去对比两个哈希表\n",
    "    for r in range(n-1, len(s)):\n",
    "        if flag and counters == counterp:\n",
    "            rst.append(l)\n",
    "        if s[l] in counterp:\n",
    "            counters[s[l]] -= 1\n",
    "        l += 1\n",
    "        r += 1\n",
    "        if r < len(s) and s[r] in counterp:\n",
    "            counters[s[r]] += 1\n",
    "            flag = True\n",
    "        else:\n",
    "            flag = False\n",
    "    \n",
    "    return rst\n",
    "\n",
    "s = \"cbaebabacd\"\n",
    "p = \"abc\"\n",
    "\n",
    "s = \"abab\"\n",
    "p = \"ab\"\n",
    "            \n",
    "anagrams2(s, p)            "
   ]
  },
  {
   "cell_type": "code",
   "execution_count": 20,
   "metadata": {},
   "outputs": [
    {
     "data": {
      "text/plain": [
       "[0, 1, 2]"
      ]
     },
     "execution_count": 20,
     "metadata": {},
     "output_type": "execute_result"
    }
   ],
   "source": [
    "from collections import Counter\n",
    "\n",
    "def findAnagrams(s, p):\n",
    "    n = len(p)\n",
    "    count1 = Counter(p)\n",
    "    count2 = Counter(s[:n - 1]) # tip: we will not count the right end\n",
    "    res = []\n",
    "    \n",
    "    for i in range(n - 1, len(s)):\n",
    "        count2[s[i]] += 1\n",
    "        if count1 == count2:\n",
    "            res.append(i - n + 1)\n",
    "        count2[s[i - n + 1]] -= 1\n",
    "        \n",
    "        if count2[s[i - n + 1]] == 0:\n",
    "            del count2[s[i - n + 1]]\n",
    "    \n",
    "    return res\n",
    "\n",
    "s = \"cbaebabacd\" \n",
    "p = \"abc\"\n",
    "findAnagrams(s, p)\n",
    "\n",
    "s = \"abab\" \n",
    "p = \"ab\"\n",
    "findAnagrams(s, p)"
   ]
  },
  {
   "cell_type": "markdown",
   "metadata": {},
   "source": [
    "### Ex.3 Find Anagram Mappings\n",
    "\n",
    "Given two lists Aand B, and B is an anagram of A. B is an anagram of A means B is made by randomizing the order of the elements in A.\n",
    "\n",
    "We want to find an index mapping P, from A to B. A mapping P[i] = j means the ith element in A appears in B at index j.\n",
    "\n",
    "These lists A and B may contain duplicates. If there are multiple answers, output any of them.\n",
    "\n",
    "For example, given\n",
    "\n",
    "A = [12, 28, 46, 32, 50] \n",
    "\n",
    "B = [50, 12, 32, 46, 28] \n",
    "\n",
    "We should return \n",
    "\n",
    "[1, 4, 3, 2, 0] \n",
    "\n",
    "as P[0] = 1 because the 0th element of A appears at B1, and P1 = 4 because the 1st element of A appears at B[4], and so on. "
   ]
  },
  {
   "cell_type": "code",
   "execution_count": 26,
   "metadata": {},
   "outputs": [
    {
     "data": {
      "text/plain": [
       "[1, 4, 3, 2, 0]"
      ]
     },
     "execution_count": 26,
     "metadata": {},
     "output_type": "execute_result"
    }
   ],
   "source": [
    "def anagramMap(A, B):\n",
    "#     dicA = {}\n",
    "    dicB = {}\n",
    "    rst = []\n",
    "    \n",
    "    for i, v in enumerate(B):\n",
    "        dicB[v] = i\n",
    "    \n",
    "    for i, v in enumerate(A):\n",
    "        rst.append(dicB[v])\n",
    "        \n",
    "    return rst\n",
    "\n",
    "A = [12, 28, 46, 32, 50]\n",
    "B = [50, 12, 32, 46, 28]\n",
    "anagramMap(A, B)"
   ]
  },
  {
   "cell_type": "markdown",
   "metadata": {},
   "source": [
    "### Ex.1 Rotation\n",
    "\n",
    "Given a string s1 and a string s2, write a snippet to say whether s2 is a rotation of s1."
   ]
  },
  {
   "cell_type": "code",
   "execution_count": null,
   "metadata": {
    "collapsed": true
   },
   "outputs": [],
   "source": [
    "'''\n",
    "Solution:\n",
    "we can create a new string = s1 + s1, we will find that s2 must is a part of the new string\n",
    "'''"
   ]
  },
  {
   "cell_type": "code",
   "execution_count": 28,
   "metadata": {},
   "outputs": [
    {
     "data": {
      "text/plain": [
       "True"
      ]
     },
     "execution_count": 28,
     "metadata": {},
     "output_type": "execute_result"
    }
   ],
   "source": [
    "def rotation(s1, s2):\n",
    "    if len(s1) != len(s2):\n",
    "        return False\n",
    "    \n",
    "    s3 = s1 + s1\n",
    "    return s2 in s3\n",
    "\n",
    "s1 = \"AACD\"\n",
    "s2 = \"ACDA\"\n",
    "rotation(s1, s2)"
   ]
  },
  {
   "cell_type": "markdown",
   "metadata": {},
   "source": [
    "### Ex.2 Rotation II\n",
    "\n",
    "Write a function rotate(arr[], d, n) that rotates arr[] of size n by d elements."
   ]
  },
  {
   "cell_type": "code",
   "execution_count": null,
   "metadata": {
    "collapsed": true
   },
   "outputs": [],
   "source": [
    "'''\n",
    "Solution:\n",
    "Three reverse；If we wanna rotate an array counterclockwise by n positions, we can choose d th position. Then, we can reverse the left side and\n",
    "right side of d. After that, we reverse the whole array. Then we get what we want.\n",
    "'''"
   ]
  },
  {
   "cell_type": "code",
   "execution_count": 32,
   "metadata": {},
   "outputs": [
    {
     "data": {
      "text/plain": [
       "[4, 5, 1, 2, 3]"
      ]
     },
     "execution_count": 32,
     "metadata": {},
     "output_type": "execute_result"
    }
   ],
   "source": [
    "def rotation2(nums, d, n):\n",
    "    if len(nums) <= 1:\n",
    "        return nums\n",
    "    d = d % n\n",
    "#     d = n - d # clockwise\n",
    "    \n",
    "    rst = nums[:d][::-1] + nums[d:][::-1]\n",
    "    \n",
    "    return rst[::-1]\n",
    "\n",
    "nums = [1,2,3,4,5]\n",
    "d = 2\n",
    "n = len(nums)\n",
    "rotation2(nums, d, n)"
   ]
  },
  {
   "cell_type": "markdown",
   "metadata": {},
   "source": [
    "### Ex.3 Palindrome\n",
    "\n",
    "Check if a Given String is Palindrome."
   ]
  },
  {
   "cell_type": "code",
   "execution_count": 35,
   "metadata": {},
   "outputs": [
    {
     "data": {
      "text/plain": [
       "False"
      ]
     },
     "execution_count": 35,
     "metadata": {},
     "output_type": "execute_result"
    }
   ],
   "source": [
    "def Palindrome(s):\n",
    "    if not s:\n",
    "        return True\n",
    "    l, r = 0, len(s) - 1\n",
    "    \n",
    "    while l < r:\n",
    "        if s[l] != s[r]:\n",
    "            return False\n",
    "        l += 1\n",
    "        r -= 1\n",
    "        \n",
    "    return True\n",
    "\n",
    "Palindrome('abb')"
   ]
  },
  {
   "cell_type": "markdown",
   "metadata": {},
   "source": [
    "### Ex.4 Palindrome Number\n",
    "\n",
    "Determine whether an integer is a palindrome. An integer is a palindrome when it reads the same backward as forward."
   ]
  },
  {
   "cell_type": "code",
   "execution_count": null,
   "metadata": {
    "collapsed": true
   },
   "outputs": [],
   "source": [
    "'''\n",
    "Solution:\n",
    "The key is to gradually find if the start and end are equal to each other until start < end.\n",
    "In this question, we need to use n / 10^i to find the start and use n % 10 to find the end.\n",
    "'''"
   ]
  },
  {
   "cell_type": "code",
   "execution_count": 38,
   "metadata": {},
   "outputs": [
    {
     "data": {
      "text/plain": [
       "False"
      ]
     },
     "execution_count": 38,
     "metadata": {},
     "output_type": "execute_result"
    }
   ],
   "source": [
    "def palindromeNumber(num):\n",
    "    if num < 0:\n",
    "        return False\n",
    "    \n",
    "    tens = 1\n",
    "    while num // tens >= 10:\n",
    "        tens *= 10\n",
    "        \n",
    "    while num >= 10:\n",
    "        l = num // tens\n",
    "        r = num % 10\n",
    "        if l != r:\n",
    "            return False\n",
    "        num = (num % tens) // 10\n",
    "        tens = tens // 100\n",
    "    \n",
    "    return True\n",
    "\n",
    "palindromeNumber(12212)"
   ]
  },
  {
   "cell_type": "markdown",
   "metadata": {},
   "source": [
    "### Ex.5 Rotation Palindrome\n",
    "\n",
    "Check if a given string is a rotation of a palindrome"
   ]
  },
  {
   "cell_type": "code",
   "execution_count": 41,
   "metadata": {},
   "outputs": [
    {
     "data": {
      "text/plain": [
       "True"
      ]
     },
     "execution_count": 41,
     "metadata": {},
     "output_type": "execute_result"
    }
   ],
   "source": [
    "def rotationPalindrome(string):\n",
    "    if not string:\n",
    "        return False\n",
    "    new_str = string + string\n",
    "    n = len(string)\n",
    "    \n",
    "    for i in range(n):\n",
    "        if Palindrome(new_str[i:i+n]):\n",
    "            return True\n",
    "    return False\n",
    "\n",
    "rotationPalindrome('21123')"
   ]
  },
  {
   "cell_type": "markdown",
   "metadata": {},
   "source": [
    "### Ex.6 Rearrange Palindrome\n",
    "\n",
    "Given a string, Check if characters of the given string can be rearranged to form a palindrome. "
   ]
  },
  {
   "cell_type": "code",
   "execution_count": 45,
   "metadata": {},
   "outputs": [
    {
     "name": "stdout",
     "output_type": "stream",
     "text": [
      "True\n",
      "True\n",
      "True\n",
      "False\n"
     ]
    }
   ],
   "source": [
    "from collections import Counter\n",
    "\n",
    "def canRearrage(string):\n",
    "    if not string:\n",
    "        return False\n",
    "    \n",
    "    counter = Counter(string)\n",
    "    has_odd = False\n",
    "    for k,v in counter.items():\n",
    "        if v % 2 == 1:\n",
    "            if has_odd == True:\n",
    "                return False\n",
    "            else:\n",
    "                has_odd = True\n",
    "    return True\n",
    "\n",
    "print(canRearrage(\"baaaa\"))\n",
    "print(canRearrage(\"ababaa\"))\n",
    "print(canRearrage(\"ababcbaab\"))\n",
    "print(canRearrage(\"ababcbaa\"))"
   ]
  },
  {
   "cell_type": "markdown",
   "metadata": {},
   "source": [
    "### Ex.7 Longest Palindrome\n",
    "\n",
    "Given a string which consists of lowercase or uppercase letters, find the length of the longest palindromes that can be built with those letters.\n",
    "\n",
    "This is case sensitive, for example \"Aa\" is not considered a palindrome here."
   ]
  },
  {
   "cell_type": "code",
   "execution_count": 46,
   "metadata": {},
   "outputs": [
    {
     "data": {
      "text/plain": [
       "7"
      ]
     },
     "execution_count": 46,
     "metadata": {},
     "output_type": "execute_result"
    }
   ],
   "source": [
    "def longestPalindrome(string):\n",
    "    if not string:\n",
    "        return 0\n",
    "    counter = Counter(string)\n",
    "    rst = 0\n",
    "    \n",
    "    for k, v in counter.items():\n",
    "        rst += (v // 2) * 2\n",
    "        if rst % 2 == 0 and v % 2 == 1:\n",
    "            rst += 1\n",
    "    \n",
    "    return rst\n",
    "\n",
    "longestPalindrome(\"abccccdd\")\n"
   ]
  },
  {
   "cell_type": "markdown",
   "metadata": {
    "collapsed": true
   },
   "source": [
    " # String IV\n",
    "\n",
    "## Subsequence"
   ]
  },
  {
   "cell_type": "markdown",
   "metadata": {},
   "source": [
    "### Ex.1 Longest Subsequence\n",
    "\n",
    "Given a string ‘s’ and an integer k, find other string ‘t’ such that ‘t’ is the largest subsequence of given string ‘s’ and each character of ‘t’ must occur at least k times in string s.\n",
    "\n",
    "Input : \n",
    "s = \"baaabaacba\"\n",
    "\n",
    "k = 3\n",
    "\n",
    "Output : baaabaaba"
   ]
  },
  {
   "cell_type": "code",
   "execution_count": 47,
   "metadata": {},
   "outputs": [
    {
     "data": {
      "text/plain": [
       "'baaabaaba'"
      ]
     },
     "execution_count": 47,
     "metadata": {},
     "output_type": "execute_result"
    }
   ],
   "source": [
    "# O(n)\n",
    "def LongestSubsequence(s, k):\n",
    "    counter = Counter(s)\n",
    "    rst = ''\n",
    "    for i in range(len(s)):\n",
    "        if counter[s[i]] >= k:\n",
    "            rst += s[i]\n",
    "    \n",
    "    return rst\n",
    "\n",
    "s = \"baaabaacba\"\n",
    "k = 3\n",
    "LongestSubsequence(s, k)"
   ]
  },
  {
   "cell_type": "markdown",
   "metadata": {},
   "source": [
    "### Ex.2 Check Subsequence\n",
    "\n",
    "Given two string str1, and str2. Determine whether str1 is a subsequence of str2. A subsequence is a sequence that can be derived from another sequence by deleting some elements without changing the order of the remaining elements.\n",
    "\n",
    "Input: str1 = \"AXY\", str2 = \"ADXCPY\"\n",
    "\n",
    "Output: True (str1 is a subsequence of str2)\n",
    "\n",
    "Input: str1 = \"AXY\", str2 = \"YADXCP\"\n",
    "\n",
    "Output: False (str1 is not a subsequence of str2)"
   ]
  },
  {
   "cell_type": "code",
   "execution_count": 52,
   "metadata": {},
   "outputs": [
    {
     "data": {
      "text/plain": [
       "False"
      ]
     },
     "execution_count": 52,
     "metadata": {},
     "output_type": "execute_result"
    }
   ],
   "source": [
    "def CheckSubsequence(str1, str2):\n",
    "    if not str1 or not str2:\n",
    "        return False\n",
    "    if len(str1) > len(str2):\n",
    "        return False\n",
    "    \n",
    "    p1 = 0\n",
    "    for p2 in range(len(str2)):\n",
    "        if str1[p1] == str2[p2]:\n",
    "            p1 += 1\n",
    "        if p1 == len(str1):\n",
    "            return True\n",
    "    \n",
    "    return False\n",
    "\n",
    "str1 = \"AXY\"\n",
    "str2 = \"ADXCPY\"\n",
    "str2 = \"YADXCP\"\n",
    "CheckSubsequence(str1, str2)"
   ]
  },
  {
   "cell_type": "markdown",
   "metadata": {},
   "source": [
    "### Ex.3 Longest Word in Dictionary by Deleteing Characters of Given String\n",
    "\n",
    "Giving a dictionary and a string ‘str’, find the longest string in dictionary which can be formed by deleting some characters of the given ‘str’.\n",
    "\n",
    "Examples:\n",
    "\n",
    "Input :\n",
    "\n",
    "dict = {\"ale\", \"apple\", \"monkey\", \"plea\"}   \n",
    "        \n",
    "str = \"abpcplea\"  \n",
    "\n",
    "Output : apple \n"
   ]
  },
  {
   "cell_type": "code",
   "execution_count": 56,
   "metadata": {},
   "outputs": [
    {
     "data": {
      "text/plain": [
       "'apple'"
      ]
     },
     "execution_count": 56,
     "metadata": {},
     "output_type": "execute_result"
    }
   ],
   "source": [
    "# O(kn)\n",
    "def LongestWord(dic, string):\n",
    "    if not dic or not string:\n",
    "        return ''\n",
    "    \n",
    "    rst = ''\n",
    "    max_length = 0\n",
    "    for word in dic:\n",
    "        if CheckSubsequence(word, string):\n",
    "            if len(word) > max_length:\n",
    "                max_length = len(word)\n",
    "                rst = word\n",
    "            \n",
    "    return rst\n",
    "\n",
    "words = [\"ale\", \"apple\", \"monkey\", \"plea\"]\n",
    "s = \"abpcplea\"\n",
    "LongestWord(words, s)"
   ]
  },
  {
   "cell_type": "markdown",
   "metadata": {},
   "source": [
    "### Ex.4 Find Sum of Sum of All Subsequences\n",
    "\n",
    "Given an array of n integers. The task is to find the sum of sum of each of sub-sequence of the array.\n"
   ]
  },
  {
   "cell_type": "code",
   "execution_count": null,
   "metadata": {
    "collapsed": true
   },
   "outputs": [],
   "source": [
    "'''\n",
    "Input : arr[] = { 6, 8, 5 }\n",
    "Output : 76\n",
    "All subsequence sum are:\n",
    "{ 6 }, sum = 6\n",
    "{ 8 }, sum = 8\n",
    "{ 5 }, sum = 5\n",
    "{ 6, 8 }, sum = 14\n",
    "{ 6, 5 }, sum = 11\n",
    "{ 8, 5 }, sum = 13\n",
    "{ 6, 8, 5 }, sum = 19\n",
    "Total sum = 76.\n",
    "\n",
    "'''\n",
    "print()"
   ]
  },
  {
   "cell_type": "markdown",
   "metadata": {
    "collapsed": true
   },
   "source": [
    "# String V\n",
    "\n",
    "## Pattern Searching"
   ]
  },
  {
   "cell_type": "markdown",
   "metadata": {},
   "source": [
    "### Ex.1 find\n",
    "\n",
    "Return the index of the first occurrence of needle in haystack, or -1 if needle is not part of haystack."
   ]
  },
  {
   "cell_type": "code",
   "execution_count": 73,
   "metadata": {},
   "outputs": [
    {
     "data": {
      "text/plain": [
       "10"
      ]
     },
     "execution_count": 73,
     "metadata": {},
     "output_type": "execute_result"
    }
   ],
   "source": [
    "def strStr(haystack, needle):\n",
    "    if not haystack or not needle:\n",
    "        return -1\n",
    "    if len(needle) > len(haystack):\n",
    "        return -1\n",
    "    \n",
    "    n = len(needle)\n",
    "    base = 29\n",
    "    needle_hash = 0\n",
    "    hay_hash = 0\n",
    "    tmp_base = 1\n",
    "    \n",
    "    for i in range(n):\n",
    "        needle_hash += ord(needle[i]) * tmp_base\n",
    "        tmp_base *= base\n",
    "    \n",
    "    tmp_base = 1\n",
    "    for i in range(n):\n",
    "        hay_hash += ord(haystack[i]) * tmp_base\n",
    "        tmp_base *= base\n",
    "        \n",
    "    for i in range(n,len(haystack)):\n",
    "        if hay_hash == needle_hash and haystack[i-n:i] == needle: # 即使hashcode相等了，两个字符串也不一定相等\n",
    "            return i-n\n",
    "        # error1: (hay_hash-ord(haystack[i-n]) // base) + ord(haystack[i]) * (base**(n-1))  括号少了hay_hash-ord(haystack[i-n])\n",
    "        # error2: (hay_hash-ord(haystack[i-n]) // base) + ord(haystack[i]) * base   后面的base写错了\n",
    "        # error3: ((hay_hash-ord(haystack[i-n]) // base) + ord(haystack[i])) * (base**(n-1)) 应该只有刚加进来的数字去乘以base\n",
    "        hay_hash = ((hay_hash-ord(haystack[i-n])) // base) + ord(haystack[i]) * (base**(n-1))\n",
    "        \n",
    "    return -1\n",
    "\n",
    "\n",
    "text = \"THIS IS A TEST TEXT\"\n",
    "pattern = \"TEST\"\n",
    "strStr(text, pattern)"
   ]
  },
  {
   "cell_type": "markdown",
   "metadata": {},
   "source": [
    "### Ex.3 Replace All Occurrences of String AB with C\n",
    "\n",
    "Given a string str that may contain one more occurrences of “AB”. Replace all occurrences of “AB” with “C” in str."
   ]
  },
  {
   "cell_type": "code",
   "execution_count": 76,
   "metadata": {},
   "outputs": [
    {
     "data": {
      "text/plain": [
       "'helloCworldCGfGAAC'"
      ]
     },
     "execution_count": 76,
     "metadata": {},
     "output_type": "execute_result"
    }
   ],
   "source": [
    "def replace(str_lst):\n",
    "    n = len(str_lst)\n",
    "    if n < 2:\n",
    "        return ''.join(str_lst)\n",
    "    \n",
    "    l = r = 0\n",
    "    \n",
    "    while r < n-1:\n",
    "        if str_lst[r] == 'A' and str_lst[r+1] == 'B':\n",
    "            str_lst[l] = 'C'\n",
    "            l += 1\n",
    "            r += 2\n",
    "            continue\n",
    "        str_lst[l] = str_lst[r]\n",
    "        l += 1\n",
    "        r += 1\n",
    "    \n",
    "    if r == (n-1):\n",
    "        str_lst[l] = str_lst[r]\n",
    "        i += 1\n",
    "    \n",
    "    return ''.join(str_lst[:l])\n",
    "\n",
    "str_lst = list(\"helloABworldABGfGAAAB\")\n",
    "replace(str_lst)"
   ]
  },
  {
   "cell_type": "markdown",
   "metadata": {},
   "source": [
    "### Ex.3 Count of Occurrences of “1(0+)1” Pattern\n",
    "\n",
    "Given an alphanumeric string, find the number of times a pattern 1(0+)1 occurs in the given string. Here, (0+) signifies the presence of non empty sequence of consecutive 0’s."
   ]
  },
  {
   "cell_type": "code",
   "execution_count": null,
   "metadata": {
    "collapsed": true
   },
   "outputs": [],
   "source": [
    "'''\n",
    "Input : 1001010001\n",
    "Output : 3\n",
    "First sequence is in between 0th and 3rd index.\n",
    "Second sequence is in between 3rd and 5th index.\n",
    "Third sequence is in between 5th and 9th index.\n",
    "So total number of sequences comes out to be 3.\n",
    "\n",
    "Input : 1001ab010abc01001\n",
    "Output : 2\n",
    "First sequence is in between 0th and 3rd index.\n",
    "Second valid sequence is in between 13th and 16th index. \n",
    "So total number of sequences comes out to be 2.\n",
    "'''\n",
    "print()"
   ]
  },
  {
   "cell_type": "code",
   "execution_count": 79,
   "metadata": {},
   "outputs": [
    {
     "data": {
      "text/plain": [
       "2"
      ]
     },
     "execution_count": 79,
     "metadata": {},
     "output_type": "execute_result"
    }
   ],
   "source": [
    "## 如果11也计入...\n",
    "def CountPattern(string):\n",
    "    count = 0\n",
    "    flag = False\n",
    "    if len(string) < 3:\n",
    "        return 0\n",
    "    \n",
    "    for s in string:\n",
    "        if s == '1':\n",
    "            if flag == True:\n",
    "                count += 1\n",
    "            else:\n",
    "                flag = True\n",
    "        elif s != '0':\n",
    "            flag = False\n",
    "    \n",
    "    return count\n",
    "string = '1001ab010abc01001'\n",
    "CountPattern(string)"
   ]
  },
  {
   "cell_type": "code",
   "execution_count": 86,
   "metadata": {},
   "outputs": [
    {
     "data": {
      "text/plain": [
       "2"
      ]
     },
     "execution_count": 86,
     "metadata": {},
     "output_type": "execute_result"
    }
   ],
   "source": [
    "## 11不计入...\n",
    "def CountPattern(s):\n",
    "    last = s[0]\n",
    "    i = 1\n",
    "    counter = 0\n",
    "    while i < len(s):\n",
    "        if last == '1' and s[i] == '0':\n",
    "            while s[i] == '0' and i < len(s):\n",
    "                i += 1\n",
    "                if s[i] == '1':\n",
    "                    counter += 1\n",
    "                if i == len(s) - 1:\n",
    "                    return counter\n",
    "        last = s[i]\n",
    "        i += 1\n",
    "    \n",
    "    return counter\n",
    "\n",
    "string = '1001ab010abc01001'\n",
    "CountPattern(string)"
   ]
  },
  {
   "cell_type": "markdown",
   "metadata": {},
   "source": [
    "### Ex.4 String Matching with Wildcard Characters\n",
    "\n",
    "Given two strings where first string may contain wild card characters and second string is a normal string. Write a function that returns true if the two strings match. The following are allowed wild card characters in first string.\n",
    "\n",
    "\\* --> Matches with 0 or more instances of any character or set of characters.\n",
    "\n",
    "? --> Matches with any one character."
   ]
  },
  {
   "cell_type": "code",
   "execution_count": null,
   "metadata": {
    "collapsed": true
   },
   "outputs": [],
   "source": [
    "'''\n",
    "Solution:\n",
    "We can use dp to solve this question. Assumed we build a dp[len(first)][len(second)].\n",
    "If first[i] == second[j], then dp[i][j] = dp[i - 1][j - 1]\n",
    "If second[j] == '?', then dp[i][j] == dp[i - 1][j - 1]\n",
    "If second[j] == '*', then dp[i][j] == dp[i - 1][j] or dp[i][j - 1]\n",
    "    because when second[j] == '*' and * match nothing, that means first[:i] match second[:j - 1]\n",
    "    when second[j] == '*' and * match many characters, that means first[:i - 1] match second[:j]\n",
    "        - because if first[:i - 1] match seco nd[:j], then whatever adding i, second[:j] will still match first[:i - 1]\n",
    "\n",
    "paying attention to i - 1 and j - 1. So, the first row and col should be False, except dp[0][0] = True\n",
    "    \n",
    "'''"
   ]
  },
  {
   "cell_type": "code",
   "execution_count": 100,
   "metadata": {},
   "outputs": [
    {
     "name": "stdout",
     "output_type": "stream",
     "text": [
      "[True, False, False, False, False]\n",
      "[False, True, False, False, False]\n",
      "[False, True, False, False, False]\n",
      "[False, True, True, True, False]\n",
      "[False, True, False, True, True]\n",
      "True\n",
      "[True, False, False, False, False, False]\n",
      "[False, True, False, False, False, False]\n",
      "[False, True, True, False, False, False]\n",
      "[False, True, True, True, True, False]\n",
      "[False, True, True, False, True, True]\n",
      "True\n"
     ]
    }
   ],
   "source": [
    "def match(str1, str2):\n",
    "    if not str1 or not str2:\n",
    "        return Fasle\n",
    "    \n",
    "    n1 = len(str1)\n",
    "    n2 = len(str2)\n",
    "    dp = [[False for j in range(n2 + 1)] for i in range(n1 + 1) ]\n",
    "    dp[0][0] = True\n",
    "    \n",
    "    for i in range(1, n1+1):\n",
    "        for j in range(1, n2+1):\n",
    "            if str1[i-1] == str2[j-1]:\n",
    "                dp[i][j] = dp[i-1][j-1]\n",
    "            elif str2[j-1] == '?':\n",
    "                dp[i][j] = dp[i-1][j-1]\n",
    "            elif str2[j-1] == '*':\n",
    "                if j-1 == 0:\n",
    "                    dp[i][j] = True\n",
    "                else:\n",
    "                    dp[i][j] = dp[i][j-1] or dp[i-1][j]\n",
    "            else:\n",
    "                dp[i][j] = False\n",
    "    for i in range(n1+1):\n",
    "        print(dp[i])\n",
    "                \n",
    "    return dp[-1][-1]\n",
    "\n",
    "print(match(\"abcd\", \"*c*d\")) # Yes\n",
    "print(match(\"abcd\", \"*?c*d\")) # Yes"
   ]
  },
  {
   "cell_type": "code",
   "execution_count": null,
   "metadata": {
    "collapsed": true
   },
   "outputs": [],
   "source": []
  }
 ],
 "metadata": {
  "kernelspec": {
   "display_name": "Python 3",
   "language": "python",
   "name": "python3"
  },
  "language_info": {
   "codemirror_mode": {
    "name": "ipython",
    "version": 3
   },
   "file_extension": ".py",
   "mimetype": "text/x-python",
   "name": "python",
   "nbconvert_exporter": "python",
   "pygments_lexer": "ipython3",
   "version": "3.6.1"
  }
 },
 "nbformat": 4,
 "nbformat_minor": 2
}
