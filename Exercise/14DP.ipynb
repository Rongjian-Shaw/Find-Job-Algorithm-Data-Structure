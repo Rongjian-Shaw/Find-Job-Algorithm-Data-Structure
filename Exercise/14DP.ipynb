{
 "cells": [
  {
   "cell_type": "markdown",
   "metadata": {},
   "source": [
    "# Dynamic Programming"
   ]
  },
  {
   "cell_type": "markdown",
   "metadata": {},
   "source": [
    "** 我们已经见过的Dynamic Programming相关的问题：**\n",
    "\n",
    "- Fibonacci\n",
    "\n",
    "- Hanoi Tower\n",
    "\n",
    "- Maximum Sum Subarray"
   ]
  },
  {
   "cell_type": "markdown",
   "metadata": {},
   "source": [
    "### What is Dynamic Programming\n",
    "\n",
    "** Divide: ** breaking a complex problem into a set of simpler sub-problems, solving each of those sub-problems just once, and storing their solutions - ideally, using a memory-based data structure\n",
    "\n",
    "** Lookup: ** The next time the same sub-problem occurs, instead of re-computing its solution, one simply looks up the previously computed solution, thereby saving computation time at the expense of a (hopefully) modest expenditure in storage space\n",
    "\n",
    "The technique of storing solutions to sub-problems instead of re-computing them is called ** “memoization” **\n",
    "\n",
    "- Divide-and-conquer.  Break up a problem into independent subproblems, solve each subproblem, and combine solution to subproblems to form solution to original problem\n",
    "    - Top-Down\n",
    "- Dynamic programming.  Break up a problem into a series of overlapping subproblems, and build up solutions to larger and larger subproblems\n",
    "    - Bottom-Up"
   ]
  },
  {
   "cell_type": "markdown",
   "metadata": {},
   "source": [
    "### 1-D Dynamic Programming"
   ]
  },
  {
   "cell_type": "markdown",
   "metadata": {},
   "source": [
    "### <a id='Ex1'> Ex.1 Number Problem\n",
    "\n",
    "Given n, find the number of different ways to write n as the sum of 1, 3, 4."
   ]
  },
  {
   "cell_type": "code",
   "execution_count": 2,
   "metadata": {},
   "outputs": [
    {
     "data": {
      "text/plain": [
       "6"
      ]
     },
     "execution_count": 2,
     "metadata": {},
     "output_type": "execute_result"
    }
   ],
   "source": [
    "def numberProblem(num):\n",
    "    # dp[i] 表示当num为i的时候，分法的个数,注意这里是看顺序的，比如1,2和2,1是两种方法\n",
    "    dp = [0] * (num+1)\n",
    "    dp[0] = dp[1] = dp[2] = 1\n",
    "    dp[3] = 2\n",
    "    for i in range(4, num+1):\n",
    "        dp[i] = dp[i-1] + dp[i-3] + dp[i-4]\n",
    "    \n",
    "    return dp[num]\n",
    "\n",
    "numberProblem(5)"
   ]
  },
  {
   "cell_type": "markdown",
   "metadata": {},
   "source": [
    "### <a id='Ex2'> Ex.2 House Robber\n",
    "\n",
    "You are a professional robber planning to rob houses along a street. Each house has a certain amount of money stashed, the only constraint stopping you from robbing each of them is that adjacent houses have security system connected and it will automatically contact the police if two adjacent houses were broken into on the same night.\n",
    "\n",
    "Given a list of non-negative integers representing the amount of money of each house, determine the maximum amount of money you can rob tonight without alerting the police."
   ]
  },
  {
   "cell_type": "code",
   "execution_count": 4,
   "metadata": {},
   "outputs": [
    {
     "data": {
      "text/plain": [
       "11"
      ]
     },
     "execution_count": 4,
     "metadata": {},
     "output_type": "execute_result"
    }
   ],
   "source": [
    "def robber(houses):\n",
    "#              打劫房子0号                            不打劫0号\n",
    "    return max(robber_helper(houses, 2)+houses[0], robber_helper(houses, 1))\n",
    "\n",
    "def robber_helper(houses, cur):\n",
    "    if cur > len(houses) - 1:\n",
    "        return 0\n",
    "    if cur == len(houses) - 1:\n",
    "        return houses[len(houses) - 1]\n",
    "    return max(robber_helper(houses, cur+2)+houses[cur], robber_helper(houses, cur+1))\n",
    "\n",
    "houses = [2,1,5,3,4,3]\n",
    "robber(houses)"
   ]
  },
  {
   "cell_type": "code",
   "execution_count": 10,
   "metadata": {},
   "outputs": [
    {
     "data": {
      "text/plain": [
       "12"
      ]
     },
     "execution_count": 10,
     "metadata": {},
     "output_type": "execute_result"
    }
   ],
   "source": [
    "def robber(houses):\n",
    "    dp = [0] * (len(houses)+1)\n",
    "    dp[1] = houses[0]\n",
    "    for i in range(2, len(houses)+1):\n",
    "        # 房子1,2,3,4...\n",
    "        # max（打劫房子i, 不打劫房子i）\n",
    "        dp[i] = max(dp[i-2]+houses[i-1], dp[i-1])\n",
    "    return dp[-1]\n",
    "\n",
    "houses = [2,7,9,3,1]\n",
    "robber(houses)"
   ]
  },
  {
   "cell_type": "markdown",
   "metadata": {},
   "source": [
    "### <a id='Ex3'> Ex.3 House Robber II \n",
    "\n",
    "** Follow up: **\n",
    "\n",
    "All houses at this place are arranged in a circle. That means the first house is the neighbor of the last one. Meanwhile, the security system for these houses remain the same as for those in the previous street."
   ]
  },
  {
   "cell_type": "code",
   "execution_count": 9,
   "metadata": {},
   "outputs": [
    {
     "data": {
      "text/plain": [
       "11"
      ]
     },
     "execution_count": 9,
     "metadata": {},
     "output_type": "execute_result"
    }
   ],
   "source": [
    "def robber(houses):\n",
    "    # 不抢第一个房子\n",
    "    dp_no1st = [0] * (len(houses)+1)\n",
    "    dp_no1st[1] = 0\n",
    "    for i in range(2, len(houses)+1):\n",
    "        dp_no1st[i] = max(dp_no1st[i-2]+houses[i-1], dp_no1st[i-1])\n",
    "    \n",
    "    # 抢\n",
    "    # 将dp_rob1st[1] = houses[0]，对于dp[-1]来说如果它没抢1st，它的值就会和dp_no1st[-1]相同，如果抢了1st，就会不同\n",
    "    dp_rob1st = [0]  * (len(houses)+1)\n",
    "    dp_rob1st[1] = houses[0]\n",
    "    for i in range(2, len(houses)+1):\n",
    "        if i == len(houses):\n",
    "            dp_rob1st[i] = dp_rob1st[i-1]\n",
    "        else:\n",
    "            dp_rob1st[i] = max(dp_rob1st[i-2]+houses[i-1], dp_rob1st[i-1])\n",
    "    \n",
    "    return max(dp_no1st[-1], dp_rob1st[-1])\n",
    "\n",
    "houses = [2,7,9,3,1]\n",
    "robber(houses)"
   ]
  },
  {
   "cell_type": "markdown",
   "metadata": {},
   "source": [
    "### <a id='Ex4'> Ex.4 Planning Party \n",
    "\n",
    "A company is planning a party for its employees. The employees are organized into a strict hierarchy, i.e. a tree rooted the president. There is one restriction for the party, though, on the guest list to the party: an employee and his/her immediate supervisor (parent in the tree) cannot both attend the party. You wish to prepare a guest list for the party that maximizes the number of the guests.\n",
    "\n",
    "** Follow up: **\n",
    "\n",
    "It is a fund raising party, and the organizer knows how much each employee would donate, in advance. So the question is, how to maximize the money."
   ]
  },
  {
   "cell_type": "markdown",
   "metadata": {},
   "source": [
    "# Solution:\n",
    "上司与下属之间的关系会构成一种树结构。当我们从根节点开始进行统计的时候会发现，当决定一个父节点的时候无法知道其邻居的最大值信息，也就无法知道总的最大值信息。因此考虑从叶子向根进行统计。\n",
    "\n",
    "那么针对每一个node，其抢的最大值是 yes[i] = Σ子节点NO() + V(n),其不抢的最大值 NO[i] = Σmax(yes[child], no[child])"
   ]
  },
  {
   "cell_type": "markdown",
   "metadata": {},
   "source": [
    "### <a id='Ex5'> Tile Problem\n",
    "\n",
    "Given a 𝑛×2 board and tiles of size 1×2, count the number of ways to tile the given board using the 1×2 tiles. A tile can either be placed horizontally i.e., as a 1×2 tile or vertically i.e., as 2×1 tile.\n",
    "\n",
    "** Follow up (Challenge!!!) **\n",
    "\n",
    "In how many ways can you tile a 3×𝑛 rectangle with 2×1 dominoes? \n",
    "\n",
    "<img src=\"../images/ch22/tile.png\" width=\"600\"/>"
   ]
  },
  {
   "cell_type": "code",
   "execution_count": 13,
   "metadata": {},
   "outputs": [
    {
     "data": {
      "text/plain": [
       "5"
      ]
     },
     "execution_count": 13,
     "metadata": {},
     "output_type": "execute_result"
    }
   ],
   "source": [
    "# 思路：对于3*2， 如果第一片（最后一片也行）是横着铺的话，那么后面就变成2*2了，就有f(2)种可能，如果我第一片是竖着铺的，那么必定要连铺两片\n",
    "#      所以后面只剩下1*2的空间了，有f(1)种选择\n",
    "\n",
    "def tile(n):\n",
    "    dp = [0] * (n+1)\n",
    "    dp[0] = 0\n",
    "    dp[1] = 1\n",
    "    dp[2] = 2\n",
    "    \n",
    "    for i in range(3, n+1):\n",
    "        dp[i] = dp[i-1] + dp[i-2]\n",
    "    \n",
    "    return dp[-1]\n",
    "\n",
    "tile(4)"
   ]
  },
  {
   "cell_type": "markdown",
   "metadata": {},
   "source": [
    "### <a id='Ex6'> Ex. 6 Min Cost Climbing Stairs\n",
    "\n",
    "On a staircase, the i-th step has some non-negative cost cost[i] assigned (0 indexed).\n",
    "\n",
    "Once you pay the cost, you can either climb one or two steps. You need to find minimum cost to reach the top of the floor, and you can either start from the step with index 0, or the step with index 1."
   ]
  },
  {
   "cell_type": "code",
   "execution_count": null,
   "metadata": {
    "collapsed": true
   },
   "outputs": [],
   "source": [
    "# 理解：[1, 100, 1, 1, 1, 100, 1, 1, 100, 1]\n",
    "[1]: 这是一阶台阶的情况，stairs下标为0，dp[0]表示走到这阶台阶上的花费，dp[0]=0; dp[1]表示跨出这阶台阶的花费，dp[1]=0\n",
    "[1,100]: 两阶台阶的情况，dp[1]表示我走到100这阶台阶所需要的花费，dp[2]表示我已经跨过了100这个台阶，那么它可以是从s[0]或s[1]上跨过来的\n",
    "        如果是从s[0]上过来的，那就是dp[0]+s[0]，dp[0]表示走到1这阶台阶上的花费；\n",
    "        如果是从s[1]上过来的，那就是dp[1]+s[1]，dp[1]表示走到100这阶台阶上的花费\n",
    "假如给了n个台阶的花费，那么我们要算出来的是走到第n+1台阶所需要的花费，而台阶是从下标0开始的"
   ]
  },
  {
   "cell_type": "code",
   "execution_count": 14,
   "metadata": {},
   "outputs": [
    {
     "name": "stdout",
     "output_type": "stream",
     "text": [
      "[0, 0, 1, 2, 2, 3, 3, 4, 4, 5, 6]\n"
     ]
    },
    {
     "data": {
      "text/plain": [
       "6"
      ]
     },
     "execution_count": 14,
     "metadata": {},
     "output_type": "execute_result"
    }
   ],
   "source": [
    "# Solution:\n",
    "# 我们可以发现，想到达任意台阶，其必定是从其前两个台阶或者前一个台阶过来的。因此公式就是：\n",
    "# dp[i] = min(dp[i-2]+cost[i-2], dp[i-1]+cost[i-1])\n",
    "\n",
    "def climbingStairs(stairs):\n",
    "    dp = [0] * (len(stairs)+1)\n",
    "    dp[0] = 0\n",
    "    dp[1] = 0\n",
    "    \n",
    "    for i in range(2, len(stairs)+1):\n",
    "        dp[i] = min(dp[i-2]+stairs[i-2], dp[i-1]+stairs[i-1])\n",
    "    \n",
    "    print(dp)\n",
    "    return dp[-1]\n",
    "\n",
    "stairs = [1, 100, 1, 1, 1, 100, 1, 1, 100, 1]\n",
    "climbingStairs(stairs)"
   ]
  },
  {
   "cell_type": "markdown",
   "metadata": {},
   "source": [
    "### <a id='Ex7'> Ex. 7 Decode Way\n",
    "\n",
    "A message containing letters from A-Z is being encoded to numbers using the following mapping:\n",
    "\n",
    "'A' -> 1 \n",
    "\n",
    "'B' -> 2 \n",
    "\n",
    "... \n",
    "\n",
    "'Z' -> 26 \n",
    "\n",
    "Given an encoded message containing digits, determine the total number of ways to decode it.\n",
    "\n",
    "Input: \"12\"\n",
    "\n",
    "Output: 2\n",
    "\n",
    "Explanation: It could be decoded as \"AB\" (1 2) or \"L\" (12).\n",
    "\n",
    "Input: \"226\"\n",
    "    \n",
    "Output: 3\n",
    "    \n",
    "Explanation: It could be decoded as \"BZ\" (2 26), \"VF\" (22 6), or \"BBF\" (2 2 6)."
   ]
  },
  {
   "cell_type": "code",
   "execution_count": 17,
   "metadata": {},
   "outputs": [
    {
     "data": {
      "text/plain": [
       "2"
      ]
     },
     "execution_count": 17,
     "metadata": {},
     "output_type": "execute_result"
    }
   ],
   "source": [
    "def decode(String):\n",
    "    if len(String) < 2:\n",
    "        return 1\n",
    "    if int(String[:2]) <= 26:\n",
    "        return decode_helper(String, 0) + decode_helper(String, 1)\n",
    "    else:\n",
    "        return decode_helper(String, 0)\n",
    "    \n",
    "def decode_helper(String, cur):\n",
    "    if cur == len(String)-1:\n",
    "        return 1\n",
    "    if cur > len(String)-1:\n",
    "        return 0\n",
    "    else:\n",
    "        if len(String)-1-cur > 1 and int(String[cur+1:cur+3]) <= 26:\n",
    "            return decode_helper(String, cur+1) + decode_helper(String, cur+2)\n",
    "        else:\n",
    "            return decode_helper(String, cur+1)\n",
    "        \n",
    "decode('12')\n",
    "            "
   ]
  },
  {
   "cell_type": "code",
   "execution_count": 20,
   "metadata": {},
   "outputs": [
    {
     "data": {
      "text/plain": [
       "2"
      ]
     },
     "execution_count": 20,
     "metadata": {},
     "output_type": "execute_result"
    }
   ],
   "source": [
    "def decode(String):\n",
    "    if len(String) < 2:\n",
    "        return 1\n",
    "    dp = [0] * (len(String)+1)\n",
    "    dp[0] = dp[1] = 1\n",
    "    \n",
    "    for i in range(2, len(String)+1):\n",
    "        if int(String[i-2:i]) <= 26:\n",
    "            # dp[i] = 取String[i-1:i]的情况 + 取String[i-2:i]的情况\n",
    "            dp[i] = dp[i-1] + dp[i-2]\n",
    "        else:\n",
    "            dp[i] = dp[i-1]\n",
    "            \n",
    "    return dp[-1]\n",
    "\n",
    "decode('136')"
   ]
  },
  {
   "cell_type": "markdown",
   "metadata": {},
   "source": [
    "### <a id='Ex8'> Ex. 8 Unique Binary Search Trees\n",
    "\n",
    "Given n, how many structurally unique BST's (binary search trees) that store values 1...n?"
   ]
  },
  {
   "cell_type": "code",
   "execution_count": 23,
   "metadata": {},
   "outputs": [
    {
     "data": {
      "text/plain": [
       "5"
      ]
     },
     "execution_count": 23,
     "metadata": {},
     "output_type": "execute_result"
    }
   ],
   "source": [
    "# Solution:\n",
    "# 1个点：1\n",
    "# 2个点：2\n",
    "# 3个点：2 + 1 + 2 = 5\n",
    "# 4个点：5 + 2 + 2 + 5 = 14\n",
    "# 针对每一种情况我们都可以发现，我们只需要逐一将每一个点置于root，然后左右两边就会变成子情况了\n",
    "def uniqueBST(n):\n",
    "    dp = [0] * (n+1)\n",
    "    dp[0] = dp[1] = 1\n",
    "    dp[2] = 2\n",
    "    \n",
    "    for i in range(3, n+1):\n",
    "        for j in range(i):\n",
    "            dp[i] += dp[j] * dp[i-1-j]\n",
    "    \n",
    "    return dp[-1]\n",
    "\n",
    "uniqueBST(3)"
   ]
  },
  {
   "cell_type": "markdown",
   "metadata": {},
   "source": [
    "### <a id='Ex9'> Ex. 9 Maximum Product Subarray\n",
    "\n",
    "Find the contiguous subarray within an array (containing at least one number) which has the largest product."
   ]
  },
  {
   "cell_type": "code",
   "execution_count": 26,
   "metadata": {},
   "outputs": [
    {
     "data": {
      "text/plain": [
       "6"
      ]
     },
     "execution_count": 26,
     "metadata": {},
     "output_type": "execute_result"
    }
   ],
   "source": [
    "def maxSubarray(nums):\n",
    "    # maximun, minimum表示算上当前元素的最大值和最小值，rst是全局最大值\n",
    "    maximum = minimum = rst = nums[0]\n",
    "    for i in range(1, len(nums)):\n",
    "        # nums[i]可以用于刷新开头的元素，maximum*nums[i]用于两个值都是正数，minimum*nums[i]用于两个值都是负数\n",
    "        maximum = max(nums[i], maximum*nums[i], minimum*nums[i])\n",
    "        minimum = min(nums[i], minimum*nums[i], maximum*nums[i])\n",
    "        rst = max(rst, maximum)\n",
    "        \n",
    "    return rst\n",
    "\n",
    "nums = [2,3,-2,4]\n",
    "maxSubarray(nums)"
   ]
  },
  {
   "cell_type": "markdown",
   "metadata": {},
   "source": [
    "# Dynamic Programming II"
   ]
  },
  {
   "cell_type": "markdown",
   "metadata": {},
   "source": [
    "### <a id='Ex1'> Ex.1 Stock Problem I\n",
    "\n",
    "Say you have an array for which the ith element is the price of a given stock on day i.\n",
    "\n",
    "If you were only permitted to complete at most one transaction (i.e., buy one and sell one share of the stock), design an algorithm to find the maximum profit.\n",
    "\n",
    "Note that you cannot sell a stock before you buy one."
   ]
  },
  {
   "cell_type": "code",
   "execution_count": 27,
   "metadata": {},
   "outputs": [
    {
     "data": {
      "text/plain": [
       "5"
      ]
     },
     "execution_count": 27,
     "metadata": {},
     "output_type": "execute_result"
    }
   ],
   "source": [
    "# 保持记录每一个值前面的最小值，然后用每一个值去减去当前的最小值\n",
    "def stock1(prices):\n",
    "    minimum = prices[0]\n",
    "    dp = [0] * len(prices)\n",
    "    for i in range(1, len(prices)):\n",
    "        dp[i] = max(dp[i-1], prices[i]-minimum)\n",
    "        minimum = min(minimum, prices[i])\n",
    "    \n",
    "    return dp[-1]\n",
    "\n",
    "prices = [7,1,5,3,6,4]\n",
    "stock1(prices)"
   ]
  },
  {
   "cell_type": "markdown",
   "metadata": {},
   "source": [
    "### <a id='Ex2'> Ex.2 Stock Problem II\n",
    "\n",
    "Say you have an array for which the ith element is the price of a given stock on day i.\n",
    "\n",
    "Design an algorithm to find the maximum profit. You may complete as many transactions as you like (i.e., buy one and sell one share of the stock multiple times).\n",
    "\n",
    "Note: You may not engage in multiple transactions at the same time (i.e., you must sell the stock before you buy again)."
   ]
  },
  {
   "cell_type": "code",
   "execution_count": 28,
   "metadata": {},
   "outputs": [
    {
     "data": {
      "text/plain": [
       "7"
      ]
     },
     "execution_count": 28,
     "metadata": {},
     "output_type": "execute_result"
    }
   ],
   "source": [
    "def stock2(prices):\n",
    "    dp = [0] * len(prices)\n",
    "    \n",
    "    for i in range(1, len(prices)):\n",
    "        dp[i] = max(dp[i-1], dp[i-1]+(prices[i]-prices[i-1]))\n",
    "    \n",
    "    return dp[-1]\n",
    "\n",
    "prices = [7,1,5,3,6,4]\n",
    "stock2(prices)"
   ]
  },
  {
   "cell_type": "markdown",
   "metadata": {
    "collapsed": true
   },
   "source": [
    "### <a id='Ex3'> Ex.3 Stock Problem III (with Transaction Fees)\n",
    "\n",
    "Your are given an array of integers prices, for which the i-th element is the price of a given stock on day i; and a non-negative integer fee representing a transaction fee.\n",
    "\n",
    "You may complete as many transactions as you like, but you need to pay the transaction fee for each transaction. You may not buy more than 1 share of a stock at a time (ie. you must sell the stock share before you buy again.)\n",
    "\n",
    "Return the maximum profit you can make."
   ]
  },
  {
   "cell_type": "markdown",
   "metadata": {},
   "source": [
    "# Solution:\n",
    "Since we need to pay transaction fee for each transaction, so we cannot buy and sell stock only when the next stock is more expensive than \n",
    "last one, just like the stockII. \n",
    "\n",
    "Therefore, we need to maintain two states.One is cash, which means I have cash and I dont hold stock. The other is hold, which means that I hold a stock and of course, I \n",
    "probably also have some money. \n",
    "\n",
    "In any state, cash[i] = cash[i-1] or hold[i-1] + price[i] - fee, which means I do not buy any stock in this state, or means I sell my stock in this state. \n",
    "\n",
    "Hold state also has two probabilities, hold[i] = hold[i-1] or cash[i-1] - price[i], which means I have had a stock in previous state and I do not sell it in this state, or means I buy a new stock in this state."
   ]
  },
  {
   "cell_type": "code",
   "execution_count": 29,
   "metadata": {},
   "outputs": [
    {
     "data": {
      "text/plain": [
       "8"
      ]
     },
     "execution_count": 29,
     "metadata": {},
     "output_type": "execute_result"
    }
   ],
   "source": [
    "def stock3(prices, fee):\n",
    "    if len(prices) < 2:\n",
    "        return 0\n",
    "    \n",
    "    cash = [0] * len(prices)\n",
    "    hold = [0] * len(prices)\n",
    "    hold[0] = -prices[0]\n",
    "    \n",
    "    for i in range(1, len(prices)):\n",
    "        cash[i] = max(cash[i-1], hold[i-1] + prices[i] - fee)\n",
    "        hold[i] = max(hold[i-1], cash[i-1] - prices[i])\n",
    "        \n",
    "    return cash[-1]\n",
    "\n",
    "prices = [1, 3, 2, 8, 4, 9] # 1~8, 4~9\n",
    "fee = 2\n",
    "stock3(prices, fee)"
   ]
  },
  {
   "cell_type": "markdown",
   "metadata": {},
   "source": [
    "### <a id='Ex4'> Ex.4 Stock Problem IV\n",
    "\n",
    "Say you have an array for which the ith element is the price of a given stock on day i.\n",
    "\n",
    "Design an algorithm to find the maximum profit. You may complete at most two transactions.\n",
    "\n",
    "Note: You may not engage in multiple transactions at the same time (i.e., you must sell the stock before you buy again)."
   ]
  },
  {
   "cell_type": "markdown",
   "metadata": {},
   "source": [
    "# Solution:\n",
    "We can find maximun price difference from left to right. For example, in prices = [2,4,6,1,3,8,3], we can find maximun price difference \n",
    "LR_max_profit = [0,2,4,4,4,4,7,7]. At the same time, we can also find max_profit from right to left, RL_max_profit = [7,7,7,7,5,0,0], RL[i] means that I buy stock in state i and it also means I find max profit from i to end. Therefore, we only need to split the prices from maxIdx(LR, RL)"
   ]
  },
  {
   "cell_type": "code",
   "execution_count": 32,
   "metadata": {},
   "outputs": [
    {
     "data": {
      "text/plain": [
       "6"
      ]
     },
     "execution_count": 32,
     "metadata": {},
     "output_type": "execute_result"
    }
   ],
   "source": [
    "def stock4(prices):\n",
    "    LR_profit = [0] * len(prices)\n",
    "    RL_profit = [0] * len(prices)\n",
    "    \n",
    "    minimum = prices[0]\n",
    "    maximum = prices[-1]\n",
    "    \n",
    "    for i in range(1, len(prices)):\n",
    "        j = len(prices) - 1 - i \n",
    "        # LR_profit[i]表示允许从头买入，到i卖出的最大收益\n",
    "        LR_profit[i] = max(LR_profit[i-1], prices[i]-minimum)\n",
    "        minimum = min(minimum, prices[i])\n",
    "        \n",
    "        # RL_profit[j]表示允许从j买入，到可以最后卖出的最大收益\n",
    "        RL_profit[j] = max(RL_profit[j+1], maximum - prices[j])\n",
    "        maximum = max(maximum, prices[j])\n",
    "        \n",
    "    sum_profit = [LR_profit[i] + RL_profit[i] for i in range(len(prices))]\n",
    "    \n",
    "    return max(sum_profit)\n",
    "\n",
    "prices = [3,3,5,0,0,3,1,4]\n",
    "stock4(prices)"
   ]
  },
  {
   "cell_type": "markdown",
   "metadata": {},
   "source": [
    "### <a id='Ex5'> Ex.5 Stock Problem V\n",
    "\n",
    "Say you have an array for which the ith element is the price of a given stock on day i.\n",
    "\n",
    "Design an algorithm to find the maximum profit. You may complete at most k transactions."
   ]
  },
  {
   "cell_type": "raw",
   "metadata": {},
   "source": [
    "# Solution:\n",
    "This problem requires us to find the maximum profit and complete at most k transaction. It also means that we can find the maximum profit at k-1, k-2,...,1 transaction.\n",
    "\n",
    "Let us start from an example. prices = [5,11,3,50,60,90] with k = 2\n",
    "We build a table. Row is day and col is transaction. Numbers in table is the maximun profit. \n",
    "\n",
    "Since we would not get any profit if there are not any transaction, the first row is zeros. Since buying and selling will not happen in one day, the first col is zeros.\n",
    "\n",
    "    5, 11,  3, 50, 60, 90\n",
    "  \n",
    "0   0,  0,  0,  0,  0,  0\n",
    "\n",
    "1   0,  6,  6, 47, 57, 87\n",
    "\n",
    "2   0,  6,  6, 53, 63\n",
    "\n",
    "Let us call this table profit[t][d], t means row and transaction, and d means col and day.\n",
    "\n",
    "We find that the profit[t][d] has two conditions. \n",
    "1) We do not sell stock on day d, so profit[t][d] = profit[t][d - 1]\n",
    "2) We sell stock on day d, that also means we've bought stock before. profit[t][d] = price[d] + max(profit[t - 1][x] - price[x]). 0<=x<d\n",
    "\n",
    "profit[t][d] = profit[t][d - 1]\n",
    "\n",
    "          or\n",
    "            \n",
    "          price[d] + max(profit[t - 1][x] - price[x]) 0<=x<d\n",
    "\n",
    "Since we always need to iterate 0<=x<d when we calculate the second condition profit[t][d] = price[d] + max(profit[t - 1][x] - price[x]), we should optimize this process. We can store it. We can use maxThusFar = max(maxThusFar, profit[t - 1][d - 1] - price[d - 1]) to store it, because we calculate every profit from left to right.\n",
    "\n",
    "Therefore, the time complexity will become O(kn) from O(kn^2)"
   ]
  },
  {
   "cell_type": "code",
   "execution_count": 33,
   "metadata": {},
   "outputs": [
    {
     "data": {
      "text/plain": [
       "7"
      ]
     },
     "execution_count": 33,
     "metadata": {},
     "output_type": "execute_result"
    }
   ],
   "source": [
    "def stock5(prices, k):\n",
    "    n = len(prices)\n",
    "    profit = [[0 for j in range(n)] for i in range(k+1)]\n",
    "    \n",
    "    for t in range(1, k+1):\n",
    "        max_so_far = -0x7fffffff\n",
    "        for d in range(1, n):\n",
    "            max_so_far = max(max_so_far, profit[t-1][d-1]-prices[d-1])\n",
    "            profit[t][d] = max(profit[t][d-1], prices[d]+max_so_far)\n",
    "    \n",
    "    return profit[-1][-1]\n",
    "\n",
    "prices = [3,2,6,5,0,3]\n",
    "k = 2\n",
    "stock5(prices, k)"
   ]
  },
  {
   "cell_type": "code",
   "execution_count": 97,
   "metadata": {},
   "outputs": [
    {
     "name": "stdout",
     "output_type": "stream",
     "text": [
      "[0, 0, 0, 0, 0, 0] [0, 0, 0, 0, 0, 0]\n",
      "[0, 0, 4, 4, 4, 4] [0, 0, 0, 0, 0, 0]\n",
      "[0, 0, 4, 4, 4, 4] [0, 0, 4, 4, 4, 7]\n"
     ]
    },
    {
     "data": {
      "text/plain": [
       "7"
      ]
     },
     "execution_count": 97,
     "metadata": {},
     "output_type": "execute_result"
    }
   ],
   "source": [
    "# optimizing space complexity\n",
    "# we can use two row to replace profits\n",
    "def maxProfit5(prices, k):\n",
    "    n = len(prices)\n",
    "    if n < k/2: # since transaction indcludes buying and selling\n",
    "        maxProfit2(prices)\n",
    "    evenProfits = [0 for d in range(n)]\n",
    "    oddProfits = [0 for d in range(n)]\n",
    "    print(oddProfits, evenProfits)\n",
    "    \n",
    "    for t in range(1, k + 1):\n",
    "        maxThusFar = float(\"-inf\")\n",
    "        if t % 2 == 1:\n",
    "            currentProfits = oddProfits\n",
    "            previousProfits = evenProfits\n",
    "        else:\n",
    "            currentProfits = evenProfits\n",
    "            previousProfits = oddProfits\n",
    "        for d in range(1, n):\n",
    "            maxThusFar = max(maxThusFar, previousProfits[d - 1] - prices[d - 1])\n",
    "            currentProfits[d] = max(currentProfits[d - 1], prices[d] + maxThusFar)\n",
    "        print(oddProfits, evenProfits)\n",
    "    return currentProfits[-1]\n",
    "prices = [3,2,6,5,0,3]\n",
    "k = 2\n",
    "maxProfit5(prices, k)   "
   ]
  },
  {
   "cell_type": "markdown",
   "metadata": {},
   "source": [
    "### <a id='Ex6'> Ex.6 Stock Problem VI\n",
    "\n",
    "Say you have an array for which the ith element is the price of a given stock on day i.\n",
    "\n",
    "Design an algorithm to find the maximum profit. You may complete as many transactions as you like (ie, buy one and sell one share of the stock multiple times) with the following restrictions:\n",
    "\n",
    "You may not engage in multiple transactions at the same time (ie, you must sell the stock before you buy again).\n",
    "After you sell your stock, you cannot buy stock on next day. (ie, cooldown 1 day)"
   ]
  },
  {
   "cell_type": "code",
   "execution_count": 35,
   "metadata": {},
   "outputs": [
    {
     "data": {
      "text/plain": [
       "3"
      ]
     },
     "execution_count": 35,
     "metadata": {},
     "output_type": "execute_result"
    }
   ],
   "source": [
    "def stock6(prices):\n",
    "    n = len(prices)\n",
    "    cash = [0] * n\n",
    "    hold = [0] * n\n",
    "    hold[0] = -prices[0] \n",
    "    \n",
    "    for i in range(1, n):\n",
    "        if i == 1:\n",
    "            hold[i] = max(hold[i-1], cash[i-1]-prices[i])\n",
    "        else:\n",
    "            hold[i] = max(hold[i-1], cash[i-2]-prices[i])\n",
    "        cash[i] = max(cash[i-1], hold[i-1]+prices[i])\n",
    "        \n",
    "    return cash[-1]\n",
    "\n",
    "prices = [1,2,3,0,2]\n",
    "stock6(prices)"
   ]
  },
  {
   "cell_type": "markdown",
   "metadata": {},
   "source": [
    "### 2-D Dynamic Programming"
   ]
  },
  {
   "cell_type": "markdown",
   "metadata": {},
   "source": [
    "** Ex.1 Unique Path **\n",
    "\n",
    "A robot is located at the top-left corner of a m x n grid (marked 'Start' in the diagram below).\n",
    "\n",
    "The robot can only move either down or right at any point in time. The robot is trying to reach the bottom-right corner of the grid (marked 'Finish' in the diagram below).\n",
    "\n",
    "How many possible unique paths are there?\n",
    "\n",
    "<img src=\"../images/ch22/robot_maze.png\" width=\"360\"/>"
   ]
  },
  {
   "cell_type": "code",
   "execution_count": 65,
   "metadata": {},
   "outputs": [
    {
     "data": {
      "text/plain": [
       "1"
      ]
     },
     "execution_count": 65,
     "metadata": {},
     "output_type": "execute_result"
    }
   ],
   "source": [
    "def uniquePaths(m, n):\n",
    "    dp = [[1 for j in range(n)] for i in range(m)]\n",
    "    \n",
    "    for i in range(1, m):\n",
    "        for j in range(1, n):\n",
    "            dp[i][j] = dp[i-1][j] + dp[i][j-1]\n",
    "    \n",
    "    return dp[-1][-1]\n",
    "\n",
    "uniquePaths(2, 1)"
   ]
  },
  {
   "cell_type": "code",
   "execution_count": 37,
   "metadata": {},
   "outputs": [
    {
     "data": {
      "text/plain": [
       "10"
      ]
     },
     "execution_count": 37,
     "metadata": {},
     "output_type": "execute_result"
    }
   ],
   "source": [
    "def uniquePaths(m, n):\n",
    "    matrix = [1 for i in range(n)]\n",
    "    for i in range(1, m):\n",
    "        for j in range(1, n):\n",
    "            matrix[j] += matrix[j - 1]\n",
    "    return matrix[-1]\n",
    "\n",
    "uniquePaths(3, 4)"
   ]
  },
  {
   "cell_type": "markdown",
   "metadata": {},
   "source": [
    "** Ex.2 Unique Path II **\n",
    "\n",
    "Follow up:\n",
    "\n",
    "Now consider if some obstacles are added to the grids. How many unique paths would there be?\n",
    "\n",
    "An obstacle and empty space is marked as 1 and 0 respectively in the grid.\n",
    "\n",
    "For example,\n",
    "\n",
    "There is one obstacle in the middle of a 3x3 grid as illustrated below.\n",
    "\n",
    "[\n",
    "\n",
    "  [0,0,0],\n",
    "  \n",
    "  [0,1,0],\n",
    "  \n",
    "  [0,0,0]\n",
    "  \n",
    "]\n",
    "\n",
    "The total number of unique paths is 2.\n",
    "\n",
    "<img src=\"../images/ch23/WechatIMG2537.jpeg\" width=\"360\"/>"
   ]
  },
  {
   "cell_type": "code",
   "execution_count": 40,
   "metadata": {},
   "outputs": [
    {
     "data": {
      "text/plain": [
       "7"
      ]
     },
     "execution_count": 40,
     "metadata": {},
     "output_type": "execute_result"
    }
   ],
   "source": [
    "def uniquePaths(grid):\n",
    "    dp = [[0 if grid[i][j] == 1 else 1 for j in range(len(grid[0]))] for i in range(len(grid))]\n",
    "    \n",
    "    for i in range(1, len(grid)):\n",
    "        for j in range(1, len(grid[0])):\n",
    "            if grid[i][j] != 1:\n",
    "                dp[i][j] = dp[i-1][j] + dp[i][j-1]\n",
    "    \n",
    "    return dp[-1][-1]\n",
    "\n",
    "grid = [\n",
    "    [0,0,0],\n",
    "    [0,1,0],\n",
    "    [0,0,0]\n",
    "]\n",
    "uniquePaths(grid)\n",
    "\n",
    "grid = [\n",
    "    [0,0,0,0,0,0,0],\n",
    "    [0,0,1,0,0,0,0],\n",
    "    [0,0,0,0,1,0,0]\n",
    "]\n",
    "uniquePaths(grid)"
   ]
  },
  {
   "cell_type": "markdown",
   "metadata": {},
   "source": [
    "** Ex.3 Moving on Checkerboard **\n",
    "\n",
    "We are given a grid of squares or a checkerboard with (n) rows and (n) columns. There is a profit we can get by moving to some square in the checkerboard. Our goal is to find the most profitable way from some square in the first row to some square in the last row. We can always move to the next square on the next row using one of three ways:\n",
    "\n",
    "Go to the square on the next row on the previous column (UP then LEFT)\n",
    "\n",
    "Go to the square on the next row on the same column (UP)\n",
    "\n",
    "Go to the square on the next row on the next column (UP then RIGHT)\n",
    "\n",
    "<img src=\"../images/ch22/checker_board.jpg\" width=\"300\"/>"
   ]
  },
  {
   "cell_type": "code",
   "execution_count": 41,
   "metadata": {},
   "outputs": [
    {
     "data": {
      "text/plain": [
       "12"
      ]
     },
     "execution_count": 41,
     "metadata": {},
     "output_type": "execute_result"
    }
   ],
   "source": [
    "def moveOnCheckboard(board):\n",
    "    dp = board[:][:]\n",
    "    \n",
    "    for i in range(1, len(board)):\n",
    "        for j in range(len(board[0])):\n",
    "            if j > 0 and j < len(board[0])-1:\n",
    "                dp[i][j] = board[i][j] + max(dp[i-1][j-1], dp[i-1][j], dp[i-1][j+1])\n",
    "            elif j == 0:\n",
    "                dp[i][j] = board[i][j] + max(dp[i-1][j], dp[i-1][j+1])\n",
    "            else:\n",
    "                dp[i][j] = board[i][j] + max(dp[i-1][j-1], dp[i-1][j])\n",
    "    \n",
    "    return max(dp[-1][:])\n",
    "\n",
    "board = [\n",
    "    [3,-2, 6,-3, 4, 1, 2],\n",
    "    [0, 4, 1, 3,-1, 4, 3],\n",
    "    [2, 2,-1, 3, 2, 0, 2]\n",
    "]\n",
    "moveOnCheckboard(board)"
   ]
  },
  {
   "cell_type": "markdown",
   "metadata": {},
   "source": [
    "** Ex.4 Maximum Square **"
   ]
  },
  {
   "cell_type": "markdown",
   "metadata": {},
   "source": [
    "Given a 2D binary matrix filled with 0's and 1's, find the largest square containing only 1's and return its area.\n",
    "\n",
    "For example, given the following matrix:\n",
    "    \n",
    "<img src=\"../images/ch23/WechatIMG2529.jpeg\" width=\"140\"/>\n",
    "\n",
    "Return 4."
   ]
  },
  {
   "cell_type": "markdown",
   "metadata": {},
   "source": [
    "# Solution:\n",
    "we can create a result matrix. Every position in rst represents a maximum square on its left-up, which means this position is the right-down one of a maximum position. Then we can find that every position depend on its up, left-up, left position. \n",
    "\n",
    "Therefore, rst[i][j] = min(rst[i - 1][j], rst[i - 1][j - 1], rst[i][j - 1]) + 1 if rst[i][j] is 1."
   ]
  },
  {
   "cell_type": "code",
   "execution_count": 43,
   "metadata": {},
   "outputs": [
    {
     "data": {
      "text/plain": [
       "4"
      ]
     },
     "execution_count": 43,
     "metadata": {},
     "output_type": "execute_result"
    }
   ],
   "source": [
    "def maxSquare(matrix):\n",
    "    dp = matrix[:][:]\n",
    "    maximum = 0\n",
    "    \n",
    "    for i in range(1, len(matrix)):\n",
    "        for j in range(1, len(matrix[0])):\n",
    "            if matrix[i][j] == 1:\n",
    "                dp[i][j] = min(dp[i-1][j], dp[i][j-1], dp[i-1][j-1]) + 1\n",
    "                maximum = max(dp[i][j], maximum)\n",
    "            \n",
    "    \n",
    "    return maximum * maximum #maximum记录的只是最大方形的边长\n",
    "\n",
    "matrix = [\n",
    "    [1,0,1,0,0],\n",
    "    [1,0,1,1,1],\n",
    "    [1,1,1,1,1],\n",
    "    [1,0,0,1,0]\n",
    "]\n",
    "maxSquare(matrix)"
   ]
  },
  {
   "cell_type": "markdown",
   "metadata": {},
   "source": [
    "** Ex.5 0/1 Knapsack **\n",
    "\n",
    "Given weights and values of n items, put these items in a knapsack of capacity W to get the maximum total value in the knapsack. "
   ]
  },
  {
   "cell_type": "markdown",
   "metadata": {},
   "source": [
    "# Solution:\n",
    "we can build a table dp[n][w], w is avalable weight of bag, n is the number of item.\n",
    "\n",
    "The first row is the first bag, if avalable weight is smaller than wt[0], then dp is 0 else dp is val[0]. The first col means not weight avalable, so first col is 0. \n",
    "\n",
    "For any dp[n][w]. If we take n th item, then dp = dp[n-1][w-wt[n]]. If we not take nth item, then dp = dp[n-1][w]. If avalable weight is smaller than wt[n], then we can only ignore current item\n",
    "\n",
    "dp[n][w]表示，在背包还剩w空间的情况下，考虑前n个物品能获得的最大价值\n",
    "\n",
    "当我们要取n这个物品的时候，我们得为它预留容量，这就是为啥dp = dp[n-1][w-wt[n]]，也就是说我还有w-wt[n]的容量去考虑n-1个物品"
   ]
  },
  {
   "cell_type": "code",
   "execution_count": 49,
   "metadata": {},
   "outputs": [
    {
     "name": "stdout",
     "output_type": "stream",
     "text": [
      "[[0, 0, 0, 0, 0, 0], [0, 0, 0, 5, 5, 5], [0, 0, 0, 0, 0, 0], [0, 0, 0, 0, 0, 0]]\n",
      "[[0, 0, 0, 0, 0, 0], [0, 0, 0, 5, 5, 5], [0, 0, 3, 5, 5, 8], [0, 0, 0, 0, 0, 0]]\n",
      "[[0, 0, 0, 0, 0, 0], [0, 0, 0, 5, 5, 5], [0, 0, 3, 5, 5, 8], [0, 4, 4, 7, 9, 9]]\n",
      "9\n"
     ]
    }
   ],
   "source": [
    "def knapSack(W, wt, val, n):\n",
    "    dp = [[0 for j in range(W+1)] for i in range(n+1)]\n",
    "    \n",
    "    for i in range(1, n+1):\n",
    "        for w in range(1, W+1):\n",
    "            if w >= wt[i-1]: # 注意wt和val的下标是从0开始就表示物品了\n",
    "                dp[i][w] = max(dp[i-1][w-wt[i-1]]+val[i-1], dp[i-1][w])\n",
    "            else:\n",
    "                dp[i][w] = dp[i-1][w]\n",
    "        print(dp)\n",
    "    \n",
    "    return dp[-1][-1]\n",
    "\n",
    "val = [5, 3, 4]\n",
    "wt = [3, 2, 1]\n",
    "W = 5\n",
    "n = len(val)\n",
    "print(knapSack(W, wt, val, n))"
   ]
  },
  {
   "cell_type": "markdown",
   "metadata": {},
   "source": [
    "** Ex.6 Longest Common Substring **\n",
    "\n",
    "Given two strings ‘X’ and ‘Y’, find the length of the longest common substring.\n",
    "\n",
    "Input : X = \"abcdxyz\", y = \"xyzabcd\"\n",
    "\n",
    "Output : 4\n",
    "\n",
    "The longest common substring is \"abcd\" and is of length 4.\n",
    "\n",
    "\n",
    "Input : X = \"zxabcdezy\", y = \"yzabcdezx\"\n",
    "\n",
    "Output : 6\n",
    "\n",
    "The longest common substring is \"abcdez\" and is of length 6."
   ]
  },
  {
   "cell_type": "code",
   "execution_count": 61,
   "metadata": {},
   "outputs": [
    {
     "name": "stdout",
     "output_type": "stream",
     "text": [
      "[0, 0, 0, 0, 0, 0, 0, 0, 0, 0]\n",
      "[0, 0, 1, 1, 1, 1, 1, 1, 1, 1]\n",
      "[0, 0, 1, 1, 1, 1, 1, 1, 1, 2]\n",
      "[0, 0, 1, 1, 1, 1, 1, 1, 1, 2]\n",
      "[0, 0, 1, 1, 2, 2, 2, 2, 2, 2]\n",
      "[0, 0, 1, 1, 2, 3, 3, 3, 3, 3]\n",
      "[0, 0, 1, 1, 2, 3, 4, 4, 4, 4]\n",
      "[0, 0, 1, 1, 2, 3, 4, 5, 5, 5]\n",
      "[0, 0, 1, 1, 2, 3, 4, 5, 6, 6]\n",
      "[0, 1, 1, 1, 2, 3, 4, 5, 6, 6]\n"
     ]
    },
    {
     "data": {
      "text/plain": [
       "6"
      ]
     },
     "execution_count": 61,
     "metadata": {},
     "output_type": "execute_result"
    }
   ],
   "source": [
    "def LCS(x, y):\n",
    "    dp = [[0 for j in range(len(y)+1)] for i in range(len(x)+1)]\n",
    "    \n",
    "    for i in range(1, len(x)+1):\n",
    "        for j in range(1, len(y)+1):\n",
    "            if x[i-1] == y[j-1]:\n",
    "                if i == 1 or j == 1:\n",
    "                    dp[i][j] = dp[i-1][j-1] + 1\n",
    "                elif x[i-2] != y[j-2]: #注意找的是子串，那么一定要是连续的，这里检测是否连续\n",
    "                    dp[i][j] = max(1, dp[i-1][j], dp[i][j-1])\n",
    "                else:\n",
    "                    dp[i][j] = dp[i-1][j-1] + 1\n",
    "                    \n",
    "            else:\n",
    "                dp[i][j] = max(dp[i-1][j], dp[i][j-1])\n",
    "                \n",
    "    for i in range(len(x)+1):\n",
    "        print(dp[i])\n",
    "    return dp[-1][-1]\n",
    "\n",
    "# x = \"abcdxyz\"\n",
    "# y = \"xyzabcd\"\n",
    "# LCS(x, y)\n",
    "\n",
    "x = \"zxabcdezy\"\n",
    "y = \"yzabcdezx\"\n",
    "LCS(x, y)"
   ]
  },
  {
   "cell_type": "markdown",
   "metadata": {},
   "source": [
    "** Ex.7 Longest Increasing Subsequence **\n",
    "\n",
    "Given an unsorted array of integers, find the length of longest increasing subsequence.\n",
    "\n",
    "For example,\n",
    "\n",
    "Given [10, 9, 2, 5, 3, 7, 101, 18],\n",
    "\n",
    "The longest increasing subsequence is [2, 3, 7, 101], therefore the length is 4. Note that there may be more than one LIS combination, it is only necessary for you to return the length.\n",
    "\n",
    "Your algorithm should run in O(n2) complexity.\n",
    "\n",
    "Follow up: Could you improve it to O(n log n) time complexity?"
   ]
  },
  {
   "cell_type": "code",
   "execution_count": 2,
   "metadata": {},
   "outputs": [
    {
     "data": {
      "text/plain": [
       "4"
      ]
     },
     "execution_count": 2,
     "metadata": {},
     "output_type": "execute_result"
    }
   ],
   "source": [
    "def lengthOfLIS2(nums):\n",
    "    if not nums:\n",
    "        return 0\n",
    "    n = len(nums)\n",
    "    dp = [1 for i in range(n)] # dp[i]表示如果LIS的结尾是i，的最长LIS长度\n",
    "    for i in range(1, n):\n",
    "        for j in range(i):\n",
    "            if nums[i] > nums[j]:\n",
    "                dp[i] = max(dp[i], dp[j] + 1) # since when we iterate i, the dp[i] always changing, we need to find the maximun.\n",
    "    return max(dp)     \n",
    "\n",
    "nums = [10, 9, 2, 5, 3, 7, 101, 18]\n",
    "lengthOfLIS2(nums)"
   ]
  },
  {
   "cell_type": "code",
   "execution_count": 63,
   "metadata": {},
   "outputs": [
    {
     "data": {
      "text/plain": [
       "False"
      ]
     },
     "execution_count": 63,
     "metadata": {},
     "output_type": "execute_result"
    }
   ],
   "source": [
    "nums = [1]\n",
    "not nums"
   ]
  },
  {
   "cell_type": "code",
   "execution_count": null,
   "metadata": {
    "collapsed": true
   },
   "outputs": [],
   "source": []
  }
 ],
 "metadata": {
  "kernelspec": {
   "display_name": "Python 3",
   "language": "python",
   "name": "python3"
  },
  "language_info": {
   "codemirror_mode": {
    "name": "ipython",
    "version": 3
   },
   "file_extension": ".py",
   "mimetype": "text/x-python",
   "name": "python",
   "nbconvert_exporter": "python",
   "pygments_lexer": "ipython3",
   "version": "3.8.3"
  }
 },
 "nbformat": 4,
 "nbformat_minor": 2
}
