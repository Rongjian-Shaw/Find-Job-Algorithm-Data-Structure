{
 "cells": [
  {
   "cell_type": "code",
   "execution_count": 3,
   "metadata": {},
   "outputs": [
    {
     "name": "stdout",
     "output_type": "stream",
     "text": [
      "size was:  0\n",
      "size was:  5\n",
      "5 4 3 2 1 \n",
      "size was:  3\n",
      "5 4 3 \n",
      "7 6 5 4 3 \n",
      "size was:  3\n",
      "7 6 5 \n",
      "size was:  0\n",
      "Queue is empty\n",
      "\n"
     ]
    }
   ],
   "source": [
    "class ArrayQueue:\n",
    "    DEFAULT_CAPACITY = 10\n",
    "    def __init__(self):\n",
    "        self._data = [None] * ArrayQueue.DEFAULT_CAPACITY # 注意加上ArrayQueue\n",
    "        self._front = 0 # head\n",
    "        self._size = 0\n",
    "        \n",
    "    def __len__(self):\n",
    "        return self._size\n",
    "    \n",
    "    def is_empty(self):\n",
    "        return self._size == 0\n",
    "        \n",
    "    def first(self):\n",
    "        if self.is_empty( ):\n",
    "            raise ValueError( 'Queue is empty' )\n",
    "        return self._data[self._front]\n",
    "        \n",
    "    def dequeue(self):\n",
    "        if self.is_empty( ):\n",
    "            raise ValueError( 'Queue is empty' )\n",
    "        answer = self._data[self._front]\n",
    "        self._data[self._front] = None\n",
    "        self._front = (self._front + 1) % len(self._data)\n",
    "        self._size -= 1\n",
    "        return answer\n",
    "        \n",
    "    def enqueue(self, e):\n",
    "        if self._size == len(self._data):\n",
    "            self.resize(2 * len(self._data))\n",
    "        tail = (self._front + self._size) % len(self._data)\n",
    "        self._data[tail] = e\n",
    "        self._size += 1\n",
    "        \n",
    "    def resize(self, cap):\n",
    "        old = self._data\n",
    "        self._data = [None] * len(self._data) * 2\n",
    "        for i in range(self._size):\n",
    "            self.data[i] = old[(self._front + i) % len(self._data)]\n",
    "        self._front = 0\n",
    "        \n",
    "    def printqueue(self):\n",
    "        if self.is_empty( ):\n",
    "            print( 'Queue is empty' )\n",
    "        for i in range(self._size):\n",
    "            tail = (self._front + self._size - 1 - i) % len(self._data)\n",
    "            print(self._data[tail], end = ' ')\n",
    "        print()\n",
    "        \n",
    "myqueue = ArrayQueue()\n",
    "print ('size was: ', str(len(myqueue)))\n",
    "myqueue.enqueue(1)\n",
    "myqueue.enqueue(2)\n",
    "myqueue.enqueue(3)\n",
    "myqueue.enqueue(4)\n",
    "myqueue.enqueue(5)\n",
    "print ('size was: ', str(len(myqueue)))\n",
    "myqueue.printqueue()\n",
    "myqueue.dequeue()\n",
    "myqueue.dequeue()\n",
    "print ('size was: ', str(len(myqueue)))\n",
    "myqueue.printqueue()\n",
    "myqueue.enqueue(6)\n",
    "myqueue.enqueue(7)\n",
    "myqueue.printqueue()\n",
    "myqueue.dequeue()\n",
    "myqueue.dequeue()\n",
    "print ('size was: ', str(len(myqueue)))\n",
    "myqueue.printqueue()\n",
    "myqueue.dequeue()\n",
    "myqueue.dequeue()\n",
    "myqueue.dequeue()\n",
    "print ('size was: ', str(len(myqueue)))\n",
    "myqueue.printqueue()\n",
    "#myqueue.dequeue()"
   ]
  },
  {
   "cell_type": "markdown",
   "metadata": {
    "collapsed": true
   },
   "source": [
    "### <a id='Ex1'>Ex.1 Implement Stack using Queues </a>"
   ]
  },
  {
   "cell_type": "code",
   "execution_count": 5,
   "metadata": {},
   "outputs": [
    {
     "name": "stdout",
     "output_type": "stream",
     "text": [
      "2\n",
      "3\n"
     ]
    }
   ],
   "source": [
    "from LinkedList import LinkedList\n",
    "from LinkedList import Node\n",
    "\n",
    "class StackWithQueue:\n",
    "    def __init__(self):\n",
    "        self.queue = LinkedList()\n",
    "        \n",
    "    # Push element x onto stack.\n",
    "    def push(self, x):\n",
    "        self.queue.add_last(x)\n",
    "    \n",
    "    def pop(self):\n",
    "        size = self.queue.size()\n",
    "        # 将queue尾巴前的元素都取出来逐个加入到queue尾，让原来queue尾的元素出现在queue头部\n",
    "        for i in range(1, size):\n",
    "            self.queue.add_last(self.queue.remove_first())\n",
    "        result = self.queue.remove_first()\n",
    "        return result\n",
    "    \n",
    "    def top(self):\n",
    "        size = self.queue.size()\n",
    "        # 将queue尾巴前的元素都取出来逐个加入到queue尾，让原来queue尾的元素出现在queue头部\n",
    "        for i in range(1, size):\n",
    "            self.queue.add_last(self.queue.remove_first())\n",
    "        result = self.queue.remove_first()\n",
    "        self.queue.add_last(result)\n",
    "        return result\n",
    "    \n",
    "stack = StackWithQueue() \n",
    "stack.push(1)\n",
    "stack.push(2)\n",
    "print(stack.top())\n",
    "\n",
    "\n",
    "stack = StackWithQueue()\n",
    "stack.push(1)\n",
    "stack.push(2)\n",
    "stack.pop()\n",
    "stack.push(3)\n",
    "print(stack.top())"
   ]
  },
  {
   "cell_type": "code",
   "execution_count": null,
   "metadata": {
    "collapsed": true
   },
   "outputs": [],
   "source": []
  }
 ],
 "metadata": {
  "kernelspec": {
   "display_name": "Python 3",
   "language": "python",
   "name": "python3"
  },
  "language_info": {
   "codemirror_mode": {
    "name": "ipython",
    "version": 3
   },
   "file_extension": ".py",
   "mimetype": "text/x-python",
   "name": "python",
   "nbconvert_exporter": "python",
   "pygments_lexer": "ipython3",
   "version": "3.6.1"
  }
 },
 "nbformat": 4,
 "nbformat_minor": 2
}
