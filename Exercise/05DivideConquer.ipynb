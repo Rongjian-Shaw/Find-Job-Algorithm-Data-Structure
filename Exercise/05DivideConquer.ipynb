{
 "cells": [
  {
   "cell_type": "markdown",
   "metadata": {},
   "source": [
    "** 我们已经见过的Divide and Conquer相关的问题：**\n",
    "\n",
    "- Binary Search\n",
    "- Merge Sort\n",
    "- Quick Sort\n",
    "\n",
    "The divide-and-conquer strategy solves a problem by:\n",
    "1. Breaking it into subproblems that are themselves smaller instances of the same type of problem\n",
    "2. Recursively solving these subproblems\n",
    "3. Appropriately combining their answers\n",
    "\n",
    "The real work is done piecemeal, in three different places: in the partitioning of problems into subproblems; at the very tail end of the recursion, when the subproblems are so small that they are solved outright; and in the gluing together of partial answers. These are held together and coordinated by the algorithm’s core recursive structure."
   ]
  },
  {
   "cell_type": "markdown",
   "metadata": {
    "run_control": {
     "frozen": false,
     "read_only": false
    }
   },
   "source": [
    "### <a id='Ex1'>Ex.1: Find Medium / Find kth Element</a>\n",
    "\n",
    "See Document."
   ]
  },
  {
   "cell_type": "code",
   "execution_count": 5,
   "metadata": {},
   "outputs": [
    {
     "data": {
      "text/plain": [
       "3"
      ]
     },
     "execution_count": 5,
     "metadata": {},
     "output_type": "execute_result"
    }
   ],
   "source": [
    "def find_kth_element(alist, k):\n",
    "    if len(alist) < k:\n",
    "        return -1\n",
    "    pos = partition(alist) # return the index of the leftest ele\n",
    "    \n",
    "    if k < pos+1:\n",
    "        rst = find_kth_element(alist[:pos], k)\n",
    "    elif k > pos+1:\n",
    "        rst = find_kth_element(alist[pos+1:], k-pos-1)\n",
    "    else:\n",
    "        rst = alist[pos]\n",
    "    return rst\n",
    "\n",
    "def partition(alist):\n",
    "    pivot = alist[0]\n",
    "    left, right = 0, len(alist)-1\n",
    "    while left < right:\n",
    "        while left < right and alist[right] > pivot:\n",
    "            right = right-1\n",
    "        alist[left] = alist[right]\n",
    "        while left < right and alist[left] < pivot:\n",
    "            left = left+1\n",
    "        alist[right] = alist[left]\n",
    "    alist[left] = pivot # 这句别漏了\n",
    "    return left\n",
    "\n",
    "alist = [3,4,1,6,5,2]\n",
    "find_kth_element(alist, 3)\n",
    "# 对partition的理解：\n",
    "# 1. 如果左端的数作pivot，那一定是从右指针开始移动，因为第一个数需要和pivot进行替换，而左侧代表着最小\n",
    "# 2. 最后l与r必定重合，而且重合的位置一定刚刚被复制到另一个地方，也就是说重合位置上的数一定是冗余的\n",
    "# 3. 冗余位的两侧必定已经符合条件（都被遍历过）"
   ]
  },
  {
   "cell_type": "markdown",
   "metadata": {},
   "source": [
    "### <a id='Ex2'>Ex.2: Fast Power</a>"
   ]
  },
  {
   "cell_type": "code",
   "execution_count": 6,
   "metadata": {},
   "outputs": [
    {
     "data": {
      "text/plain": [
       "32"
      ]
     },
     "execution_count": 6,
     "metadata": {},
     "output_type": "execute_result"
    }
   ],
   "source": [
    "def fast_power(x, n):\n",
    "    if n == 0:\n",
    "        return 1\n",
    "    if n == 1:\n",
    "        return x\n",
    "    if n%2 == 1:\n",
    "        return fast_power(x*x, (n-1)//2) * x\n",
    "    else:\n",
    "        return fast_power(x*x, n//2)\n",
    "\n",
    "fast_power(2, 5)"
   ]
  },
  {
   "cell_type": "markdown",
   "metadata": {},
   "source": [
    "### <a id='Ex3'>Ex.3: Search Peak Element</a>\n",
    "\n",
    "The array has no duplicates, may contain multiple peaks, return the index to any one of the peaks.\n",
    "\n",
    "You may imagine that num[-1] = num[n] = -∞. "
   ]
  },
  {
   "cell_type": "markdown",
   "metadata": {},
   "source": [
    " # Solution:\n",
    "二分法：由于两侧是负无穷，也就是说两侧最终一定是往下降的。重点就在于这，在中间任取一个点然后往两侧各走一步，有四种情况。\n",
    "<br>\n",
    "^ : 峰型，那这个点就是我们要找的点\n",
    "<br>\n",
    "v: 谷型，两侧呈上升趋势，也就是说该点两侧（一定距离）必都有峰值，因为两极端都是往下降的。\n",
    "<br>\n",
    "\\：下降型，也就是说左侧必由峰值\n",
    "<br>\n",
    "/： 上升型，右侧必由峰值\n",
    "<br>\n",
    "时间复杂度 O(lgn)"
   ]
  },
  {
   "cell_type": "code",
   "execution_count": 1,
   "metadata": {},
   "outputs": [
    {
     "data": {
      "text/plain": [
       "8"
      ]
     },
     "execution_count": 1,
     "metadata": {},
     "output_type": "execute_result"
    }
   ],
   "source": [
    "def search_peak(alist):\n",
    "    if len(alist) == 0:\n",
    "        return -1\n",
    "    left, right = 0, len(alist)-1\n",
    "    while left < right:\n",
    "        mid = left + (right-left) // 2\n",
    "        if alist[mid-1] < alist[mid] and alist[mid] > alist[mid+1]:\n",
    "            return alist[mid]\n",
    "        elif alist[mid-1] < alist[mid] <= alist[mid+1]:\n",
    "            left = mid\n",
    "        elif alist[mid-1] <= alist[mid] < alist[mid+1]:\n",
    "            right = mid\n",
    "        else:\n",
    "            right = mid\n",
    "    return alist[left]\n",
    "\n",
    "alist = [-1, 1, 3, 2, 8, 7, 4, 2, -1]\n",
    "search_peak(alist)"
   ]
  },
  {
   "cell_type": "markdown",
   "metadata": {},
   "source": [
    "### <a id='Ex4'>Ex.4: Find index of an extra element present in one sorted array</a>\n",
    "\n",
    "Given two sorted arrays. \n",
    "\n",
    "There is only 1 difference between the arrays. First array has one element extra added in between. \n",
    "\n",
    "Find the *index* of the extra element.\n",
    "\n",
    "Examples:\n",
    "\n",
    "Input : {2, 4, 6, 8, 9, 10, 12};\n",
    "        {2, 4, 6, 8, 10, 12};\n",
    "        \n",
    "Output : 4\n",
    "\n",
    "The first array has an extra element 9.\n",
    "\n",
    "The extra element is present at index 4.\n",
    "\n",
    "Input :  {3, 5, 7, 9, 11, 13}\n",
    "         {3, 5, 7, 11, 13}\n",
    "         \n",
    "Output :  3"
   ]
  },
  {
   "cell_type": "code",
   "execution_count": 6,
   "metadata": {},
   "outputs": [
    {
     "data": {
      "text/plain": [
       "4"
      ]
     },
     "execution_count": 6,
     "metadata": {},
     "output_type": "execute_result"
    }
   ],
   "source": [
    "# logn\n",
    "def find_extra(alist, blist):\n",
    "    if len(alist) != len(blist)+1:\n",
    "        return -1\n",
    "    left, right = 0, len(blist)-1\n",
    "    while left < right:\n",
    "        mid = left + (right-left) // 2\n",
    "        if alist[mid] == blist[mid]:\n",
    "            left = mid+1\n",
    "        else:\n",
    "            right = mid\n",
    "    if alist[left] == blist[left]:\n",
    "        return right+1\n",
    "    else:\n",
    "        return right\n",
    "\n",
    "alist = [2, 4, 6, 8, 9, 10, 12]\n",
    "blist = [2, 4, 6, 8, 10, 12]\n",
    "\n",
    "find_extra(alist, blist)"
   ]
  },
  {
   "cell_type": "markdown",
   "metadata": {},
   "source": [
    "### <a id='Ex5'>Ex.5: Maximum Sum Subarray</a>\n",
    "\n",
    "Find the sum of contiguous subarray within a one-dimensional array of numbers which has the largest sum.\n",
    "\n",
    "<img src=\"../images/ch06/maxsubarraysum.png\" width=\"320\"/>\n"
   ]
  },
  {
   "cell_type": "code",
   "execution_count": 12,
   "metadata": {},
   "outputs": [
    {
     "data": {
      "text/plain": [
       "7"
      ]
     },
     "execution_count": 12,
     "metadata": {},
     "output_type": "execute_result"
    }
   ],
   "source": [
    "def max_sum_subarray(alist):\n",
    "    if len(alist) < 0:\n",
    "        return -1\n",
    "    left, right = 0, 0\n",
    "    maxi = alist[0]\n",
    "    tmp = alist[0]\n",
    "    while right < len(alist):\n",
    "        if left < len(alist) and tmp < 0:\n",
    "            left += 1\n",
    "            right = left\n",
    "            tmp = alist[left]\n",
    "        else:\n",
    "            right += 1\n",
    "            if right == len(alist):\n",
    "                break\n",
    "            tmp += alist[right]\n",
    "            if maxi < tmp:\n",
    "                maxi = tmp\n",
    "    return maxi\n",
    "\n",
    "alist = [-2,-3,4,-1,-2,1,5,-3]\n",
    "max_sum_subarray(alist)        "
   ]
  },
  {
   "cell_type": "markdown",
   "metadata": {},
   "source": [
    "### <a id='Ex6'>Ex.6: Count Inversions</a>\n",
    "\n",
    "** Define the number of inversion **\n",
    "    i, j form an inversion if a[i] > a[j] for any i < j, that is, if the two elements a[i] and a[j] are \"out of order\".\n"
   ]
  },
  {
   "cell_type": "code",
   "execution_count": 1,
   "metadata": {},
   "outputs": [
    {
     "name": "stdout",
     "output_type": "stream",
     "text": [
      "4\n",
      "[1, 1, 2, 3, 3]\n"
     ]
    }
   ],
   "source": [
    "def count_inversion(alist):\n",
    "    if len(alist) < 2:\n",
    "        return 0, alist\n",
    "    mid = len(alist) // 2\n",
    "    countL, alistL = count_inversion(alist[:mid])\n",
    "    countR, alistR = count_inversion(alist[mid:])\n",
    "    count, alistNew = merge(alistL, alistR)\n",
    "    return count+countL+countR, alistNew\n",
    "\n",
    "def merge(alistL, alistR):\n",
    "    l, r = 0, 0\n",
    "    count = 0\n",
    "    alistNew = []\n",
    "    while l < len(alistL) and r < len(alistR):\n",
    "        if alistL[l] > alistR[r]:\n",
    "            count += len(alistL) - l\n",
    "            alistNew.append(alistR[r])\n",
    "            r += 1\n",
    "        else:\n",
    "            alistNew.append(alistL[l])\n",
    "            l += 1\n",
    "    while l < len(alistL):\n",
    "        alistNew.append(alistL[l])\n",
    "        l += 1\n",
    "    while r < len(alistR):\n",
    "        alistNew.append(alistR[r])\n",
    "        r += 1\n",
    "    return count, alistNew\n",
    "\n",
    "alist = [1, 20, 6, 4, 5]\n",
    "alist = [1,3,2,3,1]\n",
    "count, alistNew = count_inversion(alist)\n",
    "print(count)\n",
    "print(alistNew)"
   ]
  },
  {
   "cell_type": "code",
   "execution_count": 19,
   "metadata": {},
   "outputs": [
    {
     "data": {
      "text/plain": [
       "493"
      ]
     },
     "execution_count": 19,
     "metadata": {},
     "output_type": "execute_result"
    }
   ],
   "source": [
    "22+40+40+20+40+40+16+40+42+11+32+60+30+30+30"
   ]
  },
  {
   "cell_type": "code",
   "execution_count": null,
   "metadata": {
    "collapsed": true
   },
   "outputs": [],
   "source": []
  }
 ],
 "metadata": {
  "kernelspec": {
   "display_name": "Python 3",
   "language": "python",
   "name": "python3"
  },
  "language_info": {
   "codemirror_mode": {
    "name": "ipython",
    "version": 3
   },
   "file_extension": ".py",
   "mimetype": "text/x-python",
   "name": "python",
   "nbconvert_exporter": "python",
   "pygments_lexer": "ipython3",
   "version": "3.6.1"
  }
 },
 "nbformat": 4,
 "nbformat_minor": 4
}
