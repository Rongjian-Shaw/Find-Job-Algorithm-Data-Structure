{
 "cells": [
  {
   "cell_type": "code",
   "execution_count": 2,
   "metadata": {},
   "outputs": [
    {
     "name": "stdout",
     "output_type": "stream",
     "text": [
      "Linked List: \n",
      "3 2 1 \n",
      "Linked List: \n",
      "1 \n",
      "Linked List: \n",
      "\n",
      "Linked List: \n",
      "3 4 5 6 7 \n"
     ]
    }
   ],
   "source": [
    "from Empty import Empty\n",
    "from Outbound import Outbound\n",
    "\n",
    "class Node:\n",
    "    def __init__ (self, value = None, next = None):\n",
    "        self.value = value\n",
    "        self.next = next\n",
    "        \n",
    "\n",
    "class LinkedList:\n",
    "    \n",
    "    def __init__(self):\n",
    "        self.head = Node()\n",
    "        self.length = 0\n",
    "\n",
    "    def peek(self):\n",
    "        pass\n",
    "\n",
    "    def get_first(self):\n",
    "        if not self.head.next:\n",
    "            raise Empty( 'LinkedList is empty' )\n",
    "        return self.head.next\n",
    "        \n",
    "    def get_last(self):\n",
    "        if not self.head.next:\n",
    "            raise Empty( 'LinkedList is empty' )\n",
    "        p = self.head\n",
    "        while p.next != None:\n",
    "            p = p.next\n",
    "        return p\n",
    "    \n",
    "    def get(self, index):\n",
    "        if index >= self.length and index < 0:\n",
    "            raise Outbound( 'index is out of bound' )\n",
    "        if not self.head.next:\n",
    "            raise Empty( 'LinkedList is empty' )\n",
    "        p = self.head.next\n",
    "        for i in range(index):\n",
    "            p = p.next\n",
    "        return p\n",
    "                \n",
    "    def add_first(self, value):\n",
    "        newNode = Node(value=value)\n",
    "        newNode.next = self.head.next\n",
    "        self.head.next = newNode\n",
    "        self.length += 1\n",
    "        \n",
    "    def add_last(self, value):\n",
    "        newNode = Node(value=value)\n",
    "        p = self.head\n",
    "        while p.next != None:\n",
    "            p = p.next\n",
    "        p.next = newNode\n",
    "        self.length += 1\n",
    "\n",
    "    def add(self, index, value):\n",
    "        if index >= self.length and index < 0:\n",
    "            raise Outbound( 'index is out of bound')\n",
    "        if not self.head.next:\n",
    "            raise Empty( 'LinkedList is empty' )\n",
    "        p = self.head\n",
    "        newNode = Node(value = value)\n",
    "        for i in range(index):\n",
    "            p = p.next\n",
    "        newNode.next = p.next\n",
    "        p.next = newNode\n",
    "        self.length += 1\n",
    "        \n",
    "    def remove_first(self):\n",
    "        if not self.head.next:\n",
    "            raise Empty( 'LinkedList is empty' )\n",
    "        node = self.head.next\n",
    "        self.head.next = self.head.next.next\n",
    "        self.length -= 1\n",
    "        return node\n",
    "        \n",
    "    def remove_last(self):\n",
    "        if not self.head.next:\n",
    "            raise Empty( 'LinkedList is empty' )\n",
    "        p = self.head\n",
    "        prev = p\n",
    "        while p.next != None:\n",
    "            prev = p\n",
    "            p = p.next\n",
    "        prev.next = None\n",
    "        self.length -= 1\n",
    "        return p.value\n",
    "    \n",
    "    def remove(self, index):\n",
    "        if index >= self.length and index < 0:\n",
    "            raise Outbound( 'index is out of bound')\n",
    "        if not self.head.next:\n",
    "            raise Empty( 'LinkedList is empty' )\n",
    "        p = self.head\n",
    "        for i in range(index):\n",
    "            p = p.next\n",
    "        node = p.next\n",
    "        p.next = p.next.next\n",
    "        self.length -= 1\n",
    "        return node\n",
    "        \n",
    "    def printlist(self):\n",
    "        p = self.head.next\n",
    "        while p != None:\n",
    "            print(p.value, end = \" \")\n",
    "            p = p.next\n",
    "        print('')\n",
    "\n",
    "if __name__ == \"__main__\":\n",
    "#     ll = LinkedList()\n",
    "#     for i in range(1, 10):\n",
    "#         ll.add_last(i)\n",
    "#         #ll.add_end(i+1)\n",
    "        \n",
    "#     mm = LinkedList()\n",
    "#     for i in range(100, 110):\n",
    "#         mm.add_last(i)\n",
    "#         #ll.add_end(i+1)        \n",
    "    \n",
    "#     ll.printlist()\n",
    "#     mm.printlist()\n",
    "    \n",
    "    \n",
    "#     ll.add_first(0)    \n",
    "#     ll.add_first(-1)\n",
    "#     print('Linked List: ')\n",
    "#     ll.printlist()\n",
    "    \n",
    "# #     node = ll.peek()\n",
    "# #     print('peek: ' , str(node.value))\n",
    "#     node = ll.get_first()\n",
    "#     print('get first: ' , str(node.value))\n",
    "#     node = ll.get_last()\n",
    "#     print('get last: ' , str(node.value))\n",
    "#     node = ll.get(0)\n",
    "#     print('get position 0: ' , str(node.value))\n",
    "#     node = ll.get(2)\n",
    "#     print('get position 2: ' , str(node.value))\n",
    "#     ll.add(0, -2)\n",
    "#     ll.add(4, 1.5)\n",
    "#     print('Linked List: ')\n",
    "#     ll.printlist()\n",
    "#     node = ll.remove(0)\n",
    "#     print('remove position 0: ' , str(node.value))\n",
    "#     ll.printlist()\n",
    "#     node = ll.remove(3)\n",
    "#     print('remove position 3: ' , str(node.value))\n",
    "#     ll.printlist()\n",
    "    \n",
    "    \n",
    "    ll = LinkedList()\n",
    "    for i in range(1, 4):\n",
    "        ll.add_first(i)\n",
    "        #ll.add_end(i+1)\n",
    "    print('Linked List: ')\n",
    "    ll.printlist()\n",
    "    ll.remove_first()\n",
    "    ll.remove_first()\n",
    "    print('Linked List: ')\n",
    "    ll.printlist()\n",
    "    ll.remove_first()\n",
    "    print('Linked List: ')\n",
    "    ll.printlist()\n",
    "    \n",
    "    ll = LinkedList()\n",
    "    for i in range(1, 10):\n",
    "        ll.add_last(i)\n",
    "        \n",
    "    ll.remove_first()\n",
    "    ll.remove_last()\n",
    "    ll.remove_first()\n",
    "    ll.remove_last()\n",
    "    print('Linked List: ')\n",
    "    ll.printlist()"
   ]
  },
  {
   "cell_type": "markdown",
   "metadata": {},
   "source": [
    "### <a id='Ex2'>Ex.2 Find the Middle Node</a>"
   ]
  },
  {
   "cell_type": "code",
   "execution_count": 5,
   "metadata": {},
   "outputs": [
    {
     "name": "stdout",
     "output_type": "stream",
     "text": [
      "5\n"
     ]
    },
    {
     "data": {
      "text/plain": [
       "<__main__.Node at 0x1ff502bb400>"
      ]
     },
     "execution_count": 5,
     "metadata": {},
     "output_type": "execute_result"
    }
   ],
   "source": [
    "def find_mid(lst):\n",
    "    if lst.head.next == None:\n",
    "        return -1\n",
    "    fast, slow = lst.head, lst.head\n",
    "    while fast != None and fast.next != None:\n",
    "        fast = fast.next.next\n",
    "        slow = slow.next\n",
    "    print(slow.value)\n",
    "    return slow\n",
    "\n",
    "find_mid(ll)"
   ]
  },
  {
   "cell_type": "markdown",
   "metadata": {},
   "source": [
    "### <a id='Ex3'>Ex.3 Has Cycle </a>\n",
    "\n",
    "Determine whether a linked list has cycle"
   ]
  },
  {
   "cell_type": "code",
   "execution_count": 7,
   "metadata": {},
   "outputs": [
    {
     "name": "stdout",
     "output_type": "stream",
     "text": [
      "False\n",
      "True\n"
     ]
    }
   ],
   "source": [
    "def has_cycle(lst):\n",
    "    if lst.head.next == None:\n",
    "        return -1\n",
    "    fast, slow = lst.head, lst.head\n",
    "    while fast != None and fast.next != None:\n",
    "        fast = fast.next.next\n",
    "        slow = slow.next\n",
    "        if fast == slow:\n",
    "            return True\n",
    "    return False\n",
    "\n",
    "lst = LinkedList()\n",
    "lst.add_last(1)\n",
    "lst.add_last(2)\n",
    "lst.add_last(3)\n",
    "lst.add_last(4)\n",
    "print(has_cycle(lst))\n",
    "p = lst.get_last()\n",
    "p.next = lst.head.next\n",
    "print(has_cycle(lst))"
   ]
  },
  {
   "cell_type": "markdown",
   "metadata": {},
   "source": [
    "### <a id='Ex4'>Ex.4 Beginning of Loop </a>\n",
    "\n",
    "Given a circular linked list, find the node at the beginning of the loop."
   ]
  },
  {
   "cell_type": "code",
   "execution_count": 10,
   "metadata": {},
   "outputs": [
    {
     "name": "stdout",
     "output_type": "stream",
     "text": [
      "2\n"
     ]
    }
   ],
   "source": [
    "def begin_loop(lst):\n",
    "    if lst.head.next == None:\n",
    "        return -1\n",
    "    fast, slow = lst.head, lst.head\n",
    "    while fast != None and fast.next != None:\n",
    "        fast = fast.next.next\n",
    "        slow = slow.next\n",
    "        if fast == slow: # they will meet in k(loop begin point) in front of begin point\n",
    "            break\n",
    "    fast = lst.head\n",
    "    while fast != slow:\n",
    "        fast = fast.next\n",
    "        slow = slow.next\n",
    "    return fast\n",
    "\n",
    "lst = LinkedList()\n",
    "lst.add_last(1)\n",
    "lst.add_last(2)\n",
    "lst.add_last(3)\n",
    "lst.add_last(4)\n",
    "lst.add_last(5)\n",
    "lst.add_last(6)\n",
    "p = lst.get_last()\n",
    "p.next = lst.head.next.next\n",
    "print(begin_loop(lst).value)"
   ]
  },
  {
   "cell_type": "markdown",
   "metadata": {},
   "source": [
    "### <a id='Ex5'>Ex.5 Remove Nth to Last</a>\n",
    "\n",
    "Remove the nth to last element of a singly linked list"
   ]
  },
  {
   "cell_type": "code",
   "execution_count": 15,
   "metadata": {},
   "outputs": [
    {
     "name": "stdout",
     "output_type": "stream",
     "text": [
      "1 3 5 7 9 \n",
      "1 3 7 9 5 \n"
     ]
    }
   ],
   "source": [
    "def remove_nth(lst, n):\n",
    "    if n > lst.length:\n",
    "        return -1\n",
    "    fast = lst.head\n",
    "    for i in range(n-1):\n",
    "        fast = fast.next\n",
    "    slow = fast\n",
    "    while fast.next != None:\n",
    "        fast = fast.next\n",
    "    fast.next = slow.next\n",
    "    slow.next = slow.next.next\n",
    "    fast.next.next = None\n",
    "    return lst\n",
    "\n",
    "lst = LinkedList()\n",
    "lst.add_last(1)\n",
    "lst.add_last(3)\n",
    "lst.add_last(5)\n",
    "lst.add_last(7)\n",
    "lst.add_last(9)\n",
    "lst.printlist()\n",
    "# print(remove_nth(lst, 3).value)\n",
    "remove_nth(lst, 3)\n",
    "lst.printlist()"
   ]
  },
  {
   "cell_type": "markdown",
   "metadata": {},
   "source": [
    "### <a id='Ex6'>Ex.6 Split in Half</a>\n",
    "\n",
    "Give a list, split in into two lists, one for the front half, and one for the back half."
   ]
  },
  {
   "cell_type": "code",
   "execution_count": null,
   "metadata": {
    "collapsed": true
   },
   "outputs": [],
   "source": [
    "def split_half(lst):\n",
    "    if lst.length < 2:\n",
    "        return -1\n",
    "    fast, slow = head.next, head.next\n",
    "    while fast != None and fast.next != None:\n",
    "        fast = fast.next.next\n",
    "        slow = slow.next\n",
    "    front = head.next\n",
    "    back = slow.next\n",
    "    slow.next = None\n",
    "    return front, back\n",
    "\n"
   ]
  },
  {
   "cell_type": "markdown",
   "metadata": {},
   "source": [
    "### <a id='Ex1'>Ex.1 Merge Two Sorted Lists</a>\n",
    "\n",
    "Merge two sorted linked lists and return it as a new list.\n",
    "\n",
    "Input: 1->2->4, 1->3->4\n",
    "\n",
    "Output: 1->1->2->3->4->4"
   ]
  },
  {
   "cell_type": "code",
   "execution_count": 3,
   "metadata": {},
   "outputs": [
    {
     "name": "stdout",
     "output_type": "stream",
     "text": [
      "1 1 2 3 4 4 \n"
     ]
    }
   ],
   "source": [
    "def merge(lst1, lst2):\n",
    "    if lst1.head.next == None or lst2.head.next == None:\n",
    "        return -1\n",
    "    p1 = lst1.head.next\n",
    "    p2 = lst2.head.next\n",
    "    dummy = cur = Node(0)\n",
    "    while p1 != None and p2 != None:\n",
    "        if p1.value > p2.value:\n",
    "            cur.next = p2\n",
    "            p2 = p2.next\n",
    "        else:\n",
    "            cur.next = p1\n",
    "            p1 = p1.next\n",
    "        cur = cur.next\n",
    "    cur.next = p1 or p2\n",
    "    return dummy.next\n",
    "\n",
    "node11 = Node(1)\n",
    "node12 = Node(2)\n",
    "node14 = Node(4)\n",
    "node11.next = node12\n",
    "node12.next = node14\n",
    "lst1 = LinkedList()\n",
    "lst1.head.next = node11\n",
    "\n",
    "node21 = Node(1)\n",
    "node23 = Node(3)\n",
    "node24 = Node(4)\n",
    "node21.next = node23\n",
    "node23.next = node24\n",
    "lst2 = LinkedList()\n",
    "lst2.head.next = node21\n",
    "\n",
    "node = merge(lst1, lst2)\n",
    "lst = LinkedList()\n",
    "lst.head.next = node\n",
    "lst.printlist()\n",
    "    "
   ]
  },
  {
   "cell_type": "markdown",
   "metadata": {},
   "source": [
    "### <a id='Ex2'>Ex.2 Intersection of Two Linked Lists</a>\n",
    "\n",
    "Write a program to find the node at which the intersection of two singly linked lists begins.\n",
    "\n",
    "\n",
    "For example, the following two linked lists:\n",
    "\n",
    "A:          a1 → a2\n",
    "\n",
    "                   ↘\n",
    "                   \n",
    "                     c1 → c2 → c3\n",
    "                     \n",
    "                   ↗    \n",
    "                   \n",
    "B:     b1 → b2 → b3\n",
    "\n",
    "begin to intersect at node c1."
   ]
  },
  {
   "cell_type": "markdown",
   "metadata": {},
   "source": [
    "# Solution:\n",
    "方法一：如果可以知道l1和l2的size的话，那么就可以让l1和l2从同一点出发，很容易就找到第一个相同节点。<br>\n",
    "方法二：想找到l1和l2第一个相同点通常需要让l1和l2走相同的路程，这样可以用双指针一个一个的去比较。那么如何让l1和l2走相同的路程？<br>\n",
    "假设A运动员和B运动员跑上面这种类型的赛道，那么只需要让A跑完自己的跑道后再去B的起点跑，B跑完自己的跑道后去A的起点跑，那么AB必定会在第一个相同节点相遇。因为他们后面的路程一定是相同的，且前面跑过的路程也必定是相同的。"
   ]
  },
  {
   "cell_type": "code",
   "execution_count": 4,
   "metadata": {
    "collapsed": true
   },
   "outputs": [],
   "source": [
    "def intersection(lst1, lst2):\n",
    "    if lst1.head.next == None or lst2.head.next == None:\n",
    "        return -1\n",
    "    p1 = lst1.head.next\n",
    "    p2 = lst2.head.next\n",
    "    while p1 != p2:\n",
    "        if p1 == None:\n",
    "            p1 = lst2.head.next\n",
    "        if p2 == None:\n",
    "            p2 = lst1.head.next\n",
    "        p1 = p1.next\n",
    "        p2 = p2.next\n",
    "    return p1"
   ]
  },
  {
   "cell_type": "markdown",
   "metadata": {},
   "source": [
    "### <a id='Ex3'>Ex.3 Insertion Sort List</a>"
   ]
  },
  {
   "cell_type": "markdown",
   "metadata": {},
   "source": [
    "# Solution:\n",
    "对链表进行插入排序<br>\n",
    "插入排序的思路是逐个扫描每个元素，然后将元素插入到其对应的位置。时间复杂度为O(n^2)<br>\n",
    "对链表插入排序需要使用一个dummy node，相当于创建了一个新链表，不过在后面接入的时候不需要去创建新节点，直接链接原链表即可<br>"
   ]
  },
  {
   "cell_type": "code",
   "execution_count": 16,
   "metadata": {},
   "outputs": [
    {
     "name": "stdout",
     "output_type": "stream",
     "text": [
      "1 7 5 3 9 \n",
      "1 3 5 7 9 \n"
     ]
    }
   ],
   "source": [
    "def insertion_sort(lst):\n",
    "    if lst.head.next == None:\n",
    "        return None\n",
    "    cur = lst.head.next.next\n",
    "    prev_cur = lst.head.next\n",
    "    dummy = Node(0)\n",
    "    dummy.next = lst.head.next\n",
    "    while cur != None:\n",
    "        prev_tmp = dummy\n",
    "        tmp = dummy.next\n",
    "        while tmp != cur:\n",
    "            if cur.value < tmp.value:\n",
    "                prev_cur.next = cur.next\n",
    "                cur.next = tmp\n",
    "                prev_tmp.next = cur\n",
    "                break\n",
    "            else:\n",
    "                prev_tmp = prev_tmp.next\n",
    "                tmp = tmp.next\n",
    "        if tmp == cur:\n",
    "            prev_cur = cur\n",
    "            cur = cur.next\n",
    "        else:\n",
    "            cur =prev_cur.next\n",
    "        \n",
    "        \n",
    "    return dummy.next\n",
    "\n",
    "\n",
    "lst = LinkedList()\n",
    "lst.add_last(1)\n",
    "lst.add_last(7)\n",
    "lst.add_last(5)\n",
    "lst.add_last(3)\n",
    "lst.add_last(9)\n",
    "lst.printlist()\n",
    "\n",
    "insertion_sort(lst)\n",
    "lst.printlist()"
   ]
  },
  {
   "cell_type": "markdown",
   "metadata": {},
   "source": [
    "### <a id='Ex4'>Ex.4 Sort List</a>\n",
    "\n",
    "Sort a linked list in O(n log n) time using constant space complexity."
   ]
  },
  {
   "cell_type": "code",
   "execution_count": 39,
   "metadata": {},
   "outputs": [
    {
     "name": "stdout",
     "output_type": "stream",
     "text": [
      "-9 1 -13 6 5 \n",
      "-13 -9 1 5 6 \n"
     ]
    }
   ],
   "source": [
    "# merge sort\n",
    "def sortList(head):\n",
    "    if head == None or head.next is None:\n",
    "        return head # 这里要写成head, 不然针对head == None or head.next is None是没有返回值的\n",
    "    mid = getmiddle(head)\n",
    "    rhead = mid.next\n",
    "    mid.next = None\n",
    "    left = sortList(head)\n",
    "    right = sortList(rhead)\n",
    "    return merge(left, right)\n",
    "\n",
    "def merge(left, right):\n",
    "    dummy = cur = Node(0)\n",
    "    while left != None and right != None:\n",
    "        if left.value < right.value:\n",
    "            cur.next = left\n",
    "            left = left.next\n",
    "        else:\n",
    "            cur.next = right\n",
    "            right = right.next\n",
    "        cur = cur.next\n",
    "    if left == None:\n",
    "        cur.next = right\n",
    "    else:\n",
    "        cur.next = left\n",
    "    return dummy.next\n",
    "\n",
    "def getmiddle(head):\n",
    "    dummy = Node(0)\n",
    "    dummy.next = head\n",
    "    fast, slow = dummy, dummy\n",
    "    while fast != None and fast.next != None:\n",
    "        fast = fast.next.next\n",
    "        slow = slow.next\n",
    "    return slow\n",
    "\n",
    "node1 = Node(-9)\n",
    "node2 = Node(1)\n",
    "node3 = Node(-13)\n",
    "node4 = Node(6)\n",
    "node5 = Node(5)\n",
    "node1.next = node2\n",
    "node2.next = node3\n",
    "node3.next = node4\n",
    "node4.next = node5\n",
    "lst = LinkedList()\n",
    "lst.head.next = node1\n",
    "lst.printlist()\n",
    "\n",
    "node = sortList(node1)\n",
    "node.value\n",
    "\n",
    "lst.head.next = node\n",
    "lst.printlist()"
   ]
  },
  {
   "cell_type": "code",
   "execution_count": 31,
   "metadata": {},
   "outputs": [
    {
     "name": "stdout",
     "output_type": "stream",
     "text": [
      "1 2 3 4 5 \n"
     ]
    }
   ],
   "source": [
    "node1 = Node(1)\n",
    "node2 = Node(3)\n",
    "node3 = Node(5)\n",
    "node4 = Node(2)\n",
    "node5 = Node(4)\n",
    "node1.next = node2\n",
    "node2.next = node3\n",
    "node4.next = node5\n",
    "node = merge(node1, node4)\n",
    "lst = LinkedList()\n",
    "lst.head.next = node\n",
    "lst.printlist()"
   ]
  },
  {
   "cell_type": "markdown",
   "metadata": {},
   "source": [
    "### <a id='Ex5'>Ex.5 Partition List</a>\n",
    "\n",
    "Given a linked list and a value x, partition it such that all nodes less than x come before nodes greater than or equal to x."
   ]
  },
  {
   "cell_type": "code",
   "execution_count": 41,
   "metadata": {},
   "outputs": [
    {
     "name": "stdout",
     "output_type": "stream",
     "text": [
      "1 2 2 3 4 5 \n"
     ]
    }
   ],
   "source": [
    "def partition(head, x):\n",
    "    if head is None:\n",
    "        return head\n",
    "    large_dummy = l = Node(0)\n",
    "    small_dummy = s = Node(0)\n",
    "    middle_dummy = m = Node(0)\n",
    "    \n",
    "    p = head\n",
    "    while p != None:\n",
    "        if p.value < x: # 此处不能写<=因为如果是=的情况，x的情况会被放在s链表，后面加进来的value可能会比x小，这是我们不想看到的\n",
    "            s.next = p\n",
    "            s = s.next\n",
    "        elif p.value > x:\n",
    "            l.next = p\n",
    "            l = l.next\n",
    "        else:\n",
    "            m.next = p\n",
    "            m = m.next\n",
    "        p = p.next\n",
    "    s.next = middle_dummy.next\n",
    "    m.next = large_dummy.next\n",
    "    l.next = None\n",
    "    return small_dummy.next\n",
    "\n",
    "#head = 1->4->3->2->5->2, x = 3\n",
    "node1 = Node(1)\n",
    "node2 = Node(4)\n",
    "node3 = Node(3)\n",
    "node4 = Node(2)\n",
    "node5 = Node(5)\n",
    "node6 = Node(2)\n",
    "node1.next = node2\n",
    "node2.next = node3\n",
    "node3.next = node4\n",
    "node4.next = node5\n",
    "node5.next = node6\n",
    "node = partition(node1, 3)\n",
    "lst = LinkedList()\n",
    "lst.head.next = node\n",
    "lst.printlist()"
   ]
  },
  {
   "cell_type": "markdown",
   "metadata": {},
   "source": [
    "### <a id='Ex6'>Ex.6 Reverse a Linked List</a>"
   ]
  },
  {
   "cell_type": "code",
   "execution_count": 43,
   "metadata": {},
   "outputs": [
    {
     "name": "stdout",
     "output_type": "stream",
     "text": [
      "1 3 5 7 9 \n",
      "9 7 5 3 1 \n"
     ]
    }
   ],
   "source": [
    "def reverse_list(lst):\n",
    "    if lst.head.next == None:\n",
    "        return lst\n",
    "    pre = None\n",
    "    cur = lst.head.next\n",
    "    while cur != None:\n",
    "        tail = cur.next\n",
    "        cur.next = pre\n",
    "        pre = cur\n",
    "        cur = tail\n",
    "    lst.head.next = pre\n",
    "    return lst\n",
    "\n",
    "lst = LinkedList()\n",
    "lst.add_last(1)\n",
    "lst.add_last(3)\n",
    "lst.add_last(5)\n",
    "lst.add_last(7)\n",
    "lst.add_last(9)\n",
    "lst.printlist()\n",
    "reverse_list(lst)\n",
    "lst.printlist()"
   ]
  },
  {
   "cell_type": "markdown",
   "metadata": {},
   "source": [
    "### <a id='Ex7'>Ex.7 Reverse a Linked List II</a>\n",
    "\n",
    "Reverse a linked list from position m to n. Do it in-place and in one-pass.\n",
    "\n",
    "For example:\n",
    "\n",
    "Given 1->2->3->4->5->NULL, m = 2 and n = 4,\n",
    "\n",
    "return 1->4->3->2->5->NULL."
   ]
  },
  {
   "cell_type": "code",
   "execution_count": 16,
   "metadata": {},
   "outputs": [
    {
     "name": "stdout",
     "output_type": "stream",
     "text": [
      "1 3 5 7 9 \n",
      "1 7 5 3 9 \n"
     ]
    }
   ],
   "source": [
    "def reverse2(lst, m, n):\n",
    "    if lst.head.next == None and n > lst.length:\n",
    "        return lst\n",
    "    \n",
    "    cur = lst.head\n",
    "    pre = None\n",
    "    for i in range(m):\n",
    "        pre = cur\n",
    "        cur = cur.next\n",
    "    front = pre\n",
    "    pre = None\n",
    "    for i in range(n-m+1): # 易错点：这里要写n-m+1，因为除了n~m中n-m个箭头的反转外，还有第n个节点向None的反转\n",
    "        tail = cur.next\n",
    "        cur.next = pre\n",
    "        pre = cur\n",
    "        cur = tail\n",
    "    \n",
    "    front.next.next = cur\n",
    "    front.next = pre\n",
    "    \n",
    "    return lst\n",
    "\n",
    "lst = LinkedList()\n",
    "lst.add_last(1)\n",
    "lst.add_last(3)\n",
    "lst.add_last(5)\n",
    "lst.add_last(7)\n",
    "lst.add_last(9)\n",
    "lst.printlist()\n",
    "reverse2(lst, 2, 4)\n",
    "lst.printlist()\n",
    "    "
   ]
  },
  {
   "cell_type": "markdown",
   "metadata": {},
   "source": [
    "### <a id='Ex8'>Ex.8 Reverse a Linked List IV</a>\n",
    "Reverse Nodes in k-Group\n",
    "\n",
    "Given a linked list, reverse the nodes of a linked list k at a time and return its modified list.\n",
    "\n",
    "k is a positive integer and is less than or equal to the length of the linked list. If the number of nodes is not a multiple of k then left-out nodes in the end should remain as it is.\n",
    "\n",
    "You may not alter the values in the nodes, only nodes itself may be changed.\n",
    "\n",
    "Only constant memory is allowed.\n",
    "\n",
    "For example,\n",
    "\n",
    "Given this linked list: 1->2->3->4->5\n",
    "\n",
    "For k = 2, you should return: 2->1->4->3->5\n",
    "\n",
    "For k = 3, you should return: 3->2->1->4->5"
   ]
  },
  {
   "cell_type": "markdown",
   "metadata": {},
   "source": [
    "# Solution\n",
    "通过前面的题目我们知道了如何让一个区间进行反转，反转的时候我们往往需要去知道反转区间的前一个点和后一个点，因此需要用一个tail去记录当前反转区间的第一个起点，该区间反转后tail会变成该区间的终点。我们需要用这个tail去连接下一个反转区间（反转后）的起点。\n",
    "\n",
    "由于当一个反转区间小于k的时候不需要反转，因此需要用next_head来记录下一个反转区间的终点。如果反转区间小于k，则让next_head进入None\n",
    "\n",
    "下一个反转区间（反转后）的起点分两种情况\n",
    "1. 下一个反转区间的宽度大于等于k，这个时候我们就让当前区间的tail去连接下一个区间（反转后）的next_head, 比如1 2 3 4 5 6 7，那么1是作为区间1的tail，而6是作为next_head\n",
    "\n",
    "2. 下一个反转区间的宽度小于k，那么我们直接让tail去连接反转最后的cur/nxt即可"
   ]
  },
  {
   "cell_type": "code",
   "execution_count": 23,
   "metadata": {},
   "outputs": [
    {
     "name": "stdout",
     "output_type": "stream",
     "text": [
      "1 3 5 7 9 \n",
      "3 1 7 5 9 \n",
      "7 1 3 5 9 \n",
      "5 3 1 7 9 \n",
      "9 7 1 3 5 \n",
      "9 7 1 3 5 \n"
     ]
    }
   ],
   "source": [
    "def reverse3(lst, k):\n",
    "    if lst.head.next == None:\n",
    "        return lst\n",
    "    next_head = lst.head\n",
    "    for i in range(k):\n",
    "        if next_head == None:\n",
    "            return lst\n",
    "        next_head = next_head.next\n",
    "    cur = lst.head.next\n",
    "    pre = None\n",
    "    lst.head.next = next_head\n",
    "    while next_head != None:\n",
    "        tail = cur\n",
    "        for i in range(k): # 易错点：别写成k+1\n",
    "            if next_head != None:\n",
    "                next_head = next_head.next\n",
    "            nxt = cur.next\n",
    "            cur.next = pre\n",
    "            pre = cur\n",
    "            cur = nxt\n",
    "            \n",
    "        if next_head != None:\n",
    "            tail.next = next_head\n",
    "        else:\n",
    "            tail.next = cur\n",
    "    return lst\n",
    "\n",
    "\n",
    "lst = LinkedList()\n",
    "lst.add_last(1)\n",
    "lst.add_last(3)\n",
    "lst.add_last(5)\n",
    "lst.add_last(7)\n",
    "lst.add_last(9)\n",
    "lst.printlist()\n",
    "lst = reverse3(lst, 2)\n",
    "lst.printlist()\n",
    "lst = reverse3(lst, 3)\n",
    "lst.printlist()\n",
    "lst = reverse3(lst, 4)\n",
    "lst.printlist()\n",
    "lst = reverse3(lst, 5)\n",
    "lst.printlist()\n",
    "lst = reverse3(lst, 7)\n",
    "lst.printlist()    "
   ]
  },
  {
   "cell_type": "markdown",
   "metadata": {},
   "source": [
    "### <a id='Ex5'>Ex.5 Palindrome Linked List</a>\n",
    "\n",
    "Given a singly linked list, determine if it is a palindrome.\n",
    "\n",
    "Could you do it in O(n) time and O(1) space?"
   ]
  },
  {
   "cell_type": "markdown",
   "metadata": {},
   "source": [
    "# Solution:\n",
    "判断回文的方法只需要从中间断开，把前面序列反转再利用双指针和后面的序列对比即可\n",
    "\n",
    "易错点：要分辨回文序列是奇数个还是偶数个，因为这会影响到找中点"
   ]
  },
  {
   "cell_type": "code",
   "execution_count": 37,
   "metadata": {},
   "outputs": [
    {
     "name": "stdout",
     "output_type": "stream",
     "text": [
      "1 3 5 5 3 1 \n",
      "True\n",
      "1 \n"
     ]
    }
   ],
   "source": [
    "def isPalindrome(lst):\n",
    "    if lst.head.next == None:\n",
    "        return lst\n",
    "    fast = lst.head\n",
    "    slow = lst.head\n",
    "    pre = None\n",
    "    cur = lst.head.next\n",
    "    while fast != None and fast.next != None:\n",
    "        # dont use slow=slow.next, because the list is already changed by cur\n",
    "        fast = fast.next.next\n",
    "        rev = pre\n",
    "        tail = cur.next\n",
    "        cur.next = pre\n",
    "        pre = cur\n",
    "        cur = tail\n",
    "    # cur is the start point of second part\n",
    "    # in the end, pre \n",
    "    if fast.next == None: # for even\n",
    "        rev = pre\n",
    "    while cur != None and rev != None:\n",
    "        if cur.value != rev.value:\n",
    "            return False\n",
    "        cur = cur.next\n",
    "        rev = rev.next\n",
    "    return True\n",
    "\n",
    "lst = LinkedList()\n",
    "lst.add_last(1)\n",
    "lst.add_last(3)\n",
    "lst.add_last(5)\n",
    "lst.add_last(5)\n",
    "lst.add_last(3)\n",
    "lst.add_last(1)\n",
    "lst.printlist()\n",
    "print(isPalindrome(lst))# 注意这里输入的参数是dummy.next\n",
    "lst.printlist()"
   ]
  },
  {
   "cell_type": "markdown",
   "metadata": {},
   "source": [
    "# Tips:关于是否需要使用dummy\n",
    "如果需要去寻找并记住反转序列前的那个点以方便拼接，比如Ex.7 反转特定区间，就需要使用dummy\n",
    "\n",
    "而Ex.8这种需要对整个序列反转的，在循环过程中其实已经记住了反转序列前的那个点，因此可用可不用dummy\n",
    "\n",
    "像Ex.9这种不需要完善反转后的序列，不需要使用dummy，因为其根本不需要拼接"
   ]
  },
  {
   "cell_type": "markdown",
   "metadata": {},
   "source": [
    "### <a id='Ex10'>Ex.10 Remove Duplicates from Sorted List</a>\n",
    "\n",
    "Given a sorted linked list, delete all duplicates such that each element appear only once.\n",
    "\n",
    "For example,\n",
    "\n",
    "Given 1->1->2, return 1->2.\n",
    "\n",
    "Given 1->1->2->3->3, return 1->2->3."
   ]
  },
  {
   "cell_type": "code",
   "execution_count": 39,
   "metadata": {},
   "outputs": [
    {
     "name": "stdout",
     "output_type": "stream",
     "text": [
      "1 3 5 7 9 \n"
     ]
    }
   ],
   "source": [
    "def rm_dup(lst):\n",
    "    if lst.head.next == None:\n",
    "        return lst\n",
    "    first = lst.head\n",
    "    second = lst.head.next\n",
    "    while second != None:\n",
    "        while first.value == second.value:\n",
    "            first.next = second.next\n",
    "            second = first.next\n",
    "        first = second\n",
    "        second = second.next\n",
    "    return lst\n",
    "\n",
    "lst = LinkedList()\n",
    "lst.add_last(1)\n",
    "lst.add_last(3)\n",
    "lst.add_last(3)\n",
    "lst.add_last(3)\n",
    "lst.add_last(5)\n",
    "lst.add_last(7)\n",
    "lst.add_last(7)\n",
    "lst.add_last(9)\n",
    "lst = rm_dup(lst)\n",
    "lst.printlist()"
   ]
  },
  {
   "cell_type": "markdown",
   "metadata": {},
   "source": [
    "### <a id='Ex10'>Ex.10 Remove Duplicates from Sorted List II</a>\n",
    "\n",
    "Given a sorted linked list, delete all nodes that have duplicate numbers, leaving only distinct numbers from the original list.\n",
    "\n",
    "For example,\n",
    "\n",
    "Given 1->2->3->3->4->4->5, return 1->2->5.\n",
    "\n",
    "Given 1->1->1->2->3, return 2->3."
   ]
  },
  {
   "cell_type": "markdown",
   "metadata": {},
   "source": [
    "# Solution:\n",
    "由于是对凡是有重复的元素，全部删除。因此删除的时候应该特别注意是否会出现前后两个类元素都是重复的，防止pre定位错误。\n",
    "\n",
    "也就是说，要在移动中发现连续两次相邻元素不同。\n",
    "\n",
    "如何判断连续两次不同：首先找到第一次不同，指针向后移动一位，下一次不同留给下一层循环来判断。"
   ]
  },
  {
   "cell_type": "code",
   "execution_count": 43,
   "metadata": {},
   "outputs": [
    {
     "name": "stdout",
     "output_type": "stream",
     "text": [
      "1 9 \n"
     ]
    }
   ],
   "source": [
    "def rm_dup2(lst):\n",
    "    if lst.head.next == None:\n",
    "        return lst\n",
    "    cur = lst.head.next\n",
    "    pre = lst.head\n",
    "    while cur != None and cur.next != None:\n",
    "        if cur.value == cur.next.value:\n",
    "            while cur.next != None and cur.value == cur.next.value: # dont forget cur.next != None\n",
    "                cur = cur.next\n",
    "            cur = cur.next\n",
    "            pre.next = cur\n",
    "        else:\n",
    "            pre = cur\n",
    "            cur = cur.next\n",
    "    return lst\n",
    "\n",
    "lst = LinkedList()\n",
    "lst.add_last(1)\n",
    "lst.add_last(3) \n",
    "lst.add_last(3)\n",
    "lst.add_last(3)\n",
    "lst.add_last(5)\n",
    "lst.add_last(5)\n",
    "lst.add_last(7)\n",
    "lst.add_last(7)\n",
    "lst.add_last(9)\n",
    "# lst.add_last(9)\n",
    "lst = rm_dup2(lst)\n",
    "lst.printlist()\n",
    "            "
   ]
  },
  {
   "cell_type": "code",
   "execution_count": null,
   "metadata": {
    "collapsed": true
   },
   "outputs": [],
   "source": []
  }
 ],
 "metadata": {
  "kernelspec": {
   "display_name": "Python 3",
   "language": "python",
   "name": "python3"
  },
  "language_info": {
   "codemirror_mode": {
    "name": "ipython",
    "version": 3
   },
   "file_extension": ".py",
   "mimetype": "text/x-python",
   "name": "python",
   "nbconvert_exporter": "python",
   "pygments_lexer": "ipython3",
   "version": "3.6.1"
  }
 },
 "nbformat": 4,
 "nbformat_minor": 4
}
