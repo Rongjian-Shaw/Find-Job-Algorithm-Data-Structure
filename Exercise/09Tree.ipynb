{
 "cells": [
  {
   "cell_type": "markdown",
   "metadata": {},
   "source": [
    "# Binary Search Tree #"
   ]
  },
  {
   "cell_type": "code",
   "execution_count": 1,
   "metadata": {},
   "outputs": [
    {
     "name": "stdout",
     "output_type": "stream",
     "text": [
      "\n",
      "[ 1 ] [ 2 ] [ 3 ] [ 4 ] [ 5 ] [ 6 ] [ 7 ] [ 8 ] [ 9 ] [ 10 ] [ 11 ] [ 12 ] [ 13 ] \n",
      "[ 1 ] [ 3 ] [ 2 ] [ 5 ] [ 4 ] [ 7 ] [ 10 ] [ 12 ] [ 11 ] [ 13 ] [ 9 ] [ 8 ] [ 6 ] \n",
      "[ 6 ] [ 4 ] [ 2 ] [ 1 ] [ 3 ] [ 5 ] [ 8 ] [ 7 ] [ 9 ] [ 13 ] [ 11 ] [ 10 ] [ 12 ] \n",
      "7\n",
      "\n",
      "[ 1 ] [ 2 ] [ 3 ] [ 4 ] [ 5 ] [ 6 ] [ 7 ] [ 8 ] [ 9 ] [ 10 ] [ 12 ] [ 13 ] "
     ]
    }
   ],
   "source": [
    "class Node:\n",
    "    __slots__ = '_item', '_left', '_right'\n",
    "    def __init__(self, item, left = None, right = None):\n",
    "        self._item = item\n",
    "        self._left = left\n",
    "        self._right = right\n",
    "    \n",
    "class BinarySearchTree:\n",
    "    def __init__(self, root = None):\n",
    "        self._root = root\n",
    "    \n",
    "    def get(self, value):\n",
    "        return self.__get(self._root, value)\n",
    "    \n",
    "    def __get(self, node, value):\n",
    "        if node is None:\n",
    "            return None\n",
    "        if node._item == value:\n",
    "            return node\n",
    "        elif node._item > value: # find in left\n",
    "            return self.__get(node._left, value)\n",
    "        else: # find in right\n",
    "            return self.__get(node._right, value)\n",
    "    \n",
    "    def add(self, value):\n",
    "        self._root = self.__add(self._root, value)\n",
    "    \n",
    "    def __add(self, node, value):\n",
    "        if node is None:\n",
    "            return Node(value)\n",
    "        if node._item == value:\n",
    "            pass\n",
    "        elif node._item > value: # add in left \n",
    "            node._left = self.__add(node._left, value)\n",
    "        else:\n",
    "            node._right = self.__add(node._right, value)\n",
    "        return node\n",
    "    \n",
    "    def remove(self, value):\n",
    "        return self.__remove(self._root, value)\n",
    "    \n",
    "    def __remove(self, node, value):\n",
    "        if node is None:\n",
    "            return None\n",
    "        if node._item > value:\n",
    "            node._left = self.__remove(node._left, value)\n",
    "        elif node._item < value:\n",
    "            node._right = self.__remove(node._right, value)\n",
    "        else: # node._item == value\n",
    "            if node._left is None: # current node's left side is None or both sides are None\n",
    "                node = node._right\n",
    "            elif node._right is None: # current node's right side is None or both sides are None\n",
    "                node = node._left\n",
    "            else: # current node has two sons\n",
    "                node._item = self.get_max(node._left) \n",
    "                node._left = self.__remove(node._left, node._item)\n",
    "        return node\n",
    "    \n",
    "    def get_max(self, node):\n",
    "        return self.__get_max(node)\n",
    "    \n",
    "    def __get_max(self, node):\n",
    "        if node is None:\n",
    "            return None\n",
    "        while node._right is not None:\n",
    "            node = node._right\n",
    "        return node._item\n",
    "    \n",
    "    # Traversal methods\n",
    "    def print_preorder(self):\n",
    "        print()\n",
    "        return self.__print_preorder(self._root)\n",
    "    \n",
    "    def __print_preorder(self, node):\n",
    "        if node is None:\n",
    "            return\n",
    "        print('[', node._item, ']', end = ' ')\n",
    "        self.__print_preorder(node._left)\n",
    "        self.__print_preorder(node._right)\n",
    "    \n",
    "    def print_inorder(self):\n",
    "        print()\n",
    "        return self.__print_inorder(self._root)\n",
    "    \n",
    "    def __print_inorder(self, node):\n",
    "        if node is None:\n",
    "            return\n",
    "        self.__print_inorder(node._left)\n",
    "        print('[', node._item, ']', end = ' ')\n",
    "        self.__print_inorder(node._right)\n",
    "        \n",
    "    def print_postorder(self):\n",
    "        print()\n",
    "        return self.__print_postorder(self._root)\n",
    "    \n",
    "    def __print_postorder(self, node):\n",
    "        if node is None:\n",
    "            return\n",
    "        self.__print_postorder(node._left)\n",
    "        self.__print_postorder(node._right)\n",
    "        print('[', node._item, ']', end = ' ')\n",
    "        \n",
    "    def size(self):\n",
    "        return self.__size(self._root)\n",
    "    \n",
    "    def __size(self, node):\n",
    "        if node is None:\n",
    "            return 0\n",
    "        return 1 + self.__size(node._left) + self.__size(node._right)\n",
    "    \n",
    "    def maxDepth(self):\n",
    "        return self.__maxDepth(self._root)\n",
    "    \n",
    "    def __maxDepth(self, node):\n",
    "        if node is None:\n",
    "            return 0\n",
    "        return max(self.__maxDepth(node._left), self.__maxDepth(node._right)) + 1\n",
    "    \n",
    "    def minDepth(self):\n",
    "        return self.__minDepth(self._root)\n",
    "    \n",
    "    def __minDepth(self, node):\n",
    "        if node is None:\n",
    "            return 0\n",
    "        return min(self.__minDepth(node._left), self.__minDepth(node._right)) + 1\n",
    "    \n",
    "    def isBalanced(self):\n",
    "        return self.maxDepth - self.minDepth <= 1\n",
    "        \n",
    "bst = BinarySearchTree()\n",
    "numbers = [6, 4, 8, 7, 9, 2, 1, 3, 5, 13, 11, 10, 12]\n",
    "for i in numbers:\n",
    "    bst.add(i)\n",
    "\n",
    "bst.print_inorder()\n",
    "bst.print_postorder()\n",
    "bst.print_preorder()\n",
    "print()\n",
    "node1 = bst.get(7)\n",
    "print(node1._item)\n",
    "node2 = bst.remove(11)\n",
    "bst.print_inorder()"
   ]
  },
  {
   "cell_type": "markdown",
   "metadata": {},
   "source": [
    "### <a id='Ex1'>Ex.1 Tree Size </a>\n",
    "\n",
    "Calculate the size of the tree."
   ]
  },
  {
   "cell_type": "code",
   "execution_count": 3,
   "metadata": {},
   "outputs": [
    {
     "data": {
      "text/plain": [
       "12"
      ]
     },
     "execution_count": 3,
     "metadata": {},
     "output_type": "execute_result"
    }
   ],
   "source": [
    "bst.size()"
   ]
  },
  {
   "cell_type": "markdown",
   "metadata": {},
   "source": [
    "### <a id='Ex1'>Ex.2 Max Depth </a>\n",
    "\n",
    "Calculate the max depth of a tree"
   ]
  },
  {
   "cell_type": "code",
   "execution_count": 4,
   "metadata": {
    "scrolled": true
   },
   "outputs": [
    {
     "data": {
      "text/plain": [
       "6"
      ]
     },
     "execution_count": 4,
     "metadata": {},
     "output_type": "execute_result"
    }
   ],
   "source": [
    "bst.maxDepth()"
   ]
  },
  {
   "cell_type": "markdown",
   "metadata": {},
   "source": [
    "### <a id='Ex1'>Ex.3. Is Balance Tree</a>\n",
    "\n",
    "Given a tree, check whether the tree is a balance tree."
   ]
  },
  {
   "cell_type": "code",
   "execution_count": 5,
   "metadata": {},
   "outputs": [
    {
     "name": "stdout",
     "output_type": "stream",
     "text": [
      "False\n",
      "\n",
      "[ 1 ] [ 3 ] [ 5 ] True\n"
     ]
    }
   ],
   "source": [
    "def isBalanced(bst):\n",
    "    return bst.maxDepth() - bst.minDepth() <= 1\n",
    "\n",
    "print(isBalanced(bst))\n",
    "bst1 = BinarySearchTree()\n",
    "numbers = [3,1,5]\n",
    "for i in numbers:\n",
    "    bst1.add(i)\n",
    "bst1.print_inorder()\n",
    "print(isBalanced(bst1))"
   ]
  },
  {
   "cell_type": "markdown",
   "metadata": {},
   "source": [
    "### <a id='Ex4'>Ex.4 Floor and Ceiling</a>"
   ]
  },
  {
   "cell_type": "code",
   "execution_count": 17,
   "metadata": {},
   "outputs": [
    {
     "data": {
      "text/plain": [
       "10"
      ]
     },
     "execution_count": 17,
     "metadata": {},
     "output_type": "execute_result"
    }
   ],
   "source": [
    "# floor是指在树中比value小且最接近value的节点\n",
    "def floor(bst, value):\n",
    "    flr = _floor(bst._root, value)\n",
    "    return flr._item\n",
    "\n",
    "def _floor(node, value):\n",
    "    if node is None:\n",
    "        return None\n",
    "    if node._item == value:\n",
    "        return node\n",
    "    elif node._item > value:\n",
    "        return _floor(node._left, value) # 不要写成 node = _floor(node._left, value), 如果先left走，然后right的时候会返回一个Node，\n",
    "#     node = _floor(node._left, value) 会让当前的node接上right返回回来的node,影响树的结构\n",
    "    else:\n",
    "        # node._item比value小，所以可能是floor，当发现当前node右子树下还有比value小的就找到那个值返回，没有就返回当前值\n",
    "        go_on = _floor(node._right, value)\n",
    "        if go_on is not None:\n",
    "            return go_on\n",
    "        return node\n",
    "\n",
    "floor(bst, 11)\n"
   ]
  },
  {
   "cell_type": "markdown",
   "metadata": {},
   "source": [
    "### <a id='Ex5'>Ex.5 Is Binary Search Tree</a>\n",
    "\n",
    "Check whether a given tree a binary search tree.\n",
    "每个node都大于其左子树的所有结点，小于右子树的所有结点"
   ]
  },
  {
   "cell_type": "code",
   "execution_count": 24,
   "metadata": {},
   "outputs": [
    {
     "data": {
      "text/plain": [
       "True"
      ]
     },
     "execution_count": 24,
     "metadata": {},
     "output_type": "execute_result"
    }
   ],
   "source": [
    "import sys\n",
    "def isBST(bst):\n",
    "    return __isBST(bst._root, -sys.maxsize, sys.maxsize)\n",
    "\n",
    "def __isBST(node, minimum, maximum):\n",
    "    if node is None:\n",
    "        return True\n",
    "    if node._item < minimum or node._item > maximum:\n",
    "        return False\n",
    "    else:\n",
    "        return __isBST(node._left, minimum, node._item) and __isBST(node._right, node._item, maximum)\n",
    "\n",
    "isBST(bst1)"
   ]
  },
  {
   "cell_type": "markdown",
   "metadata": {},
   "source": [
    "### <a id='Ex6'>Ex.6 Is Mirror Tree</a>"
   ]
  },
  {
   "cell_type": "code",
   "execution_count": 26,
   "metadata": {},
   "outputs": [
    {
     "name": "stdout",
     "output_type": "stream",
     "text": [
      "\n",
      "[ 1 ] [ 2 ] [ 3 ] [ 4 ] [ 5 ] [ 6 ] [ 7 ] [ 8 ] [ 9 ] [ 10 ] [ 12 ] [ 13 ] \n",
      "[ 13 ] [ 12 ] [ 10 ] [ 9 ] [ 8 ] [ 7 ] [ 6 ] [ 5 ] [ 4 ] [ 3 ] [ 2 ] [ 1 ] "
     ]
    }
   ],
   "source": [
    "def mirror_tree(bst):\n",
    "    return __mirror_tree(bst._root)\n",
    "\n",
    "def __mirror_tree(node):\n",
    "    if node is None:\n",
    "        return None\n",
    "    __mirror_tree(node._left)\n",
    "    __mirror_tree(node._right)\n",
    "    node._left, node._right = node._right, node._left\n",
    "\n",
    "numbers = [6, 4, 8, 7, 9, 5, 1, 3, 2]\n",
    "for i in numbers:\n",
    "    bst.add(i)\n",
    "bst.print_inorder()\n",
    "mirror_tree(bst)\n",
    "bst.print_inorder()\n"
   ]
  },
  {
   "cell_type": "markdown",
   "metadata": {},
   "source": [
    "### <a id='Ex7'>Ex.7 Same Tree</a>"
   ]
  },
  {
   "cell_type": "code",
   "execution_count": 28,
   "metadata": {},
   "outputs": [
    {
     "data": {
      "text/plain": [
       "True"
      ]
     },
     "execution_count": 28,
     "metadata": {},
     "output_type": "execute_result"
    }
   ],
   "source": [
    "def same_tree(bst1, bst2):\n",
    "    return __same_tree(bst1._root, bst2._root)\n",
    "\n",
    "def __same_tree(node1, node2):\n",
    "    if node1 is None and node2 is None:\n",
    "        return True\n",
    "    elif node1 is not None and node2 is not None:\n",
    "        return node1._item == node2._item and __same_tree(node1._left, node2._left) and __same_tree(node1._right, node2._right)\n",
    "    else:\n",
    "        return False\n",
    "    \n",
    "bst3 = BinarySearchTree()\n",
    "numbers = [6, 4, 8, 7, 9, 5, 1, 3, 2]\n",
    "for i in numbers:\n",
    "    bst3.add(i)\n",
    "another = BinarySearchTree()\n",
    "numbers = [6, 4, 8, 7, 9, 5, 1, 3, 2]   \n",
    "for i in numbers:\n",
    "    another.add(i)\n",
    "same_tree(bst3, another)\n",
    "    "
   ]
  },
  {
   "cell_type": "markdown",
   "metadata": {},
   "source": [
    "### <a id='Ex8'>Ex.8 Is Tree Foldable</a>"
   ]
  },
  {
   "cell_type": "code",
   "execution_count": 29,
   "metadata": {
    "collapsed": true
   },
   "outputs": [],
   "source": [
    "def isFoldable(bst):\n",
    "    return __isFoldable(bst._root._left, bst._root._right)\n",
    "\n",
    "def __isFoldable(node1, node2):\n",
    "    if node1 is None and node2 is None:\n",
    "        return True\n",
    "    elif node1 is not None and node2 is not None:\n",
    "        return isFoldable(node1._left, node2._right) and isFoldable(node1._right, node2._left)\n",
    "    else:\n",
    "        return False\n",
    "    \n"
   ]
  },
  {
   "cell_type": "markdown",
   "metadata": {},
   "source": [
    "# Binary Search Tree II #"
   ]
  },
  {
   "cell_type": "markdown",
   "metadata": {},
   "source": [
    "### <a id='Ex1'>Ex.1 Iterative Get </a>\n",
    "\n",
    "Implment BST Get method, iteratively."
   ]
  },
  {
   "cell_type": "code",
   "execution_count": 35,
   "metadata": {},
   "outputs": [
    {
     "name": "stdout",
     "output_type": "stream",
     "text": [
      "5\n",
      "None\n"
     ]
    }
   ],
   "source": [
    "def getIterative(bst, value):\n",
    "    if bst is None:\n",
    "        return None\n",
    "    cur = bst._root\n",
    "    while cur != None:\n",
    "        if cur._item == value:\n",
    "            return cur._item\n",
    "        elif cur._item > value:\n",
    "            cur = cur._left\n",
    "        else:\n",
    "            cur = cur._right\n",
    "    return None\n",
    "\n",
    "print(getIterative(bst, 5))\n",
    "print(getIterative(bst, 99))"
   ]
  },
  {
   "cell_type": "markdown",
   "metadata": {
    "collapsed": true
   },
   "source": [
    "### <a id='Ex2'>Ex.2 Iterative Add </a>\n",
    "\n",
    "Implment BST Add method, iteratively."
   ]
  },
  {
   "cell_type": "code",
   "execution_count": 36,
   "metadata": {},
   "outputs": [
    {
     "name": "stdout",
     "output_type": "stream",
     "text": [
      "\n",
      "[ 1 ] [ 2 ] [ 3 ] [ 4 ] [ 5 ] [ 6 ] [ 7 ] [ 8 ] [ 9 ] [ 10 ] [ 12 ] [ 13 ] \n",
      "[ 1 ] [ 2 ] [ 3 ] [ 4 ] [ 5 ] [ 6 ] [ 7 ] [ 8 ] [ 9 ] [ 10 ] [ 12 ] [ 13 ] [ 14 ] "
     ]
    }
   ],
   "source": [
    "def addIterative(bst, value):\n",
    "    if bst is None:\n",
    "        return None\n",
    "    node = Node(value)\n",
    "    cur = bst._root\n",
    "    while cur != None:\n",
    "        if cur._item == value:\n",
    "            return bst\n",
    "        elif cur._item > value:\n",
    "            if cur._left is None:\n",
    "                cur._left = node\n",
    "            else:\n",
    "                cur = cur._left\n",
    "        else:\n",
    "            if cur._right is None:\n",
    "                cur._right = node\n",
    "            else:\n",
    "                cur = cur._right\n",
    "    return bst\n",
    "\n",
    "bst.print_inorder()\n",
    "addIterative(bst, 14)\n",
    "bst.print_inorder()"
   ]
  },
  {
   "cell_type": "markdown",
   "metadata": {},
   "source": [
    "### <a id='Ex3'>Ex.3 Iterative Inorder Traversal </a>\n",
    "\n",
    "Implment BST Inorder traversal method, iteratively."
   ]
  },
  {
   "cell_type": "code",
   "execution_count": 43,
   "metadata": {},
   "outputs": [
    {
     "name": "stdout",
     "output_type": "stream",
     "text": [
      "\n",
      "[ 1 ] [ 2 ] [ 3 ] [ 4 ] [ 5 ] [ 6 ] [ 7 ] [ 8 ] [ 9 ] [ 10 ] [ 12 ] [ 13 ] [ 14 ] [1, 2, 3, 4, 5, 6, 7, 8, 9, 10, 12, 13, 14]\n"
     ]
    },
    {
     "data": {
      "text/plain": [
       "[1, 2, 3, 4, 5, 6, 7, 8, 9, 10, 12, 13, 14]"
      ]
     },
     "execution_count": 43,
     "metadata": {},
     "output_type": "execute_result"
    }
   ],
   "source": [
    "def printInorderIterative(bst):\n",
    "    if bst is None:\n",
    "        return bst\n",
    "    print_list = []\n",
    "    stack = [bst._root]\n",
    "    cur = bst._root\n",
    "    while len(stack) > 0:\n",
    "        while cur._left != None:\n",
    "            stack.append(cur._left)\n",
    "            cur = cur._left\n",
    "        cur = stack.pop()\n",
    "        print_list.append(cur._item)\n",
    "        if cur._right != None:\n",
    "            stack.append(cur._right)\n",
    "            cur = cur._right\n",
    "    print(print_list)\n",
    "    return print_list\n",
    "\n",
    "bst.print_inorder()\n",
    "printInorderIterative(bst)"
   ]
  },
  {
   "cell_type": "code",
   "execution_count": null,
   "metadata": {
    "collapsed": true
   },
   "outputs": [],
   "source": [
    "def printInorderIterative(bst):\n",
    "    if bst is None:\n",
    "        return\n",
    "    node = bst._root\n",
    "    stack = []\n",
    "    while True:\n",
    "        while node is not None:\n",
    "            stack.append(node)\n",
    "            node = node._left\n",
    "        if len(stack) == 0: # 易错点：不要写成stack is None\n",
    "            return\n",
    "        else:\n",
    "            node = stack.pop()\n",
    "            print('[', node._item, ']', end = ' ') # None不会被Push进去，因为append的条件就是非None\n",
    "            node = node._right"
   ]
  },
  {
   "cell_type": "markdown",
   "metadata": {},
   "source": [
    "### <a id='Ex4'>Ex.4 Iterative Preorder Traversal </a>\n",
    "\n",
    "Implment BST Preorder traversal method, iteratively."
   ]
  },
  {
   "cell_type": "code",
   "execution_count": 39,
   "metadata": {},
   "outputs": [
    {
     "name": "stdout",
     "output_type": "stream",
     "text": [
      "\n",
      "[ 6 ] [ 4 ] [ 2 ] [ 1 ] [ 3 ] [ 5 ] [ 8 ] [ 7 ] [ 9 ] [ 13 ] [ 10 ] [ 12 ] [ 14 ] \n",
      "[6, 4, 2, 1, 3, 5, 8, 7, 9, 13, 10, 12, 14]\n"
     ]
    },
    {
     "data": {
      "text/plain": [
       "[6, 4, 2, 1, 3, 5, 8, 7, 9, 13, 10, 12, 14]"
      ]
     },
     "execution_count": 39,
     "metadata": {},
     "output_type": "execute_result"
    }
   ],
   "source": [
    "def printPreorderIterative(bst):\n",
    "    if bst is None:\n",
    "        print('None')\n",
    "    stack = [bst._root]\n",
    "    print_list = []\n",
    "    cur = bst._root\n",
    "    while len(stack) > 0:\n",
    "        node = stack.pop()\n",
    "        print_list.append(node._item)\n",
    "        if node._right is not None:\n",
    "            stack.append(node._right)\n",
    "        if node._left is not None:\n",
    "            stack.append(node._left)\n",
    "    print(print_list)\n",
    "    return print_list\n",
    "\n",
    "bst.print_preorder()\n",
    "print()\n",
    "printPreorderIterative(bst)     "
   ]
  },
  {
   "cell_type": "code",
   "execution_count": null,
   "metadata": {
    "collapsed": true
   },
   "outputs": [],
   "source": [
    "def printPreirderIterative(bst):\n",
    "    if bst is None:\n",
    "        return \n",
    "    stack = [bst._root]\n",
    "    \n",
    "    while len(stack) > 0:\n",
    "        node = stack.pop()\n",
    "        if node is not None:\n",
    "            print('[', node._item, ']', end = ' ')\n",
    "            stack.append(node._right)\n",
    "            stack.append(node._left)"
   ]
  },
  {
   "cell_type": "markdown",
   "metadata": {},
   "source": [
    "### <a id='Ex5'>Ex.5 Iterative Postorder Traversal </a>\n",
    "\n",
    "Implment BST Postorder traversal method, iteratively."
   ]
  },
  {
   "cell_type": "code",
   "execution_count": 7,
   "metadata": {},
   "outputs": [
    {
     "name": "stdout",
     "output_type": "stream",
     "text": [
      "\n",
      "[ 1 ] [ 3 ] [ 2 ] [ 5 ] [ 4 ] [ 7 ] [ 12 ] [ 10 ] [ 13 ] [ 9 ] [ 8 ] [ 6 ] [1, 3, 2, 5, 4, 7, 12, 10, 12, 10, 13, 9, 8, 6]\n"
     ]
    },
    {
     "data": {
      "text/plain": [
       "[1, 3, 2, 5, 4, 7, 12, 10, 12, 10, 13, 9, 8, 6]"
      ]
     },
     "execution_count": 7,
     "metadata": {},
     "output_type": "execute_result"
    }
   ],
   "source": [
    "def printPostorderIterative(bst):\n",
    "    if bst is None:\n",
    "        return None\n",
    "    stack = [(bst._root, False)]\n",
    "    print_list = []\n",
    "    cur = bst._root\n",
    "    flag = False\n",
    "    while len(stack) > 0:\n",
    "        while cur._left != None and flag == False: # 一定要加上flag == False，因为当cur被二次pop的时候，仍然能往左和右走\n",
    "            stack.append((cur._left, False))\n",
    "            cur = cur._left\n",
    "        cur, flag = stack.pop()\n",
    "        if flag == True:\n",
    "            print_list.append(cur._item)\n",
    "        else:\n",
    "            stack.append((cur, True))\n",
    "        if cur._right != None and flag == False:\n",
    "            stack.append((cur._right, False))\n",
    "            cur = cur._right\n",
    "    print(print_list)\n",
    "    return print_list\n",
    "\n",
    "bst.print_postorder()\n",
    "printPostorderIterative(bst)"
   ]
  },
  {
   "cell_type": "code",
   "execution_count": null,
   "metadata": {
    "collapsed": true
   },
   "outputs": [],
   "source": [
    "def printPostorderIterative(bst):\n",
    "    if bst is None:\n",
    "        return\n",
    "    stack = [[bst._root, False]]\n",
    "    while len(stack) > 0:\n",
    "        node, flag = stack.pop()\n",
    "        if node is not None:\n",
    "            if flag is True:\n",
    "                print('[', node._item, ']', end = ' ')\n",
    "            else: # 易错点，这里一定要补上else，因为当flag是True的时候证明，该点的子树已经进过stack了，不用再进一次\n",
    "                stack.append([node, True])\n",
    "                stack.append([node._right, False])\n",
    "                stack.append([node._left, False])"
   ]
  },
  {
   "cell_type": "markdown",
   "metadata": {},
   "source": [
    "# Binary Search Tree III #"
   ]
  },
  {
   "cell_type": "markdown",
   "metadata": {},
   "source": [
    "### <a id='Ex1'>Ex.1 Level Order Traversal </a>\n",
    "\n",
    "Given a binary tree, return the level order traversal of its nodes' values. (ie, from left to right, level by level).\n",
    "\n",
    "<img src=\"../images/ch14/t1.png\" width=\"75\"/>\n",
    "<img src=\"../images/ch14/t2.png\" width=\"75\"/>"
   ]
  },
  {
   "cell_type": "code",
   "execution_count": 8,
   "metadata": {},
   "outputs": [
    {
     "data": {
      "text/plain": [
       "[[6], [4, 8], [2, 5, 7, 9], [1, 3, 13], [10], [12]]"
      ]
     },
     "execution_count": 8,
     "metadata": {},
     "output_type": "execute_result"
    }
   ],
   "source": [
    "def levelOrder(bst):\n",
    "    if bst is None:\n",
    "        return None\n",
    "    rst = []\n",
    "    cur_level = [bst._root]\n",
    "    while len(cur_level) > 0:\n",
    "        next_level = []\n",
    "        cur_items = []\n",
    "        for node in cur_level:\n",
    "            cur_items.append(node._item)\n",
    "            if node._left != None:\n",
    "                next_level.append(node._left)\n",
    "            if node._right != None:\n",
    "                next_level.append(node._right)\n",
    "        rst.append(cur_items)\n",
    "        cur_level = next_level\n",
    "        \n",
    "    return rst\n",
    "\n",
    "levelOrder(bst)"
   ]
  },
  {
   "cell_type": "markdown",
   "metadata": {
    "collapsed": true
   },
   "source": [
    "### <a id='Ex1'>Ex.2 Level Order Traversal II</a>\n",
    "\n",
    "Given a binary tree, return the bottom-up level order traversal of its nodes' values. (ie, from left to right, level by level from leaf to root).\n",
    "\n",
    "<img src=\"../images/ch14/t1.png\" width=\"75\"/>\n",
    "<img src=\"../images/ch14/t4.png\" width=\"75\"/>"
   ]
  },
  {
   "cell_type": "code",
   "execution_count": 9,
   "metadata": {},
   "outputs": [
    {
     "data": {
      "text/plain": [
       "[[12], [10], [1, 3, 13], [2, 5, 7, 9], [4, 8], [6]]"
      ]
     },
     "execution_count": 9,
     "metadata": {},
     "output_type": "execute_result"
    }
   ],
   "source": [
    "def levelOrder2(bst):\n",
    "    if bst is None:\n",
    "        return None\n",
    "    rst = []\n",
    "    cur_level = [bst._root]\n",
    "    while len(cur_level) > 0:\n",
    "        next_level = []\n",
    "        cur_items = []\n",
    "        for node in cur_level:\n",
    "            cur_items.append(node._item)\n",
    "            if node._left != None:\n",
    "                next_level.append(node._left)\n",
    "            if node._right != None:\n",
    "                next_level.append(node._right)\n",
    "        rst.append(cur_items)\n",
    "        cur_level = next_level\n",
    "    \n",
    "    rst = rst[::-1]\n",
    "    return rst\n",
    "\n",
    "levelOrder2(bst)"
   ]
  },
  {
   "cell_type": "markdown",
   "metadata": {},
   "source": [
    "### <a id='Ex1'>Ex.3 Binary Tree Zigzag Level Order Traversal</a>\n",
    "\n",
    "Given a binary tree, return the zigzag level order traversal of its nodes' values. (ie, from left to right, then right to left for the next level and alternate between).\n",
    "\n",
    "<img src=\"../images/ch14/t1.png\" width=\"75\"/>\n",
    "<img src=\"../images/ch14/t3.png\" width=\"75\"/>"
   ]
  },
  {
   "cell_type": "code",
   "execution_count": 10,
   "metadata": {},
   "outputs": [
    {
     "data": {
      "text/plain": [
       "[[6], [8, 4], [2, 5, 7, 9], [13, 3, 1], [10], [12]]"
      ]
     },
     "execution_count": 10,
     "metadata": {},
     "output_type": "execute_result"
    }
   ],
   "source": [
    "def levelOrderZ(bst):\n",
    "    if bst is None:\n",
    "        return None\n",
    "    rst = []\n",
    "    cur_level = [bst._root]\n",
    "    flag = False\n",
    "    while len(cur_level) > 0:\n",
    "        next_level = []\n",
    "        cur_items = []\n",
    "        for node in cur_level:\n",
    "            cur_items.append(node._item)\n",
    "            if node._left != None:\n",
    "                next_level.append(node._left)\n",
    "            if node._right != None:\n",
    "                next_level.append(node._right)\n",
    "        if flag == True:\n",
    "            flag = False\n",
    "            cur_items = cur_items[::-1]\n",
    "        else:\n",
    "            flag = True\n",
    "        rst.append(cur_items)\n",
    "        cur_level = next_level\n",
    "\n",
    "    return rst\n",
    "\n",
    "levelOrderZ(bst)"
   ]
  },
  {
   "cell_type": "markdown",
   "metadata": {},
   "source": [
    "### <a id='Ex4'>Ex.4 Construct Binary Tree from Preorder and Inorder Traversal</a>\n",
    "\n",
    "Given preorder and inorder traversal of a tree, construct the binary tree.\n",
    "\n",
    "Note:\n",
    "\n",
    "You may assume that duplicates do not exist in the tree.\n",
    "\n",
    "For example, given\n",
    "\n",
    "preorder = [3,9,20,15,7]\n",
    "\n",
    "inorder = [9,3,15,20,7]\n",
    "\n",
    "Return the following binary tree:\n",
    "\n",
    "<img src=\"../images/ch14/t1.png\" width=\"75\"/>"
   ]
  },
  {
   "cell_type": "markdown",
   "metadata": {},
   "source": [
    "# Solution:\n",
    "当我们人工去写的时候，我们会先看preorder的第一个，因为这一定是root，然后根据root在inorder中的idx来确定左右子树。针对左子树，我们可以通过inorder知道左子树有多少个节点，右子树同理。因此又可以回到preorder找到左子树的root和右子树的root。以此循环。"
   ]
  },
  {
   "cell_type": "code",
   "execution_count": 18,
   "metadata": {},
   "outputs": [
    {
     "name": "stdout",
     "output_type": "stream",
     "text": [
      "\n",
      "[ 3 ] [ 9 ] [ 20 ] [ 15 ] [ 7 ] "
     ]
    }
   ],
   "source": [
    "def buildTree(preorder, inorder):\n",
    "    if len(preorder) == 0 or len(inorder) == 0:\n",
    "        return None\n",
    "    node = Node(preorder[0])\n",
    "    idx = inorder.index(preorder[0])\n",
    "    node._left = buildTree(preorder[1:1+idx], inorder[:idx])\n",
    "    node._right = buildTree(preorder[1+idx:], inorder[idx+1:])\n",
    "    return node\n",
    "\n",
    "preorder = [3,9,20,15,7]\n",
    "inorder = [9,3,15,20,7]\n",
    "node = buildTree(preorder, inorder)\n",
    "bst1 = BinarySearchTree(node)\n",
    "bst1.print_preorder()"
   ]
  },
  {
   "cell_type": "markdown",
   "metadata": {},
   "source": [
    "### <a id='Ex5'>Ex.5 Construct Binary Tree from Inorder and Postorder Traversal</a>\n",
    "\n",
    "Given inorder and postorder traversal of a tree, construct the binary tree.\n",
    "\n",
    "Note:\n",
    "\n",
    "You may assume that duplicates do not exist in the tree.\n",
    "\n",
    "For example, given\n",
    "\n",
    "inorder = [9,3,15,20,7]\n",
    "\n",
    "postorder = [9,15,7,20,3]\n",
    "\n",
    "Return the following binary tree:\n",
    "\n",
    "<img src=\"../images/ch14/t1.png\" width=\"75\"/>"
   ]
  },
  {
   "cell_type": "markdown",
   "metadata": {},
   "source": [
    "# Solution:\n",
    "人工的解决方案，先看postorder的最后一个，必定是root。根据root在inorder中的idx区分左右子树。确定左子树的节点数目后回到postorder，必定是从左开始数左子树节点数个，剩下的就是右子树。"
   ]
  },
  {
   "cell_type": "code",
   "execution_count": 22,
   "metadata": {},
   "outputs": [
    {
     "name": "stdout",
     "output_type": "stream",
     "text": [
      "\n",
      "[ 9 ] [ 3 ] [ 15 ] [ 20 ] [ 7 ] \n",
      "[ 9 ] [ 15 ] [ 7 ] [ 20 ] [ 3 ] "
     ]
    }
   ],
   "source": [
    "def buildTree2(inorder, postorder):\n",
    "    if len(inorder) == 0 or postorder == 0:\n",
    "        return None\n",
    "    node = Node(postorder[-1])\n",
    "    idx = inorder.index(postorder[-1])\n",
    "    node._left = buildTree2(inorder[:idx], postorder[:idx])\n",
    "    node._right = buildTree2(inorder[idx+1:], postorder[idx:-1])\n",
    "    return node\n",
    "\n",
    "inorder = [9,3,15,20,7]\n",
    "postorder = [9,15,7,20,3]\n",
    "node = buildTree2(inorder, postorder)\n",
    "bst1 = BinarySearchTree(node)\n",
    "bst1.print_inorder()\n",
    "bst1.print_postorder()"
   ]
  },
  {
   "cell_type": "markdown",
   "metadata": {},
   "source": [
    "### <a id='Ex6'>Ex.6 Convert Sorted Array to Binary Search Tree</a>\n",
    "\n",
    "Given an array where elements are sorted in ascending order, convert it to a height balanced BST.\n",
    "\n",
    "For this problem, a height-balanced binary tree is defined as a binary tree in which the depth of the two subtrees of every node never differ by more than 1.\n",
    "\n",
    "Given the sorted array: [-10,-3,0,5,9],\n",
    "\n",
    "One possible answer is: \n",
    "\n",
    "<img src=\"../images/ch14/t5.png\" width=\"100\"/>"
   ]
  },
  {
   "cell_type": "code",
   "execution_count": 27,
   "metadata": {},
   "outputs": [
    {
     "name": "stdout",
     "output_type": "stream",
     "text": [
      "\n",
      "[ -10 ] [ -3 ] [ 0 ] [ 5 ] [ 9 ] "
     ]
    }
   ],
   "source": [
    "def array2BST(arr):\n",
    "    if len(arr) == 0:\n",
    "        return None\n",
    "    mid = len(arr)//2\n",
    "    node = Node(arr[mid])\n",
    "    node._left = array2BST(arr[:mid])\n",
    "    node._right = array2BST(arr[mid+1:]) #如果mid+1>len的话，arr[mid+1:]返回[]\n",
    "    return node\n",
    "\n",
    "arr = [-10,-3,0,5,9]\n",
    "node = array2BST(arr)\n",
    "bst1 = BinarySearchTree(node)\n",
    "bst1.print_inorder()"
   ]
  },
  {
   "cell_type": "markdown",
   "metadata": {},
   "source": [
    "### <a id='Ex7'>Ex.7 Convert Sorted List to Binary Search Tree</a>"
   ]
  },
  {
   "cell_type": "code",
   "execution_count": 31,
   "metadata": {
    "collapsed": true
   },
   "outputs": [],
   "source": [
    "from LinkedList import LinkedList as LL\n",
    "from LinkedList import Node as LN"
   ]
  },
  {
   "cell_type": "code",
   "execution_count": 32,
   "metadata": {},
   "outputs": [
    {
     "name": "stdout",
     "output_type": "stream",
     "text": [
      "\n",
      "[ 1 ] [ 2 ] [ 3 ] [ 4 ] [ 5 ] [ 6 ] [ 7 ] \n",
      "[ 4 ] [ 2 ] [ 1 ] [ 3 ] [ 6 ] [ 5 ] [ 7 ] "
     ]
    }
   ],
   "source": [
    "def sortedListToBST(head):\n",
    "    if head is None:\n",
    "        return None\n",
    "    dummy = LN(0)\n",
    "    dummy.next = head\n",
    "    slow = dummy\n",
    "    fast = dummy\n",
    "    while fast is not None and fast.next is not None:\n",
    "        pre = slow\n",
    "        slow = slow.next\n",
    "        fast = fast.next.next\n",
    "    if slow == head and fast is None:\n",
    "        return Node(slow.value)\n",
    "    elif slow == head and fast.next is None:\n",
    "        node = Node(slow.value)\n",
    "        right = slow.next\n",
    "        node._right = sortedListToBST(right)\n",
    "    else:\n",
    "        pre.next = None\n",
    "        right = slow.next\n",
    "        node = Node(slow.value)\n",
    "        node._left = sortedListToBST(head)\n",
    "        node._right = sortedListToBST(right)\n",
    "    return node\n",
    "\n",
    "node1 = LN(1)\n",
    "node2 = LN(2)\n",
    "node3 = LN(3)\n",
    "node4 = LN(4)\n",
    "node5 = LN(5)\n",
    "node6 = LN(6)\n",
    "node7 = LN(7)\n",
    "node8 = LN(8)\n",
    "node1.next = node2\n",
    "node2.next = node3\n",
    "node3.next = node4\n",
    "node4.next = node5\n",
    "node5.next = node6\n",
    "node6.next = node7\n",
    "#node7.next = node8\n",
    "\n",
    "root = sortedListToBST(node1)\n",
    "bst7 = BinarySearchTree(root)\n",
    "bst7.print_inorder()\n",
    "bst7.print_preorder()"
   ]
  },
  {
   "cell_type": "markdown",
   "metadata": {},
   "source": [
    "# Binary Search Tree IV #"
   ]
  },
  {
   "cell_type": "markdown",
   "metadata": {},
   "source": [
    "### <a id='Ex1'>Ex.1 Path Sum </a>\n",
    "\n",
    "Given a binary tree and a sum, determine if the tree has a root-to-leaf path such that adding up all the values along the path equals the given sum.\n",
    "\n",
    "Given the below binary tree and sum = 22,\n",
    "\n",
    "return true, as there exist a root-to-leaf path 5->4->11->2 which sum is 22.\n",
    "\n",
    "<img src=\"../images/ch14/t6.png\" width=\"130\"/>"
   ]
  },
  {
   "cell_type": "code",
   "execution_count": 36,
   "metadata": {},
   "outputs": [
    {
     "name": "stdout",
     "output_type": "stream",
     "text": [
      "True\n",
      "False\n"
     ]
    }
   ],
   "source": [
    "def hasPathSum(bst, s):\n",
    "    return __hasPathSum(bst._root, s)\n",
    "\n",
    "def __hasPathSum(node, s):\n",
    "    if node is None:\n",
    "        return None\n",
    "    s = s - node._item\n",
    "    if s == 0 and node._left is None and node._right is None:\n",
    "        return True\n",
    "    elif s > 0:\n",
    "        return __hasPathSum(node._left, s) or __hasPathSum(node._right, s)\n",
    "    else:\n",
    "        return False\n",
    "\n",
    "bst41 = BinarySearchTree()\n",
    "numbers = [6, 4, 8, 7, 9, 2, 1, 3, 5, 13, 11, 10, 12]\n",
    "for i in numbers:\n",
    "    bst41.add(i)\n",
    "\n",
    "print(hasPathSum(bst41, 15))\n",
    "print(hasPathSum(bst41, 16))"
   ]
  },
  {
   "cell_type": "markdown",
   "metadata": {},
   "source": [
    "### <a id='Ex1'>Ex.2 Path Sum II</a>\n",
    "\n",
    "Given a binary tree and a sum, find all root-to-leaf paths where each path's sum equals the given sum.\n",
    "\n",
    "Given the below binary tree and sum = 22,\n",
    "\n",
    "<img src=\"../images/ch14/t7.png\" width=\"130\"/>"
   ]
  },
  {
   "cell_type": "code",
   "execution_count": 39,
   "metadata": {},
   "outputs": [
    {
     "name": "stdout",
     "output_type": "stream",
     "text": [
      "[[6, 4, 2, 3], [6, 4, 5]]\n",
      "[]\n"
     ]
    }
   ],
   "source": [
    "def pathSum(bst, s):\n",
    "    rst = []\n",
    "    __pathSum(bst._root, s, rst, [])\n",
    "    return rst\n",
    "\n",
    "def __pathSum(node, s, rst, cur_path):\n",
    "    if node is not None:\n",
    "        cur_path.append(node._item)\n",
    "        s = s - node._item\n",
    "        if s == 0 and node._left is None and node._right is None:\n",
    "            rst.append(cur_path)\n",
    "        elif s > 0:\n",
    "            __pathSum(node._left, s, rst, cur_path[:])\n",
    "            __pathSum(node._right, s, rst, cur_path[:])\n",
    "\n",
    "bst42 = BinarySearchTree()\n",
    "numbers = [6, 4, 8, 7, 9, 2, 1, 3, 5, 13, 11, 10, 12]\n",
    "for i in numbers:\n",
    "    bst42.add(i)\n",
    "\n",
    "print(pathSum(bst42, 15))\n",
    "print(pathSum(bst42, 16))"
   ]
  },
  {
   "cell_type": "code",
   "execution_count": null,
   "metadata": {
    "collapsed": true
   },
   "outputs": [],
   "source": []
  }
 ],
 "metadata": {
  "kernelspec": {
   "display_name": "Python 3",
   "language": "python",
   "name": "python3"
  },
  "language_info": {
   "codemirror_mode": {
    "name": "ipython",
    "version": 3
   },
   "file_extension": ".py",
   "mimetype": "text/x-python",
   "name": "python",
   "nbconvert_exporter": "python",
   "pygments_lexer": "ipython3",
   "version": "3.6.1"
  }
 },
 "nbformat": 4,
 "nbformat_minor": 4
}
