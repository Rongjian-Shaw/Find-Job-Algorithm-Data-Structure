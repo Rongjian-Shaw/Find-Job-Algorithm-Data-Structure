{
 "cells": [
  {
   "cell_type": "code",
   "execution_count": 9,
   "metadata": {},
   "outputs": [
    {
     "data": {
      "text/plain": [
       "{(-1, 6), (0, 5), (3, 2), (4, 1)}"
      ]
     },
     "execution_count": 9,
     "metadata": {},
     "output_type": "execute_result"
    }
   ],
   "source": [
    "# Given an array of integers and some value X, print the pairs of integers that sum to X\n",
    "# Example: {5, 1, 2, 3, 4, 6, -1, 0, 9}   X = 5\n",
    "# Answer = (2, 3)  (1, 4), (6, -1), (5, 0)\n",
    "\n",
    "def twoSum(lst, x):\n",
    "    dic = {}\n",
    "    rst = set()\n",
    "    # k:\n",
    "    for i in range(len(lst)):\n",
    "        if lst[i] in dic:\n",
    "            rst.add((lst[i], lst[dic[lst[i]]]))\n",
    "        else:\n",
    "            dic[x - lst[i]] = i\n",
    "            \n",
    "    return rst\n",
    "\n",
    "lst = [5, 1, 2, 3, 4, 6, -1, 0, 4]\n",
    "# lst = [5]\n",
    "x = 5\n",
    "twoSum(lst, x)"
   ]
  },
  {
   "cell_type": "code",
   "execution_count": null,
   "metadata": {
    "collapsed": true
   },
   "outputs": [],
   "source": []
  }
 ],
 "metadata": {
  "kernelspec": {
   "display_name": "Python 3",
   "language": "python",
   "name": "python3"
  },
  "language_info": {
   "codemirror_mode": {
    "name": "ipython",
    "version": 3
   },
   "file_extension": ".py",
   "mimetype": "text/x-python",
   "name": "python",
   "nbconvert_exporter": "python",
   "pygments_lexer": "ipython3",
   "version": "3.6.1"
  }
 },
 "nbformat": 4,
 "nbformat_minor": 2
}
