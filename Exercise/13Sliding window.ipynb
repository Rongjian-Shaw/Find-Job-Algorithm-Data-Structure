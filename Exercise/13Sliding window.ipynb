{
 "cells": [
  {
   "cell_type": "markdown",
   "metadata": {},
   "source": [
    "# Sliding Window"
   ]
  },
  {
   "cell_type": "markdown",
   "metadata": {},
   "source": [
    "Sliding Window technique shows how a nested for loop in few problems can be converted to single for loop and hence reducing the time complexity."
   ]
  },
  {
   "cell_type": "markdown",
   "metadata": {},
   "source": [
    "### <a id='Ex1'> Ex.1 Remove Duplicates from Sorted Array \n",
    "\n",
    "Given a sorted array, remove the duplicates such that each element appear only once and return the new length."
   ]
  },
  {
   "cell_type": "code",
   "execution_count": 1,
   "metadata": {},
   "outputs": [
    {
     "data": {
      "text/plain": [
       "2"
      ]
     },
     "execution_count": 1,
     "metadata": {},
     "output_type": "execute_result"
    }
   ],
   "source": [
    "# Solution:可以定义两个前后指针，前指针代表已经符合规则元素的最后一个，后指针表示当前正在处理的元素\n",
    "# 如果发现后指针元素和前指针不同，则先把前指针+1，然后将后指针的指赋值给前指针\n",
    "\n",
    "def removeDuplicates(arr):\n",
    "    if arr is None:\n",
    "        return arr\n",
    "    \n",
    "    tail = 0\n",
    "    for j in range(1, len(arr)):\n",
    "        if arr[j] != arr[tail]:\n",
    "            tail += 1\n",
    "            arr[tail] = arr[j]\n",
    "    return tail+1\n",
    "        \n",
    "alist = [1,1,2]\n",
    "removeDuplicates(alist)"
   ]
  },
  {
   "cell_type": "code",
   "execution_count": 9,
   "metadata": {},
   "outputs": [
    {
     "data": {
      "text/plain": [
       "2"
      ]
     },
     "execution_count": 9,
     "metadata": {},
     "output_type": "execute_result"
    }
   ],
   "source": [
    "# Solution2：同样是滑动窗口法，区别是前后指针开始的位置相同\n",
    "def removeDuplicates(alist):\n",
    "    i = 0\n",
    "    for j in range(len(alist)):\n",
    "        # 如果遇到重复值，j继续往右移，直到找到不同的把重复值替换掉\n",
    "        # 前指针i代表已经符合规则的最后一个元素的下一个，j表示正在处理的元素\n",
    "        # 因此，当j元素与i-1元素不同的时候则将j赋值给i；\n",
    "        # 原理：当j赋给i后，i+1, j继续往后走，如果这时候j与之前是重复的，那么j必定与i-1相同，而知道找到与当前不同的元素才会继续更新i\n",
    "        if j == 0 or alist[j] > alist[i - 1]: # 当j,i==0的时候是特例，因为这个当前位置必定不与之前重复， alsit[j] > alist[i - 1]表示两个元素不同\n",
    "            alist[i] = alist[j]\n",
    "            i += 1\n",
    "    return i # 由于i本就表示符合规则的最后一个元素的下一个，因此其大小与处理后的宽度相同\n",
    "\n",
    "alist = [1,1,2]\n",
    "removeDuplicates(alist)"
   ]
  },
  {
   "cell_type": "markdown",
   "metadata": {},
   "source": [
    "### <a id='Ex2'> Ex.2 Remove Duplicates from Sorted Array II \n",
    "\n",
    "What if duplicates are allowed at most twice?"
   ]
  },
  {
   "cell_type": "code",
   "execution_count": 11,
   "metadata": {},
   "outputs": [
    {
     "data": {
      "text/plain": [
       "7"
      ]
     },
     "execution_count": 11,
     "metadata": {},
     "output_type": "execute_result"
    }
   ],
   "source": [
    "def removeDuplicates2(arr):\n",
    "    if len(arr) < 2:\n",
    "        return len(arr)\n",
    "    \n",
    "    pre = 1\n",
    "    for j in range(2, len(arr)):\n",
    "        if arr[j] == arr[pre] and arr[j] != arr[pre-1]:\n",
    "            pre += 1\n",
    "        elif arr[j] == arr[pre] and arr[j] == arr[pre-1]:\n",
    "            continue\n",
    "        else:\n",
    "            pre += 1\n",
    "            arr[pre] = arr[j]\n",
    "    \n",
    "    return pre+1\n",
    "\n",
    "arr = [1,1,2,2,2,3,4,4]\n",
    "removeDuplicates2(arr)"
   ]
  },
  {
   "cell_type": "code",
   "execution_count": 12,
   "metadata": {},
   "outputs": [
    {
     "data": {
      "text/plain": [
       "7"
      ]
     },
     "execution_count": 12,
     "metadata": {},
     "output_type": "execute_result"
    }
   ],
   "source": [
    "def removeDuplicates2(arr):\n",
    "    i = 0\n",
    "    for j in range(len(arr)):\n",
    "        if j < 2 or arr[j] > arr[i-2]:\n",
    "            arr[i] = arr[j]\n",
    "            i += 1\n",
    "    return i\n",
    "\n",
    "arr = [1,1,2,2,2,3,4,4]\n",
    "removeDuplicates2(arr)"
   ]
  },
  {
   "cell_type": "markdown",
   "metadata": {},
   "source": [
    "### <a id='Ex3'> Ex.3 Remove Element\n",
    "\n",
    "Given an array nums and a value val, remove all instances of that value in-place and return the new length."
   ]
  },
  {
   "cell_type": "code",
   "execution_count": 17,
   "metadata": {},
   "outputs": [
    {
     "name": "stdout",
     "output_type": "stream",
     "text": [
      "[1, 4, 2, 5, 6, 5, 4, 5, 4]\n"
     ]
    },
    {
     "data": {
      "text/plain": [
       "7"
      ]
     },
     "execution_count": 17,
     "metadata": {},
     "output_type": "execute_result"
    }
   ],
   "source": [
    "def removeElement(arr, v):\n",
    "    flag = 0\n",
    "    for i in range(len(arr)):\n",
    "        if arr[i] == v:\n",
    "            flag += 1\n",
    "            continue\n",
    "        arr[i-flag] = arr[i]  \n",
    "    print(arr)\n",
    "    return i-flag+1\n",
    "\n",
    "arr = [1,3,4,2,5,3,6,5,4]\n",
    "removeElement(arr, 3)"
   ]
  },
  {
   "cell_type": "code",
   "execution_count": 19,
   "metadata": {},
   "outputs": [
    {
     "data": {
      "text/plain": [
       "7"
      ]
     },
     "execution_count": 19,
     "metadata": {},
     "output_type": "execute_result"
    }
   ],
   "source": [
    "def removeElement(nums, val):\n",
    "    i = 0\n",
    "    for j in range(len(nums)):\n",
    "        if nums[j] != val:\n",
    "            nums[i] = nums[j]\n",
    "            i += 1\n",
    "    \n",
    "    return i\n",
    "\n",
    "arr = [1,3,4,2,5,3,6,5,4]\n",
    "removeElement(arr, 3)"
   ]
  },
  {
   "cell_type": "markdown",
   "metadata": {},
   "source": [
    "### <a id='Ex4'> Ex.4 Maximum Average Subarray \n",
    "\n",
    "Given an array consisting of n integers, find the contiguous subarray of given length k that has the maximum average value. And you need to output the maximum average value \n",
    "\n",
    "Assume 1 <= k <= n \n"
   ]
  },
  {
   "cell_type": "code",
   "execution_count": 23,
   "metadata": {},
   "outputs": [
    {
     "name": "stdout",
     "output_type": "stream",
     "text": [
      "2\n",
      "51\n"
     ]
    },
    {
     "data": {
      "text/plain": [
       "12.75"
      ]
     },
     "execution_count": 23,
     "metadata": {},
     "output_type": "execute_result"
    }
   ],
   "source": [
    "def maxSubarray(arr, k):\n",
    "    if len(arr) < k:\n",
    "        return -1\n",
    "    \n",
    "    max_sum = sum(arr[0:k])\n",
    "    s = sum(arr[0:k])\n",
    "    \n",
    "    for i in range(len(arr)-k):\n",
    "        print(s)\n",
    "        s = s - arr[i] + arr[i+k]\n",
    "        max_sum = max(max_sum, s)\n",
    "    \n",
    "    return max_sum / k\n",
    "\n",
    "nums = [ 1, 12, -5, -6, 50, 3 ]\n",
    "maxSubarray(nums, 4)       "
   ]
  },
  {
   "cell_type": "markdown",
   "metadata": {},
   "source": [
    "### <a id='Ex5'> Ex.5 Longest Continuous Increasing Subsequence\n",
    "\n",
    "Given an unsorted array of integers, find the length of longest continuous increasing subsequence (subarray)."
   ]
  },
  {
   "cell_type": "code",
   "execution_count": 27,
   "metadata": {},
   "outputs": [
    {
     "data": {
      "text/plain": [
       "[1, 3, 5]"
      ]
     },
     "execution_count": 27,
     "metadata": {},
     "output_type": "execute_result"
    }
   ],
   "source": [
    "def LCIS(arr):\n",
    "    start = 0\n",
    "    length = 1\n",
    "    max_len = 0\n",
    "    final_start = 0\n",
    "    \n",
    "    for i in range(1, len(arr)):\n",
    "        if arr[i] >= arr[i-1]:\n",
    "            length += 1\n",
    "            if length > max_len:\n",
    "                final_start = start\n",
    "                max_len = length\n",
    "        else:\n",
    "            start = i\n",
    "            length = 1\n",
    "    \n",
    "    return arr[final_start:final_start+max_len]\n",
    "\n",
    "arr = [1,3,5,4,7]\n",
    "LCIS(arr)"
   ]
  },
  {
   "cell_type": "markdown",
   "metadata": {},
   "source": [
    "### <a id='Ex6'> Ex.6 Minimum Size Subarray Sum \n",
    "\n",
    "Given an array of n positive integers and a positive integer s, find the minimal length of a contiguous subarray of which the sum ≥ s. If there isn't one, return 0 instead\n",
    "\n",
    "Given the array [2,3,1,2,4,3] and s = 7\n",
    "\n",
    "the subarray [4,3] has the minimal length under the problem constraint "
   ]
  },
  {
   "cell_type": "code",
   "execution_count": 28,
   "metadata": {},
   "outputs": [
    {
     "data": {
      "text/plain": [
       "[4, 3]"
      ]
     },
     "execution_count": 28,
     "metadata": {},
     "output_type": "execute_result"
    }
   ],
   "source": [
    "def minSubarray(arr, s):\n",
    "    start = 0\n",
    "    cur_sum = 0\n",
    "    rst = [0, 0]\n",
    "    \n",
    "    for i in range(len(arr)):\n",
    "        cur_sum += arr[i]\n",
    "        while cur_sum >= s:\n",
    "            rst = [start, i]\n",
    "            cur_sum -= arr[start]\n",
    "            start += 1\n",
    "    \n",
    "    return arr[rst[0]:rst[1]+1]\n",
    "\n",
    "arr = [2,3,1,2,4,3]\n",
    "s = 7\n",
    "minSubarray(arr, s)\n",
    "            \n",
    "            \n",
    "            "
   ]
  },
  {
   "cell_type": "markdown",
   "metadata": {},
   "source": [
    "### <a id='Ex7'> Ex.7 Implement strStr()\n",
    "\n",
    "Return the index of the first occurrence of needle in haystack, or -1 if needle is not part of haystack."
   ]
  },
  {
   "cell_type": "code",
   "execution_count": 29,
   "metadata": {},
   "outputs": [
    {
     "data": {
      "text/plain": [
       "9"
      ]
     },
     "execution_count": 29,
     "metadata": {},
     "output_type": "execute_result"
    }
   ],
   "source": [
    "def strStr(haystack, needle):\n",
    "    if len(needle) > len(haystack):\n",
    "        return -1\n",
    "    \n",
    "    for i in range(len(haystack) - len(needle) + 1):\n",
    "        for j in range(len(needle)):\n",
    "            if haystack[i+j] == needle[j]:\n",
    "                if j == len(needle)-1:\n",
    "                    return i\n",
    "            else:\n",
    "                break\n",
    "    \n",
    "    return -1\n",
    "\n",
    "haystack = 'aaabcbababcd'\n",
    "needle = 'bcd'\n",
    "strStr(haystack, needle)"
   ]
  },
  {
   "cell_type": "code",
   "execution_count": null,
   "metadata": {
    "collapsed": true
   },
   "outputs": [],
   "source": []
  }
 ],
 "metadata": {
  "kernelspec": {
   "display_name": "Python 3",
   "language": "python",
   "name": "python3"
  },
  "language_info": {
   "codemirror_mode": {
    "name": "ipython",
    "version": 3
   },
   "file_extension": ".py",
   "mimetype": "text/x-python",
   "name": "python",
   "nbconvert_exporter": "python",
   "pygments_lexer": "ipython3",
   "version": "3.6.1"
  }
 },
 "nbformat": 4,
 "nbformat_minor": 2
}
