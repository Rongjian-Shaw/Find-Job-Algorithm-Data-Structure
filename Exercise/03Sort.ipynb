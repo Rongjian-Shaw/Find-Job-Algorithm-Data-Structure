{
 "cells": [
  {
   "cell_type": "markdown",
   "metadata": {
    "run_control": {
     "frozen": false,
     "read_only": false
    }
   },
   "source": [
    "## Buble Sort"
   ]
  },
  {
   "cell_type": "code",
   "execution_count": 4,
   "metadata": {},
   "outputs": [
    {
     "data": {
      "text/plain": [
       "[0, 1, 2, 3, 4, 5, 6, 7, 8, 9]"
      ]
     },
     "execution_count": 4,
     "metadata": {},
     "output_type": "execute_result"
    }
   ],
   "source": [
    "def bubble(nums):\n",
    "    for i in range(len(nums)-1, 0, -1):\n",
    "        for j in range(i):\n",
    "            if nums[j] > nums[j+1]:\n",
    "                nums[j], nums[j+1] = nums[j+1], nums[j]\n",
    "    return nums\n",
    "\n",
    "nums = [1, 3, 5, 7, 9, 2, 4, 6, 8, 0]\n",
    "bubble(nums)"
   ]
  },
  {
   "cell_type": "markdown",
   "metadata": {
    "run_control": {
     "frozen": false,
     "read_only": false
    }
   },
   "source": [
    "## Insert Sort"
   ]
  },
  {
   "cell_type": "code",
   "execution_count": 1,
   "metadata": {},
   "outputs": [
    {
     "data": {
      "text/plain": [
       "[0, 1, 2, 3, 4, 5, 6, 7, 8, 9]"
      ]
     },
     "execution_count": 1,
     "metadata": {},
     "output_type": "execute_result"
    }
   ],
   "source": [
    "def insert_sort(nums):\n",
    "    for sort_idx in range(len(nums)):\n",
    "        tmp = sort_idx\n",
    "        while tmp > 0 and nums[tmp-1] > nums[tmp]:\n",
    "            nums[tmp], nums[tmp-1] = nums[tmp-1], nums[tmp]\n",
    "            tmp -= 1\n",
    "    return nums\n",
    "\n",
    "nums = [1, 3, 5, 7, 9, 2, 4, 6, 8, 0]\n",
    "insert_sort(nums)"
   ]
  },
  {
   "cell_type": "markdown",
   "metadata": {},
   "source": [
    "## Merge Sort"
   ]
  },
  {
   "cell_type": "code",
   "execution_count": 4,
   "metadata": {},
   "outputs": [
    {
     "data": {
      "text/plain": [
       "[0, 1, 2, 3, 4, 5, 6, 7, 8, 9]"
      ]
     },
     "execution_count": 4,
     "metadata": {},
     "output_type": "execute_result"
    }
   ],
   "source": [
    "def merge_sort(nums):\n",
    "    if len(nums) == 1:\n",
    "        return nums\n",
    "    if len(nums) == 0:\n",
    "        return []\n",
    "    mid = len(nums) // 2\n",
    "    left = merge_sort(nums[:mid])\n",
    "    right = merge_sort(nums[mid:])\n",
    "    return merge(left, right)\n",
    "\n",
    "def merge(left, right):\n",
    "    mergedArray = []\n",
    "    lp, rp =0 ,0\n",
    "    \n",
    "    while lp < len(left) and rp < len(right):\n",
    "        while lp < len(left) and rp < len(right) and left[lp] <= right[rp]:\n",
    "            mergedArray.append(left[lp])\n",
    "            lp += 1\n",
    "\n",
    "        while lp < len(left) and rp < len(right) and right[rp] < left[lp]:\n",
    "            mergedArray.append(right[rp])\n",
    "            rp += 1\n",
    "    \n",
    "    while lp < len(left):\n",
    "        mergedArray.append(left[lp])\n",
    "        lp += 1\n",
    "    while rp < len(right):\n",
    "        mergedArray.append(right[rp])\n",
    "        rp += 1\n",
    "    \n",
    "    return mergedArray\n",
    "\n",
    "nums = [1, 3, 5, 7, 9, 2, 4, 6, 8, 0]\n",
    "merge_sort(nums)"
   ]
  },
  {
   "cell_type": "markdown",
   "metadata": {},
   "source": [
    "# Quick Sort"
   ]
  },
  {
   "cell_type": "code",
   "execution_count": 9,
   "metadata": {},
   "outputs": [
    {
     "name": "stdout",
     "output_type": "stream",
     "text": [
      "[0, 1, 2, 3, 4, 5, 6, 7, 8, 9]\n"
     ]
    }
   ],
   "source": [
    "def quick_sort(nums, left, right):\n",
    "    if left == right:\n",
    "        return nums\n",
    "    index = partition(nums, left, right)\n",
    "    if index > left: # if index < left, that means nums[index] is already in the right position \n",
    "        quick_sort(nums, left, index-1)\n",
    "    if index < right: # the same as above\n",
    "        quick_sort(nums, index+1, right)\n",
    "\n",
    "def partition(nums, left, right):\n",
    "    pivot = nums[left]\n",
    "    while left < right:\n",
    "        while left < right and nums[right] > pivot:\n",
    "            right -= 1\n",
    "        nums[left] = nums[right]\n",
    "        while left < right and nums[left] < pivot:\n",
    "            left += 1\n",
    "        nums[right] = nums[left]\n",
    "    \n",
    "    nums[left] = pivot\n",
    "    return left\n",
    "\n",
    "nums = [1, 3, 5, 7, 9, 2, 4, 6, 8, 0]\n",
    "quick_sort(nums, 0, len(nums)-1)\n",
    "print(nums)"
   ]
  },
  {
   "cell_type": "code",
   "execution_count": null,
   "metadata": {
    "collapsed": true
   },
   "outputs": [],
   "source": []
  }
 ],
 "metadata": {
  "kernelspec": {
   "display_name": "Python 3",
   "language": "python",
   "name": "python3"
  },
  "language_info": {
   "codemirror_mode": {
    "name": "ipython",
    "version": 3
   },
   "file_extension": ".py",
   "mimetype": "text/x-python",
   "name": "python",
   "nbconvert_exporter": "python",
   "pygments_lexer": "ipython3",
   "version": "3.6.1"
  }
 },
 "nbformat": 4,
 "nbformat_minor": 2
}
