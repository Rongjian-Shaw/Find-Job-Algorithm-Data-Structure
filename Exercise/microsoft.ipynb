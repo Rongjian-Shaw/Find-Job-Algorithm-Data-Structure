{
 "cells": [
  {
   "cell_type": "markdown",
   "metadata": {},
   "source": [
    "## 1. Subset"
   ]
  },
  {
   "cell_type": "code",
   "execution_count": 21,
   "metadata": {},
   "outputs": [
    {
     "data": {
      "text/plain": [
       "[[], [1], [2], [1, 2], [3], [1, 3], [2, 3], [1, 2, 3]]"
      ]
     },
     "execution_count": 21,
     "metadata": {},
     "output_type": "execute_result"
    }
   ],
   "source": [
    "def subset(nums):\n",
    "    rst = [[]]\n",
    "    for num in nums:\n",
    "        extra = []\n",
    "        for lst in rst:\n",
    "            extra.append(lst + [num])\n",
    "        rst += extra\n",
    "    return rst\n",
    "\n",
    "nums = [1,2,3]\n",
    "subset(nums)"
   ]
  },
  {
   "cell_type": "code",
   "execution_count": 329,
   "metadata": {},
   "outputs": [
    {
     "data": {
      "text/plain": [
       "[[], [1], [2], [1, 2], [3], [1, 3], [2, 3], [1, 2, 3]]"
      ]
     },
     "execution_count": 329,
     "metadata": {},
     "output_type": "execute_result"
    }
   ],
   "source": [
    "# bfs法\n",
    "# 针对每个元素，复制一份rst后，对备份一顿操作，然后替换回（更新回）rst中\n",
    "def subset(nums):\n",
    "    rst = [[]]\n",
    "    \n",
    "    for i in range(len(nums)):\n",
    "        new_rst = rst[:]\n",
    "        for sub in rst:\n",
    "            new_sub = sub[:]\n",
    "            new_sub.append(nums[i])\n",
    "            new_rst.append(new_sub)\n",
    "        rst = new_rst\n",
    "    \n",
    "    return rst\n",
    "\n",
    "nums = [1,2,3]\n",
    "subset(nums)"
   ]
  },
  {
   "cell_type": "code",
   "execution_count": 2,
   "metadata": {},
   "outputs": [
    {
     "data": {
      "text/plain": [
       "[[], [1], [1, 2], [1, 2, 3], [1, 3], [2], [2, 3], [3]]"
      ]
     },
     "execution_count": 2,
     "metadata": {},
     "output_type": "execute_result"
    }
   ],
   "source": [
    "# backtrack dfs法\n",
    "# dfs法和bfs法不同之处在于\n",
    "# bfs针对每个元素，每次都要把整个rst遍历一遍，每次的结果都是继承自上次的迭代\n",
    "# dfs是达到条件才往rst里添加，且不会遍历rst\n",
    "# dfs对每个元素都有一套树操作，最后生成的每个结果只继承自上层递归，与平行的迭代无关\n",
    "def subset(nums):\n",
    "    rst = []\n",
    "    lst = []\n",
    "    dfs(rst, lst, nums)\n",
    "    return rst\n",
    "\n",
    "def dfs(rst, lst, nums):\n",
    "    rst.append(lst[:])\n",
    "    for i in range(len(nums)):\n",
    "        lst.append(nums[i])\n",
    "        dfs(rst, lst, nums[i+1:])\n",
    "        lst.pop()\n",
    "\n",
    "nums = [1,2,3]\n",
    "subset(nums)"
   ]
  },
  {
   "cell_type": "markdown",
   "metadata": {},
   "source": [
    "## 2. Permutation\n",
    "\n",
    "Given abc:\n",
    "\n",
    "Output: bca cba cab acb bac abc"
   ]
  },
  {
   "cell_type": "code",
   "execution_count": 25,
   "metadata": {},
   "outputs": [
    {
     "data": {
      "text/plain": [
       "['321', '231', '213', '312', '132', '123']"
      ]
     },
     "execution_count": 25,
     "metadata": {},
     "output_type": "execute_result"
    }
   ],
   "source": [
    "def perm(nums):\n",
    "    rst = ['']\n",
    "    for num in nums:\n",
    "        tmp = []\n",
    "        for lst in rst:\n",
    "            for i in range(len(lst)+1):\n",
    "                tmp.append(lst[:i] + num + lst[i:])\n",
    "        rst = tmp\n",
    "        \n",
    "    return rst\n",
    "\n",
    "nums = '123'\n",
    "perm(nums)"
   ]
  },
  {
   "cell_type": "code",
   "execution_count": 26,
   "metadata": {},
   "outputs": [
    {
     "data": {
      "text/plain": [
       "['123', '132', '213', '231', '312', '321']"
      ]
     },
     "execution_count": 26,
     "metadata": {},
     "output_type": "execute_result"
    }
   ],
   "source": [
    "def perm(nums):\n",
    "    rst = []\n",
    "    s = ''\n",
    "    dfs(rst, s, nums)\n",
    "    return rst\n",
    "\n",
    "def dfs(rst, s, nums):\n",
    "    if len(nums) == 0:\n",
    "        rst.append(s)\n",
    "    for i in range(len(nums)):\n",
    "        dfs(rst, s+nums[i], nums[:i]+nums[i+1:])\n",
    "        \n",
    "nums = '123'\n",
    "perm(nums)"
   ]
  },
  {
   "cell_type": "code",
   "execution_count": 8,
   "metadata": {},
   "outputs": [
    {
     "name": "stdout",
     "output_type": "stream",
     "text": [
      "123\n",
      "132\n",
      "213\n",
      "231\n",
      "312\n",
      "321\n"
     ]
    }
   ],
   "source": [
    "def perm(nums):\n",
    "    rst = ''\n",
    "    dfs(nums, rst)\n",
    "    \n",
    "def dfs(nums, rst):\n",
    "    if len(nums) == 0:\n",
    "        print(rst)\n",
    "    for i in range(len(nums)):\n",
    "        new_rst = rst + nums[i]\n",
    "        dfs(nums[:i]+nums[i+1:], new_rst)\n",
    "\n",
    "nums = '123'\n",
    "perm(nums)"
   ]
  },
  {
   "cell_type": "code",
   "execution_count": 9,
   "metadata": {},
   "outputs": [
    {
     "data": {
      "text/plain": [
       "['321', '231', '213', '312', '132', '123']"
      ]
     },
     "execution_count": 9,
     "metadata": {},
     "output_type": "execute_result"
    }
   ],
   "source": [
    "def perm(nums):\n",
    "    cur = ['']\n",
    "    \n",
    "    for i in range(len(nums)):\n",
    "        nxt = []\n",
    "        for sub in cur:\n",
    "            for j in range(len(sub)+1):\n",
    "                nxt.append(sub[:j]+nums[i]+sub[j:])\n",
    "        cur = nxt[:]\n",
    "    \n",
    "    return cur\n",
    "\n",
    "nums = '123'\n",
    "perm(nums)"
   ]
  },
  {
   "cell_type": "markdown",
   "metadata": {},
   "source": [
    "## 3. 给一串字符“121”，然后找可能性（{1，2，1}, {12,1}, {1, 21}} 这种"
   ]
  },
  {
   "cell_type": "code",
   "execution_count": 8,
   "metadata": {},
   "outputs": [
    {
     "data": {
      "text/plain": [
       "[['abcd'],\n",
       " ['a', 'bcd'],\n",
       " ['a', 'b', 'cd'],\n",
       " ['a', 'b', 'c', 'd'],\n",
       " ['a', 'bc', 'd'],\n",
       " ['ab', 'cd'],\n",
       " ['ab', 'c', 'd'],\n",
       " ['abc', 'd']]"
      ]
     },
     "execution_count": 8,
     "metadata": {},
     "output_type": "execute_result"
    }
   ],
   "source": [
    "def split(string):\n",
    "    rst = []\n",
    "    lst = [string]\n",
    "    dfs(rst, lst)\n",
    "    return rst\n",
    "\n",
    "def dfs(rst, lst):\n",
    "    rst.append(lst)\n",
    "    n = len(lst[-1])\n",
    "    for i in range(1, n):\n",
    "        new_lst = lst[:-1] + [lst[-1][:i], lst[-1][i:]]\n",
    "        dfs(rst, new_lst)\n",
    "\n",
    "string = 'abcd'\n",
    "split(string)"
   ]
  },
  {
   "cell_type": "code",
   "execution_count": 9,
   "metadata": {},
   "outputs": [
    {
     "data": {
      "text/plain": [
       "[['abcd'],\n",
       " ['a', 'bcd'],\n",
       " ['a', 'b', 'cd'],\n",
       " ['a', 'b', 'c', 'd'],\n",
       " ['a', 'bc', 'd'],\n",
       " ['ab', 'cd'],\n",
       " ['ab', 'c', 'd'],\n",
       " ['abc', 'd']]"
      ]
     },
     "execution_count": 9,
     "metadata": {},
     "output_type": "execute_result"
    }
   ],
   "source": [
    "def split(string):\n",
    "    rst = []\n",
    "    lst = [string]\n",
    "    dfs(rst, lst)\n",
    "    return rst\n",
    "\n",
    "def dfs(rst, lst):\n",
    "    # 比如['abcd']\n",
    "    # 切一刀，有['a', 'bcd']，['ab', 'cd'], ['abc', 'd']\n",
    "    # 切两刀，有['a', 'b', 'cd'], ['a', 'bc', 'd']\n",
    "    # 切三刀，有['a', 'b', 'c', 'd']\n",
    "    # 这里切的位置由迭代决定，切的刀数由递归决定\n",
    "    rst.append(lst)\n",
    "    n = len(lst[-1])\n",
    "    for i in range(1, n):\n",
    "        new_lst = lst[:-1] + [lst[-1][:i]] + [lst[-1][i:]]\n",
    "        dfs(rst, new_lst)\n",
    "    \n",
    "    return rst\n",
    "\n",
    "string = 'abcd'\n",
    "split(string)\n",
    "    "
   ]
  },
  {
   "cell_type": "code",
   "execution_count": 327,
   "metadata": {},
   "outputs": [
    {
     "data": {
      "text/plain": [
       "['abc']"
      ]
     },
     "execution_count": 327,
     "metadata": {},
     "output_type": "execute_result"
    }
   ],
   "source": [
    "lst = ['abc', 'def']\n",
    "lst[:-1]"
   ]
  },
  {
   "cell_type": "code",
   "execution_count": 10,
   "metadata": {},
   "outputs": [
    {
     "data": {
      "text/plain": [
       "[1, 2, 3]"
      ]
     },
     "execution_count": 10,
     "metadata": {},
     "output_type": "execute_result"
    }
   ],
   "source": [
    "a = [1,2,3,4]\n",
    "a[:-1]"
   ]
  },
  {
   "cell_type": "markdown",
   "metadata": {},
   "source": [
    "## 4. 树的序列化和反序列化"
   ]
  },
  {
   "cell_type": "code",
   "execution_count": 6,
   "metadata": {},
   "outputs": [
    {
     "name": "stdout",
     "output_type": "stream",
     "text": [
      "[1, 2, 3, None, None, 4, 5]\n"
     ]
    }
   ],
   "source": [
    "class TreeNode(object):\n",
    "    def __init__(self, x):\n",
    "        self.val = x\n",
    "        self.left = None\n",
    "        self.right = None\n",
    "\n",
    "class Codec:\n",
    "\n",
    "    def serialize(self, root):\n",
    "        \"\"\"Encodes a tree to a single string.\n",
    "        \n",
    "        :type root: TreeNode\n",
    "        :rtype: str\n",
    "        \"\"\"\n",
    "        if root == None:\n",
    "            return [None]\n",
    "        rst = []\n",
    "        cur_level = [root]\n",
    "        while len(cur_level) > 0:\n",
    "            next_level = []\n",
    "            is_last_level = True # 要统计是否最后行，如果是最后一行就扫完这行就结束，不然会多一层的None\n",
    "            for node in cur_level:\n",
    "                if node is None:\n",
    "                    rst.append(None)\n",
    "                else:\n",
    "                    rst.append(node.val)\n",
    "                    if node.left != None:\n",
    "                        is_last_level = False\n",
    "                        next_level.append(node.left)\n",
    "                    else:\n",
    "                        next_level.append(None)\n",
    "                    if node.right != None:\n",
    "                        is_last_level = False\n",
    "                        next_level.append(node.right)\n",
    "                    else:\n",
    "                        next_level.append(None)\n",
    "            if is_last_level == True:\n",
    "                cur_level = []\n",
    "            else:\n",
    "                cur_level = next_level\n",
    "            \n",
    "        return rst\n",
    "                \n",
    "        \n",
    "\n",
    "    def deserialize(self, data):\n",
    "        \"\"\"Decodes your encoded data to tree.\n",
    "        \n",
    "        :type data: str\n",
    "        :rtype: TreeNode\n",
    "        \"\"\"\n",
    "        if data[0] == None:\n",
    "            return None\n",
    "\n",
    "        root = TreeNode(data[0])\n",
    "        cur_level = [root]\n",
    "        i = 1\n",
    "        while len(cur_level) > 0:\n",
    "            next_level = []\n",
    "            for node in cur_level:\n",
    "                if i == len(data):\n",
    "                    return root\n",
    "                if data[i] != None:\n",
    "                    node.left = TreeNode(data[i])\n",
    "                    next_level.append(node.left)\n",
    "                else:\n",
    "                    node.left = None\n",
    "                i += 1\n",
    "\n",
    "                if i == len(data):\n",
    "                    return root\n",
    "                if data[i] != None:\n",
    "                    node.right = TreeNode(data[i])\n",
    "                    next_level.append(node.right)\n",
    "                else:\n",
    "                    node.right = None\n",
    "                i += 1\n",
    "\n",
    "            cur_level = next_level\n",
    "            \n",
    "codec = Codec()\n",
    "data = [1,2,3, None, None, 4, 5]\n",
    "root = codec.deserialize(data)\n",
    "rst = codec.serialize(root)\n",
    "print(rst)"
   ]
  },
  {
   "cell_type": "markdown",
   "metadata": {},
   "source": [
    "## 5. 判断是不是旋转数组"
   ]
  },
  {
   "cell_type": "code",
   "execution_count": null,
   "metadata": {
    "collapsed": true
   },
   "outputs": [],
   "source": [
    "#\n",
    "# 旋转字符串\n",
    "# @param A string字符串 \n",
    "# @param B string字符串 \n",
    "# @return bool布尔型\n",
    "#\n",
    "class Solution:\n",
    "    def solve(self , A , B ):\n",
    "        # write code here\n",
    "        if len(A) != len(B):\n",
    "            return False\n",
    "        doubleA = A + A\n",
    "        \n",
    "        for i in range(len(A)):\n",
    "            flag = True\n",
    "            for j in range(len(B)):\n",
    "                if doubleA[i+j] != B[j]:\n",
    "                    flag = False\n",
    "                    break\n",
    "            if flag == True:\n",
    "                return True\n",
    "        return False"
   ]
  },
  {
   "cell_type": "markdown",
   "metadata": {},
   "source": [
    "## 6. 开根号"
   ]
  },
  {
   "cell_type": "code",
   "execution_count": 8,
   "metadata": {},
   "outputs": [
    {
     "data": {
      "text/plain": [
       "0"
      ]
     },
     "execution_count": 8,
     "metadata": {},
     "output_type": "execute_result"
    }
   ],
   "source": [
    "def sqrt(x):\n",
    "#     if x == 0:\n",
    "#         return 0\n",
    "    left, right = 0, x\n",
    "    while left+1 < right:\n",
    "        mid = left + (right-left) // 2\n",
    "        if mid**2 == x:\n",
    "            return mid\n",
    "        elif mid**2 < x:\n",
    "            left = mid\n",
    "        else:\n",
    "            right = mid\n",
    "    \n",
    "    if right**2 <= x: #一定要加上=号\n",
    "        return right\n",
    "    elif left**2 <= x:\n",
    "        return left\n",
    "    else:\n",
    "        return -1\n",
    "    \n",
    "sqrt(0)"
   ]
  },
  {
   "cell_type": "markdown",
   "metadata": {},
   "source": [
    "## 7. 验证数独"
   ]
  },
  {
   "cell_type": "code",
   "execution_count": 17,
   "metadata": {},
   "outputs": [
    {
     "data": {
      "text/plain": [
       "True"
      ]
     },
     "execution_count": 17,
     "metadata": {},
     "output_type": "execute_result"
    }
   ],
   "source": [
    "def solveSudoku(board):\n",
    "        # write code here\n",
    "    if len(board) != 9 or len(board[0]) != 9:\n",
    "        return False\n",
    "    for i in range(len(board)):\n",
    "        row_rst = col_rst = cell_rst = 0\n",
    "        for j in range(len(board[0])):\n",
    "            tmp = board[i][j]\n",
    "            if tmp < 1 or tmp > 9:\n",
    "                return False\n",
    "            if row_rst & (1 << tmp) == 0:\n",
    "                row_rst = row_rst | (1 << tmp)\n",
    "            else:\n",
    "                return False\n",
    "            tmp = board[j][i]\n",
    "            if col_rst & (1 << tmp) == 0:\n",
    "                col_rst = col_rst | (1 << tmp)\n",
    "            else:\n",
    "                return False\n",
    "            tmp = board[j//3+(i//3)*3][j%3+(i//3)*3]\n",
    "            if cell_rst & (1 << tmp) == 0:\n",
    "                cell_rst = cell_rst | (1 << tmp)\n",
    "            else:\n",
    "                return False\n",
    "    return True\n",
    "\n",
    "\n",
    "matrix = [\n",
    "    [5,3,4,6,7,8,9,1,2],\n",
    "    [6,7,2,1,9,5,3,4,8],\n",
    "    [1,9,8,3,4,2,5,6,7],\n",
    "    [8,5,9,7,6,1,4,2,3],\n",
    "    [4,2,6,8,5,3,7,9,1],\n",
    "    [7,1,3,9,2,4,8,5,6],\n",
    "    [9,6,1,5,3,7,2,8,4],\n",
    "    [2,8,7,4,1,9,6,3,5],\n",
    "    [3,4,5,2,8,6,1,7,9]\n",
    "]\n",
    "\n",
    "solveSudoku(matrix)"
   ]
  },
  {
   "cell_type": "markdown",
   "metadata": {},
   "source": [
    "## 8. 有序数组找到num[i]=i的那个。进阶：数组可能有重复值。用二分法做了一下。"
   ]
  },
  {
   "cell_type": "code",
   "execution_count": 20,
   "metadata": {},
   "outputs": [
    {
     "data": {
      "text/plain": [
       "5"
      ]
     },
     "execution_count": 20,
     "metadata": {},
     "output_type": "execute_result"
    }
   ],
   "source": [
    "def search(nums):\n",
    "    if len(nums) == 0:\n",
    "        return -1\n",
    "    l, r = 0, len(nums)-1\n",
    "    while l+1 < r:\n",
    "        mid = l + (r-l)//2\n",
    "        if nums[mid] == mid:\n",
    "            return mid\n",
    "        elif mid > nums[mid]:\n",
    "            l = mid\n",
    "        else:\n",
    "            r = mid\n",
    "    if nums[l] == l:\n",
    "        return l\n",
    "    if nums[r] == r:\n",
    "        return r\n",
    "    return -1\n",
    "\n",
    "nums = [-3,-2,-1,0,1,5,7,8]\n",
    "search(nums)"
   ]
  },
  {
   "cell_type": "code",
   "execution_count": 44,
   "metadata": {},
   "outputs": [
    {
     "name": "stdout",
     "output_type": "stream",
     "text": [
      "++ 15 ++\n",
      "++ 17 ++\n",
      "++ 14 ++\n",
      "13\n",
      "7\n"
     ]
    }
   ],
   "source": [
    "def solve(a):\n",
    "        # write code here\n",
    "    if len(a) < 2:\n",
    "        return -1\n",
    "    l, r = 0, len(a)-1\n",
    "    pre_rst = rst = 0\n",
    "    while l+1 < r:\n",
    "        mid = l + (r-l)//2\n",
    "#         print('--', mid, '--')\n",
    "        if a[mid-1] < a[mid] and a[mid] > a[mid+1]:\n",
    "            l = mid\n",
    "            pre_rst = rst\n",
    "            rst = mid\n",
    "        elif a[mid-1] < a[mid] < a[mid+1]:\n",
    "            l = mid\n",
    "        elif a[mid-1] > a[mid] and a[mid] < a[mid+1]:\n",
    "            l = mid\n",
    "        else:\n",
    "#             print('/*-')\n",
    "            if is_end(a, mid, r):\n",
    "                r = mid\n",
    "            else:\n",
    "                l = mid\n",
    "        \n",
    "    if l > 0 and a[l-1] < a[l] and a[l] > a[l+1]:\n",
    "        return l\n",
    "    elif r < len(a)-1 and a[r-1] < a[r] and a[r] > a[r+1]:\n",
    "        return r\n",
    "    else:\n",
    "        return pre_rst\n",
    "        \n",
    "def is_end(a, l, r):\n",
    "    print('++', l + (r-l)//2, '++')\n",
    "    while l+1 < r:\n",
    "        mid = l + (r-l)//2\n",
    "        if a[mid-1] < a[mid] and a[mid] > a[mid+1]:\n",
    "            return False\n",
    "        elif a[mid-1] < a[mid] < a[mid+1]:\n",
    "            return False\n",
    "        elif a[mid-1] > a[mid] and a[mid] < a[mid+1]:\n",
    "            return False\n",
    "        else:\n",
    "            r = mid\n",
    "    \n",
    "    if l > 0 and a[l-1] < a[l] and a[l] > a[l+1]:\n",
    "        return False\n",
    "    elif r < len(a)-1 and a[r-1] < a[r] and a[r] > a[r+1]:\n",
    "        return False\n",
    "    else:\n",
    "        return True\n",
    "        \n",
    "a = [2,4,1,2,7,8,7,6,5,4,3,2,1,7,6,5,4,3,2,1,0]\n",
    "# print(len(a))\n",
    "print(solve(a))\n",
    "print(a[13])"
   ]
  },
  {
   "cell_type": "markdown",
   "metadata": {},
   "source": [
    "## 9. Trie 前缀树\n",
    "\n",
    "字典树又称为前缀树或者Trie树，是处理字符串常用的数据结构。假设组成所有单词的字符仅是‘a’～‘z’，请实现字典树的结构，并包含以下四个主要的功能。void insert(String word)：添加word，可重复添加；void delete(String word)：删除word，如果word添加过多次，仅删除一次；boolean search(String word)：查询word是否在字典树中出现过(完整的出现过，前缀式不算)；int prefixNumber(String pre)：返回以字符串pre作为前缀的单词数量。现在给定一个m，表示有m次操作，每次操作都为以上四种操作之一。每次操作会给定一个整数op和一个字符串word，op代表一个操作码，如果op为1，则代表添加word，op为2则代表删除word，op为3则代表查询word是否在字典树中，op为4代表返回以word为前缀的单词数量（数据保证不会删除不存在的word）。\n",
    "\n",
    "对于每次操作，如果op为3时，如果word在字典树中，请输出“YES”，否则输出“NO”；如果op为4时，请输出返回以word为前缀的单词数量，其它情况不输出。\n",
    "\n",
    "输入： [[\"1\",\"qwer\"],[\"1\",\"qwe\"],[\"3\",\"qwer\"],[\"4\",\"q\"],[\"2\",\"qwer\"],[\"3\",\"qwer\"],[\"4\",\"q\"]]\n",
    "\n",
    "返回值：[\"YES\",\"2\",\"NO\",\"1\"]"
   ]
  },
  {
   "cell_type": "code",
   "execution_count": null,
   "metadata": {
    "collapsed": true
   },
   "outputs": [],
   "source": [
    "class Solution:\n",
    "    \n",
    "    class Node:\n",
    "        def __init__(self, value=None):\n",
    "            self.is_word = False\n",
    "            self.value = value\n",
    "            self.children = [None] * 26\n",
    "            \n",
    "    def __init__(self):\n",
    "        self.root = Node()\n",
    "        \n",
    "    def insert(self, word):\n",
    "        word = word.lower()\n",
    "        if len(word) > 0:\n",
    "            cur = self.root\n",
    "            for i, c in enumerate(word):\n",
    "                idx = ord(c) - ord('a')\n",
    "                if cur.children[idx] is None:\n",
    "                    node = Node(c)\n",
    "                    cur.children[idx] = node\n",
    "                cur = cur.children[idx]\n",
    "                \n",
    "            cur.is_wold = True\n",
    "                    \n",
    "    def delete(self, word):\n",
    "        if len(word) > 0:\n",
    "            cur = self.root\n",
    "            for i, c in enumerate(word):\n",
    "                idx = ord(c) - ord('a')\n",
    "                if cur.children[idx] is None:\n",
    "                    break\n",
    "                else:\n",
    "                    if i == len(word)-1:\n",
    "                        cur.children[idx] = None\n",
    "                    else:\n",
    "                        cur = cur.children[idx]\n",
    "                    \n",
    "                        \n",
    "            \n",
    "        \n",
    "    \n",
    "    def trieU(self , operators):\n",
    "        "
   ]
  },
  {
   "cell_type": "code",
   "execution_count": 80,
   "metadata": {},
   "outputs": [
    {
     "name": "stdout",
     "output_type": "stream",
     "text": [
      "4\n",
      "Yes\n",
      "Yes\n",
      "Yes\n",
      "No\n",
      "3\n"
     ]
    }
   ],
   "source": [
    "class Trie: \n",
    "    def __init__(self):\n",
    "        self.root = {}\n",
    "        \n",
    "    def insert(self, word):\n",
    "        if len(word) > 0:\n",
    "            cur = self.root\n",
    "            for c in word:\n",
    "                if c not in cur:\n",
    "                    cur[c] = {}\n",
    "                cur = cur[c]\n",
    "            cur['#'] = True\n",
    "    \n",
    "    def delete(self, word):\n",
    "        if len(word) > 0 and self.find(word):\n",
    "            stack = []\n",
    "            cur = self.root\n",
    "            is_end = True\n",
    "            for c in word:\n",
    "                stack.append(cur) # 不要写成append(cur[c])，我们添加的是从root到倒数第二个节点\n",
    "                cur = cur[c]\n",
    "                \n",
    "            if len(cur) > 1: #判断这个单词是不是最后的词，即不是其他单词的前缀\n",
    "                is_end = False\n",
    "                \n",
    "            for i, c in enumerate(word[::-1]):\n",
    "                parent = stack.pop()\n",
    "                if is_end == False: # 注意parent和parent[c]的区别\n",
    "                    parent[c].pop('#')\n",
    "                    break\n",
    "                elif '#' in parent[c] and i == 0: \n",
    "                    parent.pop(c)\n",
    "                elif len(parent[c]) == 0: # 只有当这条路径中只有这个词的时候，才能删掉这个字母\n",
    "                    parent.pop(c)\n",
    "                \n",
    "               \n",
    "            \n",
    "            \n",
    "    def search(self, word):\n",
    "        if self.find(word):\n",
    "            return 'Yes'\n",
    "        else:\n",
    "            return 'No'\n",
    "        \n",
    "    def find(self, word):\n",
    "        if len(word) > 0:\n",
    "            cur = self.root\n",
    "            for c in word:\n",
    "                if c not in cur:\n",
    "                    return False\n",
    "                cur = cur[c]\n",
    "            if '#' in cur:\n",
    "                return True\n",
    "        \n",
    "        return False\n",
    "    \n",
    "    def prefixNumber(self, pre):\n",
    "        cur = self.root\n",
    "        for c in pre:\n",
    "            if c not in cur:\n",
    "                return 0\n",
    "            cur = cur[c]\n",
    "        \n",
    "        return self.countPaths(cur)\n",
    "    \n",
    "    def countPaths(self, cur):     \n",
    "        if len(cur) == 1 and '#' in cur:\n",
    "            return 1\n",
    "        \n",
    "        count = 0\n",
    "        for c in cur:\n",
    "            if c == '#':\n",
    "                count += 1\n",
    "                continue\n",
    "            count += self.countPaths(cur[c]) #不要写成self.countPaths(c), c只是一个key，我们要传的是值\n",
    "            \n",
    "        return count\n",
    "        \n",
    "\n",
    "trie = Trie()\n",
    "trie.insert('ap')\n",
    "trie.insert('app')\n",
    "trie.insert('apd')\n",
    "trie.insert('appb')\n",
    "print(trie.prefixNumber('ap'))\n",
    "trie.delete('appb')\n",
    "print(trie.search('ap'))\n",
    "print(trie.search('app'))\n",
    "print(trie.search('apd'))\n",
    "print(trie.search('appb'))\n",
    "print(trie.prefixNumber('ap'))"
   ]
  },
  {
   "cell_type": "markdown",
   "metadata": {},
   "source": [
    "## 10. 将两个有序的链表合并为一个新链表，要求新的链表是通过拼接两个链表的节点来生成的，且合并后新链表依然有序。\n",
    "https://www.nowcoder.com/practice/a479a3f0c4554867b35356e0d57cf03d?tpId=117&&tqId=682"
   ]
  },
  {
   "cell_type": "code",
   "execution_count": 81,
   "metadata": {
    "collapsed": true
   },
   "outputs": [],
   "source": [
    "class Solution:\n",
    "    def mergeTwoLists(self , l1 , l2 ):\n",
    "        # write code here\n",
    "        cur = dummy = ListNode(0)\n",
    "        \n",
    "        while l1 != None and l2 != None:\n",
    "            if l1.val <= l2.val:\n",
    "                cur.next = l1\n",
    "                cur = cur.next\n",
    "                l1 = l1.next\n",
    "            else:\n",
    "                cur.next = l2\n",
    "                cur = cur.next\n",
    "                l2 = l2.next\n",
    "        if l1 != None:\n",
    "            cur.next = l1\n",
    "        else:\n",
    "            cur.next = l2\n",
    "            \n",
    "        return dummy.next"
   ]
  },
  {
   "cell_type": "markdown",
   "metadata": {},
   "source": [
    "## 11. 给出一个转动过的有序数组，你事先不知道该数组转动了多少\n",
    "(例如,0 1 2 4 5 6 7可能变为4 5 6 7 0 1 2).\n",
    "在数组中搜索给出的目标值，如果能在数组中找到，返回它的索引，否则返回-1。\n",
    "假设数组中不存在重复项。\n",
    "\n",
    "https://www.nowcoder.com/practice/7cd13986c79d4d3a8d928d490db5d707?tpId=117&&tqId=714"
   ]
  },
  {
   "cell_type": "code",
   "execution_count": 82,
   "metadata": {
    "collapsed": true
   },
   "outputs": [],
   "source": [
    "class Solution:\n",
    "    def search(self , A , target ):\n",
    "        # write code here\n",
    "        if not A:\n",
    "            return -1\n",
    "        \n",
    "        n = len(A)\n",
    "        l, r = 0, n-1\n",
    "        while l+1 < r:\n",
    "            mid = l + (r-l)//2\n",
    "            if A[mid] > A[l]: # 证明左边是升序的\n",
    "                if A[l] <= target <= A[mid]:\n",
    "                    r = mid\n",
    "                else:\n",
    "                    l = mid\n",
    "            else: # 否则，右边是升序的\n",
    "                if A[mid] <= target <= A[r]:\n",
    "                    l = mid\n",
    "                else:\n",
    "                    r = mid\n",
    "        \n",
    "        if A[l] == target:\n",
    "            return l\n",
    "        elif A[r] == target:\n",
    "            return r\n",
    "        else:\n",
    "            return -1"
   ]
  },
  {
   "cell_type": "markdown",
   "metadata": {},
   "source": [
    "## 12. 写了一道题，大概意思就是给定一个字符串'aaabbbccc{{a}b{c}}'然后可替换的部分'a: [d, e], c: [f], dbf: [x], ebf: [y]'最后返回所有可能生成的字符串。\n",
    "链接：https://www.nowcoder.com/discuss/571275?type=2&order=3&pos=7&page=1&channel=-1&source_id=discuss_tag_nctrack"
   ]
  },
  {
   "cell_type": "code",
   "execution_count": 85,
   "metadata": {},
   "outputs": [
    {
     "data": {
      "text/plain": [
       "['abc', 'xbc', 'ybc', 'abz', 'xbz', 'ybz']"
      ]
     },
     "execution_count": 85,
     "metadata": {},
     "output_type": "execute_result"
    }
   ],
   "source": [
    "def replace(string, dic):\n",
    "    rst = [string]\n",
    "    for i in range(len(string)):\n",
    "        new_level = []\n",
    "        if string[i] in dic:\n",
    "            for c in dic[string[i]]:\n",
    "                for s in rst:\n",
    "                    new_string = s[:i] + c + s[i+1:]\n",
    "                    new_level.append(new_string)\n",
    "        rst += new_level\n",
    "    \n",
    "    return rst\n",
    "\n",
    "string = 'abc'\n",
    "dic = {'a':['x', 'y'], 'c':['z']}\n",
    "\n",
    "replace(string, dic)"
   ]
  },
  {
   "cell_type": "code",
   "execution_count": null,
   "metadata": {
    "collapsed": true
   },
   "outputs": [],
   "source": [
    "# follow up: 多字母替换"
   ]
  },
  {
   "cell_type": "code",
   "execution_count": 90,
   "metadata": {},
   "outputs": [
    {
     "data": {
      "text/plain": [
       "['abcde', 'axde', 'ayde', 'abcze', 'axze', 'ayze']"
      ]
     },
     "execution_count": 90,
     "metadata": {},
     "output_type": "execute_result"
    }
   ],
   "source": [
    "def replace(string, dic):\n",
    "    rst = [string]\n",
    "    for k,v in dic.items():\n",
    "        n = len(k)\n",
    "        new_level = []\n",
    "        for s in rst:\n",
    "            for i in range(len(s)):\n",
    "                if len(s[i:]) < n:\n",
    "                    break\n",
    "                if k == s[i:i+n]:\n",
    "                    new_string = [s[:i] + v[j] + s[i+n:] for j in range(len(v))]\n",
    "                    new_level += new_string\n",
    "        rst += new_level\n",
    "    return rst\n",
    "\n",
    "string = 'abcde'\n",
    "dic = {'bc':['x', 'y'], 'd':['z']}\n",
    "replace(string, dic)"
   ]
  },
  {
   "cell_type": "code",
   "execution_count": 83,
   "metadata": {},
   "outputs": [
    {
     "data": {
      "text/plain": [
       "['abc', 'xbc', 'xbz', 'ybc', 'ybz', 'abz']"
      ]
     },
     "execution_count": 83,
     "metadata": {},
     "output_type": "execute_result"
    }
   ],
   "source": [
    "def replace(string, dic):\n",
    "    rst = []\n",
    "    lst = string\n",
    "    dfs(rst, lst, dic, 0, string)\n",
    "    return rst\n",
    "\n",
    "def dfs(rst, lst, dic, pos, string):\n",
    "    rst.append(lst)\n",
    "    for i in range(pos, len(string)):\n",
    "        if string[i] in dic:\n",
    "            for c in dic[string[i]]:\n",
    "                tmp = lst[:i] + c + lst[i+1:]\n",
    "                dfs(rst, tmp, dic, i+1, string)\n",
    "\n",
    "string = 'abc'\n",
    "dic = {'a':['x', 'y'], 'c':['z']}\n",
    "\n",
    "replace(string, dic)                "
   ]
  },
  {
   "cell_type": "code",
   "execution_count": 97,
   "metadata": {},
   "outputs": [
    {
     "data": {
      "text/plain": [
       "['abc', 'xbc', 'xbz', 'ybc', 'ybz', 'abz']"
      ]
     },
     "execution_count": 97,
     "metadata": {},
     "output_type": "execute_result"
    }
   ],
   "source": [
    "def replace_dfs(string, dic):\n",
    "    rst = [string]\n",
    "    \n",
    "    for i in range(len(string)):\n",
    "        if string[i] in dic:\n",
    "            dfs(rst, string, i, dic)\n",
    "            \n",
    "    return rst\n",
    "\n",
    "def dfs(rst, string, idx, dic):\n",
    "    for v in dic[string[idx]]:\n",
    "        new_string = string[:idx] + v + string[idx+1:]\n",
    "        rst.append(new_string)\n",
    "        for i in range(idx+1, len(string)):\n",
    "            if string[i] in dic:\n",
    "                dfs(rst, new_string, i, dic)\n",
    "    \n",
    "string = 'abc'\n",
    "dic = {'a':['x', 'y'], 'c':['z']}\n",
    "\n",
    "replace_dfs(string, dic)        "
   ]
  },
  {
   "cell_type": "markdown",
   "metadata": {},
   "source": [
    "## 13. 堆排序"
   ]
  },
  {
   "cell_type": "code",
   "execution_count": 121,
   "metadata": {},
   "outputs": [
    {
     "data": {
      "text/plain": [
       "[1, 2, 3, 4, 5]"
      ]
     },
     "execution_count": 121,
     "metadata": {},
     "output_type": "execute_result"
    }
   ],
   "source": [
    "def heapSort(nums):\n",
    "    n = len(nums)\n",
    "    \n",
    "    # 构造最大堆\n",
    "    for i in range(n-1, -1, -1):\n",
    "        heapify(nums, n, i)\n",
    "        \n",
    "    for i in range(n-1, 0, -1):\n",
    "        nums[i], nums[0] = nums[0], nums[i]\n",
    "        heapify(nums, i, 0) #只需要对堆顶做heapify,因为堆顶下面已经满足了最大堆\n",
    "    \n",
    "    return nums\n",
    "\n",
    "def heapify(nums, n, pos):\n",
    "    largest = pos\n",
    "    \n",
    "    l = 2*pos + 1\n",
    "    r = 2*pos + 2\n",
    "    \n",
    "    if l < n and nums[l] > nums[largest]:\n",
    "        largest = l\n",
    "    if r < n and nums[r] > nums[largest]:\n",
    "        largest = r\n",
    "        \n",
    "    if pos != largest:\n",
    "        nums[pos], nums[largest] = nums[largest], nums[pos]\n",
    "        heapify(nums, n, largest)\n",
    "        \n",
    "nums = [4,3,2,5,1]\n",
    "heapSort(nums)"
   ]
  },
  {
   "cell_type": "code",
   "execution_count": 6,
   "metadata": {},
   "outputs": [
    {
     "data": {
      "text/plain": [
       "[1, 2, 3, 4, 5]"
      ]
     },
     "execution_count": 6,
     "metadata": {},
     "output_type": "execute_result"
    }
   ],
   "source": [
    "def heapSort(nums):\n",
    "    if len(nums) <= 1:\n",
    "        return []\n",
    "    \n",
    "    n = len(nums)\n",
    "    for i in range(len(nums)-1, -1, -1):\n",
    "        heapify(nums, n, i)\n",
    "        \n",
    "    for i in range(len(nums)-1, -1, -1):\n",
    "        nums[0], nums[i] = nums[i], nums[0]\n",
    "        heapify(nums, i, 0)\n",
    "        \n",
    "    return nums\n",
    "\n",
    "def heapify(nums, n, pos):\n",
    "    largest = pos\n",
    "    \n",
    "    left = 2 * pos + 1\n",
    "    right = 2 * pos + 2\n",
    "    \n",
    "    if left < n and nums[left] > nums[largest]:\n",
    "        largest = left\n",
    "    if right < n and nums[right] > nums[largest]:\n",
    "        largest = right\n",
    "        \n",
    "    if pos != largest:\n",
    "        nums[pos], nums[largest] = nums[largest], nums[pos]\n",
    "        heapify(nums, n, largest)\n",
    "        \n",
    "nums = [4,3,2,5,1]\n",
    "heapSort(nums)"
   ]
  },
  {
   "cell_type": "code",
   "execution_count": 109,
   "metadata": {},
   "outputs": [
    {
     "data": {
      "text/plain": [
       "[5, 4, 3, 2, 1]"
      ]
     },
     "execution_count": 109,
     "metadata": {},
     "output_type": "execute_result"
    }
   ],
   "source": [
    "[i for i in range(5, 0, -1)]"
   ]
  },
  {
   "cell_type": "markdown",
   "metadata": {},
   "source": [
    "## 14. 快速排序"
   ]
  },
  {
   "cell_type": "code",
   "execution_count": 104,
   "metadata": {},
   "outputs": [
    {
     "data": {
      "text/plain": [
       "[1, 2, 3, 4, 5]"
      ]
     },
     "execution_count": 104,
     "metadata": {},
     "output_type": "execute_result"
    }
   ],
   "source": [
    "def quickSort(nums, start, end):\n",
    "    if not nums:\n",
    "        return nums\n",
    "    if start >= end:\n",
    "        return nums\n",
    "    \n",
    "    p = partition(nums, start, end)\n",
    "    if p > start:\n",
    "        quickSort(nums, start, p-1)\n",
    "    if p < end:\n",
    "        quickSort(nums, p+1, end)\n",
    "    \n",
    "    return nums\n",
    "\n",
    "def partition(nums, start, end):\n",
    "    pivot = nums[start]\n",
    "    l, r = start, end\n",
    "    while l < r:\n",
    "        while l < r and nums[r] > pivot:\n",
    "            r -= 1\n",
    "        nums[l] = nums[r]\n",
    "        \n",
    "        while l < r and nums[l] < pivot:\n",
    "            l += 1\n",
    "        nums[r] = nums[l]\n",
    "        \n",
    "    nums[l] = pivot\n",
    "    return l\n",
    "\n",
    "nums = [4,3,2,5,1]\n",
    "quickSort(nums, 0, len(nums)-1)"
   ]
  },
  {
   "cell_type": "code",
   "execution_count": 4,
   "metadata": {},
   "outputs": [
    {
     "name": "stdout",
     "output_type": "stream",
     "text": [
      "2 4 6 8 1 3 5 7 9 \n",
      "1 2 3 4 5 6 7 8 9 "
     ]
    }
   ],
   "source": [
    "# LinkList版\n",
    "# 定义两个指针p1,p2，开始的时候都指向head.next\n",
    "# 我们要保证的就是p1左边都是比pivot小的值，[p1,p2]之间是大于pivot的值\n",
    "# 所以，当遇到 v>pivot 的时候，p2前进\n",
    "# 当遇到 v<pivot 的时候，p1,p2交换值并同时前进\n",
    "# 最后将p1的前一个和pivot互换\n",
    "# 同时也要记录谁是循环的结束点（不可抵达），就是tail\n",
    "class Node:\n",
    "    def __init__ (self, value = None, next = None):\n",
    "        self.value = value\n",
    "        self.next = next\n",
    "\n",
    "def quickSort(head): \n",
    "    if head is None or head.next is None:\n",
    "        return head\n",
    "    \n",
    "#     tail = head\n",
    "#     while tail.next:\n",
    "#         tail = tail.next\n",
    "    subSort(head, None)\n",
    "    \n",
    "    return head\n",
    "\n",
    "def subSort(head, tail):\n",
    "    if head is None or head.next is None or head == tail:\n",
    "        return head\n",
    "    \n",
    "    p1 = p2 = head.next\n",
    "    p1_pre = head\n",
    "    pivot = head\n",
    "    while p2 != tail:\n",
    "        if p2.value < pivot.value:\n",
    "            swap(p1, p2)\n",
    "            p1_pre = p1\n",
    "            p1 = p1.next\n",
    "        p2 = p2.next\n",
    "    swap(p1_pre, pivot)\n",
    "    subSort(head, p1_pre)\n",
    "    subSort(p1, tail)\n",
    "    return head\n",
    "\n",
    "def swap(p1, p2):\n",
    "    p1.value, p2.value = p2.value, p1.value\n",
    "    \n",
    "\n",
    "nums = [2,4,6,8,1,3,5,7,9]\n",
    "dummy = Node(0)\n",
    "cur = dummy\n",
    "for num in nums:\n",
    "    node = Node(num)\n",
    "    cur.next = node\n",
    "    cur = cur.next\n",
    "cur = dummy.next\n",
    "while cur != None:\n",
    "    print(cur.value, end=' ')\n",
    "    cur = cur.next\n",
    "print()\n",
    "head = quickSort(dummy.next)\n",
    "cur = head\n",
    "while cur != None:\n",
    "    print(cur.value, end=' ')\n",
    "    cur = cur.next          \n",
    "    \n",
    "    "
   ]
  },
  {
   "cell_type": "markdown",
   "metadata": {},
   "source": [
    "## 15. 归并排序"
   ]
  },
  {
   "cell_type": "code",
   "execution_count": 106,
   "metadata": {},
   "outputs": [
    {
     "data": {
      "text/plain": [
       "[1, 2, 3, 4, 5]"
      ]
     },
     "execution_count": 106,
     "metadata": {},
     "output_type": "execute_result"
    }
   ],
   "source": [
    "def mergeSort(nums):\n",
    "    if len(nums) <= 1:\n",
    "        return nums\n",
    "    \n",
    "    mid = len(nums) // 2\n",
    "    left = mergeSort(nums[:mid])\n",
    "    right = mergeSort(nums[mid:])\n",
    "    \n",
    "    return merge(left, right)\n",
    "\n",
    "def merge(left, right):\n",
    "    l = r = 0\n",
    "    rst = []\n",
    "    \n",
    "    while l < len(left) and r < len(right):\n",
    "        if left[l] < right[r]:\n",
    "            rst.append(left[l])\n",
    "            l += 1\n",
    "        else:\n",
    "            rst.append(right[r])\n",
    "            r += 1\n",
    "            \n",
    "    if l < len(left):\n",
    "        rst += left[l:]\n",
    "    elif r < len(right):\n",
    "        rst += right[r:]\n",
    "        \n",
    "    return rst\n",
    "\n",
    "nums = [4,3,2,5,1]\n",
    "mergeSort(nums)"
   ]
  },
  {
   "cell_type": "code",
   "execution_count": 75,
   "metadata": {},
   "outputs": [
    {
     "name": "stdout",
     "output_type": "stream",
     "text": [
      "2 4 6 8 1 3 5 7 9 \n",
      "1 2 3 4 5 6 7 8 9 "
     ]
    }
   ],
   "source": [
    "# LinkList 版\n",
    "class Node:\n",
    "    def __init__ (self, value = None, next = None):\n",
    "        self.value = value\n",
    "        self.next = next\n",
    "\n",
    "def mergeSort(head):\n",
    "    if head is None or head.next is None: # head.next is None这句不能遗漏，这保证了只有一个值得时候正确的返回\n",
    "        return head\n",
    "    \n",
    "    mid = findMid(head)\n",
    "    nxt = mid.next\n",
    "    mid.next = None\n",
    "    left = mergeSort(head)\n",
    "    right = mergeSort(nxt)\n",
    "    \n",
    "    return merge(left, right)\n",
    "\n",
    "def merge(head1, head2):\n",
    "    p1 = head1\n",
    "    p2 = head2\n",
    "    dummy = Node(0)\n",
    "    cur = dummy\n",
    "    \n",
    "    while p1 is not None and p2 is not None:\n",
    "        if p1.value < p2.value:\n",
    "            cur.next = p1\n",
    "            cur = cur.next\n",
    "            p1 = p1.next\n",
    "        else:\n",
    "            cur.next = p2\n",
    "            cur = cur.next\n",
    "            p2 = p2.next\n",
    "    \n",
    "    if p1 is not None:\n",
    "        cur.next = p1\n",
    "    if p2 is not None:\n",
    "        cur.next = p2\n",
    "        \n",
    "    return dummy.next\n",
    "\n",
    "def findMid(head):\n",
    "    dummy = Node(0)\n",
    "    dummy.next = head\n",
    "    slow = fast = dummy\n",
    "    \n",
    "    while fast != None and fast.next != None:\n",
    "        slow = slow.next\n",
    "        fast = fast.next.next\n",
    "        \n",
    "    return slow\n",
    "\n",
    "nums = [2,4,6,8,1,3,5,7,9]\n",
    "dummy = Node(0)\n",
    "cur = dummy\n",
    "for num in nums:\n",
    "    node = Node(num)\n",
    "    cur.next = node\n",
    "    cur = cur.next\n",
    "cur = dummy.next\n",
    "while cur != None:\n",
    "    print(cur.value, end=' ')\n",
    "    cur = cur.next\n",
    "print()\n",
    "head = mergeSort(dummy.next)\n",
    "cur = head\n",
    "while cur != None:\n",
    "    print(cur.value, end=' ')\n",
    "    cur = cur.next"
   ]
  },
  {
   "cell_type": "markdown",
   "metadata": {},
   "source": [
    "## 16. Iterative Inorder Traversal\n",
    "\n",
    "Implment BST Inorder traversal method, iteratively."
   ]
  },
  {
   "cell_type": "code",
   "execution_count": 66,
   "metadata": {},
   "outputs": [
    {
     "name": "stdout",
     "output_type": "stream",
     "text": [
      "[ 1 ] [ 2 ] [ 3 ] [ 4 ] [ 5 ] [ 6 ] [ 7 ] [ 8 ] [ 9 ] [ 10 ] [ 11 ] [ 12 ] [ 13 ] \n",
      "[1, 2, 3, 4, 5, 6, 7, 8, 9, 10, 11, 12, 13]\n"
     ]
    }
   ],
   "source": [
    "def printInorderIterative(bst):\n",
    "    if bst._root == None:\n",
    "        return None\n",
    "    \n",
    "    stack = [bst._root]\n",
    "    print_lst = []\n",
    "    cur = bst._root\n",
    "    while len(stack) > 0:\n",
    "        while cur._left is not None:\n",
    "            stack.append(cur._left)\n",
    "            cur = cur._left\n",
    "        cur = stack.pop()\n",
    "        print_lst.append(cur._item)\n",
    "        if cur._right != None:\n",
    "            stack.append(cur._right)\n",
    "            cur = cur._right\n",
    "    \n",
    "    \n",
    "    return print_lst\n",
    "\n",
    "bst = BinarySearchTree()\n",
    "numbers = [6, 4, 8, 7, 9, 2, 1, 3, 5, 13, 11, 10, 12]\n",
    "for i in numbers:\n",
    "    bst.add(i)\n",
    "bst.print_inorder()\n",
    "print(printInorderIterative(bst))"
   ]
  },
  {
   "cell_type": "markdown",
   "metadata": {},
   "source": [
    "## 17. Iterative Preorder Traversal\n",
    "\n",
    "Implment BST Preorder traversal method, iteratively."
   ]
  },
  {
   "cell_type": "code",
   "execution_count": 63,
   "metadata": {},
   "outputs": [
    {
     "name": "stdout",
     "output_type": "stream",
     "text": [
      "[ 1 ] [ 2 ] [ 3 ] [ 4 ] [ 5 ] [ 6 ] [ 7 ] [ 8 ] [ 9 ] [ 10 ] [ 11 ] [ 12 ] [ 13 ] \n",
      "[6, 4, 2, 1, 3, 5, 8, 7, 9, 13, 11, 10, 12]\n"
     ]
    }
   ],
   "source": [
    "from BinarySearchTree import BinarySearchTree\n",
    "from BinarySearchTree import Node\n",
    "\n",
    "def printPreorderIterative(bst):\n",
    "    if bst._root == None:\n",
    "        return None\n",
    "    \n",
    "    stack = [bst._root]\n",
    "    print_lst = []\n",
    "    while stack:\n",
    "        node = stack.pop()\n",
    "        if node != None:\n",
    "            print_lst.append(node._item)\n",
    "            if node._right != None:\n",
    "                stack.append(node._right)\n",
    "            if node._left != None:\n",
    "                stack.append(node._left)\n",
    "            \n",
    "    return print_lst\n",
    "\n",
    "bst = BinarySearchTree()\n",
    "numbers = [6, 4, 8, 7, 9, 2, 1, 3, 5, 13, 11, 10, 12]\n",
    "for i in numbers:\n",
    "    bst.add(i)\n",
    "\n",
    "bst.print_inorder()\n",
    "print(printPreorderIterative(bst))"
   ]
  },
  {
   "cell_type": "markdown",
   "metadata": {},
   "source": [
    "## 18. Iterative Postorder Traversal\n",
    "\n",
    "Implment BST Postorder traversal method, iteratively."
   ]
  },
  {
   "cell_type": "code",
   "execution_count": 143,
   "metadata": {},
   "outputs": [
    {
     "data": {
      "text/plain": [
       "[1, 3, 2, 5, 4, 7, 10, 12, 11, 10, 12, 11, 13, 9, 8, 6]"
      ]
     },
     "execution_count": 143,
     "metadata": {},
     "output_type": "execute_result"
    }
   ],
   "source": [
    "def printPostorderIterative(bst):\n",
    "    if bst._root == None:\n",
    "        return []\n",
    "    \n",
    "    stack = [(bst._root, False)]\n",
    "    print_lst = []\n",
    "    cur = bst._root\n",
    "    flag = False\n",
    "    \n",
    "    while stack:\n",
    "        while cur._left != None and flag == False: # 一定要加上flag == False，因为当cur被二次pop的时候，仍然能往左和右走\n",
    "            stack.append((cur._left, False))\n",
    "            cur = cur._left\n",
    "        cur, flag = stack.pop()\n",
    "        if flag == True:\n",
    "            print_lst.append(cur._item)\n",
    "        else:\n",
    "            stack.append((cur, True))\n",
    "            if cur._right != None:\n",
    "                stack.append((cur._right, False))\n",
    "                cur = cur._right\n",
    "                \n",
    "    return print_lst\n",
    "\n",
    "printPostorderIterative(bst)\n",
    "        "
   ]
  },
  {
   "cell_type": "markdown",
   "metadata": {},
   "source": [
    "## 19. 找两个树节点的公共祖先"
   ]
  },
  {
   "cell_type": "code",
   "execution_count": 146,
   "metadata": {},
   "outputs": [
    {
     "name": "stdout",
     "output_type": "stream",
     "text": [
      "4\n"
     ]
    }
   ],
   "source": [
    "def commonParent(node, node1, node2):\n",
    "    if node == None:\n",
    "        return None\n",
    "    if node1._item < node._item < node2._item:\n",
    "        return node\n",
    "    elif node1._item > node._item and node2._item > node._item:\n",
    "        return commonParent(node._right, node1, node2)\n",
    "    else:\n",
    "        return commonParent(node._left, node1, node2)\n",
    "\n",
    "node1 = Node(1)\n",
    "node2 = Node(5)\n",
    "node = commonParent(bst._root, node1, node2)\n",
    "print(node._item)"
   ]
  },
  {
   "cell_type": "markdown",
   "metadata": {},
   "source": [
    "## 20. M进制转N进制\n",
    "\n",
    "给定一个十进制数M，以及需要转换的进制数N。将十进制数M转化为N进制数"
   ]
  },
  {
   "cell_type": "code",
   "execution_count": 152,
   "metadata": {},
   "outputs": [
    {
     "data": {
      "text/plain": [
       "'E'"
      ]
     },
     "execution_count": 152,
     "metadata": {},
     "output_type": "execute_result"
    }
   ],
   "source": [
    "def transfer(d, n):\n",
    "    if n<2 or n>16:\n",
    "        return 'False'\n",
    "    if d == 0:\n",
    "        return 0\n",
    "    flag = 1\n",
    "    if d < 0:\n",
    "        flag = -1\n",
    "        d = -d\n",
    "    \n",
    "    rst = ''\n",
    "    while d > 0:\n",
    "        if n < 10:\n",
    "            rst = str(d%n) + rst\n",
    "        else:\n",
    "            if d%n > 9:\n",
    "                rst = chr(ord('A')+(d%n-9)) + rst\n",
    "            else:\n",
    "                rst = str(d%n) + rst\n",
    "        d = d//n\n",
    "        \n",
    "    return rst if flag ==1 else '-' + rst\n",
    "\n",
    "\n",
    "transfer(13, 16)        "
   ]
  },
  {
   "cell_type": "markdown",
   "metadata": {},
   "source": [
    "## 21. 合并二叉树\n",
    "\n",
    "已知两颗二叉树，将它们合并成一颗二叉树。合并规则是：都存在的结点，就将结点值加起来，否则空的位置就由另一个树的结点来代替。"
   ]
  },
  {
   "cell_type": "code",
   "execution_count": 59,
   "metadata": {},
   "outputs": [
    {
     "name": "stdout",
     "output_type": "stream",
     "text": [
      "[1, 3, 2, 5, None, None, None]\n",
      "[2, 1, 3, None, 4, None, 7]\n",
      "[3, 4, 5, 5, 4, None, 7]\n"
     ]
    }
   ],
   "source": [
    "# 序列化和反序列化法\n",
    "\n",
    "class Solution:\n",
    "    def iterate(self, node):\n",
    "        level = [node]\n",
    "        rst = []\n",
    "        \n",
    "        while level:\n",
    "            is_last_level = True\n",
    "            nxt_level = []\n",
    "            for node in level:\n",
    "                if node is not None:\n",
    "                    rst.append(node.val)\n",
    "                    if node.left != None or node.right != None:\n",
    "                        is_last_level = False\n",
    "                    nxt_level.append(node.left)\n",
    "                    nxt_level.append(node.right)\n",
    "                else:\n",
    "                    rst.append(None)\n",
    "            \n",
    "            level = [] if is_last_level else nxt_level\n",
    "        return rst\n",
    "    \n",
    "    def construct(self, data):\n",
    "        if data[0] == None:\n",
    "            return TreeNode(0)\n",
    "        \n",
    "        root = TreeNode(data[0])\n",
    "        level = [root]\n",
    "        n = len(data)\n",
    "        i = 1\n",
    "        \n",
    "        while level:\n",
    "            nxt_level = []\n",
    "            for node in level:\n",
    "                if i == n:\n",
    "                    return root\n",
    "                node.left = (TreeNode(data[i]) if data[i] != None else None) # 要判断data[i]是否为None，否则val会变为None\n",
    "                nxt_level.append(node.left)\n",
    "                i += 1\n",
    "                \n",
    "                if i == n:\n",
    "                    return root\n",
    "                node.right = (TreeNode(data[i]) if data[i] != None else None)\n",
    "                nxt_level.append(node.right)\n",
    "                i += 1\n",
    "            level = nxt_level\n",
    "        return root\n",
    "    \n",
    "    def mergeTrees(self , t1 , t2):\n",
    "        # write code here\n",
    "        lst1 = self.iterate(t1)\n",
    "        lst2 = self.iterate(t2)\n",
    "        rst = []\n",
    "        p1 = p2 = 0\n",
    "        while p1 < len(lst1) and p2 < len(lst2):\n",
    "            if lst1[p1] != None and lst2[p2] != None:\n",
    "                rst.append(lst1[p1]+lst2[p2])\n",
    "            elif lst1[p1] == None and lst2[p2] != None:\n",
    "                rst.append(lst2[p2])\n",
    "            elif lst1[p1] != None and lst2[p2] == None:\n",
    "                rst.append(lst1[p1])\n",
    "            else:\n",
    "                rst.append(None)\n",
    "            p1 += 1\n",
    "            p2 += 1\n",
    "        \n",
    "        if p1 < len(lst1):\n",
    "            rst += lst1[p1:]\n",
    "        if p2 < len(lst2):\n",
    "            rst += lst2[p2:]\n",
    "                \n",
    "        return self.construct(rst)\n",
    "    \n",
    "s = Solution()\n",
    "t1 = s.construct([1,3,2,5])\n",
    "t2 = s.construct([2,1,3,None,4,None,7])\n",
    "d1 = s.iterate(t1)\n",
    "print(d1)\n",
    "d2 = s.iterate(t2)\n",
    "print(d2)\n",
    "root = s.mergeTrees(t1, t2)\n",
    "print(s.iterate(root))"
   ]
  },
  {
   "cell_type": "code",
   "execution_count": 244,
   "metadata": {},
   "outputs": [
    {
     "name": "stdout",
     "output_type": "stream",
     "text": [
      "1 2\n",
      "3 1\n",
      "5 0\n",
      "0 4\n",
      "2 3\n",
      "0 7\n",
      "[3, 4, 5, 5, 4, None, 7]\n"
     ]
    }
   ],
   "source": [
    "## 递归法\n",
    "class TreeNode(object):\n",
    "    def __init__(self, x):\n",
    "        self.val = x\n",
    "        self.left = None\n",
    "        self.right = None\n",
    "\n",
    "def mergeTree(t1, t2):\n",
    "    if t1 == None and t2 == None:\n",
    "        return None\n",
    "    print((t1.val if t1 != None else 0), (t2.val if t2 != None else 0))\n",
    "    node = TreeNode((t1.val if t1 != None else 0) + (t2.val if t2 != None else 0))\n",
    "    node.left = mergeTree((t1.left if t1 != None else None), (t2.left if t2 != None else None))\n",
    "    node.right = mergeTree((t1.right if t1 != None else None), (t2.right if t2 != None else None))\n",
    "    \n",
    "    return node\n",
    "\n",
    "s = Solution()\n",
    "t1 = s.construct([1,3,2,5])\n",
    "t2 = s.construct([2,1,3,None,4,None,7])\n",
    "root = mergeTree(t1, t2)\n",
    "print(s.iterate(root))"
   ]
  },
  {
   "cell_type": "code",
   "execution_count": 245,
   "metadata": {},
   "outputs": [
    {
     "name": "stdout",
     "output_type": "stream",
     "text": [
      "[3, 4, 5, 5, 4, None, 7]\n"
     ]
    }
   ],
   "source": [
    "# 层序遍历版\n",
    "def mergeTree(t1, t2):\n",
    "    if t1 == None:\n",
    "        return t2\n",
    "    if t2 == None:\n",
    "        return t1\n",
    "    \n",
    "    level = [t1, t2]\n",
    "    while level:\n",
    "        n1 = level.pop(0)\n",
    "        n2 = level.pop(0)\n",
    "        n1.val = n1.val + n2.val\n",
    "        if n1.left != None and n2.left != None:\n",
    "            level.append(n1.left)\n",
    "            level.append(n2.left)\n",
    "        elif n1.left == None:\n",
    "            n1.left = n2.left\n",
    "        if n1.right != None and n2.right != None:\n",
    "            level.append(n1.right)\n",
    "            level.append(n2.right)\n",
    "        elif n1.right == None:\n",
    "            n1.right = n2.right\n",
    "            \n",
    "    return t1\n",
    "\n",
    "s = Solution()\n",
    "t1 = s.construct([1,3,2,5])\n",
    "t2 = s.construct([2,1,3,None,4,None,7])\n",
    "root = mergeTree(t1, t2)\n",
    "print(s.iterate(root))\n",
    "    "
   ]
  },
  {
   "cell_type": "code",
   "execution_count": 240,
   "metadata": {},
   "outputs": [
    {
     "data": {
      "text/plain": [
       "3"
      ]
     },
     "execution_count": 240,
     "metadata": {},
     "output_type": "execute_result"
    }
   ],
   "source": [
    "a = 1\n",
    "b = None\n",
    "(1 if a == 1 else 0) + (2 if b == None else 0)"
   ]
  },
  {
   "cell_type": "markdown",
   "metadata": {},
   "source": [
    "# 22. top k"
   ]
  },
  {
   "cell_type": "code",
   "execution_count": 56,
   "metadata": {},
   "outputs": [
    {
     "name": "stdout",
     "output_type": "stream",
     "text": [
      "5\n",
      "4\n",
      "0\n",
      "3\n",
      "1\n",
      "2\n"
     ]
    },
    {
     "data": {
      "text/plain": [
       "3"
      ]
     },
     "execution_count": 56,
     "metadata": {},
     "output_type": "execute_result"
    }
   ],
   "source": [
    "def topK(nums, k, l, r):\n",
    "    if not nums:\n",
    "        return -1\n",
    "    if k > len(nums):\n",
    "        return -1\n",
    "    \n",
    "    idx = partition(nums, l, r)\n",
    "    print(idx)\n",
    "    if idx < k-1:\n",
    "        return topK(nums, k, idx+1, r) # 这里k的位置不要写成k-idx-1了，因为我们的idx一直都是全局的，不像下面的拷贝型写法\n",
    "    elif idx == k-1:\n",
    "        return nums[idx]\n",
    "    else:\n",
    "        return topK(nums, k, l, idx)\n",
    "    \n",
    "def partition(nums, l, r):\n",
    "    pivot = nums[l]\n",
    "    while l < r:\n",
    "        while l < r and nums[r] > pivot:\n",
    "            r -= 1\n",
    "        nums[l] = nums[r]\n",
    "        while l < r and nums[l] < pivot:\n",
    "            l += 1\n",
    "        nums[r] = nums[l]\n",
    "        \n",
    "    nums[l] = pivot # 这句别忘了\n",
    "    return l\n",
    "\n",
    "nums = [6,4,3,2,1,5,7]\n",
    "topK(nums, 3, 0, len(nums)-1)"
   ]
  },
  {
   "cell_type": "code",
   "execution_count": 51,
   "metadata": {},
   "outputs": [
    {
     "data": {
      "text/plain": [
       "5"
      ]
     },
     "execution_count": 51,
     "metadata": {},
     "output_type": "execute_result"
    }
   ],
   "source": [
    "def topK(nums, k):\n",
    "    if k >= len(nums) or k < 0:\n",
    "        return -1\n",
    "    if not nums:\n",
    "        return -1\n",
    "    if len(nums) == 1:\n",
    "        return nums[0]\n",
    "    \n",
    "    idx = partition(nums)\n",
    "    if k == idx:\n",
    "        return nums[idx]\n",
    "    elif k < idx:\n",
    "        return topK(nums[:idx], k)\n",
    "    else:\n",
    "        return topK(nums[idx+1:], k-idx-1)\n",
    "    \n",
    "def partition(nums):\n",
    "    pivot = nums[0]\n",
    "    left, right = 0, len(nums) - 1\n",
    "    while left < right:\n",
    "        while left < right and nums[right] > pivot:\n",
    "            right -= 1\n",
    "        nums[left] = nums[right]\n",
    "        while left < right and nums[left] < pivot:\n",
    "            left += 1\n",
    "        nums[right] = nums[left]\n",
    "        \n",
    "    nums[left] = pivot\n",
    "    \n",
    "    return left\n",
    "\n",
    "nums = [1,2,3,4,5,6,7]\n",
    "topK(nums, 4)\n",
    "    "
   ]
  },
  {
   "cell_type": "markdown",
   "metadata": {},
   "source": [
    "## 23. 逆序对"
   ]
  },
  {
   "cell_type": "code",
   "execution_count": null,
   "metadata": {
    "collapsed": true
   },
   "outputs": [],
   "source": [
    "# Time: nlogn\n",
    "# space: nlogn\n",
    "class Solution(object):\n",
    "    def reversePairs(self, nums):\n",
    "        \"\"\"\n",
    "        :type nums: List[int]\n",
    "        :rtype: int\n",
    "        \"\"\"\n",
    "        if not nums:\n",
    "            return 0\n",
    "        \n",
    "        if len(nums) == 1:\n",
    "            return 0\n",
    "        count, new_nums = self.countPairs(nums)\n",
    "        return count\n",
    "\n",
    "    def countPairs(self, nums):\n",
    "        if len(nums) <= 1:\n",
    "            return 0, nums\n",
    "        \n",
    "        mid = len(nums) // 2\n",
    "        countL, numsL = self.countPairs(nums[:mid])\n",
    "        countR, numsR = self.countPairs(nums[mid:])\n",
    "        count, new_nums = self.merge(numsL, numsR)\n",
    "\n",
    "        return countL + count + countR, new_nums\n",
    "\n",
    "    def merge(self, numsL, numsR):\n",
    "        count = 0\n",
    "        l = r = 0\n",
    "        new_nums = []\n",
    "\n",
    "        while l < len(numsL) and r < len(numsR):\n",
    "            if numsL[l] > numsR[r]:\n",
    "                count += len(numsL) - l\n",
    "                new_nums.append(numsR[r])\n",
    "                r += 1\n",
    "            else:\n",
    "                new_nums.append(numsL[l])\n",
    "                l += 1\n",
    "        \n",
    "        if l < len(numsL):\n",
    "            new_nums += numsL[l:]\n",
    "        if r < len(numsR):\n",
    "            new_nums += numsR[r:]\n",
    "\n",
    "        return count, new_nums"
   ]
  },
  {
   "cell_type": "code",
   "execution_count": null,
   "metadata": {
    "collapsed": true
   },
   "outputs": [],
   "source": [
    "# time: nlogn\n",
    "# space: n\n",
    "class Solution(object):\n",
    "    def reversePairs(self, nums):\n",
    "        \"\"\"\n",
    "        :type nums: List[int]\n",
    "        :rtype: int\n",
    "        \"\"\"\n",
    "        if not nums:\n",
    "            return 0\n",
    "        \n",
    "        if len(nums) == 1:\n",
    "            return 0\n",
    "        \n",
    "        return self.countPairs(nums, 0, len(nums)-1)\n",
    "\n",
    "    def countPairs(self, nums, l, r):\n",
    "        if l == r:\n",
    "            return 0\n",
    "        \n",
    "        mid = l + (r-l)//2\n",
    "        countL = self.countPairs(nums, l, mid)\n",
    "        countR = self.countPairs(nums, mid+1, r)\n",
    "        count = self.merge(nums, l, mid, r)\n",
    "\n",
    "        return countL + count + countR\n",
    "\n",
    "    def merge(self, nums, l, mid, r):\n",
    "        count = 0\n",
    "        p1 = l\n",
    "        p2 = mid+1\n",
    "        new_nums = []\n",
    "        while p1 <= mid and p2 <= r:\n",
    "            if nums[p1] > nums[p2]:\n",
    "                count += mid - p1 + 1\n",
    "                new_nums.append(nums[p2])\n",
    "                p2 += 1\n",
    "            else:\n",
    "                new_nums.append(nums[p1])\n",
    "                p1 += 1\n",
    "        if p1 <= mid:\n",
    "            new_nums += nums[p1:mid+1]\n",
    "        if p2 <= r:\n",
    "            new_nums += nums[p2:r+1]\n",
    "        \n",
    "        for i in range(len(new_nums)):\n",
    "            nums[l+i] = new_nums[i]\n",
    "\n",
    "        return count"
   ]
  },
  {
   "cell_type": "markdown",
   "metadata": {},
   "source": [
    "## 24. 给定正整数n，求小于n的质数的和"
   ]
  },
  {
   "cell_type": "markdown",
   "metadata": {},
   "source": [
    "埃拉托斯特尼筛法，简称埃氏筛或爱氏筛，是一种由希腊数学家埃拉托斯特尼所提出的一种简单检定素数的算法。要得到自然数n以内的全部素数，必须把不大于根号n的所有素数的倍数剔除，剩下的就是素数。\n",
    "\n",
    "https://blog.csdn.net/o83290102o5/article/details/79491834"
   ]
  },
  {
   "cell_type": "code",
   "execution_count": 174,
   "metadata": {},
   "outputs": [
    {
     "name": "stdout",
     "output_type": "stream",
     "text": [
      "[2, 3, 5, 7, 11, 13, 17, 19, 23, 29, 31, 37, 41, 43, 47, 53, 59, 61, 67, 71, 73, 79, 83, 89, 97, 100]\n"
     ]
    },
    {
     "data": {
      "text/plain": [
       "1160"
      ]
     },
     "execution_count": 174,
     "metadata": {},
     "output_type": "execute_result"
    }
   ],
   "source": [
    "# O(nlognlogn)\n",
    "import math\n",
    "def primeSum(n):\n",
    "    arr = [i for i in range(n+1)]\n",
    "    arr[0] = arr[1] = 0\n",
    "    for i in range(2, int(math.sqrt(n))+1): # 记得+1，因为sqrt(n)本身得算上\n",
    "        if arr[i] != 0:\n",
    "            tmp = i * i\n",
    "            while tmp < n:\n",
    "                arr[tmp] = 0\n",
    "                tmp += i\n",
    "    primes = [num for num in arr if num != 0]\n",
    "    print(primes)\n",
    "    return sum(arr)\n",
    "\n",
    "primeSum(100)"
   ]
  },
  {
   "cell_type": "code",
   "execution_count": 172,
   "metadata": {},
   "outputs": [
    {
     "data": {
      "text/plain": [
       "3"
      ]
     },
     "execution_count": 172,
     "metadata": {},
     "output_type": "execute_result"
    }
   ],
   "source": [
    "int(math.sqrt(10))"
   ]
  },
  {
   "cell_type": "markdown",
   "metadata": {},
   "source": [
    "## 25. 大数求和\n",
    "\n",
    "以字符串的形式读入两个数字，编写一个函数计算它们的和，以字符串形式返回。\n",
    "（字符串长度不大于100000，保证字符串仅由'0'~'9'这10种字符组成）"
   ]
  },
  {
   "cell_type": "code",
   "execution_count": 195,
   "metadata": {},
   "outputs": [
    {
     "data": {
      "text/plain": [
       "'1098'"
      ]
     },
     "execution_count": 195,
     "metadata": {},
     "output_type": "execute_result"
    }
   ],
   "source": [
    "class Solution:\n",
    "    def solve(self , s , t ):\n",
    "        # write code here\n",
    "        if not s or not t:\n",
    "            return '-1'\n",
    "        lens = len(s)\n",
    "        lent = len(t)\n",
    "        if lens > lent:\n",
    "            long = s\n",
    "            short = t\n",
    "        else:\n",
    "            long = t\n",
    "            short = s\n",
    "        flag = 0\n",
    "        rst = ''\n",
    "        \n",
    "        for i in range(len(short)):\n",
    "            nums = int(s[lens-1-i])\n",
    "            numt = int(t[lent-1-i])\n",
    "            total = nums + numt + flag # 之前把total写成s，和字符串重名了\n",
    "            if total >= 10:\n",
    "                flag = 1\n",
    "                rst = str(total-10) + rst\n",
    "            else:\n",
    "                flag = 0\n",
    "                rst = str(total) + rst\n",
    "        \n",
    "        for j in range(i+1, len(long)):\n",
    "            num = int(long[len(long)-1-j])\n",
    "            total = num + flag\n",
    "            if total >= 10:\n",
    "                flag = 1\n",
    "                rst = str(total-10) + rst\n",
    "            else:\n",
    "                flag = 0\n",
    "                rst = str(total) + rst\n",
    "        \n",
    "        return rst if flag == 0 else '1' + rst\n",
    "s = Solution()\n",
    "s.solve('999', '99')"
   ]
  },
  {
   "cell_type": "code",
   "execution_count": 201,
   "metadata": {},
   "outputs": [
    {
     "data": {
      "text/plain": [
       "'198'"
      ]
     },
     "execution_count": 201,
     "metadata": {},
     "output_type": "execute_result"
    }
   ],
   "source": [
    "# time: n\n",
    "# space: n\n",
    "class Solution:\n",
    "    def solve(self , s , t ):\n",
    "        # write code here\n",
    "        if not s or not t:\n",
    "            return '-1'\n",
    "        lens = len(s)\n",
    "        lent = len(t)\n",
    "        if lens > lent: # 0填充，将两个子串变成等长\n",
    "            t = '0' * (lens-lent) + t\n",
    "            length = lens\n",
    "        else:\n",
    "            s = '0' * (lent-lens) + s\n",
    "            length = lent\n",
    "        flag = 0 # 进制\n",
    "        rst = ''\n",
    "        \n",
    "        for i in range(length):\n",
    "            nums = int(s[length-1-i])\n",
    "            numt = int(t[length-1-i])\n",
    "            total = nums + numt + flag # 之前把total写成s，和字符串重名了\n",
    "            if total >= 10:\n",
    "                flag = 1\n",
    "                rst = str(total-10) + rst\n",
    "            else:\n",
    "                flag = 0\n",
    "                rst = str(total) + rst\n",
    "                \n",
    "        return rst if flag == 0 else '1' + rst\n",
    "    \n",
    "s = Solution()\n",
    "s.solve('99', '99')"
   ]
  },
  {
   "cell_type": "markdown",
   "metadata": {},
   "source": [
    "## 26. 大数加法，小数版"
   ]
  },
  {
   "cell_type": "code",
   "execution_count": 227,
   "metadata": {},
   "outputs": [
    {
     "data": {
      "text/plain": [
       "'2.89'"
      ]
     },
     "execution_count": 227,
     "metadata": {},
     "output_type": "execute_result"
    }
   ],
   "source": [
    "class Solution:\n",
    "    def solve(self , s , t ):\n",
    "        # write code here\n",
    "        integer1, decimal1 = s.split('.')\n",
    "        integer2, decimal2 = t.split('.')\n",
    "        \n",
    "        if len(integer1) > len(integer2):\n",
    "            integer2 = '0' * abs(len(integer1)-len(integer2)) + integer2\n",
    "        else:\n",
    "            integer1 = '0' * abs(len(integer1)-len(integer2)) + integer1\n",
    "        if len(decimal1) > len(decimal2):\n",
    "            decimal2 += '0' * abs(len(decimal1)-len(decimal2))\n",
    "        else:\n",
    "            decimal1 += '0' * abs(len(decimal1)-len(decimal2))    \n",
    "        \n",
    "        decimal, flag = self.carry(decimal1, decimal2, 0)\n",
    "        integer, flag = self.carry(integer1, integer2, flag)\n",
    "        if flag == 1:\n",
    "            integer = '1' + integer\n",
    "            \n",
    "        return '.'.join([integer, decimal])\n",
    "        \n",
    "    \n",
    "    def carry(self, s1, s2, flag):\n",
    "        length = len(s1)\n",
    "        rst = ''\n",
    "        \n",
    "        for i in range(length):\n",
    "            num1 = int(s1[length-1-i])\n",
    "            num2 = int(s2[length-1-i])\n",
    "            total = num1 + num2 + flag\n",
    "            if total >= 10:\n",
    "                flag = 1\n",
    "                rst = str(total-10) + rst\n",
    "            else:\n",
    "                flag = 0\n",
    "                rst = str(total) + rst\n",
    "        \n",
    "        return rst, flag\n",
    "    \n",
    "s = Solution()\n",
    "s.solve('0.9', '1.99')"
   ]
  },
  {
   "cell_type": "code",
   "execution_count": 226,
   "metadata": {},
   "outputs": [
    {
     "data": {
      "text/plain": [
       "3.8899999999999997"
      ]
     },
     "execution_count": 226,
     "metadata": {},
     "output_type": "execute_result"
    }
   ],
   "source": [
    "1.9+1.99"
   ]
  },
  {
   "cell_type": "markdown",
   "metadata": {},
   "source": [
    "## 27. 中文数字转换为阿拉伯数字"
   ]
  },
  {
   "cell_type": "code",
   "execution_count": 338,
   "metadata": {},
   "outputs": [
    {
     "data": {
      "text/plain": [
       "1050002136"
      ]
     },
     "execution_count": 338,
     "metadata": {},
     "output_type": "execute_result"
    }
   ],
   "source": [
    "# time: n\n",
    "\n",
    "def transfer(chinese):\n",
    "    dic_unit = {'零':0, '十':10, '百':100, '千':1000, '万':10000, '亿':100000000}\n",
    "    dic_num = {'一':1, '二':2, '两':2, '三':3, '四':4, '五':5, '六':6, '七':7, '八':8, '九':9}\n",
    "    unit = 1\n",
    "    total = 0\n",
    "    is_wan = False\n",
    "    \n",
    "    for i in range(len(chinese)-1, -1, -1):\n",
    "        if chinese[i] in dic_unit:\n",
    "            if unit < 10000:\n",
    "                unit = dic_unit[chinese[i]]\n",
    "            elif chinese[i] == '亿':\n",
    "                unit = dic_unit[chinese[i]]\n",
    "            else:\n",
    "                unit = unit * dic_unit[chinese[i]] # 出现十万，百万，千万\n",
    "        elif chinese[i] in dic_num:\n",
    "            num = dic_num[chinese[i]]\n",
    "            total += num * unit\n",
    "    \n",
    "    if chinese[0] == '十': # 十一，十二...此类情况\n",
    "        total += 1 * unit\n",
    "    \n",
    "    return total\n",
    "\n",
    "transfer('十亿五千万两千一百三十六')"
   ]
  },
  {
   "cell_type": "markdown",
   "metadata": {},
   "source": [
    "## 28. 螺旋矩阵"
   ]
  },
  {
   "cell_type": "code",
   "execution_count": 257,
   "metadata": {},
   "outputs": [
    {
     "name": "stdout",
     "output_type": "stream",
     "text": [
      "0 0\n",
      "0 1\n"
     ]
    },
    {
     "data": {
      "text/plain": [
       "[2, 3]"
      ]
     },
     "execution_count": 257,
     "metadata": {},
     "output_type": "execute_result"
    }
   ],
   "source": [
    "# time: mn\n",
    "\n",
    "class Solution:\n",
    "    def spiralOrder(self, matrix):\n",
    "        # write code here\n",
    "        if not matrix:\n",
    "            return []\n",
    "        dir = [(0,1), (1,0), (0,-1), (-1,0)]\n",
    "        visited = set()\n",
    "        d = 0\n",
    "        rst = []\n",
    "        cur = (0,0)\n",
    "        \n",
    "        for i in range(len(matrix)*len(matrix[0])):\n",
    "            rst.append(matrix[cur[0]][cur[1]])\n",
    "            visited.add(cur)\n",
    "            x = cur[0] + dir[d][0]\n",
    "            y = cur[1] + dir[d][1]\n",
    "            if 0 <= x < len(matrix) and 0 <= y < len(matrix[0]) and (x,y) not in visited: #0 <= y < len(matrix[0])记得加上[0]\n",
    "                cur = (x, y)\n",
    "            else:\n",
    "                d = (d+1) % len(dir)\n",
    "                x = cur[0] + dir[d][0]\n",
    "                y = cur[1] + dir[d][1]\n",
    "                cur = (x, y)\n",
    "                \n",
    "        return rst\n",
    "    \n",
    "matrix = [[1,2,3],[4,5,6],[7,8,9]]\n",
    "matrix = [[2,3]]\n",
    "s = Solution()\n",
    "s.spiralOrder(matrix)"
   ]
  },
  {
   "cell_type": "markdown",
   "metadata": {},
   "source": [
    "# 29. HashTable"
   ]
  },
  {
   "cell_type": "code",
   "execution_count": 277,
   "metadata": {},
   "outputs": [
    {
     "name": "stdout",
     "output_type": "stream",
     "text": [
      "a\n",
      "d\n",
      "7\n",
      "h\n",
      "8\n",
      "20\n"
     ]
    }
   ],
   "source": [
    "class Hashtable:\n",
    "    def __init__(self, size = 10, load_factor = 0.75):\n",
    "        self.max_size = size # 表的大小\n",
    "        self.loadfactor = load_factor #加载因子\n",
    "        self.size = 0 # 当前大小\n",
    "        self.table = [None] * self.max_size\n",
    "        \n",
    "    def hashFunction(self, val):\n",
    "        return hash(val) % self.max_size\n",
    "        \n",
    "    def add(self, k, v):\n",
    "        idx = self.hashFunction(k)\n",
    "        if self.table[idx] == None: # 当前idx不存在entry\n",
    "            self.table[idx] = [[k, v]]\n",
    "            self.size += 1\n",
    "        else: # 存在entry\n",
    "            for i in range(len(self.table[idx])):\n",
    "            # table的每个idx放的是一个entry\n",
    "            # entry相当于一个链表， 这里用list代替双向链表\n",
    "                if k == self.table[idx][i][0]:\n",
    "                    self.table[idx][i][1] = v\n",
    "                    break\n",
    "            if i == len(self.table[idx]) - 1:\n",
    "                self.table[idx].append([k, v])\n",
    "                self.size += 1\n",
    "            \n",
    "        if self.size > self.max_size * self.loadfactor:\n",
    "                self.rehash()\n",
    "                \n",
    "    def get(self, k):\n",
    "        idx = self.hashFunction(k)\n",
    "        if self.table[idx] == None:\n",
    "            return None\n",
    "        else:\n",
    "            for i in range(len(self.table[idx])):\n",
    "                if k == self.table[idx][i][0]:\n",
    "                    return self.table[idx][i][1]\n",
    "                \n",
    "            if i == len(self.table[idx]) - 1:\n",
    "                return None\n",
    "            \n",
    "    def rehash(self):\n",
    "        old_table = self.table\n",
    "        self.max_size = self.max_size << 1\n",
    "        self.table = [None] * self.max_size\n",
    "        self.size = 0 # 因为add中会对size操作，这里把size重置一下\n",
    "        for entry in old_table:\n",
    "            if entry != None:\n",
    "                for node in entry:\n",
    "                    self.add(node[0], node[1])\n",
    "    \n",
    "ht = Hashtable()\n",
    "ht.add(1, 'a')\n",
    "ht.add(2, 'b')\n",
    "ht.add(3, 'c')\n",
    "ht.add(4, 'd')\n",
    "ht.add(5, 'e')\n",
    "ht.add(6, 'f')\n",
    "ht.add(7, 'g')\n",
    "print(ht.get(1))   \n",
    "print(ht.get(4))  \n",
    "print(ht.size)\n",
    "ht.add(8, 'h')\n",
    "print(ht.get(8)) \n",
    "print(ht.size)\n",
    "print(ht.max_size)"
   ]
  },
  {
   "cell_type": "markdown",
   "metadata": {},
   "source": [
    "## 30. 判断链表是否有环"
   ]
  },
  {
   "cell_type": "code",
   "execution_count": null,
   "metadata": {
    "collapsed": true
   },
   "outputs": [],
   "source": [
    "class Solution:\n",
    "    def hasCycle(self , head ):\n",
    "        # write code here\n",
    "        if head is None:\n",
    "            return False\n",
    "        dummy = ListNode(0)\n",
    "        dummy.next = head\n",
    "        slow = fast = dummy\n",
    "        \n",
    "        while slow != None and fast != None and fast.next != None:\n",
    "            slow = slow.next\n",
    "            fast = fast.next.next\n",
    "            if slow == fast:\n",
    "                return True\n",
    "            \n",
    "        return False"
   ]
  },
  {
   "cell_type": "markdown",
   "metadata": {},
   "source": [
    "## 岛屿题\n",
    "\n",
    "链接：https://www.nowcoder.com/discuss/561367\n",
    "\n",
    "第二轮面试，经典岛屿题，因为写的太快了，后面有很多时间让面试官follow up，比如如果不用我目前这个思路去写还有什么别的方法吗，输入的判断，等等。个人觉得面试官考这种经典的题目，关注点其实还是在后面的拓展，比较考验面试者的口头交流能力以及举一反三的能力"
   ]
  },
  {
   "cell_type": "markdown",
   "metadata": {},
   "source": [
    "## 31. Number of Islands\n",
    "\n",
    "Given a 2d grid map of '1's (land) and '0's (water), count the number of islands. An island is surrounded by water and is formed by connecting adjacent lands horizontally or vertically. You may assume all four edges of the grid are all surrounded by water."
   ]
  },
  {
   "cell_type": "code",
   "execution_count": 281,
   "metadata": {},
   "outputs": [
    {
     "data": {
      "text/plain": [
       "2"
      ]
     },
     "execution_count": 281,
     "metadata": {},
     "output_type": "execute_result"
    }
   ],
   "source": [
    "def numOfIslands(matrix):\n",
    "    if not matrix:\n",
    "        return -1\n",
    "    \n",
    "    count = 0\n",
    "    visited = set()\n",
    "    for i in range(len(matrix)):\n",
    "        for j in range(len(matrix[0])):\n",
    "            if matrix[i][j] == 1 and (i, j) not in visited:\n",
    "                count += 1\n",
    "                dfs(matrix, (i, j), visited)\n",
    "                \n",
    "    return count\n",
    "                \n",
    "def dfs(matrix, cur, visited):\n",
    "    visited.add(cur)\n",
    "    for d in [(0,1), (1,0), (0,-1), (-1,0)]:\n",
    "        x = cur[0] + d[0]\n",
    "        y = cur[1] + d[1]\n",
    "        if 0 <= x < len(matrix) and 0 <= y < len(matrix[0]) and matrix[x][y] == 1:\n",
    "            if (x,y) not in visited:\n",
    "                dfs(matrix, (x,y), visited)\n",
    "                \n",
    "    \n",
    "M = [\n",
    "     [1,1,0],\n",
    "     [1,1,0],\n",
    "     [0,0,1]\n",
    "]\n",
    "numOfIslands(M)\n",
    "                \n",
    "        "
   ]
  },
  {
   "cell_type": "markdown",
   "metadata": {},
   "source": [
    "## 32. Max Area of Island\n",
    "\n",
    "Given a non-empty 2D array grid of 0's and 1's, an island is a group of 1's (representing land) connected 4-directionally (horizontal or vertical.) You may assume all four edges of the grid are surrounded by water.\n",
    "\n",
    "Find the maximum area of an island in the given 2D array. (If there is no island, the maximum area is 0.)\n",
    "\n",
    "[0,0,1,0,0,0,0,1,0,0,0,0,0],\n",
    "\n",
    " [0,0,0,0,0,0,0,1,1,1,0,0,0], \n",
    " \n",
    " [0,1,1,0,1,0,0,0,0,0,0,0,0], \n",
    " \n",
    " [0,1,0,0,1,1,0,0,1,0,1,0,0],\n",
    " \n",
    " [0,1,0,0,1,1,0,0,1,1,1,0,0], \n",
    " \n",
    " [0,0,0,0,0,0,0,0,0,0,1,0,0],\n",
    " \n",
    " [0,0,0,0,0,0,0,1,1,1,0,0,0],\n",
    " \n",
    " [0,0,0,0,0,0,0,1,1,0,0,0,0]\n",
    " \n",
    "Given the above grid, return 6. Note the answer is not 11, because the island must be connected 4-directionally."
   ]
  },
  {
   "cell_type": "code",
   "execution_count": 46,
   "metadata": {},
   "outputs": [
    {
     "data": {
      "text/plain": [
       "3"
      ]
     },
     "execution_count": 46,
     "metadata": {},
     "output_type": "execute_result"
    }
   ],
   "source": [
    "def maxArea(matrix):\n",
    "    if not matrix:\n",
    "        return 0\n",
    "    \n",
    "    visited = set()\n",
    "    max_area = 0\n",
    "    for i in range(len(matrix)):\n",
    "        for j in range(len(matrix[0])):\n",
    "            if matrix[i][j] == 1: # 一定要加上这句，因为0的地方在dfs中也会计入area=1\n",
    "                area = dfs(matrix, (i, j), visited)\n",
    "                max_area = max(max_area, area)\n",
    "            \n",
    "    return max_area\n",
    "\n",
    "def dfs(matrix, cur, visited):\n",
    "    area = 1\n",
    "    visited.add(cur)\n",
    "    for d in [(0,1), (0,-1), (1,0), (-1,0)]:\n",
    "        x = cur[0] + d[0]\n",
    "        y = cur[1] + d[1]\n",
    "        if 0 <= x < len(matrix) and 0 <= y < len(matrix[0]) and (x,y) not in visited and matrix[x][y] == 1:\n",
    "            area += dfs(matrix, (x,y), visited)\n",
    "            \n",
    "    return area\n",
    "\n",
    "matrix = [\n",
    "    [0, 0, 1, 0, 0],\n",
    "    [0, 0, 0, 0, 0],\n",
    "    [0, 0, 0, 1, 0],\n",
    "    [1, 1, 0, 1, 1],\n",
    "    [0, 0, 0, 0, 0]\n",
    "]\n",
    "\n",
    "maxArea(matrix)"
   ]
  },
  {
   "cell_type": "code",
   "execution_count": 8,
   "metadata": {},
   "outputs": [
    {
     "data": {
      "text/plain": [
       "3"
      ]
     },
     "execution_count": 8,
     "metadata": {},
     "output_type": "execute_result"
    }
   ],
   "source": [
    "def maxArea(matrix):\n",
    "    if not matrix:\n",
    "        return -1\n",
    "    \n",
    "    visited = set()\n",
    "    max_area = 0\n",
    "    for i in range(len(matrix)):\n",
    "        for j in range(len(matrix[0])):\n",
    "            if (i, j) not in visited and matrix[i][j] == 1:\n",
    "                max_area = max(max_area, dfs(matrix, (i,j), visited, 0))\n",
    "    \n",
    "    return max_area\n",
    "\n",
    "def dfs(matrix, cur, visited, area):\n",
    "    visited.add(cur)\n",
    "    area += 1\n",
    "    \n",
    "    for d in [(0,1), (1,0), (0,-1), (-1,0)]:\n",
    "        x = cur[0] + d[0]\n",
    "        y = cur[1] + d[1]\n",
    "        if 0 <= x < len(matrix) and 0 <= y < len(matrix[0]) and matrix[x][y] == 1:\n",
    "            if (x,y) not in visited:\n",
    "                area = dfs(matrix, (x,y), visited, area) # 不要写成 area+=... \n",
    "    \n",
    "    return area\n",
    "\n",
    "matrix = [\n",
    "    [0, 0, 1, 0, 0],\n",
    "    [0, 0, 0, 0, 0],\n",
    "    [0, 0, 0, 1, 0],\n",
    "    [1, 1, 0, 1, 1],\n",
    "    [0, 0, 0, 0, 0]\n",
    "]\n",
    "\n",
    "maxArea(matrix)"
   ]
  },
  {
   "cell_type": "markdown",
   "metadata": {},
   "source": [
    "## 33. 最长无重复连续子数组"
   ]
  },
  {
   "cell_type": "code",
   "execution_count": 42,
   "metadata": {},
   "outputs": [
    {
     "data": {
      "text/plain": [
       "3"
      ]
     },
     "execution_count": 42,
     "metadata": {},
     "output_type": "execute_result"
    }
   ],
   "source": [
    "from collections import Counter\n",
    "\n",
    "def maxLength(arr):\n",
    "    if not arr:\n",
    "        return -1\n",
    "    \n",
    "    l = 0\n",
    "    max_len = 0\n",
    "    counter = Counter()\n",
    "    \n",
    "    for r in range(len(arr)):\n",
    "        if arr[r] not in counter:\n",
    "            counter[arr[r]] = 1\n",
    "            max_len = max(max_len, r-l+1)\n",
    "        else:\n",
    "            counter[arr[r]] += 1\n",
    "            while counter[arr[r]] > 1:\n",
    "                counter[arr[l]] -= 1\n",
    "                if counter[arr[l]] == 0:\n",
    "                    del counter[arr[l]]\n",
    "                l += 1\n",
    "    \n",
    "    return max_len\n",
    "\n",
    "arr = [2,2,3,4,3]\n",
    "maxLength(arr)"
   ]
  },
  {
   "cell_type": "code",
   "execution_count": 41,
   "metadata": {},
   "outputs": [
    {
     "name": "stdout",
     "output_type": "stream",
     "text": [
      "1\n",
      "1\n",
      "2\n",
      "3\n",
      "2\n"
     ]
    },
    {
     "data": {
      "text/plain": [
       "3"
      ]
     },
     "execution_count": 41,
     "metadata": {},
     "output_type": "execute_result"
    }
   ],
   "source": [
    "# time: n\n",
    "# space: n\n",
    "from collections import Counter\n",
    "class Solution:\n",
    "    def maxLength(self , arr ):\n",
    "        # write code here\n",
    "        if not arr:\n",
    "            return -1\n",
    "        \n",
    "        l = r = 0\n",
    "        counter = Counter()\n",
    "        max_len = 0\n",
    "        cur_len = 0\n",
    "        for r in range(len(arr)):\n",
    "            if counter[arr[r]] == 0:\n",
    "                counter[arr[r]] = 1\n",
    "                cur_len += 1\n",
    "                max_len = max(max_len, cur_len)\n",
    "            else:\n",
    "                counter[arr[r]] += 1\n",
    "                cur_len += 1 # 这句不要漏掉，因为arr[r]还是加进来了\n",
    "                while counter[arr[r]] > 1:\n",
    "                    counter[arr[l]] -= 1\n",
    "                    l += 1\n",
    "                    cur_len -= 1\n",
    "            print(cur_len)\n",
    "        return max_len\n",
    "\n",
    "s = Solution()\n",
    "arr = [2,2,3,4,3]\n",
    "s.maxLength(arr)"
   ]
  },
  {
   "cell_type": "code",
   "execution_count": 294,
   "metadata": {},
   "outputs": [
    {
     "name": "stdout",
     "output_type": "stream",
     "text": [
      "{2}\n",
      "{2}\n",
      "{2, 3}\n",
      "{2, 3, 4}\n",
      "{3, 4}\n"
     ]
    },
    {
     "data": {
      "text/plain": [
       "3"
      ]
     },
     "execution_count": 294,
     "metadata": {},
     "output_type": "execute_result"
    }
   ],
   "source": [
    "# set版\n",
    "from collections import Counter\n",
    "class Solution:\n",
    "    def maxLength(self , arr ):\n",
    "        # write code here\n",
    "        if not arr:\n",
    "            return -1\n",
    "        \n",
    "        l = r = 0\n",
    "        counter = set()\n",
    "        max_len = 0\n",
    "        cur_len = 0\n",
    "        for r in range(len(arr)):\n",
    "            if arr[r] not in counter:\n",
    "                counter.add(arr[r])\n",
    "                max_len = max(max_len, len(counter))\n",
    "            else:\n",
    "                cur_len += 1\n",
    "                while arr[l] != arr[r]:\n",
    "                    counter.remove(arr[l])\n",
    "                    l += 1\n",
    "                l += 1\n",
    "            print(counter)\n",
    "        return max_len\n",
    "    \n",
    "s = Solution()\n",
    "arr = [2,2,3,4,3]\n",
    "s.maxLength(arr)"
   ]
  },
  {
   "cell_type": "markdown",
   "metadata": {},
   "source": [
    "## 34. 寻找两个有序数组中的第K个数或者中位数\n",
    "\n",
    "https://blog.csdn.net/realxie/article/details/8078043?utm_medium=distribute.pc_relevant.none-task-blog-BlogCommendFromMachineLearnPai2-2.control&depth_1-utm_source=distribute.pc_relevant.none-task-blog-BlogCommendFromMachineLearnPai2-2.control"
   ]
  },
  {
   "cell_type": "code",
   "execution_count": 39,
   "metadata": {},
   "outputs": [
    {
     "data": {
      "text/plain": [
       "7"
      ]
     },
     "execution_count": 39,
     "metadata": {},
     "output_type": "execute_result"
    }
   ],
   "source": [
    "# time: log(m+n)\n",
    "def FindKthElm(a, b, k):\n",
    "    if len(a) == 0:\n",
    "        return b[k-1]\n",
    "    if len(b) == 0:\n",
    "        return a[k-1]\n",
    "    \n",
    "    a_mid = len(a) // 2\n",
    "    b_mid = len(b) // 2\n",
    "    half_len = a_mid + b_mid + 2 # a,b数组前半部分（包括Mid）的大小\n",
    "    \n",
    "    if a[a_mid] < b[b_mid]:\n",
    "        if half_len > k:\n",
    "            # K（K指的是第k大的数）这个数在合并数组内\n",
    "            # 因为b[b_mid]必定是合并数组中最大的那个，那么b[b_mid]一定比K的数大\n",
    "            # 所以b[b_mid~end]的数就不用搜索了，因为它们必定比K大\n",
    "            return FindKthElm(a[:], b[:b_mid], k)\n",
    "#         elif half_len == k: # 不能用==去判断\n",
    "#             # K就是b[b_mid]\n",
    "#             return b[b_mid]\n",
    "        else:\n",
    "            # 此时在合并的数组中a[:a_mid+1]元素一定在b[b_mid]的左侧，\n",
    "            # 对于b[b_mid]来说，它可能比K大，也可能比K小\n",
    "            # 对于a[a_mid]来说，它一定比K小\n",
    "            # 所以前K个元素中一定包含A[:a_mid+1]（可以使用反证法来证明这点）\n",
    "            # 但是无法判断A[a_mid+1:]与B[:]之间的关系，需要对他们进行判断\n",
    "            return FindKthElm(a[a_mid+1:], b[:], k-(a_mid+1))\n",
    "    else:\n",
    "        if half_len > k:\n",
    "            # 同上\n",
    "            return FindKthElm(a[:a_mid], b[:], k)\n",
    "#         elif half_len == k:\n",
    "#             return a[a_mid]\n",
    "        else:\n",
    "            return FindKthElm(a[:], b[b_mid+1:], k-(b_mid+1))\n",
    "        \n",
    "a = [1, 6, 8, 9, 11]\n",
    "b = [2, 4, 5, 7, 10]\n",
    "FindKthElm(a, b, 6)"
   ]
  },
  {
   "cell_type": "markdown",
   "metadata": {},
   "source": [
    "## 35. 给一个数组，可修改一个值，求由连续相同值组成的子序列的最大长度"
   ]
  },
  {
   "cell_type": "code",
   "execution_count": 339,
   "metadata": {},
   "outputs": [
    {
     "name": "stdout",
     "output_type": "stream",
     "text": [
      "0 Counter({1: 1})\n",
      "1 Counter({1: 2})\n",
      "2 Counter({1: 2, 2: 1})\n",
      "3 Counter({1: 3, 2: 1})\n",
      "4 Counter({2: 2, 1: 1})\n",
      "5 Counter({2: 3, 1: 1})\n",
      "6 Counter({2: 4, 1: 1})\n",
      "7 Counter({2: 3, 3: 1})\n",
      "8 Counter({3: 1, 4: 1})\n"
     ]
    },
    {
     "data": {
      "text/plain": [
       "5"
      ]
     },
     "execution_count": 339,
     "metadata": {},
     "output_type": "execute_result"
    }
   ],
   "source": [
    "# time: n\n",
    "\n",
    "def longestSubseq(arr):\n",
    "    if not arr:\n",
    "        return -1\n",
    "    \n",
    "    l = 0\n",
    "    counter = Counter() \n",
    "    max_len = 0\n",
    "    for r in range(len(arr)):\n",
    "        if arr[r] == arr[l]:\n",
    "            counter[arr[r]] += 1\n",
    "            max_len = max(max_len, sum(counter.values()))\n",
    "        else:\n",
    "            if len(counter) <= 1:\n",
    "                counter[arr[r]] += 1\n",
    "                max_len = max(max_len, sum(counter.values()))\n",
    "            else:\n",
    "                counter[arr[r]] += 1\n",
    "                while len(counter) > 2 or (counter[arr[l]] > 1 and counter[arr[r]] > 1 and arr[l] != arr[r]):\n",
    "                    # 有两种情况一定要移动左指针\n",
    "                    # len(counter) > 2的时候\n",
    "                    # 当counter里的两个元素个数同时大于1的时候\n",
    "                    counter[arr[l]] -= 1\n",
    "                    if counter[arr[l]] == 0:\n",
    "                        del counter[arr[l]]\n",
    "                    l += 1\n",
    "                max_len = max(max_len, sum(counter.values()))\n",
    "        print(r, counter)\n",
    "    return max_len\n",
    "\n",
    "arr = [1,1,2,1,2,2,2,3,4]\n",
    "longestSubseq(arr)\n",
    "\n",
    "\n",
    "                "
   ]
  },
  {
   "cell_type": "markdown",
   "metadata": {},
   "source": [
    "## 36. 给一个大整数，和几个幸运数字，求比大整数小的全部由幸运数字组成的整数的最大值"
   ]
  },
  {
   "cell_type": "code",
   "execution_count": 301,
   "metadata": {},
   "outputs": [
    {
     "data": {
      "text/plain": [
       "dict_values([3, 1, 1])"
      ]
     },
     "execution_count": 301,
     "metadata": {},
     "output_type": "execute_result"
    }
   ],
   "source": []
  },
  {
   "cell_type": "markdown",
   "metadata": {},
   "source": [
    "## 37. 给定一个全为正整数的int[]和一个值 K，求数组中元素乘积小于 K 的连续子数组个数"
   ]
  },
  {
   "cell_type": "code",
   "execution_count": 340,
   "metadata": {},
   "outputs": [
    {
     "data": {
      "text/plain": [
       "10"
      ]
     },
     "execution_count": 340,
     "metadata": {},
     "output_type": "execute_result"
    }
   ],
   "source": [
    "# time: n\n",
    "\n",
    "def smallerK(nums, k):\n",
    "    if not nums:\n",
    "        return -1\n",
    "    \n",
    "    count = 0\n",
    "    cur = 1\n",
    "    l = 0\n",
    "    for r in range(len(nums)):\n",
    "        cur = cur * nums[r]  \n",
    "        if cur < k:\n",
    "            count += r - l + 1 # 比如扫到[1,2,3]的时候，其实符合条件的有[1,2,3],[2,3],[3]\n",
    "        else:\n",
    "            while cur > k:\n",
    "                cur = cur // nums[l]\n",
    "                l += 1\n",
    "            count += r - l + 1 # 其实这里有两种情况，l>r的时候，r - l + 1==0所以就不加判断了\n",
    "    return count\n",
    "\n",
    "nums = [1,2,3,2,2]\n",
    "smallerK(nums, 11)"
   ]
  },
  {
   "cell_type": "markdown",
   "metadata": {},
   "source": [
    "## 38. 杨辉三角的第n行"
   ]
  },
  {
   "cell_type": "code",
   "execution_count": 10,
   "metadata": {},
   "outputs": [
    {
     "data": {
      "text/plain": [
       "[1, 4, 6, 4, 1]"
      ]
     },
     "execution_count": 10,
     "metadata": {},
     "output_type": "execute_result"
    }
   ],
   "source": [
    "# time: n^2\n",
    "\n",
    "def YanghuiTri(n):\n",
    "    if n < 0:\n",
    "        return []\n",
    "    \n",
    "    dp = [[0 for j in range(n+1)] for i in range(n+1)]\n",
    "    dp[0][0] = 1\n",
    "    \n",
    "    for i in range(1, n+1):\n",
    "        for j in range(1, n+1):\n",
    "            dp[i][j] = dp[i-1][j-1] + dp[i-1][j]\n",
    "            \n",
    "    return dp[-1][1:]\n",
    "\n",
    "YanghuiTri(5)"
   ]
  },
  {
   "cell_type": "markdown",
   "metadata": {},
   "source": [
    "## 39. Kth Smallest Element in a Sorted Matrix\n",
    "\n",
    "Given a n x n matrix where each of the rows and columns are sorted in ascending order, find the kth smallest element in the matrix.\n",
    "\n",
    "Note that it is the kth smallest element in the sorted order, not the kth distinct element."
   ]
  },
  {
   "cell_type": "code",
   "execution_count": 7,
   "metadata": {},
   "outputs": [
    {
     "data": {
      "text/plain": [
       "6"
      ]
     },
     "execution_count": 7,
     "metadata": {},
     "output_type": "execute_result"
    }
   ],
   "source": [
    "from bisect import bisect\n",
    "def find_in_matrix(mat, t):\n",
    "    if len(mat) < 0:\n",
    "        return -1\n",
    "    lo, hi = mat[0][0], mat[-1][-1]\n",
    "    while lo < hi:\n",
    "        mid = lo + (hi-lo) // 2\n",
    "        if sum(bisect(row, mid) for row in mat) < t:\n",
    "            lo = mid + 1\n",
    "        else:\n",
    "            hi = mid\n",
    "    return lo\n",
    "\n",
    "mat = [\n",
    "    [1, 4, 8, 10,15],\n",
    "    [3, 5, 6, 7, 20],\n",
    "    [9, 20,22,24,29],\n",
    "    [11,22,23,29,39]\n",
    "]\n",
    "t = 5\n",
    "find_in_matrix(mat, t)"
   ]
  },
  {
   "cell_type": "markdown",
   "metadata": {},
   "source": [
    "## 40. 设计LRU缓存结构，该结构在构造时确定大小，假设大小为K，并有如下两个功能\n",
    "1. set(key, value)：将记录(key, value)插入该结构\n",
    "2. get(key)：返回key对应的value值\n",
    "\n",
    "[要求]\n",
    "\n",
    "1. set和get方法的时间复杂度为O(1)\n",
    "2. 某个key的set或get操作一旦发生，认为这个key的记录成了最常使用的。\n",
    "3. 当缓存的大小超过K时，移除最不经常使用的记录，即set或get最久远的。\n",
    "4. 若opt=1，接下来两个整数x, y，表示set(x, y)\n",
    "5. 若opt=2，接下来一个整数x，表示get(x)，若x未出现过或已被移除，则返回-1\n",
    "6. 对于每个操作2，输出一个答案"
   ]
  },
  {
   "cell_type": "code",
   "execution_count": 45,
   "metadata": {},
   "outputs": [
    {
     "data": {
      "text/plain": [
       "[1, -1, 1, -1, -1]"
      ]
     },
     "execution_count": 45,
     "metadata": {},
     "output_type": "execute_result"
    }
   ],
   "source": [
    "from collections import OrderedDict\n",
    "\n",
    "class Solution:\n",
    "    def __init__(self, capacity=0):\n",
    "        self.capacity = capacity\n",
    "        self.cache = OrderedDict()\n",
    "        \n",
    "    def get(self, key):\n",
    "        if key in self.cache:\n",
    "            value = self.cache.pop(key)\n",
    "            self.cache[key] = value\n",
    "        else:\n",
    "            return -1\n",
    "        return value\n",
    "    \n",
    "    def set(self, key, value):\n",
    "        if key in self.cache:\n",
    "            self.cache.pop(key)\n",
    "            self.cache[key] = value\n",
    "        else:\n",
    "            if len(self.cache) == self.capacity:\n",
    "                self.cache.popitem(last = False) # 删除第一个元素\n",
    "            self.cache[key] = value\n",
    "        \n",
    "    \n",
    "    def LRU(self , operators , k ):\n",
    "        # write code here\n",
    "        self.capacity = k\n",
    "        rst = []\n",
    "        i = 0\n",
    "        for arr in operators:\n",
    "            if arr[0] == 1:\n",
    "                self.set(arr[1], arr[2])\n",
    "            elif arr[0] == 2:\n",
    "                rst.append(self.get(arr[1]))\n",
    "        return rst\n",
    "    \n",
    "s = Solution()\n",
    "operators = [[1,1,1],[1,2,2],[1,3,2],[2,1],[1,4,4],[2,2],[1,1,1],[1,2,2],[1,3,2],[2,1],[1,4,4],[2,2],[1,4,4],[2,2]]\n",
    "k = 3\n",
    "s.LRU(operators , k)"
   ]
  },
  {
   "cell_type": "markdown",
   "metadata": {},
   "source": [
    "## 41. Reverse a Linked List IV\n",
    "Reverse Nodes in k-Group\n",
    "\n",
    "Given a linked list, reverse the nodes of a linked list k at a time and return its modified list.\n",
    "\n",
    "k is a positive integer and is less than or equal to the length of the linked list. If the number of nodes is not a multiple of k then left-out nodes in the end should remain as it is.\n",
    "\n",
    "You may not alter the values in the nodes, only nodes itself may be changed.\n",
    "\n",
    "Only constant memory is allowed.\n",
    "\n",
    "For example,\n",
    "\n",
    "Given this linked list: 1->2->3->4->5\n",
    "\n",
    "For k = 2, you should return: 2->1->4->3->5\n",
    "\n",
    "For k = 3, you should return: 3->2->1->4->5"
   ]
  },
  {
   "cell_type": "code",
   "execution_count": 350,
   "metadata": {},
   "outputs": [
    {
     "name": "stdout",
     "output_type": "stream",
     "text": [
      "1 2 3 4 5 6 7 8 \n",
      "3 2 1 6 5 4 7 8 "
     ]
    }
   ],
   "source": [
    "# 10min\n",
    "from LinkedList import LinkedList\n",
    "from LinkedList import Node\n",
    "\n",
    "class Node:\n",
    "    def __init__ (self, value = None, next = None):\n",
    "        self.value = value\n",
    "        self.next = next\n",
    "        \n",
    "def reverseKGroup(head, k):\n",
    "    if head == None:\n",
    "        return None\n",
    "    dummy = Node(0)\n",
    "    dummy.next = head\n",
    "    nxt_head = dummy\n",
    "    \n",
    "    for _ in range(k):\n",
    "        if nxt_head != None:\n",
    "            nxt_head = nxt_head.next\n",
    "    \n",
    "    if nxt_head == None:\n",
    "        return dummy.next\n",
    "    \n",
    "    pre = None\n",
    "    cur = dummy.next\n",
    "    dummy.next = nxt_head\n",
    "    \n",
    "    while nxt_head != None:\n",
    "        tail = cur\n",
    "        for i in range(k):\n",
    "            nxt = cur.next\n",
    "            cur.next = pre\n",
    "            pre = cur\n",
    "            cur = nxt\n",
    "            if nxt_head != None:\n",
    "                nxt_head = nxt_head.next\n",
    "        if nxt_head == None:\n",
    "            tail.next = cur\n",
    "        else:\n",
    "            tail.next = nxt_head\n",
    "    \n",
    "    return dummy.next\n",
    "\n",
    "nums = [1,2,3,4,5,6,7,8]\n",
    "dummy = Node(0)\n",
    "cur = dummy\n",
    "for num in nums:\n",
    "    node = Node(num)\n",
    "    cur.next = node\n",
    "    cur = cur.next\n",
    "cur = dummy.next\n",
    "while cur != None:\n",
    "    print(cur.value, end=' ')\n",
    "    cur = cur.next\n",
    "print()\n",
    "head = reverseKGroup(dummy.next, 3)\n",
    "cur = head\n",
    "while cur != None:\n",
    "    print(cur.value, end=' ')\n",
    "    cur = cur.next"
   ]
  },
  {
   "cell_type": "markdown",
   "metadata": {},
   "source": [
    "## 42. Minimum Window Substring\n",
    "\n",
    "Given a string S and a string T, find the minimum window in S which will contain all the characters in T in complexity O(n).\n",
    "\n",
    "For example,\n",
    "\n",
    "S = “ADOBECODEBANC”\n",
    "\n",
    "T = “ABC”\n",
    "\n",
    "Minimum window is “BANC”.\n",
    "\n",
    "** Note: **\n",
    "\n",
    "If there is no such window in S that covers all characters in T, return the empty string “”.\n",
    "\n",
    "If there are multiple such windows, you are guaranteed that there will always be only one unique minimum window in S."
   ]
  },
  {
   "cell_type": "code",
   "execution_count": 11,
   "metadata": {},
   "outputs": [
    {
     "data": {
      "text/plain": [
       "'BANCC'"
      ]
     },
     "execution_count": 11,
     "metadata": {},
     "output_type": "execute_result"
    }
   ],
   "source": [
    "# Solution: 可以用counter记录t在s中出现的次数，用count记录是否符合了window。\n",
    "# 当ct[s[i]] > 0的时候代表这个数是存在于t中的，且窗口中出现s[i]的次数还没达到t中出现的次数，因此遇到了就将count-1\n",
    "# 当count==0的时候意味着这个窗口符合了规则，因此可以记录下当前的宽度并与全局宽度比较。\n",
    "# 同时当窗口符合规则后就要打破这个窗口，从左边进行缩小。同时将ct+1。\n",
    "# 只有当ct[s[left]]==0的时候，才对count+1因为这意味着退出left之后，就不满足window了\n",
    "# 使用count的目的就是为了 不要每次遇到T里面的字母就对dict遍历\n",
    "\n",
    "from collections import Counter\n",
    "\n",
    "def minWindow(s, t):\n",
    "    count = len(t)\n",
    "    counter = Counter(t)\n",
    "    l = 0\n",
    "    ansLeft = 0\n",
    "    ansRight = 0\n",
    "    minLength = 0x7fffffff\n",
    "    notFound = True\n",
    "    \n",
    "    for r in range(len(s)):\n",
    "        if counter[s[r]] > 0:\n",
    "            count -= 1\n",
    "        counter[s[r]] -= 1  # 注意这里counter[s[r]] -= 1不能写在if里面，否则下面判断counter[s[l]] == 0的时候，其他字符都是符合条件的\n",
    "        \n",
    "        while count == 0:\n",
    "            notFound = False\n",
    "            if minLength > r - l:\n",
    "                minLength = r - l\n",
    "                ansLeft = l\n",
    "                ansRight = r\n",
    "            if s[l] in counter and counter[s[l]] == 0:\n",
    "                count += 1\n",
    "            counter[s[l]] += 1\n",
    "            l += 1\n",
    "    \n",
    "    return s[ansLeft:ansRight+1]\n",
    "\n",
    "s = \"ADOBECODEBANCC\"\n",
    "t = \"ABCC\"\n",
    "minWindow(s, t)"
   ]
  },
  {
   "cell_type": "code",
   "execution_count": 7,
   "metadata": {},
   "outputs": [
    {
     "data": {
      "text/plain": [
       "[2, 3, 4, 5]"
      ]
     },
     "execution_count": 7,
     "metadata": {},
     "output_type": "execute_result"
    }
   ],
   "source": [
    "a = [1,2,3,4,5]\n",
    "a.pop(0)\n",
    "a"
   ]
  },
  {
   "cell_type": "markdown",
   "metadata": {},
   "source": [
    "## 43. 解码\n",
    "\n",
    "1 -> A, 2 -> B, ... 返回解码的种类"
   ]
  },
  {
   "cell_type": "code",
   "execution_count": 13,
   "metadata": {},
   "outputs": [
    {
     "name": "stdout",
     "output_type": "stream",
     "text": [
      "10\n"
     ]
    },
    {
     "data": {
      "text/plain": [
       "2"
      ]
     },
     "execution_count": 13,
     "metadata": {},
     "output_type": "execute_result"
    }
   ],
   "source": [
    "class Solution(object):\n",
    "    def numDecodings(self, s):\n",
    "        \"\"\"\n",
    "        :type s: str\n",
    "        :rtype: int\n",
    "        \"\"\"\n",
    "        if not s:\n",
    "            return 0\n",
    "        if s[0] == '0':\n",
    "            return 0\n",
    "        \n",
    "        n = len(s)\n",
    "        dp = [1] * (n + 1)\n",
    "\n",
    "        for i in range(2, n+1): \n",
    "            if s[i-1] == '0': # 当前位是0的时候，要考察前面的那为数是否是1或2\n",
    "                if s[i-2] not in '12':\n",
    "                    return 0\n",
    "                else:\n",
    "                    dp[i] = dp[i-2]\n",
    "            elif s[i-2] == '0': # 当前面是0的时候，这个0不可能和当前位共同解码\n",
    "                dp[i] = dp[i-1]\n",
    "            elif 0 < int(s[i-2:i]) <= 26:\n",
    "                dp[i] = dp[i-1] + dp[i-2]\n",
    "            else:\n",
    "                dp[i] = dp[i-1]\n",
    "\n",
    "        return dp[-1]"
   ]
  },
  {
   "cell_type": "markdown",
   "metadata": {},
   "source": [
    "## 44. 生成括号\n",
    "数字 n 代表生成括号的对数，请你设计一个函数，用于能够生成所有可能的并且 有效的 括号组合。"
   ]
  },
  {
   "cell_type": "code",
   "execution_count": 32,
   "metadata": {},
   "outputs": [
    {
     "data": {
      "text/plain": [
       "['((()))', '(()())', '(())()', '()(())', '()()()']"
      ]
     },
     "execution_count": 32,
     "metadata": {},
     "output_type": "execute_result"
    }
   ],
   "source": [
    "def generateParenthesis(n):\n",
    "    if n == 0:\n",
    "        return []\n",
    "    \n",
    "    rst = []\n",
    "    lst = []\n",
    "    dfs(rst, lst, 0, 0, n)\n",
    "    return rst\n",
    "\n",
    "def dfs(rst, lst, left, right, n):\n",
    "    if len(lst) == 2 * n:\n",
    "        rst.append(''.join(lst))\n",
    "    \n",
    "    if left < n:\n",
    "        lst.append('(')\n",
    "        dfs(rst, lst, left+1, right, n)\n",
    "        lst.pop()\n",
    "    if right < left:\n",
    "        lst.append(')')\n",
    "        dfs(rst, lst, left, right+1, n)\n",
    "        lst.pop()\n",
    "    \n",
    "generateParenthesis(3)"
   ]
  },
  {
   "cell_type": "markdown",
   "metadata": {},
   "source": [
    "## 45. 二叉树中的最大路径和\n",
    "\n",
    "链接：https://leetcode-cn.com/problems/binary-tree-maximum-path-sum/solution/er-cha-shu-zhong-de-zui-da-lu-jing-he-by-leetcode-/\n",
    "\n",
    "路径 被定义为一条从树中**任意节点**出发，沿父节点-子节点连接，达到任意节点的序列。该路径 至少包含一个 节点，且不一定经过根节点。\n",
    "\n",
    "路径和 是路径中各节点值的总和。\n",
    "\n",
    "给你一个二叉树的根节点 root ，返回其 最大路径和 。"
   ]
  },
  {
   "cell_type": "code",
   "execution_count": null,
   "metadata": {
    "collapsed": true
   },
   "outputs": [],
   "source": [
    "class Solution:\n",
    "    def __init__(self):\n",
    "        self.maxSum = float(\"-inf\")\n",
    "\n",
    "    def maxPathSum(self, root: TreeNode) -> int:\n",
    "        def maxGain(node):\n",
    "            if not node:\n",
    "                return 0\n",
    "\n",
    "            # 递归计算左右子节点的最大贡献值\n",
    "            # 只有在最大贡献值大于 0 时，才会选取对应子节点\n",
    "            leftGain = max(maxGain(node.left), 0)\n",
    "            rightGain = max(maxGain(node.right), 0)\n",
    "            \n",
    "            # 节点的最大路径和取决于该节点的值与该节点的左右子节点的最大贡献值\n",
    "            priceNewpath = node.val + leftGain + rightGain\n",
    "            \n",
    "            # 更新答案\n",
    "            self.maxSum = max(self.maxSum, priceNewpath)\n",
    "        \n",
    "            # 返回节点的最大贡献值\n",
    "            return node.val + max(leftGain, rightGain)\n",
    "   \n",
    "        maxGain(root)\n",
    "        return self.maxSum\n",
    "\n"
   ]
  },
  {
   "cell_type": "code",
   "execution_count": null,
   "metadata": {
    "collapsed": true
   },
   "outputs": [],
   "source": [
    "from BinarySearchTree import BinarySearchTree\n",
    "from BinarySearchTree import Node\n",
    "\n",
    "class TreeNode(object):\n",
    "    def __init__(self, val=0, left=None, right=None):\n",
    "        self.val = val\n",
    "        self.left = left\n",
    "        self.right = right\n",
    "\n",
    "def maxPathSum(node, maximum):\n",
    "    if node == None:\n",
    "        return 0\n",
    "    \n",
    "    left = maxPathSum(node.left, maximum)\n",
    "    right = maxPathSum(node.right, maximum)\n",
    "    cur_sum = node.value + left + right\n",
    "    \n",
    "    maximum = max(maximum, cur_sum)\n",
    "    \n",
    "    return node.value + max(left, right)\n",
    "\n",
    "BST = BinarySearchTree()\n",
    "for i in [-1,2,-3,4,-5,6,7]:\n",
    "    BST.add(i)\n",
    "    \n"
   ]
  },
  {
   "cell_type": "code",
   "execution_count": 17,
   "metadata": {},
   "outputs": [
    {
     "data": {
      "text/plain": [
       "2"
      ]
     },
     "execution_count": 17,
     "metadata": {},
     "output_type": "execute_result"
    }
   ],
   "source": [
    "1 << 1"
   ]
  },
  {
   "cell_type": "markdown",
   "metadata": {},
   "source": [
    "## 46. 旋转数组\n",
    "给一个n×n的数组，旋转90度。"
   ]
  },
  {
   "cell_type": "code",
   "execution_count": 6,
   "metadata": {},
   "outputs": [
    {
     "data": {
      "text/plain": [
       "[[20, 15, 10, 5, 0],\n",
       " [21, 16, 11, 6, 1],\n",
       " [22, 17, 12, 7, 2],\n",
       " [23, 18, 13, 8, 3],\n",
       " [24, 19, 14, 9, 4]]"
      ]
     },
     "execution_count": 6,
     "metadata": {},
     "output_type": "execute_result"
    }
   ],
   "source": [
    "def rotate_matrix(matrix):\n",
    "    n = len(matrix)\n",
    "    for layer in range(n//2):\n",
    "#         print(matrix)\n",
    "        first = layer\n",
    "        last = n - layer - 1\n",
    "        for i in range(n - layer * 2 - 1): # 易错点\n",
    "            # Save Top\n",
    "            top = matrix[first][first + i]\n",
    "            # Left -> Top\n",
    "            matrix[first][first+i] = matrix[last-i][first]\n",
    "            # Bottom -> Left\n",
    "            matrix[last-i][first] = matrix[last][last-i]\n",
    "            # Right -> Bottom\n",
    "            matrix[last][last-i] = matrix[first+i][last]\n",
    "            # Top -> Right\n",
    "            matrix[first+i][last] = top\n",
    "            \n",
    "    return matrix\n",
    "\n",
    "matrix = [[i*5+j for j in range(5)] for i in range(5)]\n",
    "rotate_matrix(matrix)"
   ]
  },
  {
   "cell_type": "code",
   "execution_count": 27,
   "metadata": {},
   "outputs": [
    {
     "data": {
      "text/plain": [
       "[[20, 15, 10, 5, 0],\n",
       " [21, 16, 11, 6, 1],\n",
       " [22, 17, 12, 7, 2],\n",
       " [23, 18, 13, 8, 3],\n",
       " [24, 19, 14, 9, 4]]"
      ]
     },
     "execution_count": 27,
     "metadata": {},
     "output_type": "execute_result"
    }
   ],
   "source": [
    "def rotate(matrix):\n",
    "    if not matrix:\n",
    "        return matrix\n",
    "    if len(matrix) != len(matrix[0]):\n",
    "        return matrix\n",
    "    \n",
    "    n = len(matrix)\n",
    "    rst = [[0 for i in range(n)] for j in range(n)]\n",
    "    for i in range(len(matrix)):\n",
    "        for j in range(len(matrix[0])):\n",
    "            rst[j][n-i-1] = matrix[i][j]\n",
    "    \n",
    "    return rst\n",
    "\n",
    "matrix = [[i*5+j for j in range(5)] for i in range(5)]\n",
    "rotate(matrix)"
   ]
  },
  {
   "cell_type": "markdown",
   "metadata": {},
   "source": [
    "## 47. 格雷编码\n",
    "\n",
    "格雷编码是一个二进制数字系统，在该系统中，两个连续的数值仅有一个位数的差异。\n",
    "\n",
    "给定一个代表编码总位数的非负整数 n，打印其格雷编码序列。即使有多个不同答案，你也只需要返回其中一种。\n",
    "\n",
    "格雷编码序列必须以 0 开头。\n",
    "\n",
    "输入: 2\n",
    "输出: [0,1,3,2]\n",
    "解释:\n",
    "00 - 0\n",
    "01 - 1\n",
    "11 - 3\n",
    "10 - 2\n",
    "\n",
    "对于给定的 n，其格雷编码序列并不唯一。\n",
    "例如，[0,2,3,1] 也是一个有效的格雷编码序列。\n",
    "\n",
    "00 - 0\n",
    "10 - 2\n",
    "11 - 3\n",
    "01 - 1\n",
    "\n",
    "链接：https://leetcode-cn.com/problems/gray-code"
   ]
  },
  {
   "attachments": {
    "image.png": {
     "image/png": "[encoded data removed]"
    }
   },
   "cell_type": "markdown",
   "metadata": {},
   "source": [
    "![image.png](attachment:image.png)"
   ]
  },
  {
   "cell_type": "code",
   "execution_count": 31,
   "metadata": {},
   "outputs": [
    {
     "data": {
      "text/plain": [
       "[0, 1, 3, 2, 6, 7, 5, 4]"
      ]
     },
     "execution_count": 31,
     "metadata": {},
     "output_type": "execute_result"
    }
   ],
   "source": [
    "def grayCode(n):\n",
    "    if n == 0:\n",
    "        return [0]\n",
    "    if n == 1:\n",
    "        return [0]\n",
    "\n",
    "    dp = [0,1,3,2]\n",
    "    for i in range(n-2):\n",
    "        tmp_len = len(dp)\n",
    "        for j in range(tmp_len-1, -1, -1):\n",
    "            dp.append(dp[j] + 2**(n-1))\n",
    "            \n",
    "    return dp\n",
    "\n",
    "grayCode(3)"
   ]
  },
  {
   "cell_type": "code",
   "execution_count": null,
   "metadata": {
    "collapsed": true
   },
   "outputs": [],
   "source": [
    "public List<Integer> grayCode(int n) {\n",
    "    List<Integer> gray = new ArrayList<Integer>();\n",
    "    gray.add(0); //初始化 n = 0 的解\n",
    "    for (int i = 0; i < n; i++) {\n",
    "        int add = 1 << i; //要加的数\n",
    "        //倒序遍历，并且加上一个值添加到结果中\n",
    "        for (int j = gray.size() - 1; j >= 0; j--) {\n",
    "            gray.add(gray.get(j) + add);\n",
    "        }\n",
    "    }\n",
    "    return gray;\n"
   ]
  },
  {
   "cell_type": "markdown",
   "metadata": {},
   "source": [
    "## 48. 复制带随机指针的链表\n",
    "https://leetcode-cn.com/problems/copy-list-with-random-pointer/solution/fu-zhi-dai-sui-ji-zhi-zhen-de-lian-biao-by-leetcod/"
   ]
  },
  {
   "cell_type": "code",
   "execution_count": 18,
   "metadata": {
    "collapsed": true
   },
   "outputs": [],
   "source": [
    "class Solution(object):\n",
    "    \"\"\"\n",
    "    :type head: Node\n",
    "    :rtype: Node\n",
    "    \"\"\"\n",
    "    def __init__(self):\n",
    "        # Dictionary which holds old nodes as keys and new nodes as its values.\n",
    "        self.visitedHash = {}\n",
    "\n",
    "    def copyRandomList(self, head):\n",
    "\n",
    "        if head == None:\n",
    "            return None\n",
    "\n",
    "        # If we have already processed the current node, then we simply return the cloned version of it.\n",
    "        if head in self.visitedHash:\n",
    "            return self.visitedHash[head]\n",
    "\n",
    "        # create a new node\n",
    "        # with the value same as old node.\n",
    "        node = Node(head.val, None, None)\n",
    "\n",
    "        # Save this value in the hash map. This is needed since there might be\n",
    "        # loops during traversal due to randomness of random pointers and this would help us avoid them.\n",
    "        self.visitedHash[head] = node\n",
    "\n",
    "        # Recursively copy the remaining linked list starting once from the next pointer and then from the random pointer.\n",
    "        # Thus we have two independent recursive calls.\n",
    "        # Finally we update the next and random pointers for the new node created.\n",
    "        node.next = self.copyRandomList(head.next)\n",
    "        node.random = self.copyRandomList(head.random)\n",
    "\n",
    "        return node\n"
   ]
  },
  {
   "cell_type": "markdown",
   "metadata": {},
   "source": [
    "## 49. 课程表\n",
    "https://leetcode-cn.com/problems/course-schedule/solution/course-schedule-tuo-bu-pai-xu-bfsdfsliang-chong-fa/"
   ]
  },
  {
   "cell_type": "code",
   "execution_count": 28,
   "metadata": {},
   "outputs": [
    {
     "ename": "SyntaxError",
     "evalue": "invalid syntax (<ipython-input-28-6b4edf5cc1ba>, line 1)",
     "output_type": "error",
     "traceback": [
      "\u001b[1;36m  File \u001b[1;32m\"<ipython-input-28-6b4edf5cc1ba>\"\u001b[1;36m, line \u001b[1;32m1\u001b[0m\n\u001b[1;33m    你这个学期必须选修 numCourse 门课程，记为 0 到 numCourse-1 。\u001b[0m\n\u001b[1;37m                      ^\u001b[0m\n\u001b[1;31mSyntaxError\u001b[0m\u001b[1;31m:\u001b[0m invalid syntax\n"
     ]
    }
   ],
   "source": [
    "你这个学期必须选修 numCourse 门课程，记为 0 到 numCourse-1 。\n",
    "\n",
    "在选修某些课程之前需要一些先修课程。 例如，想要学习课程 0 ，你需要先完成课程 1 ，我们用一个匹配来表示他们：[0,1]\n",
    "\n",
    "给定课程总量以及它们的先决条件，请你判断是否可能完成所有课程的学习？\n",
    "\n",
    " \n",
    "\n",
    "示例 1:\n",
    "\n",
    "输入: 2, [[1,0]] \n",
    "输出: true\n",
    "解释: 总共有 2 门课程。学习课程 1 之前，你需要完成课程 0。所以这是可能的。\n",
    "    \n",
    "示例 2:\n",
    "\n",
    "输入: 2, [[1,0],[0,1]]\n",
    "输出: false\n",
    "解释: 总共有 2 门课程。学习课程 1 之前，你需要先完成​课程 0；并且学习课程 0 之前，你还应先完成课程 1。这是不可能的。\n"
   ]
  },
  {
   "cell_type": "code",
   "execution_count": null,
   "metadata": {
    "collapsed": true
   },
   "outputs": [],
   "source": [
    "from collections import deque\n",
    "\n",
    "class Solution:\n",
    "    def canFinish(self, numCourses: int, prerequisites: List[List[int]]) -> bool:\n",
    "        indegrees = [0 for _ in range(numCourses)]\n",
    "        adjacency = [[] for _ in range(numCourses)]\n",
    "        queue = deque()\n",
    "        # Get the indegree and adjacency of every course.\n",
    "        for cur, pre in prerequisites:\n",
    "            indegrees[cur] += 1\n",
    "            adjacency[pre].append(cur)\n",
    "        # Get all the courses with the indegree of 0.\n",
    "        for i in range(len(indegrees)):\n",
    "            if not indegrees[i]: queue.append(i)\n",
    "        # BFS TopSort.\n",
    "        while queue:\n",
    "            pre = queue.popleft()\n",
    "            numCourses -= 1\n",
    "            for cur in adjacency[pre]:\n",
    "                indegrees[cur] -= 1\n",
    "                if not indegrees[cur]: queue.append(cur)\n",
    "        return not numCourses\n"
   ]
  },
  {
   "cell_type": "code",
   "execution_count": 30,
   "metadata": {},
   "outputs": [
    {
     "data": {
      "text/plain": [
       "False"
      ]
     },
     "execution_count": 30,
     "metadata": {},
     "output_type": "execute_result"
    }
   ],
   "source": [
    "def classSchedule(num, prerequisities):\n",
    "    indegrees = [0] * num\n",
    "    adjacency = [[] for i in range(num)]\n",
    "    \n",
    "    for cur, pre in prerequisities:\n",
    "        indegrees[cur] += 1\n",
    "        adjacency[pre].append(cur)\n",
    "        \n",
    "    queue = []\n",
    "    for i in range(num):\n",
    "        if indegrees[i] == 0:\n",
    "            queue.append(i)\n",
    "    \n",
    "    while queue:\n",
    "        pre = queue.pop(0)\n",
    "        num -= 1\n",
    "        for cur in adjacency[pre]:\n",
    "            indegrees[cur] -= 1\n",
    "            if indegrees[cur] == 0:\n",
    "                queue.append(cur)\n",
    "    \n",
    "    return num == 0\n",
    "\n",
    "num = 2\n",
    "prerequisities = [[1,0], [0,1]]\n",
    "classSchedule(num, prerequisities)"
   ]
  },
  {
   "cell_type": "markdown",
   "metadata": {
    "collapsed": true
   },
   "source": [
    "## 50. Stock Problem V\n",
    "\n",
    "Say you have an array for which the ith element is the price of a given stock on day i.\n",
    "\n",
    "Design an algorithm to find the maximum profit. You may complete at most k transactions."
   ]
  },
  {
   "cell_type": "raw",
   "metadata": {},
   "source": [
    "# Solution:\n",
    "This problem requires us to find the maximum profit and complete at most k transaction. It also means that we can find the maximum profit at k-1, k-2,...,1 transaction.\n",
    "\n",
    "Let us start from an example. prices = [5,11,3,50,60,90] with k = 2\n",
    "We build a table. Row is day and col is transaction. Numbers in table is the maximun profit. \n",
    "\n",
    "Since we would not get any profit if there are not any transaction, the first row is zeros. Since buying and selling will not happen in one day, the first col is zeros.\n",
    "\n",
    "    5, 11,  3, 50, 60, 90\n",
    "  \n",
    "0   0,  0,  0,  0,  0,  0\n",
    "\n",
    "1   0,  6,  6, 47, 57, 87\n",
    "\n",
    "2   0,  6,  6, 53, 63\n",
    "\n",
    "Let us call this table profit[t][d], t means row and transaction, and d means col and day.\n",
    "\n",
    "We find that the profit[t][d] has two conditions. \n",
    "1) We do not sell stock on day d, so profit[t][d] = profit[t][d - 1]\n",
    "2) We sell stock on day d, that also means we've bought stock before. profit[t][d] = price[d] + max(profit[t - 1][x] - price[x]). 0<=x<d\n",
    "\n",
    "profit[t][d] = profit[t][d - 1]\n",
    "\n",
    "          or\n",
    "            \n",
    "          price[d] + max(profit[t - 1][x] - price[x]) 0<=x<d\n",
    "\n",
    "Since we always need to iterate 0<=x<d when we calculate the second condition profit[t][d] = price[d] + max(profit[t - 1][x] - price[x]), we should optimize this process. We can store it. We can use maxThusFar = max(maxThusFar, profit[t - 1][d - 1] - price[d - 1]) to store it, because we calculate every profit from left to right.\n",
    "\n",
    "Therefore, the time complexity will become O(kn) from O(kn^2)"
   ]
  },
  {
   "cell_type": "code",
   "execution_count": 27,
   "metadata": {},
   "outputs": [
    {
     "data": {
      "text/plain": [
       "7"
      ]
     },
     "execution_count": 27,
     "metadata": {},
     "output_type": "execute_result"
    }
   ],
   "source": [
    "def stock5(prices, k):\n",
    "    dp = [[0 for j in range(len(prices))] for i in range(k+1)]\n",
    "    \n",
    "    \n",
    "    for t in range(1, k+1):\n",
    "        max_so_far = -0x7fffffff\n",
    "        for d in range(1, len(prices)):\n",
    "            max_so_far = max(max_so_far, dp[t-1][d-1]-prices[d-1])\n",
    "            dp[t][d] = max(dp[t][d-1], prices[d]+max_so_far)\n",
    "            \n",
    "    return dp[-1][-1]\n",
    "\n",
    "prices = [3,2,6,5,0,3]\n",
    "k = 2\n",
    "stock5(prices, k)"
   ]
  },
  {
   "cell_type": "markdown",
   "metadata": {},
   "source": [
    "## 51. 0/1 Knapsack **\n",
    "\n",
    "Given weights and values of n items, put these items in a knapsack of capacity W to get the maximum total value in the knapsack. "
   ]
  },
  {
   "cell_type": "markdown",
   "metadata": {},
   "source": [
    "# Solution:\n",
    "we can build a table dp[n][w], w is avalable weight of bag, n is the number of item.\n",
    "\n",
    "The first row is the first bag, if avalable weight is smaller than wt[0], then dp is 0 else dp is val[0]. The first col means not weight avalable, so first col is 0. \n",
    "\n",
    "For any dp[n][w]. If we take n th item, then dp = dp[n-1][w-wt[n]]. If we not take nth item, then dp = dp[n-1][w]. If avalable weight is smaller than wt[n], then we can only ignore current item\n",
    "\n",
    "dp[n][w]表示，在背包还剩w空间的情况下，考虑前n个物品能获得的最大价值\n",
    "\n",
    "当我们要取n这个物品的时候，我们得为它预留容量，这就是为啥dp = dp[n-1][w-wt[n]]，也就是说我还有w-wt[n]的容量去考虑n-1个物品"
   ]
  },
  {
   "cell_type": "code",
   "execution_count": 28,
   "metadata": {},
   "outputs": [
    {
     "name": "stdout",
     "output_type": "stream",
     "text": [
      "9\n"
     ]
    }
   ],
   "source": [
    "def knapSack(W, wt, val, n):\n",
    "    dp = [[0 for j in range(W+1)] for i in range(n+1)]\n",
    "    \n",
    "    for i in range(1, n+1):\n",
    "        for w in range(1, W+1):\n",
    "            if w >= wt[i-1]:\n",
    "                dp[i][w] = max(dp[i-1][w], dp[i-1][w-wt[i-1]]+val[i-1])\n",
    "            else:\n",
    "                dp[i][w] = dp[i-1][w]\n",
    "    \n",
    "    return dp[-1][-1]\n",
    "\n",
    "val = [5, 3, 4]\n",
    "wt = [3, 2, 1]\n",
    "W = 5\n",
    "n = len(val)\n",
    "print(knapSack(W, wt, val, n))"
   ]
  },
  {
   "cell_type": "code",
   "execution_count": null,
   "metadata": {
    "collapsed": true
   },
   "outputs": [],
   "source": []
  }
 ],
 "metadata": {
  "kernelspec": {
   "display_name": "Python 3",
   "language": "python",
   "name": "python3"
  },
  "language_info": {
   "codemirror_mode": {
    "name": "ipython",
    "version": 3
   },
   "file_extension": ".py",
   "mimetype": "text/x-python",
   "name": "python",
   "nbconvert_exporter": "python",
   "pygments_lexer": "ipython3",
   "version": "3.8.3"
  }
 },
 "nbformat": 4,
 "nbformat_minor": 2
}
