{
 "cells": [
  {
   "cell_type": "code",
   "execution_count": 2,
   "metadata": {
    "collapsed": true
   },
   "outputs": [],
   "source": [
    "class ArrayStack(object):\n",
    "    def __init__ (self):\n",
    "        self._data = []\n",
    "        \n",
    "    def __len__ (self):\n",
    "        return len(self._data)\n",
    "    \n",
    "    def is_empty(self):\n",
    "        return len(self._data) == 0\n",
    "    \n",
    "    def push(self, e):\n",
    "        self._data.append(e)\n",
    "        \n",
    "    def top(self):\n",
    "        if self.is_empty( ):\n",
    "            raise ValueError( 'Stack is empty' )\n",
    "        return self._data[-1]\n",
    "    def pop(self):\n",
    "        if self.is_empty( ):\n",
    "            raise ValueError( 'Stack is empty' )\n",
    "        return self._data.pop()\n",
    "    def printstack(self):\n",
    "        if self.is_empty( ):\n",
    "            raise ValueError( 'Stack is empty' )\n",
    "        for i in range(len(self._data)):\n",
    "            print(self._data[i], end = ' ')\n",
    "        print()\n",
    "        "
   ]
  },
  {
   "cell_type": "markdown",
   "metadata": {},
   "source": [
    "## Stack适用于操作一个数组，且题目的要求是数组元素之间有一定联系，比如抵消，修改之类"
   ]
  },
  {
   "cell_type": "markdown",
   "metadata": {},
   "source": [
    "### <a id='Ex2'>Ex.2 Stack Sorting</a>\n",
    "\n",
    "Write a program to sort a stack in ascending order. You should not make any assumptions about how the stack is implemented. The following are the only functions that should be used to write this program: push | pop | peek | isEmpty."
   ]
  },
  {
   "cell_type": "code",
   "execution_count": 6,
   "metadata": {},
   "outputs": [
    {
     "name": "stdout",
     "output_type": "stream",
     "text": [
      "size was:  0\n",
      "3 1 4 2 5 6 9 8 7 \n",
      "1 2 3 4 5 6 7 8 9 \n"
     ]
    }
   ],
   "source": [
    "def stack_sort(s):\n",
    "    r = ArrayStack()\n",
    "    while s.is_empty() == False:\n",
    "        tmp = s.pop()\n",
    "        while r.is_empty() == False and r.top() > tmp:\n",
    "            s.push(r.pop())\n",
    "        r.push(tmp)\n",
    "    return r\n",
    "\n",
    "mystack = ArrayStack()\n",
    "print ('size was: ', str(len(mystack)))\n",
    "mystack.push(3)\n",
    "mystack.push(1)\n",
    "mystack.push(4)\n",
    "mystack.push(2)\n",
    "mystack.push(5)\n",
    "mystack.push(6)\n",
    "mystack.push(9)\n",
    "mystack.push(8)\n",
    "mystack.push(7)\n",
    "mystack.printstack()\n",
    "\n",
    "r = stack_sort(mystack)\n",
    "r.printstack()"
   ]
  },
  {
   "cell_type": "markdown",
   "metadata": {
    "collapsed": true
   },
   "source": [
    "### <a id='Ex3'>Ex.3 Valid Parentheses</a>\n",
    "\n",
    "Given a string containing just the characters '(', ')', '{', '}', '[' and ']', determine if the input string is valid."
   ]
  },
  {
   "cell_type": "markdown",
   "metadata": {},
   "source": [
    "# Solution：\n",
    "[()] √\n",
    "([)] ×\n",
    "我们发现括号里面要么为空要么为完整的括号，这就符合了相邻抵消的特性，那么这就适用于stack。\n",
    "\n",
    "当出现a左括号，可以将其push进stack，当遇到a右括号的时候再将其pop出来。如果遇到([)]则会报错。"
   ]
  },
  {
   "cell_type": "code",
   "execution_count": 18,
   "metadata": {},
   "outputs": [
    {
     "data": {
      "text/plain": [
       "True"
      ]
     },
     "execution_count": 18,
     "metadata": {},
     "output_type": "execute_result"
    }
   ],
   "source": [
    "def valid_parentheses(string):\n",
    "    if string == None:\n",
    "        return True\n",
    "    if len(string) % 2 == 1:\n",
    "        return False\n",
    "    stack = []\n",
    "    for s in string:\n",
    "        if s == '(' or '[' or '{':\n",
    "            stack.append(s)\n",
    "        elif s == ')' and stack[-1] != '(':\n",
    "            return False\n",
    "        elif s == ']' and stack[-1] != '[':\n",
    "            return False\n",
    "        elif s == '}' and stack[-1] != '}':\n",
    "            return False\n",
    "        stack.pop()\n",
    "    return len(stack) == 0\n",
    "\n",
    "string = \"[]{}([{}]{})\"\n",
    "valid_parentheses(string)"
   ]
  },
  {
   "cell_type": "markdown",
   "metadata": {},
   "source": [
    "### <a id='Ex3'>Ex.4 Simplify Path</a>\n",
    "\n",
    "Given an absolute path for a file (Unix-style), simplify it.\n",
    "\n",
    "For example,\n",
    "\n",
    "path = \"/home/\" => \"/home\"\n",
    "\n",
    "path = \"/a/./b/../../c/\" => \"/c\""
   ]
  },
  {
   "cell_type": "markdown",
   "metadata": {},
   "source": [
    "# Solution:\n",
    "1. // or /./ 停留在原来的目录\n",
    "2. /../ 如果不是根目录，则退一级\n",
    "3. 其他字符则是push进去"
   ]
  },
  {
   "cell_type": "code",
   "execution_count": 34,
   "metadata": {},
   "outputs": [
    {
     "name": "stdout",
     "output_type": "stream",
     "text": [
      "/home\n",
      "/c/e/f\n"
     ]
    }
   ],
   "source": [
    "def simplify_path(string):\n",
    "    stack = []\n",
    "    splits = string.split('/')\n",
    "    for s in splits:\n",
    "        if s == '' or s == '.': # error: s == '' or '.' because '.' is true\n",
    "            continue\n",
    "        elif s == '..':\n",
    "            if len(stack) != 0:\n",
    "                stack.pop()\n",
    "            else:\n",
    "                continue\n",
    "        else:\n",
    "            stack.append(s)\n",
    "        \n",
    "    \n",
    "    return '/' + '/'.join(stack)\n",
    "\n",
    "path = \"/home/\"\n",
    "print(simplify_path(path))\n",
    "path = \"/a/./b/../../c/d/../e/f/g/../\"\n",
    "print(simplify_path(path))"
   ]
  },
  {
   "cell_type": "markdown",
   "metadata": {},
   "source": [
    "### <a id='Ex5'>Ex.5 Decode String</a>\n",
    "\n",
    "Given an encoded string, return it's decoded string.\n",
    "\n",
    "The encoding rule is: k[encoded_string], where the encoded_string inside the square brackets is being repeated exactly k times. Note that k is guaranteed to be a positive integer.\n",
    "\n",
    "You may assume that the input string is always valid; No extra white spaces, square brackets are well-formed, etc.\n",
    "\n",
    "Furthermore, you may assume that the original data does not contain any digits and that digits are only for those repeat numbers, k. For example, there won't be input like 3a or 2[4].\n",
    "\n",
    "Examples:\n",
    "\n",
    "s = \"3[a]2[bc]\", return \"aaabcbc\".\n",
    "\n",
    "s = \"3[a2[c]]\", return \"accaccacc\".\n",
    "\n",
    "s = \"2[abc]3[cd]ef\", return \"abcabccdcdcdef\"."
   ]
  },
  {
   "cell_type": "markdown",
   "metadata": {},
   "source": [
    "# Solution:\n",
    "这个题目属于嵌套的类型，优先需要解决最里面括号的内容，因此可以使用stack\n",
    "1. 往stack中添加的数据结构为pair，[string，nums]\n",
    "2. 当遇到数字的时候先计算nums，这里要考虑数字是非个位数的情况，因此需要读取[前的所有数字\n",
    "3. 当遇到 [ 的时候放入['', nums]\n",
    "4. 遇到string的时候，将其存入st中\n",
    "5. 当遇到 ] 的时候，对stack进行pop，根据nums和st，将st重复nums次并push进stack"
   ]
  },
  {
   "cell_type": "code",
   "execution_count": 36,
   "metadata": {},
   "outputs": [
    {
     "name": "stdout",
     "output_type": "stream",
     "text": [
      "aaabcbc\n",
      "accaccacc\n",
      "abcabccdcdcdef\n",
      "abababababababababababab\n"
     ]
    }
   ],
   "source": [
    "def decodeString(string):\n",
    "    stack = []\n",
    "    num = ''\n",
    "    stack.append(['', 1])\n",
    "    \n",
    "    for s in string:\n",
    "        if s.isdigit() == True:\n",
    "            num += s\n",
    "        elif s == '[':\n",
    "            stack.append(['', int(num)])\n",
    "            num = ''\n",
    "        elif s == ']':\n",
    "            tmp = stack.pop()\n",
    "            stack[-1][0] += tmp[0] * tmp[1]\n",
    "        else:\n",
    "            stack[-1][0] += s\n",
    "            \n",
    "    return stack[0][0]\n",
    "\n",
    "s = \"3[a]2[bc]\"\n",
    "print(decodeString(s))\n",
    "s = \"3[a2[c]]\"\n",
    "print(decodeString(s))\n",
    "s = \"2[abc]3[cd]ef\"\n",
    "print(decodeString(s))\n",
    "s = \"12[ab]\"\n",
    "print(decodeString(s))"
   ]
  },
  {
   "cell_type": "markdown",
   "metadata": {},
   "source": [
    "### <a id='Ex6'>Ex.6 Basketball Game</a>\n",
    "\n",
    "You're now a baseball game point recorder.\n",
    "\n",
    "Given a list of strings, each string can be one of the 4 following types:\n",
    "\n",
    "- Integer (one round's score): Directly represents the number of points you get in this round.\n",
    "- \"+\" (one round's score): Represents that the points you get in this round are the sum of the last two valid round's points.\n",
    "- \"D\" (one round's score): Represents that the points you get in this round are the doubled data of the last valid round's points.\n",
    "- \"C\" (an operation, which isn't a round's score): Represents the last valid round's points you get were invalid and should be removed.\n",
    "\n",
    "Each round's operation is permanent and could have an impact on the round before and the round after.\n",
    "\n",
    "You need to return the sum of the points you could get in all the rounds.\n",
    "\n",
    "Input: [\"5\",\"2\",\"C\",\"D\",\"+\"] \n",
    "\n",
    "Output: 30 \n",
    "\n",
    "- Round 1: You could get 5 points. The sum is: 5. \n",
    "\n",
    "- Round 2: You could get 2 points. The sum is: 7. Operation 1: The round 2's data was invalid. The sum is: 5. \n",
    "\n",
    "- Round 3: You could get 10 points (the round 2's data has been removed). The sum is: 15. \n",
    "\n",
    "- Round 4: You could get 5 + 10 = 15 points. \n",
    "\n",
    "- The sum is: 30.\n"
   ]
  },
  {
   "cell_type": "markdown",
   "metadata": {},
   "source": [
    "# Solution\n",
    "类似于计分型的题目都可以使用stack\n",
    "1. 遇到数字，push进stack\n",
    "2. 遇到C，pop\n",
    "3. 遇到+，pop -》 peek -》double -》push*2\n",
    "4. 遇到D，peek * 2 -》 push"
   ]
  },
  {
   "cell_type": "code",
   "execution_count": 41,
   "metadata": {},
   "outputs": [
    {
     "data": {
      "text/plain": [
       "30"
      ]
     },
     "execution_count": 41,
     "metadata": {},
     "output_type": "execute_result"
    }
   ],
   "source": [
    "def basketball_game(ops):\n",
    "    if len(ops) == 0:\n",
    "        return 0\n",
    "    stack = []\n",
    "    for op in ops:\n",
    "        if op.isdigit() == True:\n",
    "            stack.append(int(op))\n",
    "        elif op == 'C':\n",
    "            stack.pop()\n",
    "        elif op == '+':\n",
    "            if len(stack) >= 2:\n",
    "                stack.append(stack[-1] + stack[-2])\n",
    "            elif len(stack) == 1:\n",
    "                stack.append(stack[-1])\n",
    "            else:\n",
    "                continue\n",
    "        elif op == 'D':\n",
    "            stack.append(2*stack[-1])\n",
    "    return sum(stack)\n",
    "\n",
    "ops = [\"5\",\"2\",\"C\",\"D\",\"+\"]\n",
    "basketball_game(ops)"
   ]
  },
  {
   "cell_type": "markdown",
   "metadata": {},
   "source": [
    "# 碰撞类\n",
    "这种题目往往会有两类目标，比如左和右，大和小，特点是这两个类可以互相抵消（Ex.7），或者达成某种关系则修改一些什么（Ex.8-Ex.10）"
   ]
  },
  {
   "cell_type": "markdown",
   "metadata": {
    "collapsed": true
   },
   "source": [
    "### <a id='Ex7'>Ex.7  Asteroid Collision</a>\n",
    "\n",
    "We are given an array asteroids of integers representing asteroids in a row.\n",
    "\n",
    "For each asteroid, the absolute value represents its size, and the sign represents its direction (positive meaning right, negative meaning left). Each asteroid moves at the same speed.\n",
    "\n",
    "Find out the state of the asteroids after all collisions. If two asteroids meet, the smaller one will explode. If both are the same size, both will explode. Two asteroids moving in the same direction will never meet.\n",
    "\n",
    "Example 1:\n",
    "\n",
    "- Input: asteroids = [5, 10, -5] \n",
    "- Output: [5, 10] \n",
    "- Explanation: The 10 and -5 collide resulting in 10. The 5 and 10 never collide. \n",
    "\n",
    "Example 2:\n",
    "\n",
    "- Input: asteroids = [10, 2, -5] \n",
    "- Output: [10] \n",
    "- Explanation: The 2 and -5 collide resulting in -5. The 10 and -5 collide resulting in 10. \n",
    "\n",
    "Example 3:\n",
    "\n",
    "- Input: asteroids = [-2, -1, 1, 2]\n",
    "- Output: [-2, -1, 1, 2]\n",
    "- Explanation: The -2 and -1 are moving left, while the 1 and 2 are moving right.\n",
    "- Asteroids moving the same direction never meet, so no asteroids will meet each other.\n"
   ]
  },
  {
   "cell_type": "code",
   "execution_count": 55,
   "metadata": {},
   "outputs": [
    {
     "data": {
      "text/plain": [
       "[10]"
      ]
     },
     "execution_count": 55,
     "metadata": {},
     "output_type": "execute_result"
    }
   ],
   "source": [
    "def asteroid_collision(asteroids):\n",
    "    stack = []\n",
    "    rst = []\n",
    "    \n",
    "    for a in asteroids:\n",
    "        while a < 0:\n",
    "            if len(stack) > 0:\n",
    "                if stack[-1] < abs(a):\n",
    "                    stack.pop()\n",
    "                elif stack[-1] == abs(a):\n",
    "                    stack.pop()\n",
    "                    break\n",
    "                else:\n",
    "                    break\n",
    "            else:\n",
    "                rst.append(a)\n",
    "                break\n",
    "        else:\n",
    "            stack.append(a)\n",
    "    rst = rst + stack\n",
    "    \n",
    "    return rst\n",
    "\n",
    "asteroids = [5, 10, -5]\n",
    "asteroids = [10, 2, -5]\n",
    "# asteroids = [-2, -1, 1, 2]\n",
    "asteroid_collision(asteroids)\n",
    "                    "
   ]
  },
  {
   "cell_type": "markdown",
   "metadata": {},
   "source": [
    "### <a id='Ex8'>Ex.8 Next greater element I</a>\n",
    "给定一个数组，输出每个元素的下一个更大元素。数字 x 的下一个更大的元素是按数组遍历顺序，这个数字之后的第一个比它更大的数，这意味着你应该循环地搜索它的下一个更大的数。如果不存在，则输出 -1。\n",
    "输入: [1,2,1]\n",
    "输出: [2,-1,-1]"
   ]
  },
  {
   "cell_type": "code",
   "execution_count": 56,
   "metadata": {},
   "outputs": [
    {
     "data": {
      "text/plain": [
       "[15, 5, 15, 15, -1]"
      ]
     },
     "execution_count": 56,
     "metadata": {},
     "output_type": "execute_result"
    }
   ],
   "source": [
    "def next_great(nums):\n",
    "    if len(nums) == 0:\n",
    "        return []\n",
    "    rst = [-1] * len(nums)\n",
    "    stack = []\n",
    "    for i in range(len(nums)):\n",
    "        while len(stack) > 0 and nums[stack[-1]] < nums[i]:\n",
    "            rst[stack.pop()] = nums[i]\n",
    "        else:\n",
    "            stack.append(i)\n",
    "    \n",
    "    return rst\n",
    "\n",
    "array = [6, 4, 5, 2, 15]\n",
    "next_great(array)"
   ]
  },
  {
   "cell_type": "markdown",
   "metadata": {},
   "source": [
    "### <a id='Ex9'>Ex.9 Next greater element II</a>\n",
    "给定一个循环数组（最后一个元素的下一个元素是数组的第一个元素），输出每个元素的下一个更大元素。数字 x 的下一个更大的元素是按数组遍历顺序，这个数字之后的第一个比它更大的数，这意味着你应该循环地搜索它的下一个更大的数。如果不存在，则输出 -1。\n",
    "\n",
    "输入: [1,2,1]\n",
    "\n",
    "输出: [2,-1,2]\n",
    "\n",
    "解释: 第一个 1 的下一个更大的数是 2；\n",
    "\n",
    "数字 2 找不到下一个更大的数； \n",
    "\n",
    "第二个 1 的下一个最大的数需要循环搜索，结果也是 2。"
   ]
  },
  {
   "cell_type": "code",
   "execution_count": 57,
   "metadata": {},
   "outputs": [
    {
     "data": {
      "text/plain": [
       "[-1, 5, 15, 15, 16]"
      ]
     },
     "execution_count": 57,
     "metadata": {},
     "output_type": "execute_result"
    }
   ],
   "source": [
    "def next_great2(nums):\n",
    "    if len(nums) == 0:\n",
    "        return []\n",
    "    rst = [-1] * len(nums)\n",
    "    stack = []\n",
    "    for i in range(len(nums)):\n",
    "        while len(stack) > 0 and nums[stack[-1]] < nums[i]:\n",
    "            rst[stack.pop()] = nums[i]\n",
    "        else:\n",
    "            stack.append(i)\n",
    "    \n",
    "    for i in range(len(nums)):\n",
    "        while len(stack) > 0 and nums[stack[-1]] < nums[i]:\n",
    "            rst[stack.pop()] = nums[i]\n",
    "            \n",
    "    return rst\n",
    "\n",
    "array = [16, 4, 5, 2, 15]\n",
    "next_great2(array)"
   ]
  },
  {
   "cell_type": "markdown",
   "metadata": {},
   "source": [
    "### <a id='Ex10'>Ex.10 Daily Temperature</a>\n",
    "Given a list of daily temperatures, produce a list that, for each day in the input, tells you how many days you would have to wait until a warmer temperature. If there is no future day for which this is possible, put 0 instead.\n",
    "\n",
    "For example, given the list temperatures = [73, 74, 75, 71, 69, 72, 76, 73], your output should be [1, 1, 4, 2, 1, 1, 0, 0]."
   ]
  },
  {
   "cell_type": "code",
   "execution_count": 58,
   "metadata": {},
   "outputs": [
    {
     "data": {
      "text/plain": [
       "[1, 1, 4, 2, 1, 1, 0, 0]"
      ]
     },
     "execution_count": 58,
     "metadata": {},
     "output_type": "execute_result"
    }
   ],
   "source": [
    "def daily_temperature(temperatures):\n",
    "    if len(temperatures) == 0:\n",
    "        return []\n",
    "    rst = [0] * len(temperatures)\n",
    "    stack = []\n",
    "    \n",
    "    for i in range(len(temperatures)):\n",
    "        while len(stack) > 0 and temperatures[stack[-1]] < temperatures[i]:\n",
    "            idx = stack.pop()\n",
    "            rst[idx] = i - idx\n",
    "        else:\n",
    "            stack.append(i)\n",
    "    \n",
    "    return rst\n",
    "\n",
    "t = [73, 74, 75, 71, 69, 72, 76, 73]\n",
    "daily_temperature(t)"
   ]
  },
  {
   "cell_type": "code",
   "execution_count": null,
   "metadata": {
    "collapsed": true
   },
   "outputs": [],
   "source": []
  }
 ],
 "metadata": {
  "kernelspec": {
   "display_name": "Python 3",
   "language": "python",
   "name": "python3"
  },
  "language_info": {
   "codemirror_mode": {
    "name": "ipython",
    "version": 3
   },
   "file_extension": ".py",
   "mimetype": "text/x-python",
   "name": "python",
   "nbconvert_exporter": "python",
   "pygments_lexer": "ipython3",
   "version": "3.6.1"
  }
 },
 "nbformat": 4,
 "nbformat_minor": 2
}
