{
 "cells": [
  {
   "cell_type": "markdown",
   "metadata": {},
   "source": [
    "# Two Pointers"
   ]
  },
  {
   "cell_type": "markdown",
   "metadata": {},
   "source": [
    "Array is one of the fundamental blocks in algorithms. Since a string is just formed by an array of characters, they are both similar. Most interview questions fall into this category. And two pointers is one of the most used techniques to solve array/string problems.\n",
    "\n",
    "** 我们已经见过的Two Pointers相关的问题：**\n",
    "\n",
    "- Linked List: Find Middle Node \n",
    "\n",
    "- Linked List: Determine Cycle \n",
    "\n",
    "- Linked List: Find Cycle Start Point\n",
    "\n",
    "- Linked List: Find kth Element From End\n",
    "\n",
    "- Merge Sort\n",
    "\n",
    "- Partition: Quick Sort, Find Kth Largest Element \n"
   ]
  },
  {
   "cell_type": "markdown",
   "metadata": {},
   "source": [
    " ### <a id='Ex0'>Ex.0 Reverse List </a>"
   ]
  },
  {
   "cell_type": "code",
   "execution_count": 2,
   "metadata": {},
   "outputs": [
    {
     "data": {
      "text/plain": [
       "[7, 6, 5, 4, 3, 2, 1]"
      ]
     },
     "execution_count": 2,
     "metadata": {},
     "output_type": "execute_result"
    }
   ],
   "source": [
    "def reverseList(lst):\n",
    "    left, right = 0, len(lst) - 1\n",
    "    while left != right:\n",
    "        lst[left], lst[right] = lst[right], lst[left]\n",
    "        left += 1\n",
    "        right -= 1\n",
    "    return lst\n",
    "\n",
    "lst = [1,2,3,4,5,6,7]\n",
    "reverseList(lst)"
   ]
  },
  {
   "cell_type": "markdown",
   "metadata": {},
   "source": [
    "### <a id='Ex1'> Ex.1 Two Sum </a>\n",
    "Given an array of integers, find two numbers such that they add up to a specific target number."
   ]
  },
  {
   "cell_type": "code",
   "execution_count": 11,
   "metadata": {},
   "outputs": [
    {
     "data": {
      "text/plain": [
       "[1, 4]"
      ]
     },
     "execution_count": 11,
     "metadata": {},
     "output_type": "execute_result"
    }
   ],
   "source": [
    "# O(nlogn)\n",
    "def twoSum(arr, target):\n",
    "    lst = sorted(arr)\n",
    "    left, right = 0, len(arr) - 1\n",
    "    cur_sum = lst[left] + lst[right]\n",
    "    while left != right:\n",
    "        cur_sum = lst[left] + lst[right]\n",
    "        if cur_sum == target:\n",
    "            return [lst[left], lst[right]]\n",
    "        elif cur_sum < target:\n",
    "            left += 1\n",
    "        else:\n",
    "            right -= 1\n",
    "    return [-1,-1]\n",
    "\n",
    "num = [4,1,2,5,3,1,2]\n",
    "target = 5\n",
    "twoSum(num, target)"
   ]
  },
  {
   "cell_type": "code",
   "execution_count": 12,
   "metadata": {},
   "outputs": [
    {
     "data": {
      "text/plain": [
       "[1, 4]"
      ]
     },
     "execution_count": 12,
     "metadata": {},
     "output_type": "execute_result"
    }
   ],
   "source": [
    "# O(n)\n",
    "def twoSum(arr, target):\n",
    "    dic = {}\n",
    "    for i in range(len(arr)):\n",
    "        if arr[i] not in dic:\n",
    "            dic[target-arr[i]] = i\n",
    "        else:\n",
    "            idx = dic[arr[i]]\n",
    "            return [arr[i], arr[idx]]\n",
    "        \n",
    "    return []\n",
    "\n",
    "num = [4,1,2,5,3,1,2]\n",
    "target = 5\n",
    "twoSum(num, target)"
   ]
  },
  {
   "cell_type": "markdown",
   "metadata": {},
   "source": [
    "### <a id='Ex2'> Ex.2 Three Sum  </a>\n",
    "\n",
    "Given an array S of n integers, are there elements a, b, c in S such that a + b + c = 0? Find all unique triplets in the array which gives the sum of zero."
   ]
  },
  {
   "cell_type": "code",
   "execution_count": 16,
   "metadata": {},
   "outputs": [
    {
     "data": {
      "text/plain": [
       "[[-4, 2, 2], [-1, -1, 2], [-1, 0, 1]]"
      ]
     },
     "execution_count": 16,
     "metadata": {},
     "output_type": "execute_result"
    }
   ],
   "source": [
    "def threeSum(nums):\n",
    "    nums.sort()\n",
    "    rst = []\n",
    "    if len(nums) < 3:\n",
    "        return []\n",
    "    for i in range(len(nums) - 2):\n",
    "        if i > 0 and nums[i] == nums[i-1]:\n",
    "            continue\n",
    "        l, r = i+1, len(nums)-1\n",
    "        while l < r:\n",
    "            cur_sum = nums[i] + nums[l] + nums[r]\n",
    "            if cur_sum == 0:\n",
    "                rst.append([nums[i], nums[l], nums[r]])\n",
    "                while l < r and nums[l] == nums[l+1]:\n",
    "                    l += 1\n",
    "                while l < r and nums[r] == nums[r-1]:\n",
    "                    r -= 1\n",
    "                l += 1\n",
    "                r -= 1\n",
    "            elif cur_sum < 0:\n",
    "                l += 1\n",
    "            else:\n",
    "                r -= 1\n",
    "    \n",
    "    return rst\n",
    "\n",
    "nums = [-1, 0, 1, 2, -1, -4, 2, -1, 2]\n",
    "threeSum(nums)"
   ]
  },
  {
   "cell_type": "markdown",
   "metadata": {},
   "source": [
    "### <a id='Ex3'> Ex.3 Four Sum  </a>\n",
    "\n",
    "Given an array S of n integers, are there elements a, b, c, d in S such that a + b + c + d = 0? Find all unique combinations in the array which gives the sum of zero."
   ]
  },
  {
   "cell_type": "code",
   "execution_count": 21,
   "metadata": {},
   "outputs": [
    {
     "data": {
      "text/plain": [
       "[[-4, 0, 2, 2], [-1, -1, 0, 2]]"
      ]
     },
     "execution_count": 21,
     "metadata": {},
     "output_type": "execute_result"
    }
   ],
   "source": [
    "def fourSum(nums):\n",
    "    nums.sort()\n",
    "    if len(nums) < 4:\n",
    "        return []\n",
    "    rst = []\n",
    "    \n",
    "    for i in range(len(nums) - 3):\n",
    "        if i > 0 and nums[i] == nums[i-1]:\n",
    "            continue\n",
    "        for j in range(i+1, len(nums)-2):\n",
    "            if j > i+1 and nums[j] == nums[j-1]:\n",
    "                continue\n",
    "            l, r = j+1, len(nums)-1\n",
    "            while l < r:\n",
    "                cur_sum = nums[i] + nums[j] + nums[l] + nums[r]\n",
    "                if cur_sum == 0:\n",
    "                    rst.append([nums[i], nums[j], nums[l], nums[r]])\n",
    "                    while l < r and nums[l] == nums[l+1]:\n",
    "                        l += 1\n",
    "                    while l < r and nums[r] == nums[r-1]:\n",
    "                        r -= 1\n",
    "                    l += 1\n",
    "                    r -= 1\n",
    "                elif cur_sum < 0:\n",
    "                    l += 1\n",
    "                else:\n",
    "                    r -= 1\n",
    "    \n",
    "    return rst\n",
    "\n",
    "nums = [-1, 0, 1, 2, -1, -4, 2, -1, 2]\n",
    "fourSum(nums)"
   ]
  },
  {
   "cell_type": "markdown",
   "metadata": {},
   "source": [
    "# Solution2:\n",
    "可以先用dict去存储nums中任意两个数的和及这两个数，{num[p]+num[q] : (p, q)}；然后对num两层遍历，在dict中找到target-num[i]-num[j]；同时为了\n",
    "\n",
    "保证不重复，所以针对dict中提取的第一个数下标即q得大于j。因为这样可以保证i一定是第一个数，j为第二个数，p,q分别为第三和第四个数；\n",
    "\n",
    "同时，由于res是set，也可以避免重复"
   ]
  },
  {
   "cell_type": "code",
   "execution_count": 30,
   "metadata": {},
   "outputs": [
    {
     "data": {
      "text/plain": [
       "[[-1, -1, 2, 2], [-4, 0, 2, 2]]"
      ]
     },
     "execution_count": 30,
     "metadata": {},
     "output_type": "execute_result"
    }
   ],
   "source": [
    "def fourSum(nums):\n",
    "    nums.sort()\n",
    "    if len(nums) < 4:\n",
    "        return []\n",
    "    dic = {}\n",
    "    rst = set()\n",
    "    \n",
    "    for p in range(len(nums)-1):\n",
    "        for q in range(p+1, len(nums)):\n",
    "            s = nums[p] + nums[q]\n",
    "            if s not in dic:\n",
    "                dic[s] = [(p, q)]\n",
    "            else:\n",
    "                dic[s].append((p, q))\n",
    "    \n",
    "    for i in range(len(nums)-1):\n",
    "        for j in range(i+1, len(nums)):\n",
    "            compen = 0 - nums[i] - nums[j]\n",
    "            if compen in dic:\n",
    "                for k in dic[compen]:\n",
    "                    if k[0] > j:\n",
    "                        rst.add((nums[i], nums[j], nums[p], nums[q]))\n",
    "                        \n",
    "    return [list(i) for i in rst]\n",
    "\n",
    "nums = [-1, 0, 1, 2, -1, -4, 2, -1, 2]\n",
    "fourSum(nums)"
   ]
  },
  {
   "cell_type": "markdown",
   "metadata": {},
   "source": [
    "### <a id='Ex5'> Ex.5 Minimum Difference Between Two Sorted Arrays </a>\n",
    "\n",
    "Given two arrays sorted in ascending order, find the absolute minimum difference between any pair of elements |a-b| such that a is from one array and b is from another array."
   ]
  },
  {
   "cell_type": "code",
   "execution_count": 31,
   "metadata": {},
   "outputs": [
    {
     "data": {
      "text/plain": [
       "0"
      ]
     },
     "execution_count": 31,
     "metadata": {},
     "output_type": "execute_result"
    }
   ],
   "source": [
    "def minDifference(arr1, arr2):\n",
    "    if len(arr1) == 0 or len(arr2) == 0:\n",
    "        return -1\n",
    "    p1 = p2 = 0\n",
    "    min_diff = 0x7fffffff\n",
    "    \n",
    "    while p1 < len(arr1) and p2 < len(arr2):\n",
    "        diff = arr1[p1] - arr2[p2]\n",
    "        min_diff = min(min_diff, abs(diff))\n",
    "        if diff == 0:\n",
    "            return 0\n",
    "        elif diff < 0:\n",
    "            p1 += 1\n",
    "        else:\n",
    "            p2 += 1\n",
    "    \n",
    "    return min_diff\n",
    "\n",
    "arr1 = [1,3,6,8,9]\n",
    "arr2 = [4,7,8,10]\n",
    "minDifference(arr1, arr2)         \n",
    "        "
   ]
  },
  {
   "cell_type": "markdown",
   "metadata": {},
   "source": [
    "### <a id='Ex6'> Ex. 6 Continuous Maximum Subarray </a>\n",
    "\n",
    "Given an array having N positive integers, find the contiguous subarray having sum as great as possible, but not greater than M."
   ]
  },
  {
   "cell_type": "markdown",
   "metadata": {},
   "source": [
    "# Solution:\n",
    "使用two pointers的做法，一前一后两个指针，当区间和小于celling的时候，前指针前进，反之就后指针前进"
   ]
  },
  {
   "cell_type": "code",
   "execution_count": 35,
   "metadata": {},
   "outputs": [
    {
     "data": {
      "text/plain": [
       "[12, 1, 2]"
      ]
     },
     "execution_count": 35,
     "metadata": {},
     "output_type": "execute_result"
    }
   ],
   "source": [
    "def maxSubarray(arr, M):\n",
    "    if len(arr) == 0:\n",
    "        return arr\n",
    "    head = tail = 0\n",
    "    cur_sum = arr[0]\n",
    "    maximun = 0\n",
    "    subarr = [head, tail]\n",
    "    \n",
    "    while head < len(arr) and tail < len(arr):\n",
    "        if head > tail:\n",
    "            tail = head\n",
    "            cur_sum = arr[head]\n",
    "        if cur_sum == M:\n",
    "            return arr[head:tail+1]\n",
    "        elif cur_sum < M:\n",
    "            if cur_sum > maximun:\n",
    "                maximun = cur_sum\n",
    "                subarr[0] = head\n",
    "                subarr[1] = tail\n",
    "            tail += 1\n",
    "            if tail < len(arr):\n",
    "                cur_sum += arr[tail]\n",
    "        else:\n",
    "            cur_sum -= arr[head]\n",
    "            head += 1\n",
    "            \n",
    "        \n",
    "    return arr[subarr[0]:subarr[1]+1]\n",
    "\n",
    "a = [4, 7, 12, 1, 2, 3, 6]\n",
    "m = 16\n",
    "maxSubarray(a, m)"
   ]
  },
  {
   "cell_type": "markdown",
   "metadata": {},
   "source": [
    "# Two Pointers II "
   ]
  },
  {
   "cell_type": "markdown",
   "metadata": {},
   "source": [
    "### <a id='Ex1'> Ex.1 Majority Element </a>\n",
    "\n",
    "Given an array of size n, find the majority element. The majority element is the element that appears more than ⌊ n/2 ⌋ times."
   ]
  },
  {
   "cell_type": "markdown",
   "metadata": {},
   "source": [
    "# Solution1:\n",
    "排序法：由于主元素出现次数超过一半，因此只需要排序好后取中间元素即可 O(nlogn)\n",
    "# Solution2：\n",
    "HashTable:O(n)\n",
    "# Solution3:\n",
    "Boyer-Moore Voting Algorithm 同归于尽算法：两个两个元素取，如果两个元素不同就两个都删掉，相同就留下，最后剩下的一定是主元素\n"
   ]
  },
  {
   "cell_type": "code",
   "execution_count": null,
   "metadata": {
    "collapsed": true
   },
   "outputs": [],
   "source": [
    "# Boyer-Moore Voting Algorithm\n",
    "# 维护一个count和一个candidate,遍历整个数组，如果count为0则将candidate变成当前元素i同时count+1，\n",
    "# 如果count不为零，如果当前元素与candidate相同则count+1,否则count-1\n",
    "\n",
    "def majority(arr):\n",
    "    count = 0\n",
    "    candidate = 0\n",
    "    for i in arr:\n",
    "        if count == 0:\n",
    "            count = 1\n",
    "            candidate = i\n",
    "        else:\n",
    "            if candidate == i:\n",
    "                count += 1\n",
    "            else:\n",
    "                count -= 1\n",
    "    return candidate\n",
    "\n"
   ]
  },
  {
   "cell_type": "markdown",
   "metadata": {},
   "source": [
    "### <a id='Ex2'> Ex.2 Majority Element II </a>\n",
    "\n",
    "Given an integer array of size n, find all elements that appear more than ⌊ n/3 ⌋ times."
   ]
  },
  {
   "cell_type": "code",
   "execution_count": null,
   "metadata": {
    "collapsed": true
   },
   "outputs": [],
   "source": [
    "from collections import Counter\n",
    "\n",
    "def majority2(arr):\n",
    "    counter = Counter(arr)\n",
    "    for k, v in counter.items():\n",
    "        "
   ]
  }
 ],
 "metadata": {
  "kernelspec": {
   "display_name": "Python 3",
   "language": "python",
   "name": "python3"
  },
  "language_info": {
   "codemirror_mode": {
    "name": "ipython",
    "version": 3
   },
   "file_extension": ".py",
   "mimetype": "text/x-python",
   "name": "python",
   "nbconvert_exporter": "python",
   "pygments_lexer": "ipython3",
   "version": "3.6.1"
  }
 },
 "nbformat": 4,
 "nbformat_minor": 2
}
