{
 "cells": [
  {
   "cell_type": "code",
   "execution_count": 3,
   "metadata": {},
   "outputs": [
    {
     "data": {
      "text/plain": [
       "[[2, 6], [4, 4]]"
      ]
     },
     "execution_count": 3,
     "metadata": {},
     "output_type": "execute_result"
    }
   ],
   "source": [
    "def twoSum(nums, x): \n",
    "    if len(nums) < 2:\n",
    "        return []\n",
    "    \n",
    "    rst = []\n",
    "    # v: (i, flag)\n",
    "    dic = {}\n",
    "    \n",
    "    for i in range(len(nums)):\n",
    "        if nums[i] in dic:\n",
    "            if dic[nums[i]][1] == False:\n",
    "                rst.append([nums[dic[nums[i]][0]], nums[i]])\n",
    "                dic[nums[i]][1] = True\n",
    "                dic[x-nums[i]] = [i, True]\n",
    "        else:\n",
    "            dic[x-nums[i]] = [i, False]\n",
    "    \n",
    "    return rst\n",
    "\n",
    "nums = [2,6,4,2,6,4]\n",
    "x = 8\n",
    "twoSum(nums, x)"
   ]
  },
  {
   "cell_type": "code",
   "execution_count": null,
   "metadata": {
    "collapsed": true
   },
   "outputs": [],
   "source": []
  }
 ],
 "metadata": {
  "kernelspec": {
   "display_name": "Python 3",
   "language": "python",
   "name": "python3"
  },
  "language_info": {
   "codemirror_mode": {
    "name": "ipython",
    "version": 3
   },
   "file_extension": ".py",
   "mimetype": "text/x-python",
   "name": "python",
   "nbconvert_exporter": "python",
   "pygments_lexer": "ipython3",
   "version": "3.6.1"
  }
 },
 "nbformat": 4,
 "nbformat_minor": 4
}
