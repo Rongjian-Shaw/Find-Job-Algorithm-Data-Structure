{
 "cells": [
  {
   "cell_type": "markdown",
   "metadata": {},
   "source": [
    "### Ex.2: Binary Search Template\n",
    "\n",
    "Remember? ** Template! **"
   ]
  },
  {
   "cell_type": "code",
   "execution_count": 9,
   "metadata": {
    "collapsed": true
   },
   "outputs": [],
   "source": [
    "def binarysearch(alist, item):\n",
    "#     第一步：判断数组是否为空，因为如果为空的话，下方的循环是可以执行的\n",
    "    if(len(alist)==0): \n",
    "        return -1\n",
    "    left, right = 0, len(alist)-1\n",
    "#     第二步：循环的判断条件这么写方便做后面的判断\n",
    "    while left + 1 < right:\n",
    "        mid = left + (right - left) // 2\n",
    "#     第三步：根据题目的不同可以修改判断条件\n",
    "        if alist[mid] == item:\n",
    "            right = mid\n",
    "        elif alist[mid] < item:\n",
    "            left = mid\n",
    "        elif alist[mid] > item:\n",
    "            right = mid\n",
    "#     第四步：兜底，也是根据题目的不同方便修改\n",
    "    if alist[left] == item:\n",
    "        return left\n",
    "    if alist[right] == item:\n",
    "        return right\n",
    "    \n",
    "    return -1"
   ]
  },
  {
   "cell_type": "markdown",
   "metadata": {},
   "source": [
    "### Ex.3 Find Min in Rotated Sorted Array\n",
    "\n",
    "Suppose an array sorted in ascending order is rotated at some pivot unknown to you beforehand. Find the minimum element."
   ]
  },
  {
   "cell_type": "code",
   "execution_count": 19,
   "metadata": {},
   "outputs": [
    {
     "data": {
      "text/plain": [
       "1"
      ]
     },
     "execution_count": 19,
     "metadata": {},
     "output_type": "execute_result"
    }
   ],
   "source": [
    "def rotatedMin(nums):\n",
    "    if len(nums) < 0:\n",
    "        return -1\n",
    "    left, right = 0, len(nums) - 1\n",
    "    while left+1 < right:\n",
    "        mid = left + (right - left) // 2\n",
    "        if nums[mid] == nums[left]:\n",
    "            right = mid\n",
    "        elif nums[mid] > nums[left]:\n",
    "            left = mid\n",
    "        else:\n",
    "            right = mid\n",
    "    if nums[left] < nums[right]:\n",
    "        return nums[left]\n",
    "    else:\n",
    "        return nums[right]\n",
    "\n",
    "alist = [7,8,9,1,2,3,4,5,6]\n",
    "rotatedMin(alist)"
   ]
  },
  {
   "cell_type": "markdown",
   "metadata": {},
   "source": [
    "### Ex.4 Find in Rotated Array"
   ]
  },
  {
   "cell_type": "code",
   "execution_count": 33,
   "metadata": {},
   "outputs": [
    {
     "name": "stdout",
     "output_type": "stream",
     "text": [
      "4\n",
      "2\n",
      "3\n",
      "3\n"
     ]
    }
   ],
   "source": [
    "def findRotated(nums, t):\n",
    "    left, right = 0, len(nums) - 1\n",
    "    while left+1 < right:\n",
    "        mid = left + (right-left) // 2\n",
    "        print(mid)\n",
    "        if nums[mid] > nums[left]:\n",
    "            if nums[left] <= t <= nums[mid]:\n",
    "                right = mid\n",
    "            else:\n",
    "                left = mid\n",
    "        else:\n",
    "            if nums[mid] <= t <= nums[right]:\n",
    "                left = mid\n",
    "            else:\n",
    "                right = mid\n",
    "    if nums[left] == t:\n",
    "        return left\n",
    "    if nums[right] == t:\n",
    "        return right\n",
    "\n",
    "alist = [7,8,9,1,2,3,4,5,6]\n",
    "print(findRotated(alist, 1))\n",
    "                \n",
    "    "
   ]
  },
  {
   "cell_type": "markdown",
   "metadata": {},
   "source": [
    "### Ex.5 Search Insert Position  \n",
    "\n",
    "Given a sorted array and a target value, return the index if the target is found. If not, return the index where it would be if it were inserted in order. You may assume no duplicates in the array"
   ]
  },
  {
   "cell_type": "code",
   "execution_count": 3,
   "metadata": {},
   "outputs": [
    {
     "data": {
      "text/plain": [
       "4"
      ]
     },
     "execution_count": 3,
     "metadata": {},
     "output_type": "execute_result"
    }
   ],
   "source": [
    "def findInsert(nums, target):\n",
    "    if len(nums) < 0:\n",
    "        return 0\n",
    "    left, right = 0, len(nums)-1\n",
    "    while left+1 < right:\n",
    "        mid = left + (right-left) // 2\n",
    "        if target == nums[mid]:\n",
    "            right = mid\n",
    "        elif target > nums[mid]:\n",
    "            left = mid\n",
    "        else:\n",
    "            right = mid\n",
    "    \n",
    "    if target <= nums[left]:\n",
    "        return left\n",
    "    elif target <= nums[right]:\n",
    "        return right\n",
    "    else:\n",
    "        return right + 1\n",
    "\n",
    "alist = [1,2,3,4,6,7,8,9]\n",
    "target = 5\n",
    "findInsert(alist, target)"
   ]
  },
  {
   "cell_type": "markdown",
   "metadata": {},
   "source": [
    "### Ex.6  Find the starting and ending position of a given target value."
   ]
  },
  {
   "cell_type": "markdown",
   "metadata": {},
   "source": [
    "### Ex.7 Search in Sorted Array with Empty Strings\n",
    "\n",
    "Given a sorted array of strings which is interspersed with empty strings, write a meth­od to find the location of a given string."
   ]
  },
  {
   "cell_type": "markdown",
   "metadata": {},
   "source": [
    "### Ex.1: Heaters\n",
    "\n",
    "Winter is coming! Your first job during the contest is to design a standard heater with fixed warm radius to warm all the houses.\n",
    "\n",
    "Now, you are given positions of houses and heaters on a horizontal line, find out minimum radius of heaters so that all houses could be covered by those heaters.\n",
    "\n",
    "So, your input will be the positions of houses and heaters seperately, and your expected output will be the minimum radius standard of heaters.\n",
    "\n",
    "** Note: **\n",
    "\n",
    "Numbers of houses and heaters you are given are non-negative and will not exceed 25000.\n",
    "\n",
    "Positions of houses and heaters you are given are non-negative and will not exceed 10^9.\n",
    "\n",
    "As long as a house is in the heaters' warm radius range, it can be warmed.\n",
    "\n",
    "All the heaters follow your radius standard and the warm radius will the same.\n",
    "\n",
    "** Example 1: **\n",
    "\n",
    "Input: [1,2,3],[2]\n",
    "\n",
    "Output: 1\n",
    "\n",
    "Explanation: The only heater was placed in the position 2, and if we use the radius 1 standard, then all the houses can be warmed.\n",
    "\n",
    "** Example 2: **\n",
    "\n",
    "Input: [1,2,3,4],[1,4]\n",
    "\n",
    "Output: 1\n",
    "\n",
    "Explanation: The two heater was placed in the position 1 and 4. We need to use radius 1 standard, then all the houses can be warmed."
   ]
  },
  {
   "cell_type": "markdown",
   "metadata": {
    "collapsed": true,
    "run_control": {
     "frozen": false,
     "read_only": false
    }
   },
   "source": [
    "\n",
    "** Solution **\n",
    "The idea is to leverage decent bisect function provided by Python.\n",
    "\n",
    "For each house, find its position between those heaters (thus we need the heaters array to be sorted).\n",
    "\n",
    "Calculate the distances between this house and left heater and right heater, get a MIN value of those two values. Corner cases are there is no left or right heater.\n",
    "\n",
    "Get MAX value among distances in step 2. It’s the answer."
   ]
  },
  {
   "cell_type": "code",
   "execution_count": 13,
   "metadata": {},
   "outputs": [
    {
     "data": {
      "text/plain": [
       "1"
      ]
     },
     "execution_count": 13,
     "metadata": {},
     "output_type": "execute_result"
    }
   ],
   "source": [
    "# To find the idx of element, where t should insert in\n",
    "def bisect(alist, t):\n",
    "    left, right = 0, len(alist)-1\n",
    "    while left+1 < right:\n",
    "        mid = left + (right-left) // 2\n",
    "        if alist[mid] == t:\n",
    "            right = mid\n",
    "        elif alist[mid] > t:\n",
    "            right = mid\n",
    "        else:\n",
    "            left = mid\n",
    "    \n",
    "    if t < alist[left]:\n",
    "        return left\n",
    "    elif t < alist[right]:\n",
    "        return right\n",
    "    else:\n",
    "        return right + 1\n",
    "    \n",
    "\n",
    "alist = [1,2,3,4,6,7,8,9]\n",
    "t = 5 \n",
    "bisect(alist, t)\n",
    "\n",
    "def heater_radius(houses, heater):\n",
    "    heater.sort()\n",
    "    rst = 0\n",
    "    for i in range(len(houses)):\n",
    "        h = bisect(heater, houses[i])\n",
    "        left = heater[h-1] if h-1>=0 else -999 # error: h-1>0\n",
    "        right = heater[h] if h<len(heater) else 999\n",
    "        rst = max(rst, min(abs(houses[i]-left), abs(houses[i]-right)))\n",
    "    return rst\n",
    "\n",
    "houses = [1,2,3,4]\n",
    "heater = [1,4]\n",
    "heater_radius(houses, heater)"
   ]
  },
  {
   "cell_type": "markdown",
   "metadata": {},
   "source": [
    "### Ex.2: sqrt(x)\n",
    "\n",
    "Implement int sqrt(int x).\n",
    "\n",
    "Compute and return the square root of x.\n",
    "\n",
    "x is guaranteed to be a non-negative integer."
   ]
  },
  {
   "cell_type": "code",
   "execution_count": 1,
   "metadata": {},
   "outputs": [
    {
     "data": {
      "text/plain": [
       "16"
      ]
     },
     "execution_count": 1,
     "metadata": {},
     "output_type": "execute_result"
    }
   ],
   "source": [
    "def sqrt(x):\n",
    "    if x == 0:\n",
    "        return 0\n",
    "    left, right = 0, x\n",
    "    while left+1 < right:\n",
    "        mid = left + (right-left) // 2\n",
    "        if mid**2 == x:\n",
    "            return mid\n",
    "        elif mid**2 < x:\n",
    "            left = mid\n",
    "        else:\n",
    "            right = mid\n",
    "    \n",
    "    if left**2 == x:\n",
    "        return left\n",
    "    elif right**2 == x:\n",
    "        return right\n",
    "    else:\n",
    "        return -1\n",
    "\n",
    "def sqrt(x):\n",
    "    left, right = 1, x\n",
    "    while left < right:\n",
    "        mid = left + (right-left) // 2\n",
    "        if mid**2 == x:\n",
    "            return mid\n",
    "        elif mid**2 < x:\n",
    "            left = mid\n",
    "        else:\n",
    "            right = mid\n",
    "    return right\n",
    "\n",
    "sqrt(256)"
   ]
  },
  {
   "cell_type": "markdown",
   "metadata": {},
   "source": [
    "### Ex.3: Kth Smallest Element in a Sorted Matrix\n",
    "\n",
    "Given a n x n matrix where each of the rows and columns are sorted in ascending order, find the kth smallest element in the matrix.\n",
    "\n",
    "Note that it is the kth smallest element in the sorted order, not the kth distinct element."
   ]
  },
  {
   "cell_type": "code",
   "execution_count": 7,
   "metadata": {},
   "outputs": [
    {
     "data": {
      "text/plain": [
       "6"
      ]
     },
     "execution_count": 7,
     "metadata": {},
     "output_type": "execute_result"
    }
   ],
   "source": [
    "from bisect import bisect\n",
    "def find_in_matrix(mat, t):\n",
    "    if len(mat) < 0:\n",
    "        return -1\n",
    "    lo, hi = mat[0][0], mat[-1][-1]\n",
    "    while lo < hi:\n",
    "        mid = lo + (hi-lo) // 2\n",
    "        if sum(bisect(row, mid) for row in mat) < t:\n",
    "            lo = mid + 1\n",
    "        else:\n",
    "            hi = mid\n",
    "    return lo\n",
    "\n",
    "mat = [\n",
    "    [1, 4, 8, 10,15],\n",
    "    [3, 5, 6, 7, 20],\n",
    "    [9, 20,22,24,29],\n",
    "    [11,22,23,29,39]\n",
    "]\n",
    "t = 5\n",
    "find_in_matrix(mat, t)"
   ]
  },
  {
   "cell_type": "markdown",
   "metadata": {},
   "source": [
    "### Ex.4: Find the Duplicate Number\n",
    "\n",
    "Given an array nums containing n + 1 integers where each integer is between 1 and n (inclusive), prove that at least one duplicate number must exist. Assume that there is only one duplicate number, find the duplicate one.\n",
    "\n",
    "Note:\n",
    "\n",
    "You must not modify the array (assume the array is read only).\n",
    "\n",
    "You must use only constant, O(1) extra space.\n",
    "\n",
    "Your runtime complexity should be less than O(n2).\n",
    "\n",
    "There is only one duplicate number in the array, but it could be repeated more than once.\n"
   ]
  },
  {
   "cell_type": "code",
   "execution_count": 5,
   "metadata": {},
   "outputs": [
    {
     "data": {
      "text/plain": [
       "3"
      ]
     },
     "execution_count": 5,
     "metadata": {},
     "output_type": "execute_result"
    }
   ],
   "source": [
    "def dup_num(nums):\n",
    "    low, high = 1, len(nums)-1\n",
    "    while low < high:\n",
    "        count = 0\n",
    "        mid = low + (high-low) // 2\n",
    "        for num in nums:\n",
    "            if num <= mid:\n",
    "                count += 1\n",
    "        if count > mid:\n",
    "            high = mid\n",
    "        else:\n",
    "            low = mid + 1 # 这里+1是因为如果count==mid, 那dup一定是比mid大的，比如1，2，3，4，4，5，6\n",
    "    return low\n",
    "\n",
    "nums = [3,5,6,3,1,4,2]\n",
    "dup_num(nums)"
   ]
  },
  {
   "cell_type": "markdown",
   "metadata": {
    "run_control": {
     "frozen": false,
     "read_only": false
    }
   },
   "source": [
    "### Ex.1: Merge Intervals\n",
    "\n",
    "Given a collection of intervals, merge all overlapping intervals.\n",
    "\n",
    "<img src=\"../images/ch05/mergeinterval.png\" width=\"580\"/>"
   ]
  },
  {
   "cell_type": "code",
   "execution_count": 7,
   "metadata": {},
   "outputs": [
    {
     "data": {
      "text/plain": [
       "[[1, 6], [8, 10]]"
      ]
     },
     "execution_count": 7,
     "metadata": {},
     "output_type": "execute_result"
    }
   ],
   "source": [
    "def merge_interval(alist):\n",
    "    alist.sort(key=lambda x:x[0])\n",
    "    merge = []\n",
    "    for i in range(len(alist)):\n",
    "        if len(merge)==0 or merge[-1][1]<alist[i][0]:\n",
    "            merge.append(alist[i])\n",
    "        else:\n",
    "            merge[-1][1] = alist[i][1]\n",
    "    return merge\n",
    "\n",
    "alist = [[1,3], [2,6], [8,10]]\n",
    "merge_interval(alist)"
   ]
  },
  {
   "cell_type": "markdown",
   "metadata": {},
   "source": [
    "## 优化：in_place\n",
    "只使用内部空间"
   ]
  },
  {
   "cell_type": "code",
   "execution_count": 3,
   "metadata": {},
   "outputs": [
    {
     "data": {
      "text/plain": [
       "[[1, 4], [5, 8]]"
      ]
     },
     "execution_count": 3,
     "metadata": {},
     "output_type": "execute_result"
    }
   ],
   "source": [
    "def merge_in_place(intervals):\n",
    "    # 传入的intervals为二维列表，第二维的大小为2，如[[1,2],[3,4]]\n",
    "    # 确保区间之间的有序，根据每个区间的start排序\n",
    "    intervals.sort(key = lambda x:x[0])\n",
    "    flag = 0 # 0表示前后不重合，1表示重合\n",
    "    for i in range(0, len(intervals) - 1):\n",
    "        # 由于在intervals内部操作，intervals会一直变小，因此需要判断是否已经遍历完intervals\n",
    "        if len(intervals) - 1 - i <= 0: # error: <\n",
    "            break\n",
    "        # 两不相交\n",
    "        if intervals[i][1] < intervals[i+1][0]:\n",
    "            continue\n",
    "        # 需要合并的情况\n",
    "        else:\n",
    "            # 相交不包含\n",
    "            if intervals[i][1] < intervals[i+1][1]:\n",
    "                intervals[i][1] = intervals[i+1][1]   \n",
    "            # 不管包含与否都要删除后面那个区间\n",
    "            intervals.remove(intervals[i+1])\n",
    "            # i一定要回退一位，因为remove掉后面的区间后i再+1的话会跳到原来的下下个区间，\n",
    "            # 比如[[1,3],[2,4],[5,7],[6,8]], i在[1,3]的时候发现要remove[2,4]，remove后变成[[1,4],[5,7],[6,8]]，而此时i指在[1,4]上面\n",
    "            # 到下一轮循环的时候，i会指到[5,7]，而我们是希望i指在[1,4]然后去判断[1,4]和[5,7]的关系，因此i一定要回退\n",
    "            i = i - 1\n",
    "    return intervals\n",
    "\n",
    "intervals = [[2,4],[1,3],[5,7],[6,8]]\n",
    "merge_in_place(intervals)       "
   ]
  },
  {
   "cell_type": "markdown",
   "metadata": {},
   "source": [
    "### Ex.14: Insert Intervals\n",
    "    \n",
    "Given a set of non-overlapping intervals, insert a new interval into the intervals (merge if necessary).\n",
    "\n",
    "You may assume that the intervals were initially sorted according to their start times.\n",
    "\n",
    "<img src=\"../images/ch05/insertinterval.png\" width=\"580\"/>"
   ]
  },
  {
   "cell_type": "code",
   "execution_count": null,
   "metadata": {
    "collapsed": true
   },
   "outputs": [],
   "source": []
  }
 ],
 "metadata": {
  "kernelspec": {
   "display_name": "Python 3",
   "language": "python",
   "name": "python3"
  },
  "language_info": {
   "codemirror_mode": {
    "name": "ipython",
    "version": 3
   },
   "file_extension": ".py",
   "mimetype": "text/x-python",
   "name": "python",
   "nbconvert_exporter": "python",
   "pygments_lexer": "ipython3",
   "version": "3.6.1"
  }
 },
 "nbformat": 4,
 "nbformat_minor": 4
}
