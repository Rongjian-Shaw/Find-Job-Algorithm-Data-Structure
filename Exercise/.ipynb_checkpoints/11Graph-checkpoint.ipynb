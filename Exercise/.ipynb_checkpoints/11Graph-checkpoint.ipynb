{
 "cells": [
  {
   "cell_type": "markdown",
   "metadata": {
    "collapsed": true
   },
   "source": [
    "# Graph II - AdjListGraph #\n",
    "\n",
    "<img src=\"../images/ch17/listrepr.png\" width=\"640\"/>"
   ]
  },
  {
   "cell_type": "code",
   "execution_count": 3,
   "metadata": {},
   "outputs": [
    {
     "name": "stdout",
     "output_type": "stream",
     "text": [
      "[('a', 'b', 1), ('a', 'c', 1), ('b', 'd', 1), ('b', 'e', 1), ('c', 'd', 1), ('c', 'e', 1), ('d', 'e', 1), ('e', 'a', 1)]\n",
      "('a', 'b', 1)\n",
      "('a', 'c', 1)\n",
      "('b', 'd', 1)\n",
      "('b', 'e', 1)\n",
      "('c', 'd', 1)\n",
      "('c', 'e', 1)\n",
      "('d', 'e', 1)\n",
      "('e', 'a', 1)\n"
     ]
    }
   ],
   "source": [
    "import sys\n",
    "class Vertex:\n",
    "    def __init__(self, node):\n",
    "        self.id = node\n",
    "        self.adjacent = {} # {Vertex:weigh}\n",
    "        # Set distance to infinity for all nodes\n",
    "        self.distance = sys.maxsize\n",
    "        # Mark all nodes unvisited        \n",
    "        self.visited = False  \n",
    "        # Predecessor\n",
    "        self.previous = None\n",
    "\n",
    "    def addNeighbor(self, neighbor, weigh = 0):\n",
    "        self.adjacent[neighbor] = weigh\n",
    "        \n",
    "    def getConnections(self):\n",
    "        return self.adjacent.keys()\n",
    "        \n",
    "    def getVertexID(self):\n",
    "        return self.id\n",
    "        \n",
    "    def getWeight(self, neighbor):\n",
    "        return self.adjacent[neighbor]\n",
    "        \n",
    "    def setPrevious(self, prev):\n",
    "        self.previous = prev\n",
    "\n",
    "    def setVisited(self):\n",
    "        self.visited = True\n",
    "        \n",
    "    def __str__(self):\n",
    "        return self.id + ' adjacent: ' + str([x for x in self.adjacent.keys()])\n",
    "        \n",
    "    \n",
    "    def __lt__(self, other):\n",
    "         return self.id < other.id\n",
    "        \n",
    "\n",
    "class Graph:\n",
    "    def __init__(self, directed=False):\n",
    "        # key is string, vertex id\n",
    "        # value is Vertex\n",
    "        self.vertDictionary = {} # {id:Vertex}\n",
    "        self.numVertices = 0\n",
    "        self.directed = directed\n",
    "        \n",
    "    def __iter__(self):\n",
    "        return iter(self.vertDictionary.values())\n",
    "\n",
    "    def isDirected(self):\n",
    "        return self.directed\n",
    "    \n",
    "    def vectexCount(self):\n",
    "        return self.numVertices\n",
    "\n",
    "    def addVertex(self, node):\n",
    "        newVertex = Vertex(node)\n",
    "        self.numVertices += 1\n",
    "        self.vertDictionary[node] = newVertex\n",
    "        return newVertex\n",
    "\n",
    "    def getVertex(self, n):\n",
    "        if n in self.vertDictionary:\n",
    "            return self.vertDictionay[n]\n",
    "        else:\n",
    "            return None\n",
    "\n",
    "    def addEdge(self, frm, to, cost=0):\n",
    "        if frm not in self.vertDictionary:\n",
    "            self.addVertex(frm)\n",
    "        if to not in self.vertDictionary:\n",
    "            self.addVertex(to)\n",
    "        self.vertDictionary[frm].addNeighbor(self.vertDictionary[to], cost)\n",
    "        if not self.directed:\n",
    "            self.vertDictionary[to].addNeighbor(self.vertDictionary[frm], cost)\n",
    "\n",
    "    def getVertices(self):\n",
    "        return self.vertDictionary.keys()\n",
    "\n",
    "    def setPrevious(self, current, prev):\n",
    "        if current in self.vertDictionary:\n",
    "            current.setPrevious(prev)\n",
    "\n",
    "    def getPrevious(self, current):\n",
    "        if current in self.vertDictionary:\n",
    "            return current.getPrevious()\n",
    "\n",
    "    def getEdges(self):\n",
    "        edges = []\n",
    "        for keys, vertex in self.vertDictionary.items():\n",
    "            for neighbor in vertex.getConnections():\n",
    "                edges.append((vertex.getVertexID(), neighbor.getVertexID(), vertex.getWeight(neighbor))) #tuple\n",
    "        return edges\n",
    "    \n",
    "    def getNeighbors(self, v):\n",
    "        if v in self.vertDictionary:\n",
    "            vertex = self.vertDictionary[v]\n",
    "            return vertex.getConnections()\n",
    "        \n",
    "G = Graph(True)\n",
    "G.addVertex('a')\n",
    "G.addVertex('b')\n",
    "G.addVertex('c')\n",
    "G.addVertex('d')\n",
    "G.addVertex('e')\n",
    "G.addVertex('f')\n",
    "G.addEdge('a', 'b', 1)  \n",
    "G.addEdge('a', 'c', 1)\n",
    "G.addEdge('b', 'd', 1)\n",
    "G.addEdge('b', 'e', 1)\n",
    "G.addEdge('c', 'd', 1)\n",
    "G.addEdge('c', 'e', 1)\n",
    "G.addEdge('d', 'e', 1)\n",
    "G.addEdge('e', 'a', 1)\n",
    "print (G.getEdges())\n",
    "for k in G.getEdges():\n",
    "    print(k)"
   ]
  },
  {
   "cell_type": "code",
   "execution_count": null,
   "metadata": {
    "collapsed": true
   },
   "outputs": [],
   "source": [
    "# DFS:\n",
    "def DFS(S, G, visited, parents):\n",
    "    if S == G:\n",
    "        return\n",
    "    for n in S.getConnections():\n",
    "        visited.add(n.getVertexID())\n",
    "        parents[n] = S\n",
    "        DFS(n, G, visited, parents)"
   ]
  },
  {
   "cell_type": "code",
   "execution_count": null,
   "metadata": {
    "collapsed": true
   },
   "outputs": [],
   "source": [
    "# DFS_traversal:\n",
    "def DFSTraversal(S, G):\n",
    "    visited = set()\n",
    "    parents = {}\n",
    "    stack = [S]\n",
    "    while stack:\n",
    "        cur = stack.pop()\n",
    "        for neighbor in cur.getConnections():\n",
    "            if neighbor not in visited:\n",
    "                visited.add(neighbor.getVertexID())\n",
    "                parents[neighbor] = cur.getVertexID()\n",
    "                stack.append(neighbor)"
   ]
  },
  {
   "cell_type": "markdown",
   "metadata": {},
   "source": [
    "# Dijkstra Algorithm #"
   ]
  },
  {
   "cell_type": "code",
   "execution_count": 2,
   "metadata": {},
   "outputs": [
    {
     "name": "stdout",
     "output_type": "stream",
     "text": [
      "( a , b,   4)\n",
      "( a , c,   1)\n",
      "( b , e,   4)\n",
      "( c , b,   2)\n",
      "( c , d,   4)\n",
      "( d , e,   4)\n",
      "Updated : current = a next = b newDist = 4\n",
      "Updated : current = a next = c newDist = 1\n",
      "Updated : current = c next = b newDist = 3\n",
      "Updated : current = c next = d newDist = 5\n",
      "Updated : current = b next = e newDist = 7\n",
      "Not updated : current = d next = e newDist = 7\n",
      "a  to  a --> 0\n",
      "a  to  b --> 3\n",
      "a  to  c --> 1\n",
      "a  to  d --> 5\n",
      "a  to  e --> 7\n",
      "The shortest path from a to e is: ['a', 'c', 'b', 'e']\n"
     ]
    }
   ],
   "source": [
    "from AdjListGraph import Graph\n",
    "from AdjListGraph import Vertex\n",
    "import heapq \n",
    "\n",
    "def dijkstra(G, source, destination):\n",
    "    \"\"\"\n",
    "    G: Graph\n",
    "    source: source vertex\n",
    "    destination: destination vertex\n",
    "    \"\"\"\n",
    "    source.setDistance(0) # the distance of source to source is 0\n",
    "    unvisitedQueue = [(v.getDistance(), v) for v in G] # use the distance as standard, popping the shortest distance vertex every times\n",
    "    heapq.heapify(unvisitedQueue)\n",
    "    \n",
    "    # 如果有一个点和任何一个点都没有联系会如何？\n",
    "    while len(unvisitedQueue):\n",
    "        # pop a vertex with smallest distance\n",
    "        uv = heapq.heappop(unvisitedQueue)\n",
    "        cur = uv[1] # get the vertex\n",
    "        cur.setVisited() # visited means that the distance of cur has been shortest\n",
    "        \n",
    "        for nx in cur.adjacent: # find all of neighbor\n",
    "            if nx.visited:\n",
    "                continue\n",
    "            newDistance = cur.getDistance() + cur.getWeight(nx)\n",
    "            \n",
    "            if newDistance < nx.getDistance():\n",
    "                nx.setDistance(newDistance)\n",
    "                nx.setPrevious(cur)\n",
    "                print('Updated : current = %s next = %s newDist = %s' \\\n",
    "                        % (cur.getVertexID(), nx.getVertexID(), nx.getDistance()))\n",
    "            else:\n",
    "                print('Not updated : current = %s next = %s newDist = %s' \\\n",
    "                        % (cur.getVertexID(), nx.getVertexID(), nx.getDistance()))\n",
    "        \n",
    "def shortest(v, path):\n",
    "    if v.previous:\n",
    "        path.append(v.previous.getVertexID())\n",
    "        shortest(v.previous, path)\n",
    "    return \n",
    "\n",
    "G = Graph(True)\n",
    "G.addVertex('a')\n",
    "G.addVertex('b')\n",
    "G.addVertex('c')\n",
    "G.addVertex('d')\n",
    "G.addVertex('e')\n",
    "G.addEdge('a', 'b', 4)  \n",
    "G.addEdge('a', 'c', 1)\n",
    "G.addEdge('c', 'b', 2)\n",
    "G.addEdge('b', 'e', 4)\n",
    "G.addEdge('c', 'd', 4)\n",
    "G.addEdge('d', 'e', 4)\n",
    "\n",
    "for v in G:\n",
    "    for w in v.getConnections():\n",
    "        vid = v.getVertexID()\n",
    "        wid = w.getVertexID()\n",
    "        print('( %s , %s, %3d)' % (vid, wid, v.getWeight(w)))\n",
    "\n",
    "source = G.getVertex('a')\n",
    "destination = G.getVertex('e')    \n",
    "dijkstra(G, source, destination) \n",
    "\n",
    "for v in G.vertDictionary.values():\n",
    "    print(source.getVertexID(), \" to \", v.getVertexID(), \"-->\", v.getDistance())\n",
    "\n",
    "path = [destination.getVertexID()]\n",
    "shortest(destination, path)\n",
    "print ('The shortest path from a to e is: %s' % (path[::-1]))"
   ]
  },
  {
   "cell_type": "markdown",
   "metadata": {},
   "source": [
    "# Graph Maze #"
   ]
  },
  {
   "cell_type": "markdown",
   "metadata": {},
   "source": [
    "### <a id='Ex1'>Ex.1 The Maze</a>\n",
    "\n",
    "There is a ball in a maze with empty spaces and walls. The ball can go through empty spaces by rolling up, down, left or right.\n",
    "\n",
    "Given the ball's start position, the destination and the maze, determine whether the ball could stop at the destination.\n",
    "\n",
    "The maze is represented by a binary 2D array. 1 means the wall and 0 means the empty space. You may assume that the borders of the maze are all walls. The start and destination coordinates are represented by row and column indexes.\n",
    "\n",
    "\n",
    "<img src=\"../images/ch17/maze1.png\" width=\"560\"/>"
   ]
  },
  {
   "cell_type": "code",
   "execution_count": 11,
   "metadata": {},
   "outputs": [
    {
     "name": "stdout",
     "output_type": "stream",
     "text": [
      "False\n",
      "True\n"
     ]
    }
   ],
   "source": [
    "def maze(matrix, start, dest):\n",
    "    visited = set()\n",
    "    return dfs(matrix, start, dest, visited)\n",
    "\n",
    "def dfs(matrix, cur, dest, visited):\n",
    "    if cur == dest:\n",
    "        return True\n",
    "    visited.add(cur)\n",
    "    direction = [(0,1), (0,-1), (1,0), (-1,0)]\n",
    "    for d in direction:\n",
    "        x = cur[0] + d[0]\n",
    "        y = cur[1] + d[1]\n",
    "        if x < 0 or x >= len(matrix) or y < 0 or y >= len(matrix[0]):\n",
    "            continue\n",
    "        if (x,y) in visited:\n",
    "            continue\n",
    "        if matrix[x][y] == 1:\n",
    "            continue\n",
    "        if dfs(matrix, (x,y), dest, visited):\n",
    "            return True\n",
    "    return False\n",
    "\n",
    "matrix = [\n",
    "    [0, 0, 1, 0, 0],\n",
    "    [0, 0, 0, 0, 0],\n",
    "    [0, 0, 0, 1, 0],\n",
    "    [1, 1, 1, 1, 1],\n",
    "    [0, 0, 0, 0, 0]\n",
    "]\n",
    "\n",
    "start = (0, 0)\n",
    "dest  = (4, 4)\n",
    "print(maze(matrix, start, dest))\n",
    "        \n",
    "matrix = [\n",
    "    [0, 0, 1, 0, 0],\n",
    "    [0, 0, 0, 0, 0],\n",
    "    [0, 0, 0, 1, 0],\n",
    "    [1, 1, 0, 1, 1],\n",
    "    [0, 0, 0, 0, 0]\n",
    "]\n",
    "\n",
    "start = (0, 0)\n",
    "dest  = (4, 4)\n",
    "print(maze(matrix, start, dest))"
   ]
  },
  {
   "cell_type": "markdown",
   "metadata": {},
   "source": [
    "### <a id='Ex2'>Ex.2 The Maze II</a>\n",
    "\n",
    "There is a ball in a maze with empty spaces and walls. The ball can go through empty spaces by rolling up, down, left or right. <font color='Red'>but it won't stop rolling until hitting a wall. When the ball stops, it could choose the next direction.</font>\n",
    "\n",
    "Given the ball's start position, the destination and the maze, determine whether the ball could stop at the destination.\n",
    "\n",
    "The maze is represented by a binary 2D array. 1 means the wall and 0 means the empty space. You may assume that the borders of the maze are all walls. The start and destination coordinates are represented by row and column indexes.\n",
    "\n",
    "<img src=\"../images/ch17/maze2.png\" width=\"640\"/>\n",
    "<img src=\"../images/ch17/maze3.png\" width=\"640\"/>"
   ]
  },
  {
   "cell_type": "code",
   "execution_count": 13,
   "metadata": {},
   "outputs": [
    {
     "name": "stdout",
     "output_type": "stream",
     "text": [
      "False\n",
      "True\n"
     ]
    }
   ],
   "source": [
    "def maze2(matrix, start, dest):\n",
    "    visited = set()\n",
    "    return dfs(matrix, start, dest, visited)\n",
    "\n",
    "def dfs(matrix, cur, dest, visited):\n",
    "    if cur == dest:\n",
    "        return True\n",
    "    visited.add(cur)\n",
    "    directions = [(0,1), (0,-1), (1,0), (-1,0)]\n",
    "    for d in directions:\n",
    "        x = cur[0] + d[0]\n",
    "        y = cur[1] + d[1]\n",
    "        # 不可写成 >0 and < len-1, 这样虽然可以让(x,y)刚好停在边上，但是对于已经在边上的点，是无法向其他方向移动的\n",
    "        while x >= 0 and x < len(matrix) and y >= 0 and y < len(matrix[0]) and matrix[x][y] != 1:\n",
    "            x = x + d[0]\n",
    "            y = y + d[1]\n",
    "        x -= d[0]\n",
    "        y -= d[1]\n",
    "#         if x < 0 or x > len(matrix) or y < 0 or y > len(matrix[0]):\n",
    "#             continue\n",
    "        if (x,y) in visited:\n",
    "            continue\n",
    "        if dfs(matrix, (x,y), dest, visited):\n",
    "            return True\n",
    "    \n",
    "    return False\n",
    "\n",
    "matrix = [\n",
    "    [0, 0, 1, 0, 0],\n",
    "    [0, 0, 0, 0, 0],\n",
    "    [0, 0, 0, 1, 0],\n",
    "    [1, 1, 1, 1, 1],\n",
    "    [0, 0, 0, 0, 0]\n",
    "]\n",
    "\n",
    "start = (0, 0)\n",
    "dest  = (4, 4)\n",
    "print(maze2(matrix, start, dest))\n",
    "        \n",
    "matrix = [\n",
    "    [0, 0, 1, 0, 0],\n",
    "    [0, 0, 0, 0, 0],\n",
    "    [0, 0, 0, 1, 0],\n",
    "    [1, 1, 0, 1, 1],\n",
    "    [0, 0, 0, 0, 0]\n",
    "]\n",
    "\n",
    "start = (0, 4)\n",
    "dest  = (4, 4)\n",
    "print(maze2(matrix, start, dest))        "
   ]
  },
  {
   "cell_type": "code",
   "execution_count": 37,
   "metadata": {
    "scrolled": true
   },
   "outputs": [
    {
     "name": "stdout",
     "output_type": "stream",
     "text": [
      "0 4\n",
      "0 4\n",
      "0 3\n",
      "0 4\n",
      "0 3\n",
      "1 3\n",
      "1 4\n",
      "1 4\n",
      "1 0\n",
      "1 4\n",
      "1 0\n",
      "2 0\n",
      "2 2\n",
      "2 2\n",
      "2 0\n",
      "4 2\n",
      "4 4\n",
      "True\n"
     ]
    }
   ],
   "source": [
    "def dfs2(matrix, start, dest):\n",
    "    visited = [[False]*len(matrix[0]) for _ in range(len(matrix))]\n",
    "    return dfs2Helper(matrix, start, dest, visited)\n",
    "\n",
    "def dfs2Helper(matrix, start, dest, visited):\n",
    "    if start[0] == dest[0] and start[1] == dest[1]:\n",
    "        return True\n",
    "    \n",
    "    direction = [[0,1], [0,-1], [1,0], [-1,0]]\n",
    "    \n",
    "    for d in direction:\n",
    "        x = start[0]\n",
    "        y = start[1]\n",
    "        while 0 <= x + d[0] < len(matrix) and 0 <= y + d[1] < len(matrix[0]) and matrix[x+d[0]][y+d[1]] == 0:\n",
    "            x = x + d[0]\n",
    "            y = y + d[1]\n",
    "        print(x, y)\n",
    "        if x < 0 or x > len(matrix) - 1 or y < 0 or y > len(matrix[0]) - 1:\n",
    "            continue\n",
    "        if matrix[x][y] == 1:\n",
    "            continue\n",
    "        if visited[x][y]:\n",
    "            continue\n",
    "        visited[x][y] = True\n",
    "        if dfs2Helper(matrix, (x, y), dest, visited):\n",
    "            return True\n",
    "    return False\n",
    "\n",
    "matrix = [\n",
    "    [0, 0, 1, 0, 0],\n",
    "    [0, 0, 0, 0, 0],\n",
    "    [0, 0, 0, 1, 0],\n",
    "    [1, 1, 0, 1, 1],\n",
    "    [0, 0, 0, 0, 0]\n",
    "]\n",
    "\n",
    "start = (0, 4)\n",
    "dest  = (4, 4)\n",
    "print(dfs2(matrix, start, dest))"
   ]
  },
  {
   "cell_type": "markdown",
   "metadata": {},
   "source": [
    "### <a id='Ex3'>Ex.3 The Maze III</a>\n",
    "\n",
    "There is a ball in a maze with empty spaces and walls. The ball can go through empty spaces by rolling up, down, left or right, but it won't stop rolling until hitting a wall. When the ball stops, it could choose the next direction.\n",
    "\n",
    "Given the ball's start position, the destination and the maze, <font color='red'>find the shortest distance for the ball to stop at the destination</font>. The distance is defined by the number of empty spaces traveled by the ball from the start position (excluded) to the destination (included). If the ball cannot stop at the destination, return -1.\n",
    "\n",
    "The maze is represented by a binary 2D array. 1 means the wall and 0 means the empty space. You may assume that the borders of the maze are all walls. The start and destination coordinates are represented by row and column indexes.\n",
    "\n",
    "<img src=\"../images/ch17/maze4.png\" width=\"640\"/>\n",
    "<img src=\"../images/ch17/maze5.png\" width=\"640\"/>"
   ]
  },
  {
   "cell_type": "code",
   "execution_count": 22,
   "metadata": {},
   "outputs": [
    {
     "name": "stdout",
     "output_type": "stream",
     "text": [
      "(0, 4)\n",
      "(0, 3)\n",
      "(1, 3)\n",
      "(2, 4)\n",
      "(1, 4)\n",
      "(1, 0)\n",
      "(0, 0)\n",
      "(2, 0)\n",
      "(0, 1)\n",
      "(1, 0)\n",
      "(2, 0)\n",
      "(2, 2)\n",
      "(1, 2)\n",
      "(2, 1)\n",
      "(2, 2)\n",
      "(4, 2)\n",
      "(4, 0)\n",
      "(4, 2)\n",
      "(4, 2)\n",
      "(4, 4)\n"
     ]
    },
    {
     "data": {
      "text/plain": [
       "12"
      ]
     },
     "execution_count": 22,
     "metadata": {},
     "output_type": "execute_result"
    }
   ],
   "source": [
    "import heapq\n",
    "\n",
    "def maze3(matrix, start, dest):\n",
    "    heap = [(0, start)]\n",
    "    visited = set()\n",
    "    return dijkstra(matrix, dest, visited, heap)\n",
    "\n",
    "def dijkstra(matrix, dest, visited, heap):\n",
    "    while heap:\n",
    "        dist, cur = heapq.heappop(heap)\n",
    "        print(cur)\n",
    "        if cur == dest:\n",
    "            return dist\n",
    "        visited.add(cur)\n",
    "        directions = [(0,1), (0,-1), (1,0), (-1,0)]\n",
    "        for d in directions:\n",
    "            new_dist = dist\n",
    "            x = cur[0] # x = cur[0] 和 y = cur[1]要写在for里面，不然每个方向都会沿用上一轮的x,y\n",
    "            y = cur[1]\n",
    "            while 0 <= x+d[0] < len(matrix) and 0 <= y+d[1] < len(matrix[0]) and matrix[x+d[0]][y+d[1]] == 0:\n",
    "                x += d[0]\n",
    "                y += d[1]\n",
    "                new_dist += 1\n",
    "            if (x,y) not in visited:\n",
    "                heapq.heappush(heap, (new_dist, (x,y)))\n",
    "    return -1\n",
    "\n",
    "\n",
    "        \n",
    "matrix = [\n",
    "    [0, 0, 1, 0, 0],\n",
    "    [0, 0, 0, 0, 0],\n",
    "    [0, 0, 0, 1, 0],\n",
    "    [1, 1, 0, 1, 1],\n",
    "    [0, 0, 0, 0, 0]\n",
    "]\n",
    "\n",
    "start = (0, 4)\n",
    "dest  = (4, 4)\n",
    "maze3(matrix, start, dest)        "
   ]
  },
  {
   "cell_type": "markdown",
   "metadata": {},
   "source": [
    "### <a id='Ex4'>Ex.4 The Maze IV</a>\n",
    "\n",
    "There is a ball in a maze with empty spaces and walls. The ball can go through empty spaces by rolling up (u), down (d), left (l) or right (r), but it won't stop rolling until hitting a wall. When the ball stops, it could choose the next direction. There is also a hole in this maze. <font color=\"red\">The ball will drop into the hole if it rolls on to the hole</font>.\n",
    "\n",
    "Given the ball position, the hole position and the maze, find out how the ball could drop into the hole by moving the shortest distance. The distance is defined by the number of empty spaces traveled by the ball from the start position (excluded) to the hole (included). Output the moving directions by using 'u', 'd', 'l' and 'r'. Since there could be several different shortest ways, you should output the lexicographically smallest way. If the ball cannot reach the hole, output \"impossible\".\n",
    "\n",
    "The maze is represented by a binary 2D array. 1 means the wall and 0 means the empty space. You may assume that the borders of the maze are all walls. The ball and the hole coordinates are represented by row and column indexes."
   ]
  },
  {
   "cell_type": "code",
   "execution_count": 28,
   "metadata": {},
   "outputs": [
    {
     "data": {
      "text/plain": [
       "'drur'"
      ]
     },
     "execution_count": 28,
     "metadata": {},
     "output_type": "execute_result"
    }
   ],
   "source": [
    "def maze4(matrix, start, dest):\n",
    "    directions = {'u' : (-1, 0), 'r' : (0, 1), 'l' : (0, -1), 'd': (1, 0)} # 注意上下左右的坐标写法\n",
    "    visited = set()\n",
    "    heap = [(0, '', start)] # (dist, path, node)\n",
    "    \n",
    "    while heap:\n",
    "        dist, path, cur = heapq.heappop(heap)\n",
    "        if cur == dest:\n",
    "            return path\n",
    "        visited.add(cur)\n",
    "        for d, step in directions.items():\n",
    "            x = cur[0]\n",
    "            y = cur[1]\n",
    "            new_dist = dist\n",
    "            while 0 <= x+step[0] < len(matrix) and 0 <= y+step[1] < len(matrix[0]) and matrix[x+step[0]][y+step[1]] == 0:\n",
    "                x += step[0]\n",
    "                y += step[1]\n",
    "                new_dist += 1\n",
    "            if (x,y) not in visited:\n",
    "                heapq.heappush(heap, (new_dist, path+d, (x,y)))\n",
    "                \n",
    "    return \"impossible\"\n",
    "\n",
    "\n",
    "matrix = [\n",
    "    [0, 0, 1, 0, 0],\n",
    "    [0, 0, 0, 0, 0],\n",
    "    [0, 0, 0, 1, 0],\n",
    "    [1, 1, 0, 1, 1],\n",
    "    [0, 0, 0, 0, 0]\n",
    "]\n",
    "\n",
    "start = (0, 0)\n",
    "dest  = (1, 4)\n",
    "maze4(matrix, start, dest)          "
   ]
  },
  {
   "cell_type": "markdown",
   "metadata": {},
   "source": [
    "### <a id='Ex1'>Ex.1 Flood Fill</a>\n",
    "\n",
    "An image is represented by a 2-D array of integers, each integer representing the pixel value of the image (from 0 to 65535).\n",
    "\n",
    "Given a coordinate (sr, sc) representing the starting pixel (row and column) of the flood fill, and a pixel value newColor, \"flood fill\" the image.\n",
    "\n",
    "To perform a \"flood fill\", consider the starting pixel, plus any pixels connected 4-directionally to the starting pixel of the same color as the starting pixel, plus any pixels connected 4-directionally to those pixels (also with the same color as the starting pixel), and so on. Replace the color of all of the aforementioned pixels with the newColor.\n",
    "\n",
    "At the end, return the modified image."
   ]
  },
  {
   "cell_type": "code",
   "execution_count": 35,
   "metadata": {},
   "outputs": [
    {
     "data": {
      "text/plain": [
       "[[2, 2, 2], [2, 2, 0], [2, 0, 1]]"
      ]
     },
     "execution_count": 35,
     "metadata": {},
     "output_type": "execute_result"
    }
   ],
   "source": [
    "def floodFill(matrix, sr, sc, newColor):\n",
    "    dfs(matrix, (sr, sc), matrix[sr][sc], newColor)\n",
    "    return matrix\n",
    "    \n",
    "def dfs(matrix, cur, oldColor, newColor):\n",
    "    if matrix[cur[0]][cur[1]] == oldColor:\n",
    "        matrix[cur[0]][cur[1]] = newColor\n",
    "    for d in [(0,1), (0,-1), (1,0), (-1,0)]:\n",
    "        x = cur[0] + d[0]\n",
    "        y = cur[1] + d[1]\n",
    "        if 0 <= x < len(matrix) and 0 <= y < len(matrix[0]) and matrix[x][y] == oldColor:\n",
    "            dfs(matrix, (x,y), oldColor, newColor)\n",
    "     \n",
    "\n",
    "matrix = [\n",
    "    [1,1,1],\n",
    "    [1,1,0],\n",
    "    [1,0,1]\n",
    "]\n",
    "sr = 1\n",
    "sc = 1\n",
    "newColor = 2\n",
    "floodFill(matrix, sr, sc, newColor)"
   ]
  },
  {
   "cell_type": "markdown",
   "metadata": {},
   "source": [
    "### <a id='Ex2'>Ex.2 Friend Circles</a>\n",
    "\n",
    "There are N students in a class. Some of them are friends, while some are not. Their friendship is transitive in nature. For example, if A is a direct friend of B, and B is a direct friend of C, then A is an indirect friend of C. And we defined a friend circle is a group of students who are direct or indirect friends.\n",
    "\n",
    "Given a N*N matrix M representing the friend relationship between students in the class. If M[i][j] = 1, then the ith and jth students are direct friends with each other, otherwise not. And you have to output the total number of friend circles among all the students.\n",
    "\n",
    "Input: \n",
    "\n",
    "[[1,1,0],\n",
    "\n",
    "[1,1,0],\n",
    "\n",
    "[0,0,1]]\n",
    "\n",
    "Output: 2\n",
    "\n",
    "Explanation:The 0th and 1st students are direct friends, so they are in a friend circle. \n",
    "\n",
    "The 2nd student himself is in a friend circle. So return 2."
   ]
  },
  {
   "cell_type": "code",
   "execution_count": 50,
   "metadata": {},
   "outputs": [
    {
     "data": {
      "text/plain": [
       "2"
      ]
     },
     "execution_count": 50,
     "metadata": {},
     "output_type": "execute_result"
    }
   ],
   "source": [
    "# 16min\n",
    "\n",
    "def friendCircle(matrix):\n",
    "    visited = set()\n",
    "    count = 0\n",
    "    for i in range(len(matrix)):\n",
    "        for j in range(len(matrix[0])):\n",
    "            if (i, j) not in visited and matrix[i][j] == 1:\n",
    "                dfs(matrix, (i,j), visited)\n",
    "                count += 1\n",
    "    return count\n",
    "\n",
    "def dfs(matrix, cur, visited):\n",
    "    visited.add(cur)\n",
    "    visited.add((cur[1], cur[0]))\n",
    "    for d in [(0,1), (0,-1), (1,0), (-1,0)]:\n",
    "        x = cur[0] + d[0]\n",
    "        y = cur[1] + d[1]\n",
    "        if 0 <= x < len(matrix) and 0 <= y < len(matrix[0]) and (x,y) not in visited and matrix[x][y] == 1:\n",
    "            dfs(matrix, (x,y), visited)\n",
    "            \n",
    "matrix = [[1,1,0],\n",
    "          [1,1,0],\n",
    "          [0,0,1]]\n",
    "friendCircle(matrix)"
   ]
  },
  {
   "cell_type": "markdown",
   "metadata": {},
   "source": [
    "### <a id='Ex3'>Ex.3 Number of Islands</a>\n",
    "\n",
    "Given a 2d grid map of '1's (land) and '0's (water), count the number of islands. An island is surrounded by water and is formed by connecting adjacent lands horizontally or vertically. You may assume all four edges of the grid are all surrounded by water."
   ]
  },
  {
   "cell_type": "code",
   "execution_count": 51,
   "metadata": {},
   "outputs": [
    {
     "data": {
      "text/plain": [
       "2"
      ]
     },
     "execution_count": 51,
     "metadata": {},
     "output_type": "execute_result"
    }
   ],
   "source": [
    "# 5min\n",
    "def islands(matrix):\n",
    "    visited = set()\n",
    "    count = 0\n",
    "    for i in range(len(matrix)):\n",
    "        for j in range(len(matrix[0])):\n",
    "            if matrix[i][j] == 1 and (i,j) not in visited:\n",
    "                dfs(matrix, (i,j), visited)\n",
    "                count += 1\n",
    "    \n",
    "    return count\n",
    "\n",
    "def dfs(matrix, cur, visited):\n",
    "    visited.add(cur)\n",
    "    for d in [(0,1), (0,-1), (1,0), (-1,0)]:\n",
    "        x = cur[0] + d[0]\n",
    "        y = cur[1] + d[1]\n",
    "        if 0 <= x < len(matrix) and 0 <= y < len(matrix[0]) and (x,y) not in visited and matrix[x][y] == 1:\n",
    "            dfs(matrix, (x,y), visited)\n",
    "    \n",
    "M = [\n",
    "     [1,1,0],\n",
    "     [1,1,0],\n",
    "     [0,0,1]\n",
    "]\n",
    "islands(M)"
   ]
  },
  {
   "cell_type": "markdown",
   "metadata": {},
   "source": [
    "### <a id='Ex4'>Ex.4 Max Area of Island</a>\n",
    "\n",
    "Given a non-empty 2D array grid of 0's and 1's, an island is a group of 1's (representing land) connected 4-directionally (horizontal or vertical.) You may assume all four edges of the grid are surrounded by water.\n",
    "\n",
    "Find the maximum area of an island in the given 2D array. (If there is no island, the maximum area is 0.)\n",
    "\n",
    "[0,0,1,0,0,0,0,1,0,0,0,0,0],\n",
    "\n",
    " [0,0,0,0,0,0,0,1,1,1,0,0,0], \n",
    " \n",
    " [0,1,1,0,1,0,0,0,0,0,0,0,0], \n",
    " \n",
    " [0,1,0,0,1,1,0,0,1,0,1,0,0],\n",
    " \n",
    " [0,1,0,0,1,1,0,0,1,1,1,0,0], \n",
    " \n",
    " [0,0,0,0,0,0,0,0,0,0,1,0,0],\n",
    " \n",
    " [0,0,0,0,0,0,0,1,1,1,0,0,0],\n",
    " \n",
    " [0,0,0,0,0,0,0,1,1,0,0,0,0]\n",
    " \n",
    "Given the above grid, return 6. Note the answer is not 11, because the island must be connected 4-directionally."
   ]
  },
  {
   "cell_type": "code",
   "execution_count": 58,
   "metadata": {},
   "outputs": [
    {
     "data": {
      "text/plain": [
       "3"
      ]
     },
     "execution_count": 58,
     "metadata": {},
     "output_type": "execute_result"
    }
   ],
   "source": [
    "def islandArea(matrix):\n",
    "    visited = set()\n",
    "    area = 0\n",
    "    for i in range(len(matrix)):\n",
    "        for j in range(len(matrix[0])):\n",
    "            if (i,j) not in visited and matrix[i][j] == 1:\n",
    "                area = max(area, dfs(matrix, (i,j), visited))\n",
    "    return area\n",
    "\n",
    "def dfs(matrix, cur, visited):\n",
    "    visited.add(cur)\n",
    "    area = 1\n",
    "    \n",
    "    for d in [(0,1), (0,-1), (1,0), (-1,0)]:\n",
    "        x = cur[0] + d[0]\n",
    "        y = cur[1] + d[1]\n",
    "        if 0 <= x < len(matrix) and 0 <= y < len(matrix[0]) and (x,y) not in visited and matrix[x][y] == 1:\n",
    "            area = area + dfs(matrix, (x,y), visited)\n",
    "    \n",
    "    return area\n",
    "    \n",
    "matrix = [\n",
    "    [0, 0, 1, 0, 0],\n",
    "    [0, 0, 0, 0, 0],\n",
    "    [0, 0, 0, 1, 0],\n",
    "    [1, 1, 0, 1, 1],\n",
    "    [0, 0, 0, 0, 0]\n",
    "]\n",
    "\n",
    "islandArea(matrix)"
   ]
  },
  {
   "cell_type": "code",
   "execution_count": 55,
   "metadata": {},
   "outputs": [
    {
     "data": {
      "text/plain": [
       "3"
      ]
     },
     "execution_count": 55,
     "metadata": {},
     "output_type": "execute_result"
    }
   ],
   "source": [
    "def maxAreaOfIsland(grid):\n",
    "    rows, cols = len(grid), len(grid[0])\n",
    "    result = 0\n",
    "    for i in range(rows):\n",
    "        for j in range(cols):\n",
    "            result = max(result, dfs(grid, i, j))\n",
    "    return result\n",
    "\n",
    "def dfs(grid, i, j):\n",
    "    if 0 <= i < len(grid) and 0 <= j < len(grid[0]) and grid[i][j] == 1:\n",
    "        grid[i][j] = 0 # 记得标记已经visit过的\n",
    "        return 1 + dfs(grid, i + 1, j) + dfs(grid, i - 1, j) + dfs(grid, i, j + 1) + dfs(grid, i, j - 1)\n",
    "    return 0\n",
    "\n",
    "matrix = [\n",
    "    [0, 0, 1, 0, 0],\n",
    "    [0, 0, 0, 0, 0],\n",
    "    [0, 0, 0, 1, 0],\n",
    "    [1, 1, 0, 1, 1],\n",
    "    [0, 0, 0, 0, 0]\n",
    "]\n",
    "\n",
    "maxAreaOfIsland(matrix)\n"
   ]
  },
  {
   "cell_type": "markdown",
   "metadata": {},
   "source": [
    "### <a id='Ex5'>Ex.5 Employee Importance</a>\n",
    "\n",
    "You are given a data structure of employee information, which includes the employee's unique id, his importance value and his direct subordinates' id.\n",
    "\n",
    "For example, employee 1 is the leader of employee 2, and employee 2 is the leader of employee 3. They have importance value 15, 10 and 5, respectively. Then employee 1 has a data structure like [1, 15, [2]], and employee 2 has [2, 10, [3]], and employee 3 has [3, 5, []]. Note that although employee 3 is also a subordinate of employee 1, the relationship is not direct.\n",
    "\n",
    "Now given the employee information of a company, and an employee id, you need to return the total importance value of this employee and all his subordinates.\n",
    "\n",
    "Input: [[1, 5, [2, 3]], [2, 3, []], [3, 3, []]], 1\n",
    "\n",
    "Output: 11\n",
    "\n",
    "Explanation:\n",
    "\n",
    "Employee 1 has importance value 5, and he has two direct subordinates: employee 2 and employee 3. They both have importance value 3. So the total importance value of employee 1 is 5 + 3 + 3 = 11."
   ]
  },
  {
   "cell_type": "code",
   "execution_count": 65,
   "metadata": {},
   "outputs": [
    {
     "data": {
      "text/plain": [
       "11"
      ]
     },
     "execution_count": 65,
     "metadata": {},
     "output_type": "execute_result"
    }
   ],
   "source": [
    "def employee_importance(info, ID):\n",
    "    visited = set()\n",
    "    return dfs(info, ID, visited)\n",
    "\n",
    "def dfs(info, ID, visited):\n",
    "    visited.add(ID)\n",
    "    ID, importance, employees = info[ID-1]\n",
    "    for sub_ID in employees:\n",
    "        if sub_ID not in visited:\n",
    "            importance += dfs(info, sub_ID, visited)\n",
    "    return importance\n",
    "\n",
    "info = [[1, 5, [2, 3]], [2, 3, []], [3, 3, []]]\n",
    "ID = 1\n",
    "employee_importance(info, ID)"
   ]
  },
  {
   "cell_type": "markdown",
   "metadata": {},
   "source": [
    "# Graph Practice III #"
   ]
  },
  {
   "cell_type": "markdown",
   "metadata": {},
   "source": [
    "### <a id='Ex1'>Ex.1 Is Graph Bipartite?</a>\n",
    "\n",
    "Given an undirected graph, return true if and only if it is bipartite.\n",
    "\n",
    "Recall that a graph is bipartite if we can split it's set of nodes into two independent subsets A and B such that every edge in the graph has one node in A and another node in B.\n",
    "\n",
    "The graph is given in the following form: graph[i] is a list of indexes j for which the edge between nodes i and j exists.  Each node is an integer between 0 and graph.length - 1.  There are no self edges or parallel edges: graph[i] does not contain i, and it doesn't contain any element twice.\n",
    "\n",
    "<img src=\"../images/ch17/bipartite1.png\" width=\"440\"/>\n",
    "<img src=\"../images/ch17/bipartite2.png\" width=\"540\"/>"
   ]
  },
  {
   "cell_type": "code",
   "execution_count": 69,
   "metadata": {},
   "outputs": [
    {
     "name": "stdout",
     "output_type": "stream",
     "text": [
      "True\n",
      "False\n"
     ]
    }
   ],
   "source": [
    "def isBipartite(graph):\n",
    "    visited = {}\n",
    "    for i in range(len(graph)):\n",
    "        if i in visited:\n",
    "            continue\n",
    "        visited[i] = 1\n",
    "        if not dfs(graph, i, visited):\n",
    "            return False\n",
    "    \n",
    "    return True\n",
    "\n",
    "def dfs(graph, cur, visited):\n",
    "    for neighbor in graph[cur]:\n",
    "        if neighbor in visited:\n",
    "            if visited[cur] == visited[neighbor]:\n",
    "                return False\n",
    "        else:\n",
    "            visited[neighbor] = visited[cur] * -1\n",
    "            if not dfs(graph, neighbor, visited):\n",
    "                return False\n",
    "    return True\n",
    "graph = [[1,3], [0,2], [1,3], [0,2]]\n",
    "print(isBipartite(graph))\n",
    "\n",
    "graph = [[1,2,3], [0,2], [0,1,3], [0,2]]\n",
    "print(isBipartite(graph))"
   ]
  },
  {
   "cell_type": "markdown",
   "metadata": {},
   "source": [
    "### <a id='Ex2'>Ex.2 Pacific Atlantic Water Flow</a>\n",
    "\n",
    "Given an m x n matrix of non-negative integers representing the height of each unit cell in a continent, the \"Pacific ocean\" touches the left and top edges of the matrix and the \"Atlantic ocean\" touches the right and bottom edges.\n",
    "\n",
    "Water can only flow in four directions (up, down, left, or right) from a cell to another one with height equal or lower.\n",
    "\n",
    "Find the list of grid coordinates where water can flow to both the Pacific and Atlantic ocean.\n",
    "\n",
    "<img src=\"../images/ch17/ocean.png\" width=\"740\"/>"
   ]
  },
  {
   "cell_type": "markdown",
   "metadata": {},
   "source": [
    "# Solution:\n",
    "如果根据每一个点找一次他们是否能到达pacific和atlantic，那么会需要n*n*n^2，即O(n^4)的时间复杂读，因此可以从反向考虑\n",
    "1. 分别从Pacific和Atlantic边缘上的点，往高处走。\n",
    "2. 对于pacific边缘点往上能走到的点，录入进p_visited中\n",
    "3. 对于Atlantic边缘点上能走到的点，录入进a_visited中\n",
    "4. 将p_visited和a_visited做一次交集运算"
   ]
  },
  {
   "cell_type": "code",
   "execution_count": 71,
   "metadata": {},
   "outputs": [
    {
     "name": "stdout",
     "output_type": "stream",
     "text": [
      "{(1, 3), (3, 0), (3, 1), (1, 4), (0, 4), (2, 2), (4, 0)}\n"
     ]
    }
   ],
   "source": [
    "def pacificAtlantic(matrix):\n",
    "    if not matrix:\n",
    "        return []\n",
    "    p_visited = set()\n",
    "    a_visited = set()\n",
    "    rows = len(matrix)\n",
    "    cols = len(matrix[0])\n",
    "    \n",
    "    for r in range(rows):\n",
    "        dfs(matrix, (r,0), p_visited)\n",
    "        dfs(matrix, (r,cols-1), a_visited)\n",
    "    \n",
    "    for c in range(cols):\n",
    "        dfs(matrix, (0,c), p_visited)\n",
    "        dfs(matrix, (rows-1,c), a_visited)\n",
    "    \n",
    "    return p_visited & a_visited\n",
    "\n",
    "def dfs(matrix, cur, visited):\n",
    "    visited.add(cur)\n",
    "    for d in [(0,1), (0,-1), (1,0), (-1,0)]:\n",
    "        x = cur[0] + d[0]\n",
    "        y = cur[1] + d[1]\n",
    "        if 0 <= x < len(matrix) and 0 <= y < len(matrix[0]) and (x,y) not in visited and matrix[x][y] >= matrix[cur[0]][cur[1]]:\n",
    "            dfs(matrix, (x,y), visited)\n",
    "\n",
    "\n",
    "           \n",
    "matrix = [\n",
    "    [1,2,2,3,4],\n",
    "    [3,2,3,4,4],\n",
    "    [2,4,5,3,1],\n",
    "    [6,7,1,4,5],\n",
    "    [5,1,1,2,4]\n",
    "]\n",
    "print(pacificAtlantic(matrix))            "
   ]
  },
  {
   "cell_type": "code",
   "execution_count": 74,
   "metadata": {},
   "outputs": [
    {
     "data": {
      "text/plain": [
       "{(0, 4), (1, 3), (1, 4), (2, 2), (3, 0), (3, 1), (4, 0)}"
      ]
     },
     "execution_count": 74,
     "metadata": {},
     "output_type": "execute_result"
    }
   ],
   "source": [
    "# BFS\n",
    "from collections import deque\n",
    "def pacificAtlantic(matrix):\n",
    "    rows, cols = len(matrix), len(matrix[0])\n",
    "    P_visited = set([(i, 0) for i in range(len(matrix))] + [(j, 0) for j in range(len(matrix[0]))])\n",
    "    A_visited = set([(i, cols - 1) for i in range(len(matrix))] + [(rows - 1, j) for j in range(len(matrix[0]))])\n",
    "    return bfs(P_visited) & bfs(A_visited)\n",
    "\n",
    "def bfs(ocean):\n",
    "    q = deque(ocean)\n",
    "    while q:\n",
    "        (x, y) = q.popleft()\n",
    "        for (i, j) in [(0, 1), (0, -1), (1, 0), (-1, 0)]:\n",
    "            m = x + i  \n",
    "            n = y + j\n",
    "            if 0 <= m < len(matrix) and 0 <= n < len(matrix) and (m, n) not in ocean and matrix[m][n] >= matrix[x][y]:\n",
    "                ocean.add((m, n))\n",
    "                q.append((m, n))\n",
    "                bfs(ocean)\n",
    "    return ocean\n",
    "\n",
    "pacificAtlantic(matrix)"
   ]
  },
  {
   "cell_type": "markdown",
   "metadata": {},
   "source": [
    "### <a id='Ex3'>Ex.3 Longest Increasing Path in a Matrix</a>\n",
    "\n",
    "Given an integer matrix, find the length of the longest increasing path.\n",
    "\n",
    "From each cell, you can either move to four directions: left, right, up or down. You may NOT move diagonally or move outside of the boundary (i.e. wrap-around is not allowed).\n",
    "\n",
    "<img src=\"../images/ch17/longest1.png\" width=\"100\"/>\n",
    "<img src=\"../images/ch17/longest2.png\" width=\"100\"/>"
   ]
  },
  {
   "cell_type": "markdown",
   "metadata": {},
   "source": [
    "# Solution:\n",
    "针对每一个点找最长升序路径，不过可以使用DP进行优化。"
   ]
  },
  {
   "cell_type": "code",
   "execution_count": 72,
   "metadata": {},
   "outputs": [
    {
     "data": {
      "text/plain": [
       "4"
      ]
     },
     "execution_count": 72,
     "metadata": {},
     "output_type": "execute_result"
    }
   ],
   "source": [
    "def longestIncreasingPath(matrix):\n",
    "    dp = [[-1 for j in range(len(matrix[0]))] for i in range(len(matrix))]\n",
    "    rst = 0\n",
    "    for i in range(len(matrix)):\n",
    "        for j in range(len(matrix[0])):\n",
    "            rst = max(rst, dfs(matrix, (i,j), dp))\n",
    "    return rst\n",
    "\n",
    "def dfs(matrix, cur, dp):\n",
    "    rst = 1\n",
    "    if dp[cur[0]][cur[1]] != -1:\n",
    "        return dp[cur[0]][cur[1]]\n",
    "    \n",
    "    for d in [(0,1), (0,-1), (1,0), (-1,0)]:\n",
    "        x = cur[0] + d[0]\n",
    "        y = cur[1] + d[1]\n",
    "        if 0 <= x < len(matrix) and 0 <= y < len(matrix) and matrix[x][y] > matrix[cur[0]][cur[1]]:\n",
    "            rst = max(rst, 1 + dfs(matrix, (x,y), dp))\n",
    "    dp[cur[0]][cur[1]] = rst\n",
    "    return rst\n",
    "\n",
    "matrix = [\n",
    "  [9,9,4],\n",
    "  [6,6,8],\n",
    "  [2,1,1]\n",
    "]\n",
    "longestIncreasingPath(matrix)"
   ]
  },
  {
   "cell_type": "markdown",
   "metadata": {},
   "source": [
    "### <a id='Ex4'>Ex.4 01 Matrix</a>\n",
    "\n",
    "Given a matrix consists of 0 and 1, find the distance of the nearest 0 for each cell.\n",
    "\n",
    "The distance between two adjacent cells is 1.\n",
    "\n",
    "Example 1: \n",
    "\n",
    "Input:\n",
    "\n",
    "0 0 0\n",
    "\n",
    "0 1 0\n",
    "\n",
    "0 0 0\n",
    "\n",
    "Output:\n",
    "\n",
    "0 0 0\n",
    "\n",
    "0 1 0\n",
    "\n",
    "0 0 0\n",
    "\n",
    "Example 2: \n",
    "\n",
    "Input:\n",
    "\n",
    "0 0 0\n",
    "\n",
    "0 1 0\n",
    "\n",
    "1 1 1\n",
    "\n",
    "Output:\n",
    "\n",
    "0 0 0\n",
    "\n",
    "0 1 0\n",
    "\n",
    "1 2 1"
   ]
  },
  {
   "cell_type": "code",
   "execution_count": 83,
   "metadata": {},
   "outputs": [
    {
     "data": {
      "text/plain": [
       "[[0, 0, 0], [0, 1, 0], [1, 2, 1]]"
      ]
     },
     "execution_count": 83,
     "metadata": {},
     "output_type": "execute_result"
    }
   ],
   "source": [
    "# error: 如果某个元素的上下左右dp都是-1或者越界，那么这会直接返回rst\n",
    "def Matrix01(matrix):\n",
    "    dp = [[-1 for j in range(len(matrix[0]))] for i in range(len(matrix))]\n",
    "    for i in range(len(matrix)):\n",
    "        for j in range(len(matrix[0])):\n",
    "#             print(dp)\n",
    "            dfs(matrix, (i,j), dp)\n",
    "            \n",
    "    return dp\n",
    "\n",
    "def dfs(matrix, cur, dp):\n",
    "    rst = 99\n",
    "    if dp[cur[0]][cur[1]] != -1:\n",
    "        return dp[cur[0]][cur[1]]\n",
    "    if matrix[cur[0]][cur[1]] == 0:\n",
    "        dp[cur[0]][cur[1]] = 0\n",
    "        return 0\n",
    "    \n",
    "    for d in [(0,1), (0,-1), (1,0), (-1,0)]:\n",
    "        x = cur[0] + d[0]\n",
    "        y = cur[1] + d[1]\n",
    "        # dp[x][y] != -1确保不陷入死循环，找最短路径应该从走过的地方传递\n",
    "        if 0 <= x < len(matrix) and 0 <= y < len(matrix[0]) and dp[x][y] != -1: \n",
    "            rst = min(rst, 1 + dfs(matrix, (x,y), dp))\n",
    "    dp[cur[0]][cur[1]] = rst\n",
    "    \n",
    "\n",
    "matrix = [\n",
    "    [0, 0, 0],\n",
    "    [0, 1, 0],\n",
    "    [0, 0, 0],\n",
    "]\n",
    "\n",
    "matrix = [\n",
    "    [0, 0, 0],\n",
    "    [0, 1, 0],\n",
    "    [1, 1, 1],\n",
    "]\n",
    "\n",
    "Matrix01(matrix)"
   ]
  },
  {
   "cell_type": "markdown",
   "metadata": {},
   "source": [
    "# Solution:\n",
    "一个方法是遍历每一个点，找出每个点距离最近的0，返回距离，但是时间复杂度为O(n^4)\n",
    "\n",
    "另一个方法利用DP的思维：\n",
    "创建一个DP矩阵\n",
    "先将所有0存进一个数组中，遍历该数组，更新数组中的每一个元素的上下左右，并更新DP中的当前元素。\n",
    "\n",
    "由于是从所有0元素开始的，因此所有0被遍历完后，0旁边的元素一定是有一个最小值的了，然后对0旁边的旁边的元素遍历..."
   ]
  },
  {
   "cell_type": "code",
   "execution_count": 86,
   "metadata": {},
   "outputs": [
    {
     "data": {
      "text/plain": [
       "[[0, 0, 0], [0, 1, 0], [1, 2, 1]]"
      ]
     },
     "execution_count": 86,
     "metadata": {},
     "output_type": "execute_result"
    }
   ],
   "source": [
    "def Matrix01(matrix):\n",
    "    if not matrix:\n",
    "        return matrix\n",
    "    candidate = []\n",
    "    dp = [[0 for j in range(len(matrix[0]))] for i in range(len(matrix))]\n",
    "    \n",
    "    for i in range(len(matrix)):\n",
    "        for j in range(len(matrix[0])):\n",
    "            if matrix[i][j] != 0:\n",
    "                dp[i][j] = 0x7fffffff\n",
    "            else: # 从0开始遍历\n",
    "                candidate.append((i,j))\n",
    "    \n",
    "    for (i,j) in candidate:\n",
    "        for d in [(0,1), (0,-1), (1,0), (-1,0)]:\n",
    "            x = i + d[0]\n",
    "            y = j + d[1]\n",
    "            if 0 <= x < len(matrix) and 0 <= y < len(matrix[0]):\n",
    "                if dp[x][y] > dp[i][j] + 1:\n",
    "                    dp[x][y] = dp[i][j] + 1\n",
    "                    candidate.append((x,y))\n",
    "                \n",
    "    return dp\n",
    "\n",
    "matrix = [\n",
    "    [0, 0, 0],\n",
    "    [0, 1, 0],\n",
    "    [1, 1, 1],\n",
    "]\n",
    "\n",
    "Matrix01(matrix)\n",
    "    "
   ]
  },
  {
   "cell_type": "markdown",
   "metadata": {},
   "source": [
    "# Solution2:\n",
    "初始化一个dp矩阵用来表示每个元素距离最近0的距离，如果Matrix是0，dp存0，否则存无穷大\n",
    "\n",
    "先从左上到右下计算出每个元素上下左右元素的距离0的最小值。当然此时由于前面的元素本身不一定是最优解，所以其上下左右的也不一定是最优解。这只能保证，如果一个元素是最优解的话，那么其右和其下是最优解\n",
    "\n",
    "然后以同样的方式从右下计算到左上，这一轮可以确保一个最优解元素的上和左是最优解。\n",
    "\n",
    "两轮循环后，一个元素的上下左右都会是最优解了。"
   ]
  },
  {
   "cell_type": "code",
   "execution_count": 87,
   "metadata": {},
   "outputs": [
    {
     "data": {
      "text/plain": [
       "[[0, 0, 0], [0, 1, 0], [0, 0, 0]]"
      ]
     },
     "execution_count": 87,
     "metadata": {},
     "output_type": "execute_result"
    }
   ],
   "source": [
    "def updateMatrix2(matrix):\n",
    "    rows, cols = len(matrix), len(matrix[0])\n",
    "    dp = [[0 if matrix[i][j] == 0 else 0x7fffffff for i in range(cols)] for j in range(rows)]\n",
    "    \n",
    "    for i in range(rows):\n",
    "        for j in range(cols):\n",
    "            DP(i, j, dp, matrix, rows, cols)\n",
    "    \n",
    "    for i in range(rows - 1, -1, -1):\n",
    "        for j in range(cols - 1, -1, -1):\n",
    "            DP(i, j, dp, matrix, rows, cols)\n",
    "    \n",
    "    return dp\n",
    "\n",
    "def DP(i, j, dp, matrix, rows, cols):\n",
    "    for (x, y) in [(0, 1), (0, -1), (1, 0), (-1, 0)]:\n",
    "        m = x + i\n",
    "        n = y + j # first error：write j as i\n",
    "        if 0 <= m < rows and 0 <= n < cols:\n",
    "            dp[m][n] = min(dp[m][n], 1 + dp[i][j])\n",
    "\n",
    "matrix = [\n",
    "    [0, 0, 0],\n",
    "    [0, 1, 0],\n",
    "    [0, 0, 0],\n",
    "]\n",
    "updateMatrix2(matrix)\n",
    "\n"
   ]
  },
  {
   "cell_type": "code",
   "execution_count": 88,
   "metadata": {},
   "outputs": [
    {
     "data": {
      "text/plain": [
       "[[0, 0, 0], [0, 1, 0], [0, 0, 0]]"
      ]
     },
     "execution_count": 88,
     "metadata": {},
     "output_type": "execute_result"
    }
   ],
   "source": [
    "def updateMatrix2(matrix):\n",
    "    rows, cols = len(matrix), len(matrix[0])\n",
    "    dp = [[0 if matrix[i][j] == 0 else 0x7fffffff for i in range(cols)] for j in range(rows)]\n",
    "    \n",
    "    for i in range(rows):\n",
    "        for j in range(cols):\n",
    "            DP(i, j, dp, matrix, rows, cols)\n",
    "    \n",
    "    for i in range(rows - 1, -1, -1):\n",
    "        for j in range(cols - 1, -1, -1):\n",
    "            DP(i, j, dp, matrix, rows, cols)\n",
    "    \n",
    "    return dp\n",
    "\n",
    "def DP(i, j, dp, matrix, rows, cols):\n",
    "    for (x, y) in [(0, 1), (0, -1), (1, 0), (-1, 0)]:\n",
    "        m = x + i\n",
    "        n = y + j # first error：write j as i\n",
    "        if 0 <= m < rows and 0 <= n < cols:\n",
    "            dp[m][n] = min(dp[m][n], 1 + dp[i][j])\n",
    "\n",
    "matrix = [\n",
    "    [0, 0, 0],\n",
    "    [0, 1, 0],\n",
    "    [0, 0, 0],\n",
    "]\n",
    "updateMatrix2(matrix)\n",
    "\n"
   ]
  },
  {
   "cell_type": "markdown",
   "metadata": {},
   "source": [
    "# Graph Practice IV #"
   ]
  },
  {
   "cell_type": "markdown",
   "metadata": {},
   "source": [
    "### <a id='Ex1'>Ex.1 Accounts Merge</a>\n",
    "\n",
    "Given a list accounts, each element accounts[i] is a list of strings, where the first element accounts[i][0] is a name, and the rest of the elements are emails representing emails of the account.\n",
    "\n",
    "Now, we would like to merge these accounts. Two accounts definitely belong to the same person if there is some email that is common to both accounts. Note that even if two accounts have the same name, they may belong to different people as people could have the same name. A person can have any number of accounts initially, but all of their accounts definitely have the same name.\n",
    "\n",
    "After merging the accounts, return the accounts in the following format: the first element of each account is the name, and the rest of the elements are emails in sorted order. The accounts themselves can be returned in any order.\n",
    "\n",
    "Example 1:\n",
    "\n",
    "Input: \n"
   ]
  },
  {
   "cell_type": "code",
   "execution_count": 100,
   "metadata": {
    "collapsed": true
   },
   "outputs": [],
   "source": [
    "accounts = [\n",
    "    [\"John\", \"johnsmith@mail.com\", \"john00@mail.com\"], \n",
    "    [\"John\", \"johnnybravo@mail.com\"], \n",
    "    [\"John\", \"johnsmith@mail.com\", \"john_newyork@mail.com\"], \n",
    "    [\"Mary\", \"mary@mail.com\"]\n",
    "]\n",
    "\n",
    "Output = [\n",
    "    [\"John\", 'john00@mail.com', 'john_newyork@mail.com', 'johnsmith@mail.com'],  \n",
    "    [\"John\", \"johnnybravo@mail.com\"], \n",
    "    [\"Mary\", \"mary@mail.com\"]\n",
    "]"
   ]
  },
  {
   "cell_type": "markdown",
   "metadata": {},
   "source": [
    "Explanation: \n",
    "\n",
    "The first and third John's are the same person as they have the common email \"johnsmith@mail.com\".\n",
    "\n",
    "The second John and Mary are different people as none of their email addresses are used by other accounts.\n",
    "\n",
    "We could return these lists in any order."
   ]
  },
  {
   "cell_type": "markdown",
   "metadata": {},
   "source": [
    "** Solution **\n",
    "\n",
    "We give each account an ID, based on the index of it within the list of accounts.\n"
   ]
  },
  {
   "cell_type": "code",
   "execution_count": null,
   "metadata": {
    "collapsed": true
   },
   "outputs": [],
   "source": []
  }
 ],
 "metadata": {
  "kernelspec": {
   "display_name": "Python 3",
   "language": "python",
   "name": "python3"
  },
  "language_info": {
   "codemirror_mode": {
    "name": "ipython",
    "version": 3
   },
   "file_extension": ".py",
   "mimetype": "text/x-python",
   "name": "python",
   "nbconvert_exporter": "python",
   "pygments_lexer": "ipython3",
   "version": "3.6.1"
  }
 },
 "nbformat": 4,
 "nbformat_minor": 2
}
