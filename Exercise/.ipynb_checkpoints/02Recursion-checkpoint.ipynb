{
 "cells": [
  {
   "cell_type": "markdown",
   "metadata": {},
   "source": [
    "### <a id='Ex1'>Ex.1 Simple Example 求和 </a>"
   ]
  },
  {
   "cell_type": "code",
   "execution_count": 3,
   "metadata": {},
   "outputs": [
    {
     "data": {
      "text/plain": [
       "55"
      ]
     },
     "execution_count": 3,
     "metadata": {},
     "output_type": "execute_result"
    }
   ],
   "source": [
    "def sum_recursion(num):\n",
    "    if num == 0:\n",
    "        return 0\n",
    "    return sum_recursion(num - 1) + num\n",
    "\n",
    "sum_recursion(10)"
   ]
  },
  {
   "cell_type": "markdown",
   "metadata": {},
   "source": [
    "### <a id='Ex2'>Ex.2 阶乘 </a>"
   ]
  },
  {
   "cell_type": "code",
   "execution_count": 5,
   "metadata": {},
   "outputs": [
    {
     "data": {
      "text/plain": [
       "24"
      ]
     },
     "execution_count": 5,
     "metadata": {},
     "output_type": "execute_result"
    }
   ],
   "source": [
    "def factorial_recursive(num):\n",
    "    if num == 0:\n",
    "        return 1\n",
    "    return factorial_recursive(num - 1) * num\n",
    "\n",
    "factorial_recursive(4)"
   ]
  },
  {
   "cell_type": "markdown",
   "metadata": {},
   "source": [
    "### <a id='Ex3'>Ex.3 斐波那契数列 </a>"
   ]
  },
  {
   "cell_type": "code",
   "execution_count": 8,
   "metadata": {},
   "outputs": [
    {
     "data": {
      "text/plain": [
       "3"
      ]
     },
     "execution_count": 8,
     "metadata": {},
     "output_type": "execute_result"
    }
   ],
   "source": [
    "def fibonacci(n):\n",
    "    if n == 1 or n == 2:\n",
    "        return 1\n",
    "    return fibonacci(n - 1) + fibonacci(n - 2)\n",
    "\n",
    "fibonacci(4)"
   ]
  },
  {
   "cell_type": "markdown",
   "metadata": {},
   "source": [
    "### <a id='Ex4'>Ex.4 打印尺子 </a>\n",
    "\n",
    "1\n",
    "\n",
    "1 2 1\n",
    "\n",
    "1 2 1 3 1 2 1\n",
    "\n",
    "1 2 1 3 1 2 1 4 1 2 1 3 1 2 1\n"
   ]
  },
  {
   "cell_type": "code",
   "execution_count": 10,
   "metadata": {},
   "outputs": [
    {
     "data": {
      "text/plain": [
       "'1 2 1 3 1 2 1 4 1 2 1 3 1 2 1'"
      ]
     },
     "execution_count": 10,
     "metadata": {},
     "output_type": "execute_result"
    }
   ],
   "source": [
    "def ruler(n):\n",
    "    if n == 1:\n",
    "        return '1'\n",
    "    return ruler(n-1) + ' ' + str(n) + ' ' + ruler(n-1)\n",
    "\n",
    "ruler(4)"
   ]
  },
  {
   "cell_type": "markdown",
   "metadata": {},
   "source": [
    "### <a id='Ex5'>Ex.5 数学表达式  </a>\n",
    "\n",
    "Given two integers a ≤ b, write a program  that transforms a into b by a minimum sequence of increment (add 1) and unfolding (multiply by 2) operations.\n",
    "\n",
    "For example, \t\n",
    "\n",
    "23 = ((5 * 2 + 1) * 2 + 1) \n",
    "\n",
    "113 = ((((11 + 1) + 1) + 1) * 2 * 2 * 2 + 1)\n",
    "\n"
   ]
  },
  {
   "cell_type": "code",
   "execution_count": 14,
   "metadata": {},
   "outputs": [
    {
     "data": {
      "text/plain": [
       "'((5 * 2 + 1) * 2 + 1)'"
      ]
     },
     "execution_count": 14,
     "metadata": {},
     "output_type": "execute_result"
    }
   ],
   "source": [
    "def intseq(a, b):\n",
    "    if a < b:\n",
    "        return -1\n",
    "    if a == b:\n",
    "        return str(b)\n",
    "    if a % 2 == 0 and a // 2 >= b:\n",
    "        return intseq(a//2, b) + ' * 2'\n",
    "    elif a > b:\n",
    "        return '(' + intseq(a-1, b) + ' + 1)' \n",
    "    \n",
    "intseq(23, 5) "
   ]
  },
  {
   "cell_type": "markdown",
   "metadata": {},
   "source": [
    "### <a id='Ex7'>Ex.7 汉诺塔  </a>\n",
    "<img src=\"../images/ch02/hanoi.jpg\" width=\"350\"/>"
   ]
  },
  {
   "cell_type": "code",
   "execution_count": 1,
   "metadata": {},
   "outputs": [
    {
     "name": "stdout",
     "output_type": "stream",
     "text": [
      "Move from A to C\n",
      "Move from A to B\n",
      "Move from C to B\n",
      "Move from A to C\n",
      "Move from B to A\n",
      "Move from B to C\n",
      "Move from A to C\n"
     ]
    }
   ],
   "source": [
    "def hanoi(n, A, B, C):\n",
    "    if n == 1:\n",
    "        print(\"Move from \" + A + \" to \" + C)\n",
    "    else:\n",
    "        hanoi(n-1, A, C, B) # move n-1 level from A to B by C\n",
    "        print(\"Move from \" + A + \" to \" + C) # move the basest on from A to C\n",
    "        hanoi(n-1, B, A, C) # move n-1 level from B to C by A\n",
    "\n",
    "hanoi(3, \"A\", \"B\", \"C\")"
   ]
  },
  {
   "cell_type": "markdown",
   "metadata": {},
   "source": [
    "# Recursion II"
   ]
  },
  {
   "cell_type": "markdown",
   "metadata": {},
   "source": [
    "By the end of this chapter, you should be able to answer these questions. (They are the most interviewed questions in recursion.)\n",
    "\n",
    "- Subset\n",
    "- Permutation\n",
    "- Combination\n",
    "- N Queens\n"
   ]
  },
  {
   "cell_type": "markdown",
   "metadata": {},
   "source": [
    "** Ex.1 Subset **\n",
    "\n",
    "Given a set of distinct integers, nums, return all possible subsets"
   ]
  },
  {
   "cell_type": "code",
   "execution_count": 5,
   "metadata": {},
   "outputs": [
    {
     "data": {
      "text/plain": [
       "[[], [1], [2], [1, 2], [3], [1, 3], [2, 3], [1, 2, 3]]"
      ]
     },
     "execution_count": 5,
     "metadata": {},
     "output_type": "execute_result"
    }
   ],
   "source": [
    "def subset(nums):\n",
    "    result = [[]] # start from empty set\n",
    "    n = len(nums)\n",
    "    for i in range(n):\n",
    "        newRst = result[:]\n",
    "        for sub in result:\n",
    "            newElement = sub[:]\n",
    "            newElement.append(nums[i])\n",
    "            newRst.append(newElement)\n",
    "        result = newRst[:]\n",
    "    return result\n",
    "\n",
    "def subset(nums):\n",
    "    result = [[]]\n",
    "    n = len(nums)\n",
    "    for i in range(n):\n",
    "        for sub in result[:]:\n",
    "            newElement = sub[:]\n",
    "            newElement.append(nums[i])\n",
    "            result.append(newElement)\n",
    "    return result\n",
    "\n",
    "nums = [1, 2, 3]\n",
    "subset(nums)\n",
    "            \n",
    "    "
   ]
  },
  {
   "cell_type": "code",
   "execution_count": 12,
   "metadata": {},
   "outputs": [
    {
     "data": {
      "text/plain": [
       "[[], [1], [1, 2], [1, 2, 3], [1, 3], [2], [2, 3], [3]]"
      ]
     },
     "execution_count": 12,
     "metadata": {},
     "output_type": "execute_result"
    }
   ],
   "source": [
    "# Redo\n",
    "def subset_backtracking(nums):\n",
    "    result = []\n",
    "    lst = []\n",
    "    subset_backtracking_helper(result, lst, nums, 0)\n",
    "    return result\n",
    "\n",
    "def subset_backtracking_helper(result, lst, nums, pos):\n",
    "    result.append(lst[:]) # 不要漏掉[:]，否则会改写lst\n",
    "    for i in range(pos, len(nums)):\n",
    "        lst.append(nums[i])\n",
    "        subset_backtracking_helper(result, lst, nums, i + 1) # 此处i+1不要写成pos+1\n",
    "        lst.pop()\n",
    "    return result\n",
    "\n",
    "nums = [1, 2, 3]\n",
    "subset_backtracking(nums)"
   ]
  },
  {
   "cell_type": "markdown",
   "metadata": {},
   "source": [
    "** Ex.3 Permutation **\n",
    "\n",
    "Given abc:\n",
    "\n",
    "Output: bca cba cab acb bac abc"
   ]
  },
  {
   "cell_type": "code",
   "execution_count": 4,
   "metadata": {},
   "outputs": [
    {
     "name": "stdout",
     "output_type": "stream",
     "text": [
      "123\n",
      "132\n",
      "213\n",
      "231\n",
      "312\n",
      "321\n"
     ]
    }
   ],
   "source": [
    "def perm(result, nums):\n",
    "    if len(nums) == 0:\n",
    "        print(result)\n",
    "    for i in range(len(nums)):\n",
    "        a = result + str(nums[i])\n",
    "        perm(a, nums[:i]+nums[i+1:])\n",
    "perm(\"\", [1,2,3])"
   ]
  },
  {
   "cell_type": "code",
   "execution_count": 19,
   "metadata": {},
   "outputs": [
    {
     "data": {
      "text/plain": [
       "[[3, 2, 1], [2, 3, 1], [2, 1, 3], [3, 1, 2], [1, 3, 2], [1, 2, 3]]"
      ]
     },
     "execution_count": 19,
     "metadata": {},
     "output_type": "execute_result"
    }
   ],
   "source": [
    "def perm(nums):\n",
    "    rst = [[]]\n",
    "    for i in range(len(nums)): # 对每一个数字执行一遍\n",
    "        rstTmp = [] # 易错点：这里不要写成rstTmp = rst[:], 因为rstTmp不应该包括之前的元素，比如装填[]的时候就不要复制[]本身了\n",
    "        for j in range(len(rst)): # 对rst中的每一个元素也要执行一次\n",
    "            for k in range(len(rst[j]) + 1): # 对每一个rst[j]见缝插针\n",
    "                rstTmp.append(rst[j][:k] + [nums[i]] + rst[j][k:])\n",
    "        rst = rstTmp\n",
    "    return rst\n",
    "\n",
    "perm([1,2,3])\n",
    "                \n",
    "            "
   ]
  },
  {
   "cell_type": "code",
   "execution_count": 7,
   "metadata": {},
   "outputs": [
    {
     "name": "stdout",
     "output_type": "stream",
     "text": [
      "312\n"
     ]
    }
   ],
   "source": [
    "import math\n",
    "\n",
    "def getPermutation(n, k):\n",
    "    nums = [str(_) for _ in range(1,n+1)]\n",
    "    k -= 1\n",
    "    ans = \"\"\n",
    "    for i in range(n)[::-1]:\n",
    "        # 因为排列组合的顺序和阶乘有关，比如3个数的排列组合，那么以每个数开头的排列组合就有（3-1）！个，这一行是找出开头的数字\n",
    "        ans += nums.pop(k // math.factorial(i)) # factorial用来求阶乘\n",
    "        # 接着找下一个开头的数字，因此要算出以第二位开头的数字中，排第几\n",
    "        k %= math.factorial(i)\n",
    "    return ans\n",
    "\n",
    "nums = [1, 2, 3]\n",
    "print(getPermutation(3,5))"
   ]
  },
  {
   "cell_type": "markdown",
   "metadata": {},
   "source": [
    "** Ex.4 Permutation Unique **"
   ]
  },
  {
   "cell_type": "code",
   "execution_count": 19,
   "metadata": {},
   "outputs": [
    {
     "name": "stdout",
     "output_type": "stream",
     "text": [
      "122\n",
      "212\n",
      "221\n"
     ]
    }
   ],
   "source": [
    "def permUnique(result, nums):\n",
    "    nums.sort()\n",
    "    if len(nums) == 0:\n",
    "        print(result)\n",
    "    for i in range(len(nums)):\n",
    "        if i != 0 and nums[i] == nums[i-1]:\n",
    "            continue\n",
    "        tmp = result[:] + str(nums[i])\n",
    "#         result = result + str(nums[i])\n",
    "        permUnique(tmp, nums[:i] + nums[i+1:])\n",
    "\n",
    "nums = [1, 2, 2]\n",
    "permUnique(\"\", nums)"
   ]
  },
  {
   "cell_type": "code",
   "execution_count": 11,
   "metadata": {},
   "outputs": [
    {
     "data": {
      "text/plain": [
       "[[2, 2, 1], [2, 1, 2], [1, 2, 2]]"
      ]
     },
     "execution_count": 11,
     "metadata": {},
     "output_type": "execute_result"
    }
   ],
   "source": [
    "def permUnique(nums):\n",
    "    rst = [[]]\n",
    "    for i in range(len(nums)):\n",
    "        tmp = []\n",
    "        for j in range(len(rst)):\n",
    "            for k in range(len(rst[j]) + 1):\n",
    "                if i != 0 and k != 0 and nums[i] == rst[j][k-1]:\n",
    "                    break\n",
    "                tmp.append(rst[j][:k] + [nums[i]] + rst[j][k:])\n",
    "        rst = tmp\n",
    "    return rst\n",
    "\n",
    "nums = [1,2,2]\n",
    "permUnique(nums)"
   ]
  },
  {
   "cell_type": "markdown",
   "metadata": {},
   "source": [
    "** Ex.7 Combination Sum **\n",
    "\n",
    "Given a set of candidate numbers (candidates) (without duplicates) and a target number (target), find all unique combinations in candidates where the candidate numbers sums to target.\n",
    "\n",
    "The same repeated number may be chosen from candidates unlimited number of times."
   ]
  },
  {
   "cell_type": "code",
   "execution_count": 3,
   "metadata": {},
   "outputs": [
    {
     "data": {
      "text/plain": [
       "[[2, 2, 3], [7]]"
      ]
     },
     "execution_count": 3,
     "metadata": {},
     "output_type": "execute_result"
    }
   ],
   "source": [
    "def combSum(candi, target):\n",
    "    rst = []\n",
    "    tmp = []\n",
    "    combSumHelper(rst, tmp, candi, target, 0)\n",
    "    return rst\n",
    "\n",
    "def combSumHelper(rst, tmp, candi, remain, start):\n",
    "    if remain == 0:\n",
    "        rst.append(tmp[:])\n",
    "    elif remain < 0:\n",
    "        return \n",
    "    else:\n",
    "        for i in range(start, len(candi)):\n",
    "            tmp.append(candi[i])\n",
    "            re = remain - candi[i] # 注意：这里不能写remain = remain - candi[i], 因为如果在第一层循环改变了remain，会影响到后面的循环\n",
    "            combSumHelper(rst, tmp, candi, re, i)\n",
    "            tmp.pop()\n",
    "\n",
    "candi = [2,3,6,7]\n",
    "target = 7\n",
    "combSum(candi, target)"
   ]
  },
  {
   "cell_type": "markdown",
   "metadata": {},
   "source": [
    "** Ex.8 Combination Sum II **\n",
    "\n",
    "Given a collection of candidate numbers (candidates) and a target number (target), find all unique combinations in candidates where the candidate numbers sums to target.\n",
    "\n",
    "Each number in candidates may only be used once in the combination.\n",
    "\n",
    "Note:\n",
    "\n",
    "All numbers (including target) will be positive integers.\n",
    "\n",
    "The solution set must not contain duplicate combinations."
   ]
  },
  {
   "cell_type": "code",
   "execution_count": 5,
   "metadata": {},
   "outputs": [
    {
     "data": {
      "text/plain": [
       "[[1, 1, 6], [1, 2, 5], [1, 7], [1, 2, 5], [1, 7], [2, 6]]"
      ]
     },
     "execution_count": 5,
     "metadata": {},
     "output_type": "execute_result"
    }
   ],
   "source": [
    "def combSum(nums, target):\n",
    "    nums.sort()\n",
    "    rst = []\n",
    "    tmp = []\n",
    "    combSumHelper(rst, tmp, nums, target, 0)\n",
    "    return rst\n",
    "    \n",
    "def combSumHelper(rst, tmp, nums, remain, start):\n",
    "    if remain < 0:\n",
    "        return\n",
    "    if remain == 0:\n",
    "        rst.append(tmp[:])\n",
    "    else:\n",
    "        for i in range(start, len(nums)):\n",
    "            tmp.append(nums[i])\n",
    "            combSumHelper(rst, tmp, nums, remain - nums[i], i + 1)\n",
    "            tmp.pop()\n",
    "\n",
    "candidates = [10,1,2,7,6,1,5]\n",
    "t = 8\n",
    "combSum(candidates, t)"
   ]
  },
  {
   "cell_type": "markdown",
   "metadata": {},
   "source": [
    "** Ex.9 Parentheses **\n",
    "\n",
    "Given n pairs of parentheses, write a function to generate all combinations of well-formed parentheses."
   ]
  },
  {
   "cell_type": "code",
   "execution_count": 13,
   "metadata": {},
   "outputs": [
    {
     "name": "stdout",
     "output_type": "stream",
     "text": [
      "[['(', '(', ')', ')'], ['(', ')', '(', ')']]\n"
     ]
    }
   ],
   "source": [
    "def generate(prefix, left, right, rst):\n",
    "    if right == 0:\n",
    "        rst.append(prefix[:])\n",
    "    if left > 0:\n",
    "        prefix.append('(')\n",
    "        generate(prefix, left - 1, right, rst)\n",
    "        prefix.pop()\n",
    "    if right > left:\n",
    "        prefix.append(')')\n",
    "        generate(prefix, left, right - 1, rst)\n",
    "        prefix.pop()\n",
    "\n",
    "prefix = []\n",
    "rst = []\n",
    "generate(prefix, 2, 2, rst)\n",
    "print(rst)"
   ]
  },
  {
   "cell_type": "code",
   "execution_count": null,
   "metadata": {
    "collapsed": true
   },
   "outputs": [],
   "source": []
  }
 ],
 "metadata": {
  "kernelspec": {
   "display_name": "Python 3",
   "language": "python",
   "name": "python3"
  },
  "language_info": {
   "codemirror_mode": {
    "name": "ipython",
    "version": 3
   },
   "file_extension": ".py",
   "mimetype": "text/x-python",
   "name": "python",
   "nbconvert_exporter": "python",
   "pygments_lexer": "ipython3",
   "version": "3.6.1"
  }
 },
 "nbformat": 4,
 "nbformat_minor": 4
}
