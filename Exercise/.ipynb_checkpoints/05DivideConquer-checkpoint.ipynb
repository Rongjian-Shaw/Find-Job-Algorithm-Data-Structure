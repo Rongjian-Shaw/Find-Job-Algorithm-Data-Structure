{
 "cells": [
  {
   "cell_type": "markdown",
   "metadata": {},
   "source": [
    "** 我们已经见过的Divide and Conquer相关的问题：**\n",
    "\n",
    "- Binary Search\n",
    "- Merge Sort\n",
    "- Quick Sort\n",
    "\n",
    "The divide-and-conquer strategy solves a problem by:\n",
    "1. Breaking it into subproblems that are themselves smaller instances of the same type of problem\n",
    "2. Recursively solving these subproblems\n",
    "3. Appropriately combining their answers\n",
    "\n",
    "The real work is done piecemeal, in three different places: in the partitioning of problems into subproblems; at the very tail end of the recursion, when the subproblems are so small that they are solved outright; and in the gluing together of partial answers. These are held together and coordinated by the algorithm’s core recursive structure."
   ]
  },
  {
   "cell_type": "markdown",
   "metadata": {
    "run_control": {
     "frozen": false,
     "read_only": false
    }
   },
   "source": [
    "### <a id='Ex1'>Ex.1: Find Medium / Find kth Element</a>\n",
    "\n",
    "See Document."
   ]
  },
  {
   "cell_type": "code",
   "execution_count": 5,
   "metadata": {},
   "outputs": [
    {
     "data": {
      "text/plain": [
       "3"
      ]
     },
     "execution_count": 5,
     "metadata": {},
     "output_type": "execute_result"
    }
   ],
   "source": [
    "def find_kth_element(alist, k):\n",
    "    if len(alist) < k:\n",
    "        return -1\n",
    "    pos = partition(alist) # return the index of the leftest ele\n",
    "    \n",
    "    if k < pos+1:\n",
    "        rst = find_kth_element(alist[:pos], k)\n",
    "    elif k > pos+1:\n",
    "        rst = find_kth_element(alist[pos+1:], k-pos-1)\n",
    "    else:\n",
    "        rst = alist[pos]\n",
    "    return rst\n",
    "\n",
    "def partition(alist):\n",
    "    pivot = alist[0]\n",
    "    left, right = 0, len(alist)-1\n",
    "    while left < right:\n",
    "        while left < right and alist[right] > pivot:\n",
    "            right = right-1\n",
    "        alist[left] = alist[right]\n",
    "        while left < right and alist[left] < pivot:\n",
    "            left = left+1\n",
    "        alist[right] = alist[left]\n",
    "    alist[left] = pivot # 这句别漏了\n",
    "    return left\n",
    "\n",
    "alist = [3,4,1,6,5,2]\n",
    "find_kth_element(alist, 3)\n",
    "# 对partition的理解：\n",
    "# 1. 如果左端的数作pivot，那一定是从右指针开始移动，因为第一个数需要和pivot进行替换，而左侧代表着最小\n",
    "# 2. 最后l与r必定重合，而且重合的位置一定刚刚被复制到另一个地方，也就是说重合位置上的数一定是冗余的\n",
    "# 3. 冗余位的两侧必定已经符合条件（都被遍历过）"
   ]
  },
  {
   "cell_type": "markdown",
   "metadata": {},
   "source": [
    "### <a id='Ex2'>Ex.2: Fast Power</a>"
   ]
  },
  {
   "cell_type": "code",
   "execution_count": 6,
   "metadata": {},
   "outputs": [
    {
     "data": {
      "text/plain": [
       "32"
      ]
     },
     "execution_count": 6,
     "metadata": {},
     "output_type": "execute_result"
    }
   ],
   "source": [
    "def fast_power(x, n):\n",
    "    if n == 0:\n",
    "        return 1\n",
    "    if n == 1:\n",
    "        return x\n",
    "    if n%2 == 1:\n",
    "        return fast_power(x*x, (n-1)//2) * x\n",
    "    else:\n",
    "        return fast_power(x*x, n//2)\n",
    "\n",
    "fast_power(2, 5)"
   ]
  },
  {
   "cell_type": "markdown",
   "metadata": {},
   "source": [
    "### <a id='Ex3'>Ex.3: Search Peak Element</a>\n",
    "\n",
    "The array has no duplicates, may contain multiple peaks, return the index to any one of the peaks.\n",
    "\n",
    "You may imagine that num[-1] = num[n] = -∞. "
   ]
  },
  {
   "cell_type": "code",
   "execution_count": null,
   "metadata": {
    "collapsed": true
   },
   "outputs": [],
   "source": [
    "def search_peak(alist):\n",
    "    if len(alist) == 0:\n",
    "        return -1\n",
    "    left, right = 0, len(alist)-1\n",
    "    "
   ]
  }
 ],
 "metadata": {
  "kernelspec": {
   "display_name": "Python 3",
   "language": "python",
   "name": "python3"
  },
  "language_info": {
   "codemirror_mode": {
    "name": "ipython",
    "version": 3
   },
   "file_extension": ".py",
   "mimetype": "text/x-python",
   "name": "python",
   "nbconvert_exporter": "python",
   "pygments_lexer": "ipython3",
   "version": "3.6.1"
  }
 },
 "nbformat": 4,
 "nbformat_minor": 4
}
