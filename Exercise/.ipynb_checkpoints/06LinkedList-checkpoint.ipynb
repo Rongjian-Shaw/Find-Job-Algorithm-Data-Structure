{
 "cells": [
  {
   "cell_type": "code",
   "execution_count": 2,
   "metadata": {},
   "outputs": [
    {
     "name": "stdout",
     "output_type": "stream",
     "text": [
      "Linked List: \n",
      "3 2 1 \n",
      "Linked List: \n",
      "1 \n",
      "Linked List: \n",
      "\n",
      "Linked List: \n",
      "3 4 5 6 7 \n"
     ]
    }
   ],
   "source": [
    "from Empty import Empty\n",
    "from Outbound import Outbound\n",
    "\n",
    "class Node:\n",
    "    def __init__ (self, value = None, next = None):\n",
    "        self.value = value\n",
    "        self.next = next\n",
    "        \n",
    "\n",
    "class LinkedList:\n",
    "    \n",
    "    def __init__(self):\n",
    "        self.head = Node()\n",
    "        self.length = 0\n",
    "\n",
    "    def peek(self):\n",
    "        pass\n",
    "\n",
    "    def get_first(self):\n",
    "        if not self.head.next:\n",
    "            raise Empty( 'LinkedList is empty' )\n",
    "        return self.head.next\n",
    "        \n",
    "    def get_last(self):\n",
    "        if not self.head.next:\n",
    "            raise Empty( 'LinkedList is empty' )\n",
    "        p = self.head\n",
    "        while p.next != None:\n",
    "            p = p.next\n",
    "        return p\n",
    "    \n",
    "    def get(self, index):\n",
    "        if index >= self.length and index < 0:\n",
    "            raise Outbound( 'index is out of bound' )\n",
    "        if not self.head.next:\n",
    "            raise Empty( 'LinkedList is empty' )\n",
    "        p = self.head.next\n",
    "        for i in range(index):\n",
    "            p = p.next\n",
    "        return p\n",
    "                \n",
    "    def add_first(self, value):\n",
    "        newNode = Node(value=value)\n",
    "        newNode.next = self.head.next\n",
    "        self.head.next = newNode\n",
    "        self.length += 1\n",
    "        \n",
    "    def add_last(self, value):\n",
    "        newNode = Node(value=value)\n",
    "        p = self.head\n",
    "        while p.next != None:\n",
    "            p = p.next\n",
    "        p.next = newNode\n",
    "        self.length += 1\n",
    "\n",
    "    def add(self, index, value):\n",
    "        if index >= self.length and index < 0:\n",
    "            raise Outbound( 'index is out of bound')\n",
    "        if not self.head.next:\n",
    "            raise Empty( 'LinkedList is empty' )\n",
    "        p = self.head\n",
    "        newNode = Node(value = value)\n",
    "        for i in range(index):\n",
    "            p = p.next\n",
    "        newNode.next = p.next\n",
    "        p.next = newNode\n",
    "        self.length += 1\n",
    "        \n",
    "    def remove_first(self):\n",
    "        if not self.head.next:\n",
    "            raise Empty( 'LinkedList is empty' )\n",
    "        node = self.head.next\n",
    "        self.head.next = self.head.next.next\n",
    "        self.length -= 1\n",
    "        return node\n",
    "        \n",
    "    def remove_last(self):\n",
    "        if not self.head.next:\n",
    "            raise Empty( 'LinkedList is empty' )\n",
    "        p = self.head\n",
    "        prev = p\n",
    "        while p.next != None:\n",
    "            prev = p\n",
    "            p = p.next\n",
    "        prev.next = None\n",
    "        self.length -= 1\n",
    "        return p.value\n",
    "    \n",
    "    def remove(self, index):\n",
    "        if index >= self.length and index < 0:\n",
    "            raise Outbound( 'index is out of bound')\n",
    "        if not self.head.next:\n",
    "            raise Empty( 'LinkedList is empty' )\n",
    "        p = self.head\n",
    "        for i in range(index):\n",
    "            p = p.next\n",
    "        node = p.next\n",
    "        p.next = p.next.next\n",
    "        self.length -= 1\n",
    "        return node\n",
    "        \n",
    "    def printlist(self):\n",
    "        p = self.head.next\n",
    "        while p != None:\n",
    "            print(p.value, end = \" \")\n",
    "            p = p.next\n",
    "        print('')\n",
    "\n",
    "if __name__ == \"__main__\":\n",
    "#     ll = LinkedList()\n",
    "#     for i in range(1, 10):\n",
    "#         ll.add_last(i)\n",
    "#         #ll.add_end(i+1)\n",
    "        \n",
    "#     mm = LinkedList()\n",
    "#     for i in range(100, 110):\n",
    "#         mm.add_last(i)\n",
    "#         #ll.add_end(i+1)        \n",
    "    \n",
    "#     ll.printlist()\n",
    "#     mm.printlist()\n",
    "    \n",
    "    \n",
    "#     ll.add_first(0)    \n",
    "#     ll.add_first(-1)\n",
    "#     print('Linked List: ')\n",
    "#     ll.printlist()\n",
    "    \n",
    "# #     node = ll.peek()\n",
    "# #     print('peek: ' , str(node.value))\n",
    "#     node = ll.get_first()\n",
    "#     print('get first: ' , str(node.value))\n",
    "#     node = ll.get_last()\n",
    "#     print('get last: ' , str(node.value))\n",
    "#     node = ll.get(0)\n",
    "#     print('get position 0: ' , str(node.value))\n",
    "#     node = ll.get(2)\n",
    "#     print('get position 2: ' , str(node.value))\n",
    "#     ll.add(0, -2)\n",
    "#     ll.add(4, 1.5)\n",
    "#     print('Linked List: ')\n",
    "#     ll.printlist()\n",
    "#     node = ll.remove(0)\n",
    "#     print('remove position 0: ' , str(node.value))\n",
    "#     ll.printlist()\n",
    "#     node = ll.remove(3)\n",
    "#     print('remove position 3: ' , str(node.value))\n",
    "#     ll.printlist()\n",
    "    \n",
    "    \n",
    "    ll = LinkedList()\n",
    "    for i in range(1, 4):\n",
    "        ll.add_first(i)\n",
    "        #ll.add_end(i+1)\n",
    "    print('Linked List: ')\n",
    "    ll.printlist()\n",
    "    ll.remove_first()\n",
    "    ll.remove_first()\n",
    "    print('Linked List: ')\n",
    "    ll.printlist()\n",
    "    ll.remove_first()\n",
    "    print('Linked List: ')\n",
    "    ll.printlist()\n",
    "    \n",
    "    ll = LinkedList()\n",
    "    for i in range(1, 10):\n",
    "        ll.add_last(i)\n",
    "        \n",
    "    ll.remove_first()\n",
    "    ll.remove_last()\n",
    "    ll.remove_first()\n",
    "    ll.remove_last()\n",
    "    print('Linked List: ')\n",
    "    ll.printlist()"
   ]
  },
  {
   "cell_type": "markdown",
   "metadata": {},
   "source": [
    "### <a id='Ex2'>Ex.2 Find the Middle Node</a>"
   ]
  },
  {
   "cell_type": "code",
   "execution_count": 5,
   "metadata": {},
   "outputs": [
    {
     "name": "stdout",
     "output_type": "stream",
     "text": [
      "5\n"
     ]
    },
    {
     "data": {
      "text/plain": [
       "<__main__.Node at 0x1ff502bb400>"
      ]
     },
     "execution_count": 5,
     "metadata": {},
     "output_type": "execute_result"
    }
   ],
   "source": [
    "def find_mid(lst):\n",
    "    if lst.head.next == None:\n",
    "        return -1\n",
    "    fast, slow = lst.head, lst.head\n",
    "    while fast != None and fast.next != None:\n",
    "        fast = fast.next.next\n",
    "        slow = slow.next\n",
    "    print(slow.value)\n",
    "    return slow\n",
    "\n",
    "find_mid(ll)"
   ]
  },
  {
   "cell_type": "markdown",
   "metadata": {},
   "source": [
    "### <a id='Ex3'>Ex.3 Has Cycle </a>\n",
    "\n",
    "Determine whether a linked list has cycle"
   ]
  },
  {
   "cell_type": "code",
   "execution_count": 7,
   "metadata": {},
   "outputs": [
    {
     "name": "stdout",
     "output_type": "stream",
     "text": [
      "False\n",
      "True\n"
     ]
    }
   ],
   "source": [
    "def has_cycle(lst):\n",
    "    if lst.head.next == None:\n",
    "        return -1\n",
    "    fast, slow = lst.head, lst.head\n",
    "    while fast != None and fast.next != None:\n",
    "        fast = fast.next.next\n",
    "        slow = slow.next\n",
    "        if fast == slow:\n",
    "            return True\n",
    "    return False\n",
    "\n",
    "lst = LinkedList()\n",
    "lst.add_last(1)\n",
    "lst.add_last(2)\n",
    "lst.add_last(3)\n",
    "lst.add_last(4)\n",
    "print(has_cycle(lst))\n",
    "p = lst.get_last()\n",
    "p.next = lst.head.next\n",
    "print(has_cycle(lst))"
   ]
  },
  {
   "cell_type": "markdown",
   "metadata": {},
   "source": [
    "### <a id='Ex4'>Ex.4 Beginning of Loop </a>\n",
    "\n",
    "Given a circular linked list, find the node at the beginning of the loop."
   ]
  },
  {
   "cell_type": "code",
   "execution_count": 10,
   "metadata": {},
   "outputs": [
    {
     "name": "stdout",
     "output_type": "stream",
     "text": [
      "2\n"
     ]
    }
   ],
   "source": [
    "def begin_loop(lst):\n",
    "    if lst.head.next == None:\n",
    "        return -1\n",
    "    fast, slow = lst.head, lst.head\n",
    "    while fast != None and fast.next != None:\n",
    "        fast = fast.next.next\n",
    "        slow = slow.next\n",
    "        if fast == slow: # they will meet in k(loop begin point) in front of begin point\n",
    "            break\n",
    "    fast = lst.head\n",
    "    while fast != slow:\n",
    "        fast = fast.next\n",
    "        slow = slow.next\n",
    "    return fast\n",
    "\n",
    "lst = LinkedList()\n",
    "lst.add_last(1)\n",
    "lst.add_last(2)\n",
    "lst.add_last(3)\n",
    "lst.add_last(4)\n",
    "lst.add_last(5)\n",
    "lst.add_last(6)\n",
    "p = lst.get_last()\n",
    "p.next = lst.head.next.next\n",
    "print(begin_loop(lst).value)"
   ]
  },
  {
   "cell_type": "markdown",
   "metadata": {},
   "source": [
    "### <a id='Ex5'>Ex.5 Remove Nth to Last</a>\n",
    "\n",
    "Remove the nth to last element of a singly linked list"
   ]
  },
  {
   "cell_type": "code",
   "execution_count": 15,
   "metadata": {},
   "outputs": [
    {
     "name": "stdout",
     "output_type": "stream",
     "text": [
      "1 3 5 7 9 \n",
      "1 3 7 9 5 \n"
     ]
    }
   ],
   "source": [
    "def remove_nth(lst, n):\n",
    "    if n > lst.length:\n",
    "        return -1\n",
    "    fast = lst.head\n",
    "    for i in range(n-1):\n",
    "        fast = fast.next\n",
    "    slow = fast\n",
    "    while fast.next != None:\n",
    "        fast = fast.next\n",
    "    fast.next = slow.next\n",
    "    slow.next = slow.next.next\n",
    "    fast.next.next = None\n",
    "    return lst\n",
    "\n",
    "lst = LinkedList()\n",
    "lst.add_last(1)\n",
    "lst.add_last(3)\n",
    "lst.add_last(5)\n",
    "lst.add_last(7)\n",
    "lst.add_last(9)\n",
    "lst.printlist()\n",
    "# print(remove_nth(lst, 3).value)\n",
    "remove_nth(lst, 3)\n",
    "lst.printlist()"
   ]
  },
  {
   "cell_type": "markdown",
   "metadata": {},
   "source": [
    "### <a id='Ex6'>Ex.6 Split in Half</a>\n",
    "\n",
    "Give a list, split in into two lists, one for the front half, and one for the back half."
   ]
  },
  {
   "cell_type": "code",
   "execution_count": null,
   "metadata": {
    "collapsed": true
   },
   "outputs": [],
   "source": [
    "def split_half(lst):\n",
    "    if lst.length < 2:\n",
    "        return -1\n",
    "    fast, slow = head.next, head.next\n",
    "    while fast != None and fast.next != None:\n",
    "        fast = fast.next.next\n",
    "        slow = slow.next\n",
    "    front = head.next\n",
    "    back = slow.next\n",
    "    slow.next = None\n",
    "    return front, back\n",
    "\n"
   ]
  },
  {
   "cell_type": "markdown",
   "metadata": {},
   "source": [
    "### <a id='Ex1'>Ex.1 Merge Two Sorted Lists</a>\n",
    "\n",
    "Merge two sorted linked lists and return it as a new list.\n",
    "\n",
    "Input: 1->2->4, 1->3->4\n",
    "\n",
    "Output: 1->1->2->3->4->4"
   ]
  },
  {
   "cell_type": "code",
   "execution_count": 3,
   "metadata": {},
   "outputs": [
    {
     "name": "stdout",
     "output_type": "stream",
     "text": [
      "1 1 2 3 4 4 \n"
     ]
    }
   ],
   "source": [
    "def merge(lst1, lst2):\n",
    "    if lst1.head.next == None or lst2.head.next == None:\n",
    "        return -1\n",
    "    p1 = lst1.head.next\n",
    "    p2 = lst2.head.next\n",
    "    dummy = cur = Node(0)\n",
    "    while p1 != None and p2 != None:\n",
    "        if p1.value > p2.value:\n",
    "            cur.next = p2\n",
    "            p2 = p2.next\n",
    "        else:\n",
    "            cur.next = p1\n",
    "            p1 = p1.next\n",
    "        cur = cur.next\n",
    "    cur.next = p1 or p2\n",
    "    return dummy.next\n",
    "\n",
    "node11 = Node(1)\n",
    "node12 = Node(2)\n",
    "node14 = Node(4)\n",
    "node11.next = node12\n",
    "node12.next = node14\n",
    "lst1 = LinkedList()\n",
    "lst1.head.next = node11\n",
    "\n",
    "node21 = Node(1)\n",
    "node23 = Node(3)\n",
    "node24 = Node(4)\n",
    "node21.next = node23\n",
    "node23.next = node24\n",
    "lst2 = LinkedList()\n",
    "lst2.head.next = node21\n",
    "\n",
    "node = merge(lst1, lst2)\n",
    "lst = LinkedList()\n",
    "lst.head.next = node\n",
    "lst.printlist()\n",
    "    "
   ]
  },
  {
   "cell_type": "markdown",
   "metadata": {},
   "source": [
    "### <a id='Ex2'>Ex.2 Intersection of Two Linked Lists</a>\n",
    "\n",
    "Write a program to find the node at which the intersection of two singly linked lists begins.\n",
    "\n",
    "\n",
    "For example, the following two linked lists:\n",
    "\n",
    "A:          a1 → a2\n",
    "\n",
    "                   ↘\n",
    "                   \n",
    "                     c1 → c2 → c3\n",
    "                     \n",
    "                   ↗    \n",
    "                   \n",
    "B:     b1 → b2 → b3\n",
    "\n",
    "begin to intersect at node c1."
   ]
  },
  {
   "cell_type": "markdown",
   "metadata": {},
   "source": [
    "# Solution:\n",
    "方法一：如果可以知道l1和l2的size的话，那么就可以让l1和l2从同一点出发，很容易就找到第一个相同节点。<br>\n",
    "方法二：想找到l1和l2第一个相同点通常需要让l1和l2走相同的路程，这样可以用双指针一个一个的去比较。那么如何让l1和l2走相同的路程？<br>\n",
    "假设A运动员和B运动员跑上面这种类型的赛道，那么只需要让A跑完自己的跑道后再去B的起点跑，B跑完自己的跑道后去A的起点跑，那么AB必定会在第一个相同节点相遇。因为他们后面的路程一定是相同的，且前面跑过的路程也必定是相同的。"
   ]
  },
  {
   "cell_type": "code",
   "execution_count": 4,
   "metadata": {
    "collapsed": true
   },
   "outputs": [],
   "source": [
    "def intersection(lst1, lst2):\n",
    "    if lst1.head.next == None or lst2.head.next == None:\n",
    "        return -1\n",
    "    p1 = lst1.head.next\n",
    "    p2 = lst2.head.next\n",
    "    while p1 != p2:\n",
    "        if p1 == None:\n",
    "            p1 = lst2.head.next\n",
    "        if p2 == None:\n",
    "            p2 = lst1.head.next\n",
    "        p1 = p1.next\n",
    "        p2 = p2.next\n",
    "    return p1"
   ]
  },
  {
   "cell_type": "markdown",
   "metadata": {},
   "source": [
    "### <a id='Ex3'>Ex.3 Insertion Sort List</a>"
   ]
  },
  {
   "cell_type": "markdown",
   "metadata": {},
   "source": [
    "# Solution:\n",
    "对链表进行插入排序<br>\n",
    "插入排序的思路是逐个扫描每个元素，然后将元素插入到其对应的位置。时间复杂度为O(n^2)<br>\n",
    "对链表插入排序需要使用一个dummy node，相当于创建了一个新链表，不过在后面接入的时候不需要去创建新节点，直接链接原链表即可<br>"
   ]
  },
  {
   "cell_type": "code",
   "execution_count": 16,
   "metadata": {},
   "outputs": [
    {
     "name": "stdout",
     "output_type": "stream",
     "text": [
      "1 7 5 3 9 \n",
      "1 3 5 7 9 \n"
     ]
    }
   ],
   "source": [
    "def insertion_sort(lst):\n",
    "    if lst.head.next == None:\n",
    "        return None\n",
    "    cur = lst.head.next.next\n",
    "    prev_cur = lst.head.next\n",
    "    dummy = Node(0)\n",
    "    dummy.next = lst.head.next\n",
    "    while cur != None:\n",
    "        prev_tmp = dummy\n",
    "        tmp = dummy.next\n",
    "        while tmp != cur:\n",
    "            if cur.value < tmp.value:\n",
    "                prev_cur.next = cur.next\n",
    "                cur.next = tmp\n",
    "                prev_tmp.next = cur\n",
    "                break\n",
    "            else:\n",
    "                prev_tmp = prev_tmp.next\n",
    "                tmp = tmp.next\n",
    "        if tmp == cur:\n",
    "            prev_cur = cur\n",
    "            cur = cur.next\n",
    "        else:\n",
    "            cur =prev_cur.next\n",
    "        \n",
    "        \n",
    "    return dummy.next\n",
    "\n",
    "\n",
    "lst = LinkedList()\n",
    "lst.add_last(1)\n",
    "lst.add_last(7)\n",
    "lst.add_last(5)\n",
    "lst.add_last(3)\n",
    "lst.add_last(9)\n",
    "lst.printlist()\n",
    "\n",
    "insertion_sort(lst)\n",
    "lst.printlist()"
   ]
  },
  {
   "cell_type": "code",
   "execution_count": null,
   "metadata": {
    "collapsed": true
   },
   "outputs": [],
   "source": []
  }
 ],
 "metadata": {
  "kernelspec": {
   "display_name": "Python 3",
   "language": "python",
   "name": "python3"
  },
  "language_info": {
   "codemirror_mode": {
    "name": "ipython",
    "version": 3
   },
   "file_extension": ".py",
   "mimetype": "text/x-python",
   "name": "python",
   "nbconvert_exporter": "python",
   "pygments_lexer": "ipython3",
   "version": "3.6.1"
  }
 },
 "nbformat": 4,
 "nbformat_minor": 4
}
