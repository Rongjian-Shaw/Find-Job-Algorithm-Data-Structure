{
 "cells": [
  {
   "cell_type": "markdown",
   "metadata": {},
   "source": [
    "## 输入一个链表，反转链表后，输出新链表的表头。"
   ]
  },
  {
   "cell_type": "code",
   "execution_count": null,
   "metadata": {
    "collapsed": true
   },
   "outputs": [],
   "source": [
    "class Solution:\n",
    "    # 返回ListNode\n",
    "    def ReverseList(self, pHead):\n",
    "        # write code here\n",
    "        if pHead is None:\n",
    "            return None\n",
    "        \n",
    "        pre = None\n",
    "        cur = pHead\n",
    "        \n",
    "        while cur != None:\n",
    "            tail = cur.next\n",
    "            cur.next = pre\n",
    "            pre = cur\n",
    "            cur = tail\n",
    "        \n",
    "        return pre\n",
    "    "
   ]
  },
  {
   "cell_type": "markdown",
   "metadata": {},
   "source": [
    "## 题目描述\n",
    "## 设计LRU缓存结构，该结构在构造时确定大小，假设大小为K，并有如下两个功能\n",
    "1. set(key, value)：将记录(key, value)插入该结构\n",
    "2. get(key)：返回key对应的value值\n",
    "\n",
    "[要求]\n",
    "\n",
    "1. set和get方法的时间复杂度为O(1)\n",
    "2. 某个key的set或get操作一旦发生，认为这个key的记录成了最常使用的。\n",
    "3. 当缓存的大小超过K时，移除最不经常使用的记录，即set或get最久远的。\n",
    "4. 若opt=1，接下来两个整数x, y，表示set(x, y)\n",
    "5. 若opt=2，接下来一个整数x，表示get(x)，若x未出现过或已被移除，则返回-1\n",
    "6. 对于每个操作2，输出一个答案"
   ]
  },
  {
   "cell_type": "code",
   "execution_count": 62,
   "metadata": {},
   "outputs": [
    {
     "name": "stdout",
     "output_type": "stream",
     "text": [
      "1 {1: <__main__.Node object at 0x000001B56FCC4F28>}\n",
      "[1]\n",
      "[1]\n",
      "2 {1: <__main__.Node object at 0x000001B56FCC4F28>, 2: <__main__.Node object at 0x000001B56FCC48D0>}\n",
      "[1, 2]\n",
      "[2, 1]\n",
      "3 {1: <__main__.Node object at 0x000001B56FCC4F28>, 2: <__main__.Node object at 0x000001B56FCC48D0>, 3: <__main__.Node object at 0x000001B56FCB6128>}\n",
      "[1, 2, 3]\n",
      "[3, 2, 1]\n",
      "4 {1: <__main__.Node object at 0x000001B56FCC4F28>, 2: <__main__.Node object at 0x000001B56FCC48D0>, 3: <__main__.Node object at 0x000001B56FCB6128>}\n",
      "[2, 3, 1]\n"
     ]
    },
    {
     "ename": "KeyboardInterrupt",
     "evalue": "",
     "output_type": "error",
     "traceback": [
      "\u001b[1;31m---------------------------------------------------------------------------\u001b[0m",
      "\u001b[1;31mKeyboardInterrupt\u001b[0m                         Traceback (most recent call last)",
      "\u001b[1;32m<ipython-input-62-6af5d0deccf0>\u001b[0m in \u001b[0;36m<module>\u001b[1;34m\u001b[0m\n\u001b[0;32m     82\u001b[0m \u001b[1;31m# operators = [[1,-324690837,-72487934],[1,-723504364,-369145172],[2,-324690837],[1,724101438,-30727452],[1,366967562,290286156],[2,366967562]]\u001b[0m\u001b[1;33m\u001b[0m\u001b[1;33m\u001b[0m\u001b[0m\n\u001b[0;32m     83\u001b[0m \u001b[0mk\u001b[0m \u001b[1;33m=\u001b[0m \u001b[1;36m3\u001b[0m\u001b[1;33m\u001b[0m\u001b[0m\n\u001b[1;32m---> 84\u001b[1;33m \u001b[0ms\u001b[0m\u001b[1;33m.\u001b[0m\u001b[0mLRU\u001b[0m\u001b[1;33m(\u001b[0m\u001b[0moperators\u001b[0m \u001b[1;33m,\u001b[0m \u001b[0mk\u001b[0m\u001b[1;33m)\u001b[0m\u001b[1;33m\u001b[0m\u001b[0m\n\u001b[0m",
      "\u001b[1;32m<ipython-input-62-6af5d0deccf0>\u001b[0m in \u001b[0;36mLRU\u001b[1;34m(self, operators, k)\u001b[0m\n\u001b[0;32m     72\u001b[0m             \u001b[1;32mwhile\u001b[0m \u001b[0mcur\u001b[0m \u001b[1;33m!=\u001b[0m \u001b[0mself\u001b[0m\u001b[1;33m.\u001b[0m\u001b[0mdummy\u001b[0m\u001b[1;33m:\u001b[0m\u001b[1;33m\u001b[0m\u001b[0m\n\u001b[0;32m     73\u001b[0m                 \u001b[0mtmp2\u001b[0m\u001b[1;33m.\u001b[0m\u001b[0mappend\u001b[0m\u001b[1;33m(\u001b[0m\u001b[0mcur\u001b[0m\u001b[1;33m.\u001b[0m\u001b[0mkey\u001b[0m\u001b[1;33m)\u001b[0m\u001b[1;33m\u001b[0m\u001b[0m\n\u001b[1;32m---> 74\u001b[1;33m                 \u001b[0mcur\u001b[0m \u001b[1;33m=\u001b[0m \u001b[0mcur\u001b[0m\u001b[1;33m.\u001b[0m\u001b[0mpre\u001b[0m\u001b[1;33m\u001b[0m\u001b[0m\n\u001b[0m\u001b[0;32m     75\u001b[0m             \u001b[0mprint\u001b[0m\u001b[1;33m(\u001b[0m\u001b[0mtmp2\u001b[0m\u001b[1;33m)\u001b[0m\u001b[1;33m\u001b[0m\u001b[0m\n\u001b[0;32m     76\u001b[0m \u001b[1;33m\u001b[0m\u001b[0m\n",
      "\u001b[1;31mKeyboardInterrupt\u001b[0m: "
     ]
    }
   ],
   "source": [
    "class Node:\n",
    "    def __init__(self, key = 0, value=0):\n",
    "        self.key = key\n",
    "        self.value = value\n",
    "        self.next = None\n",
    "        self.pre = None\n",
    "            \n",
    "class Solution:\n",
    "    def __init__(self, max_size = 0):\n",
    "        self.dummy = Node()\n",
    "        self.tail = self.dummy\n",
    "        self.dic = {}\n",
    "        self.size = 0\n",
    "        self.max_size = max_size\n",
    "    \n",
    "    def set(self, key, value):\n",
    "        if key not in self.dic:\n",
    "            node = Node(key, value)\n",
    "            self.size += 1 # 只有不存在的点才要+size\n",
    "        else:\n",
    "            node = self.dic[key]\n",
    "            node.value = value\n",
    "            pre = node.pre\n",
    "            pre.next = node.next\n",
    "        node.next = None\n",
    "        node.pre = self.tail\n",
    "        self.tail.next = node\n",
    "        self.tail = self.tail.next\n",
    "        self.dic[key] = node\n",
    "        \n",
    "        if self.size > self.max_size:\n",
    "            node = self.dummy.next\n",
    "            self.dummy.next = node.next\n",
    "            self.dic.pop(node.key)\n",
    "#             del self.dic[node.key]\n",
    "            self.size -= 1\n",
    "            \n",
    "    def get(self, key):\n",
    "        if key not in self.dic:\n",
    "            return -1\n",
    "        node = self.dic[key]\n",
    "        pre = node.pre\n",
    "        pre.next = node.next\n",
    "        node.pre = self.tail\n",
    "        node.next = None\n",
    "        self.tail.next = node\n",
    "        self.tail = self.tail.next\n",
    "        return node.value\n",
    "            \n",
    "    def LRU(self , operators , k):\n",
    "        # write code here\n",
    "        self.max_size = k\n",
    "        rst = []\n",
    "        i = 0\n",
    "        for arr in operators:\n",
    "            if arr[0] == 1:\n",
    "                self.set(arr[1], arr[2])\n",
    "                \n",
    "            elif arr[0] == 2:\n",
    "                \n",
    "                rst.append(self.get(arr[1]))\n",
    "            i+=1\n",
    "            print(i, self.dic)\n",
    "            cur = self.dummy.next\n",
    "            tmp = []\n",
    "            while cur != None:\n",
    "                tmp.append(cur.key)\n",
    "                cur = cur.next\n",
    "            print(tmp)\n",
    "            cur = self.tail\n",
    "            tmp2 = []\n",
    "            while cur != self.dummy:\n",
    "                tmp2.append(cur.key)\n",
    "                cur = cur.pre\n",
    "            print(tmp2)\n",
    "            \n",
    "            \n",
    "        return rst\n",
    "    \n",
    "s = Solution()\n",
    "operators = [[1,1,1],[1,2,2],[1,3,2],[2,1],[1,4,4],[2,2], [1,1,1],[1,2,2],[1,3,2],[2,1],[1,4,4],[2,2], [1,1,1],[1,2,2],[1,3,2],[2,1],[1,4,4],[2,2]]\n",
    "# operators = [[1,-324690837,-72487934],[1,-723504364,-369145172],[2,-324690837],[1,724101438,-30727452],[1,366967562,290286156],[2,366967562]]\n",
    "k = 3\n",
    "s.LRU(operators , k)"
   ]
  },
  {
   "cell_type": "code",
   "execution_count": null,
   "metadata": {
    "collapsed": true
   },
   "outputs": [],
   "source": []
  },
  {
   "cell_type": "code",
   "execution_count": null,
   "metadata": {
    "collapsed": true
   },
   "outputs": [],
   "source": []
  }
 ],
 "metadata": {
  "kernelspec": {
   "display_name": "Python 3",
   "language": "python",
   "name": "python3"
  },
  "language_info": {
   "codemirror_mode": {
    "name": "ipython",
    "version": 3
   },
   "file_extension": ".py",
   "mimetype": "text/x-python",
   "name": "python",
   "nbconvert_exporter": "python",
   "pygments_lexer": "ipython3",
   "version": "3.6.1"
  }
 },
 "nbformat": 4,
 "nbformat_minor": 2
}
