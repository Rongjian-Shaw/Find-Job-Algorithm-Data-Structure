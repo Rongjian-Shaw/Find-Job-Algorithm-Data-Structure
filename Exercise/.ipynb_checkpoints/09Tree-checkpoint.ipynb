{
 "cells": [
  {
   "cell_type": "markdown",
   "metadata": {},
   "source": [
    "# Binary Search Tree #"
   ]
  },
  {
   "cell_type": "code",
   "execution_count": 33,
   "metadata": {},
   "outputs": [
    {
     "name": "stdout",
     "output_type": "stream",
     "text": [
      "\n",
      "[ 1 ] [ 2 ] [ 3 ] [ 4 ] [ 5 ] [ 6 ] [ 7 ] [ 8 ] [ 9 ] [ 10 ] [ 11 ] [ 12 ] [ 13 ] \n",
      "[ 1 ] [ 3 ] [ 2 ] [ 5 ] [ 4 ] [ 7 ] [ 10 ] [ 12 ] [ 11 ] [ 13 ] [ 9 ] [ 8 ] [ 6 ] \n",
      "[ 6 ] [ 4 ] [ 2 ] [ 1 ] [ 3 ] [ 5 ] [ 8 ] [ 7 ] [ 9 ] [ 13 ] [ 11 ] [ 10 ] [ 12 ] \n",
      "7\n",
      "\n",
      "[ 1 ] [ 2 ] [ 3 ] [ 4 ] [ 5 ] [ 6 ] [ 7 ] [ 8 ] [ 9 ] [ 10 ] [ 12 ] [ 13 ] "
     ]
    }
   ],
   "source": [
    "class Node:\n",
    "    __slots__ = '_item', '_left', '_right'\n",
    "    def __init__(self, item, left = None, right = None):\n",
    "        self._item = item\n",
    "        self._left = left\n",
    "        self._right = right\n",
    "    \n",
    "class BinarySearchTree:\n",
    "    def __init__(self, root = None):\n",
    "        self._root = root\n",
    "    \n",
    "    def get(self, value):\n",
    "        return self.__get(self._root, value)\n",
    "    \n",
    "    def __get(self, node, value):\n",
    "        if node is None:\n",
    "            return None\n",
    "        if node._item == value:\n",
    "            return node\n",
    "        elif node._item > value: # find in left\n",
    "            return self.__get(node._left, value)\n",
    "        else: # find in right\n",
    "            return self.__get(node._right, value)\n",
    "    \n",
    "    def add(self, value):\n",
    "        self._root = self.__add(self._root, value)\n",
    "    \n",
    "    def __add(self, node, value):\n",
    "        if node is None:\n",
    "            return Node(value)\n",
    "        if node._item == value:\n",
    "            pass\n",
    "        elif node._item > value: # add in left \n",
    "            node._left = self.__add(node._left, value)\n",
    "        else:\n",
    "            node._right = self.__add(node._right, value)\n",
    "        return node\n",
    "    \n",
    "    def remove(self, value):\n",
    "        return self.__remove(self._root, value)\n",
    "    \n",
    "    def __remove(self, node, value):\n",
    "        if node is None:\n",
    "            return None\n",
    "        if node._item > value:\n",
    "            node._left = self.__remove(node._left, value)\n",
    "        elif node._item < value:\n",
    "            node._right = self.__remove(node._right, value)\n",
    "        else: # node._item == value\n",
    "            if node._left is None: # current node's left side is None or both sides are None\n",
    "                node = node._right\n",
    "            elif node._right is None: # current node's right side is None or both sides are None\n",
    "                node = node._left\n",
    "            else: # current node has two sons\n",
    "                node._item = self.get_max(node._left) \n",
    "                node._left = self.__remove(node._left, node._item)\n",
    "        return node\n",
    "    \n",
    "    def get_max(self, node):\n",
    "        return self.__get_max(node)\n",
    "    \n",
    "    def __get_max(self, node):\n",
    "        if node is None:\n",
    "            return None\n",
    "        while node._right is not None:\n",
    "            node = node._right\n",
    "        return node._item\n",
    "    \n",
    "    # Traversal methods\n",
    "    def print_preorder(self):\n",
    "        print()\n",
    "        return self.__print_preorder(self._root)\n",
    "    \n",
    "    def __print_preorder(self, node):\n",
    "        if node is None:\n",
    "            return\n",
    "        print('[', node._item, ']', end = ' ')\n",
    "        self.__print_preorder(node._left)\n",
    "        self.__print_preorder(node._right)\n",
    "    \n",
    "    def print_inorder(self):\n",
    "        print()\n",
    "        return self.__print_inorder(self._root)\n",
    "    \n",
    "    def __print_inorder(self, node):\n",
    "        if node is None:\n",
    "            return\n",
    "        self.__print_inorder(node._left)\n",
    "        print('[', node._item, ']', end = ' ')\n",
    "        self.__print_inorder(node._right)\n",
    "        \n",
    "    def print_postorder(self):\n",
    "        print()\n",
    "        return self.__print_postorder(self._root)\n",
    "    \n",
    "    def __print_postorder(self, node):\n",
    "        if node is None:\n",
    "            return\n",
    "        self.__print_postorder(node._left)\n",
    "        self.__print_postorder(node._right)\n",
    "        print('[', node._item, ']', end = ' ')\n",
    "        \n",
    "    def size(self):\n",
    "        return self.__size(self._root)\n",
    "    \n",
    "    def __size(self, node):\n",
    "        if node is None:\n",
    "            return 0\n",
    "        return 1 + self.__size(node._left) + self.__size(node._right)\n",
    "    \n",
    "    def maxDepth(self):\n",
    "        return self.__maxDepth(self._root)\n",
    "    \n",
    "    def __maxDepth(self, node):\n",
    "        if node is None:\n",
    "            return 0\n",
    "        return max(self.__maxDepth(node._left), self.__maxDepth(node._right)) + 1\n",
    "    \n",
    "    def minDepth(self):\n",
    "        return self.__minDepth(self._root)\n",
    "    \n",
    "    def __minDepth(self, node):\n",
    "        if node is None:\n",
    "            return 0\n",
    "        return min(self.__minDepth(node._left), self.__minDepth(node._right)) + 1\n",
    "    \n",
    "    def isBalanced(self):\n",
    "        return self.maxDepth - self.minDepth <= 1\n",
    "        \n",
    "bst = BinarySearchTree()\n",
    "numbers = [6, 4, 8, 7, 9, 2, 1, 3, 5, 13, 11, 10, 12]\n",
    "for i in numbers:\n",
    "    bst.add(i)\n",
    "\n",
    "bst.print_inorder()\n",
    "bst.print_postorder()\n",
    "bst.print_preorder()\n",
    "print()\n",
    "node1 = bst.get(7)\n",
    "print(node1._item)\n",
    "node2 = bst.remove(11)\n",
    "bst.print_inorder()"
   ]
  },
  {
   "cell_type": "markdown",
   "metadata": {},
   "source": [
    "### <a id='Ex1'>Ex.1 Tree Size </a>\n",
    "\n",
    "Calculate the size of the tree."
   ]
  },
  {
   "cell_type": "code",
   "execution_count": 3,
   "metadata": {},
   "outputs": [
    {
     "data": {
      "text/plain": [
       "12"
      ]
     },
     "execution_count": 3,
     "metadata": {},
     "output_type": "execute_result"
    }
   ],
   "source": [
    "bst.size()"
   ]
  },
  {
   "cell_type": "markdown",
   "metadata": {},
   "source": [
    "### <a id='Ex1'>Ex.2 Max Depth </a>\n",
    "\n",
    "Calculate the max depth of a tree"
   ]
  },
  {
   "cell_type": "code",
   "execution_count": 4,
   "metadata": {
    "scrolled": true
   },
   "outputs": [
    {
     "data": {
      "text/plain": [
       "6"
      ]
     },
     "execution_count": 4,
     "metadata": {},
     "output_type": "execute_result"
    }
   ],
   "source": [
    "bst.maxDepth()"
   ]
  },
  {
   "cell_type": "markdown",
   "metadata": {},
   "source": [
    "### <a id='Ex1'>Ex.3. Is Balance Tree</a>\n",
    "\n",
    "Given a tree, check whether the tree is a balance tree."
   ]
  },
  {
   "cell_type": "code",
   "execution_count": 5,
   "metadata": {},
   "outputs": [
    {
     "name": "stdout",
     "output_type": "stream",
     "text": [
      "False\n",
      "\n",
      "[ 1 ] [ 3 ] [ 5 ] True\n"
     ]
    }
   ],
   "source": [
    "def isBalanced(bst):\n",
    "    return bst.maxDepth() - bst.minDepth() <= 1\n",
    "\n",
    "print(isBalanced(bst))\n",
    "bst1 = BinarySearchTree()\n",
    "numbers = [3,1,5]\n",
    "for i in numbers:\n",
    "    bst1.add(i)\n",
    "bst1.print_inorder()\n",
    "print(isBalanced(bst1))"
   ]
  },
  {
   "cell_type": "markdown",
   "metadata": {},
   "source": [
    "### <a id='Ex4'>Ex.4 Floor and Ceiling</a>"
   ]
  },
  {
   "cell_type": "code",
   "execution_count": 17,
   "metadata": {},
   "outputs": [
    {
     "data": {
      "text/plain": [
       "10"
      ]
     },
     "execution_count": 17,
     "metadata": {},
     "output_type": "execute_result"
    }
   ],
   "source": [
    "# floor是指在树中比value小且最接近value的节点\n",
    "def floor(bst, value):\n",
    "    flr = _floor(bst._root, value)\n",
    "    return flr._item\n",
    "\n",
    "def _floor(node, value):\n",
    "    if node is None:\n",
    "        return None\n",
    "    if node._item == value:\n",
    "        return node\n",
    "    elif node._item > value:\n",
    "        return _floor(node._left, value) # 不要写成 node = _floor(node._left, value), 如果先left走，然后right的时候会返回一个Node，\n",
    "#     node = _floor(node._left, value) 会让当前的node接上right返回回来的node,影响树的结构\n",
    "    else:\n",
    "        # node._item比value小，所以可能是floor，当发现当前node右子树下还有比value小的就找到那个值返回，没有就返回当前值\n",
    "        go_on = _floor(node._right, value)\n",
    "        if go_on is not None:\n",
    "            return go_on\n",
    "        return node\n",
    "\n",
    "floor(bst, 11)\n"
   ]
  },
  {
   "cell_type": "markdown",
   "metadata": {},
   "source": [
    "### <a id='Ex5'>Ex.5 Is Binary Search Tree</a>\n",
    "\n",
    "Check whether a given tree a binary search tree.\n",
    "每个node都大于其左子树的所有结点，小于右子树的所有结点"
   ]
  },
  {
   "cell_type": "code",
   "execution_count": 24,
   "metadata": {},
   "outputs": [
    {
     "data": {
      "text/plain": [
       "True"
      ]
     },
     "execution_count": 24,
     "metadata": {},
     "output_type": "execute_result"
    }
   ],
   "source": [
    "import sys\n",
    "def isBST(bst):\n",
    "    return __isBST(bst._root, -sys.maxsize, sys.maxsize)\n",
    "\n",
    "def __isBST(node, minimum, maximum):\n",
    "    if node is None:\n",
    "        return True\n",
    "    if node._item < minimum or node._item > maximum:\n",
    "        return False\n",
    "    else:\n",
    "        return __isBST(node._left, minimum, node._item) and __isBST(node._right, node._item, maximum)\n",
    "\n",
    "isBST(bst1)"
   ]
  },
  {
   "cell_type": "markdown",
   "metadata": {},
   "source": [
    "### <a id='Ex6'>Ex.6 Is Mirror Tree</a>"
   ]
  },
  {
   "cell_type": "code",
   "execution_count": 26,
   "metadata": {},
   "outputs": [
    {
     "name": "stdout",
     "output_type": "stream",
     "text": [
      "\n",
      "[ 1 ] [ 2 ] [ 3 ] [ 4 ] [ 5 ] [ 6 ] [ 7 ] [ 8 ] [ 9 ] [ 10 ] [ 12 ] [ 13 ] \n",
      "[ 13 ] [ 12 ] [ 10 ] [ 9 ] [ 8 ] [ 7 ] [ 6 ] [ 5 ] [ 4 ] [ 3 ] [ 2 ] [ 1 ] "
     ]
    }
   ],
   "source": [
    "def mirror_tree(bst):\n",
    "    return __mirror_tree(bst._root)\n",
    "\n",
    "def __mirror_tree(node):\n",
    "    if node is None:\n",
    "        return None\n",
    "    __mirror_tree(node._left)\n",
    "    __mirror_tree(node._right)\n",
    "    node._left, node._right = node._right, node._left\n",
    "\n",
    "numbers = [6, 4, 8, 7, 9, 5, 1, 3, 2]\n",
    "for i in numbers:\n",
    "    bst.add(i)\n",
    "bst.print_inorder()\n",
    "mirror_tree(bst)\n",
    "bst.print_inorder()\n"
   ]
  },
  {
   "cell_type": "markdown",
   "metadata": {},
   "source": [
    "### <a id='Ex7'>Ex.7 Same Tree</a>"
   ]
  },
  {
   "cell_type": "code",
   "execution_count": 28,
   "metadata": {},
   "outputs": [
    {
     "data": {
      "text/plain": [
       "True"
      ]
     },
     "execution_count": 28,
     "metadata": {},
     "output_type": "execute_result"
    }
   ],
   "source": [
    "def same_tree(bst1, bst2):\n",
    "    return __same_tree(bst1._root, bst2._root)\n",
    "\n",
    "def __same_tree(node1, node2):\n",
    "    if node1 is None and node2 is None:\n",
    "        return True\n",
    "    elif node1 is not None and node2 is not None:\n",
    "        return node1._item == node2._item and __same_tree(node1._left, node2._left) and __same_tree(node1._right, node2._right)\n",
    "    else:\n",
    "        return False\n",
    "    \n",
    "bst3 = BinarySearchTree()\n",
    "numbers = [6, 4, 8, 7, 9, 5, 1, 3, 2]\n",
    "for i in numbers:\n",
    "    bst3.add(i)\n",
    "another = BinarySearchTree()\n",
    "numbers = [6, 4, 8, 7, 9, 5, 1, 3, 2]   \n",
    "for i in numbers:\n",
    "    another.add(i)\n",
    "same_tree(bst3, another)\n",
    "    "
   ]
  },
  {
   "cell_type": "markdown",
   "metadata": {},
   "source": [
    "### <a id='Ex8'>Ex.8 Is Tree Foldable</a>"
   ]
  },
  {
   "cell_type": "code",
   "execution_count": 29,
   "metadata": {
    "collapsed": true
   },
   "outputs": [],
   "source": [
    "def isFoldable(bst):\n",
    "    return __isFoldable(bst._root._left, bst._root._right)\n",
    "\n",
    "def __isFoldable(node1, node2):\n",
    "    if node1 is None and node2 is None:\n",
    "        return True\n",
    "    elif node1 is not None and node2 is not None:\n",
    "        return isFoldable(node1._left, node2._right) and isFoldable(node1._right, node2._left)\n",
    "    else:\n",
    "        return False\n",
    "    \n"
   ]
  },
  {
   "cell_type": "markdown",
   "metadata": {},
   "source": [
    "# Binary Search Tree II #"
   ]
  },
  {
   "cell_type": "markdown",
   "metadata": {},
   "source": [
    "### <a id='Ex1'>Ex.1 Iterative Get </a>\n",
    "\n",
    "Implment BST Get method, iteratively."
   ]
  },
  {
   "cell_type": "code",
   "execution_count": 35,
   "metadata": {},
   "outputs": [
    {
     "name": "stdout",
     "output_type": "stream",
     "text": [
      "5\n",
      "None\n"
     ]
    }
   ],
   "source": [
    "def getIterative(bst, value):\n",
    "    if bst is None:\n",
    "        return None\n",
    "    cur = bst._root\n",
    "    while cur != None:\n",
    "        if cur._item == value:\n",
    "            return cur._item\n",
    "        elif cur._item > value:\n",
    "            cur = cur._left\n",
    "        else:\n",
    "            cur = cur._right\n",
    "    return None\n",
    "\n",
    "print(getIterative(bst, 5))\n",
    "print(getIterative(bst, 99))"
   ]
  },
  {
   "cell_type": "markdown",
   "metadata": {
    "collapsed": true
   },
   "source": [
    "### <a id='Ex2'>Ex.2 Iterative Add </a>\n",
    "\n",
    "Implment BST Add method, iteratively."
   ]
  },
  {
   "cell_type": "code",
   "execution_count": 36,
   "metadata": {},
   "outputs": [
    {
     "name": "stdout",
     "output_type": "stream",
     "text": [
      "\n",
      "[ 1 ] [ 2 ] [ 3 ] [ 4 ] [ 5 ] [ 6 ] [ 7 ] [ 8 ] [ 9 ] [ 10 ] [ 12 ] [ 13 ] \n",
      "[ 1 ] [ 2 ] [ 3 ] [ 4 ] [ 5 ] [ 6 ] [ 7 ] [ 8 ] [ 9 ] [ 10 ] [ 12 ] [ 13 ] [ 14 ] "
     ]
    }
   ],
   "source": [
    "def addIterative(bst, value):\n",
    "    if bst is None:\n",
    "        return None\n",
    "    node = Node(value)\n",
    "    cur = bst._root\n",
    "    while cur != None:\n",
    "        if cur._item == value:\n",
    "            return bst\n",
    "        elif cur._item > value:\n",
    "            if cur._left is None:\n",
    "                cur._left = ndoe\n",
    "            else:\n",
    "                cur = cur._left\n",
    "        else:\n",
    "            if cur._right is None:\n",
    "                cur._right = node\n",
    "            else:\n",
    "                cur = cur._right\n",
    "    return bst\n",
    "\n",
    "bst.print_inorder()\n",
    "addIterative(bst, 14)\n",
    "bst.print_inorder()"
   ]
  },
  {
   "cell_type": "markdown",
   "metadata": {},
   "source": [
    "### <a id='Ex3'>Ex.3 Iterative Inorder Traversal </a>\n",
    "\n",
    "Implment BST Inorder traversal method, iteratively."
   ]
  },
  {
   "cell_type": "code",
   "execution_count": 43,
   "metadata": {},
   "outputs": [
    {
     "name": "stdout",
     "output_type": "stream",
     "text": [
      "\n",
      "[ 1 ] [ 2 ] [ 3 ] [ 4 ] [ 5 ] [ 6 ] [ 7 ] [ 8 ] [ 9 ] [ 10 ] [ 12 ] [ 13 ] [ 14 ] [1, 2, 3, 4, 5, 6, 7, 8, 9, 10, 12, 13, 14]\n"
     ]
    },
    {
     "data": {
      "text/plain": [
       "[1, 2, 3, 4, 5, 6, 7, 8, 9, 10, 12, 13, 14]"
      ]
     },
     "execution_count": 43,
     "metadata": {},
     "output_type": "execute_result"
    }
   ],
   "source": [
    "def printInorderIterative(bst):\n",
    "    if bst is None:\n",
    "        return bst\n",
    "    print_list = []\n",
    "    stack = [bst._root]\n",
    "    cur = bst._root\n",
    "    while len(stack) > 0:\n",
    "        while cur._left != None:\n",
    "            stack.append(cur._left)\n",
    "            cur = cur._left\n",
    "        cur = stack.pop()\n",
    "        print_list.append(cur._item)\n",
    "        if cur._right != None:\n",
    "            stack.append(cur._right)\n",
    "            cur = cur._right\n",
    "    print(print_list)\n",
    "    return print_list\n",
    "\n",
    "bst.print_inorder()\n",
    "printInorderIterative(bst)"
   ]
  },
  {
   "cell_type": "markdown",
   "metadata": {},
   "source": [
    "### <a id='Ex4'>Ex.4 Iterative Preorder Traversal </a>\n",
    "\n",
    "Implment BST Preorder traversal method, iteratively."
   ]
  },
  {
   "cell_type": "code",
   "execution_count": 39,
   "metadata": {},
   "outputs": [
    {
     "name": "stdout",
     "output_type": "stream",
     "text": [
      "\n",
      "[ 6 ] [ 4 ] [ 2 ] [ 1 ] [ 3 ] [ 5 ] [ 8 ] [ 7 ] [ 9 ] [ 13 ] [ 10 ] [ 12 ] [ 14 ] \n",
      "[6, 4, 2, 1, 3, 5, 8, 7, 9, 13, 10, 12, 14]\n"
     ]
    },
    {
     "data": {
      "text/plain": [
       "[6, 4, 2, 1, 3, 5, 8, 7, 9, 13, 10, 12, 14]"
      ]
     },
     "execution_count": 39,
     "metadata": {},
     "output_type": "execute_result"
    }
   ],
   "source": [
    "def printPreorderIterative(bst):\n",
    "    if bst is None:\n",
    "        print('None')\n",
    "    stack = [bst._root]\n",
    "    print_list = []\n",
    "    cur = bst._root\n",
    "    while len(stack) > 0:\n",
    "        node = stack.pop()\n",
    "        print_list.append(node._item)\n",
    "        if node._right is not None:\n",
    "            stack.append(node._right)\n",
    "        if node._left is not None:\n",
    "            stack.append(node._left)\n",
    "    print(print_list)\n",
    "    return print_list\n",
    "\n",
    "bst.print_preorder()\n",
    "print()\n",
    "printPreorderIterative(bst)     "
   ]
  },
  {
   "cell_type": "markdown",
   "metadata": {},
   "source": [
    "### <a id='Ex5'>Ex.5 Iterative Postorder Traversal </a>\n",
    "\n",
    "Implment BST Postorder traversal method, iteratively."
   ]
  },
  {
   "cell_type": "code",
   "execution_count": null,
   "metadata": {
    "collapsed": true
   },
   "outputs": [],
   "source": [
    "def printPostorderIterative(bst):\n",
    "    if bst is None:\n",
    "        return None\n",
    "    stack = [(bst._root, False)]\n",
    "    print_list = []\n",
    "    cur = bst._root\n",
    "    while len(stack) > 0:\n",
    "        while cur._left != None:\n",
    "            stack.append((cur._left, False))\n",
    "            cur = cur._left\n",
    "        cur, flag = stack.pop()\n",
    "        if flag == True:\n",
    "            print_list.append(cur._item)\n",
    "        stack.append((cur, True))\n",
    "        if cur._right != None:\n",
    "            stack.append((cur._right, False))\n",
    "            cur = cur._right\n",
    "    print(print_list)\n",
    "    return print_list\n",
    "\n"
   ]
  }
 ],
 "metadata": {
  "kernelspec": {
   "display_name": "Python 3",
   "language": "python",
   "name": "python3"
  },
  "language_info": {
   "codemirror_mode": {
    "name": "ipython",
    "version": 3
   },
   "file_extension": ".py",
   "mimetype": "text/x-python",
   "name": "python",
   "nbconvert_exporter": "python",
   "pygments_lexer": "ipython3",
   "version": "3.6.1"
  }
 },
 "nbformat": 4,
 "nbformat_minor": 4
}
