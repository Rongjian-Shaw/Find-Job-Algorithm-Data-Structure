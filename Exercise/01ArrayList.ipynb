{
 "cells": [
  {
   "cell_type": "markdown",
   "metadata": {},
   "source": [
    "### Ex2：矩阵0变换\n",
    "给一个m×n的矩阵，如果有一个元素为0，则把该元素对应的行与列所有元素全部变成0。"
   ]
  },
  {
   "cell_type": "code",
   "execution_count": 1,
   "metadata": {},
   "outputs": [
    {
     "data": {
      "text/plain": [
       "[[0, 0, 0, 0, 0, 0, 0, 0, 0, 0],\n",
       " [1, 1, 0, 1, 1, 0, 1, 1, 1, 1],\n",
       " [0, 0, 0, 0, 0, 0, 0, 0, 0, 0],\n",
       " [1, 1, 0, 1, 1, 0, 1, 1, 1, 1],\n",
       " [1, 1, 0, 1, 1, 0, 1, 1, 1, 1]]"
      ]
     },
     "execution_count": 1,
     "metadata": {},
     "output_type": "execute_result"
    }
   ],
   "source": [
    "# checked code\n",
    "def MatrixTransfer(matrix):\n",
    "    m = len(matrix)\n",
    "    n = len(matrix[0])\n",
    "    r = [None for i in range(m)]\n",
    "    c = [None for i in range(n)]\n",
    "    for i in range(m):\n",
    "        for j in range(n):\n",
    "            if matrix[i][j] == 0:\n",
    "                r[i] = 1\n",
    "                c[j] = 1\n",
    "    \n",
    "    for i in range(m):\n",
    "        for j in range(n):\n",
    "            if r[i] == 1 or c[j] == 1:\n",
    "                matrix[i][j] = 0\n",
    "    \n",
    "    return matrix\n",
    "\n",
    "matrix = [  [ 1, 1, 1, 1, 1, 0, 1, 1, 1, 1 ],\n",
    "            [ 1, 1, 1, 1, 1, 1, 1, 1, 1, 1 ],\n",
    "            [ 1, 1, 0, 1, 1, 1, 1, 1, 1, 1 ],\n",
    "            [ 1, 1, 1, 1, 1, 1, 1, 1, 1, 1 ],\n",
    "            [ 1, 1, 1, 1, 1, 1, 1, 1, 1, 1 ] ]\n",
    "\n",
    "MatrixTransfer(matrix)"
   ]
  },
  {
   "cell_type": "markdown",
   "metadata": {},
   "source": [
    "### Ex3：九宫图\n",
    "<img src=\"../images/ch02/magicsquare.jpg\" width=\"100\"/> \n",
    "#### 从命令行读取一个奇数N，打印出N行N列的幻方\n",
    "#### 幻方包含从1到N2的所有数字，每个数字只用一次。幻方的各个行之和、列之和以及对角线之和都相等。\n",
    "\n"
   ]
  },
  {
   "cell_type": "code",
   "execution_count": null,
   "metadata": {
    "collapsed": true
   },
   "outputs": [],
   "source": [
    "def magic_square(n):\n",
    "    "
   ]
  },
  {
   "cell_type": "markdown",
   "metadata": {},
   "source": [
    "### Ex4：数独\n",
    "<img src=\"../images/ch02/sudoku.jpg\" width=\"200\"/> \n",
    "给一个填好的数独，验证是否正确。"
   ]
  },
  {
   "cell_type": "code",
   "execution_count": 1,
   "metadata": {},
   "outputs": [
    {
     "data": {
      "text/plain": [
       "True"
      ]
     },
     "execution_count": 1,
     "metadata": {},
     "output_type": "execute_result"
    }
   ],
   "source": [
    "def sudoku(matrix):\n",
    "    result_row, result_col, result_blk = 0, 0, 0\n",
    "    for i in range(len(matrix)):\n",
    "        result_row, result_col, result_blk = 0, 0, 0\n",
    "        for j in range(len(matrix[0])):\n",
    "            # check row\n",
    "            tmp = matrix[i][j]\n",
    "            if result_row & (1 << (tmp - 1)) == 0:\n",
    "                result_row = result_row | (1 << (tmp - 1))\n",
    "            else:\n",
    "                print(\"row error: \", i, j)\n",
    "                return False\n",
    "            \n",
    "            #check col\n",
    "            tmp = matrix[j][i]\n",
    "            if result_col & (1 << (tmp - 1)) == 0:\n",
    "                result_col = result_col | (1 << (tmp - 1))\n",
    "            else:\n",
    "                print(\"col error: \", j, i)\n",
    "                return False\n",
    "            \n",
    "            # check block\n",
    "            row_blk = (i//3) * 3 + j//3\n",
    "            col_blk = (i%3) * + j//3\n",
    "            tmp = matrix[row_blk][col_blk]\n",
    "            if result_blk & (1 << (tmp - 1)) == 0:\n",
    "                result_blk = result_blk | (1 << (tmp - 1))\n",
    "            else:\n",
    "                print(\"blk error: \", row_blk, col_blk)\n",
    "                return False\n",
    "            \n",
    "            return True\n",
    "\n",
    "matrix = [\n",
    "    [5,3,4,6,7,8,9,1,2],\n",
    "    [6,7,2,1,9,5,3,4,8],\n",
    "    [1,9,8,3,4,2,5,6,7],\n",
    "    [8,5,9,7,6,1,4,2,3],\n",
    "    [4,2,6,8,5,3,7,9,1],\n",
    "    [7,1,3,9,2,4,8,5,6],\n",
    "    [9,6,1,5,3,7,2,8,4],\n",
    "    [2,8,7,4,1,9,6,3,5],\n",
    "    [3,4,5,2,8,6,1,7,9]\n",
    "]\n",
    "\n",
    "sudoku(matrix)"
   ]
  },
  {
   "cell_type": "markdown",
   "metadata": {},
   "source": [
    "### Ex5：旋转数组\n",
    "给一个n×n的数组，旋转90度。"
   ]
  },
  {
   "cell_type": "code",
   "execution_count": 6,
   "metadata": {},
   "outputs": [
    {
     "data": {
      "text/plain": [
       "[[20, 15, 10, 5, 0],\n",
       " [21, 16, 11, 6, 1],\n",
       " [22, 17, 12, 7, 2],\n",
       " [23, 18, 13, 8, 3],\n",
       " [24, 19, 14, 9, 4]]"
      ]
     },
     "execution_count": 6,
     "metadata": {},
     "output_type": "execute_result"
    }
   ],
   "source": [
    "def rotate_matrix(matrix):\n",
    "    n = len(matrix)\n",
    "    for layer in range(n//2):\n",
    "#         print(matrix)\n",
    "        first = layer\n",
    "        last = n - layer - 1\n",
    "        for i in range(n - layer * 2 - 1): # 易错点\n",
    "            # Save Top\n",
    "            top = matrix[first][first + i]\n",
    "            # Left -> Top\n",
    "            matrix[first][first+i] = matrix[last-i][first]\n",
    "            # Bottom -> Left\n",
    "            matrix[last-i][first] = matrix[last][last-i]\n",
    "            # Right -> Bottom\n",
    "            matrix[last][last-i] = matrix[first+i][last]\n",
    "            # Top -> Right\n",
    "            matrix[first+i][last] = top\n",
    "            \n",
    "    return matrix\n",
    "\n",
    "matrix = [[i*5+j for j in range(5)] for i in range(5)]\n",
    "rotate_matrix(matrix)"
   ]
  },
  {
   "cell_type": "markdown",
   "metadata": {},
   "source": [
    "### Ex7：最长连续子串\n",
    "给一个只包含0和1的数组，找出最长的全是1的子数组。\n",
    "\n",
    "Example:\n",
    "\n",
    "Input: [1,1,0,1,1,1]\n",
    "\n",
    "Output: 3"
   ]
  },
  {
   "cell_type": "code",
   "execution_count": 8,
   "metadata": {},
   "outputs": [
    {
     "data": {
      "text/plain": [
       "3"
      ]
     },
     "execution_count": 8,
     "metadata": {},
     "output_type": "execute_result"
    }
   ],
   "source": [
    "def find_consecutive_ones(nums):\n",
    "    local, maximum = 0, 0\n",
    "    for i in range(len(nums)):\n",
    "        if nums[i] == 1:\n",
    "            local += 1\n",
    "            maximum = max(local, maximum)\n",
    "        else:\n",
    "            local = 0\n",
    "    return maximum\n",
    "\n",
    "nums = [1,1,0,1,1,1]\n",
    "find_consecutive_ones(nums)"
   ]
  },
  {
   "cell_type": "markdown",
   "metadata": {},
   "source": [
    "### Ex8：最大数\n",
    "给定一个数组，数组里有一个数组有且只有一个最大数，判断这个最大数是否是其他数的两倍或更大。如果存在这个数，则返回其index，否则返回-1。"
   ]
  },
  {
   "cell_type": "code",
   "execution_count": null,
   "metadata": {
    "collapsed": true
   },
   "outputs": [],
   "source": [
    "def max_num(nums):\n",
    "    "
   ]
  }
 ],
 "metadata": {
  "kernelspec": {
   "display_name": "Python 3",
   "language": "python",
   "name": "python3"
  },
  "language_info": {
   "codemirror_mode": {
    "name": "ipython",
    "version": 3
   },
   "file_extension": ".py",
   "mimetype": "text/x-python",
   "name": "python",
   "nbconvert_exporter": "python",
   "pygments_lexer": "ipython3",
   "version": "3.6.1"
  }
 },
 "nbformat": 4,
 "nbformat_minor": 2
}
