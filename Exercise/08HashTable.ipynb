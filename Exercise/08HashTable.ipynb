{
 "cells": [
  {
   "cell_type": "markdown",
   "metadata": {},
   "source": [
    "### Tips:\n",
    "1. 在dict和set中，CRUD都是O(1)，因为都是通过hash的形式进行查\n",
    "2. 在dict中，原型是数组，当元素过多的时候容易导致查找效率趋向于O(n)，因此接近一个阈值如2/3时，会对数组进行扩容从而保持CRUD的O(1)\n",
    "3. Counter是一种dict\n",
    "4. 对dict迭代的时候要写成dict.items()\n",
    "5. 对于找重复的问题优先考虑set"
   ]
  },
  {
   "cell_type": "markdown",
   "metadata": {},
   "source": [
    "### Ex.1 Letter Count"
   ]
  },
  {
   "cell_type": "code",
   "execution_count": 5,
   "metadata": {},
   "outputs": [
    {
     "name": "stdout",
     "output_type": "stream",
     "text": [
      "H:       2\n",
      "e:       3\n",
      "l:       3\n",
      "o:       6\n",
      "W:       1\n",
      "r:       2\n",
      "d:       2\n",
      "w:       1\n",
      "a:       4\n",
      "y:       3\n",
      "u:       3\n",
      "I:       1\n",
      "m:       1\n",
      "f:       1\n",
      "i:       1\n",
      "n:       3\n",
      "t:       1\n",
      "h:       1\n",
      "k:       1\n"
     ]
    }
   ],
   "source": [
    "from collections import Counter\n",
    "def letterCount2(s):\n",
    "    c = Counter(x for x in s if x != ' ')\n",
    "    \n",
    "    for letter, count in c.items():\n",
    "        print('%s: %7d' % (letter, count))\n",
    "\n",
    "s = \"Hello World How are you I am fine thank you and you\"\n",
    "letterCount2(s)"
   ]
  },
  {
   "cell_type": "markdown",
   "metadata": {},
   "source": [
    "### Ex.2 Word Count"
   ]
  },
  {
   "cell_type": "code",
   "execution_count": 6,
   "metadata": {},
   "outputs": [
    {
     "name": "stdout",
     "output_type": "stream",
     "text": [
      "Counter({'you': 3, 'Hello': 1, 'World': 1, 'How': 1, 'are': 1, 'I': 1, 'am': 1, 'fine': 1, 'thank': 1, 'and': 1})\n"
     ]
    }
   ],
   "source": [
    "def wordCount(s):\n",
    "    wordcount = Counter(s.split())\n",
    "    print(wordcount)\n",
    "\n",
    "s = \"Hello World How are you I am fine thank you and you\"\n",
    "wordCount(s)"
   ]
  },
  {
   "cell_type": "markdown",
   "metadata": {},
   "source": [
    "### Ex.3 First Unique Character in a String\n",
    "\n",
    "Given a string, find the first non-repeating character in it and return it's index. If it doesn't exist, return -1.\n",
    "\n",
    "Examples:\n",
    "\n",
    "s = \"givenastring\"\n",
    "\n",
    "return 2.\n",
    "\n",
    "s = \"ifitdoesnotexist\",\n",
    "\n",
    "return 1.\n",
    "\n",
    "Note: You may assume the string contain only lowercase letters."
   ]
  },
  {
   "cell_type": "code",
   "execution_count": 11,
   "metadata": {},
   "outputs": [
    {
     "name": "stdout",
     "output_type": "stream",
     "text": [
      "2\n",
      "1\n",
      "-1\n"
     ]
    }
   ],
   "source": [
    "def firstUniqChar(string):\n",
    "    counter = Counter(s for s in string)\n",
    "    i = 0\n",
    "    for ch, count in counter.items():\n",
    "        if count == 1:\n",
    "            return i\n",
    "        i += 1\n",
    "    return -1\n",
    "\n",
    "s = \"givenastring\"\n",
    "print(firstUniqChar(s))\n",
    "s = \"ifitdoesnotexist\"\n",
    "print(firstUniqChar(s))\n",
    "s = \"abcdabcd\"\n",
    "print(firstUniqChar(s))"
   ]
  },
  {
   "cell_type": "code",
   "execution_count": 12,
   "metadata": {},
   "outputs": [
    {
     "name": "stdout",
     "output_type": "stream",
     "text": [
      "2\n",
      "1\n",
      "-1\n"
     ]
    }
   ],
   "source": [
    "def firstUniqChar(s):\n",
    "    letters = 'abcdefghijklmnopqrstuvwxyz'\n",
    "    index = [s.index(l) for l in letters if s.count(l) == 1]\n",
    "    return min(index) if len(index) > 0 else -1\n",
    "\n",
    "s = \"givenastring\"\n",
    "print(firstUniqChar(s))\n",
    "s = \"ifitdoesnotexist\"\n",
    "print(firstUniqChar(s))\n",
    "s = \"abcdabcd\"\n",
    "print(firstUniqChar(s))"
   ]
  },
  {
   "cell_type": "markdown",
   "metadata": {},
   "source": [
    "### Ex.4 Intersection of Two Arrays\n",
    "\n",
    "Given two arrays, write a function to compute their intersection.\n",
    "\n",
    "Example:\n",
    "\n",
    "Given nums1 = [1, 2, 2, 1], nums2 = [2, 2], return [2].\n",
    "\n",
    "Note:\n",
    "\n",
    "Each element in the result must be unique.\n",
    "\n",
    "The result can be in any order."
   ]
  },
  {
   "cell_type": "code",
   "execution_count": 13,
   "metadata": {},
   "outputs": [
    {
     "data": {
      "text/plain": [
       "{2}"
      ]
     },
     "execution_count": 13,
     "metadata": {},
     "output_type": "execute_result"
    }
   ],
   "source": [
    "def intersection(arr1, arr2):\n",
    "    s1 = set(arr1)\n",
    "    s2 = set(arr2)\n",
    "    return s1 & s2\n",
    "\n",
    "nums1 = [1, 2, 2, 1]\n",
    "nums2 = [2, 2]\n",
    "intersection(nums1, nums2)"
   ]
  },
  {
   "cell_type": "markdown",
   "metadata": {},
   "source": [
    "### Ex.5 Intersection of Two Arrays II\n",
    "\n",
    "Given two arrays, write a function to compute their intersection.\n",
    "\n",
    "Example:\n",
    "\n",
    "Given nums1 = [1, 2, 2, 1], nums2 = [2, 2], return [2, 2].\n",
    "\n",
    "Note:\n",
    "\n",
    "Each element in the result should appear as many times as it shows in both arrays.\n",
    "\n",
    "The result can be in any order.\n",
    "\n",
    "Follow up:\n",
    "\n",
    "What if the given array is already sorted? How would you optimize your algorithm?\n",
    "\n",
    "What if nums1's size is small compared to nums2's size? Which algorithm is better?\n",
    "\n",
    "What if elements of nums2 are stored on disk, and the memory is limited such that you cannot load all elements into the memory at once?"
   ]
  },
  {
   "cell_type": "code",
   "execution_count": 15,
   "metadata": {},
   "outputs": [
    {
     "data": {
      "text/plain": [
       "[1, 2, 2]"
      ]
     },
     "execution_count": 15,
     "metadata": {},
     "output_type": "execute_result"
    }
   ],
   "source": [
    "def intersection2(arr1, arr2):\n",
    "    counter1 = Counter(arr1)\n",
    "    counter2 = Counter(arr2)\n",
    "    intersection = []\n",
    "    for num, count in counter1.items():\n",
    "        if num in counter2: # O(1)\n",
    "            for _ in range(min(count, counter2[num])):\n",
    "                intersection.append(num)\n",
    "            \n",
    "    return intersection\n",
    "\n",
    "nums1 = [1, 2, 2, 1]\n",
    "nums2 = [1, 2, 2]\n",
    "intersection2(nums1, nums2)"
   ]
  },
  {
   "cell_type": "markdown",
   "metadata": {},
   "source": [
    "### Ex.6 Jewels and Stones \n",
    "\n",
    "You're given strings J representing the types of stones that are jewels, and S representing the stones you have.  Each character in S is a type of stone you have.  You want to know how many of the stones you have are also jewels.\n",
    "\n",
    "The letters in J are guaranteed distinct, and all characters in J and S are letters. Letters are case sensitive, so \"a\" is considered a different type of stone from \"A\".\n",
    "\n",
    "Example 1:\n",
    "\n",
    "Input: J = \"aA\", S = \"aAAbbbb\"\n",
    "\n",
    "Output: 3\n",
    "\n",
    "Example 2:\n",
    "\n",
    "Input: J = \"z\", S = \"ZZ\"\n",
    "\n",
    "Output: 0\n",
    "\n",
    "Note:\n",
    "\n",
    "S and J will consist of letters and have length at most 50.\n",
    "\n",
    "The characters in J are distinct."
   ]
  },
  {
   "cell_type": "code",
   "execution_count": 18,
   "metadata": {},
   "outputs": [
    {
     "name": "stdout",
     "output_type": "stream",
     "text": [
      "[False, False]\n"
     ]
    },
    {
     "data": {
      "text/plain": [
       "0"
      ]
     },
     "execution_count": 18,
     "metadata": {},
     "output_type": "execute_result"
    }
   ],
   "source": [
    "def jewels(J, S):\n",
    "    setJ = set(J)\n",
    "    print([s in setJ for s in S])\n",
    "    return sum(1 for s in S if s in setJ)\n",
    "\n",
    "J = \"aA\"\n",
    "S = \"aAAbbbb\"\n",
    "J = \"z\"\n",
    "S = \"ZZ\"\n",
    "jewels(J, S)"
   ]
  },
  {
   "cell_type": "markdown",
   "metadata": {},
   "source": [
    "### Ex.7 Contains Duplicates  \n",
    "\n",
    "Given an array of integers, find if the array contains any duplicates. Your function should return true if any value appears at least twice in the array, and it should return false if every element is distinct."
   ]
  },
  {
   "cell_type": "code",
   "execution_count": 20,
   "metadata": {},
   "outputs": [
    {
     "name": "stdout",
     "output_type": "stream",
     "text": [
      "False\n",
      "True\n"
     ]
    }
   ],
   "source": [
    "def containsDuplicate(arr):\n",
    "    return len(set(nums)) != len(nums)\n",
    "\n",
    "nums = [1,2,3,4,5]\n",
    "print(containsDuplicate(nums))\n",
    "nums = [1,2,3,4,5,3]\n",
    "print(containsDuplicate(nums))"
   ]
  },
  {
   "cell_type": "markdown",
   "metadata": {},
   "source": [
    "### Ex.8 Contains Duplicates II\n",
    "\n",
    "Given an array of integers and an integer k, find out whether there are two distinct indices i and j in the array such that nums[i] = nums[j] and the difference between i and j is at most k."
   ]
  },
  {
   "cell_type": "markdown",
   "metadata": {},
   "source": [
    "# Solution\n",
    "可以使用dict, 以元素为key，以元素下标为value，遍历nums，当发现重复的时候检查距离是否小于k"
   ]
  },
  {
   "cell_type": "code",
   "execution_count": 21,
   "metadata": {},
   "outputs": [
    {
     "name": "stdout",
     "output_type": "stream",
     "text": [
      "False\n",
      "False\n",
      "False\n",
      "False\n",
      "True\n"
     ]
    }
   ],
   "source": [
    "def containsNearbyDuplicate(arr, k):\n",
    "    d = {}\n",
    "    for i in range(len(arr)):\n",
    "        if arr[i] in d and i - d[arr[i]] <= k:\n",
    "            return True\n",
    "        else:\n",
    "            d[arr[i]] = i\n",
    "    return False\n",
    "\n",
    "nums = [1,2,3,4,5]\n",
    "print(containsNearbyDuplicate(nums, 1))\n",
    "print(containsNearbyDuplicate(nums, 6))\n",
    "nums = [1,2,3,4,5,3]\n",
    "print(containsNearbyDuplicate(nums, 1))\n",
    "print(containsNearbyDuplicate(nums, 2))\n",
    "print(containsNearbyDuplicate(nums, 3))"
   ]
  },
  {
   "cell_type": "markdown",
   "metadata": {},
   "source": [
    "### Ex.9 Subdomain Visit Count\n",
    "\n",
    "A website domain like \"scholar.google.com\" consists of various subdomains. At the top level, we have \"com\", at the next level, we have \"google.com\", and at the lowest level, \"scholar.google.com\". When we visit a domain like \"scholar.google.com\", we will also visit the parent domains \"google.com\" and \"com\" implicitly.\n",
    "\n",
    "Now, call a \"count-paired domain\" to be a count (representing the number of visits this domain received), followed by a space, followed by the address. An example of a count-paired domain might be \"9001 scholar.google.com\".\n",
    "\n",
    "We are given a list cpdomains of count-paired domains. We would like a list of count-paired domains, (in the same format as the input, and in any order), that explicitly counts the number of visits to each subdomain.\n",
    "\n",
    "Example 1:\n",
    "\n",
    "Input: \n",
    "\n",
    "[\"9001 scholar.google.com\"]\n",
    "\n",
    "Output: \n",
    "\n",
    "[\"9001 scholar.google.com\", \"9001 google.com\", \"9001 com\"]\n",
    "\n",
    "Explanation: \n",
    "\n",
    "We only have one website domain: \"discuss.leetcode.com\". As discussed above, the subdomain \"leetcode.com\" and \"com\" will also be visited. So they will all be visited 9001 times.\n",
    "\n",
    "Example 2:\n",
    "\n",
    "Input: \n",
    "\n",
    "[\"900 google.mail.com\", \"50 yahoo.com\", \"1 intel.mail.com\", \"5 wiki.org\"]\n",
    "\n",
    "Output: \n",
    "\n",
    "[\"901 mail.com\",\"50 yahoo.com\",\"900 google.mail.com\",\"5 wiki.org\",\"5 org\",\"1 intel.mail.com\",\"951 com\"]\n",
    "\n",
    "Explanation: \n",
    "\n",
    "We will visit \"google.mail.com\" 900 times, \"yahoo.com\" 50 times, \"intel.mail.com\" once and \"wiki.org\" 5 times. For the subdomains, we will visit \"mail.com\" 900 + 1 = 901 times, \"com\" 900 + 50 + 1 = 951 times, and \"org\" 5 times."
   ]
  },
  {
   "cell_type": "markdown",
   "metadata": {},
   "source": [
    "# Solution\n",
    "遍历input，以subdomain作为key，count作为value，最后输出即可"
   ]
  },
  {
   "cell_type": "code",
   "execution_count": 30,
   "metadata": {},
   "outputs": [
    {
     "data": {
      "text/plain": [
       "['900 google.mail.com',\n",
       " '901 mail.com',\n",
       " '951 com',\n",
       " '50 yahoo.com',\n",
       " '1 intel.mail.com',\n",
       " '5 wiki.org',\n",
       " '5 org']"
      ]
     },
     "execution_count": 30,
     "metadata": {},
     "output_type": "execute_result"
    }
   ],
   "source": [
    "def subdomain(cpdomains):\n",
    "    dic = Counter()\n",
    "    \n",
    "    for cpd in cpdomains:\n",
    "        count, domain = cpd.split()\n",
    "        count = int(count)\n",
    "        domains = domain.split('.')\n",
    "#         subdomains = ['.'.join(domains[i:]) for i in range(len(domains))]\n",
    "#         for subdomain in subdomains:\n",
    "#             dic[subdomain] += count\n",
    "        for i in range(len(domains)):\n",
    "            dic['.'.join(domains[i:])] += count\n",
    "    \n",
    "    rst = [str(count) + ' ' + subdomain for subdomain, count in dic.items()]\n",
    "    return rst\n",
    "\n",
    "cp = [\"9001 scholar.google.com\"]\n",
    "subdomain(cp)\n",
    "cp = [\"900 google.mail.com\", \"50 yahoo.com\", \"1 intel.mail.com\", \"5 wiki.org\"]\n",
    "subdomain(cp)"
   ]
  },
  {
   "cell_type": "markdown",
   "metadata": {},
   "source": [
    "### Ex.10 Keyboard Row\n",
    "\n",
    "Given a List of words, return the words that can be typed using letters of alphabet on only one row's of American keyboard like the image below.\n",
    "\n",
    "<img src=\"../images/ch11/keyboard.png\" width=\"560\"/>\n",
    "\n",
    "Example 1:\n",
    "\n",
    "Input: [\"Hello\", \"Alaska\", \"Dad\", \"Peace\"]\n",
    "\n",
    "Output: [\"Alaska\", \"Dad\"]\n",
    "\n",
    "Note:\n",
    "\n",
    "You may use one character in the keyboard more than once.\n",
    "\n",
    "You may assume the input string will only contain letters of alphabet."
   ]
  },
  {
   "cell_type": "code",
   "execution_count": 38,
   "metadata": {},
   "outputs": [
    {
     "data": {
      "text/plain": [
       "['Alaska', 'Dad']"
      ]
     },
     "execution_count": 38,
     "metadata": {},
     "output_type": "execute_result"
    }
   ],
   "source": [
    "def find_word(words):\n",
    "    line1, line2, line3 = set('qwertyuiop'), set('asdfghjkl'), set('zxcvbnm')\n",
    "    rst = []\n",
    "    for word in words:\n",
    "        words = set(word.lower()) # remember to lower word\n",
    "        if words|line1 == line1 or words|line2 == line2 or words|line3 == line3:\n",
    "            rst.append(word)\n",
    "    return rst\n",
    "\n",
    "words = [\"Hello\", \"Alaska\", \"Dad\", \"Peace\"]\n",
    "find_word(words)"
   ]
  },
  {
   "cell_type": "markdown",
   "metadata": {},
   "source": [
    "### Ex.11 Word Pattern\n",
    "\n",
    "Given a pattern and a string str, find if str follows the same pattern.\n",
    "\n",
    "Here follow means a full match, such that there is a bijection between a letter in pattern and a non-empty word in str.\n",
    "\n",
    "Examples:\n",
    "\n",
    "pattern = \"abba\", str = \"dog cat cat dog\" should return true.\n",
    "\n",
    "pattern = \"abba\", str = \"dog cat cat fish\" should return false.\n",
    "\n",
    "pattern = \"aaaa\", str = \"dog cat cat dog\" should return false.\n",
    "\n",
    "pattern = \"abba\", str = \"dog dog dog dog\" should return false."
   ]
  },
  {
   "cell_type": "code",
   "execution_count": 40,
   "metadata": {},
   "outputs": [
    {
     "data": {
      "text/plain": [
       "False"
      ]
     },
     "execution_count": 40,
     "metadata": {},
     "output_type": "execute_result"
    }
   ],
   "source": [
    "def word_pattern(p, w):\n",
    "    p2w = {}\n",
    "    w2p = {}\n",
    "    if len(p) != len(w):\n",
    "        return False\n",
    "    for i in range(len(p)):\n",
    "        if p[i] in p2w and p2w[p[i]] != w[i]:\n",
    "            return False\n",
    "        elif w[i] in w2p and w2p[w[i]] != p[i]:\n",
    "            return False\n",
    "        else:\n",
    "            p2w[p[i]] = w[i]\n",
    "            w2p[w[i]] = p[i]\n",
    "    return True\n",
    "\n",
    "pattern = \"abba\"\n",
    "string = \"dog dog dog dog\"\n",
    "word_pattern(pattern, string)\n"
   ]
  },
  {
   "cell_type": "code",
   "execution_count": null,
   "metadata": {
    "collapsed": true
   },
   "outputs": [],
   "source": []
  }
 ],
 "metadata": {
  "kernelspec": {
   "display_name": "Python 3",
   "language": "python",
   "name": "python3"
  },
  "language_info": {
   "codemirror_mode": {
    "name": "ipython",
    "version": 3
   },
   "file_extension": ".py",
   "mimetype": "text/x-python",
   "name": "python",
   "nbconvert_exporter": "python",
   "pygments_lexer": "ipython3",
   "version": "3.6.1"
  }
 },
 "nbformat": 4,
 "nbformat_minor": 2
}
