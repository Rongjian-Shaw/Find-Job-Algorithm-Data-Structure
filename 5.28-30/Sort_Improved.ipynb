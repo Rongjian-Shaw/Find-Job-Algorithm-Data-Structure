{
 "cells": [
  {
   "cell_type": "markdown",
   "metadata": {},
   "source": [
    "# Quick Sort"
   ]
  },
  {
   "cell_type": "code",
   "execution_count": 8,
   "metadata": {},
   "outputs": [
    {
     "name": "stdout",
     "output_type": "stream",
     "text": [
      "[1, 2, 3, 4, 5, 6]\n"
     ]
    }
   ],
   "source": [
    "import random\n",
    "\n",
    "def partition(alist, left, right):\n",
    "    pivotIndex = random.randint(left, right)\n",
    "    alist[pivotIndex], alist[left] = alist[left], alist[pivotIndex]\n",
    "    pivot = alist[left] # 之前错写为alist[pivot] = alist[left]，注意这里用pivot是保存一个临时变量，而alist中的所有数都可能被改变\n",
    "    \n",
    "    while left < right:\n",
    "        while alist[right] > pivot and left < right:\n",
    "            right -= 1\n",
    "        alist[left] = alist[right]\n",
    "        while alist[left] < pivot and left < right:\n",
    "            left += 1\n",
    "        alist[right] = alist[left]\n",
    "    \n",
    "    alist[left] = pivot\n",
    "    \n",
    "    return left\n",
    "\n",
    "def quickSort(alist, left, right):\n",
    "    if left == right:\n",
    "        return\n",
    "    index = partition(alist, left, right)\n",
    "    if index > left:\n",
    "        quickSort(alist, left, index - 1)\n",
    "    if index < right:\n",
    "        quickSort(alist, index + 1, right)\n",
    "        \n",
    "alist = [6, 4, 5, 3, 2, 1]\n",
    "quickSort(alist, 0, len(alist) - 1)\n",
    "print(alist)\n",
    "\n",
    "# index = partition(alist, 0, len(alist) - 1)\n",
    "# print(alist, index)"
   ]
  },
  {
   "cell_type": "code",
   "execution_count": null,
   "metadata": {
    "collapsed": true
   },
   "outputs": [],
   "source": []
  }
 ],
 "metadata": {
  "kernelspec": {
   "display_name": "Python 3",
   "language": "python",
   "name": "python3"
  },
  "language_info": {
   "codemirror_mode": {
    "name": "ipython",
    "version": 3
   },
   "file_extension": ".py",
   "mimetype": "text/x-python",
   "name": "python",
   "nbconvert_exporter": "python",
   "pygments_lexer": "ipython3",
   "version": "3.8.3"
  }
 },
 "nbformat": 4,
 "nbformat_minor": 2
}
