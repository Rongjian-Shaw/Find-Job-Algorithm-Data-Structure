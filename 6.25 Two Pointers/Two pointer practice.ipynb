{
 "cells": [
  {
   "cell_type": "markdown",
   "metadata": {},
   "source": [
    "# Two Pointers"
   ]
  },
  {
   "cell_type": "markdown",
   "metadata": {},
   "source": [
    "Array is one of the fundamental blocks in algorithms. Since a string is just formed by an array of characters, they are both similar. Most interview questions fall into this category. And two pointers is one of the most used techniques to solve array/string problems.\n",
    "\n",
    "** 我们已经见过的Two Pointers相关的问题：**\n",
    "\n",
    "- Linked List: Find Middle Node \n",
    "\n",
    "- Linked List: Determine Cycle \n",
    "\n",
    "- Linked List: Find Cycle Start Point\n",
    "\n",
    "- Linked List: Find kth Element From End\n",
    "\n",
    "- Merge Sort\n",
    "\n",
    "- Partition: Quick Sort, Find Kth Largest Element \n"
   ]
  },
  {
   "cell_type": "markdown",
   "metadata": {},
   "source": [
    " ### <a id='Ex0'>Ex.0 Reverse List </a>"
   ]
  },
  {
   "cell_type": "code",
   "execution_count": 1,
   "metadata": {},
   "outputs": [
    {
     "name": "stdout",
     "output_type": "stream",
     "text": [
      "[]\n",
      "[1]\n",
      "[2, 1]\n",
      "[3, 2, 1]\n"
     ]
    }
   ],
   "source": [
    "def reverse(nums):\n",
    "    i, j = 0, len(nums) - 1\n",
    "    while i < j:\n",
    "        nums[i], nums[j] = nums[j], nums[i]\n",
    "        i += 1\n",
    "        j -= 1\n",
    "    print(nums)\n",
    "\n",
    "nums = []\n",
    "reverse(nums)\n",
    "\n",
    "nums = [1]\n",
    "reverse(nums)\n",
    "\n",
    "nums = [1,2]\n",
    "reverse(nums)\n",
    "\n",
    "nums = [1,2,3]\n",
    "reverse(nums)"
   ]
  },
  {
   "cell_type": "markdown",
   "metadata": {},
   "source": [
    "### <a id='Ex1'> Ex.1 Two Sum </a>\n",
    "Given an array of integers, find two numbers such that they add up to a specific target number."
   ]
  },
  {
   "cell_type": "code",
   "execution_count": 3,
   "metadata": {},
   "outputs": [
    {
     "data": {
      "text/plain": [
       "(0, 1)"
      ]
     },
     "execution_count": 3,
     "metadata": {},
     "output_type": "execute_result"
    }
   ],
   "source": [
    "# 找对应下标版本\n",
    "# Solution1：hashtable\n",
    "def twoSum(nums, target):\n",
    "    dic = {} # 与以下标为i的值互补的值：下标i or 下标i对应的值:与下标i对应的值互补的值的下标\n",
    "    for i in range(len(nums)):\n",
    "        if nums[i] not in dic:\n",
    "            dic[target - nums[i]] = i\n",
    "        else:\n",
    "            return (dic[nums[i]], i)\n",
    "\n",
    "num = [4,1,2,5,3,1,2]\n",
    "target = 5\n",
    "twoSum(num, target)"
   ]
  },
  {
   "cell_type": "code",
   "execution_count": 5,
   "metadata": {},
   "outputs": [
    {
     "data": {
      "text/plain": [
       "(4, 1)"
      ]
     },
     "execution_count": 5,
     "metadata": {},
     "output_type": "execute_result"
    }
   ],
   "source": [
    "# 找对应值版本\n",
    "def twoSum(nums, target):\n",
    "    dic = {} # 与以下标为i的值互补的值：下标i的值 or 下标i对应的值:与下标i对应的值互补的值\n",
    "    for i in range(len(nums)):\n",
    "        if nums[i] not in dic:\n",
    "            dic[target - nums[i]] = nums[i]\n",
    "        else:\n",
    "            return (dic[nums[i]], nums[i])\n",
    "\n",
    "num = [4,1,2,5,3,1,2]\n",
    "target = 5\n",
    "twoSum(num, target)"
   ]
  },
  {
   "cell_type": "markdown",
   "metadata": {},
   "source": [
    "# Solution of two pointers:\n",
    "左右两端各设置一个指针\n",
    "\n",
    "nums[l]+ nums[r] = target: 返回(l, r)\n",
    "\n",
    "nums[l]+ nums[r] < target: 左指针右移使得整体变大\n",
    "\n",
    "nums[l]+ nums[r] > target: 右指针左移使得整体变小"
   ]
  },
  {
   "cell_type": "code",
   "execution_count": 2,
   "metadata": {},
   "outputs": [
    {
     "name": "stdout",
     "output_type": "stream",
     "text": [
      "0 5\n"
     ]
    },
    {
     "data": {
      "text/plain": [
       "(0, 5)"
      ]
     },
     "execution_count": 2,
     "metadata": {},
     "output_type": "execute_result"
    }
   ],
   "source": [
    "# 找对应下标版本\n",
    "# Solution2: 双指针\n",
    "def twoSum2(nums, target):\n",
    "    l, r = 0, len(nums)-1\n",
    "    while l < r:\n",
    "        curSum = nums[l] + nums[r]\n",
    "        if curSum == target:\n",
    "            print(l, r)\n",
    "            return (l, r)\n",
    "        elif curSum < target:\n",
    "            l += 1\n",
    "        else:\n",
    "            r -= 1\n",
    "    return ()\n",
    "\n",
    "num = [4,1,2,5,3,1,2]\n",
    "target = 5\n",
    "twoSum2(num, target)"
   ]
  },
  {
   "cell_type": "markdown",
   "metadata": {},
   "source": [
    "### <a id='Ex2'> Ex.2 Three Sum  </a>\n",
    "\n",
    "Given an array S of n integers, are there elements a, b, c in S such that a + b + c = 0? Find all unique triplets in the array which gives the sum of zero."
   ]
  },
  {
   "cell_type": "markdown",
   "metadata": {},
   "source": [
    "# Solutions:\n",
    "可以参照twoSum的做法，区别是先固定下来一个值，比如先固定第一个值，然后在剩下的值中使用twoSum的做法\n",
    "\n",
    "不过这一题中注意重复的问题"
   ]
  },
  {
   "cell_type": "code",
   "execution_count": 18,
   "metadata": {},
   "outputs": [
    {
     "data": {
      "text/plain": [
       "[(-4, 2, 2), (-1, -1, 2), (-1, 0, 1)]"
      ]
     },
     "execution_count": 18,
     "metadata": {},
     "output_type": "execute_result"
    }
   ],
   "source": [
    "def threeSum(nums, target):\n",
    "    res = []\n",
    "    nums.sort() # 一定要先排序，不然无法就不适用于two pointers的规则了\n",
    "    for i in range(len(nums) - 2): # 注意这里要写len(nums) - 2，否则会越界\n",
    "        if i > 0 and nums[i] == nums[i-1]: # 此处不能写nums[i] == nums[i+1]，因为可能会过滤掉可能的解法，比如从（1，1，1，2）中找3\n",
    "            continue\n",
    "        l, r = i+1, len(nums) - 1\n",
    "        while l < r:\n",
    "            curSum = nums[i] + nums[l] + nums[r]\n",
    "            if curSum == target:\n",
    "                res.append((nums[i], nums[l], nums[r]))\n",
    "                while l < r and nums[l] == nums[l+1]:\n",
    "                    l += 1\n",
    "                while l < r and nums[r] == nums[r-1]:\n",
    "                    r -= 1\n",
    "                # 要补上下面这两句，不然一旦找到一个答案会原地不动\n",
    "                l +=1 \n",
    "                r -= 1\n",
    "            elif curSum < target:\n",
    "                l += 1\n",
    "            else:\n",
    "                r -= 1\n",
    "                \n",
    "    return res\n",
    "\n",
    "nums = [-1, 0, 1, 2, -1, -4, 2, -1, 2]\n",
    "threeSum(nums, 0)"
   ]
  },
  {
   "cell_type": "markdown",
   "metadata": {},
   "source": [
    "### <a id='Ex3'> Ex.3 Four Sum  </a>\n",
    "\n",
    "Given an array S of n integers, are there elements a, b, c, d in S such that a + b + c + d = 0? Find all unique combinations in the array which gives the sum of zero."
   ]
  },
  {
   "cell_type": "code",
   "execution_count": 21,
   "metadata": {},
   "outputs": [
    {
     "data": {
      "text/plain": [
       "[(-4, 0, 2, 2), (-1, -1, 0, 2)]"
      ]
     },
     "execution_count": 21,
     "metadata": {},
     "output_type": "execute_result"
    }
   ],
   "source": [
    "# 参照threeSum的做法，先固定前两个值，然后对后面的使用two pointers\n",
    "# 时间复杂度为O(n^3)\n",
    "def fourSum(num, target):\n",
    "    num.sort()\n",
    "    res = []\n",
    "    for i in range(len(num) - 3):\n",
    "        if i > 0 and num[i] == num[i-1]:\n",
    "            continue\n",
    "        for j in range(i + 1, len(num) - 2):\n",
    "            if j > i + 1 and num[j] == num[j-1]:\n",
    "                continue\n",
    "            l, r = j + 1, len(num) - 1\n",
    "            while l < r:\n",
    "                s = num[i] + num[j] + num[l] + num[r]\n",
    "                if s == target:\n",
    "                    res.append((num[i], num[j], num[l], num[r]))\n",
    "                    while l < r and num[l] == num[l+1]:\n",
    "                        l += 1\n",
    "                    while l < r and num[r] == num[r-1]:\n",
    "                        r -= 1\n",
    "                    l += 1\n",
    "                    r -= 1\n",
    "                elif s < target:\n",
    "                        l += 1\n",
    "                else:\n",
    "                    r -= 1\n",
    "    return res\n",
    "\n",
    "nums = [-1, 0, 1, 2, -1, -4, 2, -1, 2]\n",
    "fourSum(nums, 0)"
   ]
  },
  {
   "cell_type": "markdown",
   "metadata": {},
   "source": [
    "# Solution2:\n",
    "可以先用dict去存储nums中任意两个数的和及这两个数，{num[p]+num[q] : (p, q)}；然后对num两层遍历，在dict中找到target-num[i]-num[j]；同时为了\n",
    "\n",
    "保证不重复，所以针对dict中提取的第一个数下标即q得大于j。因为这样可以保证i一定是第一个数，j为第二个数，p,q分别为第三和第四个数；\n",
    "\n",
    "同时，由于res是set，也可以避免重复"
   ]
  },
  {
   "cell_type": "code",
   "execution_count": 22,
   "metadata": {},
   "outputs": [
    {
     "data": {
      "text/plain": [
       "[[-1, -1, 2, 2], [-4, 0, 2, 2]]"
      ]
     },
     "execution_count": 22,
     "metadata": {},
     "output_type": "execute_result"
    }
   ],
   "source": [
    "def fourSum2(num, target):\n",
    "    num.sort()\n",
    "    res = set()\n",
    "    dic = {}\n",
    "    \n",
    "    for p in range(len(num)):\n",
    "        for q in range(p+1, len(num)):\n",
    "            if num[p] + num[q] not in dic:\n",
    "                dic[num[p]+num[q]] = [(p,q)]\n",
    "            else:\n",
    "                dic[num[p]+num[q]].append((p,q))\n",
    "    \n",
    "    for i in range(len(num)):\n",
    "        for j in range(i+1, len(num)):\n",
    "            tmp = target - num[i] - num[j]\n",
    "            if tmp in dic:\n",
    "                for k in dic[tmp]:\n",
    "                    if k[0] > j:\n",
    "                        res.add((num[i], num[j], num[p], num[q]))\n",
    "    \n",
    "    return [list(i) for i in res]\n",
    "\n",
    "nums = [-1, 0, 1, 2, -1, -4, 2, -1, 2]\n",
    "fourSum2(nums, 0)"
   ]
  },
  {
   "cell_type": "markdown",
   "metadata": {},
   "source": [
    "### <a id='Ex5'> Ex.5 Minimum Difference Between Two Sorted Arrays </a>\n",
    "\n",
    "Given two arrays sorted in ascending order, find the absolute minimum difference between any pair of elements |a-b| such that a is from one array and b is from another array."
   ]
  },
  {
   "cell_type": "code",
   "execution_count": 25,
   "metadata": {},
   "outputs": [
    {
     "data": {
      "text/plain": [
       "0"
      ]
     },
     "execution_count": 25,
     "metadata": {},
     "output_type": "execute_result"
    }
   ],
   "source": [
    "import sys\n",
    "def printClosest(arr1, arr2):\n",
    "    diff = sys.maxsize\n",
    "    \n",
    "    p1 = 0\n",
    "    p2 = 0\n",
    "    \n",
    "    while p1 < len(arr1) and p2 < len(arr2):\n",
    "        if abs(arr1[p1] - arr2[p2]) < diff:\n",
    "            diff = abs(arr1[p1] - arr2[p2])\n",
    "        if arr1[p1] == arr2[p2]:\n",
    "            return 0\n",
    "        elif arr1[p1] < arr2[p2]:\n",
    "            p1 += 1\n",
    "        else:\n",
    "            p2 += 1\n",
    "            \n",
    "    return diff\n",
    "\n",
    "arr1 = [1,3,6,8,9]\n",
    "arr2 = [4,7,8,10]\n",
    "printClosest(arr1, arr2)"
   ]
  },
  {
   "cell_type": "markdown",
   "metadata": {},
   "source": [
    "### <a id='Ex6'> Ex. 6 Continuous Maximum Subarray </a>\n",
    "\n",
    "Given an array having N positive integers, find the contiguous subarray having sum as great as possible, but not greater than M."
   ]
  },
  {
   "cell_type": "markdown",
   "metadata": {},
   "source": [
    "# Solution:\n",
    "使用two pointers的做法，一前一后两个指针，当区间和小于celling的时候，前指针前进，反之就后指针前进"
   ]
  },
  {
   "cell_type": "code",
   "execution_count": 36,
   "metadata": {},
   "outputs": [
    {
     "name": "stdout",
     "output_type": "stream",
     "text": [
      "[0, 1]\n",
      "[2, 2]\n",
      "[2, 3]\n",
      "[2, 4]\n"
     ]
    },
    {
     "data": {
      "text/plain": [
       "[2, 4]"
      ]
     },
     "execution_count": 36,
     "metadata": {},
     "output_type": "execute_result"
    }
   ],
   "source": [
    "def max_subarray(numbers, ceiling):\n",
    "    if len(numbers) < 2:\n",
    "        return numbers\n",
    "    p1 = p2 = 0\n",
    "    sec = [p1, p2]\n",
    "    \n",
    "    s = numbers[0]\n",
    "    res = s if s < ceiling else 0\n",
    "    resSec = sec[:]\n",
    "    while p2 < len(numbers) - 1:\n",
    "        if s == ceiling:\n",
    "            return sec\n",
    "        elif s < ceiling:\n",
    "            p2 += 1\n",
    "            s += numbers[p2]\n",
    "            sec[1] = p2\n",
    "        else:\n",
    "            s -= numbers[p1]\n",
    "            p1 += 1\n",
    "            sec[0] = p1\n",
    "        if s < ceiling and res < s:\n",
    "            res = s\n",
    "            resSec = sec[:] # first error：一定要加上[:]，否则resSec会一直跟着sec变化\n",
    "            print(resSec)\n",
    "    \n",
    "    # 当p2到顶之后，对剩余的窗口进行处理\n",
    "    while s > ceiling and p1 < len(numbers):\n",
    "        s -= numbers[p1]\n",
    "        p1 += 1\n",
    "        sec[0] = p1\n",
    "    \n",
    "    if res < s:\n",
    "        resSec = sec\n",
    "          \n",
    "    return resSec\n",
    "\n",
    "a = [4, 7, 12, 1, 2, 3, 6]\n",
    "m = 16\n",
    "result = max_subarray(a, m)\n",
    "result"
   ]
  },
  {
   "cell_type": "markdown",
   "metadata": {},
   "source": [
    "# Two Pointers II "
   ]
  },
  {
   "cell_type": "markdown",
   "metadata": {},
   "source": [
    "### <a id='Ex1'> Ex.1 Majority Element </a>\n",
    "\n",
    "Given an array of size n, find the majority element. The majority element is the element that appears more than ⌊ n/2 ⌋ times."
   ]
  },
  {
   "cell_type": "markdown",
   "metadata": {},
   "source": [
    "# Solution1:\n",
    "排序法：由于主元素出现次数超过一半，因此只需要排序好后取中间元素即可 O(nlogn)\n",
    "# Solution2：\n",
    "HashTable:O(n)\n",
    "# Solution3:\n",
    "Boyer-Moore Voting Algorithm 同归于尽算法：两个两个元素取，如果两个元素不同就两个都删掉，相同就留下，最后剩下的一定是主元素\n"
   ]
  },
  {
   "cell_type": "code",
   "execution_count": 38,
   "metadata": {
    "collapsed": true
   },
   "outputs": [],
   "source": [
    "# Boyer-Moore Voting Algorithm\n",
    "# 维护一个count和一个candidate,遍历整个数组，如果count为0则将candidate变成当前元素i同时count+1，\n",
    "# 如果count不为零，如果当前元素与candidate相同则count+1,否则count-1\n",
    "\n",
    "def majority(alist):\n",
    "    candidate = 0\n",
    "    count = 0\n",
    "    for i in alist:\n",
    "        if count == 0:\n",
    "            candidate = i\n",
    "            count = 1\n",
    "        else:\n",
    "            if candidate == i:\n",
    "                count += 1\n",
    "            else:\n",
    "                count -= 1\n",
    "    return candidate"
   ]
  },
  {
   "cell_type": "markdown",
   "metadata": {},
   "source": [
    "### <a id='Ex2'> Ex.2 Majority Element II </a>\n",
    "\n",
    "Given an integer array of size n, find all elements that appear more than ⌊ n/3 ⌋ times."
   ]
  },
  {
   "cell_type": "code",
   "execution_count": 39,
   "metadata": {
    "collapsed": true
   },
   "outputs": [],
   "source": [
    "# 同样使用同归于尽法，维持candi1,candi2,和count1,count2。遍历数组,对于count1和count2的处理方式同上\n",
    "# 注意一点，如果i与candi1相同，count1+1，count2不变，反过来一样\n",
    "def majority2(alist):\n",
    "    candidate1 = candidate2 = 0\n",
    "    count1 = count2 = 0\n",
    "    for i in alist:\n",
    "        if candidate1 == i:\n",
    "            count1 += 1\n",
    "        elif candidate2 == i:\n",
    "            count2 += 1\n",
    "        elif count1 == 0:\n",
    "            candidate1 = i\n",
    "            count1 = 1\n",
    "        elif count2 == 0:\n",
    "            candidate2 = i\n",
    "            count2 = 1\n",
    "        else:\n",
    "            count1 -= 1\n",
    "            count2 -= 1\n",
    "    return [c for c in (candidate1, candidate2) if c is not None and alist.count(c) > len(alist) / 3]"
   ]
  },
  {
   "cell_type": "markdown",
   "metadata": {},
   "source": [
    "### <a id='Ex3'> Ex.3 Sort Color </a>\n",
    "\n",
    "Given an array with n objects colored red, white or blue, sort them so that objects of the same color are adjacent, with the colors in the order red, white and blue.\n",
    "\n",
    "Here, we will use the integers 0, 1, and 2 to represent the color red, white, and blue respectively."
   ]
  },
  {
   "cell_type": "code",
   "execution_count": 45,
   "metadata": {},
   "outputs": [
    {
     "data": {
      "text/plain": [
       "[0, 0, 1, 1, 2, 2]"
      ]
     },
     "execution_count": 45,
     "metadata": {},
     "output_type": "execute_result"
    }
   ],
   "source": [
    "# count sort\n",
    "def sortColors(nums):\n",
    "    count = {}\n",
    "    for num in nums:\n",
    "        if num not in count:\n",
    "            count[num] = 1\n",
    "        else:\n",
    "            count[num] += 1\n",
    "    \n",
    "    newNum = []\n",
    "    for k in [0, 1, 2]:\n",
    "        if k in count:\n",
    "            newNum = newNum + [k]*count[k] \n",
    "    return newNum\n",
    "\n",
    "nums = [2,0,2,1,1,0]\n",
    "newNum = sortColors(nums)\n",
    "newNum"
   ]
  },
  {
   "cell_type": "code",
   "execution_count": 4,
   "metadata": {},
   "outputs": [
    {
     "data": {
      "text/plain": [
       "[0, 0, 1, 1, 2, 2]"
      ]
     },
     "execution_count": 4,
     "metadata": {},
     "output_type": "execute_result"
    }
   ],
   "source": [
    "# 可以使用左右指针的方法，左指针指在已排序好的最后一个0后面的元素上，右指针指在已排序好的第一个2前面的元素上。\n",
    "# 遍历数组，当i为0的时候，将l与i互换元素，l+1,i+1；当i为2的时候，让i与r交换，同时r往前走到已排序好的第一个2前面的元素上\n",
    "def sortColors2(nums):\n",
    "    l, r, i = 0, len(nums) - 1, 0\n",
    "    while i < r:\n",
    "        while nums[l] == 0:\n",
    "            l += 1\n",
    "        while nums[r] == 2:\n",
    "            r -= 1\n",
    "        if i < l: # 让i始终在l右边\n",
    "            i = l\n",
    "        if nums[i] == 0:\n",
    "            nums[l], nums[i] = nums[i], nums[l]\n",
    "            l += 1\n",
    "        elif nums[i] == 2:\n",
    "            nums[r], nums[i] = nums[i], nums[r]\n",
    "            r -= 1\n",
    "            continue\n",
    "        i += 1\n",
    "    return nums\n",
    "\n",
    "nums = [2,0,2,1,1,0]\n",
    "sortColors2(nums)\n",
    "nums"
   ]
  },
  {
   "cell_type": "markdown",
   "metadata": {},
   "source": [
    "### <a id='Ex4'> Ex.4 Find K Closest Elements </a>\n",
    "\n",
    "Given a sorted array, two integers k and x, find the k closest elements to x in the array. The result should also be sorted in ascending order. If there is a tie, the smaller elements are always preferred."
   ]
  },
  {
   "cell_type": "code",
   "execution_count": 55,
   "metadata": {},
   "outputs": [
    {
     "name": "stdout",
     "output_type": "stream",
     "text": [
      "3\n",
      "3\n",
      "3\n"
     ]
    },
    {
     "data": {
      "text/plain": [
       "[1, 2, 3]"
      ]
     },
     "execution_count": 55,
     "metadata": {},
     "output_type": "execute_result"
    }
   ],
   "source": [
    "# 先找到k或者比k大且离k最近的元素\n",
    "import bisect\n",
    "def findClosestElements(alist, k, x):\n",
    "    #在alist中查找x，x存在时返回x左侧的位置，x不存在返回应该插入的位置..这是3存在于列表中，返回左侧位置１\n",
    "    left = right = bisect.bisect_left(alist, x)\n",
    "    while right - left < k:\n",
    "        if left == 0:\n",
    "            return alist[:k]\n",
    "        if right == len(alist) - 1:\n",
    "            return alist[-k:]\n",
    "        if x - alist[left - 1] <= alist[right] - x: # 每次都是left-1和right进行比较，谁更接近取谁\n",
    "            left -= 1\n",
    "        else:\n",
    "            right += 1\n",
    "        print(right)\n",
    "    \n",
    "    return alist[left:right]\n",
    "\n",
    "alist = [1,2,3,7,8,9]\n",
    "findClosestElements(alist, 3, 4)"
   ]
  },
  {
   "cell_type": "markdown",
   "metadata": {},
   "source": [
    "### <a id='Ex6'> Ex.6 Container With Most Water </a>\n",
    "\n",
    "Given n non-negative integers a1, a2, ..., an, where each represents a point at coordinate (i, ai). n vertical lines are drawn such that the two endpoints of line i is at (i, ai) and (i, 0). Find two lines, which together with x-axis forms a container, such that the container contains the most water."
   ]
  },
  {
   "cell_type": "code",
   "execution_count": 56,
   "metadata": {},
   "outputs": [
    {
     "data": {
      "text/plain": [
       "6"
      ]
     },
     "execution_count": 56,
     "metadata": {},
     "output_type": "execute_result"
    }
   ],
   "source": [
    "# 定义左右指针，遍历数组，计算当前的容量并与global容量比较，然后改变global容量。对于左右指针，哪边的height小，哪边就往中间走一步。\n",
    "def maxArea(height):\n",
    "    res = 0\n",
    "    l, r = 0, len(height) - 1\n",
    "    while l < r:\n",
    "        water = min(height[l], height[r]) * (r - l)\n",
    "        res = max(res, water)\n",
    "        if height[l] < height[r]:\n",
    "            l += 1\n",
    "        else:\n",
    "            r -= 1\n",
    "    return res\n",
    "\n",
    "height = [1, 5, 4, 3]\n",
    "maxArea(height)"
   ]
  },
  {
   "cell_type": "code",
   "execution_count": null,
   "metadata": {
    "collapsed": true
   },
   "outputs": [],
   "source": []
  }
 ],
 "metadata": {
  "kernelspec": {
   "display_name": "Python 3",
   "language": "python",
   "name": "python3"
  },
  "language_info": {
   "codemirror_mode": {
    "name": "ipython",
    "version": 3
   },
   "file_extension": ".py",
   "mimetype": "text/x-python",
   "name": "python",
   "nbconvert_exporter": "python",
   "pygments_lexer": "ipython3",
   "version": "3.6.1"
  }
 },
 "nbformat": 4,
 "nbformat_minor": 2
}
