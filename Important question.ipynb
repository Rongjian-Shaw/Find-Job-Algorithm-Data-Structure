{
 "cells": [
  {
   "cell_type": "markdown",
   "metadata": {},
   "source": [
    "# Recursion"
   ]
  },
  {
   "cell_type": "markdown",
   "metadata": {},
   "source": [
    "** Ex.1 Subset **\n",
    "\n",
    "Given a set of distinct integers, nums, return all possible subsets"
   ]
  },
  {
   "cell_type": "code",
   "execution_count": 3,
   "metadata": {},
   "outputs": [
    {
     "data": {
      "text/plain": [
       "[[], [1], [2], [1, 2], [3], [1, 3], [2, 3], [1, 2, 3]]"
      ]
     },
     "execution_count": 3,
     "metadata": {},
     "output_type": "execute_result"
    }
   ],
   "source": [
    "def subset(nums):\n",
    "    res = [[]]\n",
    "    for num in nums:\n",
    "        for element in res[:]:\n",
    "            x = element[:] # 这句话很重要，因为我们并不想改变res[:]中的元素\n",
    "            x.append(num)\n",
    "            res.append(x)\n",
    "    return res\n",
    "\n",
    "subset([1,2,3])"
   ]
  },
  {
   "cell_type": "code",
   "execution_count": 5,
   "metadata": {},
   "outputs": [
    {
     "data": {
      "text/plain": [
       "[[], [1], [1, 2], [1, 2, 3], [1, 3], [2], [2, 3], [3]]"
      ]
     },
     "execution_count": 5,
     "metadata": {},
     "output_type": "execute_result"
    }
   ],
   "source": [
    "def subset_recursive(nums):\n",
    "    res = []\n",
    "    lst = []\n",
    "    subset_recursive_helper(nums, res, lst, 0)\n",
    "    return res\n",
    "\n",
    "def subset_recursive_helper(nums, res, lst, pos):\n",
    "    res.append(lst[:])\n",
    "    for i in range(pos, len(nums)):\n",
    "        lst.append(nums[i])\n",
    "        subset_recursive_helper(nums, res, lst, i + 1)\n",
    "        lst.pop()\n",
    "\n",
    "subset_recursive([1, 2, 3])"
   ]
  },
  {
   "cell_type": "markdown",
   "metadata": {},
   "source": [
    "** Ex.2 Subset II **\n",
    "\n",
    "Given a collection of integers that might contain duplicates, nums, return all possible subsets."
   ]
  },
  {
   "cell_type": "code",
   "execution_count": 8,
   "metadata": {},
   "outputs": [
    {
     "data": {
      "text/plain": [
       "[[], [1], [1, 2], [1, 2, 2], [2], [2, 2]]"
      ]
     },
     "execution_count": 8,
     "metadata": {},
     "output_type": "execute_result"
    }
   ],
   "source": [
    "def subset_recursive(nums):\n",
    "    res = []\n",
    "    lst = []\n",
    "    nums.sort()\n",
    "    subset_recursive_helper(nums, res, lst, 0)\n",
    "    return res\n",
    "\n",
    "def subset_recursive_helper(nums, res, lst, pos):\n",
    "    res.append(lst[:])\n",
    "    for i in range(pos, len(nums)):\n",
    "        #需要 i != pos， 因为当i == pos and nums[i] == nums[i - 1]，这意味着这个数第一次出现\n",
    "        if i != pos and nums[i] == nums[i - 1]: \n",
    "            continue\n",
    "        lst.append(nums[i])\n",
    "        subset_recursive_helper(nums, res, lst, i + 1)\n",
    "        lst.pop()\n",
    "        \n",
    "subset_recursive([1, 2, 2])"
   ]
  },
  {
   "cell_type": "markdown",
   "metadata": {},
   "source": [
    "** Ex.3 Permutation **\n",
    "\n",
    "Given abc:\n",
    "\n",
    "Output: bca cba cab acb bac abc"
   ]
  },
  {
   "cell_type": "code",
   "execution_count": 14,
   "metadata": {},
   "outputs": [
    {
     "name": "stdout",
     "output_type": "stream",
     "text": [
      "123\n",
      "132\n",
      "213\n",
      "231\n",
      "312\n",
      "321\n"
     ]
    }
   ],
   "source": [
    "def perm(res, nums):\n",
    "    if len(nums) == 0:\n",
    "        print(res)\n",
    "    for i in range(len(nums)):\n",
    "        tmp = res + str(nums[i])\n",
    "        perm(tmp, nums[:i] + nums[i + 1:])\n",
    "\n",
    "perm('', [1,2,3])"
   ]
  },
  {
   "cell_type": "code",
   "execution_count": 21,
   "metadata": {},
   "outputs": [
    {
     "data": {
      "text/plain": [
       "[[3, 2, 1], [2, 3, 1], [2, 1, 3], [3, 1, 2], [1, 3, 2], [1, 2, 3]]"
      ]
     },
     "execution_count": 21,
     "metadata": {},
     "output_type": "execute_result"
    }
   ],
   "source": [
    "'''\n",
    "见缝插针：\n",
    "[] -> [1] 只有一个空隙插入\n",
    "[1] -> [2, 1], [1, 2] 在1的左右两边插入\n",
    "[2, 1], [1, 2] -> [3, 2, 1], [2, 3, 1], [2, 1, 3], [3, 1, 2], [1, 3, 2], [1, 2, 3] 在[2, 1], [1, 2]各自的空隙中插入3\n",
    "'''\n",
    "def perm_iteration(nums):\n",
    "    perms = [[]]\n",
    "    for num in nums:\n",
    "        # 注意为何是new_perms不是new_perm，因为我们最后需要的perms中的每一个元素都是同长度的，所以不能往Perms中添加未完成的\n",
    "        new_perms = [] \n",
    "        for perm in perms:\n",
    "            for j in range(len(perm) + 1): # len(perm) + 1 是缝隙的个数\n",
    "                new_perms.append(perm[ :j] + [num] + perm[j: ])\n",
    "        perms = new_perms\n",
    "    return perms\n",
    "\n",
    "perm_iteration([1,2,3])"
   ]
  },
  {
   "cell_type": "code",
   "execution_count": 22,
   "metadata": {},
   "outputs": [
    {
     "name": "stdout",
     "output_type": "stream",
     "text": [
      "312\n"
     ]
    }
   ],
   "source": [
    "import math\n",
    "\n",
    "def getPermutation(n, k):\n",
    "    nums = [str(_) for _ in range(1,n+1)]\n",
    "    k -= 1\n",
    "    ans = \"\"\n",
    "    for i in range(n)[::-1]:\n",
    "        # 因为排列组合的顺序和阶乘有关，比如3个数的排列组合，那么以每个数开头的排列组合就有（3-1）！个，这一行是找出开头的数字\n",
    "        ans += nums.pop(k // math.factorial(i)) \n",
    "        # 接着找下一个开头的数字，因此要算出以第二位开头的数字中，排第几\n",
    "        k %= math.factorial(i)\n",
    "    return ans\n",
    "\n",
    "nums = [1, 2, 3]\n",
    "print(getPermutation(3,5))"
   ]
  },
  {
   "cell_type": "markdown",
   "metadata": {},
   "source": [
    "# Sorting"
   ]
  },
  {
   "cell_type": "markdown",
   "metadata": {},
   "source": [
    "## Quick Sort"
   ]
  },
  {
   "cell_type": "code",
   "execution_count": 27,
   "metadata": {},
   "outputs": [
    {
     "name": "stdout",
     "output_type": "stream",
     "text": [
      "[1, 2, 3, 4, 5, 6]\n"
     ]
    }
   ],
   "source": [
    "import random\n",
    "\n",
    "def partition(alist, left, right):\n",
    "    # get pivot randomly\n",
    "    pivotIndex = random.randint(left, right)\n",
    "    alist[left], alist[pivotIndex] = alist[pivotIndex], alist[left]\n",
    "    pivot = alist[left]\n",
    "    \n",
    "    while left < right:\n",
    "        while alist[right] > pivot and left < right:\n",
    "            right -= 1\n",
    "        alist[left] = alist[right]\n",
    "        while alist[left] < pivot and left < right:\n",
    "            left += 1\n",
    "        alist[right] = alist[left]\n",
    "    \n",
    "    alist[left] = pivot\n",
    "    return left\n",
    "\n",
    "def quickSort(alist, left, right):\n",
    "    if len(alist) < 0:\n",
    "        return -1\n",
    "    if left == right:\n",
    "        return alist\n",
    "    index = partition(alist, left, right)\n",
    "    if index > left:\n",
    "        quickSort(alist, left, index - 1)\n",
    "    if index < right:\n",
    "        quickSort(alist, index + 1, right)\n",
    "        \n",
    "    return alist\n",
    "\n",
    "alist = [6, 4, 5, 3, 2, 1]\n",
    "quickSort(alist, 0, len(alist) - 1)\n",
    "print(alist)"
   ]
  },
  {
   "cell_type": "markdown",
   "metadata": {},
   "source": [
    "# Binary Search"
   ]
  },
  {
   "cell_type": "code",
   "execution_count": 24,
   "metadata": {},
   "outputs": [
    {
     "name": "stdout",
     "output_type": "stream",
     "text": [
      "5 6\n"
     ]
    },
    {
     "data": {
      "text/plain": [
       "6"
      ]
     },
     "execution_count": 24,
     "metadata": {},
     "output_type": "execute_result"
    }
   ],
   "source": [
    "def bi_search_1st(alist, item):\n",
    "    if len(alist) == 0:\n",
    "        return -1\n",
    "    left = 0\n",
    "    right = len(alist) - 1\n",
    "    \n",
    "    while left + 1 < right: # 容易写成<=，如果写成<=则表明即使两者相邻，仍然会进入循环，但是无论是left还是right都没有Mid+-1,所以会死循环\n",
    "        mid = left + (right - left) // 2\n",
    "        if alist[mid] == item:\n",
    "            right = mid # used for find the 1st element in repeated elements\n",
    "        elif alist[mid] < item:\n",
    "            left = mid\n",
    "        else:\n",
    "            right = mid\n",
    "    print(left, right)\n",
    "    if item == alist[left]:\n",
    "        return left\n",
    "    if item == alist[right]:\n",
    "        return right\n",
    "\n",
    "alist = [1,4,6,8,10,13,17,19,32]\n",
    "item = 17\n",
    "bi_search_1st(alist, item) "
   ]
  },
  {
   "cell_type": "code",
   "execution_count": 35,
   "metadata": {},
   "outputs": [
    {
     "data": {
      "text/plain": [
       "array([[2],\n",
       "       [4],\n",
       "       [6]])"
      ]
     },
     "execution_count": 35,
     "metadata": {},
     "output_type": "execute_result"
    }
   ],
   "source": [
    "a = [[1,1,1],\n",
    "    [2,2,2],\n",
    "    [3,3,3]]\n",
    "\n",
    "b = [[1,1,1],\n",
    "    [2,2,2],\n",
    "    [3,3,3]]\n",
    "\n",
    "import numpy as np\n",
    "a = np.array(a)\n",
    "b = np.array(b)\n",
    "c = a[:, 1:2] + b[:, 0:1]\n",
    "c"
   ]
  },
  {
   "cell_type": "markdown",
   "metadata": {},
   "source": [
    "# Divide Conquer"
   ]
  },
  {
   "cell_type": "markdown",
   "metadata": {},
   "source": [
    "### <a id='Ex4'>Ex.4: Find Medium / Find kth Element</a>"
   ]
  },
  {
   "cell_type": "code",
   "execution_count": 2,
   "metadata": {},
   "outputs": [
    {
     "data": {
      "text/plain": [
       "3"
      ]
     },
     "execution_count": 2,
     "metadata": {},
     "output_type": "execute_result"
    }
   ],
   "source": [
    "def partition(arr):\n",
    "    if len(arr) == 1:\n",
    "        return 0\n",
    "    left = 0\n",
    "    right = len(arr) - 1\n",
    "    pivot = arr[left]\n",
    "    while left < right:\n",
    "        while left < right and arr[right] > pivot:\n",
    "            right -= 1\n",
    "        arr[left] = arr[right]\n",
    "        while left < right and arr[left] < pivot:\n",
    "            left += 1\n",
    "        arr[right] = arr[left]\n",
    "    arr[left] = pivot\n",
    "    return left\n",
    "\n",
    "def find_kth_element(arr, k):\n",
    "    if k > len(arr):\n",
    "        return -1\n",
    "    index = partition(arr)\n",
    "    if index == k:\n",
    "        return arr[index]\n",
    "    elif index < k:\n",
    "        return find_kth_element(arr[index + 1:], k - index - 1)\n",
    "    elif index > k:\n",
    "        return find_kth_element(arr[:index], k)\n",
    "\n",
    "arr = [3, 5, 1, 2, 4, 6]\n",
    "find_kth_element(arr, 2)"
   ]
  },
  {
   "cell_type": "markdown",
   "metadata": {},
   "source": [
    "### <a id='Ex5'>Ex.5: Count Inversions</a>\n",
    "\n",
    "** Define the number of inversion **\n",
    "    i, j form an inversion if a[i] > a[j] for any i < j, that is, if the two elements a[i] and a[j] are \"out of order\"."
   ]
  },
  {
   "cell_type": "code",
   "execution_count": 49,
   "metadata": {},
   "outputs": [
    {
     "data": {
      "text/plain": [
       "([2, 5, 6, 7], 2)"
      ]
     },
     "execution_count": 49,
     "metadata": {},
     "output_type": "execute_result"
    }
   ],
   "source": [
    "def merge(leftArr, rightArr):\n",
    "    mergedArr = []\n",
    "    count = 0 # count Inversions\n",
    "    left, right = 0, 0 # two pointers\n",
    "    while left < len(leftArr) and right < len(rightArr):\n",
    "        if leftArr[left] > rightArr[right]: # found\n",
    "            mergedArr.append(rightArr[right])\n",
    "            right += 1\n",
    "            count += len(leftArr) - left # because rightArr[right] < leftArr[left : len(left)]\n",
    "        else:\n",
    "            mergedArr.append(leftArr[left])\n",
    "            left += 1\n",
    "    mergedArr += leftArr[left:]\n",
    "    mergedArr += rightArr[right:]\n",
    "    return mergedArr, count\n",
    "    \n",
    "\n",
    "def CountInversions(arr):\n",
    "    if len(arr) < 2:\n",
    "        return arr, 0\n",
    "    left = 0\n",
    "    right = len(arr) - 1\n",
    "#     mid = left + (right - left) // 2 # this line is wrong, because when len(arr)==2, mid must = 0\n",
    "#     print(mid, len(arr))\n",
    "    mid = len(arr) // 2\n",
    "    leftArr, countLeft = CountInversions(arr[ : mid])\n",
    "    rightArr, countRight = CountInversions(arr[mid : ])\n",
    "    mergedArr, count = merge(leftArr, rightArr)\n",
    "    return mergedArr, countLeft + countRight + count\n",
    "\n",
    "array = [5, 6, 2, 7]\n",
    "CountInversions(array)\n",
    "\n"
   ]
  },
  {
   "cell_type": "markdown",
   "metadata": {
    "collapsed": true
   },
   "source": [
    "# LinkedList #"
   ]
  },
  {
   "cell_type": "markdown",
   "metadata": {},
   "source": [
    "### <a id='Ex6'>Ex.6 Reverse a Linked List</a>"
   ]
  },
  {
   "cell_type": "code",
   "execution_count": 7,
   "metadata": {},
   "outputs": [
    {
     "name": "stdout",
     "output_type": "stream",
     "text": [
      "1 3 5 7 9 \n",
      "\n"
     ]
    }
   ],
   "source": [
    "from LinkedList import LinkedList\n",
    "from LinkedList import Node\n",
    "\n",
    "def reverse(lst):\n",
    "    if lst.head == None or lst.head.next == None:\n",
    "        return lst\n",
    "    pre = None\n",
    "    cur = lst.head\n",
    "    while cur != None:\n",
    "        tail = cur.next\n",
    "        cur.next = pre\n",
    "        pre = cur\n",
    "        cur = tail\n",
    "    return pre\n",
    "\n",
    "lst = LinkedList()\n",
    "lst.add_last(1)\n",
    "lst.add_last(3)\n",
    "lst.add_last(5)\n",
    "lst.add_last(7)\n",
    "lst.add_last(9)\n",
    "lst.printlist()\n",
    "reverse(lst)\n",
    "lst.printlist()\n",
    "        "
   ]
  },
  {
   "cell_type": "markdown",
   "metadata": {
    "collapsed": true
   },
   "source": [
    "# Hash Table"
   ]
  },
  {
   "cell_type": "markdown",
   "metadata": {
    "collapsed": true
   },
   "source": [
    "### Ex.9 Subdomain Visit Count\n",
    "\n",
    "A website domain like \"scholar.google.com\" consists of various subdomains. At the top level, we have \"com\", at the next level, we have \"google.com\", and at the lowest level, \"scholar.google.com\". When we visit a domain like \"scholar.google.com\", we will also visit the parent domains \"google.com\" and \"com\" implicitly.\n",
    "\n",
    "Now, call a \"count-paired domain\" to be a count (representing the number of visits this domain received), followed by a space, followed by the address. An example of a count-paired domain might be \"9001 scholar.google.com\".\n",
    "\n",
    "We are given a list cpdomains of count-paired domains. We would like a list of count-paired domains, (in the same format as the input, and in any order), that explicitly counts the number of visits to each subdomain.\n",
    "\n",
    "Example 1:\n",
    "\n",
    "Input: \n",
    "\n",
    "[\"9001 scholar.google.com\"]\n",
    "\n",
    "Output: \n",
    "\n",
    "[\"9001 scholar.google.com\", \"9001 google.com\", \"9001 com\"]\n",
    "\n",
    "Explanation: \n",
    "\n",
    "We only have one website domain: \"discuss.leetcode.com\". As discussed above, the subdomain \"leetcode.com\" and \"com\" will also be visited. So they will all be visited 9001 times.\n",
    "\n",
    "Example 2:\n",
    "\n",
    "Input: \n",
    "\n",
    "[\"900 google.mail.com\", \"50 yahoo.com\", \"1 intel.mail.com\", \"5 wiki.org\"]\n",
    "\n",
    "Output: \n",
    "\n",
    "[\"901 mail.com\",\"50 yahoo.com\",\"900 google.mail.com\",\"5 wiki.org\",\"5 org\",\"1 intel.mail.com\",\"951 com\"]\n",
    "\n",
    "Explanation: \n",
    "\n",
    "We will visit \"google.mail.com\" 900 times, \"yahoo.com\" 50 times, \"intel.mail.com\" once and \"wiki.org\" 5 times. For the subdomains, we will visit \"mail.com\" 900 + 1 = 901 times, \"com\" 900 + 50 + 1 = 951 times, and \"org\" 5 times."
   ]
  },
  {
   "cell_type": "code",
   "execution_count": 3,
   "metadata": {},
   "outputs": [
    {
     "data": {
      "text/plain": [
       "Counter({'google.mail.com': 900,\n",
       "         'mail.com': 901,\n",
       "         'com': 951,\n",
       "         'yahoo.com': 50,\n",
       "         'intel.mail.com': 1,\n",
       "         'wiki.org': 5,\n",
       "         'org': 5})"
      ]
     },
     "execution_count": 3,
     "metadata": {},
     "output_type": "execute_result"
    }
   ],
   "source": [
    "from collections import Counter\n",
    "def subdomain(countDomains):\n",
    "    res = Counter()\n",
    "    for countDomain in countDomains:\n",
    "        count, domain = countDomain.split()\n",
    "        count = int(count)\n",
    "        subdomain = domain.split('.')\n",
    "        for i in range(len(subdomain)):\n",
    "            res['.'.join(subdomain[i:])] += count\n",
    "    return res\n",
    "\n",
    "cp = [\"9001 scholar.google.com\"]\n",
    "subdomain(cp)\n",
    "cp = [\"900 google.mail.com\", \"50 yahoo.com\", \"1 intel.mail.com\", \"5 wiki.org\"]\n",
    "subdomain(cp)"
   ]
  },
  {
   "cell_type": "markdown",
   "metadata": {},
   "source": [
    "# BST"
   ]
  },
  {
   "cell_type": "markdown",
   "metadata": {},
   "source": [
    "### <a id='Ex1'>Ex.1 Level Order Traversal </a>\n",
    "\n",
    "Given a binary tree, return the level order traversal of its nodes' values. (ie, from left to right, level by level).\n",
    "\n",
    "<img src=\"./images/ch14/t1.png\" width=\"75\"/>\n",
    "<img src=\"./images/ch14/t2.png\" width=\"75\"/>"
   ]
  },
  {
   "cell_type": "code",
   "execution_count": null,
   "metadata": {
    "collapsed": true
   },
   "outputs": [],
   "source": [
    "def levelOrder(bst):\n",
    "    if bst is None:\n",
    "        return\n",
    "    ret = []\n",
    "    level = [bst._root]\n",
    "    while len(level) > 0:\n",
    "        nextLevel = []\n",
    "        currentNode = []\n",
    "        for node in level:\n",
    "            currentNode.append(node._item)\n",
    "            if node._left:\n",
    "                nextLevel.append(node._left)\n",
    "            if node._right:\n",
    "                nextLevel.append(node._right)\n",
    "        ret.append(currentNode)\n",
    "        level = nextLevel\n",
    "    return ret"
   ]
  },
  {
   "cell_type": "markdown",
   "metadata": {},
   "source": [
    "# Graph"
   ]
  },
  {
   "cell_type": "markdown",
   "metadata": {},
   "source": [
    "## DFS"
   ]
  },
  {
   "cell_type": "code",
   "execution_count": null,
   "metadata": {
    "collapsed": true
   },
   "outputs": [],
   "source": [
    "# Recursion\n",
    "def DFS(S, G, visited, parent):\n",
    "    if S == G:\n",
    "        return \n",
    "    for nb in S.getConnections():\n",
    "        if nb not in visited():\n",
    "            visited.append(n.getVertexID())\n",
    "            parent[nb] = S\n",
    "            DFS(nb, G, visited, parent)\n",
    "\n",
    "# DFS_traversal:\n",
    "def DFS_t(S, G):\n",
    "    visited = [S.getVertexID()]\n",
    "    parent = []\n",
    "    stack = [S]\n",
    "    while stack:\n",
    "        cur = stack.pop()\n",
    "        if cur == G:\n",
    "            return \n",
    "        for nb in cur.getConnections():\n",
    "            if nb not in visited:\n",
    "                visited.append(nb.getVertexID())\n",
    "                parent[nb] = cur.getVertexID()\n",
    "                stack.append(nb)\n",
    "                "
   ]
  },
  {
   "cell_type": "markdown",
   "metadata": {},
   "source": [
    "## BFS"
   ]
  },
  {
   "cell_type": "code",
   "execution_count": 1,
   "metadata": {},
   "outputs": [
    {
     "ename": "SyntaxError",
     "evalue": "unexpected EOF while parsing (<ipython-input-1-866132cb5bae>, line 12)",
     "output_type": "error",
     "traceback": [
      "\u001b[1;36m  File \u001b[1;32m\"<ipython-input-1-866132cb5bae>\"\u001b[1;36m, line \u001b[1;32m12\u001b[0m\n\u001b[1;33m    \u001b[0m\n\u001b[1;37m    ^\u001b[0m\n\u001b[1;31mSyntaxError\u001b[0m\u001b[1;31m:\u001b[0m unexpected EOF while parsing\n"
     ]
    }
   ],
   "source": [
    "def DFS(S, G):\n",
    "    visited = [S.getVertexID()]\n",
    "    parent = {}\n",
    "    queue = deque()\n",
    "    queue.append(S)\n",
    "    while len(queue) != 0:\n",
    "        cur = queue.popleft()\n",
    "        if cur.getVertexID() == G.getVertexID():\n",
    "            return\n",
    "        for nb in cur.getConnections():\n",
    "            if nb not in visited:\n",
    "                visited.append(nb.getVertexID())\n",
    "                parent[nb.getVertexID()] = cur.getVertexID()\n",
    "                queue.append(nb)\n",
    "    "
   ]
  },
  {
   "cell_type": "markdown",
   "metadata": {},
   "source": [
    "# Google"
   ]
  },
  {
   "cell_type": "raw",
   "metadata": {},
   "source": [
    "Q1 - Problem Statement\n",
    "There are several projects, and each is denoted by a one letter nam. Each project may depend on one or more other projects (or none). For example, if project A depends on project B, then project A cannot copmlete before project B. Suppose you are given a list L, of K such dependencies, also a list D, of J projects that have been delayed. Output a list of all projects that will be delayed, in lexicographical (alphabetical) order. You can assume that a project, A, will be delayed if any project A depends on is delayed. The input is guatanteed to contain no circular dependencies.\n",
    "\n",
    "Input:\n",
    "Test cases will be provided in the following multiline format. The first line contains one integer, C, which is the number of test cases that will follow. each test case has the following format.\n",
    "\n",
    "The first line of a test case contains 2 integers, K and J, separated by a space. K is the number of dependencies, and J is the number of delayed projects. K lines follow, each with the format:\n",
    "\n",
    "X Y\n",
    "\n",
    "where X and Y are the names of projcts and project X depends on project Y, project names are single upper case English letters. Each pair gives a project dependency: Y must complete before X can complete. All K lines together form the list L of project dependencies.\n",
    "\n",
    "Finally, the last line contains J space-delimited project names (single letters, uppercase). This gives the list D of length J of projects that have been delayed. Each project in D is listed in the dependency list at least once.\n",
    "\n",
    "Limits\n",
    "Test case count: 1 <= C <= 20\n",
    "Number of dependencies: 1 <= K <= 100\n",
    "Number of projects: 1 <= J <= 26\n",
    "Project name: Each name is a signle uppercase letter from A to Z.\n",
    "Output\n",
    "For each test case, output one line containing the test case index, starting from 1, followed by a space-delimited list of projects that will be delayed, do not add any extra space at the end of each line of output. The list must be in lexicographically sorted order. The resulting line should be in this format:\n",
    "\n",
    "Case #i: X[1] X[2]...\n",
    "\n",
    "where i is the index of test case, starting from 1, and X[k] are the names of projects that were delayed.\n",
    "\n",
    "Sample Input\n",
    "3\n",
    "2 1\n",
    "B A\n",
    "C B\n",
    "B\n",
    "5 2\n",
    "P Q\n",
    "P S\n",
    "Q R\n",
    "R T\n",
    "S T\n",
    "Q S\n",
    "8 2\n",
    "B A\n",
    "C B\n",
    "C E\n",
    "D C\n",
    "D F\n",
    "E A\n",
    "F E\n",
    "G F\n",
    "B F\n",
    "Sample Output\n",
    "Case #1: B C\n",
    "Case #2: P Q S\n",
    "Case #3: B C D F G"
   ]
  },
  {
   "cell_type": "code",
   "execution_count": 13,
   "metadata": {},
   "outputs": [
    {
     "name": "stdout",
     "output_type": "stream",
     "text": [
      "3\n",
      "2 1\n"
     ]
    },
    {
     "ename": "ValueError",
     "evalue": "invalid literal for int() with base 10: ' '",
     "output_type": "error",
     "traceback": [
      "\u001b[1;31m---------------------------------------------------------------------------\u001b[0m",
      "\u001b[1;31mValueError\u001b[0m                                Traceback (most recent call last)",
      "\u001b[1;32m<ipython-input-13-ca4186c8118c>\u001b[0m in \u001b[0;36m<module>\u001b[1;34m\u001b[0m\n\u001b[0;32m     14\u001b[0m \u001b[1;33m\u001b[0m\u001b[0m\n\u001b[0;32m     15\u001b[0m     \u001b[1;31m# read data\u001b[0m\u001b[1;33m\u001b[0m\u001b[1;33m\u001b[0m\u001b[0m\n\u001b[1;32m---> 16\u001b[1;33m     \u001b[0mK\u001b[0m\u001b[1;33m,\u001b[0m \u001b[0mJ\u001b[0m \u001b[1;33m=\u001b[0m \u001b[1;33m[\u001b[0m\u001b[0mint\u001b[0m\u001b[1;33m(\u001b[0m\u001b[0mx\u001b[0m\u001b[1;33m)\u001b[0m \u001b[1;32mfor\u001b[0m \u001b[0mx\u001b[0m \u001b[1;32min\u001b[0m \u001b[0minput\u001b[0m\u001b[1;33m(\u001b[0m\u001b[1;33m)\u001b[0m\u001b[1;33m]\u001b[0m\u001b[1;33m\u001b[0m\u001b[0m\n\u001b[0m\u001b[0;32m     17\u001b[0m     \u001b[1;32mfor\u001b[0m \u001b[0mk\u001b[0m \u001b[1;32min\u001b[0m \u001b[0mrange\u001b[0m\u001b[1;33m(\u001b[0m\u001b[0mK\u001b[0m\u001b[1;33m)\u001b[0m\u001b[1;33m:\u001b[0m\u001b[1;33m\u001b[0m\u001b[0m\n\u001b[0;32m     18\u001b[0m         \u001b[0mproj\u001b[0m\u001b[1;33m,\u001b[0m \u001b[0mdep\u001b[0m \u001b[1;33m=\u001b[0m \u001b[1;33m[\u001b[0m\u001b[0mx\u001b[0m\u001b[1;33m.\u001b[0m\u001b[0mupper\u001b[0m\u001b[1;33m(\u001b[0m\u001b[1;33m)\u001b[0m \u001b[1;32mfor\u001b[0m \u001b[0mx\u001b[0m \u001b[1;32min\u001b[0m \u001b[0minput\u001b[0m\u001b[1;33m.\u001b[0m\u001b[0msplit\u001b[0m\u001b[1;33m(\u001b[0m\u001b[1;33m)\u001b[0m\u001b[1;33m]\u001b[0m\u001b[1;33m\u001b[0m\u001b[0m\n",
      "\u001b[1;32m<ipython-input-13-ca4186c8118c>\u001b[0m in \u001b[0;36m<listcomp>\u001b[1;34m(.0)\u001b[0m\n\u001b[0;32m     14\u001b[0m \u001b[1;33m\u001b[0m\u001b[0m\n\u001b[0;32m     15\u001b[0m     \u001b[1;31m# read data\u001b[0m\u001b[1;33m\u001b[0m\u001b[1;33m\u001b[0m\u001b[0m\n\u001b[1;32m---> 16\u001b[1;33m     \u001b[0mK\u001b[0m\u001b[1;33m,\u001b[0m \u001b[0mJ\u001b[0m \u001b[1;33m=\u001b[0m \u001b[1;33m[\u001b[0m\u001b[0mint\u001b[0m\u001b[1;33m(\u001b[0m\u001b[0mx\u001b[0m\u001b[1;33m)\u001b[0m \u001b[1;32mfor\u001b[0m \u001b[0mx\u001b[0m \u001b[1;32min\u001b[0m \u001b[0minput\u001b[0m\u001b[1;33m(\u001b[0m\u001b[1;33m)\u001b[0m\u001b[1;33m]\u001b[0m\u001b[1;33m\u001b[0m\u001b[0m\n\u001b[0m\u001b[0;32m     17\u001b[0m     \u001b[1;32mfor\u001b[0m \u001b[0mk\u001b[0m \u001b[1;32min\u001b[0m \u001b[0mrange\u001b[0m\u001b[1;33m(\u001b[0m\u001b[0mK\u001b[0m\u001b[1;33m)\u001b[0m\u001b[1;33m:\u001b[0m\u001b[1;33m\u001b[0m\u001b[0m\n\u001b[0;32m     18\u001b[0m         \u001b[0mproj\u001b[0m\u001b[1;33m,\u001b[0m \u001b[0mdep\u001b[0m \u001b[1;33m=\u001b[0m \u001b[1;33m[\u001b[0m\u001b[0mx\u001b[0m\u001b[1;33m.\u001b[0m\u001b[0mupper\u001b[0m\u001b[1;33m(\u001b[0m\u001b[1;33m)\u001b[0m \u001b[1;32mfor\u001b[0m \u001b[0mx\u001b[0m \u001b[1;32min\u001b[0m \u001b[0minput\u001b[0m\u001b[1;33m.\u001b[0m\u001b[0msplit\u001b[0m\u001b[1;33m(\u001b[0m\u001b[1;33m)\u001b[0m\u001b[1;33m]\u001b[0m\u001b[1;33m\u001b[0m\u001b[0m\n",
      "\u001b[1;31mValueError\u001b[0m: invalid literal for int() with base 10: ' '"
     ]
    }
   ],
   "source": [
    "n = int(input())\n",
    "\n",
    "\n",
    "def dfs(hashmap, dl, delayed, visited):\n",
    "    visited[dl] = True\n",
    "    delayed[dl] = True\n",
    "    try:\n",
    "        for nb in hashmap[dl]:\n",
    "            if not visited[nb]:\n",
    "                dfs(hashmap, nb, delayed, visited)\n",
    "    except:\n",
    "        pass\n",
    "\n",
    "\n",
    "for i in range(n):\n",
    "    visited = {x: False for x in 'ABCDEFGHIJKLMNOPQRSTUVWXYZ'}\n",
    "    delayed = {x: False for x in 'ABCDEFGHIJKLMNOPQRSTUVWXYZ'}\n",
    "    hashmap = {}\n",
    "\n",
    "    # read data\n",
    "    K, J = [int(x) for x in input().split()]\n",
    "    for k in range(K):\n",
    "        proj, dep = input().split()\n",
    "        if dep not in hashmap:\n",
    "            hashmap[dep] = [proj]\n",
    "        else:\n",
    "            hashmap[dep].append(proj)\n",
    "\n",
    "    for dl in input().split():\n",
    "        delayed[dl] = True\n",
    "\n",
    "    for dl in [x for x in delayed.keys() if delayed[x] == True]:\n",
    "        dfs(hashmap, dl, delayed, visited)\n",
    "\n",
    "    res = [sorted([x for x in delayed if delayed[x] == True])]\n",
    "    print(res)\n",
    "        \n",
    "    \n",
    "        "
   ]
  },
  {
   "cell_type": "markdown",
   "metadata": {},
   "source": [
    "## Google2"
   ]
  },
  {
   "cell_type": "code",
   "execution_count": null,
   "metadata": {
    "collapsed": true
   },
   "outputs": [],
   "source": [
    "Q2 - Problem Statement\n",
    "Relative sorting is defined as sorting 2 arrays (both in strictly ascending order) such that the only operation allowed is swapping i-th element of one array with the i-th element of the other array. An array is said to be in strictly ascending order if i-th element of the array is smaller than (i+1)-th element of the array. You are given 2 arrays of size N. Print the minimum number of swaps required to make both arrays relatively sorted.\n",
    "\n",
    "Note\n",
    "If the arrays are already relatively sorted, then print 0.\n",
    "If the arrays cannot be relatively sorted, then print 1.\n",
    "Input Format\n",
    "Input consist of 3 lines.\n",
    "\n",
    "First line consist of the size of each array, i.e. N.\n",
    "The next 2 lines contain N elements, each seperated by a space.\n",
    "Output Format\n",
    "The output will be an integer i.e., the minimum number of swaps required to make both the arrays relatively sorted.\n",
    "\n",
    "Constraints\n",
    "0 < N < 11000\n",
    "0 <= Element in array < 10^9\n",
    "Example Input\n",
    "4\n",
    "1 4 4 9\n",
    "2 3 5 10\n",
    "Example Output\n",
    "1\n",
    "Example Explanation\n",
    "Since the first array is not in strictly ascending order, (4 is occuriring twice),swapping 2nd element of the arrays (4 <-> 3) will result in both the arrays being relatively sorted:\n",
    "\n",
    "First array: 1 3 4 9\n",
    "Second array: 2 4 5 10\n",
    "Sample Input\n",
    "5\n",
    "2 1 6 5 8\n",
    "0 3 4 7 9\n",
    "Sample Output\n",
    "2"
   ]
  },
  {
   "cell_type": "code",
   "execution_count": 15,
   "metadata": {},
   "outputs": [
    {
     "name": "stdout",
     "output_type": "stream",
     "text": [
      "4\n",
      "1 4 4 9\n",
      "2 3 5 10\n"
     ]
    }
   ],
   "source": [
    "n = int(input())\n",
    "A = input().split()\n",
    "B = input().split()\n",
    "\n",
    "count = 0\n",
    "\n",
    "def gg2(n, A, B):\n",
    "    count = 0\n",
    "    for i in range(n - 1):\n",
    "        if A[i] >= A[i + 1] and B[i] >= A[i + 1] and A[i] >= B[i + 1] and B[i] >= B[i + 1]:\n",
    "            count = -1\n",
    "            return count\n",
    "        \n",
    "    for i in range(n - 1):\n",
    "        if A[i] >= A[i + 1] or B[i] >= B[i + 1]:\n",
    "            if B[i] < A[i + 1] and A[i] < B[i + 1]:\n",
    "                A[i], B[i] = B[i], A[i]\n",
    "                count += 1\n",
    "    return count\n",
    "\n",
    "\n",
    "            \n",
    "    "
   ]
  },
  {
   "cell_type": "code",
   "execution_count": null,
   "metadata": {
    "collapsed": true
   },
   "outputs": [],
   "source": [
    "n = int(input())\n",
    "A = [int(x) for x in input().split()]\n",
    "B = [int(x) for x in input().split()]\n",
    "\n",
    "def gg2(n, A, B):\n",
    "    count = 0\n",
    "\n",
    "    for i in range(n - 1):\n",
    "        if A[i] >= A[i + 1] or B[i] >= B[i + 1]:\n",
    "            if B[i] < A[i + 1] and A[i] < B[i + 1]:\n",
    "                A[i], B[i] = B[i], A[i]\n",
    "                count += 1\n",
    "    print(A, '\\n', B)\n",
    "\n",
    "    for i in range(n - 1):\n",
    "        if A[i] >= A[i + 1] or B[i] >= B[i + 1]:\n",
    "            print(A[i], A[i + 1], A[i] >= A[i + 1], B[i], B[i + 1], B[i] >= B[i + 1])\n",
    "            return -1\n",
    "    return count\n",
    "\n",
    "count = gg2(n, A, B)\n",
    "print(count)"
   ]
  }
 ],
 "metadata": {
  "kernelspec": {
   "display_name": "Python 3",
   "language": "python",
   "name": "python3"
  },
  "language_info": {
   "codemirror_mode": {
    "name": "ipython",
    "version": 3
   },
   "file_extension": ".py",
   "mimetype": "text/x-python",
   "name": "python",
   "nbconvert_exporter": "python",
   "pygments_lexer": "ipython3",
   "version": "3.6.1"
  }
 },
 "nbformat": 4,
 "nbformat_minor": 2
}
